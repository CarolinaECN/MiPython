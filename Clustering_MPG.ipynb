{
 "cells": [
  {
   "cell_type": "markdown",
   "id": "0a6fc1b6",
   "metadata": {},
   "source": [
    "## MODELOS DE CLUSTERING CON DATOS DE MPG    PENDIENTE!!!!!!"
   ]
  },
  {
   "cell_type": "code",
   "execution_count": 1,
   "id": "fe330940",
   "metadata": {},
   "outputs": [],
   "source": [
    "import pandas as pd\n",
    "import numpy as np"
   ]
  },
  {
   "cell_type": "code",
   "execution_count": 13,
   "id": "aa93a5d8",
   "metadata": {},
   "outputs": [],
   "source": [
    "df_mpg = pd.read_csv(r'C:\\Users\\carolina\\Desktop\\FormDataAnalyst\\Modelos\\MisModelos\\datos_visualizacion_mpg.csv')"
   ]
  },
  {
   "cell_type": "code",
   "execution_count": 14,
   "id": "6e30d09e",
   "metadata": {},
   "outputs": [
    {
     "data": {
      "text/plain": [
       "(398, 9)"
      ]
     },
     "execution_count": 14,
     "metadata": {},
     "output_type": "execute_result"
    }
   ],
   "source": [
    "df_mpg.shape"
   ]
  },
  {
   "cell_type": "code",
   "execution_count": 15,
   "id": "38f9ea07",
   "metadata": {},
   "outputs": [
    {
     "data": {
      "text/html": [
       "<div>\n",
       "<style scoped>\n",
       "    .dataframe tbody tr th:only-of-type {\n",
       "        vertical-align: middle;\n",
       "    }\n",
       "\n",
       "    .dataframe tbody tr th {\n",
       "        vertical-align: top;\n",
       "    }\n",
       "\n",
       "    .dataframe thead th {\n",
       "        text-align: right;\n",
       "    }\n",
       "</style>\n",
       "<table border=\"1\" class=\"dataframe\">\n",
       "  <thead>\n",
       "    <tr style=\"text-align: right;\">\n",
       "      <th></th>\n",
       "      <th>mpg</th>\n",
       "      <th>cylinders</th>\n",
       "      <th>displacement</th>\n",
       "      <th>horsepower</th>\n",
       "      <th>weight</th>\n",
       "      <th>acceleration</th>\n",
       "      <th>model_year</th>\n",
       "      <th>origin</th>\n",
       "      <th>name</th>\n",
       "    </tr>\n",
       "  </thead>\n",
       "  <tbody>\n",
       "    <tr>\n",
       "      <th>125</th>\n",
       "      <td>20.0</td>\n",
       "      <td>6</td>\n",
       "      <td>198.0</td>\n",
       "      <td>95.0</td>\n",
       "      <td>3102</td>\n",
       "      <td>16.5</td>\n",
       "      <td>74</td>\n",
       "      <td>usa</td>\n",
       "      <td>plymouth duster</td>\n",
       "    </tr>\n",
       "    <tr>\n",
       "      <th>74</th>\n",
       "      <td>13.0</td>\n",
       "      <td>8</td>\n",
       "      <td>302.0</td>\n",
       "      <td>140.0</td>\n",
       "      <td>4294</td>\n",
       "      <td>16.0</td>\n",
       "      <td>72</td>\n",
       "      <td>usa</td>\n",
       "      <td>ford gran torino (sw)</td>\n",
       "    </tr>\n",
       "    <tr>\n",
       "      <th>22</th>\n",
       "      <td>25.0</td>\n",
       "      <td>4</td>\n",
       "      <td>104.0</td>\n",
       "      <td>95.0</td>\n",
       "      <td>2375</td>\n",
       "      <td>17.5</td>\n",
       "      <td>70</td>\n",
       "      <td>europe</td>\n",
       "      <td>saab 99e</td>\n",
       "    </tr>\n",
       "    <tr>\n",
       "      <th>166</th>\n",
       "      <td>13.0</td>\n",
       "      <td>8</td>\n",
       "      <td>302.0</td>\n",
       "      <td>129.0</td>\n",
       "      <td>3169</td>\n",
       "      <td>12.0</td>\n",
       "      <td>75</td>\n",
       "      <td>usa</td>\n",
       "      <td>ford mustang ii</td>\n",
       "    </tr>\n",
       "    <tr>\n",
       "      <th>72</th>\n",
       "      <td>15.0</td>\n",
       "      <td>8</td>\n",
       "      <td>304.0</td>\n",
       "      <td>150.0</td>\n",
       "      <td>3892</td>\n",
       "      <td>12.5</td>\n",
       "      <td>72</td>\n",
       "      <td>usa</td>\n",
       "      <td>amc matador (sw)</td>\n",
       "    </tr>\n",
       "  </tbody>\n",
       "</table>\n",
       "</div>"
      ],
      "text/plain": [
       "      mpg  cylinders  displacement  horsepower  weight  acceleration  \\\n",
       "125  20.0          6         198.0        95.0    3102          16.5   \n",
       "74   13.0          8         302.0       140.0    4294          16.0   \n",
       "22   25.0          4         104.0        95.0    2375          17.5   \n",
       "166  13.0          8         302.0       129.0    3169          12.0   \n",
       "72   15.0          8         304.0       150.0    3892          12.5   \n",
       "\n",
       "     model_year  origin                   name  \n",
       "125          74     usa        plymouth duster  \n",
       "74           72     usa  ford gran torino (sw)  \n",
       "22           70  europe               saab 99e  \n",
       "166          75     usa        ford mustang ii  \n",
       "72           72     usa       amc matador (sw)  "
      ]
     },
     "execution_count": 15,
     "metadata": {},
     "output_type": "execute_result"
    }
   ],
   "source": [
    "df_mpg.sample(5)"
   ]
  },
  {
   "cell_type": "markdown",
   "id": "d529cce7",
   "metadata": {},
   "source": [
    "#### Voy a tratar la columna Name para separar la MARCA del nombre con la intencion de hacer una clasificacion de este dato "
   ]
  },
  {
   "cell_type": "code",
   "execution_count": 16,
   "id": "a3e6db20",
   "metadata": {},
   "outputs": [
    {
     "data": {
      "text/html": [
       "<div>\n",
       "<style scoped>\n",
       "    .dataframe tbody tr th:only-of-type {\n",
       "        vertical-align: middle;\n",
       "    }\n",
       "\n",
       "    .dataframe tbody tr th {\n",
       "        vertical-align: top;\n",
       "    }\n",
       "\n",
       "    .dataframe thead th {\n",
       "        text-align: right;\n",
       "    }\n",
       "</style>\n",
       "<table border=\"1\" class=\"dataframe\">\n",
       "  <thead>\n",
       "    <tr style=\"text-align: right;\">\n",
       "      <th></th>\n",
       "      <th>mpg</th>\n",
       "      <th>cylinders</th>\n",
       "      <th>displacement</th>\n",
       "      <th>horsepower</th>\n",
       "      <th>weight</th>\n",
       "      <th>acceleration</th>\n",
       "      <th>model_year</th>\n",
       "      <th>origin</th>\n",
       "      <th>name</th>\n",
       "      <th>marca</th>\n",
       "    </tr>\n",
       "  </thead>\n",
       "  <tbody>\n",
       "    <tr>\n",
       "      <th>275</th>\n",
       "      <td>17.0</td>\n",
       "      <td>6</td>\n",
       "      <td>163.0</td>\n",
       "      <td>125.0</td>\n",
       "      <td>3140</td>\n",
       "      <td>13.6</td>\n",
       "      <td>78</td>\n",
       "      <td>europe</td>\n",
       "      <td>volvo 264gl</td>\n",
       "      <td>VOLVO</td>\n",
       "    </tr>\n",
       "    <tr>\n",
       "      <th>22</th>\n",
       "      <td>25.0</td>\n",
       "      <td>4</td>\n",
       "      <td>104.0</td>\n",
       "      <td>95.0</td>\n",
       "      <td>2375</td>\n",
       "      <td>17.5</td>\n",
       "      <td>70</td>\n",
       "      <td>europe</td>\n",
       "      <td>saab 99e</td>\n",
       "      <td>SAAB</td>\n",
       "    </tr>\n",
       "    <tr>\n",
       "      <th>2</th>\n",
       "      <td>18.0</td>\n",
       "      <td>8</td>\n",
       "      <td>318.0</td>\n",
       "      <td>150.0</td>\n",
       "      <td>3436</td>\n",
       "      <td>11.0</td>\n",
       "      <td>70</td>\n",
       "      <td>usa</td>\n",
       "      <td>plymouth satellite</td>\n",
       "      <td>PLYMOUTH</td>\n",
       "    </tr>\n",
       "    <tr>\n",
       "      <th>38</th>\n",
       "      <td>14.0</td>\n",
       "      <td>8</td>\n",
       "      <td>350.0</td>\n",
       "      <td>165.0</td>\n",
       "      <td>4209</td>\n",
       "      <td>12.0</td>\n",
       "      <td>71</td>\n",
       "      <td>usa</td>\n",
       "      <td>chevrolet impala</td>\n",
       "      <td>CHEVROLET</td>\n",
       "    </tr>\n",
       "    <tr>\n",
       "      <th>350</th>\n",
       "      <td>34.7</td>\n",
       "      <td>4</td>\n",
       "      <td>105.0</td>\n",
       "      <td>63.0</td>\n",
       "      <td>2215</td>\n",
       "      <td>14.9</td>\n",
       "      <td>81</td>\n",
       "      <td>usa</td>\n",
       "      <td>plymouth horizon 4</td>\n",
       "      <td>PLYMOUTH</td>\n",
       "    </tr>\n",
       "  </tbody>\n",
       "</table>\n",
       "</div>"
      ],
      "text/plain": [
       "      mpg  cylinders  displacement  horsepower  weight  acceleration  \\\n",
       "275  17.0          6         163.0       125.0    3140          13.6   \n",
       "22   25.0          4         104.0        95.0    2375          17.5   \n",
       "2    18.0          8         318.0       150.0    3436          11.0   \n",
       "38   14.0          8         350.0       165.0    4209          12.0   \n",
       "350  34.7          4         105.0        63.0    2215          14.9   \n",
       "\n",
       "     model_year  origin                name      marca  \n",
       "275          78  europe         volvo 264gl      VOLVO  \n",
       "22           70  europe            saab 99e       SAAB  \n",
       "2            70     usa  plymouth satellite   PLYMOUTH  \n",
       "38           71     usa    chevrolet impala  CHEVROLET  \n",
       "350          81     usa  plymouth horizon 4   PLYMOUTH  "
      ]
     },
     "execution_count": 16,
     "metadata": {},
     "output_type": "execute_result"
    }
   ],
   "source": [
    "df_mpg['marca']=df_mpg['name'].apply(lambda x: x[0:x.index(' ')].upper() if ' ' in x else x.upper())\n",
    "df_mpg.sample(5)"
   ]
  },
  {
   "cell_type": "code",
   "execution_count": 17,
   "id": "087fdf1d",
   "metadata": {},
   "outputs": [
    {
     "data": {
      "text/plain": [
       "array(['CHEVROLET', 'BUICK', 'PLYMOUTH', 'AMC', 'FORD', 'PONTIAC',\n",
       "       'DODGE', 'TOYOTA', 'DATSUN', 'VOLKSWAGEN', 'PEUGEOT', 'AUDI',\n",
       "       'SAAB', 'BMW', 'CHEVY', 'HI', 'MERCURY', 'OPEL', 'FIAT',\n",
       "       'OLDSMOBILE', 'CHRYSLER', 'MAZDA', 'VOLVO', 'RENAULT', 'TOYOUTA',\n",
       "       'MAXDA', 'HONDA', 'SUBARU', 'CHEVROELT', 'CAPRI', 'VW',\n",
       "       'MERCEDES-BENZ', 'CADILLAC', 'MERCEDES', 'VOKSWAGEN', 'TRIUMPH',\n",
       "       'NISSAN'], dtype=object)"
      ]
     },
     "execution_count": 17,
     "metadata": {},
     "output_type": "execute_result"
    }
   ],
   "source": [
    "df_mpg['marca'].unique() "
   ]
  },
  {
   "cell_type": "markdown",
   "id": "3fbd1116",
   "metadata": {},
   "source": [
    " En esta lista hay errores de tipeo. Hay que transformar para corregirlos.\n",
    " \n",
    " Unificar las siguientes categorias de marca:\n",
    " \n",
    "        TOYOTA, TOYOUTA\n",
    "        VOLKSWAGEN, VW, VOKSWAGEN\n",
    "        MERCEDES-BENZ, MERCEDES\n",
    "        CHEVROLET, CHEVROELT"
   ]
  },
  {
   "cell_type": "code",
   "execution_count": 18,
   "id": "c1a2f7db",
   "metadata": {},
   "outputs": [
    {
     "data": {
      "text/html": [
       "<div>\n",
       "<style scoped>\n",
       "    .dataframe tbody tr th:only-of-type {\n",
       "        vertical-align: middle;\n",
       "    }\n",
       "\n",
       "    .dataframe tbody tr th {\n",
       "        vertical-align: top;\n",
       "    }\n",
       "\n",
       "    .dataframe thead th {\n",
       "        text-align: right;\n",
       "    }\n",
       "</style>\n",
       "<table border=\"1\" class=\"dataframe\">\n",
       "  <thead>\n",
       "    <tr style=\"text-align: right;\">\n",
       "      <th></th>\n",
       "      <th>mpg</th>\n",
       "      <th>cylinders</th>\n",
       "      <th>displacement</th>\n",
       "      <th>horsepower</th>\n",
       "      <th>weight</th>\n",
       "      <th>acceleration</th>\n",
       "      <th>model_year</th>\n",
       "      <th>origin</th>\n",
       "      <th>name</th>\n",
       "      <th>marca</th>\n",
       "    </tr>\n",
       "  </thead>\n",
       "  <tbody>\n",
       "    <tr>\n",
       "      <th>332</th>\n",
       "      <td>29.8</td>\n",
       "      <td>4</td>\n",
       "      <td>89.0</td>\n",
       "      <td>62.0</td>\n",
       "      <td>1845</td>\n",
       "      <td>15.3</td>\n",
       "      <td>80</td>\n",
       "      <td>europe</td>\n",
       "      <td>vokswagen rabbit</td>\n",
       "      <td>VOKSWAGEN</td>\n",
       "    </tr>\n",
       "  </tbody>\n",
       "</table>\n",
       "</div>"
      ],
      "text/plain": [
       "      mpg  cylinders  displacement  horsepower  weight  acceleration  \\\n",
       "332  29.8          4          89.0        62.0    1845          15.3   \n",
       "\n",
       "     model_year  origin              name      marca  \n",
       "332          80  europe  vokswagen rabbit  VOKSWAGEN  "
      ]
     },
     "execution_count": 18,
     "metadata": {},
     "output_type": "execute_result"
    }
   ],
   "source": [
    "df_mpg[df_mpg['marca']=='VOKSWAGEN']"
   ]
  },
  {
   "cell_type": "code",
   "execution_count": 19,
   "id": "b84f5030",
   "metadata": {},
   "outputs": [
    {
     "data": {
      "text/plain": [
       "Int64Index([297], dtype='int64')"
      ]
     },
     "execution_count": 19,
     "metadata": {},
     "output_type": "execute_result"
    }
   ],
   "source": [
    "# indice de fila a modificar\n",
    "df_mpg[df_mpg['marca']=='MERCEDES'].index"
   ]
  },
  {
   "cell_type": "code",
   "execution_count": 20,
   "id": "982c52d6",
   "metadata": {},
   "outputs": [],
   "source": [
    "df_mpg.iloc[df_mpg[df_mpg['marca']=='VOKSWAGEN'].index,9]='VOLKSWAGEN'\n",
    "df_mpg.iloc[df_mpg[df_mpg['marca']=='VW'].index,9]='VOLKSWAGEN'\n",
    "df_mpg.iloc[df_mpg[df_mpg['marca']=='TOYOUTA'].index,9]='TOYOTA'"
   ]
  },
  {
   "cell_type": "code",
   "execution_count": 21,
   "id": "eba73d9c",
   "metadata": {},
   "outputs": [],
   "source": [
    "df_mpg.iloc[df_mpg[df_mpg['marca']=='CHEVROELT'].index,9]='CHEVROLET'"
   ]
  },
  {
   "cell_type": "code",
   "execution_count": 22,
   "id": "19227ac3",
   "metadata": {},
   "outputs": [],
   "source": [
    "df_mpg.iloc[df_mpg[df_mpg['marca']=='MAXDA'].index,9]='MAZDA'"
   ]
  },
  {
   "cell_type": "code",
   "execution_count": 23,
   "id": "cc9bf966",
   "metadata": {},
   "outputs": [
    {
     "data": {
      "text/plain": [
       "<AxesSubplot:>"
      ]
     },
     "execution_count": 23,
     "metadata": {},
     "output_type": "execute_result"
    },
    {
     "data": {
      "image/png": "[encoded data removed]",
      "text/plain": [
       "<Figure size 640x480 with 1 Axes>"
      ]
     },
     "metadata": {},
     "output_type": "display_data"
    }
   ],
   "source": [
    "df_mpg['marca'].value_counts().sort_values(ascending=False).plot.bar()\n"
   ]
  },
  {
   "cell_type": "code",
   "execution_count": 27,
   "id": "48243f4d",
   "metadata": {
    "scrolled": true
   },
   "outputs": [
    {
     "data": {
      "text/plain": [
       "array([['CHEVROLET'],\n",
       "       ['BUICK'],\n",
       "       ['PLYMOUTH'],\n",
       "       ['AMC'],\n",
       "       ['FORD'],\n",
       "       ['PONTIAC'],\n",
       "       ['DODGE'],\n",
       "       ['TOYOTA'],\n",
       "       ['DATSUN'],\n",
       "       ['VOLKSWAGEN'],\n",
       "       ['PEUGEOT'],\n",
       "       ['AUDI'],\n",
       "       ['SAAB'],\n",
       "       ['BMW'],\n",
       "       ['CHEVY'],\n",
       "       ['HI'],\n",
       "       ['MERCURY'],\n",
       "       ['OPEL'],\n",
       "       ['FIAT'],\n",
       "       ['OLDSMOBILE'],\n",
       "       ['CHRYSLER'],\n",
       "       ['MAZDA'],\n",
       "       ['VOLVO'],\n",
       "       ['RENAULT'],\n",
       "       ['HONDA'],\n",
       "       ['SUBARU'],\n",
       "       ['CAPRI'],\n",
       "       ['MERCEDES-BENZ'],\n",
       "       ['CADILLAC'],\n",
       "       ['MERCEDES'],\n",
       "       ['TRIUMPH'],\n",
       "       ['NISSAN']], dtype=object)"
      ]
     },
     "execution_count": 27,
     "metadata": {},
     "output_type": "execute_result"
    }
   ],
   "source": [
    "# vuelvo a controlar\n",
    "# df_mpg['marca'].unique().size # son 32\n",
    "df_mpg['marca'].unique().reshape(32,1)#.sort()"
   ]
  },
  {
   "cell_type": "code",
   "execution_count": 30,
   "id": "3d2a0be2",
   "metadata": {},
   "outputs": [],
   "source": [
    "import seaborn as sns"
   ]
  },
  {
   "cell_type": "code",
   "execution_count": 31,
   "id": "f5d07f16",
   "metadata": {},
   "outputs": [
    {
     "data": {
      "text/html": [
       "<div>\n",
       "<style scoped>\n",
       "    .dataframe tbody tr th:only-of-type {\n",
       "        vertical-align: middle;\n",
       "    }\n",
       "\n",
       "    .dataframe tbody tr th {\n",
       "        vertical-align: top;\n",
       "    }\n",
       "\n",
       "    .dataframe thead th {\n",
       "        text-align: right;\n",
       "    }\n",
       "</style>\n",
       "<table border=\"1\" class=\"dataframe\">\n",
       "  <thead>\n",
       "    <tr style=\"text-align: right;\">\n",
       "      <th></th>\n",
       "      <th>sepal_length</th>\n",
       "      <th>sepal_width</th>\n",
       "      <th>petal_length</th>\n",
       "      <th>petal_width</th>\n",
       "      <th>species</th>\n",
       "    </tr>\n",
       "  </thead>\n",
       "  <tbody>\n",
       "    <tr>\n",
       "      <th>32</th>\n",
       "      <td>5.2</td>\n",
       "      <td>4.1</td>\n",
       "      <td>1.5</td>\n",
       "      <td>0.1</td>\n",
       "      <td>setosa</td>\n",
       "    </tr>\n",
       "    <tr>\n",
       "      <th>86</th>\n",
       "      <td>6.7</td>\n",
       "      <td>3.1</td>\n",
       "      <td>4.7</td>\n",
       "      <td>1.5</td>\n",
       "      <td>versicolor</td>\n",
       "    </tr>\n",
       "    <tr>\n",
       "      <th>39</th>\n",
       "      <td>5.1</td>\n",
       "      <td>3.4</td>\n",
       "      <td>1.5</td>\n",
       "      <td>0.2</td>\n",
       "      <td>setosa</td>\n",
       "    </tr>\n",
       "    <tr>\n",
       "      <th>94</th>\n",
       "      <td>5.6</td>\n",
       "      <td>2.7</td>\n",
       "      <td>4.2</td>\n",
       "      <td>1.3</td>\n",
       "      <td>versicolor</td>\n",
       "    </tr>\n",
       "    <tr>\n",
       "      <th>115</th>\n",
       "      <td>6.4</td>\n",
       "      <td>3.2</td>\n",
       "      <td>5.3</td>\n",
       "      <td>2.3</td>\n",
       "      <td>virginica</td>\n",
       "    </tr>\n",
       "  </tbody>\n",
       "</table>\n",
       "</div>"
      ],
      "text/plain": [
       "     sepal_length  sepal_width  petal_length  petal_width     species\n",
       "32            5.2          4.1           1.5          0.1      setosa\n",
       "86            6.7          3.1           4.7          1.5  versicolor\n",
       "39            5.1          3.4           1.5          0.2      setosa\n",
       "94            5.6          2.7           4.2          1.3  versicolor\n",
       "115           6.4          3.2           5.3          2.3   virginica"
      ]
     },
     "execution_count": 31,
     "metadata": {},
     "output_type": "execute_result"
    }
   ],
   "source": [
    "iris = sns.load_dataset(\"iris\")\n",
    "iris.sample(5)"
   ]
  },
  {
   "cell_type": "code",
   "execution_count": null,
   "id": "789dd971",
   "metadata": {},
   "outputs": [],
   "source": []
  },
  {
   "cell_type": "code",
   "execution_count": null,
   "id": "363e1913",
   "metadata": {},
   "outputs": [],
   "source": []
  }
 ],
 "metadata": {
  "kernelspec": {
   "display_name": "Python 3 (ipykernel)",
   "language": "python",
   "name": "python3"
  },
  "language_info": {
   "codemirror_mode": {
    "name": "ipython",
    "version": 3
   },
   "file_extension": ".py",
   "mimetype": "text/x-python",
   "name": "python",
   "nbconvert_exporter": "python",
   "pygments_lexer": "ipython3",
   "version": "3.9.13"
  }
 },
 "nbformat": 4,
 "nbformat_minor": 5
}
