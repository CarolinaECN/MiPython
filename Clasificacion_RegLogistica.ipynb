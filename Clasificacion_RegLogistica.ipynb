{
 "cells": [
  {
   "cell_type": "markdown",
   "id": "04635999",
   "metadata": {},
   "source": [
    "### Modelos de CLASIFICACION - Regresion Logistica\n",
    "\n",
    "Importante !! No es un modelo de regresion es de clasificacion. Solo se llama regresion logistica.\n",
    "\n",
    "El modelo de clasificacion implica la prediccion de una variable cualitativa por lo que previamente se debe evaluar como se comportan el resto de variables respecto de la variable predictora. \n",
    "\n",
    "Esta evaluacion previa se realiza mediante los estadisticos Chi-cuadrado y T-test. (Ver en fichero Estadisticos_ChiTest_TTest)"
   ]
  },
  {
   "cell_type": "markdown",
   "id": "725139fe",
   "metadata": {},
   "source": [
    "* Modelos de Clasificacion \n",
    "\n",
    "La clasificación tiene como objetivo asignar una clase, es decir predecir a que clase pertenece un conjunto de datos. \n",
    "Se aplica a la prediccion de variables categoricas discretas y puede tomar datos de entrada a la vez continuos o discretos.\n",
    "\n",
    "\n",
    "* Clasificacion por Regresion Logistica\n",
    "\n",
    "El modelo de regresión logística permite predecir la probabilidad de que ocurra un evento (valor de 1) o no (valor de 0) a partir de la optimización de los coeficientes de regresión. \n",
    "Utiliza una función logística sigmoidal que va de 0 a 1.\n",
    "\n",
    "* Tipos: \n",
    "\n",
    "    - Binarios Ordinal: Utilizado para problemas de clasificacion binarios.\n",
    "    - Multimodal: cuando la clasificacion tiene mas de dos valores posibles.\n",
    "\n",
    " \n",
    "* Parametros y ecuacion  1/1+e^-S  donde S es la sumatoria de 1 a n de OiXi con O parametros de la/s variable independiente.\n",
    "\n",
    "\n",
    "Mediante la optimización del modelo se intenta obtener el mejor conjunto de parámetros Θ, que permite que nuestra curva sigmoide se adhiera lo mejor posible a los datos.\n",
    "\n",
    "Una vez obtenida la funcion sigmoidal y de acuerdo al umbral fijado (generalmente 0,5), se clasifican los puntos según sus posiciones en relación con la regresión.\n",
    "\n"
   ]
  },
  {
   "cell_type": "code",
   "execution_count": 18,
   "id": "3a893761",
   "metadata": {},
   "outputs": [],
   "source": [
    "# Hacer analisis previo de la BD"
   ]
  },
  {
   "cell_type": "code",
   "execution_count": 22,
   "id": "84c7c023",
   "metadata": {},
   "outputs": [],
   "source": [
    "import pandas as pd\n",
    "import numpy as np\n",
    "import matplotlib.pyplot as plt"
   ]
  },
  {
   "cell_type": "code",
   "execution_count": 23,
   "id": "7949c72a",
   "metadata": {},
   "outputs": [],
   "source": [
    "df=pd.read_csv(r'C:\\Users\\carolina\\Desktop\\FormDataAnalyst\\Modelos\\clasificacion-regresion_logistica.csv')"
   ]
  },
  {
   "cell_type": "code",
   "execution_count": 32,
   "id": "d1d2bcfc",
   "metadata": {},
   "outputs": [],
   "source": [
    "# Compra de vivienda en base a datos de las personas que compraron y no compraron (esta sera nuestra variable objetivo)"
   ]
  },
  {
   "cell_type": "code",
   "execution_count": 65,
   "id": "bf832ea2",
   "metadata": {},
   "outputs": [
    {
     "data": {
      "text/html": [
       "<div>\n",
       "<style scoped>\n",
       "    .dataframe tbody tr th:only-of-type {\n",
       "        vertical-align: middle;\n",
       "    }\n",
       "\n",
       "    .dataframe tbody tr th {\n",
       "        vertical-align: top;\n",
       "    }\n",
       "\n",
       "    .dataframe thead th {\n",
       "        text-align: right;\n",
       "    }\n",
       "</style>\n",
       "<table border=\"1\" class=\"dataframe\">\n",
       "  <thead>\n",
       "    <tr style=\"text-align: right;\">\n",
       "      <th></th>\n",
       "      <th>User ID</th>\n",
       "      <th>Gender</th>\n",
       "      <th>Age</th>\n",
       "      <th>EstimatedSalary</th>\n",
       "      <th>Purchased</th>\n",
       "    </tr>\n",
       "  </thead>\n",
       "  <tbody>\n",
       "    <tr>\n",
       "      <th>0</th>\n",
       "      <td>15624510</td>\n",
       "      <td>Male</td>\n",
       "      <td>19</td>\n",
       "      <td>19000</td>\n",
       "      <td>0</td>\n",
       "    </tr>\n",
       "    <tr>\n",
       "      <th>1</th>\n",
       "      <td>15810944</td>\n",
       "      <td>Male</td>\n",
       "      <td>35</td>\n",
       "      <td>20000</td>\n",
       "      <td>0</td>\n",
       "    </tr>\n",
       "    <tr>\n",
       "      <th>2</th>\n",
       "      <td>15668575</td>\n",
       "      <td>Female</td>\n",
       "      <td>26</td>\n",
       "      <td>43000</td>\n",
       "      <td>0</td>\n",
       "    </tr>\n",
       "    <tr>\n",
       "      <th>3</th>\n",
       "      <td>15603246</td>\n",
       "      <td>Female</td>\n",
       "      <td>27</td>\n",
       "      <td>57000</td>\n",
       "      <td>0</td>\n",
       "    </tr>\n",
       "    <tr>\n",
       "      <th>4</th>\n",
       "      <td>15804002</td>\n",
       "      <td>Male</td>\n",
       "      <td>19</td>\n",
       "      <td>76000</td>\n",
       "      <td>0</td>\n",
       "    </tr>\n",
       "  </tbody>\n",
       "</table>\n",
       "</div>"
      ],
      "text/plain": [
       "    User ID  Gender  Age  EstimatedSalary  Purchased\n",
       "0  15624510    Male   19            19000          0\n",
       "1  15810944    Male   35            20000          0\n",
       "2  15668575  Female   26            43000          0\n",
       "3  15603246  Female   27            57000          0\n",
       "4  15804002    Male   19            76000          0"
      ]
     },
     "execution_count": 65,
     "metadata": {},
     "output_type": "execute_result"
    }
   ],
   "source": [
    "df.head(5)"
   ]
  },
  {
   "cell_type": "code",
   "execution_count": 25,
   "id": "9389fda0",
   "metadata": {},
   "outputs": [
    {
     "data": {
      "text/plain": [
       "(400, 5)"
      ]
     },
     "execution_count": 25,
     "metadata": {},
     "output_type": "execute_result"
    }
   ],
   "source": [
    "df.shape"
   ]
  },
  {
   "cell_type": "code",
   "execution_count": 26,
   "id": "faca9ed7",
   "metadata": {},
   "outputs": [
    {
     "name": "stdout",
     "output_type": "stream",
     "text": [
      "<class 'pandas.core.frame.DataFrame'>\n",
      "RangeIndex: 400 entries, 0 to 399\n",
      "Data columns (total 5 columns):\n",
      " #   Column           Non-Null Count  Dtype \n",
      "---  ------           --------------  ----- \n",
      " 0   User ID          400 non-null    int64 \n",
      " 1   Gender           400 non-null    object\n",
      " 2   Age              400 non-null    int64 \n",
      " 3   EstimatedSalary  400 non-null    int64 \n",
      " 4   Purchased        400 non-null    int64 \n",
      "dtypes: int64(4), object(1)\n",
      "memory usage: 15.8+ KB\n"
     ]
    }
   ],
   "source": [
    "df.info()"
   ]
  },
  {
   "cell_type": "code",
   "execution_count": 27,
   "id": "a036d00b",
   "metadata": {},
   "outputs": [
    {
     "data": {
      "text/html": [
       "<div>\n",
       "<style scoped>\n",
       "    .dataframe tbody tr th:only-of-type {\n",
       "        vertical-align: middle;\n",
       "    }\n",
       "\n",
       "    .dataframe tbody tr th {\n",
       "        vertical-align: top;\n",
       "    }\n",
       "\n",
       "    .dataframe thead th {\n",
       "        text-align: right;\n",
       "    }\n",
       "</style>\n",
       "<table border=\"1\" class=\"dataframe\">\n",
       "  <thead>\n",
       "    <tr style=\"text-align: right;\">\n",
       "      <th></th>\n",
       "      <th>User ID</th>\n",
       "      <th>Age</th>\n",
       "      <th>EstimatedSalary</th>\n",
       "      <th>Purchased</th>\n",
       "    </tr>\n",
       "  </thead>\n",
       "  <tbody>\n",
       "    <tr>\n",
       "      <th>count</th>\n",
       "      <td>4.000000e+02</td>\n",
       "      <td>400.000000</td>\n",
       "      <td>400.000000</td>\n",
       "      <td>400.000000</td>\n",
       "    </tr>\n",
       "    <tr>\n",
       "      <th>mean</th>\n",
       "      <td>1.569154e+07</td>\n",
       "      <td>37.655000</td>\n",
       "      <td>69742.500000</td>\n",
       "      <td>0.357500</td>\n",
       "    </tr>\n",
       "    <tr>\n",
       "      <th>std</th>\n",
       "      <td>7.165832e+04</td>\n",
       "      <td>10.482877</td>\n",
       "      <td>34096.960282</td>\n",
       "      <td>0.479864</td>\n",
       "    </tr>\n",
       "    <tr>\n",
       "      <th>min</th>\n",
       "      <td>1.556669e+07</td>\n",
       "      <td>18.000000</td>\n",
       "      <td>15000.000000</td>\n",
       "      <td>0.000000</td>\n",
       "    </tr>\n",
       "    <tr>\n",
       "      <th>25%</th>\n",
       "      <td>1.562676e+07</td>\n",
       "      <td>29.750000</td>\n",
       "      <td>43000.000000</td>\n",
       "      <td>0.000000</td>\n",
       "    </tr>\n",
       "    <tr>\n",
       "      <th>50%</th>\n",
       "      <td>1.569434e+07</td>\n",
       "      <td>37.000000</td>\n",
       "      <td>70000.000000</td>\n",
       "      <td>0.000000</td>\n",
       "    </tr>\n",
       "    <tr>\n",
       "      <th>75%</th>\n",
       "      <td>1.575036e+07</td>\n",
       "      <td>46.000000</td>\n",
       "      <td>88000.000000</td>\n",
       "      <td>1.000000</td>\n",
       "    </tr>\n",
       "    <tr>\n",
       "      <th>max</th>\n",
       "      <td>1.581524e+07</td>\n",
       "      <td>60.000000</td>\n",
       "      <td>150000.000000</td>\n",
       "      <td>1.000000</td>\n",
       "    </tr>\n",
       "  </tbody>\n",
       "</table>\n",
       "</div>"
      ],
      "text/plain": [
       "            User ID         Age  EstimatedSalary   Purchased\n",
       "count  4.000000e+02  400.000000       400.000000  400.000000\n",
       "mean   1.569154e+07   37.655000     69742.500000    0.357500\n",
       "std    7.165832e+04   10.482877     34096.960282    0.479864\n",
       "min    1.556669e+07   18.000000     15000.000000    0.000000\n",
       "25%    1.562676e+07   29.750000     43000.000000    0.000000\n",
       "50%    1.569434e+07   37.000000     70000.000000    0.000000\n",
       "75%    1.575036e+07   46.000000     88000.000000    1.000000\n",
       "max    1.581524e+07   60.000000    150000.000000    1.000000"
      ]
     },
     "execution_count": 27,
     "metadata": {},
     "output_type": "execute_result"
    }
   ],
   "source": [
    "df.describe()"
   ]
  },
  {
   "cell_type": "code",
   "execution_count": 28,
   "id": "d8fba7d1",
   "metadata": {},
   "outputs": [],
   "source": [
    "#La media de Purchased esta mas cerca de 0 que de 1. Quiere decir que hay mas 0s que 1s en Purchased. Verifico"
   ]
  },
  {
   "cell_type": "code",
   "execution_count": 31,
   "id": "0e59b7e4",
   "metadata": {},
   "outputs": [
    {
     "data": {
      "text/plain": [
       "0    257\n",
       "1    143\n",
       "Name: Purchased, dtype: int64"
      ]
     },
     "execution_count": 31,
     "metadata": {},
     "output_type": "execute_result"
    }
   ],
   "source": [
    "df['Purchased'].value_counts() # LA VARIABLE OBJETIVO NO ESTA COMPENSADA"
   ]
  },
  {
   "cell_type": "code",
   "execution_count": 34,
   "id": "1e98341b",
   "metadata": {},
   "outputs": [],
   "source": [
    "# Hay que aplicar el t-test para saber si la variable salario esta relacionada con la variable objetivo purchased\n",
    "# Como estamos comparando la cualitativa con una cuantitativa aplicamos t-test"
   ]
  },
  {
   "cell_type": "markdown",
   "id": "db2066e6",
   "metadata": {},
   "source": [
    "* t-test entre salary y purchased"
   ]
  },
  {
   "cell_type": "code",
   "execution_count": 230,
   "id": "b1bfba8e",
   "metadata": {},
   "outputs": [],
   "source": [
    "#Preparamos los grupos de la variable cualitativa (seleccionamos solo las variables que nos interesa estudiar)\n",
    "\n",
    "df_C=df.loc[:,['EstimatedSalary', 'Purchased']][df['Purchased']==1]\n",
    "df_NoC=df.loc[:,['EstimatedSalary','Purchased']][df['Purchased']==0]  # quite la columna 'purchased' no me sirve porque ya estan agrupados\n",
    "\n",
    "# Al copiar el df esta manteniendo los indices"
   ]
  },
  {
   "cell_type": "code",
   "execution_count": 231,
   "id": "96151579",
   "metadata": {},
   "outputs": [
    {
     "data": {
      "text/html": [
       "<div>\n",
       "<style scoped>\n",
       "    .dataframe tbody tr th:only-of-type {\n",
       "        vertical-align: middle;\n",
       "    }\n",
       "\n",
       "    .dataframe tbody tr th {\n",
       "        vertical-align: top;\n",
       "    }\n",
       "\n",
       "    .dataframe thead th {\n",
       "        text-align: right;\n",
       "    }\n",
       "</style>\n",
       "<table border=\"1\" class=\"dataframe\">\n",
       "  <thead>\n",
       "    <tr style=\"text-align: right;\">\n",
       "      <th></th>\n",
       "      <th>EstimatedSalary</th>\n",
       "      <th>Purchased</th>\n",
       "    </tr>\n",
       "  </thead>\n",
       "  <tbody>\n",
       "    <tr>\n",
       "      <th>377</th>\n",
       "      <td>53000</td>\n",
       "      <td>0</td>\n",
       "    </tr>\n",
       "    <tr>\n",
       "      <th>380</th>\n",
       "      <td>64000</td>\n",
       "      <td>0</td>\n",
       "    </tr>\n",
       "    <tr>\n",
       "      <th>387</th>\n",
       "      <td>71000</td>\n",
       "      <td>0</td>\n",
       "    </tr>\n",
       "    <tr>\n",
       "      <th>394</th>\n",
       "      <td>59000</td>\n",
       "      <td>0</td>\n",
       "    </tr>\n",
       "    <tr>\n",
       "      <th>398</th>\n",
       "      <td>33000</td>\n",
       "      <td>0</td>\n",
       "    </tr>\n",
       "  </tbody>\n",
       "</table>\n",
       "</div>"
      ],
      "text/plain": [
       "     EstimatedSalary  Purchased\n",
       "377            53000          0\n",
       "380            64000          0\n",
       "387            71000          0\n",
       "394            59000          0\n",
       "398            33000          0"
      ]
     },
     "execution_count": 231,
     "metadata": {},
     "output_type": "execute_result"
    }
   ],
   "source": [
    "df_NoC.tail()"
   ]
  },
  {
   "cell_type": "code",
   "execution_count": 232,
   "id": "91521415",
   "metadata": {},
   "outputs": [
    {
     "data": {
      "text/plain": [
       "(257, 2)"
      ]
     },
     "execution_count": 232,
     "metadata": {},
     "output_type": "execute_result"
    }
   ],
   "source": [
    "df_NoC.shape"
   ]
  },
  {
   "cell_type": "code",
   "execution_count": 233,
   "id": "1c3b7f22",
   "metadata": {},
   "outputs": [
    {
     "data": {
      "text/plain": [
       "((257, 2), (143, 2))"
      ]
     },
     "execution_count": 233,
     "metadata": {},
     "output_type": "execute_result"
    }
   ],
   "source": [
    "df_NoC.shape, df_C.shape # como habiamos visto la variable no esta compensada"
   ]
  },
  {
   "cell_type": "markdown",
   "id": "c7194876",
   "metadata": {},
   "source": [
    "* Tengo que seleccionar aleatoriamente 143 datos de df_NoC"
   ]
  },
  {
   "cell_type": "markdown",
   "id": "469b5ec9",
   "metadata": {},
   "source": [
    "Forma 1 Random Choice (tengo que darle una vuelva porque no me funciono del todo bien)"
   ]
  },
  {
   "cell_type": "code",
   "execution_count": 54,
   "id": "7f2c78d6",
   "metadata": {},
   "outputs": [
    {
     "data": {
      "text/plain": [
       "array([  1,   5,   8,  10,  14,  28,  33,  34,  36,  37,  38,  42,  43,\n",
       "        45,  46,  47,  50,  51,  53,  54,  55,  56,  57,  58,  59,  60,\n",
       "        61,  62,  64,  66,  67,  69,  71,  74,  78,  79,  80,  84,  88,\n",
       "        89,  90,  91,  94,  98,  99, 100, 105, 111, 112, 113, 116, 117,\n",
       "       119, 120, 121, 122, 128, 131, 133, 134, 136, 139, 141, 143, 144,\n",
       "       148, 151, 154, 156, 158, 161, 163, 164, 166, 167, 169, 170, 171,\n",
       "       172, 173, 174, 180, 183, 184, 187, 188, 190, 191, 192, 193, 196,\n",
       "       198, 199, 200, 201, 207, 212, 213, 214, 216, 217, 218, 225, 228,\n",
       "       231, 234, 236, 237, 244, 250, 256, 257, 263, 266, 270, 276, 281,\n",
       "       286, 288, 293, 295, 298, 305, 309, 312, 319, 322, 326, 332, 337,\n",
       "       338, 341, 342, 345, 348, 349, 351, 359, 368, 372, 374, 376, 394],\n",
       "      dtype=int64)"
      ]
     },
     "execution_count": 54,
     "metadata": {},
     "output_type": "execute_result"
    }
   ],
   "source": [
    "np.random.seed=2023 # la semilla no funciona\n",
    "\n",
    "np.sort(np.random.choice(df_NoC['EstimatedSalary'].index, 143, replace=False)) \n",
    "\n",
    "# del df obtengo 143 casos aleatorios, sin repeticion\n",
    "# y me quedo con sus indices\n",
    "# ordeno ademas para comprobar que no se repiten no       \n",
    "# TIENE BUENA PINTA"
   ]
  },
  {
   "cell_type": "code",
   "execution_count": 79,
   "id": "9b5351fd",
   "metadata": {},
   "outputs": [
    {
     "data": {
      "text/plain": [
       "(257, 2)"
      ]
     },
     "execution_count": 79,
     "metadata": {},
     "output_type": "execute_result"
    }
   ],
   "source": [
    "df_NoC.shape # son 257 pero mantiene los indices originales de df "
   ]
  },
  {
   "cell_type": "code",
   "execution_count": 95,
   "id": "75cd278a",
   "metadata": {},
   "outputs": [],
   "source": [
    "# ESTO TIENE UN PROBLEMA. CUANDO INTENTO OBTENER POR ESTOS INDICES ME DA VALOR FUERA DE RANGO. \n",
    "# Como que mantiene los indices del df original pero al acceder utiliza un reindex y ya no concuerda con los indices originales"
   ]
  },
  {
   "cell_type": "markdown",
   "id": "9ea90a61",
   "metadata": {},
   "source": [
    "Forma 2 Random Shuffle (como que no)"
   ]
  },
  {
   "cell_type": "code",
   "execution_count": 72,
   "id": "5a2937ee",
   "metadata": {},
   "outputs": [
    {
     "data": {
      "text/plain": [
       "257"
      ]
     },
     "execution_count": 72,
     "metadata": {},
     "output_type": "execute_result"
    }
   ],
   "source": [
    "lista=list(df_NoC['EstimatedSalary'])\n",
    "np.random.shuffle(lista)\n",
    "len(lista) # esta es una lista mezclada de los salarios pero asi se pierde el indice del df\n",
    "# deberia hacer el shuffle del df pero me quedaria desordenado.\n",
    "# ESTA OPCION ME PARECE LIANTE"
   ]
  },
  {
   "cell_type": "markdown",
   "id": "6f7aea45",
   "metadata": {},
   "source": [
    "Forma 3 Con un sample "
   ]
  },
  {
   "cell_type": "code",
   "execution_count": 234,
   "id": "d1534a38",
   "metadata": {},
   "outputs": [],
   "source": [
    "# Seria la forma mas efectiva y directa\n",
    "\n",
    "df_NoC=df_NoC.sample(143)"
   ]
  },
  {
   "cell_type": "code",
   "execution_count": 235,
   "id": "d442b863",
   "metadata": {},
   "outputs": [
    {
     "data": {
      "text/plain": [
       "(143, 2)"
      ]
     },
     "execution_count": 235,
     "metadata": {},
     "output_type": "execute_result"
    }
   ],
   "source": [
    "df_NoC.shape "
   ]
  },
  {
   "cell_type": "code",
   "execution_count": 236,
   "id": "780b0766",
   "metadata": {},
   "outputs": [],
   "source": [
    "import scipy"
   ]
  },
  {
   "cell_type": "code",
   "execution_count": 243,
   "id": "3dce74e1",
   "metadata": {},
   "outputs": [
    {
     "data": {
      "text/plain": [
       "Ttest_indResult(statistic=6.188120757391887, pvalue=2.1206090439394725e-09)"
      ]
     },
     "execution_count": 243,
     "metadata": {},
     "output_type": "execute_result"
    }
   ],
   "source": [
    "# Genero el ttest\n",
    "\n",
    "ttest_ind(df_C.iloc[:,0], df_NoC.iloc[:,0]) # solo la columna de salario\n",
    "\n",
    "# ttest_ind(df_C['EstimatedSalary'], df_NoC['EstimatedSalary'])"
   ]
  },
  {
   "cell_type": "code",
   "execution_count": 244,
   "id": "4e0ec01d",
   "metadata": {},
   "outputs": [
    {
     "name": "stdout",
     "output_type": "stream",
     "text": [
      "Ttest_indResult(statistic=6.188120757391887, pvalue=2.1206090439394725e-09)\n",
      "\n",
      "P-valor 2.1206090439394725e-09 \n",
      "\n",
      "Rechazamos H0, aceptamos H1: Las variables tienen dependencia\n"
     ]
    }
   ],
   "source": [
    "# p-valor es muy pequeña\n",
    "\n",
    "riesgo=0.05\n",
    "p_value=ttest_ind(df_C.iloc[:,0], df_NoC.iloc[:,0]) # variable trim para indicar el nivel de riesgo por defecto 0,05\n",
    "print (p_value)\n",
    "print('\\nP-valor',p_value[1],'\\n')\n",
    "if p_value[1]>riesgo:\n",
    "    print('Aceptamos H0: Las variables son independientes')\n",
    "else:\n",
    "    print('Rechazamos H0, aceptamos H1: Las variables tienen dependencia')"
   ]
  },
  {
   "cell_type": "markdown",
   "id": "32c6554b",
   "metadata": {},
   "source": [
    "FALTARIA COMPROBAR SI HAY RELACION ENTRE PURCHASED Y EDAD"
   ]
  },
  {
   "cell_type": "markdown",
   "id": "7b1fd313",
   "metadata": {},
   "source": [
    "#### Una vez comprobado que las variables tienen relacion podemos utilizar el modelo de clasificacion"
   ]
  },
  {
   "cell_type": "markdown",
   "id": "17f06984",
   "metadata": {},
   "source": [
    "#### Division variables independientes y objetivo"
   ]
  },
  {
   "cell_type": "code",
   "execution_count": 102,
   "id": "8d9c978f",
   "metadata": {},
   "outputs": [
    {
     "data": {
      "text/html": [
       "<div>\n",
       "<style scoped>\n",
       "    .dataframe tbody tr th:only-of-type {\n",
       "        vertical-align: middle;\n",
       "    }\n",
       "\n",
       "    .dataframe tbody tr th {\n",
       "        vertical-align: top;\n",
       "    }\n",
       "\n",
       "    .dataframe thead th {\n",
       "        text-align: right;\n",
       "    }\n",
       "</style>\n",
       "<table border=\"1\" class=\"dataframe\">\n",
       "  <thead>\n",
       "    <tr style=\"text-align: right;\">\n",
       "      <th></th>\n",
       "      <th>User ID</th>\n",
       "      <th>Gender</th>\n",
       "      <th>Age</th>\n",
       "      <th>EstimatedSalary</th>\n",
       "      <th>Purchased</th>\n",
       "    </tr>\n",
       "  </thead>\n",
       "  <tbody>\n",
       "    <tr>\n",
       "      <th>0</th>\n",
       "      <td>15624510</td>\n",
       "      <td>Male</td>\n",
       "      <td>19</td>\n",
       "      <td>19000</td>\n",
       "      <td>0</td>\n",
       "    </tr>\n",
       "    <tr>\n",
       "      <th>1</th>\n",
       "      <td>15810944</td>\n",
       "      <td>Male</td>\n",
       "      <td>35</td>\n",
       "      <td>20000</td>\n",
       "      <td>0</td>\n",
       "    </tr>\n",
       "  </tbody>\n",
       "</table>\n",
       "</div>"
      ],
      "text/plain": [
       "    User ID Gender  Age  EstimatedSalary  Purchased\n",
       "0  15624510   Male   19            19000          0\n",
       "1  15810944   Male   35            20000          0"
      ]
     },
     "execution_count": 102,
     "metadata": {},
     "output_type": "execute_result"
    }
   ],
   "source": [
    "df.head(2)"
   ]
  },
  {
   "cell_type": "code",
   "execution_count": 246,
   "id": "666c0202",
   "metadata": {},
   "outputs": [],
   "source": [
    "x=df.iloc[:,[2,3]].values # array"
   ]
  },
  {
   "cell_type": "code",
   "execution_count": 245,
   "id": "4a15144e",
   "metadata": {},
   "outputs": [],
   "source": [
    "y=df.iloc[:,4].values #lista"
   ]
  },
  {
   "cell_type": "code",
   "execution_count": 250,
   "id": "797db551",
   "metadata": {},
   "outputs": [
    {
     "data": {
      "text/html": [
       "<div>\n",
       "<style scoped>\n",
       "    .dataframe tbody tr th:only-of-type {\n",
       "        vertical-align: middle;\n",
       "    }\n",
       "\n",
       "    .dataframe tbody tr th {\n",
       "        vertical-align: top;\n",
       "    }\n",
       "\n",
       "    .dataframe thead th {\n",
       "        text-align: right;\n",
       "    }\n",
       "</style>\n",
       "<table border=\"1\" class=\"dataframe\">\n",
       "  <thead>\n",
       "    <tr style=\"text-align: right;\">\n",
       "      <th></th>\n",
       "      <th>User ID</th>\n",
       "      <th>Gender</th>\n",
       "      <th>Age</th>\n",
       "      <th>EstimatedSalary</th>\n",
       "      <th>Purchased</th>\n",
       "    </tr>\n",
       "  </thead>\n",
       "  <tbody>\n",
       "    <tr>\n",
       "      <th>0</th>\n",
       "      <td>15624510</td>\n",
       "      <td>Male</td>\n",
       "      <td>19</td>\n",
       "      <td>19000</td>\n",
       "      <td>0</td>\n",
       "    </tr>\n",
       "    <tr>\n",
       "      <th>1</th>\n",
       "      <td>15810944</td>\n",
       "      <td>Male</td>\n",
       "      <td>35</td>\n",
       "      <td>20000</td>\n",
       "      <td>0</td>\n",
       "    </tr>\n",
       "    <tr>\n",
       "      <th>2</th>\n",
       "      <td>15668575</td>\n",
       "      <td>Female</td>\n",
       "      <td>26</td>\n",
       "      <td>43000</td>\n",
       "      <td>0</td>\n",
       "    </tr>\n",
       "    <tr>\n",
       "      <th>3</th>\n",
       "      <td>15603246</td>\n",
       "      <td>Female</td>\n",
       "      <td>27</td>\n",
       "      <td>57000</td>\n",
       "      <td>0</td>\n",
       "    </tr>\n",
       "    <tr>\n",
       "      <th>4</th>\n",
       "      <td>15804002</td>\n",
       "      <td>Male</td>\n",
       "      <td>19</td>\n",
       "      <td>76000</td>\n",
       "      <td>0</td>\n",
       "    </tr>\n",
       "  </tbody>\n",
       "</table>\n",
       "</div>"
      ],
      "text/plain": [
       "    User ID  Gender  Age  EstimatedSalary  Purchased\n",
       "0  15624510    Male   19            19000          0\n",
       "1  15810944    Male   35            20000          0\n",
       "2  15668575  Female   26            43000          0\n",
       "3  15603246  Female   27            57000          0\n",
       "4  15804002    Male   19            76000          0"
      ]
     },
     "execution_count": 250,
     "metadata": {},
     "output_type": "execute_result"
    }
   ],
   "source": [
    "df.head()"
   ]
  },
  {
   "cell_type": "code",
   "execution_count": 139,
   "id": "6f12babc",
   "metadata": {},
   "outputs": [],
   "source": [
    "# x / y son arrays\n",
    "# y # el modelo prefiere un array de una dimension pero de momento solo es un warning"
   ]
  },
  {
   "cell_type": "markdown",
   "id": "ca6a197b",
   "metadata": {},
   "source": [
    "#### Dummy no hay"
   ]
  },
  {
   "cell_type": "markdown",
   "id": "5c28bbe6",
   "metadata": {},
   "source": [
    "#### Recategorizar no"
   ]
  },
  {
   "cell_type": "markdown",
   "id": "2278631f",
   "metadata": {},
   "source": [
    "En este caso las variables no necesitan dummificar ni recategorizar"
   ]
  },
  {
   "cell_type": "markdown",
   "id": "32266ad9",
   "metadata": {},
   "source": [
    "#### Dividir en training y test"
   ]
  },
  {
   "cell_type": "code",
   "execution_count": 251,
   "id": "6192caf3",
   "metadata": {},
   "outputs": [],
   "source": [
    "from sklearn.model_selection import train_test_split"
   ]
  },
  {
   "cell_type": "code",
   "execution_count": 252,
   "id": "6677eb2b",
   "metadata": {},
   "outputs": [],
   "source": [
    "x_train, x_test, y_train, y_test = train_test_split(x, y, test_size=0.3, random_state=1987)"
   ]
  },
  {
   "cell_type": "markdown",
   "id": "72c07b35",
   "metadata": {},
   "source": [
    "#### Normalizacion/estandarizacion "
   ]
  },
  {
   "cell_type": "markdown",
   "id": "4ef88100",
   "metadata": {},
   "source": [
    "Es aconsejable realizar una estandarizacion porque las magnitudes son diferentes (edad y salario)"
   ]
  },
  {
   "cell_type": "code",
   "execution_count": 253,
   "id": "e5c9065f",
   "metadata": {},
   "outputs": [],
   "source": [
    "from sklearn.preprocessing import StandardScaler"
   ]
  },
  {
   "cell_type": "code",
   "execution_count": 254,
   "id": "6ccd9132",
   "metadata": {},
   "outputs": [],
   "source": [
    "sc_x=StandardScaler()\n",
    "x_train=sc_x.fit_transform(x_train)\n",
    "x_test=sc_x.fit_transform(x_test)"
   ]
  },
  {
   "cell_type": "code",
   "execution_count": 121,
   "id": "4a375162",
   "metadata": {},
   "outputs": [],
   "source": [
    "# x_train ya se ve que esta normalizado"
   ]
  },
  {
   "cell_type": "code",
   "execution_count": 122,
   "id": "15d9efdf",
   "metadata": {},
   "outputs": [],
   "source": [
    "# NO es necesario normalizar y. Es la variable booleana"
   ]
  },
  {
   "cell_type": "code",
   "execution_count": 135,
   "id": "6052eded",
   "metadata": {},
   "outputs": [],
   "source": [
    "# y_test"
   ]
  },
  {
   "cell_type": "markdown",
   "id": "b0bf74f7",
   "metadata": {},
   "source": [
    "#### Crear el modelo"
   ]
  },
  {
   "cell_type": "code",
   "execution_count": 136,
   "id": "97cfe61f",
   "metadata": {},
   "outputs": [],
   "source": [
    "#### Modelo de clasificacion por regresion logistica\n",
    "\n",
    "from sklearn.linear_model import LogisticRegression"
   ]
  },
  {
   "cell_type": "code",
   "execution_count": 255,
   "id": "87105b95",
   "metadata": {},
   "outputs": [
    {
     "data": {
      "text/html": [
       "<style>#sk-container-id-2 {color: black;background-color: white;}#sk-container-id-2 pre{padding: 0;}#sk-container-id-2 div.sk-toggleable {background-color: white;}#sk-container-id-2 label.sk-toggleable__label {cursor: pointer;display: block;width: 100%;margin-bottom: 0;padding: 0.3em;box-sizing: border-box;text-align: center;}#sk-container-id-2 label.sk-toggleable__label-arrow:before {content: \"▸\";float: left;margin-right: 0.25em;color: #696969;}#sk-container-id-2 label.sk-toggleable__label-arrow:hover:before {color: black;}#sk-container-id-2 div.sk-estimator:hover label.sk-toggleable__label-arrow:before {color: black;}#sk-container-id-2 div.sk-toggleable__content {max-height: 0;max-width: 0;overflow: hidden;text-align: left;background-color: #f0f8ff;}#sk-container-id-2 div.sk-toggleable__content pre {margin: 0.2em;color: black;border-radius: 0.25em;background-color: #f0f8ff;}#sk-container-id-2 input.sk-toggleable__control:checked~div.sk-toggleable__content {max-height: 200px;max-width: 100%;overflow: auto;}#sk-container-id-2 input.sk-toggleable__control:checked~label.sk-toggleable__label-arrow:before {content: \"▾\";}#sk-container-id-2 div.sk-estimator input.sk-toggleable__control:checked~label.sk-toggleable__label {background-color: #d4ebff;}#sk-container-id-2 div.sk-label input.sk-toggleable__control:checked~label.sk-toggleable__label {background-color: #d4ebff;}#sk-container-id-2 input.sk-hidden--visually {border: 0;clip: rect(1px 1px 1px 1px);clip: rect(1px, 1px, 1px, 1px);height: 1px;margin: -1px;overflow: hidden;padding: 0;position: absolute;width: 1px;}#sk-container-id-2 div.sk-estimator {font-family: monospace;background-color: #f0f8ff;border: 1px dotted black;border-radius: 0.25em;box-sizing: border-box;margin-bottom: 0.5em;}#sk-container-id-2 div.sk-estimator:hover {background-color: #d4ebff;}#sk-container-id-2 div.sk-parallel-item::after {content: \"\";width: 100%;border-bottom: 1px solid gray;flex-grow: 1;}#sk-container-id-2 div.sk-label:hover label.sk-toggleable__label {background-color: #d4ebff;}#sk-container-id-2 div.sk-serial::before {content: \"\";position: absolute;border-left: 1px solid gray;box-sizing: border-box;top: 0;bottom: 0;left: 50%;z-index: 0;}#sk-container-id-2 div.sk-serial {display: flex;flex-direction: column;align-items: center;background-color: white;padding-right: 0.2em;padding-left: 0.2em;position: relative;}#sk-container-id-2 div.sk-item {position: relative;z-index: 1;}#sk-container-id-2 div.sk-parallel {display: flex;align-items: stretch;justify-content: center;background-color: white;position: relative;}#sk-container-id-2 div.sk-item::before, #sk-container-id-2 div.sk-parallel-item::before {content: \"\";position: absolute;border-left: 1px solid gray;box-sizing: border-box;top: 0;bottom: 0;left: 50%;z-index: -1;}#sk-container-id-2 div.sk-parallel-item {display: flex;flex-direction: column;z-index: 1;position: relative;background-color: white;}#sk-container-id-2 div.sk-parallel-item:first-child::after {align-self: flex-end;width: 50%;}#sk-container-id-2 div.sk-parallel-item:last-child::after {align-self: flex-start;width: 50%;}#sk-container-id-2 div.sk-parallel-item:only-child::after {width: 0;}#sk-container-id-2 div.sk-dashed-wrapped {border: 1px dashed gray;margin: 0 0.4em 0.5em 0.4em;box-sizing: border-box;padding-bottom: 0.4em;background-color: white;}#sk-container-id-2 div.sk-label label {font-family: monospace;font-weight: bold;display: inline-block;line-height: 1.2em;}#sk-container-id-2 div.sk-label-container {text-align: center;}#sk-container-id-2 div.sk-container {/* jupyter's `normalize.less` sets `[hidden] { display: none; }` but bootstrap.min.css set `[hidden] { display: none !important; }` so we also need the `!important` here to be able to override the default hidden behavior on the sphinx rendered scikit-learn.org. See: https://github.com/scikit-learn/scikit-learn/issues/21755 */display: inline-block !important;position: relative;}#sk-container-id-2 div.sk-text-repr-fallback {display: none;}</style><div id=\"sk-container-id-2\" class=\"sk-top-container\"><div class=\"sk-text-repr-fallback\"><pre>LogisticRegression(random_state=1987)</pre><b>In a Jupyter environment, please rerun this cell to show the HTML representation or trust the notebook. <br />On GitHub, the HTML representation is unable to render, please try loading this page with nbviewer.org.</b></div><div class=\"sk-container\" hidden><div class=\"sk-item\"><div class=\"sk-estimator sk-toggleable\"><input class=\"sk-toggleable__control sk-hidden--visually\" id=\"sk-estimator-id-2\" type=\"checkbox\" checked><label for=\"sk-estimator-id-2\" class=\"sk-toggleable__label sk-toggleable__label-arrow\">LogisticRegression</label><div class=\"sk-toggleable__content\"><pre>LogisticRegression(random_state=1987)</pre></div></div></div></div></div>"
      ],
      "text/plain": [
       "LogisticRegression(random_state=1987)"
      ]
     },
     "execution_count": 255,
     "metadata": {},
     "output_type": "execute_result"
    }
   ],
   "source": [
    "clasificador=LogisticRegression(random_state=1987)\n",
    "clasificador.fit(x_train,y_train)  # la advertencia es por y "
   ]
  },
  {
   "cell_type": "code",
   "execution_count": 256,
   "id": "25afb9bf",
   "metadata": {},
   "outputs": [
    {
     "data": {
      "text/plain": [
       "array([0, 1, 0, 1, 0, 0, 0, 0, 1, 0, 1, 0, 1, 1, 0, 0, 1, 0, 0, 1, 0, 0,\n",
       "       1, 1, 1, 0, 0, 1, 0, 0, 0, 0, 0, 1, 0, 0, 0, 0, 0, 0, 1, 0, 0, 0,\n",
       "       0, 1, 0, 0, 0, 0, 1, 0, 0, 0, 1, 0, 1, 0, 0, 1, 0, 1, 0, 0, 0, 1,\n",
       "       0, 1, 1, 0, 0, 0, 0, 0, 0, 0, 0, 0, 0, 0, 0, 0, 0, 0, 0, 0, 1, 1,\n",
       "       0, 1, 0, 1, 0, 1, 0, 0, 1, 1, 1, 0, 0, 1, 0, 0, 0, 0, 0, 1, 1, 0,\n",
       "       0, 0, 0, 1, 0, 0, 0, 1, 0, 1], dtype=int64)"
      ]
     },
     "execution_count": 256,
     "metadata": {},
     "output_type": "execute_result"
    }
   ],
   "source": [
    "clasificador.predict(x_test) # aqui esta la prediccion"
   ]
  },
  {
   "cell_type": "code",
   "execution_count": 153,
   "id": "9b3d8c29",
   "metadata": {},
   "outputs": [
    {
     "data": {
      "text/plain": [
       "'vector=np.array([0, 1, 0, 1, 0, 0, 0, 0, 1, 0, 1, 0, 1, 1, 0, 0, 1, 0, 0, 1, 0, 0,\\n       1, 1, 1, 0, 0, 1, 0, 0, 0, 0, 0, 1, 0, 0, 0, 0, 0, 0, 1, 0, 0, 0,\\n       0, 1, 0, 0, 0, 0, 1, 0, 0, 0, 1, 0, 1, 0, 0, 1, 0, 1, 0, 0, 0, 1,\\n       0, 1, 1, 0, 0, 0, 0, 0, 0, 0, 0, 0, 0, 0, 0, 0, 0, 0, 0, 0, 1, 1,\\n       0, 1, 0, 1, 0, 1, 0, 0, 1, 1, 1, 0, 0, 1, 0, 0, 0, 0, 0, 1, 1, 0,\\n       0, 0, 0, 1, 0, 0, 0, 1, 0, 1])\\nvector.reshape(120,1)'"
      ]
     },
     "execution_count": 153,
     "metadata": {},
     "output_type": "execute_result"
    }
   ],
   "source": [
    "\"\"\"vector=np.array([0, 1, 0, 1, 0, 0, 0, 0, 1, 0, 1, 0, 1, 1, 0, 0, 1, 0, 0, 1, 0, 0,\n",
    "       1, 1, 1, 0, 0, 1, 0, 0, 0, 0, 0, 1, 0, 0, 0, 0, 0, 0, 1, 0, 0, 0,\n",
    "       0, 1, 0, 0, 0, 0, 1, 0, 0, 0, 1, 0, 1, 0, 0, 1, 0, 1, 0, 0, 0, 1,\n",
    "       0, 1, 1, 0, 0, 0, 0, 0, 0, 0, 0, 0, 0, 0, 0, 0, 0, 0, 0, 0, 1, 1,\n",
    "       0, 1, 0, 1, 0, 1, 0, 0, 1, 1, 1, 0, 0, 1, 0, 0, 0, 0, 0, 1, 1, 0,\n",
    "       0, 0, 0, 1, 0, 0, 0, 1, 0, 1])\n",
    "vector.reshape(120,1)\"\"\""
   ]
  },
  {
   "cell_type": "markdown",
   "id": "342e3dba",
   "metadata": {},
   "source": [
    "#### Evaluacion de modelo"
   ]
  },
  {
   "cell_type": "markdown",
   "id": "5181423d",
   "metadata": {},
   "source": [
    "Para la evaluacion del modelo de clasificacion por regresion logistica necesitamos:\n",
    "    \n",
    "* La matriz de confusion que es una matriz o tabla de contingencia.\n",
    "    \n",
    "En esta tabla tenemos los valores posibles de y_test (reales) contra los valores de la prediccion sobre x_test.\n",
    "\n",
    "En la diagonal tendremos los aciertos y en la contradiagonal los fallos"
   ]
  },
  {
   "cell_type": "code",
   "execution_count": 141,
   "id": "1f0b486f",
   "metadata": {},
   "outputs": [],
   "source": [
    "from sklearn.metrics import confusion_matrix"
   ]
  },
  {
   "cell_type": "code",
   "execution_count": 257,
   "id": "4f2408ec",
   "metadata": {},
   "outputs": [
    {
     "data": {
      "text/plain": [
       "array([[70,  5],\n",
       "       [13, 32]], dtype=int64)"
      ]
     },
     "execution_count": 257,
     "metadata": {},
     "output_type": "execute_result"
    }
   ],
   "source": [
    "matriz_conf=confusion_matrix(y_test, clasificador.predict(x_test))\n",
    "matriz_conf  # Me pase estos 102 aciertos de la prediccion y los datos reales y comprobe que es correcto."
   ]
  },
  {
   "cell_type": "markdown",
   "id": "e78244aa",
   "metadata": {},
   "source": [
    "* VP=70\n",
    "* FP=5\n",
    "* FN=13\n",
    "* VN=32"
   ]
  },
  {
   "cell_type": "code",
   "execution_count": 258,
   "id": "364575f3",
   "metadata": {},
   "outputs": [
    {
     "data": {
      "text/plain": [
       "0.85"
      ]
     },
     "execution_count": 258,
     "metadata": {},
     "output_type": "execute_result"
    }
   ],
   "source": [
    "accuracy_exactitud=(matriz_conf[0,0]+matriz_conf[1,1])/matriz_conf.sum()\n",
    "accuracy_exactitud"
   ]
  },
  {
   "cell_type": "code",
   "execution_count": 259,
   "id": "ebbf8128",
   "metadata": {},
   "outputs": [
    {
     "data": {
      "text/plain": [
       "0.9333333333333333"
      ]
     },
     "execution_count": 259,
     "metadata": {},
     "output_type": "execute_result"
    }
   ],
   "source": [
    "precision_precision=matriz_conf[0,0]/(matriz_conf[0,0]+matriz_conf[0,1])\n",
    "precision_precision"
   ]
  },
  {
   "cell_type": "code",
   "execution_count": 260,
   "id": "3715cd70",
   "metadata": {},
   "outputs": [
    {
     "data": {
      "text/plain": [
       "0.8648648648648649"
      ]
     },
     "execution_count": 260,
     "metadata": {},
     "output_type": "execute_result"
    }
   ],
   "source": [
    "specifity_especificidad=matriz_conf[1,1]/(matriz_conf[1,1]+matriz_conf[0,1])\n",
    "specifity_especificidad"
   ]
  },
  {
   "cell_type": "code",
   "execution_count": 261,
   "id": "c5f224e3",
   "metadata": {},
   "outputs": [
    {
     "data": {
      "text/plain": [
       "0.8433734939759037"
      ]
     },
     "execution_count": 261,
     "metadata": {},
     "output_type": "execute_result"
    }
   ],
   "source": [
    "recall_sensibilidad=matriz_conf[0,0]/(matriz_conf[0,0]+matriz_conf[1,0])\n",
    "recall_sensibilidad"
   ]
  },
  {
   "cell_type": "markdown",
   "id": "849ebbe7",
   "metadata": {},
   "source": [
    "F1 SCORE como evaluacion global del modelo"
   ]
  },
  {
   "cell_type": "code",
   "execution_count": 262,
   "id": "be10048d",
   "metadata": {},
   "outputs": [
    {
     "data": {
      "text/plain": [
       "0.8860759493670886"
      ]
     },
     "execution_count": 262,
     "metadata": {},
     "output_type": "execute_result"
    }
   ],
   "source": [
    "f1_score=2*precision_precision*recall_sensibilidad/(precision_precision+recall_sensibilidad)\n",
    "f1_score"
   ]
  },
  {
   "cell_type": "code",
   "execution_count": 263,
   "id": "89c529fe",
   "metadata": {},
   "outputs": [
    {
     "name": "stdout",
     "output_type": "stream",
     "text": [
      "Aciertos:  102\n",
      "Fallos:  18\n",
      "Precision: 0.85\n"
     ]
    }
   ],
   "source": [
    "print('Aciertos: ', 70+32)\n",
    "print('Fallos: ',13+5)  # casos de testing 0.3*400 = 120 correcto\n",
    "print ('Precision:', 102/120)"
   ]
  },
  {
   "cell_type": "code",
   "execution_count": 264,
   "id": "4e1b2968",
   "metadata": {},
   "outputs": [],
   "source": [
    "## Funcion de evaluacion\n",
    "def Evaluacion_ClasificacionRL(matriz_conting):\n",
    "    precision_precision=matriz_conf[0,0]/(matriz_conf[0,0]+matriz_conf[0,1])\n",
    "    accuracy_exactitud=(matriz_conf[0,0]+matriz_conf[1,1])/matriz_conf.sum()\n",
    "    specifity_especificidad=matriz_conf[1,1]/(matriz_conf[1,1]+matriz_conf[0,1])\n",
    "    recall_sensibilidad=matriz_conf[0,0]/(matriz_conf[0,0]+matriz_conf[1,0])\n",
    "    f1_score=2*precision_precision*recall_sensibilidad/(precision_precision+recall_sensibilidad)\n",
    "    print(f\"Precision: {precision_precision:.2f}\\nExactitud: {accuracy_exactitud:.2f}\\nEspecificidad: {specifity_especificidad:.2f}\\nSensibilidad: {recall_sensibilidad:.2f}\\nPuntuación F1: {f1_score:.2f}\")\n",
    "    "
   ]
  },
  {
   "cell_type": "code",
   "execution_count": 265,
   "id": "eb0832eb",
   "metadata": {},
   "outputs": [
    {
     "name": "stdout",
     "output_type": "stream",
     "text": [
      "Precision: 0.93\n",
      "Exactitud: 0.85\n",
      "Especificidad: 0.86\n",
      "Sensibilidad: 0.84\n",
      "Puntuación F1: 0.89\n"
     ]
    }
   ],
   "source": [
    "Evaluacion_ClasificacionRL(matriz_conf)"
   ]
  },
  {
   "cell_type": "code",
   "execution_count": null,
   "id": "2b215281",
   "metadata": {},
   "outputs": [],
   "source": []
  },
  {
   "cell_type": "markdown",
   "id": "eb9f5103",
   "metadata": {},
   "source": [
    "#### Visualizacion del modelo"
   ]
  },
  {
   "cell_type": "code",
   "execution_count": 267,
   "id": "3919e9ba",
   "metadata": {},
   "outputs": [
    {
     "name": "stderr",
     "output_type": "stream",
     "text": [
      "*c* argument looks like a single numeric RGB or RGBA sequence, which should be avoided as value-mapping will have precedence in case its length matches with *x* & *y*.  Please use the *color* keyword-argument or provide a 2D array with a single row if you intend to specify the same RGB or RGBA value for all points.\n",
      "*c* argument looks like a single numeric RGB or RGBA sequence, which should be avoided as value-mapping will have precedence in case its length matches with *x* & *y*.  Please use the *color* keyword-argument or provide a 2D array with a single row if you intend to specify the same RGB or RGBA value for all points.\n"
     ]
    },
    {
     "data": {
      "image/png": "[encoded data removed]",
      "text/plain": [
       "<Figure size 640x480 with 1 Axes>"
      ]
     },
     "metadata": {},
     "output_type": "display_data"
    }
   ],
   "source": [
    "from matplotlib.colors import ListedColormap \n",
    "x_set, y_set = sc_x.inverse_transform(x_test), y_test\n",
    "x1,x2=np.meshgrid(np.arange(start=x_set[:,0].min()-10, stop = x_set[:,0].max()+10, step=0.25), np.arange(start=x_set[:,1].min()-1000, stop=x_set[:,1].max()+1000, step=500)) # coord x e y\n",
    "plt.contourf(x1,x2,clasificador.predict(sc_x.transform(np.array([x1.ravel(),x2.ravel()]).T)).reshape(x1.shape),alpha=0.35,cmap=ListedColormap(('red','green'))) # ravel() aplana la matriz\n",
    "plt.xlim(x1.min(),x1.max())\n",
    "plt.ylim(x2.min(),x2.max())\n",
    "for i,j in enumerate(np.unique(y_set)):\n",
    "    plt.scatter(x_set[y_set==j,0], x_set[y_set==j,1], c = ListedColormap(('red','green'))(i),label=j)\n",
    "plt.title('Regresion Logistica - Test')\n",
    "plt.xlabel('Nivel experiencia')\n",
    "plt.ylabel('Salario')\n",
    "plt.legend()\n",
    "plt.show()"
   ]
  },
  {
   "cell_type": "code",
   "execution_count": 268,
   "id": "2bdb5f6a",
   "metadata": {},
   "outputs": [],
   "source": []
  },
  {
   "cell_type": "markdown",
   "id": "febf7576",
   "metadata": {},
   "source": [
    "La función numpy.meshgrid devuelve una lista de matrices de coordenadas a partir de vectores de coordenadas.\n",
    "Por ej: siendo dos vectores de coordenadas, coord_x y coor_y, devuelve dos arrays, X e Y, conteniendo el primero la coordenada X de los 9 puntos, y el segundo la coordenada Y de los mismos"
   ]
  },
  {
   "cell_type": "markdown",
   "id": "659c03bd",
   "metadata": {},
   "source": [
    "La funcion ravel() aplana un array/matriz. En este caso de array 2D a array 1D."
   ]
  },
  {
   "cell_type": "code",
   "execution_count": null,
   "id": "85e5d208",
   "metadata": {},
   "outputs": [],
   "source": []
  },
  {
   "cell_type": "code",
   "execution_count": null,
   "id": "20579688",
   "metadata": {},
   "outputs": [],
   "source": []
  },
  {
   "cell_type": "code",
   "execution_count": null,
   "id": "49ff4c22",
   "metadata": {},
   "outputs": [],
   "source": []
  }
 ],
 "metadata": {
  "kernelspec": {
   "display_name": "Python 3 (ipykernel)",
   "language": "python",
   "name": "python3"
  },
  "language_info": {
   "codemirror_mode": {
    "name": "ipython",
    "version": 3
   },
   "file_extension": ".py",
   "mimetype": "text/x-python",
   "name": "python",
   "nbconvert_exporter": "python",
   "pygments_lexer": "ipython3",
   "version": "3.9.13"
  }
 },
 "nbformat": 4,
 "nbformat_minor": 5
}
