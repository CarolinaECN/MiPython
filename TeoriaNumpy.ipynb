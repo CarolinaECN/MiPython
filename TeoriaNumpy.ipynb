{
 "cells": [
  {
   "cell_type": "markdown",
   "id": "003bffdf",
   "metadata": {},
   "source": [
    "## Libreria Numpy (numeric python)"
   ]
  },
  {
   "cell_type": "markdown",
   "id": "29236ccf",
   "metadata": {},
   "source": [
    "#### Libreria para aplicaciones de calculo numérico y computacion científica para matrices.\n",
    "\n",
    "* Reemplazo de MatLab.\n",
    "* Permite el calculo matricial de manera vectorizada. Estructuras de dimension n. Consume menos memoria y aporta facilidad de uso.\n",
    "* Trabaja con estructuras homogeneas.\n",
    "* Solo admite numeros (int, float, complex). Solo un tipo de dato para cada estructura!! Estructuras numericas homogeneas.\n",
    "* Esta programado en Fortran y C"
   ]
  },
  {
   "cell_type": "code",
   "execution_count": null,
   "id": "edf0ef3a",
   "metadata": {},
   "outputs": [],
   "source": [
    "import subprocess # para simular una linea de comandos\n",
    "\n",
    "# split() para que convierta la salida en lista\n",
    "# capture_output para capturar la salida, en caso de error es muy util\n",
    "# text=True lo devuelve como texto"
   ]
  },
  {
   "cell_type": "code",
   "execution_count": null,
   "id": "75742917",
   "metadata": {},
   "outputs": [],
   "source": [
    "p=subprocess.run('python --version'.split(), capture_output=True, text=True)\n",
    "p.stdout.replace(\"\\n\",\"\")"
   ]
  },
  {
   "cell_type": "code",
   "execution_count": null,
   "id": "3984239a",
   "metadata": {},
   "outputs": [],
   "source": [
    "# Lo uso para instalar numpy. Como ya la tengo instalada me indica que ya la tengo instalada.\n",
    "\n",
    "p=subprocess.run('pip install numpy', capture_output=True, text=True)\n",
    "p.stdout.replace(\"\\n\",\"\")"
   ]
  },
  {
   "cell_type": "code",
   "execution_count": null,
   "id": "e02d3c42",
   "metadata": {},
   "outputs": [],
   "source": [
    "# Otra forma de instalar simulando la consola de comandos con !\n",
    "! pip install numpy "
   ]
  },
  {
   "cell_type": "code",
   "execution_count": 1,
   "id": "639f933e",
   "metadata": {},
   "outputs": [],
   "source": [
    "# Cargar numpy\n",
    "\n",
    "import numpy as np"
   ]
  },
  {
   "cell_type": "markdown",
   "id": "0e3cbc4e",
   "metadata": {},
   "source": [
    "### Arreglos\n",
    "\n",
    "* Vector unidimensional\n",
    "* Matriz multidimensional"
   ]
  },
  {
   "cell_type": "code",
   "execution_count": 2,
   "id": "cd5122f1",
   "metadata": {},
   "outputs": [
    {
     "data": {
      "text/plain": [
       "[0, 1, 2, 3, 4, 5, 6, 7, 8, 9]"
      ]
     },
     "execution_count": 2,
     "metadata": {},
     "output_type": "execute_result"
    }
   ],
   "source": [
    "l=list(range(10))\n",
    "l"
   ]
  },
  {
   "cell_type": "code",
   "execution_count": 3,
   "id": "d1d8b018",
   "metadata": {},
   "outputs": [
    {
     "data": {
      "text/plain": [
       "array([0, 1, 2, 3, 4, 5, 6, 7, 8, 9])"
      ]
     },
     "execution_count": 3,
     "metadata": {},
     "output_type": "execute_result"
    }
   ],
   "source": [
    "l_np=np.array(l) # convierte la lista a array de numpy\n",
    "l_np"
   ]
  },
  {
   "cell_type": "code",
   "execution_count": 4,
   "id": "a2a8a2ee",
   "metadata": {},
   "outputs": [
    {
     "data": {
      "text/plain": [
       "list"
      ]
     },
     "execution_count": 4,
     "metadata": {},
     "output_type": "execute_result"
    }
   ],
   "source": [
    "type(l)"
   ]
  },
  {
   "cell_type": "code",
   "execution_count": 5,
   "id": "93a8c25c",
   "metadata": {},
   "outputs": [
    {
     "data": {
      "text/plain": [
       "numpy.ndarray"
      ]
     },
     "execution_count": 5,
     "metadata": {},
     "output_type": "execute_result"
    }
   ],
   "source": [
    "type(l_np) # son diferentes estructuras las listas y los arrays. Los arrays de numpy son mas eficientes"
   ]
  },
  {
   "cell_type": "code",
   "execution_count": 6,
   "id": "9dee4c8d",
   "metadata": {},
   "outputs": [
    {
     "data": {
      "text/plain": [
       "(10, 10)"
      ]
     },
     "execution_count": 6,
     "metadata": {},
     "output_type": "execute_result"
    }
   ],
   "source": [
    "len(l), len(l_np)"
   ]
  },
  {
   "cell_type": "code",
   "execution_count": 7,
   "id": "f56a4917",
   "metadata": {},
   "outputs": [
    {
     "data": {
      "text/plain": [
       "([0, 1, 2, 3], array([0, 1, 2, 3]))"
      ]
     },
     "execution_count": 7,
     "metadata": {},
     "output_type": "execute_result"
    }
   ],
   "source": [
    "# Teniendo una lista y un array con los mismos elementos\n",
    "l=[0,1,2,3]\n",
    "lnp=np.array(l)\n",
    "l, lnp"
   ]
  },
  {
   "cell_type": "code",
   "execution_count": 8,
   "id": "1f7869fd",
   "metadata": {},
   "outputs": [
    {
     "data": {
      "text/plain": [
       "(list, numpy.ndarray)"
      ]
     },
     "execution_count": 8,
     "metadata": {},
     "output_type": "execute_result"
    }
   ],
   "source": [
    "# El tipo de objeto es diferente\n",
    "type(l), type(lnp)"
   ]
  },
  {
   "cell_type": "code",
   "execution_count": 9,
   "id": "fb8f74c0",
   "metadata": {},
   "outputs": [
    {
     "data": {
      "text/plain": [
       "array([ True,  True,  True,  True])"
      ]
     },
     "execution_count": 9,
     "metadata": {},
     "output_type": "execute_result"
    }
   ],
   "source": [
    "# Aunque los elementos sean iguales\n",
    "l[:len(l)]==lnp[:lnp.size]"
   ]
  },
  {
   "cell_type": "code",
   "execution_count": 10,
   "id": "0b83833b",
   "metadata": {},
   "outputs": [],
   "source": [
    "# Algunas propiedades de los arrays"
   ]
  },
  {
   "cell_type": "code",
   "execution_count": 11,
   "id": "b73971f4",
   "metadata": {},
   "outputs": [
    {
     "data": {
      "text/plain": [
       "1"
      ]
     },
     "execution_count": 11,
     "metadata": {},
     "output_type": "execute_result"
    }
   ],
   "source": [
    "l_np.ndim # dimensiones de la matriz (en este caso es un vector)"
   ]
  },
  {
   "cell_type": "code",
   "execution_count": 12,
   "id": "b88341da",
   "metadata": {},
   "outputs": [
    {
     "data": {
      "text/plain": [
       "10"
      ]
     },
     "execution_count": 12,
     "metadata": {},
     "output_type": "execute_result"
    }
   ],
   "source": [
    "l_np.size # Nro de objetos del array vectorizado. Es mas eficiente que len. Es la funcion para obtener la longitud del array"
   ]
  },
  {
   "cell_type": "code",
   "execution_count": 13,
   "id": "b1b3770a",
   "metadata": {},
   "outputs": [
    {
     "data": {
      "text/plain": [
       "(10,)"
      ]
     },
     "execution_count": 13,
     "metadata": {},
     "output_type": "execute_result"
    }
   ],
   "source": [
    "l_np.shape # devuelve ambos datos"
   ]
  },
  {
   "cell_type": "code",
   "execution_count": 14,
   "id": "e559d9dc",
   "metadata": {},
   "outputs": [
    {
     "data": {
      "text/plain": [
       "[0, 1, 2, 3]"
      ]
     },
     "execution_count": 14,
     "metadata": {},
     "output_type": "execute_result"
    }
   ],
   "source": [
    "l"
   ]
  },
  {
   "cell_type": "code",
   "execution_count": 15,
   "id": "866e0044",
   "metadata": {},
   "outputs": [
    {
     "data": {
      "text/plain": [
       "0"
      ]
     },
     "execution_count": 15,
     "metadata": {},
     "output_type": "execute_result"
    }
   ],
   "source": [
    "# para mostrar un elemento\n",
    "l_np[0]"
   ]
  },
  {
   "cell_type": "code",
   "execution_count": 16,
   "id": "d899bdf9",
   "metadata": {},
   "outputs": [
    {
     "data": {
      "text/plain": [
       "array([0, 1, 2, 3, 4, 5, 6, 7, 8, 9])"
      ]
     },
     "execution_count": 16,
     "metadata": {},
     "output_type": "execute_result"
    }
   ],
   "source": [
    "# Muestra todo\n",
    "l_np[:l_np.size]"
   ]
  },
  {
   "cell_type": "code",
   "execution_count": 17,
   "id": "d58d6e9f",
   "metadata": {},
   "outputs": [
    {
     "data": {
      "text/plain": [
       "array([0, 1, 2, 3, 4, 5, 6, 7, 8, 9])"
      ]
     },
     "execution_count": 17,
     "metadata": {},
     "output_type": "execute_result"
    }
   ],
   "source": [
    "l_np"
   ]
  },
  {
   "cell_type": "markdown",
   "id": "8a99d034",
   "metadata": {},
   "source": [
    "Nota: las operaciones de deben realizar sobre el mismo tipo de objeto. Vectorizados o sin vectorizar. No se pueden combinar en las operaciones."
   ]
  },
  {
   "cell_type": "markdown",
   "id": "90bb2b46",
   "metadata": {},
   "source": [
    "Nota: Numpy trabaja con numeros flotantes. Es mas eficiente con variables flotantes."
   ]
  },
  {
   "cell_type": "code",
   "execution_count": 18,
   "id": "a561ca08",
   "metadata": {},
   "outputs": [
    {
     "data": {
      "text/plain": [
       "array([10, 11, 12, 13, 14])"
      ]
     },
     "execution_count": 18,
     "metadata": {},
     "output_type": "execute_result"
    }
   ],
   "source": [
    "np.arange(10,15,1) # equivalente a range de python con listas"
   ]
  },
  {
   "cell_type": "code",
   "execution_count": 19,
   "id": "46efa4d5",
   "metadata": {},
   "outputs": [
    {
     "data": {
      "text/plain": [
       "[0, 0, 0, 0]"
      ]
     },
     "execution_count": 19,
     "metadata": {},
     "output_type": "execute_result"
    }
   ],
   "source": [
    "[0]*4 # con listas"
   ]
  },
  {
   "cell_type": "code",
   "execution_count": 20,
   "id": "44b5b516",
   "metadata": {},
   "outputs": [
    {
     "data": {
      "text/plain": [
       "array([0., 0., 0., 0.])"
      ]
     },
     "execution_count": 20,
     "metadata": {},
     "output_type": "execute_result"
    }
   ],
   "source": [
    "np.zeros(4) # con arrays. Observar que son float"
   ]
  },
  {
   "cell_type": "code",
   "execution_count": 21,
   "id": "5c267916",
   "metadata": {},
   "outputs": [
    {
     "data": {
      "text/plain": [
       "array([1., 1., 1.])"
      ]
     },
     "execution_count": 21,
     "metadata": {},
     "output_type": "execute_result"
    }
   ],
   "source": [
    "np.ones(3)"
   ]
  },
  {
   "cell_type": "code",
   "execution_count": null,
   "id": "70a7d874",
   "metadata": {},
   "outputs": [],
   "source": [
    "# Para generar este vector\n",
    "[0.1,0.2,0.3,0.4,0.5,0.6,0.7,0.8,0.9]"
   ]
  },
  {
   "cell_type": "code",
   "execution_count": null,
   "id": "0875b5d9",
   "metadata": {},
   "outputs": [],
   "source": [
    "range(0.1,1.0,0.1) range solo vale para enteros"
   ]
  },
  {
   "cell_type": "code",
   "execution_count": 22,
   "id": "783eb778",
   "metadata": {},
   "outputs": [
    {
     "data": {
      "text/plain": [
       "[0.1, 0.2, 0.3, 0.4, 0.5, 0.6, 0.7, 0.8, 0.9, 1.0]"
      ]
     },
     "execution_count": 22,
     "metadata": {},
     "output_type": "execute_result"
    }
   ],
   "source": [
    "[i/10 for i in range(1,11)]"
   ]
  },
  {
   "cell_type": "code",
   "execution_count": 23,
   "id": "ae8569a3",
   "metadata": {},
   "outputs": [
    {
     "data": {
      "text/plain": [
       "[0.15000000000000002,\n",
       " 0.25,\n",
       " 0.35,\n",
       " 0.45,\n",
       " 0.55,\n",
       " 0.65,\n",
       " 0.75,\n",
       " 0.8500000000000001,\n",
       " 0.9500000000000001,\n",
       " 1.05]"
      ]
     },
     "execution_count": 23,
     "metadata": {},
     "output_type": "execute_result"
    }
   ],
   "source": [
    "[0.05+i/10 for i in range(1,11)] # observar que python sin vectorizar no trata bien los decimales. Para entero guay pero flotante ko.\n",
    "                                # Maneja una precision n"
   ]
  },
  {
   "cell_type": "code",
   "execution_count": 24,
   "id": "f4c0b938",
   "metadata": {},
   "outputs": [
    {
     "data": {
      "text/plain": [
       "array([0.1, 0.2, 0.3, 0.4, 0.5, 0.6, 0.7, 0.8, 0.9, 1. ])"
      ]
     },
     "execution_count": 24,
     "metadata": {},
     "output_type": "execute_result"
    }
   ],
   "source": [
    "# con vector numpy\n",
    "np.linspace(0.1,1,10)"
   ]
  },
  {
   "cell_type": "code",
   "execution_count": 25,
   "id": "9afc5e9b",
   "metadata": {},
   "outputs": [
    {
     "data": {
      "text/plain": [
       "array([0.15, 0.25, 0.35, 0.45, 0.55, 0.65, 0.75, 0.85, 0.95, 1.05])"
      ]
     },
     "execution_count": 25,
     "metadata": {},
     "output_type": "execute_result"
    }
   ],
   "source": [
    "np.linspace(0.1,1,10)+0.05 # estos resultados si son correctos"
   ]
  },
  {
   "cell_type": "code",
   "execution_count": 26,
   "id": "e993b550",
   "metadata": {},
   "outputs": [],
   "source": [
    "a,b=[0,1,2],[1,1,1]"
   ]
  },
  {
   "cell_type": "code",
   "execution_count": 27,
   "id": "ed0c49ee",
   "metadata": {},
   "outputs": [
    {
     "data": {
      "text/plain": [
       "([0, 1, 2], [1, 1, 1])"
      ]
     },
     "execution_count": 27,
     "metadata": {},
     "output_type": "execute_result"
    }
   ],
   "source": [
    "a,b"
   ]
  },
  {
   "cell_type": "code",
   "execution_count": 28,
   "id": "f2088249",
   "metadata": {},
   "outputs": [],
   "source": [
    "# Si quiero obtener a*10+b*0.5\n",
    "# Con listas de python tengo que definir una funcion. \n",
    "# Con vectores:"
   ]
  },
  {
   "cell_type": "code",
   "execution_count": 29,
   "id": "9887e4dd",
   "metadata": {},
   "outputs": [],
   "source": [
    "a=np.array([0,1,2])\n",
    "b=np.array([1, 1, 1])"
   ]
  },
  {
   "cell_type": "code",
   "execution_count": 30,
   "id": "fde579e9",
   "metadata": {},
   "outputs": [
    {
     "data": {
      "text/plain": [
       "array([ 0.5, 10.5, 20.5])"
      ]
     },
     "execution_count": 30,
     "metadata": {},
     "output_type": "execute_result"
    }
   ],
   "source": [
    "c=a*10+b*0.5 # Con numpy es directo\n",
    "c"
   ]
  },
  {
   "cell_type": "code",
   "execution_count": 31,
   "id": "8a6c5839",
   "metadata": {},
   "outputs": [
    {
     "data": {
      "text/plain": [
       "array([2.5, 3.5, 4.5])"
      ]
     },
     "execution_count": 31,
     "metadata": {},
     "output_type": "execute_result"
    }
   ],
   "source": [
    "d=(3+a)-(b-0.5)\n",
    "d"
   ]
  },
  {
   "cell_type": "code",
   "execution_count": 32,
   "id": "7385dce0",
   "metadata": {},
   "outputs": [
    {
     "data": {
      "text/plain": [
       "array([0, 1, 2])"
      ]
     },
     "execution_count": 32,
     "metadata": {},
     "output_type": "execute_result"
    }
   ],
   "source": [
    "e=a*b\n",
    "e"
   ]
  },
  {
   "cell_type": "code",
   "execution_count": 33,
   "id": "e8a24b04",
   "metadata": {},
   "outputs": [],
   "source": [
    "a=np.array([0,1,2])\n",
    "b=np.array([1, 0, 1])"
   ]
  },
  {
   "cell_type": "code",
   "execution_count": 34,
   "id": "27454762",
   "metadata": {},
   "outputs": [
    {
     "name": "stderr",
     "output_type": "stream",
     "text": [
      "C:\\Users\\carolina\\AppData\\Local\\Temp\\ipykernel_10712\\2014004919.py:1: RuntimeWarning: divide by zero encountered in true_divide\n",
      "  f=a/b # en divisiones con indeterminacion matematica avisa y coherciona a calculo simbolico\n"
     ]
    },
    {
     "data": {
      "text/plain": [
       "array([ 0., inf,  2.])"
      ]
     },
     "execution_count": 34,
     "metadata": {},
     "output_type": "execute_result"
    }
   ],
   "source": [
    "f=a/b # en divisiones con indeterminacion matematica avisa y coherciona a calculo simbolico\n",
    "f"
   ]
  },
  {
   "cell_type": "code",
   "execution_count": 35,
   "id": "7b97f63b",
   "metadata": {},
   "outputs": [],
   "source": [
    "a=[0,1,2]\n",
    "b=[1,2,3]"
   ]
  },
  {
   "cell_type": "code",
   "execution_count": 36,
   "id": "41eb757c",
   "metadata": {},
   "outputs": [
    {
     "data": {
      "text/plain": [
       "[0, 1, 2, 1, 2, 3]"
      ]
     },
     "execution_count": 36,
     "metadata": {},
     "output_type": "execute_result"
    }
   ],
   "source": [
    "a.extend(b)\n",
    "a"
   ]
  },
  {
   "cell_type": "code",
   "execution_count": 37,
   "id": "eeb6d5f0",
   "metadata": {},
   "outputs": [],
   "source": [
    "a=np.array([0,1,2])\n",
    "b=np.array([1,2,3])"
   ]
  },
  {
   "cell_type": "code",
   "execution_count": 38,
   "id": "a011f5fc",
   "metadata": {},
   "outputs": [
    {
     "data": {
      "text/plain": [
       "(array([0, 1, 2]), array([1, 2, 3]))"
      ]
     },
     "execution_count": 38,
     "metadata": {},
     "output_type": "execute_result"
    }
   ],
   "source": [
    "a,b"
   ]
  },
  {
   "cell_type": "code",
   "execution_count": 39,
   "id": "a847e67e",
   "metadata": {},
   "outputs": [
    {
     "data": {
      "text/plain": [
       "array([0, 1, 2, 1, 2, 3])"
      ]
     },
     "execution_count": 39,
     "metadata": {},
     "output_type": "execute_result"
    }
   ],
   "source": [
    "np.concatenate((a,b)) # "
   ]
  },
  {
   "cell_type": "code",
   "execution_count": 40,
   "id": "1707d8c8",
   "metadata": {},
   "outputs": [
    {
     "data": {
      "text/plain": [
       "array([0, 1])"
      ]
     },
     "execution_count": 40,
     "metadata": {},
     "output_type": "execute_result"
    }
   ],
   "source": [
    "a[a<2] # devuelve los elementos del array que cumplen la condicion"
   ]
  },
  {
   "cell_type": "code",
   "execution_count": 41,
   "id": "4f0c4209",
   "metadata": {},
   "outputs": [
    {
     "data": {
      "text/plain": [
       "array([3, 4, 5, 6, 7, 8, 9])"
      ]
     },
     "execution_count": 41,
     "metadata": {},
     "output_type": "execute_result"
    }
   ],
   "source": [
    "l_np[l_np>=3]"
   ]
  },
  {
   "cell_type": "code",
   "execution_count": 42,
   "id": "7149fb7f",
   "metadata": {},
   "outputs": [
    {
     "data": {
      "text/plain": [
       "array([0, 2, 4, 6, 8])"
      ]
     },
     "execution_count": 42,
     "metadata": {},
     "output_type": "execute_result"
    }
   ],
   "source": [
    "l_np[l_np%2==0] # numeros pares del vector"
   ]
  },
  {
   "cell_type": "markdown",
   "id": "67a37ca5",
   "metadata": {},
   "source": [
    "#### Operadores logicos de Numpy\n",
    "\n",
    "* mayor y menor son iguales: >, >=, <, <=\n",
    "* and es &\n",
    "* or es |"
   ]
  },
  {
   "cell_type": "code",
   "execution_count": 43,
   "id": "5bbb7ced",
   "metadata": {},
   "outputs": [
    {
     "name": "stdout",
     "output_type": "stream",
     "text": [
      "9\n"
     ]
    }
   ],
   "source": [
    "# En python \n",
    "\n",
    "q=9\n",
    "if q>6 and q%2!=0:\n",
    "    print(q)"
   ]
  },
  {
   "cell_type": "code",
   "execution_count": 46,
   "id": "87a0ff4b",
   "metadata": {},
   "outputs": [],
   "source": [
    "q=9\n",
    "if q>6 & q%2!=0:   # en este ide & no funciona \n",
    "    print(q)   "
   ]
  },
  {
   "cell_type": "code",
   "execution_count": 47,
   "id": "eca7981f",
   "metadata": {},
   "outputs": [
    {
     "data": {
      "text/plain": [
       "array([3, 5, 7, 9])"
      ]
     },
     "execution_count": 47,
     "metadata": {},
     "output_type": "execute_result"
    }
   ],
   "source": [
    "# En numpy\n",
    "\n",
    "l_np[(l_np%2!=0) & (l_np>=3)] # las condiciones requieren de encerrar con () las partes "
   ]
  },
  {
   "cell_type": "code",
   "execution_count": 48,
   "id": "fbf09f96",
   "metadata": {},
   "outputs": [
    {
     "data": {
      "text/plain": [
       "array([0, 1, 7, 8, 9])"
      ]
     },
     "execution_count": 48,
     "metadata": {},
     "output_type": "execute_result"
    }
   ],
   "source": [
    "l_np[(l_np<2) | (l_np>6)] # Mayores de 6 o menores a 2\n"
   ]
  },
  {
   "cell_type": "markdown",
   "id": "75e8ad36",
   "metadata": {},
   "source": [
    "#### Matrices"
   ]
  },
  {
   "cell_type": "code",
   "execution_count": 49,
   "id": "37e332db",
   "metadata": {},
   "outputs": [],
   "source": [
    "m=[[1,2,3],[4,5,6]]"
   ]
  },
  {
   "cell_type": "code",
   "execution_count": 50,
   "id": "22b3a604",
   "metadata": {},
   "outputs": [
    {
     "data": {
      "text/plain": [
       "array([[1, 2, 3],\n",
       "       [4, 5, 6]])"
      ]
     },
     "execution_count": 50,
     "metadata": {},
     "output_type": "execute_result"
    }
   ],
   "source": [
    "m_np=np.array(m)\n",
    "m_np"
   ]
  },
  {
   "cell_type": "code",
   "execution_count": 51,
   "id": "575ba68e",
   "metadata": {},
   "outputs": [
    {
     "data": {
      "text/plain": [
       "6"
      ]
     },
     "execution_count": 51,
     "metadata": {},
     "output_type": "execute_result"
    }
   ],
   "source": [
    "# Para contar la totalidad de elementos de la matriz\n",
    "\n",
    "# En Python\n",
    "len(m[0])+len(m[1])"
   ]
  },
  {
   "cell_type": "markdown",
   "id": "cb22015a",
   "metadata": {},
   "source": [
    "* Propiedades de tamaño"
   ]
  },
  {
   "cell_type": "code",
   "execution_count": 52,
   "id": "4d93cd5a",
   "metadata": {},
   "outputs": [
    {
     "data": {
      "text/plain": [
       "6"
      ]
     },
     "execution_count": 52,
     "metadata": {},
     "output_type": "execute_result"
    }
   ],
   "source": [
    "# En Numpy\n",
    "\n",
    "m_np.size # cuenta todos los elementos de la matriz"
   ]
  },
  {
   "cell_type": "code",
   "execution_count": 53,
   "id": "54870c0e",
   "metadata": {},
   "outputs": [
    {
     "data": {
      "text/plain": [
       "(2, 3)"
      ]
     },
     "execution_count": 53,
     "metadata": {},
     "output_type": "execute_result"
    }
   ],
   "source": [
    "m_np.shape # primera dimension tiene 2 elementos (son 2 filas)\n",
    "           # segunda dimension tiene 3 elementos (son 3 columnas en cada fila)"
   ]
  },
  {
   "cell_type": "code",
   "execution_count": 54,
   "id": "c37acfee",
   "metadata": {},
   "outputs": [
    {
     "data": {
      "text/plain": [
       "2"
      ]
     },
     "execution_count": 54,
     "metadata": {},
     "output_type": "execute_result"
    }
   ],
   "source": [
    "m_np.ndim # filas y columnas son dos dimensiones"
   ]
  },
  {
   "cell_type": "code",
   "execution_count": 55,
   "id": "d6584fe6",
   "metadata": {},
   "outputs": [
    {
     "data": {
      "text/plain": [
       "array([[[1, 2],\n",
       "        [3, 4],\n",
       "        [5, 6]],\n",
       "\n",
       "       [[1, 2],\n",
       "        [3, 4],\n",
       "        [5, 6]],\n",
       "\n",
       "       [[1, 2],\n",
       "        [3, 4],\n",
       "        [5, 6]],\n",
       "\n",
       "       [[1, 2],\n",
       "        [3, 4],\n",
       "        [5, 6]]])"
      ]
     },
     "execution_count": 55,
     "metadata": {},
     "output_type": "execute_result"
    }
   ],
   "source": [
    "t=[ [[1,2],[3,4],[5,6]] , [[1,2],[3,4],[5,6]],  [[1,2],[3,4],[5,6]], [[1,2],[3,4],[5,6]] ]\n",
    "tnp=np.array(t)\n",
    "tnp"
   ]
  },
  {
   "cell_type": "code",
   "execution_count": 56,
   "id": "bb755760",
   "metadata": {},
   "outputs": [
    {
     "data": {
      "text/plain": [
       "24"
      ]
     },
     "execution_count": 56,
     "metadata": {},
     "output_type": "execute_result"
    }
   ],
   "source": [
    "tnp.size # 24 elementos en total 4 elementos x 6 elementos internos c/u (3x2 elementos internos c/u)"
   ]
  },
  {
   "cell_type": "code",
   "execution_count": 57,
   "id": "dc803480",
   "metadata": {},
   "outputs": [
    {
     "data": {
      "text/plain": [
       "3"
      ]
     },
     "execution_count": 57,
     "metadata": {},
     "output_type": "execute_result"
    }
   ],
   "source": [
    "tnp.ndim \n",
    "# 1º dimension tiene 4 elementos\n",
    "# 2º dimension tiene 3 elementos en c/u de los 4\n",
    "# 3º dimension tiene 2 elementos en c/u de los 3"
   ]
  },
  {
   "cell_type": "code",
   "execution_count": 58,
   "id": "74e1face",
   "metadata": {},
   "outputs": [],
   "source": [
    "# Total elementos (size) = 2 (dim3) X 3 (dim2) X 4 (dim1)"
   ]
  },
  {
   "cell_type": "code",
   "execution_count": 59,
   "id": "afe6df88",
   "metadata": {},
   "outputs": [
    {
     "data": {
      "text/plain": [
       "(4, 3, 2)"
      ]
     },
     "execution_count": 59,
     "metadata": {},
     "output_type": "execute_result"
    }
   ],
   "source": [
    "tnp.shape # cantidad de elementos por cada dimension (es explicacion anterior)"
   ]
  },
  {
   "cell_type": "code",
   "execution_count": 60,
   "id": "f420166e",
   "metadata": {},
   "outputs": [
    {
     "data": {
      "text/plain": [
       "(array([[1, 2],\n",
       "        [3, 4],\n",
       "        [5, 6]]),\n",
       " array([1, 2]),\n",
       " 1)"
      ]
     },
     "execution_count": 60,
     "metadata": {},
     "output_type": "execute_result"
    }
   ],
   "source": [
    "tnp[0],        tnp[0,0],                    tnp[0,0,0] \n",
    "# 1º elemento, 1º elemento del 1º elemento, 1º elemento del 1º elemento del 1º elemento"
   ]
  },
  {
   "cell_type": "markdown",
   "id": "6e9c5bb3",
   "metadata": {},
   "source": [
    "* Obtener elementos"
   ]
  },
  {
   "cell_type": "code",
   "execution_count": 61,
   "id": "e4be94e7",
   "metadata": {},
   "outputs": [
    {
     "data": {
      "text/plain": [
       "array([[1, 2, 3],\n",
       "       [4, 5, 6]])"
      ]
     },
     "execution_count": 61,
     "metadata": {},
     "output_type": "execute_result"
    }
   ],
   "source": [
    "m_np"
   ]
  },
  {
   "cell_type": "code",
   "execution_count": 62,
   "id": "f919bdcf",
   "metadata": {},
   "outputs": [
    {
     "data": {
      "text/plain": [
       "array([1, 2, 3])"
      ]
     },
     "execution_count": 62,
     "metadata": {},
     "output_type": "execute_result"
    }
   ],
   "source": [
    "m_np[0] # primera fila"
   ]
  },
  {
   "cell_type": "code",
   "execution_count": 63,
   "id": "229e15c0",
   "metadata": {},
   "outputs": [
    {
     "data": {
      "text/plain": [
       "array([2, 5])"
      ]
     },
     "execution_count": 63,
     "metadata": {},
     "output_type": "execute_result"
    }
   ],
   "source": [
    "m_np[:,1] # segunda columna (todas las filas)"
   ]
  },
  {
   "cell_type": "code",
   "execution_count": 64,
   "id": "3ff602b4",
   "metadata": {},
   "outputs": [
    {
     "data": {
      "text/plain": [
       "5"
      ]
     },
     "execution_count": 64,
     "metadata": {},
     "output_type": "execute_result"
    }
   ],
   "source": [
    "m_np[1,1] # segunda fila, segunda columna"
   ]
  },
  {
   "cell_type": "code",
   "execution_count": 65,
   "id": "720147ea",
   "metadata": {},
   "outputs": [
    {
     "data": {
      "text/plain": [
       "6"
      ]
     },
     "execution_count": 65,
     "metadata": {},
     "output_type": "execute_result"
    }
   ],
   "source": [
    "m_np[1,2] # ultimo elemento de la matriz"
   ]
  },
  {
   "cell_type": "code",
   "execution_count": 66,
   "id": "932338fa",
   "metadata": {},
   "outputs": [
    {
     "data": {
      "text/plain": [
       "array([0, 1, 2, 3, 4, 5, 6, 7, 8, 9])"
      ]
     },
     "execution_count": 66,
     "metadata": {},
     "output_type": "execute_result"
    }
   ],
   "source": [
    "p=np.arange(10)\n",
    "p"
   ]
  },
  {
   "cell_type": "code",
   "execution_count": 67,
   "id": "3ccf73fc",
   "metadata": {},
   "outputs": [
    {
     "data": {
      "text/plain": [
       "array([0, 1, 2, 3, 4, 5, 6, 7, 8, 9])"
      ]
     },
     "execution_count": 67,
     "metadata": {},
     "output_type": "execute_result"
    }
   ],
   "source": [
    "p[:len(p)] # muestra desde el comienzo hasta el len. Recordar que len es mas propio de python o sea para listas"
   ]
  },
  {
   "cell_type": "code",
   "execution_count": 68,
   "id": "5d07b70a",
   "metadata": {},
   "outputs": [
    {
     "data": {
      "text/plain": [
       "(10, 10)"
      ]
     },
     "execution_count": 68,
     "metadata": {},
     "output_type": "execute_result"
    }
   ],
   "source": [
    "len(p), p.size"
   ]
  },
  {
   "cell_type": "code",
   "execution_count": 69,
   "id": "87192db3",
   "metadata": {},
   "outputs": [
    {
     "data": {
      "text/plain": [
       "array([0, 1, 2, 3, 4, 5, 6, 7, 8, 9])"
      ]
     },
     "execution_count": 69,
     "metadata": {},
     "output_type": "execute_result"
    }
   ],
   "source": [
    "p[:p.size] # muestra desde el comienzo hasta el fin. Esto es mas correcto que usar len(p)"
   ]
  },
  {
   "cell_type": "markdown",
   "id": "5c465632",
   "metadata": {},
   "source": [
    "* Borrar elementos de una Matriz"
   ]
  },
  {
   "cell_type": "code",
   "execution_count": 72,
   "id": "ed8ccbdc",
   "metadata": {},
   "outputs": [
    {
     "data": {
      "text/plain": [
       "array([[1, 2, 3],\n",
       "       [4, 5, 6]])"
      ]
     },
     "execution_count": 72,
     "metadata": {},
     "output_type": "execute_result"
    }
   ],
   "source": [
    "m_np"
   ]
  },
  {
   "cell_type": "code",
   "execution_count": 73,
   "id": "f58b4659",
   "metadata": {},
   "outputs": [
    {
     "data": {
      "text/plain": [
       "array([[1, 2, 3]])"
      ]
     },
     "execution_count": 73,
     "metadata": {},
     "output_type": "execute_result"
    }
   ],
   "source": [
    "np.delete(m_np, 1, axis=0) # elimina la fila 1 \n",
    "# queda solo la fila 0"
   ]
  },
  {
   "cell_type": "code",
   "execution_count": 74,
   "id": "4fb622bd",
   "metadata": {},
   "outputs": [
    {
     "data": {
      "text/plain": [
       "array([[1, 3],\n",
       "       [4, 6]])"
      ]
     },
     "execution_count": 74,
     "metadata": {},
     "output_type": "execute_result"
    }
   ],
   "source": [
    "np.delete(m_np, 1, axis=1) # elimina la columna 1 \n",
    "# quedan la primera y ultima columna porque elimino la 1 (segunda)"
   ]
  },
  {
   "cell_type": "code",
   "execution_count": 75,
   "id": "27294f84",
   "metadata": {},
   "outputs": [
    {
     "data": {
      "text/plain": [
       "array([[1, 2, 3],\n",
       "       [4, 5, 6]])"
      ]
     },
     "execution_count": 75,
     "metadata": {},
     "output_type": "execute_result"
    }
   ],
   "source": [
    "m_np # np.delete() no borra directamente si no ponemos inplace=True "
   ]
  },
  {
   "cell_type": "markdown",
   "id": "c384ea72",
   "metadata": {},
   "source": [
    "* Matriz identidad, matriz de ceros y de unos"
   ]
  },
  {
   "cell_type": "code",
   "execution_count": 76,
   "id": "467107af",
   "metadata": {},
   "outputs": [
    {
     "data": {
      "text/plain": [
       "array([[1., 1., 1.],\n",
       "       [1., 1., 1.],\n",
       "       [1., 1., 1.]])"
      ]
     },
     "execution_count": 76,
     "metadata": {},
     "output_type": "execute_result"
    }
   ],
   "source": [
    "np.ones([3,3]) # Matriz 3x3 de unos"
   ]
  },
  {
   "cell_type": "code",
   "execution_count": 77,
   "id": "f87912c9",
   "metadata": {},
   "outputs": [
    {
     "data": {
      "text/plain": [
       "array([[0., 0., 0.],\n",
       "       [0., 0., 0.],\n",
       "       [0., 0., 0.]])"
      ]
     },
     "execution_count": 77,
     "metadata": {},
     "output_type": "execute_result"
    }
   ],
   "source": [
    "np.zeros([3,3]) # Matriz 3x3 de ceros"
   ]
  },
  {
   "cell_type": "code",
   "execution_count": 78,
   "id": "e3b38313",
   "metadata": {},
   "outputs": [
    {
     "data": {
      "text/plain": [
       "array([[1., 0., 0.],\n",
       "       [0., 1., 0.],\n",
       "       [0., 0., 1.]])"
      ]
     },
     "execution_count": 78,
     "metadata": {},
     "output_type": "execute_result"
    }
   ],
   "source": [
    "np.eye(3) # esta es la matriz identidad de 3. Siempre son cuadradas."
   ]
  },
  {
   "cell_type": "markdown",
   "id": "23b4ff7a",
   "metadata": {},
   "source": [
    "* Concatenar o unir matrices"
   ]
  },
  {
   "cell_type": "code",
   "execution_count": 79,
   "id": "8c0ba259",
   "metadata": {},
   "outputs": [
    {
     "data": {
      "text/plain": [
       "array([[1., 2., 3.],\n",
       "       [4., 5., 6.],\n",
       "       [1., 0., 0.],\n",
       "       [0., 1., 0.],\n",
       "       [0., 0., 1.]])"
      ]
     },
     "execution_count": 79,
     "metadata": {},
     "output_type": "execute_result"
    }
   ],
   "source": [
    "np.concatenate((m_np, np.eye(3)), axis=0) # concatena por filas. Tienen que tener mismo numero de columnas."
   ]
  },
  {
   "cell_type": "code",
   "execution_count": 80,
   "id": "6ab5a5a1",
   "metadata": {},
   "outputs": [
    {
     "data": {
      "text/plain": [
       "array([[0., 0., 0., 1., 1., 1.],\n",
       "       [0., 0., 0., 1., 1., 1.],\n",
       "       [0., 0., 0., 1., 1., 1.]])"
      ]
     },
     "execution_count": 80,
     "metadata": {},
     "output_type": "execute_result"
    }
   ],
   "source": [
    "np.concatenate((np.zeros([3,3]), np.ones([3,3])), axis=1) # concatena por columnas. Tienen que tener mismo numero de filas."
   ]
  },
  {
   "cell_type": "markdown",
   "id": "35a2c6ea",
   "metadata": {},
   "source": [
    "* Redimensionar un array (las matrices origen y redimensionada deben tener el mismo tamaño (size))"
   ]
  },
  {
   "cell_type": "code",
   "execution_count": 1,
   "id": "eb40f707",
   "metadata": {},
   "outputs": [],
   "source": [
    "import numpy as np"
   ]
  },
  {
   "cell_type": "code",
   "execution_count": 2,
   "id": "d341f8de",
   "metadata": {},
   "outputs": [
    {
     "data": {
      "text/plain": [
       "array([10, 11, 12, 13, 14, 15])"
      ]
     },
     "execution_count": 2,
     "metadata": {},
     "output_type": "execute_result"
    }
   ],
   "source": [
    "\n",
    "k=np.arange(10,16,1) # matriz unidimensional con 6 elementos. Es como range (inicio, final+1, paso)\n",
    "k"
   ]
  },
  {
   "cell_type": "code",
   "execution_count": 82,
   "id": "f4d934bf",
   "metadata": {},
   "outputs": [
    {
     "data": {
      "text/plain": [
       "array([[10, 11, 12],\n",
       "       [13, 14, 15]])"
      ]
     },
     "execution_count": 82,
     "metadata": {},
     "output_type": "execute_result"
    }
   ],
   "source": [
    "np.reshape(k,newshape=(2,3)) # convierto a matriz de 2x3 (6 elementos). La primera dimension tiene 2 elementos y la segunda 3."
   ]
  },
  {
   "cell_type": "code",
   "execution_count": 3,
   "id": "d0d72bd6",
   "metadata": {},
   "outputs": [
    {
     "data": {
      "text/plain": [
       "array([[10, 11, 12],\n",
       "       [13, 14, 15]])"
      ]
     },
     "execution_count": 3,
     "metadata": {},
     "output_type": "execute_result"
    }
   ],
   "source": [
    "k.reshape(2,3) # convierte a matriz de 2x3"
   ]
  },
  {
   "cell_type": "markdown",
   "id": "a49c5574",
   "metadata": {},
   "source": [
    "* Aplanar una Matriz"
   ]
  },
  {
   "cell_type": "code",
   "execution_count": 4,
   "id": "5aac14cb",
   "metadata": {},
   "outputs": [
    {
     "data": {
      "text/plain": [
       "array([10, 11, 12, 13, 14, 15])"
      ]
     },
     "execution_count": 4,
     "metadata": {},
     "output_type": "execute_result"
    }
   ],
   "source": [
    "k.ravel()"
   ]
  },
  {
   "cell_type": "markdown",
   "id": "80e6f080",
   "metadata": {},
   "source": [
    "\n",
    "* Apilar matrices vertical u horizontalmente\n"
   ]
  },
  {
   "cell_type": "code",
   "execution_count": 83,
   "id": "d8f9893c",
   "metadata": {},
   "outputs": [
    {
     "data": {
      "text/plain": [
       "array([[0., 0., 0.],\n",
       "       [0., 0., 0.],\n",
       "       [0., 0., 0.],\n",
       "       [1., 1., 1.],\n",
       "       [1., 1., 1.],\n",
       "       [1., 1., 1.]])"
      ]
     },
     "execution_count": 83,
     "metadata": {},
     "output_type": "execute_result"
    }
   ],
   "source": [
    "np.vstack((np.zeros([3,3]), np.ones([3,3]))) # apila las matrices en vertical por filas o sea por debajo. \n",
    "# Hace lo mismo que concatenate con axis = 0 pero para matrices de dim > 30 es mas rapida "
   ]
  },
  {
   "cell_type": "code",
   "execution_count": 84,
   "id": "8c7fa760",
   "metadata": {},
   "outputs": [
    {
     "data": {
      "text/plain": [
       "array([[0., 0., 0., 1., 1., 1.],\n",
       "       [0., 0., 0., 1., 1., 1.],\n",
       "       [0., 0., 0., 1., 1., 1.]])"
      ]
     },
     "execution_count": 84,
     "metadata": {},
     "output_type": "execute_result"
    }
   ],
   "source": [
    "np.hstack((np.zeros([3,3]), np.ones([3,3]))) # apila las matrices en horizontal, por columnas o sea lateralmento hacia la derecha. \n",
    "# Hace lo mismo que concatenate con axis=1 pero para matrices de dim > 30 es mas rapida "
   ]
  },
  {
   "cell_type": "markdown",
   "id": "15ba3ce5",
   "metadata": {},
   "source": [
    "Ejercicio: \n",
    "\n",
    "crear la redimension de un vector de elementos enteros comprendido en el intervalo [1,25) a dos filas"
   ]
  },
  {
   "cell_type": "code",
   "execution_count": 86,
   "id": "51838e0b",
   "metadata": {},
   "outputs": [
    {
     "data": {
      "text/plain": [
       "array([ 1,  2,  3,  4,  5,  6,  7,  8,  9, 10, 11, 12, 13, 14, 15, 16, 17,\n",
       "       18, 19, 20, 21, 22, 23, 24])"
      ]
     },
     "execution_count": 86,
     "metadata": {},
     "output_type": "execute_result"
    }
   ],
   "source": [
    "v=np.arange(1,25) # son 24 elementos porque comienza en 1\n",
    "v"
   ]
  },
  {
   "cell_type": "code",
   "execution_count": 87,
   "id": "6dd16ea4",
   "metadata": {},
   "outputs": [
    {
     "data": {
      "text/plain": [
       "array([[ 1,  2,  3,  4,  5,  6,  7,  8,  9, 10, 11, 12],\n",
       "       [13, 14, 15, 16, 17, 18, 19, 20, 21, 22, 23, 24]])"
      ]
     },
     "execution_count": 87,
     "metadata": {},
     "output_type": "execute_result"
    }
   ],
   "source": [
    "w=np.reshape(v,newshape=(2,int(v.size/2))) # serian 2 las filas, y las columnas se calculan como size/filas o sea size/2\n",
    "w"
   ]
  },
  {
   "cell_type": "code",
   "execution_count": 88,
   "id": "d9f75397",
   "metadata": {},
   "outputs": [
    {
     "data": {
      "text/plain": [
       "array([[ 1,  2,  3,  4,  5,  6,  7,  8,  9, 10, 11, 12],\n",
       "       [13, 14, 15, 16, 17, 18, 19, 20, 21, 22, 23, 24]])"
      ]
     },
     "execution_count": 88,
     "metadata": {},
     "output_type": "execute_result"
    }
   ],
   "source": [
    "w=np.reshape(v,newshape=(2,v.size//2)) # con division entera, que devuelve un entero\n",
    "w"
   ]
  },
  {
   "cell_type": "markdown",
   "id": "d9c21965",
   "metadata": {},
   "source": [
    "\n",
    "* Particion de una matriz\n"
   ]
  },
  {
   "cell_type": "code",
   "execution_count": 89,
   "id": "7243315a",
   "metadata": {},
   "outputs": [
    {
     "data": {
      "text/plain": [
       "array([[ 1,  2,  3,  4,  5,  6,  7,  8,  9, 10, 11, 12],\n",
       "       [13, 14, 15, 16, 17, 18, 19, 20, 21, 22, 23, 24]])"
      ]
     },
     "execution_count": 89,
     "metadata": {},
     "output_type": "execute_result"
    }
   ],
   "source": [
    "w # dada esta matriz"
   ]
  },
  {
   "cell_type": "code",
   "execution_count": 90,
   "id": "65e45298",
   "metadata": {},
   "outputs": [
    {
     "data": {
      "text/plain": [
       "[array([[ 1,  2,  3,  4],\n",
       "        [13, 14, 15, 16]]),\n",
       " array([[ 5,  6,  7,  8],\n",
       "        [17, 18, 19, 20]]),\n",
       " array([[ 9, 10, 11, 12],\n",
       "        [21, 22, 23, 24]])]"
      ]
     },
     "execution_count": 90,
     "metadata": {},
     "output_type": "execute_result"
    }
   ],
   "source": [
    "np.hsplit(w,3) # parte la matriz verticalmente en tres partes del mismo tamaño cada una"
   ]
  },
  {
   "cell_type": "code",
   "execution_count": 91,
   "id": "91d9a3af",
   "metadata": {},
   "outputs": [
    {
     "data": {
      "text/plain": [
       "[array([[ 1,  2,  3,  4],\n",
       "        [13, 14, 15, 16]]),\n",
       " array([[ 5,  6,  7,  8],\n",
       "        [17, 18, 19, 20]]),\n",
       " array([[ 9, 10, 11, 12],\n",
       "        [21, 22, 23, 24]])]"
      ]
     },
     "execution_count": 91,
     "metadata": {},
     "output_type": "execute_result"
    }
   ],
   "source": [
    "r=np.hsplit(w,3) \n",
    "# Esto es una LISTA de matrices, que tendra tantos elementos 'matrices' como divisiones hayamos indicado en la particion\n",
    "r"
   ]
  },
  {
   "cell_type": "code",
   "execution_count": 95,
   "id": "37357b53",
   "metadata": {},
   "outputs": [
    {
     "data": {
      "text/plain": [
       "list"
      ]
     },
     "execution_count": 95,
     "metadata": {},
     "output_type": "execute_result"
    }
   ],
   "source": [
    "type(r)"
   ]
  },
  {
   "cell_type": "code",
   "execution_count": 96,
   "id": "f5c1c932",
   "metadata": {},
   "outputs": [],
   "source": [
    "nr=np.array(r)"
   ]
  },
  {
   "cell_type": "code",
   "execution_count": 97,
   "id": "7cae2f69",
   "metadata": {},
   "outputs": [
    {
     "data": {
      "text/plain": [
       "array([[[ 1,  2,  3,  4],\n",
       "        [13, 14, 15, 16]],\n",
       "\n",
       "       [[ 5,  6,  7,  8],\n",
       "        [17, 18, 19, 20]],\n",
       "\n",
       "       [[ 9, 10, 11, 12],\n",
       "        [21, 22, 23, 24]]])"
      ]
     },
     "execution_count": 97,
     "metadata": {},
     "output_type": "execute_result"
    }
   ],
   "source": [
    "nr # ahora si es un array"
   ]
  },
  {
   "cell_type": "code",
   "execution_count": 98,
   "id": "0acb455b",
   "metadata": {},
   "outputs": [
    {
     "data": {
      "text/plain": [
       "(3, 2, 4)"
      ]
     },
     "execution_count": 98,
     "metadata": {},
     "output_type": "execute_result"
    }
   ],
   "source": [
    "nr.shape # 3 dimensiones"
   ]
  },
  {
   "cell_type": "code",
   "execution_count": 99,
   "id": "75526a2d",
   "metadata": {},
   "outputs": [
    {
     "data": {
      "text/plain": [
       "24"
      ]
     },
     "execution_count": 99,
     "metadata": {},
     "output_type": "execute_result"
    }
   ],
   "source": [
    "nr.size # elementos totales (producto de elementos de cada dimension)"
   ]
  },
  {
   "cell_type": "code",
   "execution_count": 102,
   "id": "1c9e667b",
   "metadata": {},
   "outputs": [
    {
     "data": {
      "text/plain": [
       "3"
      ]
     },
     "execution_count": 102,
     "metadata": {},
     "output_type": "execute_result"
    }
   ],
   "source": [
    "nr.ndim"
   ]
  },
  {
   "cell_type": "code",
   "execution_count": 103,
   "id": "55f2502a",
   "metadata": {},
   "outputs": [
    {
     "data": {
      "text/plain": [
       "array([[ 1,  2,  3,  4],\n",
       "       [13, 14, 15, 16]])"
      ]
     },
     "execution_count": 103,
     "metadata": {},
     "output_type": "execute_result"
    }
   ],
   "source": [
    "r[0]"
   ]
  },
  {
   "cell_type": "code",
   "execution_count": 104,
   "id": "c0d907b5",
   "metadata": {},
   "outputs": [
    {
     "data": {
      "text/plain": [
       "array([[ 5,  6,  7,  8],\n",
       "       [17, 18, 19, 20]])"
      ]
     },
     "execution_count": 104,
     "metadata": {},
     "output_type": "execute_result"
    }
   ],
   "source": [
    "r[1]"
   ]
  },
  {
   "cell_type": "code",
   "execution_count": 105,
   "id": "d1512561",
   "metadata": {},
   "outputs": [
    {
     "data": {
      "text/plain": [
       "array([[ 9, 10, 11, 12],\n",
       "       [21, 22, 23, 24]])"
      ]
     },
     "execution_count": 105,
     "metadata": {},
     "output_type": "execute_result"
    }
   ],
   "source": [
    "r[2]"
   ]
  },
  {
   "cell_type": "code",
   "execution_count": 106,
   "id": "b21d800a",
   "metadata": {},
   "outputs": [
    {
     "data": {
      "text/plain": [
       "array([[ 1,  2,  3,  4,  5,  6,  7,  8,  9, 10, 11, 12],\n",
       "       [13, 14, 15, 16, 17, 18, 19, 20, 21, 22, 23, 24]])"
      ]
     },
     "execution_count": 106,
     "metadata": {},
     "output_type": "execute_result"
    }
   ],
   "source": [
    "w"
   ]
  },
  {
   "cell_type": "code",
   "execution_count": 107,
   "id": "7b095ac1",
   "metadata": {},
   "outputs": [
    {
     "data": {
      "text/plain": [
       "[array([[ 1,  2,  3],\n",
       "        [13, 14, 15]]),\n",
       " array([[ 4,  5,  6],\n",
       "        [16, 17, 18]]),\n",
       " array([[ 7,  8,  9, 10, 11, 12],\n",
       "        [19, 20, 21, 22, 23, 24]])]"
      ]
     },
     "execution_count": 107,
     "metadata": {},
     "output_type": "execute_result"
    }
   ],
   "source": [
    "# Otra particion de la matriz\n",
    "\n",
    "np.hsplit(w,(3,6)) # Parte verticalmente la matriz despues de la 3ra y la 6ta columna. El resto queda en el ultimo array del vector"
   ]
  },
  {
   "cell_type": "code",
   "execution_count": 108,
   "id": "cf7b3e09",
   "metadata": {},
   "outputs": [
    {
     "data": {
      "text/plain": [
       "array([[ 7,  8,  9, 10, 11, 12],\n",
       "       [19, 20, 21, 22, 23, 24]])"
      ]
     },
     "execution_count": 108,
     "metadata": {},
     "output_type": "execute_result"
    }
   ],
   "source": [
    "np.hsplit(w,(3,6))[2] # El resto queda en el ultimo array del vector"
   ]
  },
  {
   "cell_type": "markdown",
   "id": "55542e25",
   "metadata": {},
   "source": [
    "* Numpy contiene Math "
   ]
  },
  {
   "cell_type": "markdown",
   "id": "84276e36",
   "metadata": {},
   "source": [
    "IMPORTANTE: FUNCIONES DE ALEATORIEDAD (muestra aleatoria)\n",
    "    \n",
    "    RANDOM\n",
    "    \n",
    "    np.random.random((2,4)) # esto crea una matriz aleatoria de 2x4 \n",
    "    np.random.randint(11,size = (2,4)) # rango dentro del cual escoge los aleatorios y el tamaño de la matriz.\n",
    "     \n",
    "    SAMPLE (observar que va sin np.)\n",
    "    \n",
    "    random.sample(list(lista), k, counts = None) \n",
    "    \n",
    "    # lista (convertir a lista para que funcione) de k elementos extraídos sin repetición de la secuencia population\n",
    "    # (si en la lista hay elementos repetidos, si que se podrán repetir). \n",
    "    \n",
    "    * lista: Secuencia de la que extraer la muestra (hay que cohersionar a lista sino da un error).\n",
    "    * k: Número de elementos a extraer.\n",
    "    * counts: (Opcional) Frecuencias absolutas de los elementos de population si quiero repeticiones.\n",
    "\n",
    "        \n",
    "    # Si population contiene elementos repetidos, cada uno de ellos es susceptible de ser escogido por separado !!\n",
    "\n",
    "    # Los elementos repetidos pueden ser especificados uno por uno, o mediante el parámetro counts. \n",
    "    # Éste, de existir, deberá contener la frecuencia absoluta de cada uno de los elementos de population, \n",
    "    # lo que supone que el número de elementos de population y de counts deberá coincidir. \n",
    "   \n",
    "    #Así, por ejemplo, el siguiente código:\n",
    "        random.sample(list([\"A\", \"B\", \"C\"]), k = 2, counts = [3, 2, 1])\n",
    "    #es equivalente a:\n",
    "        random.sample(list([\"A\", \"A\", \"A\", \"B\", \"B\", \"C\"]), k = 2)\n",
    "        \n",
    "    CHOICE para listas con elementos de distinto tipo (no sirve si se necesita una muestra sin repeticion)\n",
    "    \n",
    "    np.random.choice(lista,size=2) # devuelve elementos de la lista pero repitiendo. La lista puede contener tipos variados\n",
    "    np.random.choice(x.shape[0], 8, replace=False) # con el replace se puede elegir sin repeticion \n",
    "    \n",
    "    FUNCIONES PARA FIJAR SEMILLA \n",
    "    \n",
    "    np.random.seed=0\n",
    "    random.seed(0)\n",
    "    \n",
    "    Ej: random.seed(0)\n",
    "        random.sample(range(10),k=4)\n",
    "        "
   ]
  },
  {
   "cell_type": "code",
   "execution_count": 13,
   "id": "c66a262b",
   "metadata": {},
   "outputs": [],
   "source": [
    "import numpy as np\n",
    "import random"
   ]
  },
  {
   "cell_type": "code",
   "execution_count": 85,
   "id": "79b02af0",
   "metadata": {},
   "outputs": [
    {
     "data": {
      "text/plain": [
       "[6, 9, 0, 2]"
      ]
     },
     "execution_count": 85,
     "metadata": {},
     "output_type": "execute_result"
    }
   ],
   "source": [
    "random.seed(0)\n",
    "random.sample(range(10),k=4)  # siempre dan los mismos 4 numeros"
   ]
  },
  {
   "cell_type": "code",
   "execution_count": 60,
   "id": "3207c7c6",
   "metadata": {},
   "outputs": [
    {
     "data": {
      "text/plain": [
       "['B', 'C']"
      ]
     },
     "execution_count": 60,
     "metadata": {},
     "output_type": "execute_result"
    }
   ],
   "source": [
    "random.sample(list([\"A\", \"B\", \"C\"]), k = 2, counts = [3, 2, 1])"
   ]
  },
  {
   "cell_type": "code",
   "execution_count": 65,
   "id": "0a0ba322",
   "metadata": {},
   "outputs": [
    {
     "data": {
      "text/plain": [
       "['B', 'B']"
      ]
     },
     "execution_count": 65,
     "metadata": {},
     "output_type": "execute_result"
    }
   ],
   "source": [
    "random.sample(list([\"A\", \"A\", \"A\", \"B\", \"B\", \"C\"]), k = 2)"
   ]
  },
  {
   "cell_type": "code",
   "execution_count": 67,
   "id": "730dcfbf",
   "metadata": {},
   "outputs": [
    {
     "data": {
      "text/plain": [
       "['C', 'A']"
      ]
     },
     "execution_count": 67,
     "metadata": {},
     "output_type": "execute_result"
    }
   ],
   "source": [
    "random.sample(list([\"A\", \"B\", \"C\"]), k = 2) \n",
    "# en este caso nunca se repetiran porque en la lista no hay repetidos y no indique el parametro counts con las frecuencias"
   ]
  },
  {
   "cell_type": "code",
   "execution_count": 79,
   "id": "8b13c008",
   "metadata": {},
   "outputs": [
    {
     "data": {
      "text/plain": [
       "array(['A', 'C'], dtype='<U1')"
      ]
     },
     "execution_count": 79,
     "metadata": {},
     "output_type": "execute_result"
    }
   ],
   "source": [
    " np.random.choice(list([\"A\", \"B\", \"C\"]),size=2)"
   ]
  },
  {
   "cell_type": "code",
   "execution_count": null,
   "id": "4a045b33",
   "metadata": {},
   "outputs": [],
   "source": []
  },
  {
   "cell_type": "code",
   "execution_count": 109,
   "id": "ef3738b3",
   "metadata": {},
   "outputs": [
    {
     "data": {
      "text/plain": [
       "300"
      ]
     },
     "execution_count": 109,
     "metadata": {},
     "output_type": "execute_result"
    }
   ],
   "source": [
    "w.sum() # Sumar todos los elementos"
   ]
  },
  {
   "cell_type": "code",
   "execution_count": 110,
   "id": "2c3a72ad",
   "metadata": {},
   "outputs": [
    {
     "data": {
      "text/plain": [
       "array([[1.        , 1.41421356, 1.73205081, 2.        , 2.23606798,\n",
       "        2.44948974, 2.64575131, 2.82842712, 3.        , 3.16227766,\n",
       "        3.31662479, 3.46410162],\n",
       "       [3.60555128, 3.74165739, 3.87298335, 4.        , 4.12310563,\n",
       "        4.24264069, 4.35889894, 4.47213595, 4.58257569, 4.69041576,\n",
       "        4.79583152, 4.89897949]])"
      ]
     },
     "execution_count": 110,
     "metadata": {},
     "output_type": "execute_result"
    }
   ],
   "source": [
    "np.sqrt(w) # raiz cuadrada"
   ]
  },
  {
   "cell_type": "code",
   "execution_count": 111,
   "id": "6fc37860",
   "metadata": {},
   "outputs": [
    {
     "data": {
      "text/plain": [
       "12.5"
      ]
     },
     "execution_count": 111,
     "metadata": {},
     "output_type": "execute_result"
    }
   ],
   "source": [
    "np.mean(w) # media "
   ]
  },
  {
   "cell_type": "code",
   "execution_count": 112,
   "id": "5c63c415",
   "metadata": {},
   "outputs": [
    {
     "data": {
      "text/plain": [
       "6.922186552431729"
      ]
     },
     "execution_count": 112,
     "metadata": {},
     "output_type": "execute_result"
    }
   ],
   "source": [
    "np.std(w) # desviacion tipica o estandard"
   ]
  },
  {
   "cell_type": "code",
   "execution_count": 113,
   "id": "27bcb4ba",
   "metadata": {},
   "outputs": [
    {
     "data": {
      "text/plain": [
       "47.916666666666664"
      ]
     },
     "execution_count": 113,
     "metadata": {},
     "output_type": "execute_result"
    }
   ],
   "source": [
    "np.var(w) # varianza  "
   ]
  },
  {
   "cell_type": "code",
   "execution_count": 114,
   "id": "22153127",
   "metadata": {},
   "outputs": [
    {
     "data": {
      "text/plain": [
       "(24, 1)"
      ]
     },
     "execution_count": 114,
     "metadata": {},
     "output_type": "execute_result"
    }
   ],
   "source": [
    "w.max(), w.min() # Maximo y minimo"
   ]
  },
  {
   "cell_type": "code",
   "execution_count": 115,
   "id": "4c112626",
   "metadata": {},
   "outputs": [
    {
     "data": {
      "text/plain": [
       "array([[0.08603313, 0.59681691, 0.32373949, 0.89466442],\n",
       "       [0.56170368, 0.67049232, 0.62831322, 0.07037954]])"
      ]
     },
     "execution_count": 115,
     "metadata": {},
     "output_type": "execute_result"
    }
   ],
   "source": [
    "np.random.random((2,4)) # aleatorios entre 0 y 1"
   ]
  },
  {
   "cell_type": "markdown",
   "id": "a4c76de2",
   "metadata": {},
   "source": [
    "Ejercicio: crear la matriz aleatoria de tamaño mxn (2x4) en decenas de numeros enteros"
   ]
  },
  {
   "cell_type": "code",
   "execution_count": 116,
   "id": "ca566383",
   "metadata": {},
   "outputs": [
    {
     "data": {
      "text/plain": [
       "array([[2., 4., 3., 3.],\n",
       "       [4., 7., 5., 2.]])"
      ]
     },
     "execution_count": 116,
     "metadata": {},
     "output_type": "execute_result"
    }
   ],
   "source": [
    "np.round(np.random.random((2,4))*10,0) # el 0 indica la precision del redondeo (2 serian dos decimales)\n"
   ]
  },
  {
   "cell_type": "code",
   "execution_count": 117,
   "id": "1aa9440c",
   "metadata": {},
   "outputs": [
    {
     "data": {
      "text/plain": [
       "array([[ 9.,  6.,  5.,  2.],\n",
       "       [ 2.,  5.,  1., 10.]])"
      ]
     },
     "execution_count": 117,
     "metadata": {},
     "output_type": "execute_result"
    }
   ],
   "source": [
    "np.ceil(np.random.random((2,4))*10) # redondeo al alza (entero siguiente en este caso)\n"
   ]
  },
  {
   "cell_type": "code",
   "execution_count": 118,
   "id": "7cf5b473",
   "metadata": {},
   "outputs": [
    {
     "data": {
      "text/plain": [
       "array([[7., 8., 9., 5.],\n",
       "       [7., 8., 7., 9.]])"
      ]
     },
     "execution_count": 118,
     "metadata": {},
     "output_type": "execute_result"
    }
   ],
   "source": [
    "np.trunc(np.random.random((2,4))*10) # trunca la parte decimal (redondeo a la baja)"
   ]
  },
  {
   "cell_type": "code",
   "execution_count": 119,
   "id": "08c14314",
   "metadata": {},
   "outputs": [
    {
     "data": {
      "text/plain": [
       "(array([[0.05711883]]), array([[0.]]), array([[1.]]), array([[0.]]))"
      ]
     },
     "execution_count": 119,
     "metadata": {},
     "output_type": "execute_result"
    }
   ],
   "source": [
    "a=np.random.random((1,1))\n",
    "a, np.round(a), np.ceil(a), np.trunc(a)"
   ]
  },
  {
   "cell_type": "code",
   "execution_count": 120,
   "id": "425650eb",
   "metadata": {},
   "outputs": [
    {
     "data": {
      "text/plain": [
       "array([[3, 1, 4, 6],\n",
       "       [4, 5, 5, 7]])"
      ]
     },
     "execution_count": 120,
     "metadata": {},
     "output_type": "execute_result"
    }
   ],
   "source": [
    "np.random.randint(11,size = (2,4)) # se le tiene que indicar la semilla y el tamaño de la matriz.\n",
    "            # Parece ser que no es la semilla sino el rango dentro del cual escoge los aleatorios.\n"
   ]
  },
  {
   "cell_type": "code",
   "execution_count": 121,
   "id": "a2373e4b",
   "metadata": {},
   "outputs": [],
   "source": [
    "## Las anteriores matrices son de elementos float. El randint da enteros."
   ]
  },
  {
   "cell_type": "code",
   "execution_count": 122,
   "id": "406b0082",
   "metadata": {},
   "outputs": [
    {
     "data": {
      "text/plain": [
       "array([[0, 0, 2, 2],\n",
       "       [0, 1, 2, 0]])"
      ]
     },
     "execution_count": 122,
     "metadata": {},
     "output_type": "execute_result"
    }
   ],
   "source": [
    "np.random.randint(3,size=(2,4)) # aleatorios < 3"
   ]
  },
  {
   "cell_type": "code",
   "execution_count": 123,
   "id": "2266274f",
   "metadata": {},
   "outputs": [
    {
     "data": {
      "text/plain": [
       "array([[1, 0, 0, 0],\n",
       "       [0, 1, 0, 0],\n",
       "       [0, 0, 1, 0],\n",
       "       [0, 0, 0, 1]])"
      ]
     },
     "execution_count": 123,
     "metadata": {},
     "output_type": "execute_result"
    }
   ],
   "source": [
    "# Matriz identidad de 4x4 con listas de python\n",
    "dim=4\n",
    "l=list()\n",
    "for i in range(dim):\n",
    "    m=list()\n",
    "    for k in range(dim):\n",
    "        if len(l)==k:\n",
    "            m.append(1)\n",
    "        else:\n",
    "            m.append(0)\n",
    "    l.append(m)\n",
    "# Convierto a array de numpy \n",
    "l_np=np.array(l)\n",
    "l_np"
   ]
  },
  {
   "cell_type": "code",
   "execution_count": 126,
   "id": "140e106f",
   "metadata": {},
   "outputs": [
    {
     "data": {
      "text/plain": [
       "(2, (4, 4))"
      ]
     },
     "execution_count": 126,
     "metadata": {},
     "output_type": "execute_result"
    }
   ],
   "source": [
    "l_np.ndim, l_np.shape"
   ]
  },
  {
   "cell_type": "code",
   "execution_count": 124,
   "id": "15a69b3d",
   "metadata": {},
   "outputs": [
    {
     "data": {
      "text/plain": [
       "array([[1., 0., 0.],\n",
       "       [0., 1., 0.],\n",
       "       [0., 0., 1.]])"
      ]
     },
     "execution_count": 124,
     "metadata": {},
     "output_type": "execute_result"
    }
   ],
   "source": [
    "# De forma directa con numpy\n",
    "l_np2=np.eye(3) # crea la matriz identidad de 3x3\n",
    "l_np2"
   ]
  },
  {
   "cell_type": "code",
   "execution_count": 128,
   "id": "0e68c8d5",
   "metadata": {},
   "outputs": [
    {
     "data": {
      "text/plain": [
       "(2, (3, 3), 9)"
      ]
     },
     "execution_count": 128,
     "metadata": {},
     "output_type": "execute_result"
    }
   ],
   "source": [
    "l_np2.ndim, l_np2.shape, l_np2.size\n",
    "#matriz de 2 dimensiones, cada dimension tiene 3 elementos c/u, total 9 elementos."
   ]
  },
  {
   "cell_type": "markdown",
   "id": "894e0ec4",
   "metadata": {},
   "source": [
    "* Valores unicos np.unique()"
   ]
  },
  {
   "cell_type": "code",
   "execution_count": 129,
   "id": "92744cfe",
   "metadata": {},
   "outputs": [],
   "source": [
    "l=[[1,1,1],[1,1,1],[2,2,2],[2,2,2],[3,3,3],[3,3,3],[4,4,4]]"
   ]
  },
  {
   "cell_type": "code",
   "execution_count": 130,
   "id": "1f7c534f",
   "metadata": {},
   "outputs": [
    {
     "data": {
      "text/plain": [
       "array([[1, 1, 1],\n",
       "       [1, 1, 1],\n",
       "       [2, 2, 2],\n",
       "       [2, 2, 2],\n",
       "       [3, 3, 3],\n",
       "       [3, 3, 3],\n",
       "       [4, 4, 4]])"
      ]
     },
     "execution_count": 130,
     "metadata": {},
     "output_type": "execute_result"
    }
   ],
   "source": [
    "lnp=np.array(l)\n",
    "lnp"
   ]
  },
  {
   "cell_type": "code",
   "execution_count": 131,
   "id": "fdc81b19",
   "metadata": {},
   "outputs": [
    {
     "data": {
      "text/plain": [
       "array([1, 2, 3, 4])"
      ]
     },
     "execution_count": 131,
     "metadata": {},
     "output_type": "execute_result"
    }
   ],
   "source": [
    "np.unique(lnp) # valores unicos en toda la matriz (evalua a nivel de elementos contenidos en la totalidad de la matriz)"
   ]
  },
  {
   "cell_type": "code",
   "execution_count": 132,
   "id": "05146e3e",
   "metadata": {},
   "outputs": [
    {
     "data": {
      "text/plain": [
       "array([[1, 1, 1],\n",
       "       [2, 2, 2],\n",
       "       [3, 3, 3],\n",
       "       [4, 4, 4]])"
      ]
     },
     "execution_count": 132,
     "metadata": {},
     "output_type": "execute_result"
    }
   ],
   "source": [
    "np.unique(lnp, axis=0) # filas unicas axis=0"
   ]
  },
  {
   "cell_type": "code",
   "execution_count": 133,
   "id": "8b6155fc",
   "metadata": {},
   "outputs": [
    {
     "data": {
      "text/plain": [
       "array([[1],\n",
       "       [1],\n",
       "       [2],\n",
       "       [2],\n",
       "       [3],\n",
       "       [3],\n",
       "       [4]])"
      ]
     },
     "execution_count": 133,
     "metadata": {},
     "output_type": "execute_result"
    }
   ],
   "source": [
    "np.unique(lnp, axis=1) # columnas unicas axis=1"
   ]
  },
  {
   "cell_type": "markdown",
   "id": "46e725db",
   "metadata": {},
   "source": [
    "#### Matriz transpuesta, matriz adjunta, matriz inversa y determinante"
   ]
  },
  {
   "cell_type": "code",
   "execution_count": 134,
   "id": "491e97ca",
   "metadata": {},
   "outputs": [
    {
     "data": {
      "text/plain": [
       "array([[2, 1, 0],\n",
       "       [0, 1, 3],\n",
       "       [2, 1, 1]])"
      ]
     },
     "execution_count": 134,
     "metadata": {},
     "output_type": "execute_result"
    }
   ],
   "source": [
    "m=[[2,1,0],[0,1,3],[2,1,1]]\n",
    "M=np.array(m)\n",
    "M"
   ]
  },
  {
   "cell_type": "markdown",
   "id": "98d38b03",
   "metadata": {},
   "source": [
    "* Matriz Traspuesta  (propiedad .T)"
   ]
  },
  {
   "cell_type": "code",
   "execution_count": 135,
   "id": "391aed0b",
   "metadata": {},
   "outputs": [
    {
     "data": {
      "text/plain": [
       "array([[2, 0, 2],\n",
       "       [1, 1, 1],\n",
       "       [0, 3, 1]])"
      ]
     },
     "execution_count": 135,
     "metadata": {},
     "output_type": "execute_result"
    }
   ],
   "source": [
    "M.T"
   ]
  },
  {
   "cell_type": "markdown",
   "id": "eb29d59c",
   "metadata": {},
   "source": [
    "* Determinante (metodo det()). Es un valor, no una matriz.\n"
   ]
  },
  {
   "cell_type": "code",
   "execution_count": 136,
   "id": "15b1e004",
   "metadata": {},
   "outputs": [
    {
     "data": {
      "text/plain": [
       "2.0"
      ]
     },
     "execution_count": 136,
     "metadata": {},
     "output_type": "execute_result"
    }
   ],
   "source": [
    "det=np.linalg.det(M) \n",
    "det"
   ]
  },
  {
   "cell_type": "markdown",
   "id": "01b499ba",
   "metadata": {},
   "source": [
    "* Matriz inversa (aquella que al multiplicarse con la matriz original da por resultado la matriz identidad)"
   ]
  },
  {
   "cell_type": "code",
   "execution_count": 137,
   "id": "f751c13a",
   "metadata": {},
   "outputs": [
    {
     "data": {
      "text/plain": [
       "array([[-1. , -0.5,  1.5],\n",
       "       [ 3. ,  1. , -3. ],\n",
       "       [-1. ,  0. ,  1. ]])"
      ]
     },
     "execution_count": 137,
     "metadata": {},
     "output_type": "execute_result"
    }
   ],
   "source": [
    "inv=np.linalg.inv(M)\n",
    "inv"
   ]
  },
  {
   "cell_type": "markdown",
   "id": "cf1cbc4e",
   "metadata": {},
   "source": [
    "NOTA: El producto de una matriz por su inversa es igual al matriz identidad."
   ]
  },
  {
   "cell_type": "code",
   "execution_count": 139,
   "id": "75043531",
   "metadata": {},
   "outputs": [
    {
     "data": {
      "text/plain": [
       "array([[1., 0., 0.],\n",
       "       [0., 1., 0.],\n",
       "       [0., 0., 1.]])"
      ]
     },
     "execution_count": 139,
     "metadata": {},
     "output_type": "execute_result"
    }
   ],
   "source": [
    "np.matmul(M,inv) # np.matmul() multiplica matrices"
   ]
  },
  {
   "cell_type": "code",
   "execution_count": 140,
   "id": "0f3eac92",
   "metadata": {},
   "outputs": [
    {
     "data": {
      "text/plain": [
       "array([[1, 2, 3],\n",
       "       [4, 5, 6],\n",
       "       [7, 8, 9]])"
      ]
     },
     "execution_count": 140,
     "metadata": {},
     "output_type": "execute_result"
    }
   ],
   "source": [
    "\n",
    "# Calculo de la matriz inversa: EN EJERCICIO DE MATRICES\n",
    "import numpy as np\n",
    "w = np.array([[1,2,3],[4,5,6],[7,8,9]])\n",
    "w"
   ]
  },
  {
   "cell_type": "code",
   "execution_count": 141,
   "id": "5342bbf7",
   "metadata": {},
   "outputs": [
    {
     "name": "stdout",
     "output_type": "stream",
     "text": [
      "[1 2 3]\n",
      "[4 5 6]\n",
      "[7 8 9]\n"
     ]
    },
    {
     "data": {
      "text/plain": [
       "45"
      ]
     },
     "execution_count": 141,
     "metadata": {},
     "output_type": "execute_result"
    }
   ],
   "source": [
    "# Multiplicacion de los elementos de la diagonal ppal.\n",
    "t1=1\n",
    "for x in range(3):\n",
    "    print(w[x])\n",
    "    for y in range(3):\n",
    "        if x==y:\n",
    "            t1=t1*w[x,y]\n",
    "t1"
   ]
  },
  {
   "cell_type": "code",
   "execution_count": 142,
   "id": "62a15a25",
   "metadata": {},
   "outputs": [
    {
     "data": {
      "text/plain": [
       "-9.51619735392994e-16"
      ]
     },
     "execution_count": 142,
     "metadata": {},
     "output_type": "execute_result"
    }
   ],
   "source": [
    "from numpy.linalg import det\n",
    "det(w)"
   ]
  },
  {
   "cell_type": "code",
   "execution_count": null,
   "id": "83e1c049",
   "metadata": {},
   "outputs": [],
   "source": []
  },
  {
   "cell_type": "code",
   "execution_count": null,
   "id": "a918f0c7",
   "metadata": {},
   "outputs": [],
   "source": []
  },
  {
   "cell_type": "code",
   "execution_count": null,
   "id": "663c340c",
   "metadata": {},
   "outputs": [],
   "source": []
  }
 ],
 "metadata": {
  "kernelspec": {
   "display_name": "Python 3 (ipykernel)",
   "language": "python",
   "name": "python3"
  },
  "language_info": {
   "codemirror_mode": {
    "name": "ipython",
    "version": 3
   },
   "file_extension": ".py",
   "mimetype": "text/x-python",
   "name": "python",
   "nbconvert_exporter": "python",
   "pygments_lexer": "ipython3",
   "version": "3.9.13"
  }
 },
 "nbformat": 4,
 "nbformat_minor": 5
}
