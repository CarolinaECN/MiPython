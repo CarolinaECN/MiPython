{
 "cells": [
  {
   "cell_type": "markdown",
   "id": "12482ee4",
   "metadata": {},
   "source": [
    "### Clasificacion KNN\n",
    "\n",
    "Modelo de vecinos mas cercanos."
   ]
  },
  {
   "cell_type": "code",
   "execution_count": 1,
   "id": "42b13ff8",
   "metadata": {},
   "outputs": [],
   "source": [
    "import pandas as pd\n",
    "import numpy as np\n",
    "import matplotlib.pyplot as plt"
   ]
  },
  {
   "cell_type": "code",
   "execution_count": 2,
   "id": "2cbbaf75",
   "metadata": {},
   "outputs": [],
   "source": [
    "df=pd.read_csv(r'C:\\Users\\carolina\\Desktop\\FormDataAnalyst\\Modelos\\clasificacion_knn.csv')"
   ]
  },
  {
   "cell_type": "code",
   "execution_count": 3,
   "id": "c41d151b",
   "metadata": {},
   "outputs": [
    {
     "data": {
      "text/html": [
       "<div>\n",
       "<style scoped>\n",
       "    .dataframe tbody tr th:only-of-type {\n",
       "        vertical-align: middle;\n",
       "    }\n",
       "\n",
       "    .dataframe tbody tr th {\n",
       "        vertical-align: top;\n",
       "    }\n",
       "\n",
       "    .dataframe thead th {\n",
       "        text-align: right;\n",
       "    }\n",
       "</style>\n",
       "<table border=\"1\" class=\"dataframe\">\n",
       "  <thead>\n",
       "    <tr style=\"text-align: right;\">\n",
       "      <th></th>\n",
       "      <th>Age</th>\n",
       "      <th>EstimatedSalary</th>\n",
       "      <th>Purchased</th>\n",
       "    </tr>\n",
       "  </thead>\n",
       "  <tbody>\n",
       "    <tr>\n",
       "      <th>0</th>\n",
       "      <td>19</td>\n",
       "      <td>19000</td>\n",
       "      <td>0</td>\n",
       "    </tr>\n",
       "    <tr>\n",
       "      <th>1</th>\n",
       "      <td>35</td>\n",
       "      <td>20000</td>\n",
       "      <td>0</td>\n",
       "    </tr>\n",
       "    <tr>\n",
       "      <th>2</th>\n",
       "      <td>26</td>\n",
       "      <td>43000</td>\n",
       "      <td>0</td>\n",
       "    </tr>\n",
       "    <tr>\n",
       "      <th>3</th>\n",
       "      <td>27</td>\n",
       "      <td>57000</td>\n",
       "      <td>0</td>\n",
       "    </tr>\n",
       "    <tr>\n",
       "      <th>4</th>\n",
       "      <td>19</td>\n",
       "      <td>76000</td>\n",
       "      <td>0</td>\n",
       "    </tr>\n",
       "    <tr>\n",
       "      <th>...</th>\n",
       "      <td>...</td>\n",
       "      <td>...</td>\n",
       "      <td>...</td>\n",
       "    </tr>\n",
       "    <tr>\n",
       "      <th>395</th>\n",
       "      <td>46</td>\n",
       "      <td>41000</td>\n",
       "      <td>1</td>\n",
       "    </tr>\n",
       "    <tr>\n",
       "      <th>396</th>\n",
       "      <td>51</td>\n",
       "      <td>23000</td>\n",
       "      <td>1</td>\n",
       "    </tr>\n",
       "    <tr>\n",
       "      <th>397</th>\n",
       "      <td>50</td>\n",
       "      <td>20000</td>\n",
       "      <td>1</td>\n",
       "    </tr>\n",
       "    <tr>\n",
       "      <th>398</th>\n",
       "      <td>36</td>\n",
       "      <td>33000</td>\n",
       "      <td>0</td>\n",
       "    </tr>\n",
       "    <tr>\n",
       "      <th>399</th>\n",
       "      <td>49</td>\n",
       "      <td>36000</td>\n",
       "      <td>1</td>\n",
       "    </tr>\n",
       "  </tbody>\n",
       "</table>\n",
       "<p>400 rows × 3 columns</p>\n",
       "</div>"
      ],
      "text/plain": [
       "     Age  EstimatedSalary  Purchased\n",
       "0     19            19000          0\n",
       "1     35            20000          0\n",
       "2     26            43000          0\n",
       "3     27            57000          0\n",
       "4     19            76000          0\n",
       "..   ...              ...        ...\n",
       "395   46            41000          1\n",
       "396   51            23000          1\n",
       "397   50            20000          1\n",
       "398   36            33000          0\n",
       "399   49            36000          1\n",
       "\n",
       "[400 rows x 3 columns]"
      ]
     },
     "execution_count": 3,
     "metadata": {},
     "output_type": "execute_result"
    }
   ],
   "source": [
    "df"
   ]
  },
  {
   "cell_type": "code",
   "execution_count": 4,
   "id": "9ee6966b",
   "metadata": {},
   "outputs": [
    {
     "data": {
      "text/plain": [
       "(400, 3)"
      ]
     },
     "execution_count": 4,
     "metadata": {},
     "output_type": "execute_result"
    }
   ],
   "source": [
    "df.shape"
   ]
  },
  {
   "cell_type": "code",
   "execution_count": 5,
   "id": "11404392",
   "metadata": {},
   "outputs": [
    {
     "name": "stdout",
     "output_type": "stream",
     "text": [
      "<class 'pandas.core.frame.DataFrame'>\n",
      "RangeIndex: 400 entries, 0 to 399\n",
      "Data columns (total 3 columns):\n",
      " #   Column           Non-Null Count  Dtype\n",
      "---  ------           --------------  -----\n",
      " 0   Age              400 non-null    int64\n",
      " 1   EstimatedSalary  400 non-null    int64\n",
      " 2   Purchased        400 non-null    int64\n",
      "dtypes: int64(3)\n",
      "memory usage: 9.5 KB\n"
     ]
    }
   ],
   "source": [
    "df.info()"
   ]
  },
  {
   "cell_type": "code",
   "execution_count": 6,
   "id": "4449e751",
   "metadata": {},
   "outputs": [
    {
     "data": {
      "text/html": [
       "<div>\n",
       "<style scoped>\n",
       "    .dataframe tbody tr th:only-of-type {\n",
       "        vertical-align: middle;\n",
       "    }\n",
       "\n",
       "    .dataframe tbody tr th {\n",
       "        vertical-align: top;\n",
       "    }\n",
       "\n",
       "    .dataframe thead th {\n",
       "        text-align: right;\n",
       "    }\n",
       "</style>\n",
       "<table border=\"1\" class=\"dataframe\">\n",
       "  <thead>\n",
       "    <tr style=\"text-align: right;\">\n",
       "      <th></th>\n",
       "      <th>Age</th>\n",
       "      <th>EstimatedSalary</th>\n",
       "      <th>Purchased</th>\n",
       "    </tr>\n",
       "  </thead>\n",
       "  <tbody>\n",
       "    <tr>\n",
       "      <th>count</th>\n",
       "      <td>400.000000</td>\n",
       "      <td>400.000000</td>\n",
       "      <td>400.000000</td>\n",
       "    </tr>\n",
       "    <tr>\n",
       "      <th>mean</th>\n",
       "      <td>37.655000</td>\n",
       "      <td>69742.500000</td>\n",
       "      <td>0.357500</td>\n",
       "    </tr>\n",
       "    <tr>\n",
       "      <th>std</th>\n",
       "      <td>10.482877</td>\n",
       "      <td>34096.960282</td>\n",
       "      <td>0.479864</td>\n",
       "    </tr>\n",
       "    <tr>\n",
       "      <th>min</th>\n",
       "      <td>18.000000</td>\n",
       "      <td>15000.000000</td>\n",
       "      <td>0.000000</td>\n",
       "    </tr>\n",
       "    <tr>\n",
       "      <th>25%</th>\n",
       "      <td>29.750000</td>\n",
       "      <td>43000.000000</td>\n",
       "      <td>0.000000</td>\n",
       "    </tr>\n",
       "    <tr>\n",
       "      <th>50%</th>\n",
       "      <td>37.000000</td>\n",
       "      <td>70000.000000</td>\n",
       "      <td>0.000000</td>\n",
       "    </tr>\n",
       "    <tr>\n",
       "      <th>75%</th>\n",
       "      <td>46.000000</td>\n",
       "      <td>88000.000000</td>\n",
       "      <td>1.000000</td>\n",
       "    </tr>\n",
       "    <tr>\n",
       "      <th>max</th>\n",
       "      <td>60.000000</td>\n",
       "      <td>150000.000000</td>\n",
       "      <td>1.000000</td>\n",
       "    </tr>\n",
       "  </tbody>\n",
       "</table>\n",
       "</div>"
      ],
      "text/plain": [
       "              Age  EstimatedSalary   Purchased\n",
       "count  400.000000       400.000000  400.000000\n",
       "mean    37.655000     69742.500000    0.357500\n",
       "std     10.482877     34096.960282    0.479864\n",
       "min     18.000000     15000.000000    0.000000\n",
       "25%     29.750000     43000.000000    0.000000\n",
       "50%     37.000000     70000.000000    0.000000\n",
       "75%     46.000000     88000.000000    1.000000\n",
       "max     60.000000    150000.000000    1.000000"
      ]
     },
     "execution_count": 6,
     "metadata": {},
     "output_type": "execute_result"
    }
   ],
   "source": [
    "df.describe()"
   ]
  },
  {
   "cell_type": "markdown",
   "id": "456dd52a",
   "metadata": {},
   "source": [
    "##### Vemos la relacion si la hay entre salary y purchased"
   ]
  },
  {
   "cell_type": "markdown",
   "id": "cbf260cb",
   "metadata": {},
   "source": [
    "* t-test entre salary y purchased"
   ]
  },
  {
   "cell_type": "code",
   "execution_count": 7,
   "id": "f711fb1e",
   "metadata": {},
   "outputs": [],
   "source": [
    "#Preparamos los grupos de la variable cualitativa (seleccionamos solo las variables que nos interesa estudiar)\n",
    "\n",
    "df_C=df.loc[:,['EstimatedSalary']][df['Purchased']==1]\n",
    "df_NoC=df.loc[:,['EstimatedSalary']][df['Purchased']==0]  # quite la columna 'purchased' no me sirve porque ya estan agrupados\n",
    "\n",
    "# Al copiar el df esta manteniendo los indices"
   ]
  },
  {
   "cell_type": "code",
   "execution_count": 8,
   "id": "c060ac4e",
   "metadata": {},
   "outputs": [
    {
     "data": {
      "text/plain": [
       "((257, 1), (143, 1))"
      ]
     },
     "execution_count": 8,
     "metadata": {},
     "output_type": "execute_result"
    }
   ],
   "source": [
    "df_NoC.shape, df_C.shape # como habiamos visto la variable no esta compensada"
   ]
  },
  {
   "cell_type": "markdown",
   "id": "77394f72",
   "metadata": {},
   "source": [
    "* Tengo que seleccionar aleatoriamente 143 datos de df_NoC"
   ]
  },
  {
   "cell_type": "code",
   "execution_count": 9,
   "id": "5913edf9",
   "metadata": {},
   "outputs": [],
   "source": [
    "df_NoC=df_NoC.sample(143)"
   ]
  },
  {
   "cell_type": "code",
   "execution_count": 10,
   "id": "79fe3f46",
   "metadata": {},
   "outputs": [
    {
     "data": {
      "text/plain": [
       "((143, 1), (143, 1))"
      ]
     },
     "execution_count": 10,
     "metadata": {},
     "output_type": "execute_result"
    }
   ],
   "source": [
    "df_NoC.shape, df_C.shape"
   ]
  },
  {
   "cell_type": "code",
   "execution_count": 15,
   "id": "c9e84a79",
   "metadata": {},
   "outputs": [],
   "source": [
    "import scipy\n",
    "from scipy.stats import ttest_ind"
   ]
  },
  {
   "cell_type": "code",
   "execution_count": 16,
   "id": "c9e3c34b",
   "metadata": {},
   "outputs": [
    {
     "data": {
      "text/plain": [
       "Ttest_indResult(statistic=array([6.41154108]), pvalue=array([5.98863279e-10]))"
      ]
     },
     "execution_count": 16,
     "metadata": {},
     "output_type": "execute_result"
    }
   ],
   "source": [
    "# Realizo el t-test\n",
    "\n",
    "ttest_ind(df_C, df_NoC)"
   ]
  },
  {
   "cell_type": "code",
   "execution_count": 17,
   "id": "5e6d3cde",
   "metadata": {},
   "outputs": [
    {
     "name": "stdout",
     "output_type": "stream",
     "text": [
      "Ttest_indResult(statistic=array([6.41154108]), pvalue=array([5.98863279e-10]))\n",
      "\n",
      "P-valor [5.98863279e-10] \n",
      "\n",
      "Rechazamos H0, aceptamos H1: Las variables tienen dependencia\n"
     ]
    }
   ],
   "source": [
    "# p-valor es muy pequeña\n",
    "\n",
    "riesgo=0.05\n",
    "p_value=ttest_ind(df_C, df_NoC) # variable trim para indicar el nivel de riesgo por defecto 0,05\n",
    "print (p_value)\n",
    "print('\\nP-valor',p_value[1],'\\n')\n",
    "if p_value[1]>riesgo:\n",
    "    print('Aceptamos H0: Las variables son independientes')\n",
    "else:\n",
    "    print('Rechazamos H0, aceptamos H1: Las variables tienen dependencia')"
   ]
  },
  {
   "cell_type": "markdown",
   "id": "3a27cb40",
   "metadata": {},
   "source": [
    "##### Vemos la relacion si la hay entre Edad y purchased"
   ]
  },
  {
   "cell_type": "code",
   "execution_count": 18,
   "id": "41496655",
   "metadata": {},
   "outputs": [],
   "source": [
    "#Preparamos los grupos de la variable cualitativa (seleccionamos solo las variables que nos interesa estudiar)\n",
    "\n",
    "dfE_C=df.loc[:,['Age']][df['Purchased']==1]\n",
    "dfE_NoC=df.loc[:,['Age']][df['Purchased']==0]  # quite la columna 'purchased' no me sirve porque ya estan agrupados\n"
   ]
  },
  {
   "cell_type": "code",
   "execution_count": 19,
   "id": "580b320e",
   "metadata": {},
   "outputs": [
    {
     "data": {
      "text/plain": [
       "((257, 1), (143, 1))"
      ]
     },
     "execution_count": 19,
     "metadata": {},
     "output_type": "execute_result"
    }
   ],
   "source": [
    "dfE_NoC.shape, dfE_C.shape # como habiamos visto la variable no esta compensada"
   ]
  },
  {
   "cell_type": "markdown",
   "id": "076b4269",
   "metadata": {},
   "source": [
    "Tengo que seleccionar aleatoriamente 143 datos de df_NoC"
   ]
  },
  {
   "cell_type": "code",
   "execution_count": 20,
   "id": "1aa5d9de",
   "metadata": {},
   "outputs": [
    {
     "data": {
      "text/plain": [
       "((143, 1), (143, 1))"
      ]
     },
     "execution_count": 20,
     "metadata": {},
     "output_type": "execute_result"
    }
   ],
   "source": [
    "dfE_NoC=df_NoC.sample(143)\n",
    "dfE_NoC.shape, df_C.shape"
   ]
  },
  {
   "cell_type": "code",
   "execution_count": 22,
   "id": "0e1583ef",
   "metadata": {},
   "outputs": [
    {
     "data": {
      "text/plain": [
       "Ttest_indResult(statistic=array([-30.39937892]), pvalue=array([2.78024709e-91]))"
      ]
     },
     "execution_count": 22,
     "metadata": {},
     "output_type": "execute_result"
    }
   ],
   "source": [
    "# Realizo el t-test\n",
    "ttest_ind(dfE_C, dfE_NoC)\n",
    "# p-valor es muy pequeña\n"
   ]
  },
  {
   "cell_type": "code",
   "execution_count": 23,
   "id": "81442815",
   "metadata": {},
   "outputs": [
    {
     "name": "stdout",
     "output_type": "stream",
     "text": [
      "Ttest_indResult(statistic=array([-30.39937892]), pvalue=array([2.78024709e-91]))\n",
      "\n",
      "P-valor [2.78024709e-91] \n",
      "\n",
      "Rechazamos H0, aceptamos H1: Las variables tienen dependencia\n"
     ]
    }
   ],
   "source": [
    "riesgo=0.05\n",
    "p_valueE=ttest_ind(dfE_C, dfE_NoC) # variable trim para indicar el nivel de riesgo por defecto 0,05\n",
    "print (p_valueE)\n",
    "print('\\nP-valor',p_valueE[1],'\\n')\n",
    "if p_valueE[1]>riesgo:\n",
    "    print('Aceptamos H0: Las variables son independientes')\n",
    "else:\n",
    "    print('Rechazamos H0, aceptamos H1: Las variables tienen dependencia')"
   ]
  },
  {
   "cell_type": "markdown",
   "id": "54918c3b",
   "metadata": {},
   "source": [
    "UNA VEZ COMPROBADA LA RELACION DE EDAD Y SALARIO CON COMPRA PROCEDEMOS A LA ELABORACION DE MODELO"
   ]
  },
  {
   "cell_type": "markdown",
   "id": "08384879",
   "metadata": {},
   "source": [
    "#### Dummys y Missing no hay"
   ]
  },
  {
   "cell_type": "code",
   "execution_count": 26,
   "id": "deef06a4",
   "metadata": {},
   "outputs": [
    {
     "data": {
      "text/plain": [
       "Age    EstimatedSalary  Purchased\n",
       "False  False            False        400\n",
       "dtype: int64"
      ]
     },
     "execution_count": 26,
     "metadata": {},
     "output_type": "execute_result"
    }
   ],
   "source": [
    "df.isnull().value_counts()"
   ]
  },
  {
   "cell_type": "code",
   "execution_count": 29,
   "id": "1312ad12",
   "metadata": {},
   "outputs": [
    {
     "data": {
      "text/html": [
       "<div>\n",
       "<style scoped>\n",
       "    .dataframe tbody tr th:only-of-type {\n",
       "        vertical-align: middle;\n",
       "    }\n",
       "\n",
       "    .dataframe tbody tr th {\n",
       "        vertical-align: top;\n",
       "    }\n",
       "\n",
       "    .dataframe thead th {\n",
       "        text-align: right;\n",
       "    }\n",
       "</style>\n",
       "<table border=\"1\" class=\"dataframe\">\n",
       "  <thead>\n",
       "    <tr style=\"text-align: right;\">\n",
       "      <th></th>\n",
       "      <th>Age</th>\n",
       "      <th>EstimatedSalary</th>\n",
       "      <th>Purchased</th>\n",
       "    </tr>\n",
       "  </thead>\n",
       "  <tbody>\n",
       "    <tr>\n",
       "      <th>0</th>\n",
       "      <td>19</td>\n",
       "      <td>19000</td>\n",
       "      <td>0</td>\n",
       "    </tr>\n",
       "    <tr>\n",
       "      <th>1</th>\n",
       "      <td>35</td>\n",
       "      <td>20000</td>\n",
       "      <td>0</td>\n",
       "    </tr>\n",
       "    <tr>\n",
       "      <th>2</th>\n",
       "      <td>26</td>\n",
       "      <td>43000</td>\n",
       "      <td>0</td>\n",
       "    </tr>\n",
       "  </tbody>\n",
       "</table>\n",
       "</div>"
      ],
      "text/plain": [
       "   Age  EstimatedSalary  Purchased\n",
       "0   19            19000          0\n",
       "1   35            20000          0\n",
       "2   26            43000          0"
      ]
     },
     "execution_count": 29,
     "metadata": {},
     "output_type": "execute_result"
    }
   ],
   "source": [
    "df.head(3)"
   ]
  },
  {
   "cell_type": "markdown",
   "id": "6c51a68d",
   "metadata": {},
   "source": [
    "#### Seleccion de variables\n",
    "\n",
    "Ya hemos comprobado en este DF que las variables de edad y salario tienen relacion con la variable objetivo(compra o no)"
   ]
  },
  {
   "cell_type": "markdown",
   "id": "1d4cd373",
   "metadata": {},
   "source": [
    "#### Separar variables dependiente/independiente"
   ]
  },
  {
   "cell_type": "code",
   "execution_count": 30,
   "id": "24085b28",
   "metadata": {},
   "outputs": [],
   "source": [
    "y=df.iloc[:,2].values"
   ]
  },
  {
   "cell_type": "code",
   "execution_count": 31,
   "id": "7d6d0f6b",
   "metadata": {},
   "outputs": [],
   "source": [
    "x=df.iloc[:,[0,1]].values"
   ]
  },
  {
   "cell_type": "markdown",
   "id": "f7afcf05",
   "metadata": {},
   "source": [
    "#### Separacion training/test"
   ]
  },
  {
   "cell_type": "code",
   "execution_count": 32,
   "id": "dafc3fc4",
   "metadata": {},
   "outputs": [],
   "source": [
    "from sklearn.model_selection import train_test_split"
   ]
  },
  {
   "cell_type": "code",
   "execution_count": 33,
   "id": "4a5ee2f5",
   "metadata": {},
   "outputs": [],
   "source": [
    "x_train, x_test, y_train, y_test = train_test_split(x, y, test_size=0.3, random_state=1987)"
   ]
  },
  {
   "cell_type": "code",
   "execution_count": null,
   "id": "6fae1d01",
   "metadata": {},
   "outputs": [],
   "source": []
  },
  {
   "cell_type": "markdown",
   "id": "d4b47103",
   "metadata": {},
   "source": [
    "#### Normalizacion/estandarizacion en este modelo SI que hay que hacerlo."
   ]
  },
  {
   "cell_type": "code",
   "execution_count": 34,
   "id": "58014cd6",
   "metadata": {},
   "outputs": [],
   "source": [
    "from sklearn.preprocessing import StandardScaler"
   ]
  },
  {
   "cell_type": "code",
   "execution_count": 35,
   "id": "b981de02",
   "metadata": {},
   "outputs": [],
   "source": [
    "sc_x=StandardScaler()\n",
    "x_train=sc_x.fit_transform(x_train)\n",
    "x_test=sc_x.fit_transform(x_test)"
   ]
  },
  {
   "cell_type": "code",
   "execution_count": 37,
   "id": "30834e8f",
   "metadata": {},
   "outputs": [],
   "source": [
    "#x_test"
   ]
  },
  {
   "cell_type": "markdown",
   "id": "804e15d6",
   "metadata": {},
   "source": [
    "#### Crear el modelo KNN\n",
    "\n",
    "Este modelo asigna un valor lo mas cercano a los n vecinos mas proximos.\n",
    "\n",
    "* Parametros:\n",
    "\n",
    "    - n_neighbors: numero de vecinos proximos a considerar. Por defecto 5.\n",
    "    - weights: peso (opciones uniforme o por distancia). Por defecto uniforme.\n",
    "    - algoritm: algoritmo para encontrar vecinos proximos. Por defecto automatico.\n",
    "    - p (metric_params): numero de variables para predecir\n",
    "    "
   ]
  },
  {
   "cell_type": "code",
   "execution_count": 38,
   "id": "6184d33b",
   "metadata": {},
   "outputs": [],
   "source": [
    "from sklearn.neighbors import KNeighborsClassifier"
   ]
  },
  {
   "cell_type": "code",
   "execution_count": 39,
   "id": "cb66eef6",
   "metadata": {},
   "outputs": [],
   "source": [
    "num_var_indep=2 # (edad y salario)"
   ]
  },
  {
   "cell_type": "code",
   "execution_count": 50,
   "id": "fcb081a7",
   "metadata": {},
   "outputs": [
    {
     "data": {
      "text/html": [
       "<style>#sk-container-id-2 {color: black;background-color: white;}#sk-container-id-2 pre{padding: 0;}#sk-container-id-2 div.sk-toggleable {background-color: white;}#sk-container-id-2 label.sk-toggleable__label {cursor: pointer;display: block;width: 100%;margin-bottom: 0;padding: 0.3em;box-sizing: border-box;text-align: center;}#sk-container-id-2 label.sk-toggleable__label-arrow:before {content: \"▸\";float: left;margin-right: 0.25em;color: #696969;}#sk-container-id-2 label.sk-toggleable__label-arrow:hover:before {color: black;}#sk-container-id-2 div.sk-estimator:hover label.sk-toggleable__label-arrow:before {color: black;}#sk-container-id-2 div.sk-toggleable__content {max-height: 0;max-width: 0;overflow: hidden;text-align: left;background-color: #f0f8ff;}#sk-container-id-2 div.sk-toggleable__content pre {margin: 0.2em;color: black;border-radius: 0.25em;background-color: #f0f8ff;}#sk-container-id-2 input.sk-toggleable__control:checked~div.sk-toggleable__content {max-height: 200px;max-width: 100%;overflow: auto;}#sk-container-id-2 input.sk-toggleable__control:checked~label.sk-toggleable__label-arrow:before {content: \"▾\";}#sk-container-id-2 div.sk-estimator input.sk-toggleable__control:checked~label.sk-toggleable__label {background-color: #d4ebff;}#sk-container-id-2 div.sk-label input.sk-toggleable__control:checked~label.sk-toggleable__label {background-color: #d4ebff;}#sk-container-id-2 input.sk-hidden--visually {border: 0;clip: rect(1px 1px 1px 1px);clip: rect(1px, 1px, 1px, 1px);height: 1px;margin: -1px;overflow: hidden;padding: 0;position: absolute;width: 1px;}#sk-container-id-2 div.sk-estimator {font-family: monospace;background-color: #f0f8ff;border: 1px dotted black;border-radius: 0.25em;box-sizing: border-box;margin-bottom: 0.5em;}#sk-container-id-2 div.sk-estimator:hover {background-color: #d4ebff;}#sk-container-id-2 div.sk-parallel-item::after {content: \"\";width: 100%;border-bottom: 1px solid gray;flex-grow: 1;}#sk-container-id-2 div.sk-label:hover label.sk-toggleable__label {background-color: #d4ebff;}#sk-container-id-2 div.sk-serial::before {content: \"\";position: absolute;border-left: 1px solid gray;box-sizing: border-box;top: 0;bottom: 0;left: 50%;z-index: 0;}#sk-container-id-2 div.sk-serial {display: flex;flex-direction: column;align-items: center;background-color: white;padding-right: 0.2em;padding-left: 0.2em;position: relative;}#sk-container-id-2 div.sk-item {position: relative;z-index: 1;}#sk-container-id-2 div.sk-parallel {display: flex;align-items: stretch;justify-content: center;background-color: white;position: relative;}#sk-container-id-2 div.sk-item::before, #sk-container-id-2 div.sk-parallel-item::before {content: \"\";position: absolute;border-left: 1px solid gray;box-sizing: border-box;top: 0;bottom: 0;left: 50%;z-index: -1;}#sk-container-id-2 div.sk-parallel-item {display: flex;flex-direction: column;z-index: 1;position: relative;background-color: white;}#sk-container-id-2 div.sk-parallel-item:first-child::after {align-self: flex-end;width: 50%;}#sk-container-id-2 div.sk-parallel-item:last-child::after {align-self: flex-start;width: 50%;}#sk-container-id-2 div.sk-parallel-item:only-child::after {width: 0;}#sk-container-id-2 div.sk-dashed-wrapped {border: 1px dashed gray;margin: 0 0.4em 0.5em 0.4em;box-sizing: border-box;padding-bottom: 0.4em;background-color: white;}#sk-container-id-2 div.sk-label label {font-family: monospace;font-weight: bold;display: inline-block;line-height: 1.2em;}#sk-container-id-2 div.sk-label-container {text-align: center;}#sk-container-id-2 div.sk-container {/* jupyter's `normalize.less` sets `[hidden] { display: none; }` but bootstrap.min.css set `[hidden] { display: none !important; }` so we also need the `!important` here to be able to override the default hidden behavior on the sphinx rendered scikit-learn.org. See: https://github.com/scikit-learn/scikit-learn/issues/21755 */display: inline-block !important;position: relative;}#sk-container-id-2 div.sk-text-repr-fallback {display: none;}</style><div id=\"sk-container-id-2\" class=\"sk-top-container\"><div class=\"sk-text-repr-fallback\"><pre>KNeighborsClassifier(n_neighbors=10)</pre><b>In a Jupyter environment, please rerun this cell to show the HTML representation or trust the notebook. <br />On GitHub, the HTML representation is unable to render, please try loading this page with nbviewer.org.</b></div><div class=\"sk-container\" hidden><div class=\"sk-item\"><div class=\"sk-estimator sk-toggleable\"><input class=\"sk-toggleable__control sk-hidden--visually\" id=\"sk-estimator-id-2\" type=\"checkbox\" checked><label for=\"sk-estimator-id-2\" class=\"sk-toggleable__label sk-toggleable__label-arrow\">KNeighborsClassifier</label><div class=\"sk-toggleable__content\"><pre>KNeighborsClassifier(n_neighbors=10)</pre></div></div></div></div></div>"
      ],
      "text/plain": [
       "KNeighborsClassifier(n_neighbors=10)"
      ]
     },
     "execution_count": 50,
     "metadata": {},
     "output_type": "execute_result"
    }
   ],
   "source": [
    "clasificador=KNeighborsClassifier(n_neighbors=10, metric='minkowski', p=num_var_indep)\n",
    "clasificador.fit(x_train,y_train)"
   ]
  },
  {
   "cell_type": "markdown",
   "id": "5b45ce42",
   "metadata": {},
   "source": [
    "#### Prediccion"
   ]
  },
  {
   "cell_type": "code",
   "execution_count": 51,
   "id": "35f8ff18",
   "metadata": {},
   "outputs": [
    {
     "data": {
      "text/plain": [
       "array([0, 1, 0, 1, 0, 0, 0, 0, 1, 0, 1, 0, 1, 0, 0, 0, 1, 0, 0, 1, 1, 0,\n",
       "       1, 1, 1, 0, 0, 1, 0, 0, 0, 1, 1, 1, 1, 0, 0, 0, 0, 1, 1, 0, 0, 0,\n",
       "       0, 1, 0, 0, 0, 0, 1, 0, 0, 0, 1, 0, 1, 0, 0, 1, 0, 1, 1, 0, 0, 1,\n",
       "       0, 1, 1, 1, 0, 0, 0, 0, 1, 0, 1, 1, 0, 0, 0, 0, 0, 0, 0, 0, 1, 1,\n",
       "       0, 1, 0, 1, 0, 1, 0, 0, 1, 1, 1, 0, 0, 1, 0, 0, 0, 0, 0, 1, 1, 0,\n",
       "       0, 0, 0, 1, 0, 0, 0, 1, 0, 1], dtype=int64)"
      ]
     },
     "execution_count": 51,
     "metadata": {},
     "output_type": "execute_result"
    }
   ],
   "source": [
    "clasificador.predict(x_test)"
   ]
  },
  {
   "cell_type": "code",
   "execution_count": null,
   "id": "f4c876b4",
   "metadata": {},
   "outputs": [],
   "source": []
  },
  {
   "cell_type": "markdown",
   "id": "cde009a3",
   "metadata": {},
   "source": [
    "##### Evaluacion del modelo mediante matriz de confusion o contingencia"
   ]
  },
  {
   "cell_type": "code",
   "execution_count": 52,
   "id": "fee199a4",
   "metadata": {},
   "outputs": [],
   "source": [
    "from sklearn.metrics import confusion_matrix"
   ]
  },
  {
   "cell_type": "code",
   "execution_count": 53,
   "id": "04be08db",
   "metadata": {},
   "outputs": [
    {
     "data": {
      "text/plain": [
       "array([[69,  6],\n",
       "       [ 5, 40]], dtype=int64)"
      ]
     },
     "execution_count": 53,
     "metadata": {},
     "output_type": "execute_result"
    }
   ],
   "source": [
    "matriz_conf=confusion_matrix(y_test, clasificador.predict(x_test))\n",
    "matriz_conf  # Total 120 (400*0.3)"
   ]
  },
  {
   "cell_type": "markdown",
   "id": "fcad4c73",
   "metadata": {},
   "source": [
    "* VP=69\n",
    "* FP=6\n",
    "* FN=5\n",
    "* VN=40"
   ]
  },
  {
   "cell_type": "code",
   "execution_count": 47,
   "id": "772cf827",
   "metadata": {},
   "outputs": [],
   "source": [
    "# Metricas de la matriz\n",
    "\n",
    "## Funcion de evaluacion\n",
    "def Evaluacion_ClasificacionRL(matriz_conting):\n",
    "    precision_precision=matriz_conf[0,0]/(matriz_conf[0,0]+matriz_conf[0,1])\n",
    "    accuracy_exactitud=(matriz_conf[0,0]+matriz_conf[1,1])/matriz_conf.sum()\n",
    "    specifity_especificidad=matriz_conf[1,1]/(matriz_conf[1,1]+matriz_conf[0,1])\n",
    "    recall_sensibilidad=matriz_conf[0,0]/(matriz_conf[0,0]+matriz_conf[1,0])\n",
    "    f1_score=2*precision_precision*recall_sensibilidad/(precision_precision+recall_sensibilidad)\n",
    "    print(f\"Precision: {precision_precision:.2f}\\nExactitud: {accuracy_exactitud:.2f}\\nEspecificidad: {specifity_especificidad:.2f}\\nSensibilidad: {recall_sensibilidad:.2f}\\nPuntuación F1: {f1_score:.2f}\")\n",
    "    "
   ]
  },
  {
   "cell_type": "code",
   "execution_count": 54,
   "id": "c044d561",
   "metadata": {},
   "outputs": [
    {
     "name": "stdout",
     "output_type": "stream",
     "text": [
      "Precision: 0.92\n",
      "Exactitud: 0.91\n",
      "Especificidad: 0.87\n",
      "Sensibilidad: 0.93\n",
      "Puntuación F1: 0.93\n"
     ]
    }
   ],
   "source": [
    "Evaluacion_ClasificacionRL(matriz_conf)"
   ]
  },
  {
   "cell_type": "markdown",
   "id": "c34191f7",
   "metadata": {},
   "source": [
    "#### Visualizacion del Modelo"
   ]
  },
  {
   "cell_type": "code",
   "execution_count": 55,
   "id": "6d032282",
   "metadata": {},
   "outputs": [
    {
     "name": "stderr",
     "output_type": "stream",
     "text": [
      "C:\\Users\\carolina\\anaconda3\\lib\\site-packages\\sklearn\\base.py:420: UserWarning: X does not have valid feature names, but StandardScaler was fitted with feature names\n",
      "  warnings.warn(\n",
      "*c* argument looks like a single numeric RGB or RGBA sequence, which should be avoided as value-mapping will have precedence in case its length matches with *x* & *y*.  Please use the *color* keyword-argument or provide a 2D array with a single row if you intend to specify the same RGB or RGBA value for all points.\n",
      "*c* argument looks like a single numeric RGB or RGBA sequence, which should be avoided as value-mapping will have precedence in case its length matches with *x* & *y*.  Please use the *color* keyword-argument or provide a 2D array with a single row if you intend to specify the same RGB or RGBA value for all points.\n"
     ]
    },
    {
     "data": {
      "image/png": "[encoded data removed]",
      "text/plain": [
       "<Figure size 640x480 with 1 Axes>"
      ]
     },
     "metadata": {},
     "output_type": "display_data"
    }
   ],
   "source": [
    "from matplotlib.colors import ListedColormap \n",
    "x_set, y_set = sc_x.inverse_transform(x_test), y_test\n",
    "x1,x2=np.meshgrid(np.arange(start=x_set[:,0].min()-10, stop = x_set[:,0].max()+10, step=0.25), np.arange(start=x_set[:,1].min()-1000, stop=x_set[:,1].max()+1000, step=500)) # coord x e y\n",
    "plt.contourf(x1,x2,clasificador.predict(sc_x.transform(np.array([x1.ravel(),x2.ravel()]).T)).reshape(x1.shape),alpha=0.35,cmap=ListedColormap(('red','green'))) # ravel() aplana la matriz\n",
    "plt.xlim(x1.min(),x1.max())\n",
    "plt.ylim(x2.min(),x2.max())\n",
    "for i,j in enumerate(np.unique(y_set)):\n",
    "    plt.scatter(x_set[y_set==j,0], x_set[y_set==j,1], c = ListedColormap(('red','green'))(i),label=j)\n",
    "plt.title('Regresion KNN - Test')\n",
    "plt.xlabel('Edad y Salario')\n",
    "plt.ylabel('Compra o No Compra')\n",
    "plt.legend()\n",
    "plt.show()"
   ]
  },
  {
   "cell_type": "markdown",
   "id": "302d89d0",
   "metadata": {},
   "source": [
    "Hay islas rosas y verdes que indican sobre parametrizacion. \n",
    "Cambiamos parametros vecinos de 5 a 10. Algo ha mejorado la grafica. \n",
    "Se puede seguir modificando los parametros del modelo para intentar ajustarlo mejor."
   ]
  },
  {
   "cell_type": "code",
   "execution_count": null,
   "id": "3a56a14f",
   "metadata": {},
   "outputs": [],
   "source": []
  }
 ],
 "metadata": {
  "kernelspec": {
   "display_name": "Python 3 (ipykernel)",
   "language": "python",
   "name": "python3"
  },
  "language_info": {
   "codemirror_mode": {
    "name": "ipython",
    "version": 3
   },
   "file_extension": ".py",
   "mimetype": "text/x-python",
   "name": "python",
   "nbconvert_exporter": "python",
   "pygments_lexer": "ipython3",
   "version": "3.9.13"
  }
 },
 "nbformat": 4,
 "nbformat_minor": 5
}
