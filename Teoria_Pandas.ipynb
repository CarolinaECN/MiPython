{
 "cells": [
  {
   "cell_type": "code",
   "execution_count": 6,
   "id": "2f7b5206",
   "metadata": {},
   "outputs": [],
   "source": [
    "import pandas  as pd\n",
    "import numpy as np"
   ]
  },
  {
   "cell_type": "markdown",
   "id": "2d511003",
   "metadata": {},
   "source": [
    "## Libreria Pandas\n",
    "\n",
    "* Libreria que permite manejar datos estructurados: Series (unidimensionales) y Dataframes (multidimensional).\n",
    "* Son estructuras tabulares.\n",
    "* Integra Numpy por debajo.\n",
    "* Desarrollada en C.\n",
    "* Almacena diferentes tipos de datos pero por columna han de ser homogeneos.\n",
    "* Series: datos 1-D formados por un array de datos (Numpy) y un arrray de etiquetas (indices)\n",
    "* Dataframes: estructura tabular de datos orientada a columnas con un array de etiquetas en las filas y otro para las columnas.\n"
   ]
  },
  {
   "cell_type": "code",
   "execution_count": 2,
   "id": "f4a46cef",
   "metadata": {},
   "outputs": [
    {
     "data": {
      "text/plain": [
       "'Requirement already satisfied: pandas in c:\\\\users\\\\adria\\\\anaconda3\\\\lib\\\\site-packages (1.4.4)Requirement already satisfied: python-dateutil>=2.8.1 in c:\\\\users\\\\adria\\\\anaconda3\\\\lib\\\\site-packages (from pandas) (2.8.2)Requirement already satisfied: numpy>=1.18.5 in c:\\\\users\\\\adria\\\\anaconda3\\\\lib\\\\site-packages (from pandas) (1.21.5)Requirement already satisfied: pytz>=2020.1 in c:\\\\users\\\\adria\\\\anaconda3\\\\lib\\\\site-packages (from pandas) (2022.1)Requirement already satisfied: six>=1.5 in c:\\\\users\\\\adria\\\\anaconda3\\\\lib\\\\site-packages (from python-dateutil>=2.8.1->pandas) (1.16.0)'"
      ]
     },
     "execution_count": 2,
     "metadata": {},
     "output_type": "execute_result"
    }
   ],
   "source": [
    "import subprocess\n",
    "p=subprocess.run('pip install pandas', capture_output=True, text=True)\n",
    "p.stdout.replace(\"\\n\",\"\")"
   ]
  },
  {
   "cell_type": "code",
   "execution_count": 2,
   "id": "97c31beb",
   "metadata": {},
   "outputs": [],
   "source": [
    "import pandas as pd\n",
    "import numpy as np"
   ]
  },
  {
   "cell_type": "markdown",
   "id": "e4e3abb8",
   "metadata": {},
   "source": [
    "### SERIES"
   ]
  },
  {
   "cell_type": "markdown",
   "id": "ca7ac188",
   "metadata": {},
   "source": [
    "* Creacion : Se construyen con el contructor pd.Series(). \n",
    "* Son tabulares y se estructuran como una columna.\n",
    "* Admiten solo un tipo de dato por columna. Esto es relativo porque considera un tipo de dato 'object' donde mete lo que no es float.\n",
    "   Es decir entonces que las Series pueden ser de float64, int64 (elementos de Numpy) u object (donde conviven otros tipos como int,str) \n",
    "* Tienen dos parametros principales\n",
    "    \n",
    "    * data: son los datos de la serie que pueden importarse a partir de un diccionario, array, lista o escalar.\n",
    "    * index: son los indices de la serie que contiene la etiquetas para cada uno de los datos y se construyen exclusivamente a partir de un array o lista."
   ]
  },
  {
   "cell_type": "markdown",
   "id": "71d5d41e",
   "metadata": {},
   "source": [
    "* Construccion a partir de un array o una lista"
   ]
  },
  {
   "cell_type": "code",
   "execution_count": 12,
   "id": "2bad5744",
   "metadata": {},
   "outputs": [
    {
     "data": {
      "text/plain": [
       "Invierno     Guantes\n",
       "Primavera     Gorras\n",
       "Verano       Toallas\n",
       "Otoño          Botas\n",
       "dtype: object"
      ]
     },
     "execution_count": 12,
     "metadata": {},
     "output_type": "execute_result"
    }
   ],
   "source": [
    "# Carga a partir de un array numpy\n",
    "productos=pd.Series(data=np.array(['Guantes','Gorras','Toallas', 'Botas']), index=['Invierno','Primavera','Verano', 'Otoño'])\n",
    "productos\n",
    "\n",
    "# Observar que los strings son objects en pandas"
   ]
  },
  {
   "cell_type": "code",
   "execution_count": 5,
   "id": "569cd36d",
   "metadata": {},
   "outputs": [
    {
     "data": {
      "text/plain": [
       "Invierno     Guantes\n",
       "Primavera     Gorras\n",
       "Verano       Toallas\n",
       "Otoño          Botas\n",
       "dtype: object"
      ]
     },
     "execution_count": 5,
     "metadata": {},
     "output_type": "execute_result"
    }
   ],
   "source": [
    "# Carga a partir de una lista (tambien me lo permite ademas de cargar la data desde array numpy, puede ser lista) (idem al index)\n",
    "productos2=pd.Series(data=['Guantes','Gorras','Toallas', 'Botas'], index=['Invierno','Primavera','Verano', 'Otoño'])\n",
    "productos2\n"
   ]
  },
  {
   "cell_type": "code",
   "execution_count": 3,
   "id": "e0ed037d",
   "metadata": {},
   "outputs": [
    {
     "data": {
      "text/plain": [
       "Invierno     Guantes\n",
       "Primavera     Gorras\n",
       "Verano       Toallas\n",
       "Otoño          Botas\n",
       "dtype: object"
      ]
     },
     "execution_count": 3,
     "metadata": {},
     "output_type": "execute_result"
    }
   ],
   "source": [
    "# Carga del index a partir de array numpy\n",
    "productos3=pd.Series(data=['Guantes','Gorras','Toallas', 'Botas'], index=np.array(['Invierno','Primavera','Verano', 'Otoño']))\n",
    "productos3"
   ]
  },
  {
   "cell_type": "code",
   "execution_count": 7,
   "id": "fc134a5c",
   "metadata": {},
   "outputs": [
    {
     "data": {
      "text/plain": [
       "(pandas.core.series.Series,\n",
       " pandas.core.series.Series,\n",
       " pandas.core.series.Series)"
      ]
     },
     "execution_count": 7,
     "metadata": {},
     "output_type": "execute_result"
    }
   ],
   "source": [
    "type(productos), type(productos2), type(productos3) # son lo mismo"
   ]
  },
  {
   "cell_type": "code",
   "execution_count": 8,
   "id": "1894fa12",
   "metadata": {},
   "outputs": [
    {
     "data": {
      "text/plain": [
       "(str, str, str)"
      ]
     },
     "execution_count": 8,
     "metadata": {},
     "output_type": "execute_result"
    }
   ],
   "source": [
    "type(productos[0]), type(productos2[0]), type(productos3[0]) # y mismo contenido"
   ]
  },
  {
   "cell_type": "code",
   "execution_count": 9,
   "id": "a48cb49f",
   "metadata": {},
   "outputs": [],
   "source": [
    "\n",
    "# Observar que los strings son objects en numpy"
   ]
  },
  {
   "cell_type": "code",
   "execution_count": 10,
   "id": "2b4fed56",
   "metadata": {},
   "outputs": [
    {
     "data": {
      "text/plain": [
       "True"
      ]
     },
     "execution_count": 10,
     "metadata": {},
     "output_type": "execute_result"
    }
   ],
   "source": [
    "type(productos)==type(productos2)==type(productos3) # mismo tipo de estructura"
   ]
  },
  {
   "cell_type": "code",
   "execution_count": 11,
   "id": "ebc3dc4d",
   "metadata": {},
   "outputs": [
    {
     "data": {
      "text/plain": [
       "True"
      ]
     },
     "execution_count": 11,
     "metadata": {},
     "output_type": "execute_result"
    }
   ],
   "source": [
    "type(productos[0]) == type(productos2[0]) ==  type(productos3[0]) # mismo contenido"
   ]
  },
  {
   "cell_type": "markdown",
   "id": "3203555b",
   "metadata": {},
   "source": [
    "* Construccion a partir de un diccionario"
   ]
  },
  {
   "cell_type": "code",
   "execution_count": 23,
   "id": "032e82a3",
   "metadata": {},
   "outputs": [
    {
     "data": {
      "text/plain": [
       "1ºTrim    18.9\n",
       "2ºTrim    20.3\n",
       "3ºTrim    15.4\n",
       "4ºTrim    16.2\n",
       "dtype: float64"
      ]
     },
     "execution_count": 23,
     "metadata": {},
     "output_type": "execute_result"
    }
   ],
   "source": [
    "empleados=pd.Series(data={'1ºTrim':18.9, '2ºTrim':20.3, '3ºTrim':15.4, '4ºTrim':16.2}, index=['1ºTrim','2ºTrim','3ºTrim','4ºTrim'])\n",
    "empleados\n",
    "# me da que lo del indice es redundante porque ya vienen en el diccionario"
   ]
  },
  {
   "cell_type": "code",
   "execution_count": 13,
   "id": "289226a0",
   "metadata": {},
   "outputs": [
    {
     "data": {
      "text/plain": [
       "1ºTrim    18.9\n",
       "2ºTrim    20.3\n",
       "3ºTrim    15.4\n",
       "4ºTrim    16.2\n",
       "dtype: float64"
      ]
     },
     "execution_count": 13,
     "metadata": {},
     "output_type": "execute_result"
    }
   ],
   "source": [
    "empleados2=pd.Series(data={'1ºTrim':18.9, '2ºTrim':20.3, '3ºTrim':15.4, '4ºTrim':16.2}) # Quite la parte del index y parece lo mismo\n",
    "empleados2 # se ve que es redundante poner el indice porque en un diccionario ya estan las etiquetas puestas."
   ]
  },
  {
   "cell_type": "code",
   "execution_count": 14,
   "id": "22a2e0da",
   "metadata": {},
   "outputs": [
    {
     "data": {
      "text/plain": [
       "(pandas.core.series.Series, pandas.core.series.Series)"
      ]
     },
     "execution_count": 14,
     "metadata": {},
     "output_type": "execute_result"
    }
   ],
   "source": [
    "# verifico que sea lo mismo\n",
    "type(empleados), type(empleados2)"
   ]
  },
  {
   "cell_type": "code",
   "execution_count": 15,
   "id": "9f0428e6",
   "metadata": {},
   "outputs": [
    {
     "data": {
      "text/plain": [
       "(numpy.float64, numpy.float64)"
      ]
     },
     "execution_count": 15,
     "metadata": {},
     "output_type": "execute_result"
    }
   ],
   "source": [
    "type(empleados[0]), type(empleados2[0])"
   ]
  },
  {
   "cell_type": "markdown",
   "id": "03155842",
   "metadata": {},
   "source": [
    "* Construccion a partir de un escalar"
   ]
  },
  {
   "cell_type": "code",
   "execution_count": 29,
   "id": "7363ab83",
   "metadata": {},
   "outputs": [
    {
     "data": {
      "text/plain": [
       "1ºTrim    7\n",
       "2ºTrim    7\n",
       "3ºTrim    7\n",
       "4ºTrim    7\n",
       "dtype: int64"
      ]
     },
     "execution_count": 29,
     "metadata": {},
     "output_type": "execute_result"
    }
   ],
   "source": [
    "perdidas=pd.Series(data=7, index = ['1ºTrim','2ºTrim','3ºTrim','4ºTrim'])\n",
    "perdidas"
   ]
  },
  {
   "cell_type": "markdown",
   "id": "e6297a5f",
   "metadata": {},
   "source": [
    "* Consulta y manipulacion"
   ]
  },
  {
   "cell_type": "code",
   "execution_count": 17,
   "id": "4b5edb5f",
   "metadata": {},
   "outputs": [
    {
     "data": {
      "text/plain": [
       "pandas.core.series.Series"
      ]
     },
     "execution_count": 17,
     "metadata": {},
     "output_type": "execute_result"
    }
   ],
   "source": [
    "type(perdidas) # productos es una serie"
   ]
  },
  {
   "cell_type": "code",
   "execution_count": 18,
   "id": "189e98c6",
   "metadata": {},
   "outputs": [
    {
     "name": "stdout",
     "output_type": "stream",
     "text": [
      "object float64 int64\n"
     ]
    }
   ],
   "source": [
    "# aca estan los TRES TIPOS DE DATOS QUE CONTIENEN LOS 'DATA' DE LAS SERIES\n",
    "\n",
    "# dtype data-type (Es el tipo de los datos del array de values)\n",
    "\n",
    "print(productos.dtype,empleados.dtype,perdidas.dtype) "
   ]
  },
  {
   "cell_type": "code",
   "execution_count": 71,
   "id": "e6ba8928",
   "metadata": {},
   "outputs": [
    {
     "data": {
      "text/plain": [
       "(dtype('O'), dtype('float64'), dtype('int64'))"
      ]
     },
     "execution_count": 71,
     "metadata": {},
     "output_type": "execute_result"
    }
   ],
   "source": [
    "productos.dtype, empleados.dtype, perdidas.dtype # en productos devuelve '0' porque es object por eso se hace un print"
   ]
  },
  {
   "cell_type": "code",
   "execution_count": 69,
   "id": "3e6be3b7",
   "metadata": {},
   "outputs": [
    {
     "data": {
      "text/plain": [
       "Invierno     Guantes\n",
       "Primavera     Gorras\n",
       "Verano       Toallas\n",
       "Otoño          Botas\n",
       "dtype: object"
      ]
     },
     "execution_count": 69,
     "metadata": {},
     "output_type": "execute_result"
    }
   ],
   "source": [
    "productos"
   ]
  },
  {
   "cell_type": "code",
   "execution_count": 16,
   "id": "4077f57c",
   "metadata": {},
   "outputs": [
    {
     "name": "stdout",
     "output_type": "stream",
     "text": [
      "object\n"
     ]
    },
    {
     "data": {
      "text/plain": [
       "(None, dtype('O'))"
      ]
     },
     "execution_count": 16,
     "metadata": {},
     "output_type": "execute_result"
    }
   ],
   "source": [
    "print(productos.dtype), productos.dtype # ¿? HAY QUE HACER UN PRINT PARA VERLO BIEN"
   ]
  },
  {
   "cell_type": "code",
   "execution_count": 24,
   "id": "d51710a6",
   "metadata": {},
   "outputs": [
    {
     "data": {
      "text/plain": [
       "array([18.9, 20.3, 15.4, 16.2])"
      ]
     },
     "execution_count": 24,
     "metadata": {},
     "output_type": "execute_result"
    }
   ],
   "source": [
    "empleados.values # es lo que esta cargado como data"
   ]
  },
  {
   "cell_type": "code",
   "execution_count": 25,
   "id": "0859e369",
   "metadata": {},
   "outputs": [
    {
     "data": {
      "text/plain": [
       "(numpy.ndarray, numpy.float64)"
      ]
     },
     "execution_count": 25,
     "metadata": {},
     "output_type": "execute_result"
    }
   ],
   "source": [
    "type(empleados.values), type(empleados.values[0]) # el tipo de values es un array numpy, y el array esta formado por datos float64"
   ]
  },
  {
   "cell_type": "code",
   "execution_count": 21,
   "id": "63ae9462",
   "metadata": {},
   "outputs": [
    {
     "data": {
      "text/plain": [
       "(numpy.ndarray, numpy.float64)"
      ]
     },
     "execution_count": 21,
     "metadata": {},
     "output_type": "execute_result"
    }
   ],
   "source": [
    "type(empleados2.values), type(empleados2.values[0]) "
   ]
  },
  {
   "cell_type": "code",
   "execution_count": 23,
   "id": "12f88b9e",
   "metadata": {},
   "outputs": [
    {
     "data": {
      "text/plain": [
       "(numpy.ndarray, str)"
      ]
     },
     "execution_count": 23,
     "metadata": {},
     "output_type": "execute_result"
    }
   ],
   "source": [
    "type(productos.values), type(productos.values[0]) "
   ]
  },
  {
   "cell_type": "code",
   "execution_count": 24,
   "id": "d26b0bb0",
   "metadata": {},
   "outputs": [
    {
     "data": {
      "text/plain": [
       "(numpy.ndarray, str)"
      ]
     },
     "execution_count": 24,
     "metadata": {},
     "output_type": "execute_result"
    }
   ],
   "source": [
    "type(productos2.values), type(productos2.values[0]) "
   ]
  },
  {
   "cell_type": "code",
   "execution_count": 25,
   "id": "48f04af0",
   "metadata": {},
   "outputs": [
    {
     "data": {
      "text/plain": [
       "(numpy.ndarray, str)"
      ]
     },
     "execution_count": 25,
     "metadata": {},
     "output_type": "execute_result"
    }
   ],
   "source": [
    "type(productos3.values), type(productos3.values[0]) # tambien son iguales observando 'values'"
   ]
  },
  {
   "cell_type": "code",
   "execution_count": 26,
   "id": "5914b1e3",
   "metadata": {},
   "outputs": [
    {
     "data": {
      "text/plain": [
       "array([18.9, 20.3, 15.4, 16.2])"
      ]
     },
     "execution_count": 26,
     "metadata": {},
     "output_type": "execute_result"
    }
   ],
   "source": [
    "empleados.values # recupera los valores de DATA"
   ]
  },
  {
   "cell_type": "code",
   "execution_count": 27,
   "id": "e39975f1",
   "metadata": {},
   "outputs": [
    {
     "data": {
      "text/plain": [
       "Index(['1ºTrim', '2ºTrim', '3ºTrim', '4ºTrim'], dtype='object')"
      ]
     },
     "execution_count": 27,
     "metadata": {},
     "output_type": "execute_result"
    }
   ],
   "source": [
    "empleados.index # recupera los INDICES"
   ]
  },
  {
   "cell_type": "code",
   "execution_count": 30,
   "id": "bc6fbbad",
   "metadata": {},
   "outputs": [
    {
     "data": {
      "text/plain": [
       "(4,)"
      ]
     },
     "execution_count": 30,
     "metadata": {},
     "output_type": "execute_result"
    }
   ],
   "source": [
    "perdidas.shape # tamaño de la serie (filas y columnas). \n",
    "# Como hay solo una columna en la serie lo indica con la , y luego nada."
   ]
  },
  {
   "cell_type": "code",
   "execution_count": 29,
   "id": "63b0372e",
   "metadata": {},
   "outputs": [
    {
     "data": {
      "text/plain": [
       "4"
      ]
     },
     "execution_count": 29,
     "metadata": {},
     "output_type": "execute_result"
    }
   ],
   "source": [
    "perdidas.size # numero de objetos de la serie"
   ]
  },
  {
   "cell_type": "code",
   "execution_count": 32,
   "id": "34bcbb03",
   "metadata": {},
   "outputs": [
    {
     "data": {
      "text/plain": [
       "1"
      ]
     },
     "execution_count": 32,
     "metadata": {},
     "output_type": "execute_result"
    }
   ],
   "source": [
    "perdidas.ndim # las Series solo tienen una sola dimension "
   ]
  },
  {
   "cell_type": "code",
   "execution_count": 30,
   "id": "48f1a051",
   "metadata": {},
   "outputs": [
    {
     "data": {
      "text/plain": [
       "1ºTrim    True\n",
       "2ºTrim    True\n",
       "3ºTrim    True\n",
       "4ºTrim    True\n",
       "dtype: bool"
      ]
     },
     "execution_count": 30,
     "metadata": {},
     "output_type": "execute_result"
    }
   ],
   "source": [
    "empleados>0.5 # evalua la condicion elemento a elemento y devuelve un array booleano"
   ]
  },
  {
   "cell_type": "code",
   "execution_count": 31,
   "id": "55e8b68e",
   "metadata": {},
   "outputs": [
    {
     "data": {
      "text/plain": [
       "1ºTrim    18.9\n",
       "2ºTrim    20.3\n",
       "3ºTrim    15.4\n",
       "4ºTrim    16.2\n",
       "dtype: float64"
      ]
     },
     "execution_count": 31,
     "metadata": {},
     "output_type": "execute_result"
    }
   ],
   "source": [
    "empleados[empleados>0.5] # Evalua y recupera los elementos que cumplen la condicion logica\n",
    "\n",
    "#Cuando se ponen los dobles [[]] es porque estamos pasando una lista para que se realize la condicion logica. \n",
    "# Es una lista o array por eso va []"
   ]
  },
  {
   "cell_type": "code",
   "execution_count": 33,
   "id": "d3bbbe2a",
   "metadata": {},
   "outputs": [
    {
     "data": {
      "text/plain": [
       "20.3"
      ]
     },
     "execution_count": 33,
     "metadata": {},
     "output_type": "execute_result"
    }
   ],
   "source": [
    "empleados[\"2ºTrim\"] # consulta por indice de etiqueta"
   ]
  },
  {
   "cell_type": "code",
   "execution_count": 34,
   "id": "4d46fc8d",
   "metadata": {},
   "outputs": [
    {
     "data": {
      "text/plain": [
       "20.3"
      ]
     },
     "execution_count": 34,
     "metadata": {},
     "output_type": "execute_result"
    }
   ],
   "source": [
    "empleados[1] # consulta por indice numerico "
   ]
  },
  {
   "cell_type": "code",
   "execution_count": 35,
   "id": "beda361a",
   "metadata": {},
   "outputs": [
    {
     "data": {
      "text/plain": [
       "20.3"
      ]
     },
     "execution_count": 35,
     "metadata": {},
     "output_type": "execute_result"
    }
   ],
   "source": [
    "empleados.loc[\"2ºTrim\"] # consulta por propiedad especifica (LOC) de una ETIQUETA. \n",
    "\n",
    "#Es mas eficiente. Es como los accesos por indices de las BBDD. Como nueve veces las rapido."
   ]
  },
  {
   "cell_type": "code",
   "execution_count": 36,
   "id": "ac4edf0a",
   "metadata": {},
   "outputs": [
    {
     "data": {
      "text/plain": [
       "15.4"
      ]
     },
     "execution_count": 36,
     "metadata": {},
     "output_type": "execute_result"
    }
   ],
   "source": [
    "empleados.iloc[2]  # consulta por propiedad especifica (ILOC) de un INDICE. Lo mismo, mayor eficiencia. Mas rapido."
   ]
  },
  {
   "cell_type": "code",
   "execution_count": 37,
   "id": "a232ef78",
   "metadata": {},
   "outputs": [],
   "source": [
    "empleados[\"2ºTrim\"]=23.99 #asignacion (modificacion de los valores de la serie) OJO! con la igualdad, va con doble =="
   ]
  },
  {
   "cell_type": "code",
   "execution_count": 38,
   "id": "4fab8d68",
   "metadata": {},
   "outputs": [],
   "source": [
    "empleados[0]=99.23 #asignacion (modificacion de los valores de la serie)"
   ]
  },
  {
   "cell_type": "code",
   "execution_count": 39,
   "id": "a5987a85",
   "metadata": {},
   "outputs": [
    {
     "data": {
      "text/plain": [
       "1ºTrim    99.23\n",
       "2ºTrim    23.99\n",
       "3ºTrim    15.40\n",
       "dtype: float64"
      ]
     },
     "execution_count": 39,
     "metadata": {},
     "output_type": "execute_result"
    }
   ],
   "source": [
    "empleados[\"1ºTrim\":\"3ºTrim\"] # consulta de un conjunto de datos por etiquetas (aqui SI INCLUYE EL ELEMENTO FINAL) \n",
    "                                # Las etiquetas no comienzan en 0 por eso se incluye el final del rango, supongo."
   ]
  },
  {
   "cell_type": "code",
   "execution_count": 40,
   "id": "7b8c0df0",
   "metadata": {},
   "outputs": [
    {
     "data": {
      "text/plain": [
       "1ºTrim    99.23\n",
       "2ºTrim    23.99\n",
       "3ºTrim    15.40\n",
       "dtype: float64"
      ]
     },
     "execution_count": 40,
     "metadata": {},
     "output_type": "execute_result"
    }
   ],
   "source": [
    "empleados.loc[\"1ºTrim\":\"3ºTrim\"] # consulta de un conjunto de datos por propiedad especifica (LOC) por ETIQUETA "
   ]
  },
  {
   "cell_type": "code",
   "execution_count": 41,
   "id": "ca61de17",
   "metadata": {},
   "outputs": [
    {
     "data": {
      "text/plain": [
       "3ºTrim    15.4\n",
       "4ºTrim    16.2\n",
       "dtype: float64"
      ]
     },
     "execution_count": 41,
     "metadata": {},
     "output_type": "execute_result"
    }
   ],
   "source": [
    "empleados[2:4] # consulta de un conjunto de datos por indice (NO incluye el final)"
   ]
  },
  {
   "cell_type": "code",
   "execution_count": 42,
   "id": "cc022652",
   "metadata": {},
   "outputs": [
    {
     "data": {
      "text/plain": [
       "1ºTrim    99.23\n",
       "2ºTrim    23.99\n",
       "3ºTrim    15.40\n",
       "4ºTrim    16.20\n",
       "dtype: float64"
      ]
     },
     "execution_count": 42,
     "metadata": {},
     "output_type": "execute_result"
    }
   ],
   "source": [
    "empleados.iloc[0:4] # consulta de un conjunto de datos por propiedad especifica (ILOC) por INDICE. Son 4 elementos de 0 a 3."
   ]
  },
  {
   "cell_type": "code",
   "execution_count": 43,
   "id": "fcb5c3b8",
   "metadata": {},
   "outputs": [],
   "source": [
    "empleados[\"1ºTrim\":\"3ºTrim\"]=9999 # asignacion o modificacion multiple por etiqueta continua"
   ]
  },
  {
   "cell_type": "code",
   "execution_count": null,
   "id": "bf5bb818",
   "metadata": {},
   "outputs": [],
   "source": [
    "empleados[\"1ºTrim\":\"3ºTrim\"]=[40,60,80] # asignacion o modificacion multiple por etiqueta continua con distintos valores"
   ]
  },
  {
   "cell_type": "code",
   "execution_count": 52,
   "id": "128dee99",
   "metadata": {},
   "outputs": [],
   "source": [
    "empleados[0:3]=9999 # asignacion o modificacion multiple por indice continua"
   ]
  },
  {
   "cell_type": "code",
   "execution_count": 53,
   "id": "397f3193",
   "metadata": {},
   "outputs": [
    {
     "data": {
      "text/plain": [
       "1ºTrim    9999.0\n",
       "2ºTrim    9999.0\n",
       "3ºTrim    9999.0\n",
       "4ºTrim      16.2\n",
       "dtype: float64"
      ]
     },
     "execution_count": 53,
     "metadata": {},
     "output_type": "execute_result"
    }
   ],
   "source": [
    "empleados"
   ]
  },
  {
   "cell_type": "code",
   "execution_count": 54,
   "id": "2f582c6e",
   "metadata": {},
   "outputs": [],
   "source": [
    "empleados[\"1ºTrim\",\"3ºTrim\"]=90 # asignacion discreta (solo UNA posicion) por etiqueta"
   ]
  },
  {
   "cell_type": "code",
   "execution_count": 55,
   "id": "49316a90",
   "metadata": {},
   "outputs": [
    {
     "data": {
      "text/plain": [
       "1ºTrim      90.0\n",
       "2ºTrim    9999.0\n",
       "3ºTrim      90.0\n",
       "4ºTrim      16.2\n",
       "dtype: float64"
      ]
     },
     "execution_count": 55,
     "metadata": {},
     "output_type": "execute_result"
    }
   ],
   "source": [
    "empleados"
   ]
  },
  {
   "cell_type": "code",
   "execution_count": 60,
   "id": "b78941cb",
   "metadata": {},
   "outputs": [],
   "source": [
    "empleados.iloc[[0,3]]=20 # modificacion discreta (solo UNA posicion) por indice. Observar doble []."
   ]
  },
  {
   "cell_type": "code",
   "execution_count": 61,
   "id": "49cb49f0",
   "metadata": {},
   "outputs": [
    {
     "data": {
      "text/plain": [
       "1ºTrim      20.0\n",
       "2ºTrim    9999.0\n",
       "3ºTrim      90.0\n",
       "4ºTrim      20.0\n",
       "dtype: float64"
      ]
     },
     "execution_count": 61,
     "metadata": {},
     "output_type": "execute_result"
    }
   ],
   "source": [
    "empleados"
   ]
  },
  {
   "cell_type": "code",
   "execution_count": 63,
   "id": "79fc8b86",
   "metadata": {},
   "outputs": [],
   "source": [
    "empleados[\"1ºTrim\",\"3ºTrim\"]=[40,60] # modificacion discreta (solo UNA posicion) por etiqueta CON DISTINTOS VALORES.\n"
   ]
  },
  {
   "cell_type": "code",
   "execution_count": 36,
   "id": "395bd0c7",
   "metadata": {},
   "outputs": [
    {
     "data": {
      "text/plain": [
       "1ºTrim    40.0\n",
       "2ºTrim    60.0\n",
       "3ºTrim    80.0\n",
       "4ºTrim    16.2\n",
       "dtype: float64"
      ]
     },
     "execution_count": 36,
     "metadata": {},
     "output_type": "execute_result"
    }
   ],
   "source": [
    "empleados"
   ]
  },
  {
   "cell_type": "code",
   "execution_count": 65,
   "id": "3cd8465e",
   "metadata": {},
   "outputs": [],
   "source": [
    "empleados[0:2]=[3,6]  # modificacion continua por etiqueta indice con distintos valores"
   ]
  },
  {
   "cell_type": "code",
   "execution_count": 66,
   "id": "46efe582",
   "metadata": {},
   "outputs": [
    {
     "data": {
      "text/plain": [
       "1ºTrim     3.0\n",
       "2ºTrim     6.0\n",
       "3ºTrim    60.0\n",
       "4ºTrim    20.0\n",
       "dtype: float64"
      ]
     },
     "execution_count": 66,
     "metadata": {},
     "output_type": "execute_result"
    }
   ],
   "source": [
    "empleados"
   ]
  },
  {
   "cell_type": "markdown",
   "id": "bf0831b0",
   "metadata": {},
   "source": [
    "NOTA: LAS ASIGNACIONES/MODIFICACIONES TAMBIEN SE PUEDEN HACER MEDIANTE LOC/ILOC"
   ]
  },
  {
   "cell_type": "code",
   "execution_count": 70,
   "id": "af4f4a7b",
   "metadata": {},
   "outputs": [],
   "source": [
    "empleados.iloc[0:2]=[3,6] # asignacion continua por indice"
   ]
  },
  {
   "cell_type": "code",
   "execution_count": 71,
   "id": "89aea375",
   "metadata": {},
   "outputs": [
    {
     "data": {
      "text/plain": [
       "1ºTrim     3.0\n",
       "2ºTrim     6.0\n",
       "3ºTrim    60.0\n",
       "4ºTrim    20.0\n",
       "dtype: float64"
      ]
     },
     "execution_count": 71,
     "metadata": {},
     "output_type": "execute_result"
    }
   ],
   "source": [
    "empleados"
   ]
  },
  {
   "cell_type": "code",
   "execution_count": 40,
   "id": "318c1754",
   "metadata": {},
   "outputs": [],
   "source": [
    "empleados.loc[\"1ºTrim\":\"3ºTrim\"]=[40,60,80] # asignacion continua por etiqueta"
   ]
  },
  {
   "cell_type": "code",
   "execution_count": 39,
   "id": "bf0502f3",
   "metadata": {},
   "outputs": [
    {
     "data": {
      "text/plain": [
       "1ºTrim    40.0\n",
       "2ºTrim    60.0\n",
       "3ºTrim    80.0\n",
       "4ºTrim    16.2\n",
       "dtype: float64"
      ]
     },
     "execution_count": 39,
     "metadata": {},
     "output_type": "execute_result"
    }
   ],
   "source": [
    "empleados"
   ]
  },
  {
   "cell_type": "code",
   "execution_count": 42,
   "id": "341684da",
   "metadata": {},
   "outputs": [
    {
     "data": {
      "text/plain": [
       "1ºTrim    40.0\n",
       "2ºTrim    60.0\n",
       "3ºTrim    80.0\n",
       "dtype: float64"
      ]
     },
     "execution_count": 42,
     "metadata": {},
     "output_type": "execute_result"
    }
   ],
   "source": [
    "empleados.loc[\"1ºTrim\":\"3ºTrim\"]"
   ]
  },
  {
   "cell_type": "code",
   "execution_count": 75,
   "id": "c5e5b608",
   "metadata": {},
   "outputs": [
    {
     "data": {
      "text/plain": [
       "Invierno     Guantes\n",
       "Primavera     Gorras\n",
       "Verano       Toallas\n",
       "Otoño          Botas\n",
       "dtype: object"
      ]
     },
     "execution_count": 75,
     "metadata": {},
     "output_type": "execute_result"
    }
   ],
   "source": [
    "productos"
   ]
  },
  {
   "cell_type": "code",
   "execution_count": 43,
   "id": "ca50bf9a",
   "metadata": {},
   "outputs": [
    {
     "data": {
      "text/plain": [
       "Guantes    1\n",
       "Gorras     1\n",
       "Toallas    1\n",
       "Botas      1\n",
       "dtype: int64"
      ]
     },
     "execution_count": 43,
     "metadata": {},
     "output_type": "execute_result"
    }
   ],
   "source": [
    "productos.value_counts() # recuento por valores (la columna de datos). Contar values."
   ]
  },
  {
   "cell_type": "code",
   "execution_count": 79,
   "id": "104e505b",
   "metadata": {},
   "outputs": [
    {
     "data": {
      "text/plain": [
       "Inv    Guantes\n",
       "Pri     Gorras\n",
       "Ver    Toallas\n",
       "Oto      Botas\n",
       "dtype: object"
      ]
     },
     "execution_count": 79,
     "metadata": {},
     "output_type": "execute_result"
    }
   ],
   "source": [
    "## cambiar el valor de los indices \n",
    "productos.index=['Inv','Pri','Ver','Oto'] # asigna nuevos valores para los indices/etiquetas\n",
    "productos"
   ]
  },
  {
   "cell_type": "code",
   "execution_count": 80,
   "id": "ec2b90a6",
   "metadata": {},
   "outputs": [],
   "source": [
    "# vuelvo a dejar los mismos indices\n",
    "productos.index=['Invierno','Primavera','Verano','Otoño'] # asigna nuevos valores para los indices/etiquetas"
   ]
  },
  {
   "cell_type": "markdown",
   "id": "74ea6bc6",
   "metadata": {},
   "source": [
    "####  Muestra aleatoria de datos M.A.S. (muestra aleatoria simple)\n",
    "\n",
    "Funcion sample()\n",
    "\n",
    "Parametros:\n",
    "\n",
    "* n numero de elementos o bien frac indica el porcentaje de los datos que quiero obtener (ej .5 es el 50%)\n",
    "* random_state para definir la semilla (en caso de que queramos reproducir mas adelante la misma muestra)\n",
    "* replace= True con reemplazo, significa que los datos se pueden repetir."
   ]
  },
  {
   "cell_type": "code",
   "execution_count": 81,
   "id": "a88d8770",
   "metadata": {},
   "outputs": [
    {
     "data": {
      "text/plain": [
       "4"
      ]
     },
     "execution_count": 81,
     "metadata": {},
     "output_type": "execute_result"
    }
   ],
   "source": [
    "empleados.count()"
   ]
  },
  {
   "cell_type": "code",
   "execution_count": 82,
   "id": "2c217636",
   "metadata": {},
   "outputs": [
    {
     "data": {
      "text/plain": [
       "1ºTrim    40.0\n",
       "1ºTrim    40.0\n",
       "2ºTrim    60.0\n",
       "dtype: float64"
      ]
     },
     "execution_count": 82,
     "metadata": {},
     "output_type": "execute_result"
    }
   ],
   "source": [
    "empleados.sample(n=3, random_state=999, replace=True) \n",
    "\n",
    "# M.A.S muestra aleatoria simple de 3 elementos CON reemplazamiento puede repetir los mismos datos (si los quiero diferentes replace=False)"
   ]
  },
  {
   "cell_type": "code",
   "execution_count": 83,
   "id": "34d48842",
   "metadata": {},
   "outputs": [
    {
     "data": {
      "text/plain": [
       "3ºTrim    60.0\n",
       "2ºTrim    60.0\n",
       "dtype: float64"
      ]
     },
     "execution_count": 83,
     "metadata": {},
     "output_type": "execute_result"
    }
   ],
   "source": [
    "empleados.sample(frac= .5, random_state=999, replace=False) \n",
    "\n",
    "# M.A.S muestra aleatoria simple del 50% elementos SIN reemplazamiento No se repiten los mismos datos."
   ]
  },
  {
   "cell_type": "markdown",
   "id": "808ce8dc",
   "metadata": {},
   "source": [
    "La semilla (random_state) sirve para generar siempre la misma muestra en caso de que queramos recrear el mismo proceso con mismos datos, aunque sean aleatorios, para ciertos casos es util poder reproducir la misma muestra."
   ]
  },
  {
   "cell_type": "markdown",
   "id": "fcd49b6e",
   "metadata": {},
   "source": [
    "####  Borrar elementos\n",
    "\n",
    "* Borrar un único elemento de la serie df.pop('etiqueta') NO NECESITA CONFIRMACION\n",
    "\n",
    "* Borrar más de un elemento de la serie df.drop([lista de etiquetas]) NECESITA CONFIRMACION"
   ]
  },
  {
   "cell_type": "code",
   "execution_count": 84,
   "id": "eebf6390",
   "metadata": {},
   "outputs": [
    {
     "data": {
      "text/plain": [
       "'Guantes'"
      ]
     },
     "execution_count": 84,
     "metadata": {},
     "output_type": "execute_result"
    }
   ],
   "source": [
    "productos.pop('Invierno') # Borra la primera aparicion del valor con etiqueta 'Invierno'. Solo borra UNA."
   ]
  },
  {
   "cell_type": "code",
   "execution_count": 85,
   "id": "eeeae769",
   "metadata": {},
   "outputs": [
    {
     "data": {
      "text/plain": [
       "Primavera     Gorras\n",
       "Verano       Toallas\n",
       "Otoño          Botas\n",
       "dtype: object"
      ]
     },
     "execution_count": 85,
     "metadata": {},
     "output_type": "execute_result"
    }
   ],
   "source": [
    "productos # eliminado Invierno \n",
    "# pop NO NECESITA CONFIRMACION ni ningun otro argumento para indicar que elimine efectivamente el valor."
   ]
  },
  {
   "cell_type": "code",
   "execution_count": 87,
   "id": "b915f5cc",
   "metadata": {},
   "outputs": [
    {
     "data": {
      "text/plain": [
       "Primavera    Gorras\n",
       "dtype: object"
      ]
     },
     "execution_count": 87,
     "metadata": {},
     "output_type": "execute_result"
    }
   ],
   "source": [
    "# Para borrar MAS DE UN elemento uso drop y paso un array, \n",
    "# inplace = True borra efectivamente. De la otra forma inplace=False me muestra lo que borraria pero no lo borra en realidad.\n",
    "\n",
    "# SIN BORRADO\n",
    "productos.drop(['Otoño', 'Verano'], inplace=False)\n"
   ]
  },
  {
   "cell_type": "code",
   "execution_count": 88,
   "id": "65b55e51",
   "metadata": {},
   "outputs": [
    {
     "data": {
      "text/plain": [
       "Primavera     Gorras\n",
       "Verano       Toallas\n",
       "Otoño          Botas\n",
       "dtype: object"
      ]
     },
     "execution_count": 88,
     "metadata": {},
     "output_type": "execute_result"
    }
   ],
   "source": [
    "productos # no los ha borrado"
   ]
  },
  {
   "cell_type": "code",
   "execution_count": 89,
   "id": "d2733b58",
   "metadata": {},
   "outputs": [
    {
     "data": {
      "text/plain": [
       "Primavera    Gorras\n",
       "dtype: object"
      ]
     },
     "execution_count": 89,
     "metadata": {},
     "output_type": "execute_result"
    }
   ],
   "source": [
    "# BORRANDO\n",
    "productos.drop(['Otoño', 'Verano'], inplace=True)\n",
    "productos"
   ]
  },
  {
   "cell_type": "markdown",
   "id": "e87ca3b2",
   "metadata": {},
   "source": [
    "#### Condicion WHERE. \n",
    "\n",
    "    * Funcion df.where('condiciondevariable', valoropcional, inplace=True)   \"inplace opcional por defecto False\"\n",
    "\n",
    "El valor opcional reemplaza los datos que NO cumplen la condicion. \n",
    "\n",
    "Seria como decir: devuelvemos los datos que cumplen esta condicion y a los que no reemplazalos por valor opcional."
   ]
  },
  {
   "cell_type": "code",
   "execution_count": 91,
   "id": "b246488d",
   "metadata": {},
   "outputs": [
    {
     "data": {
      "text/plain": [
       "1ºTrim    40.0\n",
       "4ºTrim    20.0\n",
       "dtype: float64"
      ]
     },
     "execution_count": 91,
     "metadata": {},
     "output_type": "execute_result"
    }
   ],
   "source": [
    "empleados[empleados<50]  # solo recupero los valores que cumplen la condicion"
   ]
  },
  {
   "cell_type": "code",
   "execution_count": 92,
   "id": "537cb45f",
   "metadata": {},
   "outputs": [
    {
     "data": {
      "text/plain": [
       "1ºTrim    40.0\n",
       "2ºTrim    60.0\n",
       "3ºTrim    60.0\n",
       "4ºTrim    20.0\n",
       "dtype: float64"
      ]
     },
     "execution_count": 92,
     "metadata": {},
     "output_type": "execute_result"
    }
   ],
   "source": [
    "empleados"
   ]
  },
  {
   "cell_type": "code",
   "execution_count": 93,
   "id": "23709ac3",
   "metadata": {},
   "outputs": [
    {
     "data": {
      "text/plain": [
       "1ºTrim    40.0\n",
       "2ºTrim     NaN\n",
       "3ºTrim     NaN\n",
       "4ºTrim    20.0\n",
       "dtype: float64"
      ]
     },
     "execution_count": 93,
     "metadata": {},
     "output_type": "execute_result"
    }
   ],
   "source": [
    "empleados.where(empleados<57)  # recupera todos los valores, LOS QUE CUMPLEN COMO ESTAN Y LOS QUE NO COMO NaN."
   ]
  },
  {
   "cell_type": "code",
   "execution_count": 94,
   "id": "7974e11c",
   "metadata": {},
   "outputs": [
    {
     "data": {
      "text/plain": [
       "1ºTrim    40.0\n",
       "2ºTrim    60.0\n",
       "3ºTrim    60.0\n",
       "4ºTrim     NaN\n",
       "dtype: float64"
      ]
     },
     "execution_count": 94,
     "metadata": {},
     "output_type": "execute_result"
    }
   ],
   "source": [
    "empleados.where(empleados>20) # devuelve nan donde no se da la condicion"
   ]
  },
  {
   "cell_type": "code",
   "execution_count": 48,
   "id": "21d29310",
   "metadata": {},
   "outputs": [
    {
     "data": {
      "text/plain": [
       "1ºTrim     40.0\n",
       "2ºTrim     60.0\n",
       "3ºTrim     80.0\n",
       "4ºTrim    300.0\n",
       "dtype: float64"
      ]
     },
     "execution_count": 48,
     "metadata": {},
     "output_type": "execute_result"
    }
   ],
   "source": [
    "empleados.where(empleados>20, 300) # Reemplaza los que NO cumplen la condicion por 300, en lugar de ponerlo como NaN.\n",
    "\n",
    "# Ojo que reemplaza los que NO cumplen la condicion. NO los que la cumplen. En este caso 4ºTrim era 20.0 y no cumplia la cond."
   ]
  },
  {
   "cell_type": "code",
   "execution_count": 47,
   "id": "d9cf02e7",
   "metadata": {},
   "outputs": [
    {
     "data": {
      "text/plain": [
       "1ºTrim    40.0\n",
       "2ºTrim    60.0\n",
       "3ºTrim    80.0\n",
       "4ºTrim    16.2\n",
       "dtype: float64"
      ]
     },
     "execution_count": 47,
     "metadata": {},
     "output_type": "execute_result"
    }
   ],
   "source": [
    "empleados # Solo hace el reemplazo en la visualizacion. No asigna el valor efectivamente."
   ]
  },
  {
   "cell_type": "code",
   "execution_count": 49,
   "id": "bd6c8824",
   "metadata": {},
   "outputs": [],
   "source": [
    "empleados.where(empleados>20, 300, inplace=True) # ahora si hizo efectivo el cambio"
   ]
  },
  {
   "cell_type": "code",
   "execution_count": 50,
   "id": "b36b2bf1",
   "metadata": {},
   "outputs": [
    {
     "data": {
      "text/plain": [
       "1ºTrim     40.0\n",
       "2ºTrim     60.0\n",
       "3ºTrim     80.0\n",
       "4ºTrim    300.0\n",
       "dtype: float64"
      ]
     },
     "execution_count": 50,
     "metadata": {},
     "output_type": "execute_result"
    }
   ],
   "source": [
    "empleados"
   ]
  },
  {
   "cell_type": "markdown",
   "id": "ad6bdbdf",
   "metadata": {},
   "source": [
    "#### Suma de columnas de distintas Series que tienen la misma etiqueta\n",
    "\n",
    "Tambien se pueden realizar otras operaciones como suma de escalar, division, etc."
   ]
  },
  {
   "cell_type": "code",
   "execution_count": 97,
   "id": "dd1afc4a",
   "metadata": {},
   "outputs": [],
   "source": [
    "produccion1=pd.Series(data=[50,125,222],index=['Enero','Febrero','Marzo'])"
   ]
  },
  {
   "cell_type": "code",
   "execution_count": 98,
   "id": "de05800c",
   "metadata": {},
   "outputs": [],
   "source": [
    "produccion2=pd.Series(data=[50,125,222],index=['Abril','Mayo','Junio'])"
   ]
  },
  {
   "cell_type": "code",
   "execution_count": 99,
   "id": "ba7dd7c1",
   "metadata": {},
   "outputs": [],
   "source": [
    "produccion1bis=pd.Series(data=[1,1,1],index=['Enero','Febrero','Marzo'])"
   ]
  },
  {
   "cell_type": "code",
   "execution_count": 100,
   "id": "1d7cc6f7",
   "metadata": {},
   "outputs": [
    {
     "data": {
      "text/plain": [
       "Enero       51\n",
       "Febrero    126\n",
       "Marzo      223\n",
       "dtype: int64"
      ]
     },
     "execution_count": 100,
     "metadata": {},
     "output_type": "execute_result"
    }
   ],
   "source": [
    "produccion1+produccion1bis # Suma los valores con la misma etiqueta"
   ]
  },
  {
   "cell_type": "code",
   "execution_count": 101,
   "id": "ca766fa9",
   "metadata": {},
   "outputs": [
    {
     "data": {
      "text/plain": [
       "Abril     NaN\n",
       "Enero     NaN\n",
       "Febrero   NaN\n",
       "Junio     NaN\n",
       "Marzo     NaN\n",
       "Mayo      NaN\n",
       "dtype: float64"
      ]
     },
     "execution_count": 101,
     "metadata": {},
     "output_type": "execute_result"
    }
   ],
   "source": [
    "produccion1+produccion2 \n",
    "# No hay etiquetas coincidentes la suma no se realiza pero concatena las etiquetas de ambas series con resultado NaN\n",
    "# ordeno alfabeticamente"
   ]
  },
  {
   "cell_type": "code",
   "execution_count": 102,
   "id": "d1620c4c",
   "metadata": {},
   "outputs": [
    {
     "data": {
      "text/plain": [
       "Enero       50.0\n",
       "Febrero    125.0\n",
       "Marzo      222.0\n",
       "dtype: float64"
      ]
     },
     "execution_count": 102,
     "metadata": {},
     "output_type": "execute_result"
    }
   ],
   "source": [
    "produccion1/produccion1bis # Lo mismo que en la suma, mismas etiquetas por tanto realiza la operacion."
   ]
  },
  {
   "cell_type": "code",
   "execution_count": 103,
   "id": "03130daf",
   "metadata": {},
   "outputs": [
    {
     "data": {
      "text/plain": [
       "Enero       55\n",
       "Febrero    130\n",
       "Marzo      227\n",
       "dtype: int64"
      ]
     },
     "execution_count": 103,
     "metadata": {},
     "output_type": "execute_result"
    }
   ],
   "source": [
    "produccion1+5 # suma 5 a todos "
   ]
  },
  {
   "cell_type": "markdown",
   "id": "6c6de171",
   "metadata": {},
   "source": [
    "#### Funcion concat (se amplia mas adelante)"
   ]
  },
  {
   "cell_type": "code",
   "execution_count": 104,
   "id": "efd91d3e",
   "metadata": {},
   "outputs": [
    {
     "data": {
      "text/plain": [
       "Enero       50\n",
       "Febrero    125\n",
       "Marzo      222\n",
       "Abril       50\n",
       "Mayo       125\n",
       "Junio      222\n",
       "dtype: int64"
      ]
     },
     "execution_count": 104,
     "metadata": {},
     "output_type": "execute_result"
    }
   ],
   "source": [
    "pd.concat([produccion1,produccion2]) # Como se le pasa un conjunto de datos/argumentos deben ir como lista []\n",
    "# a diferencia de la + (que trajo todo en nan) aqui si que trajo los valores de data"
   ]
  },
  {
   "cell_type": "markdown",
   "id": "68634c68",
   "metadata": {},
   "source": [
    "#### Aplicar funciones sobre series ( apply )\n",
    "\n",
    "Funcion df.apply(\\<funcion a aplicar a la serie>)\n",
    "\n",
    "La funcion aplicada NO modifica la variable sobre la cual se aplica. Solo muestra el resultado de aplicar la funcion."
   ]
  },
  {
   "cell_type": "code",
   "execution_count": 52,
   "id": "c33d7c6d",
   "metadata": {},
   "outputs": [
    {
     "data": {
      "text/plain": [
       "a    10\n",
       "b    20\n",
       "c    14\n",
       "d    11\n",
       "dtype: int64"
      ]
     },
     "execution_count": 52,
     "metadata": {},
     "output_type": "execute_result"
    }
   ],
   "source": [
    "concentracion=pd.Series(data=[10,20,14,11], index=['a','b','c','d'])\n",
    "concentracion"
   ]
  },
  {
   "cell_type": "code",
   "execution_count": 106,
   "id": "f8d7a02f",
   "metadata": {},
   "outputs": [],
   "source": [
    "def funcion(x):\n",
    "    if x%2!=0: # impar\n",
    "        return x+100\n",
    "    else:\n",
    "        return x   "
   ]
  },
  {
   "cell_type": "code",
   "execution_count": 107,
   "id": "b17fb476",
   "metadata": {},
   "outputs": [
    {
     "data": {
      "text/plain": [
       "a     10\n",
       "b     20\n",
       "c     14\n",
       "d    111\n",
       "dtype: int64"
      ]
     },
     "execution_count": 107,
     "metadata": {},
     "output_type": "execute_result"
    }
   ],
   "source": [
    "concentracion.apply(funcion)"
   ]
  },
  {
   "cell_type": "code",
   "execution_count": 108,
   "id": "99ccd718",
   "metadata": {},
   "outputs": [
    {
     "data": {
      "text/plain": [
       "a    10\n",
       "b    20\n",
       "c    14\n",
       "d    11\n",
       "dtype: int64"
      ]
     },
     "execution_count": 108,
     "metadata": {},
     "output_type": "execute_result"
    }
   ],
   "source": [
    "concentracion # no se ha modificado la serie, si quiero modificarla tengo que asignar a la serie"
   ]
  },
  {
   "cell_type": "code",
   "execution_count": null,
   "id": "d1c393d6",
   "metadata": {},
   "outputs": [],
   "source": []
  },
  {
   "cell_type": "markdown",
   "id": "c72968bc",
   "metadata": {},
   "source": [
    "Aplicar funcion LAMBDA (en este caso con asignacion)"
   ]
  },
  {
   "cell_type": "code",
   "execution_count": 109,
   "id": "65d05b2a",
   "metadata": {},
   "outputs": [
    {
     "data": {
      "text/plain": [
       "a    100\n",
       "b    400\n",
       "c    196\n",
       "d    121\n",
       "dtype: int64"
      ]
     },
     "execution_count": 109,
     "metadata": {},
     "output_type": "execute_result"
    }
   ],
   "source": [
    "concentracion=concentracion.apply(lambda x:x**2)\n",
    "concentracion"
   ]
  },
  {
   "cell_type": "markdown",
   "id": "4f05f61c",
   "metadata": {},
   "source": [
    "NOTA: USAR FOR EN SERIES NO ES EFICIENTE. CREAR FUNCION Y APLICAR ( apply() ) EN REEMPLAZO DE FOR O MAP."
   ]
  },
  {
   "cell_type": "markdown",
   "id": "1848d430",
   "metadata": {},
   "source": [
    "NOTA: UTILIZAR LOC/ILOC SIEMPRE QUE SE PUEDA PUESTO QUE ES MAS EFICIENTE (RECORRE POR INDICES/VECTORES)"
   ]
  },
  {
   "cell_type": "markdown",
   "id": "356c4865",
   "metadata": {},
   "source": [
    "####  Funciones estadisticas básicas"
   ]
  },
  {
   "cell_type": "code",
   "execution_count": 110,
   "id": "5eaa9c51",
   "metadata": {},
   "outputs": [
    {
     "data": {
      "text/plain": [
       "count      4.000000\n",
       "mean     204.250000\n",
       "std      136.851197\n",
       "min      100.000000\n",
       "25%      115.750000\n",
       "50%      158.500000\n",
       "75%      247.000000\n",
       "max      400.000000\n",
       "dtype: float64"
      ]
     },
     "execution_count": 110,
     "metadata": {},
     "output_type": "execute_result"
    }
   ],
   "source": [
    "concentracion.describe() # nos devuelve un resumen estadístico de los datos\n",
    "\n",
    "# La mediana coincide con el percentil 50%, \n",
    "# como no tiene valor central, en este caso esta calculada como la media de los valores medios en este caso (121 y 196)"
   ]
  },
  {
   "cell_type": "code",
   "execution_count": 54,
   "id": "70fcdfca",
   "metadata": {},
   "outputs": [
    {
     "data": {
      "text/plain": [
       "0    10\n",
       "1    20\n",
       "2    14\n",
       "3    11\n",
       "4    50\n",
       "dtype: int64"
      ]
     },
     "execution_count": 54,
     "metadata": {},
     "output_type": "execute_result"
    }
   ],
   "source": [
    "# Como se calcularia la mediana si tuviera 5 datos en lugar de 4\n",
    "concentracion2=pd.Series(data=[10,20,14,11,50])\n",
    "concentracion2"
   ]
  },
  {
   "cell_type": "code",
   "execution_count": 56,
   "id": "25ed2e24",
   "metadata": {},
   "outputs": [
    {
     "data": {
      "text/plain": [
       "count     5.000000\n",
       "mean     21.000000\n",
       "std      16.673332\n",
       "min      10.000000\n",
       "25%      11.000000\n",
       "50%      14.000000\n",
       "75%      20.000000\n",
       "max      50.000000\n",
       "dtype: float64"
      ]
     },
     "execution_count": 56,
     "metadata": {},
     "output_type": "execute_result"
    }
   ],
   "source": [
    "concentracion2.describe()\n",
    "# Datos ordenados: 10,11,14,20,50 \n",
    "# la mediana es 14 (es el valor central)"
   ]
  },
  {
   "cell_type": "code",
   "execution_count": 64,
   "id": "af9f8fb5",
   "metadata": {},
   "outputs": [
    {
     "data": {
      "text/plain": [
       "(4.5, 13.75, 12.5, 20, 10, 4, 55, 15.5)"
      ]
     },
     "execution_count": 64,
     "metadata": {},
     "output_type": "execute_result"
    }
   ],
   "source": [
    "concentracion.std(), concentracion.mean(), concentracion.median(), concentracion.max(), concentracion.min(),\\\n",
    "concentracion.count(), concentracion.sum(), concentracion.quantile(.75)\n",
    "# desviacion std, media, mediana, maximo, minimo, conteo/cantidad, suma, percentil 75, etc."
   ]
  },
  {
   "cell_type": "code",
   "execution_count": 114,
   "id": "e137a9e0",
   "metadata": {},
   "outputs": [
    {
     "data": {
      "text/plain": [
       "247.0"
      ]
     },
     "execution_count": 114,
     "metadata": {},
     "output_type": "execute_result"
    }
   ],
   "source": [
    " np.percentile(concentracion, 75) # otra para los percentiles"
   ]
  },
  {
   "cell_type": "markdown",
   "id": "28d88337",
   "metadata": {},
   "source": [
    "#### Cambio del tipo de dato\n",
    "\n",
    "          funcion astype()       argumentos: np.float64, np.int64"
   ]
  },
  {
   "cell_type": "code",
   "execution_count": 115,
   "id": "522e62a1",
   "metadata": {},
   "outputs": [
    {
     "data": {
      "text/plain": [
       "pandas.core.series.Series"
      ]
     },
     "execution_count": 115,
     "metadata": {},
     "output_type": "execute_result"
    }
   ],
   "source": [
    "type(concentracion) # aqui devuelve el tipo de objeto de pandas"
   ]
  },
  {
   "cell_type": "code",
   "execution_count": 116,
   "id": "0fda6935",
   "metadata": {},
   "outputs": [
    {
     "data": {
      "text/plain": [
       "dtype('int64')"
      ]
     },
     "execution_count": 116,
     "metadata": {},
     "output_type": "execute_result"
    }
   ],
   "source": [
    "concentracion.dtype # devuelve el tipo de dato de la serie 'data-type'"
   ]
  },
  {
   "cell_type": "code",
   "execution_count": 72,
   "id": "38190b85",
   "metadata": {},
   "outputs": [
    {
     "data": {
      "text/plain": [
       "a    10.0\n",
       "b    20.0\n",
       "c    14.0\n",
       "d    11.0\n",
       "dtype: float64"
      ]
     },
     "execution_count": 72,
     "metadata": {},
     "output_type": "execute_result"
    }
   ],
   "source": [
    "concentracion.astype(np.float64) # Cambio del tipo de dato de la serie (son tipos de numpy)"
   ]
  },
  {
   "cell_type": "code",
   "execution_count": 73,
   "id": "95407b19",
   "metadata": {},
   "outputs": [
    {
     "data": {
      "text/plain": [
       "a    10\n",
       "b    20\n",
       "c    14\n",
       "d    11\n",
       "dtype: int64"
      ]
     },
     "execution_count": 73,
     "metadata": {},
     "output_type": "execute_result"
    }
   ],
   "source": [
    "concentracion.astype(np.int64)"
   ]
  },
  {
   "cell_type": "code",
   "execution_count": 74,
   "id": "c68cb345",
   "metadata": {},
   "outputs": [
    {
     "name": "stderr",
     "output_type": "stream",
     "text": [
      "C:\\Users\\carolina\\AppData\\Local\\Temp\\ipykernel_15132\\2228230361.py:1: DeprecationWarning: `np.object` is a deprecated alias for the builtin `object`. To silence this warning, use `object` by itself. Doing this will not modify any behavior and is safe. \n",
      "Deprecated in NumPy 1.20; for more details and guidance: https://numpy.org/devdocs/release/1.20.0-notes.html#deprecations\n",
      "  concentracion.astype(np.object)\n"
     ]
    },
    {
     "data": {
      "text/plain": [
       "a    10\n",
       "b    20\n",
       "c    14\n",
       "d    11\n",
       "dtype: object"
      ]
     },
     "execution_count": 74,
     "metadata": {},
     "output_type": "execute_result"
    }
   ],
   "source": [
    "concentracion.astype(np.object)"
   ]
  },
  {
   "cell_type": "markdown",
   "id": "bc89a913",
   "metadata": {},
   "source": [
    "* DATOS ESPECIALES (missing):\n",
    "    * NaN (not a number) Significa que no es un numero y procede de una indeterminacion. Ej: 0/0\n",
    "    * NA (not aviable) Significa no disponible (null de sql) y procede de varias causas (consecuencia de cohercion, falta genetica¿?)."
   ]
  },
  {
   "cell_type": "code",
   "execution_count": 118,
   "id": "c69040e1",
   "metadata": {},
   "outputs": [
    {
     "data": {
      "text/plain": [
       "a    10.0\n",
       "b    20.0\n",
       "c     NaN\n",
       "dtype: float64"
      ]
     },
     "execution_count": 118,
     "metadata": {},
     "output_type": "execute_result"
    }
   ],
   "source": [
    "pd.Series(data=[10,20,None], index=['a','b','c']) # None define un valor faltante. Se muestra como NaN supongo porque son np.float\n",
    "\n",
    "# Observar que los datos de la serie son de tipo float por tanto None se ha transformado a NaN de Numpy"
   ]
  },
  {
   "cell_type": "code",
   "execution_count": 75,
   "id": "f59025ee",
   "metadata": {},
   "outputs": [
    {
     "data": {
      "text/plain": [
       "a    10.0\n",
       "b    20.0\n",
       "c     NaN\n",
       "dtype: float64"
      ]
     },
     "execution_count": 75,
     "metadata": {},
     "output_type": "execute_result"
    }
   ],
   "source": [
    "pd.Series(data=[10,20,np.nan], index=['a','b','c']) # tambien se puede cargar como un nan de numpy"
   ]
  },
  {
   "cell_type": "code",
   "execution_count": 119,
   "id": "83b54afe",
   "metadata": {},
   "outputs": [
    {
     "data": {
      "text/plain": [
       "a       A\n",
       "b       B\n",
       "c    None\n",
       "dtype: object"
      ]
     },
     "execution_count": 119,
     "metadata": {},
     "output_type": "execute_result"
    }
   ],
   "source": [
    "pd.Series(data=['A','B',None], index=['a','b','c']) # Aqui los elementos son strings y aparece el faltante como None.\n",
    "                                            # Arriba ha hecho la cohercion a nulo de Numpy, aqui no porque los datos son str."
   ]
  },
  {
   "cell_type": "code",
   "execution_count": 120,
   "id": "ccb65bd3",
   "metadata": {},
   "outputs": [
    {
     "data": {
      "text/plain": [
       "str"
      ]
     },
     "execution_count": 120,
     "metadata": {},
     "output_type": "execute_result"
    }
   ],
   "source": [
    "type(pd.Series(data=['A','B',None], index=['a','b','c'])['a']) # None seria el valor faltante en objects (por ej cuando son str)"
   ]
  },
  {
   "cell_type": "code",
   "execution_count": 121,
   "id": "e920d12c",
   "metadata": {},
   "outputs": [
    {
     "data": {
      "text/plain": [
       "a    10.0\n",
       "b    20.0\n",
       "c     NaN\n",
       "dtype: float64"
      ]
     },
     "execution_count": 121,
     "metadata": {},
     "output_type": "execute_result"
    }
   ],
   "source": [
    "pd.Series(data=[10,20,np.nan], index=['a','b','c']) # NaN define un valor faltante como estructura de Numpy. Tal como lo vemos arriba."
   ]
  },
  {
   "cell_type": "code",
   "execution_count": 122,
   "id": "8870351c",
   "metadata": {},
   "outputs": [
    {
     "data": {
      "text/plain": [
       "a    10\n",
       "b    20\n",
       "c    NA\n",
       "dtype: object"
      ]
     },
     "execution_count": 122,
     "metadata": {},
     "output_type": "execute_result"
    }
   ],
   "source": [
    "pd.Series(data=[10,20,'NA'], index=['a','b','c']) # NA Se carga como un str"
   ]
  },
  {
   "cell_type": "code",
   "execution_count": 76,
   "id": "bc141e65",
   "metadata": {},
   "outputs": [],
   "source": [
    "# En la construccion de la serie anterior tenemos tanto enteros como el string 'NA'. La serie indica dtype=object\n",
    "# Como object mete todo lo que no sea float. OBSERVACION: algunos elementos son int y otros str en la misma serie!!!!"
   ]
  },
  {
   "cell_type": "code",
   "execution_count": 124,
   "id": "a3d70793",
   "metadata": {},
   "outputs": [
    {
     "data": {
      "text/plain": [
       "int"
      ]
     },
     "execution_count": 124,
     "metadata": {},
     "output_type": "execute_result"
    }
   ],
   "source": [
    "type(pd.Series(data=[10,20,'NA'], index=['a','b','c'])['a'])"
   ]
  },
  {
   "cell_type": "code",
   "execution_count": 125,
   "id": "addb0eb2",
   "metadata": {},
   "outputs": [
    {
     "data": {
      "text/plain": [
       "str"
      ]
     },
     "execution_count": 125,
     "metadata": {},
     "output_type": "execute_result"
    }
   ],
   "source": [
    "type(pd.Series(data=[10,20,'NA'], index=['a','b','c'])['c'])"
   ]
  },
  {
   "cell_type": "code",
   "execution_count": 126,
   "id": "8f1f9c02",
   "metadata": {},
   "outputs": [
    {
     "data": {
      "text/plain": [
       "a     10\n",
       "b     20\n",
       "c    NaN\n",
       "dtype: object"
      ]
     },
     "execution_count": 126,
     "metadata": {},
     "output_type": "execute_result"
    }
   ],
   "source": [
    "pd.Series(data=[10,20,'NaN'], index=['a','b','c']) # NaN idem anterior. 'NaN' es un str y se carga como tal"
   ]
  },
  {
   "cell_type": "code",
   "execution_count": 127,
   "id": "8e8c36cc",
   "metadata": {},
   "outputs": [
    {
     "data": {
      "text/plain": [
       "int"
      ]
     },
     "execution_count": 127,
     "metadata": {},
     "output_type": "execute_result"
    }
   ],
   "source": [
    "type(pd.Series(data=[10,20,'NaN'], index=['a','b','c'])['a'])"
   ]
  },
  {
   "cell_type": "code",
   "execution_count": 128,
   "id": "2dfd7b2a",
   "metadata": {},
   "outputs": [
    {
     "data": {
      "text/plain": [
       "str"
      ]
     },
     "execution_count": 128,
     "metadata": {},
     "output_type": "execute_result"
    }
   ],
   "source": [
    "type(pd.Series(data=[10,20,'NaN'], index=['a','b','c'])['c'])"
   ]
  },
  {
   "cell_type": "markdown",
   "id": "51aeca3d",
   "metadata": {},
   "source": [
    "###### Cuando la serie es de tipo object significa que carga diferentes tipos de datos (algunos de los cuales son caracter) o que son todos caracteres"
   ]
  },
  {
   "cell_type": "markdown",
   "id": "71f47d9f",
   "metadata": {},
   "source": [
    "##### Datos nulos, faltantes, erroneos\n",
    "\n",
    "    Hay dos tipos de nulos: np.nan y None \n",
    "\n",
    "    Otros pueden verse como nulos pero ser de tipo str "
   ]
  },
  {
   "cell_type": "code",
   "execution_count": 7,
   "id": "0622566a",
   "metadata": {},
   "outputs": [],
   "source": [
    "objetos=pd.Series(data=[10,'NaN',20,np.nan,14,None,'NA'], index=['a','b','c','d','e','f','g']) # colocamos todos lo valores descriptos antes"
   ]
  },
  {
   "cell_type": "code",
   "execution_count": 8,
   "id": "871fc091",
   "metadata": {},
   "outputs": [
    {
     "data": {
      "text/plain": [
       "a      10\n",
       "b     NaN\n",
       "c      20\n",
       "d     NaN\n",
       "e      14\n",
       "f    None\n",
       "g      NA\n",
       "dtype: object"
      ]
     },
     "execution_count": 8,
     "metadata": {},
     "output_type": "execute_result"
    }
   ],
   "source": [
    "objetos # 'NaN' y np.nan se ven igual pero no son lo mismo"
   ]
  },
  {
   "cell_type": "code",
   "execution_count": 131,
   "id": "04e2e70b",
   "metadata": {},
   "outputs": [
    {
     "data": {
      "text/plain": [
       "('NaN', nan, None, 'NA')"
      ]
     },
     "execution_count": 131,
     "metadata": {},
     "output_type": "execute_result"
    }
   ],
   "source": [
    "objetos['b'], objetos['d'],  objetos['f'],  objetos['g']"
   ]
  },
  {
   "cell_type": "code",
   "execution_count": 132,
   "id": "1e70b486",
   "metadata": {},
   "outputs": [
    {
     "data": {
      "text/plain": [
       "(str, float, NoneType, str)"
      ]
     },
     "execution_count": 132,
     "metadata": {},
     "output_type": "execute_result"
    }
   ],
   "source": [
    "type(objetos['b']), type(objetos['d']),  type(objetos['f']),  type(objetos['g'])\n",
    "\n",
    "# el primero y el ultimo son claramente str\n",
    "# el segundo es un NaN de Numpy por eso pone Float\n",
    "# el tercero es un None de Pandas"
   ]
  },
  {
   "cell_type": "code",
   "execution_count": 9,
   "id": "598cca3f",
   "metadata": {},
   "outputs": [
    {
     "data": {
      "text/plain": [
       "a      10\n",
       "b     NaN\n",
       "c      20\n",
       "d     NaN\n",
       "e      14\n",
       "f    None\n",
       "g      NA\n",
       "dtype: object"
      ]
     },
     "execution_count": 9,
     "metadata": {},
     "output_type": "execute_result"
    }
   ],
   "source": [
    "objetos"
   ]
  },
  {
   "cell_type": "markdown",
   "id": "1ceaeee2",
   "metadata": {},
   "source": [
    "##### Buscar/obtener/filtrar NO NULOS\n",
    "\n",
    "    funciones:  notnull(), notna(), dropna()"
   ]
  },
  {
   "cell_type": "code",
   "execution_count": 10,
   "id": "811725ba",
   "metadata": {},
   "outputs": [
    {
     "data": {
      "text/plain": [
       "a     True\n",
       "b     True\n",
       "c     True\n",
       "d    False\n",
       "e     True\n",
       "f    False\n",
       "g     True\n",
       "dtype: bool"
      ]
     },
     "execution_count": 10,
     "metadata": {},
     "output_type": "execute_result"
    }
   ],
   "source": [
    "# data=[10,'NaN',20,np.nan,14,None,'NA']\n",
    "\n",
    "objetos.notnull()  # solo son null np.nan y None \n",
    "                    # Si quiero considerar 'NaN' y 'NA' como nulos hay que cambiarlos a None por ejemplo o tratarlos aparte."
   ]
  },
  {
   "cell_type": "code",
   "execution_count": 11,
   "id": "97fd128e",
   "metadata": {},
   "outputs": [
    {
     "data": {
      "text/plain": [
       "a     True\n",
       "b     True\n",
       "c     True\n",
       "d    False\n",
       "e     True\n",
       "f    False\n",
       "g     True\n",
       "dtype: bool"
      ]
     },
     "execution_count": 11,
     "metadata": {},
     "output_type": "execute_result"
    }
   ],
   "source": [
    "objetos.notna() # lo mismo que notnull()"
   ]
  },
  {
   "cell_type": "code",
   "execution_count": 12,
   "id": "989f48a0",
   "metadata": {},
   "outputs": [
    {
     "data": {
      "text/plain": [
       "a     10\n",
       "b    NaN\n",
       "c     20\n",
       "e     14\n",
       "g     NA\n",
       "dtype: object"
      ]
     },
     "execution_count": 12,
     "metadata": {},
     "output_type": "execute_result"
    }
   ],
   "source": [
    "objetos[objetos.notnull()] # d y f nulos correcto!"
   ]
  },
  {
   "cell_type": "code",
   "execution_count": 13,
   "id": "fbb3c6d3",
   "metadata": {},
   "outputs": [
    {
     "data": {
      "text/plain": [
       "a     10\n",
       "b    NaN\n",
       "c     20\n",
       "e     14\n",
       "g     NA\n",
       "dtype: object"
      ]
     },
     "execution_count": 13,
     "metadata": {},
     "output_type": "execute_result"
    }
   ],
   "source": [
    "objetos[objetos.notna()]  # d y f nulos correcto!"
   ]
  },
  {
   "cell_type": "code",
   "execution_count": 19,
   "id": "1d66a5d7",
   "metadata": {},
   "outputs": [
    {
     "data": {
      "text/plain": [
       "a     10\n",
       "b    NaN\n",
       "c     20\n",
       "e     14\n",
       "g     NA\n",
       "dtype: object"
      ]
     },
     "execution_count": 19,
     "metadata": {},
     "output_type": "execute_result"
    }
   ],
   "source": [
    "objetos.dropna()  # d y f nulos correcto!\n",
    "# esta funcion elimina los nulos para la visualizacion (inplace=False por defecto)"
   ]
  },
  {
   "cell_type": "markdown",
   "id": "f791b88d",
   "metadata": {},
   "source": [
    "##### Buscar/obtener/filtrar NULOS\n",
    "\n",
    "    Si lo que necesito es identificar los nulos "
   ]
  },
  {
   "cell_type": "code",
   "execution_count": 20,
   "id": "6e365c14",
   "metadata": {},
   "outputs": [
    {
     "data": {
      "text/plain": [
       "d     NaN\n",
       "f    None\n",
       "dtype: object"
      ]
     },
     "execution_count": 20,
     "metadata": {},
     "output_type": "execute_result"
    }
   ],
   "source": [
    "objetos[objetos.isnull()] # aqui tengo los nulos"
   ]
  },
  {
   "cell_type": "code",
   "execution_count": 24,
   "id": "8beca56f",
   "metadata": {},
   "outputs": [
    {
     "data": {
      "text/plain": [
       "d     NaN\n",
       "f    None\n",
       "dtype: object"
      ]
     },
     "execution_count": 24,
     "metadata": {},
     "output_type": "execute_result"
    }
   ],
   "source": [
    "objetos[objetos.isna()]  # aqui tengo los nulos"
   ]
  },
  {
   "cell_type": "code",
   "execution_count": 17,
   "id": "a87f4ed9",
   "metadata": {},
   "outputs": [
    {
     "data": {
      "text/plain": [
       "d     NaN\n",
       "f    None\n",
       "dtype: object"
      ]
     },
     "execution_count": 17,
     "metadata": {},
     "output_type": "execute_result"
    }
   ],
   "source": [
    "objetos[objetos.notnull()==False] # aqui tengo los nulos"
   ]
  },
  {
   "cell_type": "code",
   "execution_count": 27,
   "id": "ff0e42d6",
   "metadata": {},
   "outputs": [
    {
     "data": {
      "text/plain": [
       "Series([], dtype: object)"
      ]
     },
     "execution_count": 27,
     "metadata": {},
     "output_type": "execute_result"
    }
   ],
   "source": [
    "objetos[objetos.notna()==False] # aqui tengo los nulos"
   ]
  },
  {
   "cell_type": "code",
   "execution_count": 31,
   "id": "e75207f9",
   "metadata": {},
   "outputs": [
    {
     "data": {
      "text/plain": [
       "d    0\n",
       "f    0\n",
       "dtype: object"
      ]
     },
     "execution_count": 31,
     "metadata": {},
     "output_type": "execute_result"
    }
   ],
   "source": [
    "objetos[objetos.fillna(0)==0] # esta podria ser otra forma de verlos, aunque no la veo muy apropiada"
   ]
  },
  {
   "cell_type": "code",
   "execution_count": 26,
   "id": "b5e35b20",
   "metadata": {},
   "outputs": [],
   "source": [
    " # esta funcion reemplaza los nulos por el valor argumento\n",
    "\n",
    "objetos.fillna(0, inplace=True) # Solo para visualizacion sin Inplace. Inplace=True para confirmar."
   ]
  },
  {
   "cell_type": "markdown",
   "id": "9ef55f76",
   "metadata": {},
   "source": [
    "##### Buscar/obtener/filtrar iguales o diferentes a un valor dado"
   ]
  },
  {
   "cell_type": "code",
   "execution_count": 102,
   "id": "f3c59030",
   "metadata": {},
   "outputs": [
    {
     "data": {
      "text/plain": [
       "b    NaN\n",
       "dtype: object"
      ]
     },
     "execution_count": 102,
     "metadata": {},
     "output_type": "execute_result"
    }
   ],
   "source": [
    "objetos[objetos=='NaN']\n",
    "#empleados.where(empleados<57) "
   ]
  },
  {
   "cell_type": "code",
   "execution_count": 120,
   "id": "d5693237",
   "metadata": {},
   "outputs": [
    {
     "data": {
      "text/plain": [
       "a      10\n",
       "c      20\n",
       "d     NaN\n",
       "e      14\n",
       "f    None\n",
       "g      NA\n",
       "dtype: object"
      ]
     },
     "execution_count": 120,
     "metadata": {},
     "output_type": "execute_result"
    }
   ],
   "source": [
    "objetos[objetos!='NaN'] "
   ]
  },
  {
   "cell_type": "code",
   "execution_count": 122,
   "id": "dc65e3d8",
   "metadata": {},
   "outputs": [
    {
     "data": {
      "text/plain": [
       "b     NaN\n",
       "c      20\n",
       "d     NaN\n",
       "e      14\n",
       "f    None\n",
       "g      NA\n",
       "dtype: object"
      ]
     },
     "execution_count": 122,
     "metadata": {},
     "output_type": "execute_result"
    }
   ],
   "source": [
    "objetos[objetos!=10] "
   ]
  },
  {
   "cell_type": "code",
   "execution_count": 95,
   "id": "21ef7059",
   "metadata": {},
   "outputs": [
    {
     "data": {
      "text/plain": [
       "a      10\n",
       "b     NaN\n",
       "c      20\n",
       "d     NaN\n",
       "e      14\n",
       "f    None\n",
       "g      NA\n",
       "dtype: object"
      ]
     },
     "execution_count": 95,
     "metadata": {},
     "output_type": "execute_result"
    }
   ],
   "source": [
    "objetos"
   ]
  },
  {
   "cell_type": "markdown",
   "id": "11030024",
   "metadata": {},
   "source": [
    "##### Borrar nulos (None y np.nan)\n",
    "\n",
    "    funcion dropna()    argumento inplace opcional"
   ]
  },
  {
   "cell_type": "code",
   "execution_count": 139,
   "id": "f3580116",
   "metadata": {},
   "outputs": [
    {
     "data": {
      "text/plain": [
       "a      10\n",
       "b     NaN\n",
       "c      20\n",
       "d     NaN\n",
       "e      14\n",
       "f    None\n",
       "g      NA\n",
       "dtype: object"
      ]
     },
     "execution_count": 139,
     "metadata": {},
     "output_type": "execute_result"
    }
   ],
   "source": [
    "objetos"
   ]
  },
  {
   "cell_type": "code",
   "execution_count": 138,
   "id": "70390973",
   "metadata": {},
   "outputs": [
    {
     "data": {
      "text/plain": [
       "a     10\n",
       "b    NaN\n",
       "c     20\n",
       "e     14\n",
       "g     NA\n",
       "dtype: object"
      ]
     },
     "execution_count": 138,
     "metadata": {},
     "output_type": "execute_result"
    }
   ],
   "source": [
    "objetos.dropna() # d y f eran nulos (None y np.nan)\n",
    "# aqui no elimina efectivamente los nulos"
   ]
  },
  {
   "cell_type": "code",
   "execution_count": 140,
   "id": "19b4a5b5",
   "metadata": {},
   "outputs": [],
   "source": [
    "objetos.dropna(inplace=True) # aqui si los ha eliminado"
   ]
  },
  {
   "cell_type": "code",
   "execution_count": 141,
   "id": "978669be",
   "metadata": {},
   "outputs": [
    {
     "data": {
      "text/plain": [
       "a     10\n",
       "b    NaN\n",
       "c     20\n",
       "e     14\n",
       "g     NA\n",
       "dtype: object"
      ]
     },
     "execution_count": 141,
     "metadata": {},
     "output_type": "execute_result"
    }
   ],
   "source": [
    "objetos"
   ]
  },
  {
   "cell_type": "markdown",
   "id": "e94ef437",
   "metadata": {},
   "source": [
    "##### Reemplazar nulos (None y np.nan)\n",
    "\n",
    "    funcion fillna(<valor de reemplazo>)    argumento inplace opcional"
   ]
  },
  {
   "cell_type": "code",
   "execution_count": 147,
   "id": "e2f96a35",
   "metadata": {},
   "outputs": [],
   "source": [
    "objetos=pd.Series(data=[10,'NaN',20,np.nan,14,None,'NA'], index=['a','b','c','d','e','f','g']) # colocamos todos lo valores descriptos antes"
   ]
  },
  {
   "cell_type": "code",
   "execution_count": 149,
   "id": "540bef2b",
   "metadata": {},
   "outputs": [
    {
     "data": {
      "text/plain": [
       "a      10\n",
       "b     NaN\n",
       "c      20\n",
       "d     NaN\n",
       "e      14\n",
       "f    None\n",
       "g      NA\n",
       "dtype: object"
      ]
     },
     "execution_count": 149,
     "metadata": {},
     "output_type": "execute_result"
    }
   ],
   "source": [
    "objetos"
   ]
  },
  {
   "cell_type": "code",
   "execution_count": 150,
   "id": "afce041f",
   "metadata": {},
   "outputs": [
    {
     "data": {
      "text/plain": [
       "a     10\n",
       "b    NaN\n",
       "c     20\n",
       "d      0\n",
       "e     14\n",
       "f      0\n",
       "g     NA\n",
       "dtype: object"
      ]
     },
     "execution_count": 150,
     "metadata": {},
     "output_type": "execute_result"
    }
   ],
   "source": [
    "objetos.fillna(0)"
   ]
  },
  {
   "cell_type": "code",
   "execution_count": 151,
   "id": "056870c4",
   "metadata": {},
   "outputs": [
    {
     "data": {
      "text/plain": [
       "a     10\n",
       "b    NaN\n",
       "c     20\n",
       "d      0\n",
       "e     14\n",
       "f      0\n",
       "g     NA\n",
       "dtype: object"
      ]
     },
     "execution_count": 151,
     "metadata": {},
     "output_type": "execute_result"
    }
   ],
   "source": [
    "objetos.fillna(0, inplace=True)\n",
    "objetos"
   ]
  },
  {
   "cell_type": "markdown",
   "id": "e6ebbc19",
   "metadata": {},
   "source": [
    "##### Funciones any() y all()\n",
    "\n",
    "Para consultar si alguno o todos los elementos son True "
   ]
  },
  {
   "cell_type": "code",
   "execution_count": 136,
   "id": "d883281a",
   "metadata": {},
   "outputs": [
    {
     "data": {
      "text/plain": [
       "1ºTrim    False\n",
       "2ºTrim    False\n",
       "3ºTrim    False\n",
       "4ºTrim    False\n",
       "dtype: bool"
      ]
     },
     "execution_count": 136,
     "metadata": {},
     "output_type": "execute_result"
    }
   ],
   "source": [
    "empleados<10"
   ]
  },
  {
   "cell_type": "code",
   "execution_count": 137,
   "id": "353c88d9",
   "metadata": {},
   "outputs": [
    {
     "data": {
      "text/plain": [
       "False"
      ]
     },
     "execution_count": 137,
     "metadata": {},
     "output_type": "execute_result"
    }
   ],
   "source": [
    "a=empleados<10\n",
    "a.any()  # Significa ¿Algun elemento es True? "
   ]
  },
  {
   "cell_type": "code",
   "execution_count": 138,
   "id": "b4502ccd",
   "metadata": {},
   "outputs": [
    {
     "data": {
      "text/plain": [
       "False"
      ]
     },
     "execution_count": 138,
     "metadata": {},
     "output_type": "execute_result"
    }
   ],
   "source": [
    "a.all() # Significa ¿Todos los elementos son True?"
   ]
  },
  {
   "cell_type": "code",
   "execution_count": 139,
   "id": "6a2761bb",
   "metadata": {},
   "outputs": [],
   "source": [
    "# Para seleccionar mediante un array de booleanos"
   ]
  },
  {
   "cell_type": "code",
   "execution_count": 140,
   "id": "450e2f51",
   "metadata": {},
   "outputs": [
    {
     "data": {
      "text/plain": [
       "Series([], dtype: float64)"
      ]
     },
     "execution_count": 140,
     "metadata": {},
     "output_type": "execute_result"
    }
   ],
   "source": [
    "empleados[a] # no devuelve nada porque todos los elementos del array son falsos"
   ]
  },
  {
   "cell_type": "code",
   "execution_count": 141,
   "id": "cbc426c8",
   "metadata": {},
   "outputs": [
    {
     "data": {
      "text/plain": [
       "1ºTrim    40.0\n",
       "2ºTrim    60.0\n",
       "dtype: float64"
      ]
     },
     "execution_count": 141,
     "metadata": {},
     "output_type": "execute_result"
    }
   ],
   "source": [
    "# es igual que poner\n",
    "empleados[[True,True, False, False]]"
   ]
  },
  {
   "cell_type": "code",
   "execution_count": 144,
   "id": "f15f4211",
   "metadata": {},
   "outputs": [
    {
     "data": {
      "text/plain": [
       "1ºTrim    40.0\n",
       "4ºTrim    20.0\n",
       "dtype: float64"
      ]
     },
     "execution_count": 144,
     "metadata": {},
     "output_type": "execute_result"
    }
   ],
   "source": [
    "# e igual que poner \n",
    "empleados[empleados<50] # los [] llevan la condicion "
   ]
  },
  {
   "cell_type": "markdown",
   "id": "9e4e13b9",
   "metadata": {},
   "source": [
    "##### Otro ejemplo para any() y all() combinado con notnull(), notna()"
   ]
  },
  {
   "cell_type": "code",
   "execution_count": 156,
   "id": "e2d2af67",
   "metadata": {},
   "outputs": [
    {
     "data": {
      "text/plain": [
       "a     True\n",
       "b     True\n",
       "c     True\n",
       "d    False\n",
       "e     True\n",
       "f    False\n",
       "g     True\n",
       "dtype: bool"
      ]
     },
     "execution_count": 156,
     "metadata": {},
     "output_type": "execute_result"
    }
   ],
   "source": [
    "objetos=pd.Series(data=[10,'NaN',20,np.nan,14,None,'NA'], index=['a','b','c','d','e','f','g']) # colocamos todos lo valores descriptos antes\n",
    "objetos.notnull()"
   ]
  },
  {
   "cell_type": "code",
   "execution_count": 158,
   "id": "0063e972",
   "metadata": {},
   "outputs": [
    {
     "data": {
      "text/plain": [
       "True"
      ]
     },
     "execution_count": 158,
     "metadata": {},
     "output_type": "execute_result"
    }
   ],
   "source": [
    "any(objetos.notnull()) # ALGUNO de los objetos SON NO NULOS (verdadero) ???? "
   ]
  },
  {
   "cell_type": "code",
   "execution_count": 159,
   "id": "54b92e8f",
   "metadata": {},
   "outputs": [
    {
     "data": {
      "text/plain": [
       "False"
      ]
     },
     "execution_count": 159,
     "metadata": {},
     "output_type": "execute_result"
    }
   ],
   "source": [
    "all(objetos.notnull()) # TODOS los objetos SON NO NULOS (verdadero) ???? "
   ]
  },
  {
   "cell_type": "code",
   "execution_count": null,
   "id": "c7c5146b",
   "metadata": {},
   "outputs": [],
   "source": []
  },
  {
   "cell_type": "markdown",
   "id": "ffd3d90d",
   "metadata": {},
   "source": [
    "### DATA FRAMES"
   ]
  },
  {
   "cell_type": "markdown",
   "id": "08354b4b",
   "metadata": {},
   "source": [
    "Tiene dos o mas columnas (dimensiones)"
   ]
  },
  {
   "cell_type": "markdown",
   "id": "d4acc5e5",
   "metadata": {},
   "source": [
    "#### CREACION DE DATAFRAMES\n",
    "\n",
    "* Se crean con la funcion pd.DataFrame(<argumentos>)\n",
    "    \n",
    "\n",
    "* Tiene 4 parametros/argumentos principales:\n",
    "\n",
    "     * data='': - define los datos que pueden proceder de una matriz, un diccionario u otro dataframe. REQUERIDO. \n",
    "     * index='': - define las etiquetas para cada dato a nivel de fila. Cada una de las filas es un array/vector o registro. NO REQUERIDO (por defecto numerico secuencial ascendente).\n",
    "     * columns='': - define las etiquetas para cada dato a nivel de columna.NO REQUERIDO\n",
    "     * dtype='': - permite definir el tipo de dato a aplicar. Solo se permite un tipo de dato por columna (se suele generar de forma automatica)\n",
    "    \n",
    "    \n",
    "* Pueden tener filas repetidas."
   ]
  },
  {
   "cell_type": "code",
   "execution_count": 145,
   "id": "809780b1",
   "metadata": {},
   "outputs": [],
   "source": [
    "import pandas as pd"
   ]
  },
  {
   "cell_type": "markdown",
   "id": "2e63de63",
   "metadata": {},
   "source": [
    "##### Creacion a partir de una matriz"
   ]
  },
  {
   "cell_type": "code",
   "execution_count": 146,
   "id": "52c27a3f",
   "metadata": {},
   "outputs": [
    {
     "data": {
      "text/html": [
       "<div>\n",
       "<style scoped>\n",
       "    .dataframe tbody tr th:only-of-type {\n",
       "        vertical-align: middle;\n",
       "    }\n",
       "\n",
       "    .dataframe tbody tr th {\n",
       "        vertical-align: top;\n",
       "    }\n",
       "\n",
       "    .dataframe thead th {\n",
       "        text-align: right;\n",
       "    }\n",
       "</style>\n",
       "<table border=\"1\" class=\"dataframe\">\n",
       "  <thead>\n",
       "    <tr style=\"text-align: right;\">\n",
       "      <th></th>\n",
       "      <th>NumeroAtomico</th>\n",
       "      <th>MasaAtomica</th>\n",
       "      <th>Familia</th>\n",
       "    </tr>\n",
       "  </thead>\n",
       "  <tbody>\n",
       "    <tr>\n",
       "      <th>H</th>\n",
       "      <td>1</td>\n",
       "      <td>1.0008</td>\n",
       "      <td>No Metal</td>\n",
       "    </tr>\n",
       "    <tr>\n",
       "      <th>C</th>\n",
       "      <td>6</td>\n",
       "      <td>12.0110</td>\n",
       "      <td>No Metal</td>\n",
       "    </tr>\n",
       "    <tr>\n",
       "      <th>Ag</th>\n",
       "      <td>47</td>\n",
       "      <td>107.8700</td>\n",
       "      <td>Metal</td>\n",
       "    </tr>\n",
       "    <tr>\n",
       "      <th>Ra</th>\n",
       "      <td>88</td>\n",
       "      <td>226.0000</td>\n",
       "      <td>Metal</td>\n",
       "    </tr>\n",
       "  </tbody>\n",
       "</table>\n",
       "</div>"
      ],
      "text/plain": [
       "    NumeroAtomico  MasaAtomica   Familia\n",
       "H               1       1.0008  No Metal\n",
       "C               6      12.0110  No Metal\n",
       "Ag             47     107.8700     Metal\n",
       "Ra             88     226.0000     Metal"
      ]
     },
     "execution_count": 146,
     "metadata": {},
     "output_type": "execute_result"
    }
   ],
   "source": [
    "tabla_periodica=pd.DataFrame(\n",
    "    data=[[1,1.0008,'No Metal'],[6,12.011,'No Metal'],[47,107.870,'Metal'],[88,226.000,'Metal']],  # arrays de arrays, cada uno de los arrays de dentro sera una fila\n",
    "    index=['H','C','Ag','Ra'], # las etiquetas de indice\n",
    "    columns=['NumeroAtomico','MasaAtomica','Familia'] # las etiquetas de columna\n",
    ")\n",
    "tabla_periodica"
   ]
  },
  {
   "cell_type": "markdown",
   "id": "e42d51c6",
   "metadata": {},
   "source": [
    "##### Creacion a partir de un diccionario"
   ]
  },
  {
   "cell_type": "code",
   "execution_count": 147,
   "id": "f96bbe43",
   "metadata": {},
   "outputs": [],
   "source": [
    "\n",
    "ventas=pd.DataFrame(data={'Producto':['Secador','Peine','Tijeras'],\n",
    "                          'Precio':[35,12.6,6.5],\n",
    "                            'Impuesto':[21,21,21],\n",
    "                          'Stock':[10,30,23]},\n",
    "                        index=['0801','1002','4003']) # esto que esta en el indice bien podria ser el codigo del producto"
   ]
  },
  {
   "cell_type": "code",
   "execution_count": 148,
   "id": "dcf04137",
   "metadata": {},
   "outputs": [
    {
     "data": {
      "text/html": [
       "<div>\n",
       "<style scoped>\n",
       "    .dataframe tbody tr th:only-of-type {\n",
       "        vertical-align: middle;\n",
       "    }\n",
       "\n",
       "    .dataframe tbody tr th {\n",
       "        vertical-align: top;\n",
       "    }\n",
       "\n",
       "    .dataframe thead th {\n",
       "        text-align: right;\n",
       "    }\n",
       "</style>\n",
       "<table border=\"1\" class=\"dataframe\">\n",
       "  <thead>\n",
       "    <tr style=\"text-align: right;\">\n",
       "      <th></th>\n",
       "      <th>Producto</th>\n",
       "      <th>Precio</th>\n",
       "      <th>Impuesto</th>\n",
       "      <th>Stock</th>\n",
       "    </tr>\n",
       "  </thead>\n",
       "  <tbody>\n",
       "    <tr>\n",
       "      <th>0801</th>\n",
       "      <td>Secador</td>\n",
       "      <td>35.0</td>\n",
       "      <td>21</td>\n",
       "      <td>10</td>\n",
       "    </tr>\n",
       "    <tr>\n",
       "      <th>1002</th>\n",
       "      <td>Peine</td>\n",
       "      <td>12.6</td>\n",
       "      <td>21</td>\n",
       "      <td>30</td>\n",
       "    </tr>\n",
       "    <tr>\n",
       "      <th>4003</th>\n",
       "      <td>Tijeras</td>\n",
       "      <td>6.5</td>\n",
       "      <td>21</td>\n",
       "      <td>23</td>\n",
       "    </tr>\n",
       "  </tbody>\n",
       "</table>\n",
       "</div>"
      ],
      "text/plain": [
       "     Producto  Precio  Impuesto  Stock\n",
       "0801  Secador    35.0        21     10\n",
       "1002    Peine    12.6        21     30\n",
       "4003  Tijeras     6.5        21     23"
      ]
     },
     "execution_count": 148,
     "metadata": {},
     "output_type": "execute_result"
    }
   ],
   "source": [
    "ventas"
   ]
  },
  {
   "cell_type": "markdown",
   "id": "080e5c12",
   "metadata": {},
   "source": [
    "Arriba van las variables=caracteristicas de los objetos o nombres de columnas."
   ]
  },
  {
   "cell_type": "markdown",
   "id": "1227b5e0",
   "metadata": {},
   "source": [
    "##### Creacion a partir de un array de diccionarios"
   ]
  },
  {
   "cell_type": "code",
   "execution_count": 149,
   "id": "f7b79c76",
   "metadata": {},
   "outputs": [],
   "source": [
    "uds_2009={'adidas':0,'newbalance':10,'puma':30,'rebook':200}\n",
    "uds_2010={'adidas':5,'newbalance':20,'puma':100,'rebook':10}\n",
    "uds_2011={'adidas':15,'newbalance':33,'puma':67,'rebook':19}\n",
    "uds_2012={'adidas':35,'newbalance':27,'puma':77,'rebook':10}\n",
    "uds_2013={'adidas':21,'newbalance':19,'puma':80,'rebook':20}\n",
    "uds_2014={'adidas':15,'newbalance':25,'puma':120,'rebook':29}\n",
    "uds_2015={'adidas':26,'newbalance':40,'puma':92,'rebook':19}\n",
    "\n",
    "uds_2016={'adidas':8,'newbalance':52,'puma':91,'rebook':41}\n",
    "uds_2017={'adidas':10,'newbalance':35,'puma':15,'rebook':9}\n",
    "uds_2018={'adidas':11,'newbalance':33,'puma':23,'rebook':11}\n",
    "uds_2019={'adidas':20,'newbalance':35,'puma':41,'rebook':19}\n",
    "uds_2020={'adidas':30,'newbalance':12,'puma':35,'rebook':20}\n",
    "uds_2021={'adidas':40,'newbalance':60,'puma':69,'rebook':19}\n",
    "uds_2022={'adidas':100,'newbalance':33,'puma':60,'rebook':30}"
   ]
  },
  {
   "cell_type": "code",
   "execution_count": 150,
   "id": "ad20b700",
   "metadata": {},
   "outputs": [],
   "source": [
    "historico_09_15=pd.DataFrame(data=[uds_2009,uds_2010,uds_2011,uds_2012,uds_2013,uds_2014,uds_2015], index=[2009,2010,2011,2012,2013,2014,2015])\n",
    "historico_16_22=pd.DataFrame(data=[uds_2016,uds_2017,uds_2018,uds_2019,uds_2020,uds_2021,uds_2022], index=[2016,2017,2018,2019,2020,2021,2022])\n",
    "# Cargo por lista de diccionarios. Cada diccionario es una fila."
   ]
  },
  {
   "cell_type": "code",
   "execution_count": 151,
   "id": "7a39785b",
   "metadata": {},
   "outputs": [
    {
     "data": {
      "text/html": [
       "<div>\n",
       "<style scoped>\n",
       "    .dataframe tbody tr th:only-of-type {\n",
       "        vertical-align: middle;\n",
       "    }\n",
       "\n",
       "    .dataframe tbody tr th {\n",
       "        vertical-align: top;\n",
       "    }\n",
       "\n",
       "    .dataframe thead th {\n",
       "        text-align: right;\n",
       "    }\n",
       "</style>\n",
       "<table border=\"1\" class=\"dataframe\">\n",
       "  <thead>\n",
       "    <tr style=\"text-align: right;\">\n",
       "      <th></th>\n",
       "      <th>adidas</th>\n",
       "      <th>newbalance</th>\n",
       "      <th>puma</th>\n",
       "      <th>rebook</th>\n",
       "    </tr>\n",
       "  </thead>\n",
       "  <tbody>\n",
       "    <tr>\n",
       "      <th>2009</th>\n",
       "      <td>0</td>\n",
       "      <td>10</td>\n",
       "      <td>30</td>\n",
       "      <td>200</td>\n",
       "    </tr>\n",
       "    <tr>\n",
       "      <th>2010</th>\n",
       "      <td>5</td>\n",
       "      <td>20</td>\n",
       "      <td>100</td>\n",
       "      <td>10</td>\n",
       "    </tr>\n",
       "    <tr>\n",
       "      <th>2011</th>\n",
       "      <td>15</td>\n",
       "      <td>33</td>\n",
       "      <td>67</td>\n",
       "      <td>19</td>\n",
       "    </tr>\n",
       "    <tr>\n",
       "      <th>2012</th>\n",
       "      <td>35</td>\n",
       "      <td>27</td>\n",
       "      <td>77</td>\n",
       "      <td>10</td>\n",
       "    </tr>\n",
       "    <tr>\n",
       "      <th>2013</th>\n",
       "      <td>21</td>\n",
       "      <td>19</td>\n",
       "      <td>80</td>\n",
       "      <td>20</td>\n",
       "    </tr>\n",
       "    <tr>\n",
       "      <th>2014</th>\n",
       "      <td>15</td>\n",
       "      <td>25</td>\n",
       "      <td>120</td>\n",
       "      <td>29</td>\n",
       "    </tr>\n",
       "    <tr>\n",
       "      <th>2015</th>\n",
       "      <td>26</td>\n",
       "      <td>40</td>\n",
       "      <td>92</td>\n",
       "      <td>19</td>\n",
       "    </tr>\n",
       "  </tbody>\n",
       "</table>\n",
       "</div>"
      ],
      "text/plain": [
       "      adidas  newbalance  puma  rebook\n",
       "2009       0          10    30     200\n",
       "2010       5          20   100      10\n",
       "2011      15          33    67      19\n",
       "2012      35          27    77      10\n",
       "2013      21          19    80      20\n",
       "2014      15          25   120      29\n",
       "2015      26          40    92      19"
      ]
     },
     "execution_count": 151,
     "metadata": {},
     "output_type": "execute_result"
    }
   ],
   "source": [
    "historico_09_15"
   ]
  },
  {
   "cell_type": "code",
   "execution_count": null,
   "id": "e6d89863",
   "metadata": {},
   "outputs": [],
   "source": []
  },
  {
   "cell_type": "markdown",
   "id": "456c07a9",
   "metadata": {},
   "source": [
    "#### Contatenacion de DataFrame. \n",
    "\n",
    "* Se realiza con la funcion pd.concat(<argumentos>).\n",
    "* Los argumentos son:\n",
    "    * [] :array de objetos dataframe\n",
    "    * axis=0 si concatena por fila, axis=1 si concatena por columnas\n",
    "        \n",
    "        completar foto"
   ]
  },
  {
   "cell_type": "code",
   "execution_count": 152,
   "id": "f7fdd722",
   "metadata": {},
   "outputs": [
    {
     "data": {
      "text/html": [
       "<div>\n",
       "<style scoped>\n",
       "    .dataframe tbody tr th:only-of-type {\n",
       "        vertical-align: middle;\n",
       "    }\n",
       "\n",
       "    .dataframe tbody tr th {\n",
       "        vertical-align: top;\n",
       "    }\n",
       "\n",
       "    .dataframe thead th {\n",
       "        text-align: right;\n",
       "    }\n",
       "</style>\n",
       "<table border=\"1\" class=\"dataframe\">\n",
       "  <thead>\n",
       "    <tr style=\"text-align: right;\">\n",
       "      <th></th>\n",
       "      <th>adidas</th>\n",
       "      <th>newbalance</th>\n",
       "      <th>puma</th>\n",
       "      <th>rebook</th>\n",
       "    </tr>\n",
       "  </thead>\n",
       "  <tbody>\n",
       "    <tr>\n",
       "      <th>2009</th>\n",
       "      <td>0</td>\n",
       "      <td>10</td>\n",
       "      <td>30</td>\n",
       "      <td>200</td>\n",
       "    </tr>\n",
       "    <tr>\n",
       "      <th>2010</th>\n",
       "      <td>5</td>\n",
       "      <td>20</td>\n",
       "      <td>100</td>\n",
       "      <td>10</td>\n",
       "    </tr>\n",
       "    <tr>\n",
       "      <th>2011</th>\n",
       "      <td>15</td>\n",
       "      <td>33</td>\n",
       "      <td>67</td>\n",
       "      <td>19</td>\n",
       "    </tr>\n",
       "    <tr>\n",
       "      <th>2012</th>\n",
       "      <td>35</td>\n",
       "      <td>27</td>\n",
       "      <td>77</td>\n",
       "      <td>10</td>\n",
       "    </tr>\n",
       "    <tr>\n",
       "      <th>2013</th>\n",
       "      <td>21</td>\n",
       "      <td>19</td>\n",
       "      <td>80</td>\n",
       "      <td>20</td>\n",
       "    </tr>\n",
       "    <tr>\n",
       "      <th>2014</th>\n",
       "      <td>15</td>\n",
       "      <td>25</td>\n",
       "      <td>120</td>\n",
       "      <td>29</td>\n",
       "    </tr>\n",
       "    <tr>\n",
       "      <th>2015</th>\n",
       "      <td>26</td>\n",
       "      <td>40</td>\n",
       "      <td>92</td>\n",
       "      <td>19</td>\n",
       "    </tr>\n",
       "    <tr>\n",
       "      <th>2016</th>\n",
       "      <td>8</td>\n",
       "      <td>52</td>\n",
       "      <td>91</td>\n",
       "      <td>41</td>\n",
       "    </tr>\n",
       "    <tr>\n",
       "      <th>2017</th>\n",
       "      <td>10</td>\n",
       "      <td>35</td>\n",
       "      <td>15</td>\n",
       "      <td>9</td>\n",
       "    </tr>\n",
       "    <tr>\n",
       "      <th>2018</th>\n",
       "      <td>11</td>\n",
       "      <td>33</td>\n",
       "      <td>23</td>\n",
       "      <td>11</td>\n",
       "    </tr>\n",
       "    <tr>\n",
       "      <th>2019</th>\n",
       "      <td>20</td>\n",
       "      <td>35</td>\n",
       "      <td>41</td>\n",
       "      <td>19</td>\n",
       "    </tr>\n",
       "    <tr>\n",
       "      <th>2020</th>\n",
       "      <td>30</td>\n",
       "      <td>12</td>\n",
       "      <td>35</td>\n",
       "      <td>20</td>\n",
       "    </tr>\n",
       "    <tr>\n",
       "      <th>2021</th>\n",
       "      <td>40</td>\n",
       "      <td>60</td>\n",
       "      <td>69</td>\n",
       "      <td>19</td>\n",
       "    </tr>\n",
       "    <tr>\n",
       "      <th>2022</th>\n",
       "      <td>100</td>\n",
       "      <td>33</td>\n",
       "      <td>60</td>\n",
       "      <td>30</td>\n",
       "    </tr>\n",
       "  </tbody>\n",
       "</table>\n",
       "</div>"
      ],
      "text/plain": [
       "      adidas  newbalance  puma  rebook\n",
       "2009       0          10    30     200\n",
       "2010       5          20   100      10\n",
       "2011      15          33    67      19\n",
       "2012      35          27    77      10\n",
       "2013      21          19    80      20\n",
       "2014      15          25   120      29\n",
       "2015      26          40    92      19\n",
       "2016       8          52    91      41\n",
       "2017      10          35    15       9\n",
       "2018      11          33    23      11\n",
       "2019      20          35    41      19\n",
       "2020      30          12    35      20\n",
       "2021      40          60    69      19\n",
       "2022     100          33    60      30"
      ]
     },
     "execution_count": 152,
     "metadata": {},
     "output_type": "execute_result"
    }
   ],
   "source": [
    "historico_stock=pd.concat([historico_09_15,historico_16_22], axis=0) # concatena por fila axis=1  por columna\n",
    "historico_stock"
   ]
  },
  {
   "cell_type": "markdown",
   "id": "87f9eb0e",
   "metadata": {},
   "source": [
    "#### Inspeccion del DF"
   ]
  },
  {
   "cell_type": "markdown",
   "id": "b005da34",
   "metadata": {},
   "source": [
    "##### Consultar el tipo de dato de cada una de las caracteristicas o variables del dataframe.\n",
    "\n",
    "     \\<dataframe\\>.dtypes"
   ]
  },
  {
   "cell_type": "code",
   "execution_count": 153,
   "id": "6d14db63",
   "metadata": {},
   "outputs": [
    {
     "data": {
      "text/html": [
       "<div>\n",
       "<style scoped>\n",
       "    .dataframe tbody tr th:only-of-type {\n",
       "        vertical-align: middle;\n",
       "    }\n",
       "\n",
       "    .dataframe tbody tr th {\n",
       "        vertical-align: top;\n",
       "    }\n",
       "\n",
       "    .dataframe thead th {\n",
       "        text-align: right;\n",
       "    }\n",
       "</style>\n",
       "<table border=\"1\" class=\"dataframe\">\n",
       "  <thead>\n",
       "    <tr style=\"text-align: right;\">\n",
       "      <th></th>\n",
       "      <th>Producto</th>\n",
       "      <th>Precio</th>\n",
       "      <th>Impuesto</th>\n",
       "      <th>Stock</th>\n",
       "    </tr>\n",
       "  </thead>\n",
       "  <tbody>\n",
       "    <tr>\n",
       "      <th>0801</th>\n",
       "      <td>Secador</td>\n",
       "      <td>35.0</td>\n",
       "      <td>21</td>\n",
       "      <td>10</td>\n",
       "    </tr>\n",
       "    <tr>\n",
       "      <th>1002</th>\n",
       "      <td>Peine</td>\n",
       "      <td>12.6</td>\n",
       "      <td>21</td>\n",
       "      <td>30</td>\n",
       "    </tr>\n",
       "    <tr>\n",
       "      <th>4003</th>\n",
       "      <td>Tijeras</td>\n",
       "      <td>6.5</td>\n",
       "      <td>21</td>\n",
       "      <td>23</td>\n",
       "    </tr>\n",
       "  </tbody>\n",
       "</table>\n",
       "</div>"
      ],
      "text/plain": [
       "     Producto  Precio  Impuesto  Stock\n",
       "0801  Secador    35.0        21     10\n",
       "1002    Peine    12.6        21     30\n",
       "4003  Tijeras     6.5        21     23"
      ]
     },
     "execution_count": 153,
     "metadata": {},
     "output_type": "execute_result"
    }
   ],
   "source": [
    "ventas"
   ]
  },
  {
   "cell_type": "code",
   "execution_count": 154,
   "id": "8818e13c",
   "metadata": {},
   "outputs": [
    {
     "data": {
      "text/plain": [
       "Producto     object\n",
       "Precio      float64\n",
       "Impuesto      int64\n",
       "Stock         int64\n",
       "dtype: object"
      ]
     },
     "execution_count": 154,
     "metadata": {},
     "output_type": "execute_result"
    }
   ],
   "source": [
    "ventas.dtypes"
   ]
  },
  {
   "cell_type": "markdown",
   "id": "83b3b10f",
   "metadata": {},
   "source": [
    "##### Array de los indices (fila y columna)\n",
    "\n",
    "          \\<dataframe\\>.index\n",
    "            \\<dataframe\\>.columns"
   ]
  },
  {
   "cell_type": "code",
   "execution_count": 155,
   "id": "d191d32e",
   "metadata": {},
   "outputs": [
    {
     "data": {
      "text/html": [
       "<div>\n",
       "<style scoped>\n",
       "    .dataframe tbody tr th:only-of-type {\n",
       "        vertical-align: middle;\n",
       "    }\n",
       "\n",
       "    .dataframe tbody tr th {\n",
       "        vertical-align: top;\n",
       "    }\n",
       "\n",
       "    .dataframe thead th {\n",
       "        text-align: right;\n",
       "    }\n",
       "</style>\n",
       "<table border=\"1\" class=\"dataframe\">\n",
       "  <thead>\n",
       "    <tr style=\"text-align: right;\">\n",
       "      <th></th>\n",
       "      <th>Producto</th>\n",
       "      <th>Precio</th>\n",
       "      <th>Impuesto</th>\n",
       "      <th>Stock</th>\n",
       "    </tr>\n",
       "  </thead>\n",
       "  <tbody>\n",
       "    <tr>\n",
       "      <th>0801</th>\n",
       "      <td>Secador</td>\n",
       "      <td>35.0</td>\n",
       "      <td>21</td>\n",
       "      <td>10</td>\n",
       "    </tr>\n",
       "    <tr>\n",
       "      <th>1002</th>\n",
       "      <td>Peine</td>\n",
       "      <td>12.6</td>\n",
       "      <td>21</td>\n",
       "      <td>30</td>\n",
       "    </tr>\n",
       "    <tr>\n",
       "      <th>4003</th>\n",
       "      <td>Tijeras</td>\n",
       "      <td>6.5</td>\n",
       "      <td>21</td>\n",
       "      <td>23</td>\n",
       "    </tr>\n",
       "  </tbody>\n",
       "</table>\n",
       "</div>"
      ],
      "text/plain": [
       "     Producto  Precio  Impuesto  Stock\n",
       "0801  Secador    35.0        21     10\n",
       "1002    Peine    12.6        21     30\n",
       "4003  Tijeras     6.5        21     23"
      ]
     },
     "execution_count": 155,
     "metadata": {},
     "output_type": "execute_result"
    }
   ],
   "source": [
    "ventas"
   ]
  },
  {
   "cell_type": "code",
   "execution_count": 156,
   "id": "38f64d94",
   "metadata": {},
   "outputs": [
    {
     "data": {
      "text/plain": [
       "Index(['0801', '1002', '4003'], dtype='object')"
      ]
     },
     "execution_count": 156,
     "metadata": {},
     "output_type": "execute_result"
    }
   ],
   "source": [
    "ventas.index"
   ]
  },
  {
   "cell_type": "code",
   "execution_count": 157,
   "id": "96f3c676",
   "metadata": {},
   "outputs": [
    {
     "data": {
      "text/plain": [
       "Index(['Producto', 'Precio', 'Impuesto', 'Stock'], dtype='object')"
      ]
     },
     "execution_count": 157,
     "metadata": {},
     "output_type": "execute_result"
    }
   ],
   "source": [
    "ventas.columns"
   ]
  },
  {
   "cell_type": "markdown",
   "id": "27a7e19e",
   "metadata": {},
   "source": [
    "##### Dimensiones del dataframe\n",
    "\n",
    "      <dataframe>.shape     Devuelve (nro_filas,nro_variables)\n",
    "      <dataframe>.size      Devuelve numero de elementos (nro_filas*nro_variables)\n",
    "      \n"
   ]
  },
  {
   "cell_type": "code",
   "execution_count": 158,
   "id": "fb28fc61",
   "metadata": {},
   "outputs": [
    {
     "data": {
      "text/plain": [
       "(3, 4)"
      ]
     },
     "execution_count": 158,
     "metadata": {},
     "output_type": "execute_result"
    }
   ],
   "source": [
    "ventas.shape # filas, columnas"
   ]
  },
  {
   "cell_type": "code",
   "execution_count": 159,
   "id": "b64a0708",
   "metadata": {},
   "outputs": [
    {
     "data": {
      "text/plain": [
       "12"
      ]
     },
     "execution_count": 159,
     "metadata": {},
     "output_type": "execute_result"
    }
   ],
   "source": [
    "ventas.size"
   ]
  },
  {
   "cell_type": "code",
   "execution_count": 160,
   "id": "d80fa3a0",
   "metadata": {},
   "outputs": [
    {
     "data": {
      "text/plain": [
       "2"
      ]
     },
     "execution_count": 160,
     "metadata": {},
     "output_type": "execute_result"
    }
   ],
   "source": [
    "ventas.ndim # un DF tiene filas y columnas, es tabular por tanto tiene dos dimensiones."
   ]
  },
  {
   "cell_type": "code",
   "execution_count": 118,
   "id": "e6957b62",
   "metadata": {},
   "outputs": [
    {
     "data": {
      "text/html": [
       "<div>\n",
       "<style scoped>\n",
       "    .dataframe tbody tr th:only-of-type {\n",
       "        vertical-align: middle;\n",
       "    }\n",
       "\n",
       "    .dataframe tbody tr th {\n",
       "        vertical-align: top;\n",
       "    }\n",
       "\n",
       "    .dataframe thead th {\n",
       "        text-align: right;\n",
       "    }\n",
       "</style>\n",
       "<table border=\"1\" class=\"dataframe\">\n",
       "  <thead>\n",
       "    <tr style=\"text-align: right;\">\n",
       "      <th></th>\n",
       "      <th>Producto</th>\n",
       "      <th>Precio</th>\n",
       "      <th>Impuesto</th>\n",
       "      <th>Stock</th>\n",
       "    </tr>\n",
       "  </thead>\n",
       "  <tbody>\n",
       "    <tr>\n",
       "      <th>0801</th>\n",
       "      <td>Secador</td>\n",
       "      <td>35.0</td>\n",
       "      <td>21</td>\n",
       "      <td>10</td>\n",
       "    </tr>\n",
       "    <tr>\n",
       "      <th>1002</th>\n",
       "      <td>Peine</td>\n",
       "      <td>12.6</td>\n",
       "      <td>21</td>\n",
       "      <td>30</td>\n",
       "    </tr>\n",
       "    <tr>\n",
       "      <th>4003</th>\n",
       "      <td>Tijeras</td>\n",
       "      <td>6.5</td>\n",
       "      <td>21</td>\n",
       "      <td>23</td>\n",
       "    </tr>\n",
       "  </tbody>\n",
       "</table>\n",
       "</div>"
      ],
      "text/plain": [
       "     Producto  Precio  Impuesto  Stock\n",
       "0801  Secador    35.0        21     10\n",
       "1002    Peine    12.6        21     30\n",
       "4003  Tijeras     6.5        21     23"
      ]
     },
     "execution_count": 118,
     "metadata": {},
     "output_type": "execute_result"
    }
   ],
   "source": [
    "ventas"
   ]
  },
  {
   "cell_type": "markdown",
   "id": "f31d0f98",
   "metadata": {},
   "source": [
    "##### Visualizacion previa del aspecto de los datos\n",
    "\n",
    "      * <dataframe>.head()  muestra los primeros elementos del dataframe\n",
    "      * <dataframe>.tail()  muestra los ultimos elementos del dataframe\n",
    "      * <dataframe>.sample(n=N)  muestra aleatoria de N registros (N entero)\n",
    "      * <dataframe>.describe()  muestra informacion estadistica resumida (quartiles, moda, frecuencia).\n",
    "      * <dataframe>.info() muestra informacion resumida del dataframe\n",
    "          "
   ]
  },
  {
   "cell_type": "code",
   "execution_count": 161,
   "id": "3f1eacfc",
   "metadata": {},
   "outputs": [
    {
     "data": {
      "text/html": [
       "<div>\n",
       "<style scoped>\n",
       "    .dataframe tbody tr th:only-of-type {\n",
       "        vertical-align: middle;\n",
       "    }\n",
       "\n",
       "    .dataframe tbody tr th {\n",
       "        vertical-align: top;\n",
       "    }\n",
       "\n",
       "    .dataframe thead th {\n",
       "        text-align: right;\n",
       "    }\n",
       "</style>\n",
       "<table border=\"1\" class=\"dataframe\">\n",
       "  <thead>\n",
       "    <tr style=\"text-align: right;\">\n",
       "      <th></th>\n",
       "      <th>Producto</th>\n",
       "      <th>Precio</th>\n",
       "      <th>Impuesto</th>\n",
       "      <th>Stock</th>\n",
       "    </tr>\n",
       "  </thead>\n",
       "  <tbody>\n",
       "    <tr>\n",
       "      <th>0801</th>\n",
       "      <td>Secador</td>\n",
       "      <td>35.0</td>\n",
       "      <td>21</td>\n",
       "      <td>10</td>\n",
       "    </tr>\n",
       "    <tr>\n",
       "      <th>1002</th>\n",
       "      <td>Peine</td>\n",
       "      <td>12.6</td>\n",
       "      <td>21</td>\n",
       "      <td>30</td>\n",
       "    </tr>\n",
       "    <tr>\n",
       "      <th>4003</th>\n",
       "      <td>Tijeras</td>\n",
       "      <td>6.5</td>\n",
       "      <td>21</td>\n",
       "      <td>23</td>\n",
       "    </tr>\n",
       "  </tbody>\n",
       "</table>\n",
       "</div>"
      ],
      "text/plain": [
       "     Producto  Precio  Impuesto  Stock\n",
       "0801  Secador    35.0        21     10\n",
       "1002    Peine    12.6        21     30\n",
       "4003  Tijeras     6.5        21     23"
      ]
     },
     "execution_count": 161,
     "metadata": {},
     "output_type": "execute_result"
    }
   ],
   "source": [
    "ventas.head()"
   ]
  },
  {
   "cell_type": "code",
   "execution_count": 162,
   "id": "42006220",
   "metadata": {},
   "outputs": [
    {
     "data": {
      "text/html": [
       "<div>\n",
       "<style scoped>\n",
       "    .dataframe tbody tr th:only-of-type {\n",
       "        vertical-align: middle;\n",
       "    }\n",
       "\n",
       "    .dataframe tbody tr th {\n",
       "        vertical-align: top;\n",
       "    }\n",
       "\n",
       "    .dataframe thead th {\n",
       "        text-align: right;\n",
       "    }\n",
       "</style>\n",
       "<table border=\"1\" class=\"dataframe\">\n",
       "  <thead>\n",
       "    <tr style=\"text-align: right;\">\n",
       "      <th></th>\n",
       "      <th>Producto</th>\n",
       "      <th>Precio</th>\n",
       "      <th>Impuesto</th>\n",
       "      <th>Stock</th>\n",
       "    </tr>\n",
       "  </thead>\n",
       "  <tbody>\n",
       "    <tr>\n",
       "      <th>0801</th>\n",
       "      <td>Secador</td>\n",
       "      <td>35.0</td>\n",
       "      <td>21</td>\n",
       "      <td>10</td>\n",
       "    </tr>\n",
       "    <tr>\n",
       "      <th>1002</th>\n",
       "      <td>Peine</td>\n",
       "      <td>12.6</td>\n",
       "      <td>21</td>\n",
       "      <td>30</td>\n",
       "    </tr>\n",
       "    <tr>\n",
       "      <th>4003</th>\n",
       "      <td>Tijeras</td>\n",
       "      <td>6.5</td>\n",
       "      <td>21</td>\n",
       "      <td>23</td>\n",
       "    </tr>\n",
       "  </tbody>\n",
       "</table>\n",
       "</div>"
      ],
      "text/plain": [
       "     Producto  Precio  Impuesto  Stock\n",
       "0801  Secador    35.0        21     10\n",
       "1002    Peine    12.6        21     30\n",
       "4003  Tijeras     6.5        21     23"
      ]
     },
     "execution_count": 162,
     "metadata": {},
     "output_type": "execute_result"
    }
   ],
   "source": [
    "ventas.tail()"
   ]
  },
  {
   "cell_type": "code",
   "execution_count": 163,
   "id": "ae33db34",
   "metadata": {},
   "outputs": [
    {
     "data": {
      "text/html": [
       "<div>\n",
       "<style scoped>\n",
       "    .dataframe tbody tr th:only-of-type {\n",
       "        vertical-align: middle;\n",
       "    }\n",
       "\n",
       "    .dataframe tbody tr th {\n",
       "        vertical-align: top;\n",
       "    }\n",
       "\n",
       "    .dataframe thead th {\n",
       "        text-align: right;\n",
       "    }\n",
       "</style>\n",
       "<table border=\"1\" class=\"dataframe\">\n",
       "  <thead>\n",
       "    <tr style=\"text-align: right;\">\n",
       "      <th></th>\n",
       "      <th>Producto</th>\n",
       "      <th>Precio</th>\n",
       "      <th>Impuesto</th>\n",
       "      <th>Stock</th>\n",
       "    </tr>\n",
       "  </thead>\n",
       "  <tbody>\n",
       "    <tr>\n",
       "      <th>1002</th>\n",
       "      <td>Peine</td>\n",
       "      <td>12.6</td>\n",
       "      <td>21</td>\n",
       "      <td>30</td>\n",
       "    </tr>\n",
       "    <tr>\n",
       "      <th>0801</th>\n",
       "      <td>Secador</td>\n",
       "      <td>35.0</td>\n",
       "      <td>21</td>\n",
       "      <td>10</td>\n",
       "    </tr>\n",
       "    <tr>\n",
       "      <th>4003</th>\n",
       "      <td>Tijeras</td>\n",
       "      <td>6.5</td>\n",
       "      <td>21</td>\n",
       "      <td>23</td>\n",
       "    </tr>\n",
       "  </tbody>\n",
       "</table>\n",
       "</div>"
      ],
      "text/plain": [
       "     Producto  Precio  Impuesto  Stock\n",
       "1002    Peine    12.6        21     30\n",
       "0801  Secador    35.0        21     10\n",
       "4003  Tijeras     6.5        21     23"
      ]
     },
     "execution_count": 163,
     "metadata": {},
     "output_type": "execute_result"
    }
   ],
   "source": [
    "ventas.sample(n=3) # muestra aleatoria"
   ]
  },
  {
   "cell_type": "code",
   "execution_count": 164,
   "id": "c85eaf98",
   "metadata": {},
   "outputs": [
    {
     "data": {
      "text/html": [
       "<div>\n",
       "<style scoped>\n",
       "    .dataframe tbody tr th:only-of-type {\n",
       "        vertical-align: middle;\n",
       "    }\n",
       "\n",
       "    .dataframe tbody tr th {\n",
       "        vertical-align: top;\n",
       "    }\n",
       "\n",
       "    .dataframe thead th {\n",
       "        text-align: right;\n",
       "    }\n",
       "</style>\n",
       "<table border=\"1\" class=\"dataframe\">\n",
       "  <thead>\n",
       "    <tr style=\"text-align: right;\">\n",
       "      <th></th>\n",
       "      <th>Precio</th>\n",
       "      <th>Impuesto</th>\n",
       "      <th>Stock</th>\n",
       "    </tr>\n",
       "  </thead>\n",
       "  <tbody>\n",
       "    <tr>\n",
       "      <th>count</th>\n",
       "      <td>3.000000</td>\n",
       "      <td>3.0</td>\n",
       "      <td>3.000000</td>\n",
       "    </tr>\n",
       "    <tr>\n",
       "      <th>mean</th>\n",
       "      <td>18.033333</td>\n",
       "      <td>21.0</td>\n",
       "      <td>21.000000</td>\n",
       "    </tr>\n",
       "    <tr>\n",
       "      <th>std</th>\n",
       "      <td>15.006776</td>\n",
       "      <td>0.0</td>\n",
       "      <td>10.148892</td>\n",
       "    </tr>\n",
       "    <tr>\n",
       "      <th>min</th>\n",
       "      <td>6.500000</td>\n",
       "      <td>21.0</td>\n",
       "      <td>10.000000</td>\n",
       "    </tr>\n",
       "    <tr>\n",
       "      <th>25%</th>\n",
       "      <td>9.550000</td>\n",
       "      <td>21.0</td>\n",
       "      <td>16.500000</td>\n",
       "    </tr>\n",
       "    <tr>\n",
       "      <th>50%</th>\n",
       "      <td>12.600000</td>\n",
       "      <td>21.0</td>\n",
       "      <td>23.000000</td>\n",
       "    </tr>\n",
       "    <tr>\n",
       "      <th>75%</th>\n",
       "      <td>23.800000</td>\n",
       "      <td>21.0</td>\n",
       "      <td>26.500000</td>\n",
       "    </tr>\n",
       "    <tr>\n",
       "      <th>max</th>\n",
       "      <td>35.000000</td>\n",
       "      <td>21.0</td>\n",
       "      <td>30.000000</td>\n",
       "    </tr>\n",
       "  </tbody>\n",
       "</table>\n",
       "</div>"
      ],
      "text/plain": [
       "          Precio  Impuesto      Stock\n",
       "count   3.000000       3.0   3.000000\n",
       "mean   18.033333      21.0  21.000000\n",
       "std    15.006776       0.0  10.148892\n",
       "min     6.500000      21.0  10.000000\n",
       "25%     9.550000      21.0  16.500000\n",
       "50%    12.600000      21.0  23.000000\n",
       "75%    23.800000      21.0  26.500000\n",
       "max    35.000000      21.0  30.000000"
      ]
     },
     "execution_count": 164,
     "metadata": {},
     "output_type": "execute_result"
    }
   ],
   "source": [
    "ventas.describe() # de las variables aleatorias"
   ]
  },
  {
   "cell_type": "code",
   "execution_count": 165,
   "id": "f67afc76",
   "metadata": {},
   "outputs": [
    {
     "name": "stdout",
     "output_type": "stream",
     "text": [
      "<class 'pandas.core.frame.DataFrame'>\n",
      "Index: 3 entries, 0801 to 4003\n",
      "Data columns (total 4 columns):\n",
      " #   Column    Non-Null Count  Dtype  \n",
      "---  ------    --------------  -----  \n",
      " 0   Producto  3 non-null      object \n",
      " 1   Precio    3 non-null      float64\n",
      " 2   Impuesto  3 non-null      int64  \n",
      " 3   Stock     3 non-null      int64  \n",
      "dtypes: float64(1), int64(2), object(1)\n",
      "memory usage: 120.0+ bytes\n"
     ]
    }
   ],
   "source": [
    "ventas.info()"
   ]
  },
  {
   "cell_type": "markdown",
   "id": "78fbd73a",
   "metadata": {},
   "source": [
    "#### Actualizacion/modificacion de los datos"
   ]
  },
  {
   "cell_type": "markdown",
   "id": "5e70f7e0",
   "metadata": {},
   "source": [
    "##### Crear nuevas columnas\n",
    "\n",
    "        <dataframe>['nombreNuevaVariable']=[<datos>] \n",
    "        \n",
    "         Las opciones para datos son:\n",
    "         \n",
    "         * la lista con los datos [] \n",
    "         * por medio de calculos \n",
    "         * mediante escalar que se repite en todas las filas."
   ]
  },
  {
   "cell_type": "code",
   "execution_count": 33,
   "id": "601f9616",
   "metadata": {},
   "outputs": [
    {
     "data": {
      "text/html": [
       "<div>\n",
       "<style scoped>\n",
       "    .dataframe tbody tr th:only-of-type {\n",
       "        vertical-align: middle;\n",
       "    }\n",
       "\n",
       "    .dataframe tbody tr th {\n",
       "        vertical-align: top;\n",
       "    }\n",
       "\n",
       "    .dataframe thead th {\n",
       "        text-align: right;\n",
       "    }\n",
       "</style>\n",
       "<table border=\"1\" class=\"dataframe\">\n",
       "  <thead>\n",
       "    <tr style=\"text-align: right;\">\n",
       "      <th></th>\n",
       "      <th>W</th>\n",
       "      <th>X</th>\n",
       "      <th>Y</th>\n",
       "      <th>Z</th>\n",
       "    </tr>\n",
       "  </thead>\n",
       "  <tbody>\n",
       "    <tr>\n",
       "      <th>A</th>\n",
       "      <td>-0.350665</td>\n",
       "      <td>1.515996</td>\n",
       "      <td>0.885111</td>\n",
       "      <td>-0.661080</td>\n",
       "    </tr>\n",
       "    <tr>\n",
       "      <th>B</th>\n",
       "      <td>-0.204711</td>\n",
       "      <td>3.104169</td>\n",
       "      <td>1.138570</td>\n",
       "      <td>-0.413935</td>\n",
       "    </tr>\n",
       "    <tr>\n",
       "      <th>C</th>\n",
       "      <td>1.142544</td>\n",
       "      <td>-0.843924</td>\n",
       "      <td>-0.186393</td>\n",
       "      <td>0.142881</td>\n",
       "    </tr>\n",
       "    <tr>\n",
       "      <th>D</th>\n",
       "      <td>1.407652</td>\n",
       "      <td>0.791607</td>\n",
       "      <td>-0.545165</td>\n",
       "      <td>-0.128504</td>\n",
       "    </tr>\n",
       "    <tr>\n",
       "      <th>E</th>\n",
       "      <td>1.409883</td>\n",
       "      <td>-0.997688</td>\n",
       "      <td>-0.773334</td>\n",
       "      <td>0.606940</td>\n",
       "    </tr>\n",
       "  </tbody>\n",
       "</table>\n",
       "</div>"
      ],
      "text/plain": [
       "          W         X         Y         Z\n",
       "A -0.350665  1.515996  0.885111 -0.661080\n",
       "B -0.204711  3.104169  1.138570 -0.413935\n",
       "C  1.142544 -0.843924 -0.186393  0.142881\n",
       "D  1.407652  0.791607 -0.545165 -0.128504\n",
       "E  1.409883 -0.997688 -0.773334  0.606940"
      ]
     },
     "execution_count": 33,
     "metadata": {},
     "output_type": "execute_result"
    }
   ],
   "source": [
    "import numpy as np\n",
    "np.random.seed(1976) # Fijo la semilla\n",
    "df = pd.DataFrame(data = np.random.randn(5,4), # matriz de 5x4 de numeros aleatorios de distribucion normal gausiana\n",
    "                  index = ['A','B','C','D','E'],\n",
    "                  columns = ['W','X','Y','Z'])\n",
    "df"
   ]
  },
  {
   "cell_type": "code",
   "execution_count": 173,
   "id": "327903eb",
   "metadata": {},
   "outputs": [],
   "source": [
    "df['Nueva']=df['W']*10-df['Y']/30 # mediante calculo"
   ]
  },
  {
   "cell_type": "code",
   "execution_count": 174,
   "id": "a4df5646",
   "metadata": {},
   "outputs": [
    {
     "data": {
      "text/html": [
       "<div>\n",
       "<style scoped>\n",
       "    .dataframe tbody tr th:only-of-type {\n",
       "        vertical-align: middle;\n",
       "    }\n",
       "\n",
       "    .dataframe tbody tr th {\n",
       "        vertical-align: top;\n",
       "    }\n",
       "\n",
       "    .dataframe thead th {\n",
       "        text-align: right;\n",
       "    }\n",
       "</style>\n",
       "<table border=\"1\" class=\"dataframe\">\n",
       "  <thead>\n",
       "    <tr style=\"text-align: right;\">\n",
       "      <th></th>\n",
       "      <th>W</th>\n",
       "      <th>X</th>\n",
       "      <th>Y</th>\n",
       "      <th>Z</th>\n",
       "      <th>Nueva</th>\n",
       "    </tr>\n",
       "  </thead>\n",
       "  <tbody>\n",
       "    <tr>\n",
       "      <th>A</th>\n",
       "      <td>-0.350665</td>\n",
       "      <td>1.515996</td>\n",
       "      <td>0.885111</td>\n",
       "      <td>-0.661080</td>\n",
       "      <td>-3.536151</td>\n",
       "    </tr>\n",
       "    <tr>\n",
       "      <th>B</th>\n",
       "      <td>-0.204711</td>\n",
       "      <td>3.104169</td>\n",
       "      <td>1.138570</td>\n",
       "      <td>-0.413935</td>\n",
       "      <td>-2.085066</td>\n",
       "    </tr>\n",
       "    <tr>\n",
       "      <th>C</th>\n",
       "      <td>1.142544</td>\n",
       "      <td>-0.843924</td>\n",
       "      <td>-0.186393</td>\n",
       "      <td>0.142881</td>\n",
       "      <td>11.431653</td>\n",
       "    </tr>\n",
       "    <tr>\n",
       "      <th>D</th>\n",
       "      <td>1.407652</td>\n",
       "      <td>0.791607</td>\n",
       "      <td>-0.545165</td>\n",
       "      <td>-0.128504</td>\n",
       "      <td>14.094688</td>\n",
       "    </tr>\n",
       "    <tr>\n",
       "      <th>E</th>\n",
       "      <td>1.409883</td>\n",
       "      <td>-0.997688</td>\n",
       "      <td>-0.773334</td>\n",
       "      <td>0.606940</td>\n",
       "      <td>14.124611</td>\n",
       "    </tr>\n",
       "  </tbody>\n",
       "</table>\n",
       "</div>"
      ],
      "text/plain": [
       "          W         X         Y         Z      Nueva\n",
       "A -0.350665  1.515996  0.885111 -0.661080  -3.536151\n",
       "B -0.204711  3.104169  1.138570 -0.413935  -2.085066\n",
       "C  1.142544 -0.843924 -0.186393  0.142881  11.431653\n",
       "D  1.407652  0.791607 -0.545165 -0.128504  14.094688\n",
       "E  1.409883 -0.997688 -0.773334  0.606940  14.124611"
      ]
     },
     "execution_count": 174,
     "metadata": {},
     "output_type": "execute_result"
    }
   ],
   "source": [
    "df"
   ]
  },
  {
   "cell_type": "code",
   "execution_count": 175,
   "id": "dead85c1",
   "metadata": {},
   "outputs": [
    {
     "data": {
      "text/html": [
       "<div>\n",
       "<style scoped>\n",
       "    .dataframe tbody tr th:only-of-type {\n",
       "        vertical-align: middle;\n",
       "    }\n",
       "\n",
       "    .dataframe tbody tr th {\n",
       "        vertical-align: top;\n",
       "    }\n",
       "\n",
       "    .dataframe thead th {\n",
       "        text-align: right;\n",
       "    }\n",
       "</style>\n",
       "<table border=\"1\" class=\"dataframe\">\n",
       "  <thead>\n",
       "    <tr style=\"text-align: right;\">\n",
       "      <th></th>\n",
       "      <th>W</th>\n",
       "      <th>X</th>\n",
       "      <th>Y</th>\n",
       "      <th>Z</th>\n",
       "      <th>Nueva</th>\n",
       "      <th>Nueva2</th>\n",
       "    </tr>\n",
       "  </thead>\n",
       "  <tbody>\n",
       "    <tr>\n",
       "      <th>A</th>\n",
       "      <td>-0.350665</td>\n",
       "      <td>1.515996</td>\n",
       "      <td>0.885111</td>\n",
       "      <td>-0.661080</td>\n",
       "      <td>-3.536151</td>\n",
       "      <td>12</td>\n",
       "    </tr>\n",
       "    <tr>\n",
       "      <th>B</th>\n",
       "      <td>-0.204711</td>\n",
       "      <td>3.104169</td>\n",
       "      <td>1.138570</td>\n",
       "      <td>-0.413935</td>\n",
       "      <td>-2.085066</td>\n",
       "      <td>12</td>\n",
       "    </tr>\n",
       "    <tr>\n",
       "      <th>C</th>\n",
       "      <td>1.142544</td>\n",
       "      <td>-0.843924</td>\n",
       "      <td>-0.186393</td>\n",
       "      <td>0.142881</td>\n",
       "      <td>11.431653</td>\n",
       "      <td>12</td>\n",
       "    </tr>\n",
       "    <tr>\n",
       "      <th>D</th>\n",
       "      <td>1.407652</td>\n",
       "      <td>0.791607</td>\n",
       "      <td>-0.545165</td>\n",
       "      <td>-0.128504</td>\n",
       "      <td>14.094688</td>\n",
       "      <td>12</td>\n",
       "    </tr>\n",
       "    <tr>\n",
       "      <th>E</th>\n",
       "      <td>1.409883</td>\n",
       "      <td>-0.997688</td>\n",
       "      <td>-0.773334</td>\n",
       "      <td>0.606940</td>\n",
       "      <td>14.124611</td>\n",
       "      <td>12</td>\n",
       "    </tr>\n",
       "  </tbody>\n",
       "</table>\n",
       "</div>"
      ],
      "text/plain": [
       "          W         X         Y         Z      Nueva  Nueva2\n",
       "A -0.350665  1.515996  0.885111 -0.661080  -3.536151      12\n",
       "B -0.204711  3.104169  1.138570 -0.413935  -2.085066      12\n",
       "C  1.142544 -0.843924 -0.186393  0.142881  11.431653      12\n",
       "D  1.407652  0.791607 -0.545165 -0.128504  14.094688      12\n",
       "E  1.409883 -0.997688 -0.773334  0.606940  14.124611      12"
      ]
     },
     "execution_count": 175,
     "metadata": {},
     "output_type": "execute_result"
    }
   ],
   "source": [
    "# Crear la columna Nueva2 con nros 12 (Escalar)\n",
    "\n",
    "df['Nueva2']=12\n",
    "df"
   ]
  },
  {
   "cell_type": "code",
   "execution_count": 176,
   "id": "a00580aa",
   "metadata": {},
   "outputs": [
    {
     "data": {
      "text/html": [
       "<div>\n",
       "<style scoped>\n",
       "    .dataframe tbody tr th:only-of-type {\n",
       "        vertical-align: middle;\n",
       "    }\n",
       "\n",
       "    .dataframe tbody tr th {\n",
       "        vertical-align: top;\n",
       "    }\n",
       "\n",
       "    .dataframe thead th {\n",
       "        text-align: right;\n",
       "    }\n",
       "</style>\n",
       "<table border=\"1\" class=\"dataframe\">\n",
       "  <thead>\n",
       "    <tr style=\"text-align: right;\">\n",
       "      <th></th>\n",
       "      <th>W</th>\n",
       "      <th>X</th>\n",
       "      <th>Y</th>\n",
       "      <th>Z</th>\n",
       "      <th>Nueva</th>\n",
       "      <th>Nueva2</th>\n",
       "      <th>Nueva3</th>\n",
       "    </tr>\n",
       "  </thead>\n",
       "  <tbody>\n",
       "    <tr>\n",
       "      <th>A</th>\n",
       "      <td>-0.350665</td>\n",
       "      <td>1.515996</td>\n",
       "      <td>0.885111</td>\n",
       "      <td>-0.661080</td>\n",
       "      <td>-3.536151</td>\n",
       "      <td>12</td>\n",
       "      <td>10</td>\n",
       "    </tr>\n",
       "    <tr>\n",
       "      <th>B</th>\n",
       "      <td>-0.204711</td>\n",
       "      <td>3.104169</td>\n",
       "      <td>1.138570</td>\n",
       "      <td>-0.413935</td>\n",
       "      <td>-2.085066</td>\n",
       "      <td>12</td>\n",
       "      <td>11</td>\n",
       "    </tr>\n",
       "    <tr>\n",
       "      <th>C</th>\n",
       "      <td>1.142544</td>\n",
       "      <td>-0.843924</td>\n",
       "      <td>-0.186393</td>\n",
       "      <td>0.142881</td>\n",
       "      <td>11.431653</td>\n",
       "      <td>12</td>\n",
       "      <td>12</td>\n",
       "    </tr>\n",
       "    <tr>\n",
       "      <th>D</th>\n",
       "      <td>1.407652</td>\n",
       "      <td>0.791607</td>\n",
       "      <td>-0.545165</td>\n",
       "      <td>-0.128504</td>\n",
       "      <td>14.094688</td>\n",
       "      <td>12</td>\n",
       "      <td>13</td>\n",
       "    </tr>\n",
       "    <tr>\n",
       "      <th>E</th>\n",
       "      <td>1.409883</td>\n",
       "      <td>-0.997688</td>\n",
       "      <td>-0.773334</td>\n",
       "      <td>0.606940</td>\n",
       "      <td>14.124611</td>\n",
       "      <td>12</td>\n",
       "      <td>15</td>\n",
       "    </tr>\n",
       "  </tbody>\n",
       "</table>\n",
       "</div>"
      ],
      "text/plain": [
       "          W         X         Y         Z      Nueva  Nueva2  Nueva3\n",
       "A -0.350665  1.515996  0.885111 -0.661080  -3.536151      12      10\n",
       "B -0.204711  3.104169  1.138570 -0.413935  -2.085066      12      11\n",
       "C  1.142544 -0.843924 -0.186393  0.142881  11.431653      12      12\n",
       "D  1.407652  0.791607 -0.545165 -0.128504  14.094688      12      13\n",
       "E  1.409883 -0.997688 -0.773334  0.606940  14.124611      12      15"
      ]
     },
     "execution_count": 176,
     "metadata": {},
     "output_type": "execute_result"
    }
   ],
   "source": [
    "df['Nueva3']=[10,11,12,13,15] # mediante lista\n",
    "df"
   ]
  },
  {
   "cell_type": "markdown",
   "id": "4d5843aa",
   "metadata": {},
   "source": [
    "##### Borrar/Eliminar columnas\n",
    "\n",
    "        <dataframe>.drop(<etiqueta/indice de fila o col>, axis=0, inplace=True) \n",
    "        \n",
    "                        # 0 filas, 1 columnas\n",
    "                        # Para hacer efectivo el borrado inplace=True. Por defecto False\n",
    "                        \n",
    "       NOTA: con el inplace en defalut(False) puedo eliminar de la visualizacion las columnas que no me interesan. \n",
    "               Es otra manera de filtrar los datos.\n",
    "                        \n",
    "         del <dataframe>[<columnaABorrar>]  Es una funcion de alto nivel. Borra directamente.\n",
    "         \n",
    "     "
   ]
  },
  {
   "cell_type": "code",
   "execution_count": 177,
   "id": "af3a41a0",
   "metadata": {},
   "outputs": [
    {
     "data": {
      "text/html": [
       "<div>\n",
       "<style scoped>\n",
       "    .dataframe tbody tr th:only-of-type {\n",
       "        vertical-align: middle;\n",
       "    }\n",
       "\n",
       "    .dataframe tbody tr th {\n",
       "        vertical-align: top;\n",
       "    }\n",
       "\n",
       "    .dataframe thead th {\n",
       "        text-align: right;\n",
       "    }\n",
       "</style>\n",
       "<table border=\"1\" class=\"dataframe\">\n",
       "  <thead>\n",
       "    <tr style=\"text-align: right;\">\n",
       "      <th></th>\n",
       "      <th>W</th>\n",
       "      <th>X</th>\n",
       "      <th>Y</th>\n",
       "      <th>Z</th>\n",
       "      <th>Nueva2</th>\n",
       "      <th>Nueva3</th>\n",
       "    </tr>\n",
       "  </thead>\n",
       "  <tbody>\n",
       "    <tr>\n",
       "      <th>A</th>\n",
       "      <td>-0.350665</td>\n",
       "      <td>1.515996</td>\n",
       "      <td>0.885111</td>\n",
       "      <td>-0.661080</td>\n",
       "      <td>12</td>\n",
       "      <td>10</td>\n",
       "    </tr>\n",
       "    <tr>\n",
       "      <th>B</th>\n",
       "      <td>-0.204711</td>\n",
       "      <td>3.104169</td>\n",
       "      <td>1.138570</td>\n",
       "      <td>-0.413935</td>\n",
       "      <td>12</td>\n",
       "      <td>11</td>\n",
       "    </tr>\n",
       "    <tr>\n",
       "      <th>C</th>\n",
       "      <td>1.142544</td>\n",
       "      <td>-0.843924</td>\n",
       "      <td>-0.186393</td>\n",
       "      <td>0.142881</td>\n",
       "      <td>12</td>\n",
       "      <td>12</td>\n",
       "    </tr>\n",
       "    <tr>\n",
       "      <th>D</th>\n",
       "      <td>1.407652</td>\n",
       "      <td>0.791607</td>\n",
       "      <td>-0.545165</td>\n",
       "      <td>-0.128504</td>\n",
       "      <td>12</td>\n",
       "      <td>13</td>\n",
       "    </tr>\n",
       "    <tr>\n",
       "      <th>E</th>\n",
       "      <td>1.409883</td>\n",
       "      <td>-0.997688</td>\n",
       "      <td>-0.773334</td>\n",
       "      <td>0.606940</td>\n",
       "      <td>12</td>\n",
       "      <td>15</td>\n",
       "    </tr>\n",
       "  </tbody>\n",
       "</table>\n",
       "</div>"
      ],
      "text/plain": [
       "          W         X         Y         Z  Nueva2  Nueva3\n",
       "A -0.350665  1.515996  0.885111 -0.661080      12      10\n",
       "B -0.204711  3.104169  1.138570 -0.413935      12      11\n",
       "C  1.142544 -0.843924 -0.186393  0.142881      12      12\n",
       "D  1.407652  0.791607 -0.545165 -0.128504      12      13\n",
       "E  1.409883 -0.997688 -0.773334  0.606940      12      15"
      ]
     },
     "execution_count": 177,
     "metadata": {},
     "output_type": "execute_result"
    }
   ],
   "source": [
    "df=df.drop('Nueva',axis=1) # elimina la columna. Tambien se puede indicar por indice numerico\n",
    "df  # asigne por tanto se ha eliminado"
   ]
  },
  {
   "cell_type": "code",
   "execution_count": 178,
   "id": "512808d3",
   "metadata": {},
   "outputs": [
    {
     "data": {
      "text/html": [
       "<div>\n",
       "<style scoped>\n",
       "    .dataframe tbody tr th:only-of-type {\n",
       "        vertical-align: middle;\n",
       "    }\n",
       "\n",
       "    .dataframe tbody tr th {\n",
       "        vertical-align: top;\n",
       "    }\n",
       "\n",
       "    .dataframe thead th {\n",
       "        text-align: right;\n",
       "    }\n",
       "</style>\n",
       "<table border=\"1\" class=\"dataframe\">\n",
       "  <thead>\n",
       "    <tr style=\"text-align: right;\">\n",
       "      <th></th>\n",
       "      <th>W</th>\n",
       "      <th>X</th>\n",
       "      <th>Y</th>\n",
       "      <th>Z</th>\n",
       "      <th>Nueva2</th>\n",
       "      <th>Nueva3</th>\n",
       "    </tr>\n",
       "  </thead>\n",
       "  <tbody>\n",
       "    <tr>\n",
       "      <th>A</th>\n",
       "      <td>-0.350665</td>\n",
       "      <td>1.515996</td>\n",
       "      <td>0.885111</td>\n",
       "      <td>-0.661080</td>\n",
       "      <td>12</td>\n",
       "      <td>10</td>\n",
       "    </tr>\n",
       "    <tr>\n",
       "      <th>B</th>\n",
       "      <td>-0.204711</td>\n",
       "      <td>3.104169</td>\n",
       "      <td>1.138570</td>\n",
       "      <td>-0.413935</td>\n",
       "      <td>12</td>\n",
       "      <td>11</td>\n",
       "    </tr>\n",
       "    <tr>\n",
       "      <th>C</th>\n",
       "      <td>1.142544</td>\n",
       "      <td>-0.843924</td>\n",
       "      <td>-0.186393</td>\n",
       "      <td>0.142881</td>\n",
       "      <td>12</td>\n",
       "      <td>12</td>\n",
       "    </tr>\n",
       "    <tr>\n",
       "      <th>D</th>\n",
       "      <td>1.407652</td>\n",
       "      <td>0.791607</td>\n",
       "      <td>-0.545165</td>\n",
       "      <td>-0.128504</td>\n",
       "      <td>12</td>\n",
       "      <td>13</td>\n",
       "    </tr>\n",
       "  </tbody>\n",
       "</table>\n",
       "</div>"
      ],
      "text/plain": [
       "          W         X         Y         Z  Nueva2  Nueva3\n",
       "A -0.350665  1.515996  0.885111 -0.661080      12      10\n",
       "B -0.204711  3.104169  1.138570 -0.413935      12      11\n",
       "C  1.142544 -0.843924 -0.186393  0.142881      12      12\n",
       "D  1.407652  0.791607 -0.545165 -0.128504      12      13"
      ]
     },
     "execution_count": 178,
     "metadata": {},
     "output_type": "execute_result"
    }
   ],
   "source": [
    "df=df.drop('E', axis=0) # elimina la fila. Tambien se puede indicar por indice numerico\n",
    "df"
   ]
  },
  {
   "cell_type": "code",
   "execution_count": 34,
   "id": "592d8e4f",
   "metadata": {},
   "outputs": [
    {
     "data": {
      "text/html": [
       "<div>\n",
       "<style scoped>\n",
       "    .dataframe tbody tr th:only-of-type {\n",
       "        vertical-align: middle;\n",
       "    }\n",
       "\n",
       "    .dataframe tbody tr th {\n",
       "        vertical-align: top;\n",
       "    }\n",
       "\n",
       "    .dataframe thead th {\n",
       "        text-align: right;\n",
       "    }\n",
       "</style>\n",
       "<table border=\"1\" class=\"dataframe\">\n",
       "  <thead>\n",
       "    <tr style=\"text-align: right;\">\n",
       "      <th></th>\n",
       "      <th>W</th>\n",
       "      <th>X</th>\n",
       "      <th>Y</th>\n",
       "      <th>Z</th>\n",
       "    </tr>\n",
       "  </thead>\n",
       "  <tbody>\n",
       "    <tr>\n",
       "      <th>A</th>\n",
       "      <td>-0.350665</td>\n",
       "      <td>1.515996</td>\n",
       "      <td>0.885111</td>\n",
       "      <td>-0.661080</td>\n",
       "    </tr>\n",
       "    <tr>\n",
       "      <th>B</th>\n",
       "      <td>-0.204711</td>\n",
       "      <td>3.104169</td>\n",
       "      <td>1.138570</td>\n",
       "      <td>-0.413935</td>\n",
       "    </tr>\n",
       "    <tr>\n",
       "      <th>E</th>\n",
       "      <td>1.409883</td>\n",
       "      <td>-0.997688</td>\n",
       "      <td>-0.773334</td>\n",
       "      <td>0.606940</td>\n",
       "    </tr>\n",
       "  </tbody>\n",
       "</table>\n",
       "</div>"
      ],
      "text/plain": [
       "          W         X         Y         Z\n",
       "A -0.350665  1.515996  0.885111 -0.661080\n",
       "B -0.204711  3.104169  1.138570 -0.413935\n",
       "E  1.409883 -0.997688 -0.773334  0.606940"
      ]
     },
     "execution_count": 34,
     "metadata": {},
     "output_type": "execute_result"
    }
   ],
   "source": [
    "df=df.drop(['C','D'], axis=0) # elimina la fila. Tambien se puede indicar por indice numerico\n",
    "df"
   ]
  },
  {
   "cell_type": "code",
   "execution_count": 35,
   "id": "6b4b664c",
   "metadata": {},
   "outputs": [
    {
     "data": {
      "text/html": [
       "<div>\n",
       "<style scoped>\n",
       "    .dataframe tbody tr th:only-of-type {\n",
       "        vertical-align: middle;\n",
       "    }\n",
       "\n",
       "    .dataframe tbody tr th {\n",
       "        vertical-align: top;\n",
       "    }\n",
       "\n",
       "    .dataframe thead th {\n",
       "        text-align: right;\n",
       "    }\n",
       "</style>\n",
       "<table border=\"1\" class=\"dataframe\">\n",
       "  <thead>\n",
       "    <tr style=\"text-align: right;\">\n",
       "      <th></th>\n",
       "      <th>X</th>\n",
       "      <th>Z</th>\n",
       "    </tr>\n",
       "  </thead>\n",
       "  <tbody>\n",
       "    <tr>\n",
       "      <th>A</th>\n",
       "      <td>1.515996</td>\n",
       "      <td>-0.661080</td>\n",
       "    </tr>\n",
       "    <tr>\n",
       "      <th>B</th>\n",
       "      <td>3.104169</td>\n",
       "      <td>-0.413935</td>\n",
       "    </tr>\n",
       "    <tr>\n",
       "      <th>E</th>\n",
       "      <td>-0.997688</td>\n",
       "      <td>0.606940</td>\n",
       "    </tr>\n",
       "  </tbody>\n",
       "</table>\n",
       "</div>"
      ],
      "text/plain": [
       "          X         Z\n",
       "A  1.515996 -0.661080\n",
       "B  3.104169 -0.413935\n",
       "E -0.997688  0.606940"
      ]
     },
     "execution_count": 35,
     "metadata": {},
     "output_type": "execute_result"
    }
   ],
   "source": [
    "df=df.drop(['W','Y'], axis=1) # elimina la fila. Tambien se puede indicar por indice numerico\n",
    "df"
   ]
  },
  {
   "cell_type": "code",
   "execution_count": 179,
   "id": "d31ffb9d",
   "metadata": {},
   "outputs": [
    {
     "data": {
      "text/html": [
       "<div>\n",
       "<style scoped>\n",
       "    .dataframe tbody tr th:only-of-type {\n",
       "        vertical-align: middle;\n",
       "    }\n",
       "\n",
       "    .dataframe tbody tr th {\n",
       "        vertical-align: top;\n",
       "    }\n",
       "\n",
       "    .dataframe thead th {\n",
       "        text-align: right;\n",
       "    }\n",
       "</style>\n",
       "<table border=\"1\" class=\"dataframe\">\n",
       "  <thead>\n",
       "    <tr style=\"text-align: right;\">\n",
       "      <th></th>\n",
       "      <th>W</th>\n",
       "      <th>X</th>\n",
       "      <th>Y</th>\n",
       "      <th>Z</th>\n",
       "      <th>Nueva3</th>\n",
       "    </tr>\n",
       "  </thead>\n",
       "  <tbody>\n",
       "    <tr>\n",
       "      <th>A</th>\n",
       "      <td>-0.350665</td>\n",
       "      <td>1.515996</td>\n",
       "      <td>0.885111</td>\n",
       "      <td>-0.661080</td>\n",
       "      <td>10</td>\n",
       "    </tr>\n",
       "    <tr>\n",
       "      <th>B</th>\n",
       "      <td>-0.204711</td>\n",
       "      <td>3.104169</td>\n",
       "      <td>1.138570</td>\n",
       "      <td>-0.413935</td>\n",
       "      <td>11</td>\n",
       "    </tr>\n",
       "    <tr>\n",
       "      <th>C</th>\n",
       "      <td>1.142544</td>\n",
       "      <td>-0.843924</td>\n",
       "      <td>-0.186393</td>\n",
       "      <td>0.142881</td>\n",
       "      <td>12</td>\n",
       "    </tr>\n",
       "    <tr>\n",
       "      <th>D</th>\n",
       "      <td>1.407652</td>\n",
       "      <td>0.791607</td>\n",
       "      <td>-0.545165</td>\n",
       "      <td>-0.128504</td>\n",
       "      <td>13</td>\n",
       "    </tr>\n",
       "  </tbody>\n",
       "</table>\n",
       "</div>"
      ],
      "text/plain": [
       "          W         X         Y         Z  Nueva3\n",
       "A -0.350665  1.515996  0.885111 -0.661080      10\n",
       "B -0.204711  3.104169  1.138570 -0.413935      11\n",
       "C  1.142544 -0.843924 -0.186393  0.142881      12\n",
       "D  1.407652  0.791607 -0.545165 -0.128504      13"
      ]
     },
     "execution_count": 179,
     "metadata": {},
     "output_type": "execute_result"
    }
   ],
   "source": [
    "del df['Nueva2'] # funcion de alto nivel\n",
    "df"
   ]
  },
  {
   "cell_type": "markdown",
   "id": "e31f76e4",
   "metadata": {},
   "source": [
    "#### Consulta/Seleccion de los datos\n"
   ]
  },
  {
   "cell_type": "markdown",
   "id": "a6be94af",
   "metadata": {},
   "source": [
    "#####  Recuperar una columna o conjunto de columnas mediante []\n",
    "\n",
    "            <dataframe>['nombreVariable']\n",
    "            <dataframe>[['nombreVariable1','nombreVariable2',...]]"
   ]
  },
  {
   "cell_type": "code",
   "execution_count": 180,
   "id": "07e75724",
   "metadata": {},
   "outputs": [],
   "source": [
    "import numpy as np\n",
    "\n",
    "df2=pd.DataFrame(data=np.random.randn(5,4), index= ['A', 'B', 'C', 'D','E'], columns=['W', 'X', 'Y', 'Z'])"
   ]
  },
  {
   "cell_type": "code",
   "execution_count": 181,
   "id": "9f8df395",
   "metadata": {},
   "outputs": [
    {
     "data": {
      "text/html": [
       "<div>\n",
       "<style scoped>\n",
       "    .dataframe tbody tr th:only-of-type {\n",
       "        vertical-align: middle;\n",
       "    }\n",
       "\n",
       "    .dataframe tbody tr th {\n",
       "        vertical-align: top;\n",
       "    }\n",
       "\n",
       "    .dataframe thead th {\n",
       "        text-align: right;\n",
       "    }\n",
       "</style>\n",
       "<table border=\"1\" class=\"dataframe\">\n",
       "  <thead>\n",
       "    <tr style=\"text-align: right;\">\n",
       "      <th></th>\n",
       "      <th>W</th>\n",
       "      <th>X</th>\n",
       "      <th>Y</th>\n",
       "      <th>Z</th>\n",
       "    </tr>\n",
       "  </thead>\n",
       "  <tbody>\n",
       "    <tr>\n",
       "      <th>A</th>\n",
       "      <td>-1.136748</td>\n",
       "      <td>1.083449</td>\n",
       "      <td>1.488967</td>\n",
       "      <td>-0.051547</td>\n",
       "    </tr>\n",
       "    <tr>\n",
       "      <th>B</th>\n",
       "      <td>-0.273839</td>\n",
       "      <td>-0.222350</td>\n",
       "      <td>0.628574</td>\n",
       "      <td>1.183904</td>\n",
       "    </tr>\n",
       "    <tr>\n",
       "      <th>C</th>\n",
       "      <td>0.500753</td>\n",
       "      <td>-0.078337</td>\n",
       "      <td>-0.225181</td>\n",
       "      <td>0.335381</td>\n",
       "    </tr>\n",
       "    <tr>\n",
       "      <th>D</th>\n",
       "      <td>-1.820918</td>\n",
       "      <td>-0.017031</td>\n",
       "      <td>-0.725816</td>\n",
       "      <td>2.002461</td>\n",
       "    </tr>\n",
       "    <tr>\n",
       "      <th>E</th>\n",
       "      <td>-0.974926</td>\n",
       "      <td>1.697157</td>\n",
       "      <td>0.049759</td>\n",
       "      <td>0.789107</td>\n",
       "    </tr>\n",
       "  </tbody>\n",
       "</table>\n",
       "</div>"
      ],
      "text/plain": [
       "          W         X         Y         Z\n",
       "A -1.136748  1.083449  1.488967 -0.051547\n",
       "B -0.273839 -0.222350  0.628574  1.183904\n",
       "C  0.500753 -0.078337 -0.225181  0.335381\n",
       "D -1.820918 -0.017031 -0.725816  2.002461\n",
       "E -0.974926  1.697157  0.049759  0.789107"
      ]
     },
     "execution_count": 181,
     "metadata": {},
     "output_type": "execute_result"
    }
   ],
   "source": [
    "df2"
   ]
  },
  {
   "cell_type": "code",
   "execution_count": 182,
   "id": "98445b58",
   "metadata": {},
   "outputs": [
    {
     "data": {
      "text/plain": [
       "A   -0.350665\n",
       "B   -0.204711\n",
       "C    1.142544\n",
       "D    1.407652\n",
       "Name: W, dtype: float64"
      ]
     },
     "execution_count": 182,
     "metadata": {},
     "output_type": "execute_result"
    }
   ],
   "source": [
    "df['W']"
   ]
  },
  {
   "cell_type": "code",
   "execution_count": 183,
   "id": "c7a7b581",
   "metadata": {},
   "outputs": [
    {
     "data": {
      "text/html": [
       "<div>\n",
       "<style scoped>\n",
       "    .dataframe tbody tr th:only-of-type {\n",
       "        vertical-align: middle;\n",
       "    }\n",
       "\n",
       "    .dataframe tbody tr th {\n",
       "        vertical-align: top;\n",
       "    }\n",
       "\n",
       "    .dataframe thead th {\n",
       "        text-align: right;\n",
       "    }\n",
       "</style>\n",
       "<table border=\"1\" class=\"dataframe\">\n",
       "  <thead>\n",
       "    <tr style=\"text-align: right;\">\n",
       "      <th></th>\n",
       "      <th>Y</th>\n",
       "      <th>W</th>\n",
       "    </tr>\n",
       "  </thead>\n",
       "  <tbody>\n",
       "    <tr>\n",
       "      <th>A</th>\n",
       "      <td>0.885111</td>\n",
       "      <td>-0.350665</td>\n",
       "    </tr>\n",
       "    <tr>\n",
       "      <th>B</th>\n",
       "      <td>1.138570</td>\n",
       "      <td>-0.204711</td>\n",
       "    </tr>\n",
       "    <tr>\n",
       "      <th>C</th>\n",
       "      <td>-0.186393</td>\n",
       "      <td>1.142544</td>\n",
       "    </tr>\n",
       "    <tr>\n",
       "      <th>D</th>\n",
       "      <td>-0.545165</td>\n",
       "      <td>1.407652</td>\n",
       "    </tr>\n",
       "  </tbody>\n",
       "</table>\n",
       "</div>"
      ],
      "text/plain": [
       "          Y         W\n",
       "A  0.885111 -0.350665\n",
       "B  1.138570 -0.204711\n",
       "C -0.186393  1.142544\n",
       "D -0.545165  1.407652"
      ]
     },
     "execution_count": 183,
     "metadata": {},
     "output_type": "execute_result"
    }
   ],
   "source": [
    "df[['Y','W']]  # Para indicar mas de una columna lo hago con una lista. Respeta el orden indicado en la lista"
   ]
  },
  {
   "cell_type": "markdown",
   "id": "07125249",
   "metadata": {},
   "source": [
    "##### Recuperacion de datos mediante LOC/ILOC\n",
    "\n",
    "* Para recuperar/consultar filas \n",
    "\n",
    "        <dataframe>.loc[<nombreEtiqueta>]\n",
    "         <dataframe>.iloc[<numeroIndice>]\n",
    "         \n",
    "* Para recuperar/consultar un solo elemento \n",
    "\n",
    "        <dataframe>.loc[<nombreEtiquetaFila>,<nombreEtiquetaColumna>]\n",
    "        <dataframe>.iloc[<numeroIndiceFila>,<numeroIndiceColumna>]\n",
    "     \n",
    "     \n",
    "    \n",
    "    NOTA: NO SE PUEDE CONSULTAR SIN LOC ILOC COMO EN LAS SERIES QUE SE PUEDEN OBTENER LOS DATOS SOLO CON [] \n",
    "    \n",
    "    ¿? No se a que se refiere con esto. Arriba hay consultas sin loc/iloc "
   ]
  },
  {
   "cell_type": "code",
   "execution_count": 184,
   "id": "ad649443",
   "metadata": {},
   "outputs": [
    {
     "data": {
      "text/html": [
       "<div>\n",
       "<style scoped>\n",
       "    .dataframe tbody tr th:only-of-type {\n",
       "        vertical-align: middle;\n",
       "    }\n",
       "\n",
       "    .dataframe tbody tr th {\n",
       "        vertical-align: top;\n",
       "    }\n",
       "\n",
       "    .dataframe thead th {\n",
       "        text-align: right;\n",
       "    }\n",
       "</style>\n",
       "<table border=\"1\" class=\"dataframe\">\n",
       "  <thead>\n",
       "    <tr style=\"text-align: right;\">\n",
       "      <th></th>\n",
       "      <th>W</th>\n",
       "      <th>X</th>\n",
       "      <th>Y</th>\n",
       "      <th>Z</th>\n",
       "      <th>Nueva3</th>\n",
       "    </tr>\n",
       "  </thead>\n",
       "  <tbody>\n",
       "    <tr>\n",
       "      <th>A</th>\n",
       "      <td>-0.350665</td>\n",
       "      <td>1.515996</td>\n",
       "      <td>0.885111</td>\n",
       "      <td>-0.661080</td>\n",
       "      <td>10</td>\n",
       "    </tr>\n",
       "    <tr>\n",
       "      <th>B</th>\n",
       "      <td>-0.204711</td>\n",
       "      <td>3.104169</td>\n",
       "      <td>1.138570</td>\n",
       "      <td>-0.413935</td>\n",
       "      <td>11</td>\n",
       "    </tr>\n",
       "    <tr>\n",
       "      <th>C</th>\n",
       "      <td>1.142544</td>\n",
       "      <td>-0.843924</td>\n",
       "      <td>-0.186393</td>\n",
       "      <td>0.142881</td>\n",
       "      <td>12</td>\n",
       "    </tr>\n",
       "    <tr>\n",
       "      <th>D</th>\n",
       "      <td>1.407652</td>\n",
       "      <td>0.791607</td>\n",
       "      <td>-0.545165</td>\n",
       "      <td>-0.128504</td>\n",
       "      <td>13</td>\n",
       "    </tr>\n",
       "  </tbody>\n",
       "</table>\n",
       "</div>"
      ],
      "text/plain": [
       "          W         X         Y         Z  Nueva3\n",
       "A -0.350665  1.515996  0.885111 -0.661080      10\n",
       "B -0.204711  3.104169  1.138570 -0.413935      11\n",
       "C  1.142544 -0.843924 -0.186393  0.142881      12\n",
       "D  1.407652  0.791607 -0.545165 -0.128504      13"
      ]
     },
     "execution_count": 184,
     "metadata": {},
     "output_type": "execute_result"
    }
   ],
   "source": [
    "df"
   ]
  },
  {
   "cell_type": "code",
   "execution_count": 185,
   "id": "6a7f30b7",
   "metadata": {},
   "outputs": [
    {
     "data": {
      "text/plain": [
       "W         -0.350665\n",
       "X          1.515996\n",
       "Y          0.885111\n",
       "Z         -0.661080\n",
       "Nueva3    10.000000\n",
       "Name: A, dtype: float64"
      ]
     },
     "execution_count": 185,
     "metadata": {},
     "output_type": "execute_result"
    }
   ],
   "source": [
    "df.loc['A'] # es la fila A (etiqueta) solo que lo muestra en forma de columna"
   ]
  },
  {
   "cell_type": "code",
   "execution_count": 186,
   "id": "717e038b",
   "metadata": {},
   "outputs": [
    {
     "data": {
      "text/plain": [
       "W         -0.350665\n",
       "X          1.515996\n",
       "Y          0.885111\n",
       "Z         -0.661080\n",
       "Nueva3    10.000000\n",
       "Name: A, dtype: float64"
      ]
     },
     "execution_count": 186,
     "metadata": {},
     "output_type": "execute_result"
    }
   ],
   "source": [
    "df.iloc[0] # lo mismo pero por indice "
   ]
  },
  {
   "cell_type": "code",
   "execution_count": 187,
   "id": "ccb371fb",
   "metadata": {},
   "outputs": [
    {
     "data": {
      "text/plain": [
       "-0.3506646851174367"
      ]
     },
     "execution_count": 187,
     "metadata": {},
     "output_type": "execute_result"
    }
   ],
   "source": [
    "df.loc['A','W'] # fila,columna. Se separa por , si no quiero indicar fila pongo , sin nada por delante"
   ]
  },
  {
   "cell_type": "code",
   "execution_count": 188,
   "id": "5e45cee0",
   "metadata": {},
   "outputs": [
    {
     "data": {
      "text/plain": [
       "-0.3506646851174367"
      ]
     },
     "execution_count": 188,
     "metadata": {},
     "output_type": "execute_result"
    }
   ],
   "source": [
    "df.iloc[0,0] # fila,columna"
   ]
  },
  {
   "cell_type": "code",
   "execution_count": 189,
   "id": "a238c708",
   "metadata": {},
   "outputs": [
    {
     "data": {
      "text/html": [
       "<div>\n",
       "<style scoped>\n",
       "    .dataframe tbody tr th:only-of-type {\n",
       "        vertical-align: middle;\n",
       "    }\n",
       "\n",
       "    .dataframe tbody tr th {\n",
       "        vertical-align: top;\n",
       "    }\n",
       "\n",
       "    .dataframe thead th {\n",
       "        text-align: right;\n",
       "    }\n",
       "</style>\n",
       "<table border=\"1\" class=\"dataframe\">\n",
       "  <thead>\n",
       "    <tr style=\"text-align: right;\">\n",
       "      <th></th>\n",
       "      <th>X</th>\n",
       "      <th>Y</th>\n",
       "    </tr>\n",
       "  </thead>\n",
       "  <tbody>\n",
       "    <tr>\n",
       "      <th>A</th>\n",
       "      <td>1.515996</td>\n",
       "      <td>0.885111</td>\n",
       "    </tr>\n",
       "    <tr>\n",
       "      <th>C</th>\n",
       "      <td>-0.843924</td>\n",
       "      <td>-0.186393</td>\n",
       "    </tr>\n",
       "  </tbody>\n",
       "</table>\n",
       "</div>"
      ],
      "text/plain": [
       "          X         Y\n",
       "A  1.515996  0.885111\n",
       "C -0.843924 -0.186393"
      ]
     },
     "execution_count": 189,
     "metadata": {},
     "output_type": "execute_result"
    }
   ],
   "source": [
    "df.loc[['A','C'],['X','Y']] #  primero van las filas [si son mas de una], luego las columnas [si son mas de una]"
   ]
  },
  {
   "cell_type": "code",
   "execution_count": 190,
   "id": "7c841f33",
   "metadata": {},
   "outputs": [
    {
     "data": {
      "text/html": [
       "<div>\n",
       "<style scoped>\n",
       "    .dataframe tbody tr th:only-of-type {\n",
       "        vertical-align: middle;\n",
       "    }\n",
       "\n",
       "    .dataframe tbody tr th {\n",
       "        vertical-align: top;\n",
       "    }\n",
       "\n",
       "    .dataframe thead th {\n",
       "        text-align: right;\n",
       "    }\n",
       "</style>\n",
       "<table border=\"1\" class=\"dataframe\">\n",
       "  <thead>\n",
       "    <tr style=\"text-align: right;\">\n",
       "      <th></th>\n",
       "      <th>X</th>\n",
       "      <th>Y</th>\n",
       "    </tr>\n",
       "  </thead>\n",
       "  <tbody>\n",
       "    <tr>\n",
       "      <th>A</th>\n",
       "      <td>1.515996</td>\n",
       "      <td>0.885111</td>\n",
       "    </tr>\n",
       "    <tr>\n",
       "      <th>C</th>\n",
       "      <td>-0.843924</td>\n",
       "      <td>-0.186393</td>\n",
       "    </tr>\n",
       "  </tbody>\n",
       "</table>\n",
       "</div>"
      ],
      "text/plain": [
       "          X         Y\n",
       "A  1.515996  0.885111\n",
       "C -0.843924 -0.186393"
      ]
     },
     "execution_count": 190,
     "metadata": {},
     "output_type": "execute_result"
    }
   ],
   "source": [
    "df.iloc[[0,2],[1,2]]  # primero van las filas, luego las columnas"
   ]
  },
  {
   "cell_type": "code",
   "execution_count": 285,
   "id": "845cdc2c",
   "metadata": {},
   "outputs": [
    {
     "data": {
      "text/html": [
       "<div>\n",
       "<style scoped>\n",
       "    .dataframe tbody tr th:only-of-type {\n",
       "        vertical-align: middle;\n",
       "    }\n",
       "\n",
       "    .dataframe tbody tr th {\n",
       "        vertical-align: top;\n",
       "    }\n",
       "\n",
       "    .dataframe thead th {\n",
       "        text-align: right;\n",
       "    }\n",
       "</style>\n",
       "<table border=\"1\" class=\"dataframe\">\n",
       "  <thead>\n",
       "    <tr style=\"text-align: right;\">\n",
       "      <th></th>\n",
       "      <th>W</th>\n",
       "      <th>X</th>\n",
       "      <th>Y</th>\n",
       "      <th>Z</th>\n",
       "    </tr>\n",
       "  </thead>\n",
       "  <tbody>\n",
       "    <tr>\n",
       "      <th>A</th>\n",
       "      <td>-0.350665</td>\n",
       "      <td>1.515996</td>\n",
       "      <td>0.885111</td>\n",
       "      <td>-0.661080</td>\n",
       "    </tr>\n",
       "    <tr>\n",
       "      <th>B</th>\n",
       "      <td>-0.204711</td>\n",
       "      <td>3.104169</td>\n",
       "      <td>1.138570</td>\n",
       "      <td>-0.413935</td>\n",
       "    </tr>\n",
       "    <tr>\n",
       "      <th>C</th>\n",
       "      <td>1.142544</td>\n",
       "      <td>-0.843924</td>\n",
       "      <td>-0.186393</td>\n",
       "      <td>0.142881</td>\n",
       "    </tr>\n",
       "    <tr>\n",
       "      <th>D</th>\n",
       "      <td>1.407652</td>\n",
       "      <td>0.791607</td>\n",
       "      <td>-0.545165</td>\n",
       "      <td>-0.128504</td>\n",
       "    </tr>\n",
       "    <tr>\n",
       "      <th>E</th>\n",
       "      <td>1.409883</td>\n",
       "      <td>-0.997688</td>\n",
       "      <td>-0.773334</td>\n",
       "      <td>0.606940</td>\n",
       "    </tr>\n",
       "  </tbody>\n",
       "</table>\n",
       "</div>"
      ],
      "text/plain": [
       "          W         X         Y         Z\n",
       "A -0.350665  1.515996  0.885111 -0.661080\n",
       "B -0.204711  3.104169  1.138570 -0.413935\n",
       "C  1.142544 -0.843924 -0.186393  0.142881\n",
       "D  1.407652  0.791607 -0.545165 -0.128504\n",
       "E  1.409883 -0.997688 -0.773334  0.606940"
      ]
     },
     "execution_count": 285,
     "metadata": {},
     "output_type": "execute_result"
    }
   ],
   "source": [
    "#Ejemplo:\n",
    "\n",
    "import numpy as np\n",
    "np.random.seed(1976)\n",
    "df = pd.DataFrame(data = np.random.randn(5,4), # genera matriz de 5x4 con numeros aleatorios de distribucion normal\n",
    "                  index = ['A','B','C','D','E'],\n",
    "                  columns = ['W','X','Y','Z'])\n",
    "df\n"
   ]
  },
  {
   "cell_type": "markdown",
   "id": "5af9feee",
   "metadata": {},
   "source": [
    "##### Seleccion logica de datos \n"
   ]
  },
  {
   "cell_type": "code",
   "execution_count": 192,
   "id": "eaf9d282",
   "metadata": {},
   "outputs": [
    {
     "data": {
      "text/html": [
       "<div>\n",
       "<style scoped>\n",
       "    .dataframe tbody tr th:only-of-type {\n",
       "        vertical-align: middle;\n",
       "    }\n",
       "\n",
       "    .dataframe tbody tr th {\n",
       "        vertical-align: top;\n",
       "    }\n",
       "\n",
       "    .dataframe thead th {\n",
       "        text-align: right;\n",
       "    }\n",
       "</style>\n",
       "<table border=\"1\" class=\"dataframe\">\n",
       "  <thead>\n",
       "    <tr style=\"text-align: right;\">\n",
       "      <th></th>\n",
       "      <th>W</th>\n",
       "      <th>X</th>\n",
       "      <th>Y</th>\n",
       "      <th>Z</th>\n",
       "    </tr>\n",
       "  </thead>\n",
       "  <tbody>\n",
       "    <tr>\n",
       "      <th>A</th>\n",
       "      <td>False</td>\n",
       "      <td>True</td>\n",
       "      <td>True</td>\n",
       "      <td>False</td>\n",
       "    </tr>\n",
       "    <tr>\n",
       "      <th>B</th>\n",
       "      <td>False</td>\n",
       "      <td>True</td>\n",
       "      <td>True</td>\n",
       "      <td>False</td>\n",
       "    </tr>\n",
       "    <tr>\n",
       "      <th>C</th>\n",
       "      <td>True</td>\n",
       "      <td>False</td>\n",
       "      <td>False</td>\n",
       "      <td>False</td>\n",
       "    </tr>\n",
       "    <tr>\n",
       "      <th>D</th>\n",
       "      <td>True</td>\n",
       "      <td>True</td>\n",
       "      <td>False</td>\n",
       "      <td>False</td>\n",
       "    </tr>\n",
       "    <tr>\n",
       "      <th>E</th>\n",
       "      <td>True</td>\n",
       "      <td>False</td>\n",
       "      <td>False</td>\n",
       "      <td>True</td>\n",
       "    </tr>\n",
       "  </tbody>\n",
       "</table>\n",
       "</div>"
      ],
      "text/plain": [
       "       W      X      Y      Z\n",
       "A  False   True   True  False\n",
       "B  False   True   True  False\n",
       "C   True  False  False  False\n",
       "D   True   True  False  False\n",
       "E   True  False  False   True"
      ]
     },
     "execution_count": 192,
     "metadata": {},
     "output_type": "execute_result"
    }
   ],
   "source": [
    "df>0.5 # Obtengo una matriz de datos booleanos"
   ]
  },
  {
   "cell_type": "code",
   "execution_count": 193,
   "id": "e8506eb0",
   "metadata": {},
   "outputs": [
    {
     "data": {
      "text/html": [
       "<div>\n",
       "<style scoped>\n",
       "    .dataframe tbody tr th:only-of-type {\n",
       "        vertical-align: middle;\n",
       "    }\n",
       "\n",
       "    .dataframe tbody tr th {\n",
       "        vertical-align: top;\n",
       "    }\n",
       "\n",
       "    .dataframe thead th {\n",
       "        text-align: right;\n",
       "    }\n",
       "</style>\n",
       "<table border=\"1\" class=\"dataframe\">\n",
       "  <thead>\n",
       "    <tr style=\"text-align: right;\">\n",
       "      <th></th>\n",
       "      <th>W</th>\n",
       "      <th>X</th>\n",
       "      <th>Y</th>\n",
       "      <th>Z</th>\n",
       "    </tr>\n",
       "  </thead>\n",
       "  <tbody>\n",
       "    <tr>\n",
       "      <th>A</th>\n",
       "      <td>NaN</td>\n",
       "      <td>1.515996</td>\n",
       "      <td>0.885111</td>\n",
       "      <td>NaN</td>\n",
       "    </tr>\n",
       "    <tr>\n",
       "      <th>B</th>\n",
       "      <td>NaN</td>\n",
       "      <td>3.104169</td>\n",
       "      <td>1.138570</td>\n",
       "      <td>NaN</td>\n",
       "    </tr>\n",
       "    <tr>\n",
       "      <th>C</th>\n",
       "      <td>1.142544</td>\n",
       "      <td>NaN</td>\n",
       "      <td>NaN</td>\n",
       "      <td>NaN</td>\n",
       "    </tr>\n",
       "    <tr>\n",
       "      <th>D</th>\n",
       "      <td>1.407652</td>\n",
       "      <td>0.791607</td>\n",
       "      <td>NaN</td>\n",
       "      <td>NaN</td>\n",
       "    </tr>\n",
       "    <tr>\n",
       "      <th>E</th>\n",
       "      <td>1.409883</td>\n",
       "      <td>NaN</td>\n",
       "      <td>NaN</td>\n",
       "      <td>0.60694</td>\n",
       "    </tr>\n",
       "  </tbody>\n",
       "</table>\n",
       "</div>"
      ],
      "text/plain": [
       "          W         X         Y        Z\n",
       "A       NaN  1.515996  0.885111      NaN\n",
       "B       NaN  3.104169  1.138570      NaN\n",
       "C  1.142544       NaN       NaN      NaN\n",
       "D  1.407652  0.791607       NaN      NaN\n",
       "E  1.409883       NaN       NaN  0.60694"
      ]
     },
     "execution_count": 193,
     "metadata": {},
     "output_type": "execute_result"
    }
   ],
   "source": [
    "# Para recuperar los DATOS que cumplen la condicion \n",
    "\n",
    "df[df>0.5] # el dataframe y el df de la condicion logica dentro de []\n",
    "\n",
    "# Devuelve la matriz de datos de los que cumplen de la condicion y en los que no devuelve NaN"
   ]
  },
  {
   "cell_type": "markdown",
   "id": "8d3ba749",
   "metadata": {},
   "source": [
    "Ejercicio: realizar la consulta que devuelva aquellos valores de la columna W que sean mayores a 1.20"
   ]
  },
  {
   "cell_type": "code",
   "execution_count": 195,
   "id": "69479d82",
   "metadata": {},
   "outputs": [
    {
     "data": {
      "text/plain": [
       "D    1.407652\n",
       "E    1.409883\n",
       "Name: W, dtype: float64"
      ]
     },
     "execution_count": 195,
     "metadata": {},
     "output_type": "execute_result"
    }
   ],
   "source": [
    "df[df['W']>1.20]['W'] # primero selecciono el df que cumple la condicion logica y luego me quedo solo con la columna W "
   ]
  },
  {
   "cell_type": "markdown",
   "id": "530674d0",
   "metadata": {},
   "source": [
    "Ejercicio: realiza una consulta que seleccione las filas de W > 1.15 y de esas filas extraer los valores de la columna Y"
   ]
  },
  {
   "cell_type": "code",
   "execution_count": 196,
   "id": "777db5f3",
   "metadata": {},
   "outputs": [
    {
     "data": {
      "text/html": [
       "<div>\n",
       "<style scoped>\n",
       "    .dataframe tbody tr th:only-of-type {\n",
       "        vertical-align: middle;\n",
       "    }\n",
       "\n",
       "    .dataframe tbody tr th {\n",
       "        vertical-align: top;\n",
       "    }\n",
       "\n",
       "    .dataframe thead th {\n",
       "        text-align: right;\n",
       "    }\n",
       "</style>\n",
       "<table border=\"1\" class=\"dataframe\">\n",
       "  <thead>\n",
       "    <tr style=\"text-align: right;\">\n",
       "      <th></th>\n",
       "      <th>W</th>\n",
       "      <th>X</th>\n",
       "      <th>Y</th>\n",
       "      <th>Z</th>\n",
       "    </tr>\n",
       "  </thead>\n",
       "  <tbody>\n",
       "    <tr>\n",
       "      <th>A</th>\n",
       "      <td>-0.350665</td>\n",
       "      <td>1.515996</td>\n",
       "      <td>0.885111</td>\n",
       "      <td>-0.661080</td>\n",
       "    </tr>\n",
       "    <tr>\n",
       "      <th>B</th>\n",
       "      <td>-0.204711</td>\n",
       "      <td>3.104169</td>\n",
       "      <td>1.138570</td>\n",
       "      <td>-0.413935</td>\n",
       "    </tr>\n",
       "    <tr>\n",
       "      <th>C</th>\n",
       "      <td>1.142544</td>\n",
       "      <td>-0.843924</td>\n",
       "      <td>-0.186393</td>\n",
       "      <td>0.142881</td>\n",
       "    </tr>\n",
       "    <tr>\n",
       "      <th>D</th>\n",
       "      <td>1.407652</td>\n",
       "      <td>0.791607</td>\n",
       "      <td>-0.545165</td>\n",
       "      <td>-0.128504</td>\n",
       "    </tr>\n",
       "    <tr>\n",
       "      <th>E</th>\n",
       "      <td>1.409883</td>\n",
       "      <td>-0.997688</td>\n",
       "      <td>-0.773334</td>\n",
       "      <td>0.606940</td>\n",
       "    </tr>\n",
       "  </tbody>\n",
       "</table>\n",
       "</div>"
      ],
      "text/plain": [
       "          W         X         Y         Z\n",
       "A -0.350665  1.515996  0.885111 -0.661080\n",
       "B -0.204711  3.104169  1.138570 -0.413935\n",
       "C  1.142544 -0.843924 -0.186393  0.142881\n",
       "D  1.407652  0.791607 -0.545165 -0.128504\n",
       "E  1.409883 -0.997688 -0.773334  0.606940"
      ]
     },
     "execution_count": 196,
     "metadata": {},
     "output_type": "execute_result"
    }
   ],
   "source": [
    "df"
   ]
  },
  {
   "cell_type": "code",
   "execution_count": 197,
   "id": "38027032",
   "metadata": {},
   "outputs": [
    {
     "data": {
      "text/plain": [
       "D   -0.545165\n",
       "E   -0.773334\n",
       "Name: Y, dtype: float64"
      ]
     },
     "execution_count": 197,
     "metadata": {},
     "output_type": "execute_result"
    }
   ],
   "source": [
    "df[df['W']>1.15]['Y']"
   ]
  },
  {
   "cell_type": "markdown",
   "id": "a4409990",
   "metadata": {},
   "source": [
    "Ejercicio: realiza una consulta que selecione las filas de Z < 0 y de esas filas extraer todas las columnas menos la Y."
   ]
  },
  {
   "cell_type": "code",
   "execution_count": 198,
   "id": "d4c15c31",
   "metadata": {},
   "outputs": [
    {
     "data": {
      "text/html": [
       "<div>\n",
       "<style scoped>\n",
       "    .dataframe tbody tr th:only-of-type {\n",
       "        vertical-align: middle;\n",
       "    }\n",
       "\n",
       "    .dataframe tbody tr th {\n",
       "        vertical-align: top;\n",
       "    }\n",
       "\n",
       "    .dataframe thead th {\n",
       "        text-align: right;\n",
       "    }\n",
       "</style>\n",
       "<table border=\"1\" class=\"dataframe\">\n",
       "  <thead>\n",
       "    <tr style=\"text-align: right;\">\n",
       "      <th></th>\n",
       "      <th>W</th>\n",
       "      <th>X</th>\n",
       "      <th>Z</th>\n",
       "    </tr>\n",
       "  </thead>\n",
       "  <tbody>\n",
       "    <tr>\n",
       "      <th>A</th>\n",
       "      <td>-0.350665</td>\n",
       "      <td>1.515996</td>\n",
       "      <td>-0.661080</td>\n",
       "    </tr>\n",
       "    <tr>\n",
       "      <th>B</th>\n",
       "      <td>-0.204711</td>\n",
       "      <td>3.104169</td>\n",
       "      <td>-0.413935</td>\n",
       "    </tr>\n",
       "    <tr>\n",
       "      <th>D</th>\n",
       "      <td>1.407652</td>\n",
       "      <td>0.791607</td>\n",
       "      <td>-0.128504</td>\n",
       "    </tr>\n",
       "  </tbody>\n",
       "</table>\n",
       "</div>"
      ],
      "text/plain": [
       "          W         X         Z\n",
       "A -0.350665  1.515996 -0.661080\n",
       "B -0.204711  3.104169 -0.413935\n",
       "D  1.407652  0.791607 -0.128504"
      ]
     },
     "execution_count": 198,
     "metadata": {},
     "output_type": "execute_result"
    }
   ],
   "source": [
    "df[df['Z']<0].drop('Y',axis=1) # para quitar Y la borro sin borrar (solo la elimina de la visualizacion)"
   ]
  },
  {
   "cell_type": "code",
   "execution_count": 199,
   "id": "1d0a13b9",
   "metadata": {},
   "outputs": [],
   "source": [
    "#df[df['Z']<0]['W','X','Z']"
   ]
  },
  {
   "cell_type": "markdown",
   "id": "caade300",
   "metadata": {},
   "source": [
    "* Para recuperar los DATOS que cumplen VARIAS CONDICIONES LOGICAS\n",
    "\n",
    "    df[() operador ()]"
   ]
  },
  {
   "cell_type": "markdown",
   "id": "15b65631",
   "metadata": {},
   "source": [
    "Ejercicio: Realizar una consulta que seleccione las filas W<0 y donde Y>0.5"
   ]
  },
  {
   "cell_type": "code",
   "execution_count": 200,
   "id": "3a4de2d7",
   "metadata": {},
   "outputs": [
    {
     "data": {
      "text/html": [
       "<div>\n",
       "<style scoped>\n",
       "    .dataframe tbody tr th:only-of-type {\n",
       "        vertical-align: middle;\n",
       "    }\n",
       "\n",
       "    .dataframe tbody tr th {\n",
       "        vertical-align: top;\n",
       "    }\n",
       "\n",
       "    .dataframe thead th {\n",
       "        text-align: right;\n",
       "    }\n",
       "</style>\n",
       "<table border=\"1\" class=\"dataframe\">\n",
       "  <thead>\n",
       "    <tr style=\"text-align: right;\">\n",
       "      <th></th>\n",
       "      <th>W</th>\n",
       "      <th>X</th>\n",
       "      <th>Y</th>\n",
       "      <th>Z</th>\n",
       "    </tr>\n",
       "  </thead>\n",
       "  <tbody>\n",
       "    <tr>\n",
       "      <th>A</th>\n",
       "      <td>-0.350665</td>\n",
       "      <td>1.515996</td>\n",
       "      <td>0.885111</td>\n",
       "      <td>-0.661080</td>\n",
       "    </tr>\n",
       "    <tr>\n",
       "      <th>B</th>\n",
       "      <td>-0.204711</td>\n",
       "      <td>3.104169</td>\n",
       "      <td>1.138570</td>\n",
       "      <td>-0.413935</td>\n",
       "    </tr>\n",
       "  </tbody>\n",
       "</table>\n",
       "</div>"
      ],
      "text/plain": [
       "          W         X         Y         Z\n",
       "A -0.350665  1.515996  0.885111 -0.661080\n",
       "B -0.204711  3.104169  1.138570 -0.413935"
      ]
     },
     "execution_count": 200,
     "metadata": {},
     "output_type": "execute_result"
    }
   ],
   "source": [
    "df[df['W']<0]"
   ]
  },
  {
   "cell_type": "code",
   "execution_count": 201,
   "id": "2f094f4c",
   "metadata": {},
   "outputs": [
    {
     "data": {
      "text/html": [
       "<div>\n",
       "<style scoped>\n",
       "    .dataframe tbody tr th:only-of-type {\n",
       "        vertical-align: middle;\n",
       "    }\n",
       "\n",
       "    .dataframe tbody tr th {\n",
       "        vertical-align: top;\n",
       "    }\n",
       "\n",
       "    .dataframe thead th {\n",
       "        text-align: right;\n",
       "    }\n",
       "</style>\n",
       "<table border=\"1\" class=\"dataframe\">\n",
       "  <thead>\n",
       "    <tr style=\"text-align: right;\">\n",
       "      <th></th>\n",
       "      <th>W</th>\n",
       "      <th>X</th>\n",
       "      <th>Y</th>\n",
       "      <th>Z</th>\n",
       "    </tr>\n",
       "  </thead>\n",
       "  <tbody>\n",
       "    <tr>\n",
       "      <th>A</th>\n",
       "      <td>-0.350665</td>\n",
       "      <td>1.515996</td>\n",
       "      <td>0.885111</td>\n",
       "      <td>-0.661080</td>\n",
       "    </tr>\n",
       "    <tr>\n",
       "      <th>B</th>\n",
       "      <td>-0.204711</td>\n",
       "      <td>3.104169</td>\n",
       "      <td>1.138570</td>\n",
       "      <td>-0.413935</td>\n",
       "    </tr>\n",
       "  </tbody>\n",
       "</table>\n",
       "</div>"
      ],
      "text/plain": [
       "          W         X         Y         Z\n",
       "A -0.350665  1.515996  0.885111 -0.661080\n",
       "B -0.204711  3.104169  1.138570 -0.413935"
      ]
     },
     "execution_count": 201,
     "metadata": {},
     "output_type": "execute_result"
    }
   ],
   "source": [
    "df[df['Y']>0.5]"
   ]
  },
  {
   "cell_type": "code",
   "execution_count": 202,
   "id": "61fc9318",
   "metadata": {},
   "outputs": [
    {
     "data": {
      "text/html": [
       "<div>\n",
       "<style scoped>\n",
       "    .dataframe tbody tr th:only-of-type {\n",
       "        vertical-align: middle;\n",
       "    }\n",
       "\n",
       "    .dataframe tbody tr th {\n",
       "        vertical-align: top;\n",
       "    }\n",
       "\n",
       "    .dataframe thead th {\n",
       "        text-align: right;\n",
       "    }\n",
       "</style>\n",
       "<table border=\"1\" class=\"dataframe\">\n",
       "  <thead>\n",
       "    <tr style=\"text-align: right;\">\n",
       "      <th></th>\n",
       "      <th>W</th>\n",
       "      <th>X</th>\n",
       "      <th>Y</th>\n",
       "      <th>Z</th>\n",
       "    </tr>\n",
       "  </thead>\n",
       "  <tbody>\n",
       "    <tr>\n",
       "      <th>A</th>\n",
       "      <td>-0.350665</td>\n",
       "      <td>1.515996</td>\n",
       "      <td>0.885111</td>\n",
       "      <td>-0.661080</td>\n",
       "    </tr>\n",
       "    <tr>\n",
       "      <th>B</th>\n",
       "      <td>-0.204711</td>\n",
       "      <td>3.104169</td>\n",
       "      <td>1.138570</td>\n",
       "      <td>-0.413935</td>\n",
       "    </tr>\n",
       "  </tbody>\n",
       "</table>\n",
       "</div>"
      ],
      "text/plain": [
       "          W         X         Y         Z\n",
       "A -0.350665  1.515996  0.885111 -0.661080\n",
       "B -0.204711  3.104169  1.138570 -0.413935"
      ]
     },
     "execution_count": 202,
     "metadata": {},
     "output_type": "execute_result"
    }
   ],
   "source": [
    "df[(df['W']<0) & (df['Y']>0.5)] # Meto dentro de los () las condiciones"
   ]
  },
  {
   "cell_type": "markdown",
   "id": "ae7d2819",
   "metadata": {},
   "source": [
    "#### Aplicar funciones lambda a DataFrames "
   ]
  },
  {
   "cell_type": "code",
   "execution_count": 1,
   "id": "48641903",
   "metadata": {},
   "outputs": [],
   "source": [
    "## funcion lambda con if/else"
   ]
  },
  {
   "cell_type": "code",
   "execution_count": null,
   "id": "56510979",
   "metadata": {},
   "outputs": [],
   "source": [
    "df_mpg['marca']=df_mpg['name'].apply(lambda x: x[0:x.index(' ')].upper() if ' ' in x else x.upper())"
   ]
  },
  {
   "cell_type": "markdown",
   "id": "8fb09004",
   "metadata": {},
   "source": [
    "##### Funcion de alto nivel QUERY (es igualmente eficiente pero aumenta la legilibilidad)\n",
    "\n",
    "Observar la notacion: \n",
    "\n",
    "* la condicion deben ir entre 'condicion simple o compleja'. \n",
    "* las variables se nombran directamente sin entrecomillado.\n",
    "* Los operadores para query son:\n",
    "    \n",
    "    * & operador and\n",
    "    * | operador or\n",
    "    * ~ operador not"
   ]
  },
  {
   "cell_type": "code",
   "execution_count": 203,
   "id": "b5e41c9b",
   "metadata": {},
   "outputs": [
    {
     "data": {
      "text/plain": [
       "A   -0.661080\n",
       "B   -0.413935\n",
       "Name: Z, dtype: float64"
      ]
     },
     "execution_count": 203,
     "metadata": {},
     "output_type": "execute_result"
    }
   ],
   "source": [
    "df.query('W<0 & Y>0.5')['Z'] # la misma consulta anterior pero con query. Solo muestra la columna Z"
   ]
  },
  {
   "cell_type": "code",
   "execution_count": 204,
   "id": "67a3e0fa",
   "metadata": {},
   "outputs": [
    {
     "data": {
      "text/html": [
       "<div>\n",
       "<style scoped>\n",
       "    .dataframe tbody tr th:only-of-type {\n",
       "        vertical-align: middle;\n",
       "    }\n",
       "\n",
       "    .dataframe tbody tr th {\n",
       "        vertical-align: top;\n",
       "    }\n",
       "\n",
       "    .dataframe thead th {\n",
       "        text-align: right;\n",
       "    }\n",
       "</style>\n",
       "<table border=\"1\" class=\"dataframe\">\n",
       "  <thead>\n",
       "    <tr style=\"text-align: right;\">\n",
       "      <th></th>\n",
       "      <th>W</th>\n",
       "      <th>X</th>\n",
       "      <th>Y</th>\n",
       "      <th>Z</th>\n",
       "    </tr>\n",
       "  </thead>\n",
       "  <tbody>\n",
       "    <tr>\n",
       "      <th>A</th>\n",
       "      <td>-0.350665</td>\n",
       "      <td>1.515996</td>\n",
       "      <td>0.885111</td>\n",
       "      <td>-0.661080</td>\n",
       "    </tr>\n",
       "    <tr>\n",
       "      <th>B</th>\n",
       "      <td>-0.204711</td>\n",
       "      <td>3.104169</td>\n",
       "      <td>1.138570</td>\n",
       "      <td>-0.413935</td>\n",
       "    </tr>\n",
       "    <tr>\n",
       "      <th>C</th>\n",
       "      <td>1.142544</td>\n",
       "      <td>-0.843924</td>\n",
       "      <td>-0.186393</td>\n",
       "      <td>0.142881</td>\n",
       "    </tr>\n",
       "    <tr>\n",
       "      <th>D</th>\n",
       "      <td>1.407652</td>\n",
       "      <td>0.791607</td>\n",
       "      <td>-0.545165</td>\n",
       "      <td>-0.128504</td>\n",
       "    </tr>\n",
       "    <tr>\n",
       "      <th>E</th>\n",
       "      <td>1.409883</td>\n",
       "      <td>-0.997688</td>\n",
       "      <td>-0.773334</td>\n",
       "      <td>0.606940</td>\n",
       "    </tr>\n",
       "  </tbody>\n",
       "</table>\n",
       "</div>"
      ],
      "text/plain": [
       "          W         X         Y         Z\n",
       "A -0.350665  1.515996  0.885111 -0.661080\n",
       "B -0.204711  3.104169  1.138570 -0.413935\n",
       "C  1.142544 -0.843924 -0.186393  0.142881\n",
       "D  1.407652  0.791607 -0.545165 -0.128504\n",
       "E  1.409883 -0.997688 -0.773334  0.606940"
      ]
     },
     "execution_count": 204,
     "metadata": {},
     "output_type": "execute_result"
    }
   ],
   "source": [
    "df"
   ]
  },
  {
   "cell_type": "markdown",
   "id": "97d6a634",
   "metadata": {},
   "source": [
    "Ejercicio: realizar una consulta donde W<0 y donde X>3 o que nueva3 tenga un valor positivo. Devolver todas las columnas. "
   ]
  },
  {
   "cell_type": "code",
   "execution_count": 205,
   "id": "f6292ead",
   "metadata": {},
   "outputs": [
    {
     "data": {
      "text/html": [
       "<div>\n",
       "<style scoped>\n",
       "    .dataframe tbody tr th:only-of-type {\n",
       "        vertical-align: middle;\n",
       "    }\n",
       "\n",
       "    .dataframe tbody tr th {\n",
       "        vertical-align: top;\n",
       "    }\n",
       "\n",
       "    .dataframe thead th {\n",
       "        text-align: right;\n",
       "    }\n",
       "</style>\n",
       "<table border=\"1\" class=\"dataframe\">\n",
       "  <thead>\n",
       "    <tr style=\"text-align: right;\">\n",
       "      <th></th>\n",
       "      <th>W</th>\n",
       "      <th>X</th>\n",
       "      <th>Y</th>\n",
       "      <th>Z</th>\n",
       "      <th>Nueva3</th>\n",
       "    </tr>\n",
       "  </thead>\n",
       "  <tbody>\n",
       "    <tr>\n",
       "      <th>A</th>\n",
       "      <td>-0.350665</td>\n",
       "      <td>1.515996</td>\n",
       "      <td>0.885111</td>\n",
       "      <td>-0.661080</td>\n",
       "      <td>10</td>\n",
       "    </tr>\n",
       "    <tr>\n",
       "      <th>B</th>\n",
       "      <td>-0.204711</td>\n",
       "      <td>3.104169</td>\n",
       "      <td>1.138570</td>\n",
       "      <td>-0.413935</td>\n",
       "      <td>11</td>\n",
       "    </tr>\n",
       "    <tr>\n",
       "      <th>C</th>\n",
       "      <td>1.142544</td>\n",
       "      <td>-0.843924</td>\n",
       "      <td>-0.186393</td>\n",
       "      <td>0.142881</td>\n",
       "      <td>12</td>\n",
       "    </tr>\n",
       "    <tr>\n",
       "      <th>D</th>\n",
       "      <td>1.407652</td>\n",
       "      <td>0.791607</td>\n",
       "      <td>-0.545165</td>\n",
       "      <td>-0.128504</td>\n",
       "      <td>13</td>\n",
       "    </tr>\n",
       "    <tr>\n",
       "      <th>E</th>\n",
       "      <td>1.409883</td>\n",
       "      <td>-0.997688</td>\n",
       "      <td>-0.773334</td>\n",
       "      <td>0.606940</td>\n",
       "      <td>14</td>\n",
       "    </tr>\n",
       "  </tbody>\n",
       "</table>\n",
       "</div>"
      ],
      "text/plain": [
       "          W         X         Y         Z  Nueva3\n",
       "A -0.350665  1.515996  0.885111 -0.661080      10\n",
       "B -0.204711  3.104169  1.138570 -0.413935      11\n",
       "C  1.142544 -0.843924 -0.186393  0.142881      12\n",
       "D  1.407652  0.791607 -0.545165 -0.128504      13\n",
       "E  1.409883 -0.997688 -0.773334  0.606940      14"
      ]
     },
     "execution_count": 205,
     "metadata": {},
     "output_type": "execute_result"
    }
   ],
   "source": [
    "df['Nueva3']=[10,11,12,13,14] # mediante lista\n",
    "df"
   ]
  },
  {
   "cell_type": "code",
   "execution_count": 206,
   "id": "fbfcc38e",
   "metadata": {},
   "outputs": [
    {
     "data": {
      "text/html": [
       "<div>\n",
       "<style scoped>\n",
       "    .dataframe tbody tr th:only-of-type {\n",
       "        vertical-align: middle;\n",
       "    }\n",
       "\n",
       "    .dataframe tbody tr th {\n",
       "        vertical-align: top;\n",
       "    }\n",
       "\n",
       "    .dataframe thead th {\n",
       "        text-align: right;\n",
       "    }\n",
       "</style>\n",
       "<table border=\"1\" class=\"dataframe\">\n",
       "  <thead>\n",
       "    <tr style=\"text-align: right;\">\n",
       "      <th></th>\n",
       "      <th>W</th>\n",
       "      <th>X</th>\n",
       "      <th>Y</th>\n",
       "      <th>Z</th>\n",
       "      <th>Nueva3</th>\n",
       "    </tr>\n",
       "  </thead>\n",
       "  <tbody>\n",
       "    <tr>\n",
       "      <th>A</th>\n",
       "      <td>-0.350665</td>\n",
       "      <td>1.515996</td>\n",
       "      <td>0.885111</td>\n",
       "      <td>-0.661080</td>\n",
       "      <td>10</td>\n",
       "    </tr>\n",
       "    <tr>\n",
       "      <th>B</th>\n",
       "      <td>-0.204711</td>\n",
       "      <td>3.104169</td>\n",
       "      <td>1.138570</td>\n",
       "      <td>-0.413935</td>\n",
       "      <td>11</td>\n",
       "    </tr>\n",
       "  </tbody>\n",
       "</table>\n",
       "</div>"
      ],
      "text/plain": [
       "          W         X         Y         Z  Nueva3\n",
       "A -0.350665  1.515996  0.885111 -0.661080      10\n",
       "B -0.204711  3.104169  1.138570 -0.413935      11"
      ]
     },
     "execution_count": 206,
     "metadata": {},
     "output_type": "execute_result"
    }
   ],
   "source": [
    "df.query('W<0 & (X>3 | Nueva3>0)')"
   ]
  },
  {
   "cell_type": "code",
   "execution_count": null,
   "id": "fc272c76",
   "metadata": {},
   "outputs": [],
   "source": []
  },
  {
   "cell_type": "markdown",
   "id": "9ab863bb",
   "metadata": {},
   "source": [
    "#### Agrupacion de datos por filas\n",
    "\n",
    "* Funcion de alto nivel .groupby('<variable>') \n",
    "    \n",
    "Agrupa por la fila para posteriormente aplicar una funcion de alto nivel que calcule para cada agrupacion obteniendo informacion agregada de cada grupo.\n",
    "    \n",
    "* Parametros: \n",
    "    * by=\\<variable> # variable o lista de variables [] a agregar \n",
    "    * sort=True # Ordena por el/los dato/s de agregacion.\n",
    "    * dropna= False # Coge o no los None.\n",
    "    \n",
    "Las funciones de alto nivel que se pueden aplicar a groupby son:\n",
    "    \n",
    "    * mean()\n",
    "    * std()\n",
    "    * min()\n",
    "    * max()\n",
    "    * count()\n",
    "    * median()\n",
    "    * describe()\n",
    "    * sum()\n",
    "    \n",
    "  NOTA: Siempre que se haga una agrupacion se debe indicar una funcion de agregacion y sobre que variable se va a calcular, sino calcula sobre todas."
   ]
  },
  {
   "cell_type": "code",
   "execution_count": 36,
   "id": "26121f48",
   "metadata": {},
   "outputs": [],
   "source": [
    "dfC=pd.DataFrame({'Concesionario':['Madrid','Bilbao','Canarias','Barcelona','Valencia'],\n",
    "    'Gerente':['Jorge','Iñaki','Jorge','Pau','Xavier'],\n",
    "    'Personal':[30,20,10,30,25],\n",
    "    'Ventas':[200,120,300,120,200]})"
   ]
  },
  {
   "cell_type": "code",
   "execution_count": 208,
   "id": "4c438806",
   "metadata": {},
   "outputs": [
    {
     "data": {
      "text/html": [
       "<div>\n",
       "<style scoped>\n",
       "    .dataframe tbody tr th:only-of-type {\n",
       "        vertical-align: middle;\n",
       "    }\n",
       "\n",
       "    .dataframe tbody tr th {\n",
       "        vertical-align: top;\n",
       "    }\n",
       "\n",
       "    .dataframe thead th {\n",
       "        text-align: right;\n",
       "    }\n",
       "</style>\n",
       "<table border=\"1\" class=\"dataframe\">\n",
       "  <thead>\n",
       "    <tr style=\"text-align: right;\">\n",
       "      <th></th>\n",
       "      <th>Concesionario</th>\n",
       "      <th>Gerente</th>\n",
       "      <th>Personal</th>\n",
       "      <th>Ventas</th>\n",
       "    </tr>\n",
       "  </thead>\n",
       "  <tbody>\n",
       "    <tr>\n",
       "      <th>0</th>\n",
       "      <td>Madrid</td>\n",
       "      <td>Jorge</td>\n",
       "      <td>30</td>\n",
       "      <td>200</td>\n",
       "    </tr>\n",
       "    <tr>\n",
       "      <th>1</th>\n",
       "      <td>Bilbao</td>\n",
       "      <td>Iñaki</td>\n",
       "      <td>20</td>\n",
       "      <td>120</td>\n",
       "    </tr>\n",
       "    <tr>\n",
       "      <th>2</th>\n",
       "      <td>Canarias</td>\n",
       "      <td>Jorge</td>\n",
       "      <td>10</td>\n",
       "      <td>300</td>\n",
       "    </tr>\n",
       "    <tr>\n",
       "      <th>3</th>\n",
       "      <td>Barcelona</td>\n",
       "      <td>Pau</td>\n",
       "      <td>30</td>\n",
       "      <td>120</td>\n",
       "    </tr>\n",
       "    <tr>\n",
       "      <th>4</th>\n",
       "      <td>Valencia</td>\n",
       "      <td>Xavier</td>\n",
       "      <td>25</td>\n",
       "      <td>200</td>\n",
       "    </tr>\n",
       "  </tbody>\n",
       "</table>\n",
       "</div>"
      ],
      "text/plain": [
       "  Concesionario Gerente  Personal  Ventas\n",
       "0        Madrid   Jorge        30     200\n",
       "1        Bilbao   Iñaki        20     120\n",
       "2      Canarias   Jorge        10     300\n",
       "3     Barcelona     Pau        30     120\n",
       "4      Valencia  Xavier        25     200"
      ]
     },
     "execution_count": 208,
     "metadata": {},
     "output_type": "execute_result"
    }
   ],
   "source": [
    "dfC"
   ]
  },
  {
   "cell_type": "code",
   "execution_count": 209,
   "id": "2759ced0",
   "metadata": {},
   "outputs": [
    {
     "data": {
      "text/html": [
       "<div>\n",
       "<style scoped>\n",
       "    .dataframe tbody tr th:only-of-type {\n",
       "        vertical-align: middle;\n",
       "    }\n",
       "\n",
       "    .dataframe tbody tr th {\n",
       "        vertical-align: top;\n",
       "    }\n",
       "\n",
       "    .dataframe thead th {\n",
       "        text-align: right;\n",
       "    }\n",
       "</style>\n",
       "<table border=\"1\" class=\"dataframe\">\n",
       "  <thead>\n",
       "    <tr style=\"text-align: right;\">\n",
       "      <th></th>\n",
       "      <th>count</th>\n",
       "      <th>mean</th>\n",
       "      <th>std</th>\n",
       "      <th>min</th>\n",
       "      <th>25%</th>\n",
       "      <th>50%</th>\n",
       "      <th>75%</th>\n",
       "      <th>max</th>\n",
       "    </tr>\n",
       "  </thead>\n",
       "  <tbody>\n",
       "    <tr>\n",
       "      <th>Personal</th>\n",
       "      <td>5.0</td>\n",
       "      <td>23.0</td>\n",
       "      <td>8.366600</td>\n",
       "      <td>10.0</td>\n",
       "      <td>20.0</td>\n",
       "      <td>25.0</td>\n",
       "      <td>30.0</td>\n",
       "      <td>30.0</td>\n",
       "    </tr>\n",
       "    <tr>\n",
       "      <th>Ventas</th>\n",
       "      <td>5.0</td>\n",
       "      <td>188.0</td>\n",
       "      <td>74.296702</td>\n",
       "      <td>120.0</td>\n",
       "      <td>120.0</td>\n",
       "      <td>200.0</td>\n",
       "      <td>200.0</td>\n",
       "      <td>300.0</td>\n",
       "    </tr>\n",
       "  </tbody>\n",
       "</table>\n",
       "</div>"
      ],
      "text/plain": [
       "          count   mean        std    min    25%    50%    75%    max\n",
       "Personal    5.0   23.0   8.366600   10.0   20.0   25.0   30.0   30.0\n",
       "Ventas      5.0  188.0  74.296702  120.0  120.0  200.0  200.0  300.0"
      ]
     },
     "execution_count": 209,
     "metadata": {},
     "output_type": "execute_result"
    }
   ],
   "source": [
    "dfC.describe().transpose() # se ven los calculos en columnas\n",
    "# se muestras las columnas numericas del DF"
   ]
  },
  {
   "cell_type": "code",
   "execution_count": 37,
   "id": "a598aa0b",
   "metadata": {},
   "outputs": [
    {
     "data": {
      "text/html": [
       "<div>\n",
       "<style scoped>\n",
       "    .dataframe tbody tr th:only-of-type {\n",
       "        vertical-align: middle;\n",
       "    }\n",
       "\n",
       "    .dataframe tbody tr th {\n",
       "        vertical-align: top;\n",
       "    }\n",
       "\n",
       "    .dataframe thead th {\n",
       "        text-align: right;\n",
       "    }\n",
       "</style>\n",
       "<table border=\"1\" class=\"dataframe\">\n",
       "  <thead>\n",
       "    <tr style=\"text-align: right;\">\n",
       "      <th></th>\n",
       "      <th>Personal</th>\n",
       "    </tr>\n",
       "    <tr>\n",
       "      <th>Gerente</th>\n",
       "      <th></th>\n",
       "    </tr>\n",
       "  </thead>\n",
       "  <tbody>\n",
       "    <tr>\n",
       "      <th>Iñaki</th>\n",
       "      <td>20.0</td>\n",
       "    </tr>\n",
       "    <tr>\n",
       "      <th>Jorge</th>\n",
       "      <td>20.0</td>\n",
       "    </tr>\n",
       "    <tr>\n",
       "      <th>Pau</th>\n",
       "      <td>30.0</td>\n",
       "    </tr>\n",
       "    <tr>\n",
       "      <th>Xavier</th>\n",
       "      <td>25.0</td>\n",
       "    </tr>\n",
       "  </tbody>\n",
       "</table>\n",
       "</div>"
      ],
      "text/plain": [
       "         Personal\n",
       "Gerente          \n",
       "Iñaki        20.0\n",
       "Jorge        20.0\n",
       "Pau          30.0\n",
       "Xavier       25.0"
      ]
     },
     "execution_count": 37,
     "metadata": {},
     "output_type": "execute_result"
    }
   ],
   "source": [
    "dfC.groupby(by='Gerente', sort=True).mean()[['Personal']] # Observar doble [[]] SE MUESTRA COMO TABLA!!"
   ]
  },
  {
   "cell_type": "code",
   "execution_count": 43,
   "id": "7bba285b",
   "metadata": {},
   "outputs": [
    {
     "data": {
      "text/plain": [
       "20.0"
      ]
     },
     "execution_count": 43,
     "metadata": {},
     "output_type": "execute_result"
    }
   ],
   "source": [
    "dfC.groupby(by='Gerente', sort=True).mean()[['Personal']].loc['Iñaki'][0] # despues de agrupar obtengo el dato que necesito"
   ]
  },
  {
   "cell_type": "code",
   "execution_count": 44,
   "id": "a96100dc",
   "metadata": {},
   "outputs": [
    {
     "data": {
      "text/plain": [
       "20"
      ]
     },
     "execution_count": 44,
     "metadata": {},
     "output_type": "execute_result"
    }
   ],
   "source": [
    "int(dfC.groupby(by='Gerente', sort=True).mean()[['Personal']].loc['Iñaki'][0]) ## ademas puedo anidar una transformacion de var"
   ]
  },
  {
   "cell_type": "code",
   "execution_count": 213,
   "id": "f3253059",
   "metadata": {},
   "outputs": [
    {
     "data": {
      "text/html": [
       "<div>\n",
       "<style scoped>\n",
       "    .dataframe tbody tr th:only-of-type {\n",
       "        vertical-align: middle;\n",
       "    }\n",
       "\n",
       "    .dataframe tbody tr th {\n",
       "        vertical-align: top;\n",
       "    }\n",
       "\n",
       "    .dataframe thead th {\n",
       "        text-align: right;\n",
       "    }\n",
       "</style>\n",
       "<table border=\"1\" class=\"dataframe\">\n",
       "  <thead>\n",
       "    <tr style=\"text-align: right;\">\n",
       "      <th></th>\n",
       "      <th>Gerente</th>\n",
       "      <th>Personal</th>\n",
       "      <th>Ventas</th>\n",
       "    </tr>\n",
       "    <tr>\n",
       "      <th>Concesionario</th>\n",
       "      <th></th>\n",
       "      <th></th>\n",
       "      <th></th>\n",
       "    </tr>\n",
       "  </thead>\n",
       "  <tbody>\n",
       "    <tr>\n",
       "      <th>Barcelona</th>\n",
       "      <td>1</td>\n",
       "      <td>1</td>\n",
       "      <td>1</td>\n",
       "    </tr>\n",
       "    <tr>\n",
       "      <th>Bilbao</th>\n",
       "      <td>1</td>\n",
       "      <td>1</td>\n",
       "      <td>1</td>\n",
       "    </tr>\n",
       "    <tr>\n",
       "      <th>Canarias</th>\n",
       "      <td>1</td>\n",
       "      <td>1</td>\n",
       "      <td>1</td>\n",
       "    </tr>\n",
       "    <tr>\n",
       "      <th>Madrid</th>\n",
       "      <td>1</td>\n",
       "      <td>1</td>\n",
       "      <td>1</td>\n",
       "    </tr>\n",
       "    <tr>\n",
       "      <th>Valencia</th>\n",
       "      <td>1</td>\n",
       "      <td>1</td>\n",
       "      <td>1</td>\n",
       "    </tr>\n",
       "  </tbody>\n",
       "</table>\n",
       "</div>"
      ],
      "text/plain": [
       "               Gerente  Personal  Ventas\n",
       "Concesionario                           \n",
       "Barcelona            1         1       1\n",
       "Bilbao               1         1       1\n",
       "Canarias             1         1       1\n",
       "Madrid               1         1       1\n",
       "Valencia             1         1       1"
      ]
     },
     "execution_count": 213,
     "metadata": {},
     "output_type": "execute_result"
    }
   ],
   "source": [
    "dfC.groupby(by='Concesionario').count() # sin no especifico calcula sobre todas las variables posibles."
   ]
  },
  {
   "cell_type": "code",
   "execution_count": 214,
   "id": "df9ec282",
   "metadata": {},
   "outputs": [
    {
     "data": {
      "text/html": [
       "<div>\n",
       "<style scoped>\n",
       "    .dataframe tbody tr th:only-of-type {\n",
       "        vertical-align: middle;\n",
       "    }\n",
       "\n",
       "    .dataframe tbody tr th {\n",
       "        vertical-align: top;\n",
       "    }\n",
       "\n",
       "    .dataframe thead th {\n",
       "        text-align: right;\n",
       "    }\n",
       "</style>\n",
       "<table border=\"1\" class=\"dataframe\">\n",
       "  <thead>\n",
       "    <tr style=\"text-align: right;\">\n",
       "      <th></th>\n",
       "      <th>Concesionario</th>\n",
       "      <th>Personal</th>\n",
       "      <th>Ventas</th>\n",
       "    </tr>\n",
       "    <tr>\n",
       "      <th>Gerente</th>\n",
       "      <th></th>\n",
       "      <th></th>\n",
       "      <th></th>\n",
       "    </tr>\n",
       "  </thead>\n",
       "  <tbody>\n",
       "    <tr>\n",
       "      <th>Iñaki</th>\n",
       "      <td>1</td>\n",
       "      <td>1</td>\n",
       "      <td>1</td>\n",
       "    </tr>\n",
       "    <tr>\n",
       "      <th>Jorge</th>\n",
       "      <td>2</td>\n",
       "      <td>2</td>\n",
       "      <td>2</td>\n",
       "    </tr>\n",
       "    <tr>\n",
       "      <th>Pau</th>\n",
       "      <td>1</td>\n",
       "      <td>1</td>\n",
       "      <td>1</td>\n",
       "    </tr>\n",
       "    <tr>\n",
       "      <th>Xavier</th>\n",
       "      <td>1</td>\n",
       "      <td>1</td>\n",
       "      <td>1</td>\n",
       "    </tr>\n",
       "  </tbody>\n",
       "</table>\n",
       "</div>"
      ],
      "text/plain": [
       "         Concesionario  Personal  Ventas\n",
       "Gerente                                 \n",
       "Iñaki                1         1       1\n",
       "Jorge                2         2       2\n",
       "Pau                  1         1       1\n",
       "Xavier               1         1       1"
      ]
     },
     "execution_count": 214,
     "metadata": {},
     "output_type": "execute_result"
    }
   ],
   "source": [
    "dfC.groupby(by='Gerente').count() "
   ]
  },
  {
   "cell_type": "code",
   "execution_count": 215,
   "id": "9116360e",
   "metadata": {},
   "outputs": [
    {
     "data": {
      "text/html": [
       "<div>\n",
       "<style scoped>\n",
       "    .dataframe tbody tr th:only-of-type {\n",
       "        vertical-align: middle;\n",
       "    }\n",
       "\n",
       "    .dataframe tbody tr th {\n",
       "        vertical-align: top;\n",
       "    }\n",
       "\n",
       "    .dataframe thead th {\n",
       "        text-align: right;\n",
       "    }\n",
       "</style>\n",
       "<table border=\"1\" class=\"dataframe\">\n",
       "  <thead>\n",
       "    <tr style=\"text-align: right;\">\n",
       "      <th></th>\n",
       "      <th>Concesionario</th>\n",
       "      <th>Personal</th>\n",
       "      <th>Ventas</th>\n",
       "    </tr>\n",
       "    <tr>\n",
       "      <th>Gerente</th>\n",
       "      <th></th>\n",
       "      <th></th>\n",
       "      <th></th>\n",
       "    </tr>\n",
       "  </thead>\n",
       "  <tbody>\n",
       "    <tr>\n",
       "      <th>Jorge</th>\n",
       "      <td>2</td>\n",
       "      <td>2</td>\n",
       "      <td>2</td>\n",
       "    </tr>\n",
       "  </tbody>\n",
       "</table>\n",
       "</div>"
      ],
      "text/plain": [
       "         Concesionario  Personal  Ventas\n",
       "Gerente                                 \n",
       "Jorge                2         2       2"
      ]
     },
     "execution_count": 215,
     "metadata": {},
     "output_type": "execute_result"
    }
   ],
   "source": [
    "dfC.groupby(by='Gerente').count().query('Ventas > 1') # para ver las filas que estan repetidas por Gerente\n",
    "# inclui por detras del df que resulta de agrupar y contar, la query de ventas>1  REPETIDOS!!! DUPLICADOS!!"
   ]
  },
  {
   "cell_type": "code",
   "execution_count": 216,
   "id": "371da9f8",
   "metadata": {},
   "outputs": [
    {
     "data": {
      "text/html": [
       "<div>\n",
       "<style scoped>\n",
       "    .dataframe tbody tr th:only-of-type {\n",
       "        vertical-align: middle;\n",
       "    }\n",
       "\n",
       "    .dataframe tbody tr th {\n",
       "        vertical-align: top;\n",
       "    }\n",
       "\n",
       "    .dataframe thead th {\n",
       "        text-align: right;\n",
       "    }\n",
       "</style>\n",
       "<table border=\"1\" class=\"dataframe\">\n",
       "  <thead>\n",
       "    <tr style=\"text-align: right;\">\n",
       "      <th></th>\n",
       "      <th>Concesionario</th>\n",
       "      <th>Gerente</th>\n",
       "      <th>Personal</th>\n",
       "      <th>Ventas</th>\n",
       "    </tr>\n",
       "  </thead>\n",
       "  <tbody>\n",
       "    <tr>\n",
       "      <th>0</th>\n",
       "      <td>Madrid</td>\n",
       "      <td>Jorge</td>\n",
       "      <td>30</td>\n",
       "      <td>200</td>\n",
       "    </tr>\n",
       "    <tr>\n",
       "      <th>1</th>\n",
       "      <td>Bilbao</td>\n",
       "      <td>Iñaki</td>\n",
       "      <td>20</td>\n",
       "      <td>120</td>\n",
       "    </tr>\n",
       "    <tr>\n",
       "      <th>2</th>\n",
       "      <td>Canarias</td>\n",
       "      <td>Jorge</td>\n",
       "      <td>10</td>\n",
       "      <td>300</td>\n",
       "    </tr>\n",
       "    <tr>\n",
       "      <th>3</th>\n",
       "      <td>Barcelona</td>\n",
       "      <td>Pau</td>\n",
       "      <td>30</td>\n",
       "      <td>120</td>\n",
       "    </tr>\n",
       "    <tr>\n",
       "      <th>4</th>\n",
       "      <td>Valencia</td>\n",
       "      <td>Xavier</td>\n",
       "      <td>25</td>\n",
       "      <td>200</td>\n",
       "    </tr>\n",
       "  </tbody>\n",
       "</table>\n",
       "</div>"
      ],
      "text/plain": [
       "  Concesionario Gerente  Personal  Ventas\n",
       "0        Madrid   Jorge        30     200\n",
       "1        Bilbao   Iñaki        20     120\n",
       "2      Canarias   Jorge        10     300\n",
       "3     Barcelona     Pau        30     120\n",
       "4      Valencia  Xavier        25     200"
      ]
     },
     "execution_count": 216,
     "metadata": {},
     "output_type": "execute_result"
    }
   ],
   "source": [
    "dfC"
   ]
  },
  {
   "cell_type": "code",
   "execution_count": 217,
   "id": "63d3b7ed",
   "metadata": {},
   "outputs": [
    {
     "data": {
      "text/plain": [
       "10"
      ]
     },
     "execution_count": 217,
     "metadata": {},
     "output_type": "execute_result"
    }
   ],
   "source": [
    "dfC.iloc[2,2]"
   ]
  },
  {
   "cell_type": "code",
   "execution_count": 218,
   "id": "5dad2b87",
   "metadata": {},
   "outputs": [
    {
     "data": {
      "text/html": [
       "<div>\n",
       "<style scoped>\n",
       "    .dataframe tbody tr th:only-of-type {\n",
       "        vertical-align: middle;\n",
       "    }\n",
       "\n",
       "    .dataframe tbody tr th {\n",
       "        vertical-align: top;\n",
       "    }\n",
       "\n",
       "    .dataframe thead th {\n",
       "        text-align: right;\n",
       "    }\n",
       "</style>\n",
       "<table border=\"1\" class=\"dataframe\">\n",
       "  <thead>\n",
       "    <tr style=\"text-align: right;\">\n",
       "      <th></th>\n",
       "      <th>Personal</th>\n",
       "      <th>Ventas</th>\n",
       "    </tr>\n",
       "    <tr>\n",
       "      <th>Gerente</th>\n",
       "      <th></th>\n",
       "      <th></th>\n",
       "    </tr>\n",
       "  </thead>\n",
       "  <tbody>\n",
       "    <tr>\n",
       "      <th>Iñaki</th>\n",
       "      <td>20.0</td>\n",
       "      <td>120.0</td>\n",
       "    </tr>\n",
       "    <tr>\n",
       "      <th>Jorge</th>\n",
       "      <td>20.0</td>\n",
       "      <td>250.0</td>\n",
       "    </tr>\n",
       "    <tr>\n",
       "      <th>Pau</th>\n",
       "      <td>30.0</td>\n",
       "      <td>120.0</td>\n",
       "    </tr>\n",
       "    <tr>\n",
       "      <th>Xavier</th>\n",
       "      <td>25.0</td>\n",
       "      <td>200.0</td>\n",
       "    </tr>\n",
       "  </tbody>\n",
       "</table>\n",
       "</div>"
      ],
      "text/plain": [
       "         Personal  Ventas\n",
       "Gerente                  \n",
       "Iñaki        20.0   120.0\n",
       "Jorge        20.0   250.0\n",
       "Pau          30.0   120.0\n",
       "Xavier       25.0   200.0"
      ]
     },
     "execution_count": 218,
     "metadata": {},
     "output_type": "execute_result"
    }
   ],
   "source": [
    "dfC.groupby(by='Gerente',dropna=True).mean()  # En este caso el dropna da igual porq no hay nulos"
   ]
  },
  {
   "cell_type": "markdown",
   "id": "d8b23c2a",
   "metadata": {},
   "source": [
    "#### Pivot table - Funcion Groupby"
   ]
  },
  {
   "cell_type": "code",
   "execution_count": 45,
   "id": "54a90ece",
   "metadata": {},
   "outputs": [],
   "source": [
    "import seaborn as sns"
   ]
  },
  {
   "cell_type": "code",
   "execution_count": 46,
   "id": "bb787076",
   "metadata": {},
   "outputs": [],
   "source": [
    "# help(sns.load_dataset)"
   ]
  },
  {
   "cell_type": "code",
   "execution_count": 47,
   "id": "0d24f1e4",
   "metadata": {},
   "outputs": [],
   "source": [
    "titanic=sns.load_dataset('titanic')"
   ]
  },
  {
   "cell_type": "code",
   "execution_count": 182,
   "id": "dc530699",
   "metadata": {},
   "outputs": [],
   "source": [
    "# HE TENIDO QUE CARGARLO DESDE UN CSV QUE TENGO PORQUE NO ME VA EL LOAD_DATASET\n",
    "# Reinicie el kernel y ya lo pude cargar desde Seaborn "
   ]
  },
  {
   "cell_type": "code",
   "execution_count": 183,
   "id": "fe25d4a8",
   "metadata": {},
   "outputs": [],
   "source": [
    "# titanic=pd.read_csv(r'C:\\Users\\adria\\Documents\\Carol Formacion\\Curso ML\\python-ml-course-master\\datasets\\titanic\\titanic_custom.csv', encoding= 'ISO-8859-1')"
   ]
  },
  {
   "cell_type": "code",
   "execution_count": 221,
   "id": "9d866039",
   "metadata": {},
   "outputs": [
    {
     "data": {
      "text/html": [
       "<div>\n",
       "<style scoped>\n",
       "    .dataframe tbody tr th:only-of-type {\n",
       "        vertical-align: middle;\n",
       "    }\n",
       "\n",
       "    .dataframe tbody tr th {\n",
       "        vertical-align: top;\n",
       "    }\n",
       "\n",
       "    .dataframe thead th {\n",
       "        text-align: right;\n",
       "    }\n",
       "</style>\n",
       "<table border=\"1\" class=\"dataframe\">\n",
       "  <thead>\n",
       "    <tr style=\"text-align: right;\">\n",
       "      <th></th>\n",
       "      <th>survived</th>\n",
       "      <th>pclass</th>\n",
       "      <th>sex</th>\n",
       "      <th>age</th>\n",
       "      <th>sibsp</th>\n",
       "      <th>parch</th>\n",
       "      <th>fare</th>\n",
       "      <th>embarked</th>\n",
       "      <th>class</th>\n",
       "      <th>who</th>\n",
       "      <th>adult_male</th>\n",
       "      <th>deck</th>\n",
       "      <th>embark_town</th>\n",
       "      <th>alive</th>\n",
       "      <th>alone</th>\n",
       "    </tr>\n",
       "  </thead>\n",
       "  <tbody>\n",
       "    <tr>\n",
       "      <th>0</th>\n",
       "      <td>0</td>\n",
       "      <td>3</td>\n",
       "      <td>male</td>\n",
       "      <td>22.0</td>\n",
       "      <td>1</td>\n",
       "      <td>0</td>\n",
       "      <td>7.2500</td>\n",
       "      <td>S</td>\n",
       "      <td>Third</td>\n",
       "      <td>man</td>\n",
       "      <td>True</td>\n",
       "      <td>NaN</td>\n",
       "      <td>Southampton</td>\n",
       "      <td>no</td>\n",
       "      <td>False</td>\n",
       "    </tr>\n",
       "    <tr>\n",
       "      <th>1</th>\n",
       "      <td>1</td>\n",
       "      <td>1</td>\n",
       "      <td>female</td>\n",
       "      <td>38.0</td>\n",
       "      <td>1</td>\n",
       "      <td>0</td>\n",
       "      <td>71.2833</td>\n",
       "      <td>C</td>\n",
       "      <td>First</td>\n",
       "      <td>woman</td>\n",
       "      <td>False</td>\n",
       "      <td>C</td>\n",
       "      <td>Cherbourg</td>\n",
       "      <td>yes</td>\n",
       "      <td>False</td>\n",
       "    </tr>\n",
       "    <tr>\n",
       "      <th>2</th>\n",
       "      <td>1</td>\n",
       "      <td>3</td>\n",
       "      <td>female</td>\n",
       "      <td>26.0</td>\n",
       "      <td>0</td>\n",
       "      <td>0</td>\n",
       "      <td>7.9250</td>\n",
       "      <td>S</td>\n",
       "      <td>Third</td>\n",
       "      <td>woman</td>\n",
       "      <td>False</td>\n",
       "      <td>NaN</td>\n",
       "      <td>Southampton</td>\n",
       "      <td>yes</td>\n",
       "      <td>True</td>\n",
       "    </tr>\n",
       "    <tr>\n",
       "      <th>3</th>\n",
       "      <td>1</td>\n",
       "      <td>1</td>\n",
       "      <td>female</td>\n",
       "      <td>35.0</td>\n",
       "      <td>1</td>\n",
       "      <td>0</td>\n",
       "      <td>53.1000</td>\n",
       "      <td>S</td>\n",
       "      <td>First</td>\n",
       "      <td>woman</td>\n",
       "      <td>False</td>\n",
       "      <td>C</td>\n",
       "      <td>Southampton</td>\n",
       "      <td>yes</td>\n",
       "      <td>False</td>\n",
       "    </tr>\n",
       "    <tr>\n",
       "      <th>4</th>\n",
       "      <td>0</td>\n",
       "      <td>3</td>\n",
       "      <td>male</td>\n",
       "      <td>35.0</td>\n",
       "      <td>0</td>\n",
       "      <td>0</td>\n",
       "      <td>8.0500</td>\n",
       "      <td>S</td>\n",
       "      <td>Third</td>\n",
       "      <td>man</td>\n",
       "      <td>True</td>\n",
       "      <td>NaN</td>\n",
       "      <td>Southampton</td>\n",
       "      <td>no</td>\n",
       "      <td>True</td>\n",
       "    </tr>\n",
       "  </tbody>\n",
       "</table>\n",
       "</div>"
      ],
      "text/plain": [
       "   survived  pclass     sex   age  sibsp  parch     fare embarked  class  \\\n",
       "0         0       3    male  22.0      1      0   7.2500        S  Third   \n",
       "1         1       1  female  38.0      1      0  71.2833        C  First   \n",
       "2         1       3  female  26.0      0      0   7.9250        S  Third   \n",
       "3         1       1  female  35.0      1      0  53.1000        S  First   \n",
       "4         0       3    male  35.0      0      0   8.0500        S  Third   \n",
       "\n",
       "     who  adult_male deck  embark_town alive  alone  \n",
       "0    man        True  NaN  Southampton    no  False  \n",
       "1  woman       False    C    Cherbourg   yes  False  \n",
       "2  woman       False  NaN  Southampton   yes   True  \n",
       "3  woman       False    C  Southampton   yes  False  \n",
       "4    man        True  NaN  Southampton    no   True  "
      ]
     },
     "execution_count": 221,
     "metadata": {},
     "output_type": "execute_result"
    }
   ],
   "source": [
    "titanic.head()"
   ]
  },
  {
   "cell_type": "markdown",
   "id": "ba5537e5",
   "metadata": {},
   "source": [
    "Ejercicio:"
   ]
  },
  {
   "cell_type": "code",
   "execution_count": 266,
   "id": "caa5c70b",
   "metadata": {},
   "outputs": [
    {
     "data": {
      "text/plain": [
       "13365"
      ]
     },
     "execution_count": 266,
     "metadata": {},
     "output_type": "execute_result"
    }
   ],
   "source": [
    "# Cuantas personas embarcaron en el titanic?\n",
    "titanic.size # Esto esta fatal. Esto es el numero de datos (todos los valores de la tabla)"
   ]
  },
  {
   "cell_type": "code",
   "execution_count": 278,
   "id": "de80be72",
   "metadata": {},
   "outputs": [
    {
     "data": {
      "text/plain": [
       "RangeIndex(start=0, stop=891, step=1)"
      ]
     },
     "execution_count": 278,
     "metadata": {},
     "output_type": "execute_result"
    }
   ],
   "source": [
    "titanic.index  # Fueron 891 pasajeros"
   ]
  },
  {
   "cell_type": "code",
   "execution_count": 265,
   "id": "e8b43b02",
   "metadata": {},
   "outputs": [
    {
     "name": "stdout",
     "output_type": "stream",
     "text": [
      "<class 'pandas.core.frame.DataFrame'>\n",
      "RangeIndex: 891 entries, 0 to 890\n",
      "Data columns (total 15 columns):\n",
      " #   Column       Non-Null Count  Dtype   \n",
      "---  ------       --------------  -----   \n",
      " 0   survived     891 non-null    int64   \n",
      " 1   pclass       891 non-null    int64   \n",
      " 2   sex          891 non-null    object  \n",
      " 3   age          714 non-null    float64 \n",
      " 4   sibsp        891 non-null    int64   \n",
      " 5   parch        891 non-null    int64   \n",
      " 6   fare         891 non-null    float64 \n",
      " 7   embarked     889 non-null    object  \n",
      " 8   class        891 non-null    category\n",
      " 9   who          891 non-null    object  \n",
      " 10  adult_male   891 non-null    bool    \n",
      " 11  deck         203 non-null    category\n",
      " 12  embark_town  889 non-null    object  \n",
      " 13  alive        891 non-null    object  \n",
      " 14  alone        891 non-null    bool    \n",
      "dtypes: bool(2), category(2), float64(2), int64(4), object(5)\n",
      "memory usage: 80.7+ KB\n"
     ]
    }
   ],
   "source": [
    "titanic.info() # Son 891 filas con 15 variables en total los 13365 datos"
   ]
  },
  {
   "cell_type": "code",
   "execution_count": 223,
   "id": "4bd48bbe",
   "metadata": {},
   "outputs": [],
   "source": [
    "# Promedio de supervivientes por sexo\n",
    "# Sobrevivieron muchas mas mujeres que hombres puesto que se les dio prioridad durante el salvamento"
   ]
  },
  {
   "cell_type": "code",
   "execution_count": 51,
   "id": "545ae023",
   "metadata": {},
   "outputs": [
    {
     "data": {
      "text/html": [
       "<div>\n",
       "<style scoped>\n",
       "    .dataframe tbody tr th:only-of-type {\n",
       "        vertical-align: middle;\n",
       "    }\n",
       "\n",
       "    .dataframe tbody tr th {\n",
       "        vertical-align: top;\n",
       "    }\n",
       "\n",
       "    .dataframe thead th {\n",
       "        text-align: right;\n",
       "    }\n",
       "</style>\n",
       "<table border=\"1\" class=\"dataframe\">\n",
       "  <thead>\n",
       "    <tr style=\"text-align: right;\">\n",
       "      <th></th>\n",
       "      <th>survived</th>\n",
       "    </tr>\n",
       "    <tr>\n",
       "      <th>sex</th>\n",
       "      <th></th>\n",
       "    </tr>\n",
       "  </thead>\n",
       "  <tbody>\n",
       "    <tr>\n",
       "      <th>female</th>\n",
       "      <td>0.74</td>\n",
       "    </tr>\n",
       "    <tr>\n",
       "      <th>male</th>\n",
       "      <td>0.19</td>\n",
       "    </tr>\n",
       "  </tbody>\n",
       "</table>\n",
       "</div>"
      ],
      "text/plain": [
       "        survived\n",
       "sex             \n",
       "female      0.74\n",
       "male        0.19"
      ]
     },
     "execution_count": 51,
     "metadata": {},
     "output_type": "execute_result"
    }
   ],
   "source": [
    "titanic.groupby(by='sex').mean().round(2)[['survived']] # con dos [] formato de tabla"
   ]
  },
  {
   "cell_type": "code",
   "execution_count": 64,
   "id": "a2224ab0",
   "metadata": {},
   "outputs": [
    {
     "data": {
      "text/html": [
       "<div>\n",
       "<style scoped>\n",
       "    .dataframe tbody tr th:only-of-type {\n",
       "        vertical-align: middle;\n",
       "    }\n",
       "\n",
       "    .dataframe tbody tr th {\n",
       "        vertical-align: top;\n",
       "    }\n",
       "\n",
       "    .dataframe thead th {\n",
       "        text-align: right;\n",
       "    }\n",
       "</style>\n",
       "<table border=\"1\" class=\"dataframe\">\n",
       "  <thead>\n",
       "    <tr style=\"text-align: right;\">\n",
       "      <th></th>\n",
       "      <th>survived</th>\n",
       "    </tr>\n",
       "    <tr>\n",
       "      <th>sex</th>\n",
       "      <th></th>\n",
       "    </tr>\n",
       "  </thead>\n",
       "  <tbody>\n",
       "    <tr>\n",
       "      <th>female</th>\n",
       "      <td>0.74</td>\n",
       "    </tr>\n",
       "    <tr>\n",
       "      <th>male</th>\n",
       "      <td>0.19</td>\n",
       "    </tr>\n",
       "  </tbody>\n",
       "</table>\n",
       "</div>"
      ],
      "text/plain": [
       "        survived\n",
       "sex             \n",
       "female      0.74\n",
       "male        0.19"
      ]
     },
     "execution_count": 64,
     "metadata": {},
     "output_type": "execute_result"
    }
   ],
   "source": [
    "titanic.groupby(by='sex').mean().round(2)[['survived']]"
   ]
  },
  {
   "cell_type": "code",
   "execution_count": 61,
   "id": "6b487aea",
   "metadata": {},
   "outputs": [
    {
     "data": {
      "text/plain": [
       "0.74"
      ]
     },
     "execution_count": 61,
     "metadata": {},
     "output_type": "execute_result"
    }
   ],
   "source": [
    "titanic.groupby(by='sex').mean().round(2).loc[:,'survived'][0] # mujeres"
   ]
  },
  {
   "cell_type": "code",
   "execution_count": 62,
   "id": "4da256f6",
   "metadata": {},
   "outputs": [
    {
     "data": {
      "text/plain": [
       "0.19"
      ]
     },
     "execution_count": 62,
     "metadata": {},
     "output_type": "execute_result"
    }
   ],
   "source": [
    "titanic.groupby(by='sex').mean().round(2).loc[:,'survived'][1] # hombres"
   ]
  },
  {
   "cell_type": "code",
   "execution_count": 226,
   "id": "0991d66d",
   "metadata": {},
   "outputs": [],
   "source": [
    "# Promedio de supervivientes dividido por clase de billete \n",
    "# Se rescataron a mas personas de primera que de segunda y tercera."
   ]
  },
  {
   "cell_type": "code",
   "execution_count": 65,
   "id": "7a797dab",
   "metadata": {},
   "outputs": [
    {
     "data": {
      "text/html": [
       "<div>\n",
       "<style scoped>\n",
       "    .dataframe tbody tr th:only-of-type {\n",
       "        vertical-align: middle;\n",
       "    }\n",
       "\n",
       "    .dataframe tbody tr th {\n",
       "        vertical-align: top;\n",
       "    }\n",
       "\n",
       "    .dataframe thead th {\n",
       "        text-align: right;\n",
       "    }\n",
       "</style>\n",
       "<table border=\"1\" class=\"dataframe\">\n",
       "  <thead>\n",
       "    <tr style=\"text-align: right;\">\n",
       "      <th></th>\n",
       "      <th>survived</th>\n",
       "    </tr>\n",
       "    <tr>\n",
       "      <th>class</th>\n",
       "      <th></th>\n",
       "    </tr>\n",
       "  </thead>\n",
       "  <tbody>\n",
       "    <tr>\n",
       "      <th>First</th>\n",
       "      <td>0.63</td>\n",
       "    </tr>\n",
       "    <tr>\n",
       "      <th>Second</th>\n",
       "      <td>0.47</td>\n",
       "    </tr>\n",
       "    <tr>\n",
       "      <th>Third</th>\n",
       "      <td>0.24</td>\n",
       "    </tr>\n",
       "  </tbody>\n",
       "</table>\n",
       "</div>"
      ],
      "text/plain": [
       "        survived\n",
       "class           \n",
       "First       0.63\n",
       "Second      0.47\n",
       "Third       0.24"
      ]
     },
     "execution_count": 65,
     "metadata": {},
     "output_type": "execute_result"
    }
   ],
   "source": [
    "titanic.groupby(by='class').mean().round(2)[['survived']] # 1 es primera, 2 segunda, 3 tercera (yo lo tengo codificado asi)"
   ]
  },
  {
   "cell_type": "code",
   "execution_count": 67,
   "id": "a6e083dd",
   "metadata": {},
   "outputs": [
    {
     "data": {
      "text/html": [
       "<div>\n",
       "<style scoped>\n",
       "    .dataframe tbody tr th:only-of-type {\n",
       "        vertical-align: middle;\n",
       "    }\n",
       "\n",
       "    .dataframe tbody tr th {\n",
       "        vertical-align: top;\n",
       "    }\n",
       "\n",
       "    .dataframe thead th {\n",
       "        text-align: right;\n",
       "    }\n",
       "</style>\n",
       "<table border=\"1\" class=\"dataframe\">\n",
       "  <thead>\n",
       "    <tr style=\"text-align: right;\">\n",
       "      <th></th>\n",
       "      <th>pclass</th>\n",
       "    </tr>\n",
       "    <tr>\n",
       "      <th>class</th>\n",
       "      <th></th>\n",
       "    </tr>\n",
       "  </thead>\n",
       "  <tbody>\n",
       "    <tr>\n",
       "      <th>First</th>\n",
       "      <td>216</td>\n",
       "    </tr>\n",
       "    <tr>\n",
       "      <th>Second</th>\n",
       "      <td>184</td>\n",
       "    </tr>\n",
       "    <tr>\n",
       "      <th>Third</th>\n",
       "      <td>491</td>\n",
       "    </tr>\n",
       "  </tbody>\n",
       "</table>\n",
       "</div>"
      ],
      "text/plain": [
       "        pclass\n",
       "class         \n",
       "First      216\n",
       "Second     184\n",
       "Third      491"
      ]
     },
     "execution_count": 67,
     "metadata": {},
     "output_type": "execute_result"
    }
   ],
   "source": [
    "titanic.groupby(by='class').count()[['pclass']] # cantidad de pasajeros por clase (cuento y muestro cualquiera de las columnas) \n",
    "# Siendo que habia mas pasajeros de 3ra que de 1ra y 2da juntos."
   ]
  },
  {
   "cell_type": "code",
   "execution_count": 281,
   "id": "fd34ddb4",
   "metadata": {},
   "outputs": [
    {
     "data": {
      "text/plain": [
       "(136.08, 86.47999999999999, 117.83999999999999)"
      ]
     },
     "execution_count": 281,
     "metadata": {},
     "output_type": "execute_result"
    }
   ],
   "source": [
    " 216*0.63, 184*0.47, 491*0.24"
   ]
  },
  {
   "cell_type": "code",
   "execution_count": 228,
   "id": "695c822b",
   "metadata": {},
   "outputs": [],
   "source": [
    "# Promedio de supervivientes por genero y a su vez por clase\n",
    "# Las mujeres de 1ra y 2da clase sobrevivieron casi todas.\n",
    "# Las de 3ra sobrevivieron la mitad\n",
    "# Entre los hombres los supervivientes de 1ra superan a los de 2da y 3ra juntos en porcentaje."
   ]
  },
  {
   "cell_type": "code",
   "execution_count": 68,
   "id": "15bad040",
   "metadata": {},
   "outputs": [
    {
     "data": {
      "text/html": [
       "<div>\n",
       "<style scoped>\n",
       "    .dataframe tbody tr th:only-of-type {\n",
       "        vertical-align: middle;\n",
       "    }\n",
       "\n",
       "    .dataframe tbody tr th {\n",
       "        vertical-align: top;\n",
       "    }\n",
       "\n",
       "    .dataframe thead th {\n",
       "        text-align: right;\n",
       "    }\n",
       "</style>\n",
       "<table border=\"1\" class=\"dataframe\">\n",
       "  <thead>\n",
       "    <tr style=\"text-align: right;\">\n",
       "      <th></th>\n",
       "      <th></th>\n",
       "      <th>survived</th>\n",
       "    </tr>\n",
       "    <tr>\n",
       "      <th>sex</th>\n",
       "      <th>class</th>\n",
       "      <th></th>\n",
       "    </tr>\n",
       "  </thead>\n",
       "  <tbody>\n",
       "    <tr>\n",
       "      <th rowspan=\"3\" valign=\"top\">female</th>\n",
       "      <th>First</th>\n",
       "      <td>0.97</td>\n",
       "    </tr>\n",
       "    <tr>\n",
       "      <th>Second</th>\n",
       "      <td>0.92</td>\n",
       "    </tr>\n",
       "    <tr>\n",
       "      <th>Third</th>\n",
       "      <td>0.50</td>\n",
       "    </tr>\n",
       "    <tr>\n",
       "      <th rowspan=\"3\" valign=\"top\">male</th>\n",
       "      <th>First</th>\n",
       "      <td>0.37</td>\n",
       "    </tr>\n",
       "    <tr>\n",
       "      <th>Second</th>\n",
       "      <td>0.16</td>\n",
       "    </tr>\n",
       "    <tr>\n",
       "      <th>Third</th>\n",
       "      <td>0.14</td>\n",
       "    </tr>\n",
       "  </tbody>\n",
       "</table>\n",
       "</div>"
      ],
      "text/plain": [
       "               survived\n",
       "sex    class           \n",
       "female First       0.97\n",
       "       Second      0.92\n",
       "       Third       0.50\n",
       "male   First       0.37\n",
       "       Second      0.16\n",
       "       Third       0.14"
      ]
     },
     "execution_count": 68,
     "metadata": {},
     "output_type": "execute_result"
    }
   ],
   "source": [
    "titanic.groupby(by=['sex','class']).mean().round(2)[['survived']] # agrupacion por mas de una columna "
   ]
  },
  {
   "cell_type": "code",
   "execution_count": 310,
   "id": "027bc87a",
   "metadata": {},
   "outputs": [
    {
     "data": {
      "text/plain": [
       "0.3838383838383838"
      ]
     },
     "execution_count": 310,
     "metadata": {},
     "output_type": "execute_result"
    }
   ],
   "source": [
    "# Porcentaje de supervivientes\n",
    "# 342/891 38% \n",
    "\n",
    "titanic['survived'].sum()/titanic['survived'].count()\n"
   ]
  },
  {
   "cell_type": "markdown",
   "id": "725d5c5f",
   "metadata": {},
   "source": [
    "#### Indexacion / Reindexacion / Cambio de indices y etiquetas\n"
   ]
  },
  {
   "cell_type": "code",
   "execution_count": 291,
   "id": "78359226",
   "metadata": {},
   "outputs": [
    {
     "data": {
      "text/html": [
       "<div>\n",
       "<style scoped>\n",
       "    .dataframe tbody tr th:only-of-type {\n",
       "        vertical-align: middle;\n",
       "    }\n",
       "\n",
       "    .dataframe tbody tr th {\n",
       "        vertical-align: top;\n",
       "    }\n",
       "\n",
       "    .dataframe thead th {\n",
       "        text-align: right;\n",
       "    }\n",
       "</style>\n",
       "<table border=\"1\" class=\"dataframe\">\n",
       "  <thead>\n",
       "    <tr style=\"text-align: right;\">\n",
       "      <th></th>\n",
       "      <th>W</th>\n",
       "      <th>X</th>\n",
       "      <th>Y</th>\n",
       "      <th>Z</th>\n",
       "    </tr>\n",
       "  </thead>\n",
       "  <tbody>\n",
       "    <tr>\n",
       "      <th>A</th>\n",
       "      <td>-0.350665</td>\n",
       "      <td>1.515996</td>\n",
       "      <td>0.885111</td>\n",
       "      <td>-0.661080</td>\n",
       "    </tr>\n",
       "    <tr>\n",
       "      <th>B</th>\n",
       "      <td>-0.204711</td>\n",
       "      <td>3.104169</td>\n",
       "      <td>1.138570</td>\n",
       "      <td>-0.413935</td>\n",
       "    </tr>\n",
       "    <tr>\n",
       "      <th>C</th>\n",
       "      <td>1.142544</td>\n",
       "      <td>-0.843924</td>\n",
       "      <td>-0.186393</td>\n",
       "      <td>0.142881</td>\n",
       "    </tr>\n",
       "    <tr>\n",
       "      <th>D</th>\n",
       "      <td>1.407652</td>\n",
       "      <td>0.791607</td>\n",
       "      <td>-0.545165</td>\n",
       "      <td>-0.128504</td>\n",
       "    </tr>\n",
       "    <tr>\n",
       "      <th>E</th>\n",
       "      <td>1.409883</td>\n",
       "      <td>-0.997688</td>\n",
       "      <td>-0.773334</td>\n",
       "      <td>0.606940</td>\n",
       "    </tr>\n",
       "  </tbody>\n",
       "</table>\n",
       "</div>"
      ],
      "text/plain": [
       "          W         X         Y         Z\n",
       "A -0.350665  1.515996  0.885111 -0.661080\n",
       "B -0.204711  3.104169  1.138570 -0.413935\n",
       "C  1.142544 -0.843924 -0.186393  0.142881\n",
       "D  1.407652  0.791607 -0.545165 -0.128504\n",
       "E  1.409883 -0.997688 -0.773334  0.606940"
      ]
     },
     "execution_count": 291,
     "metadata": {},
     "output_type": "execute_result"
    }
   ],
   "source": [
    "df"
   ]
  },
  {
   "cell_type": "code",
   "execution_count": 292,
   "id": "b6c7eded",
   "metadata": {},
   "outputs": [
    {
     "data": {
      "text/plain": [
       "Index(['A', 'B', 'C', 'D', 'E'], dtype='object')"
      ]
     },
     "execution_count": 292,
     "metadata": {},
     "output_type": "execute_result"
    }
   ],
   "source": [
    "df.index # visualiacion de los indices (es un vector)"
   ]
  },
  {
   "cell_type": "code",
   "execution_count": 293,
   "id": "49c8e8fa",
   "metadata": {},
   "outputs": [
    {
     "data": {
      "text/html": [
       "<div>\n",
       "<style scoped>\n",
       "    .dataframe tbody tr th:only-of-type {\n",
       "        vertical-align: middle;\n",
       "    }\n",
       "\n",
       "    .dataframe tbody tr th {\n",
       "        vertical-align: top;\n",
       "    }\n",
       "\n",
       "    .dataframe thead th {\n",
       "        text-align: right;\n",
       "    }\n",
       "</style>\n",
       "<table border=\"1\" class=\"dataframe\">\n",
       "  <thead>\n",
       "    <tr style=\"text-align: right;\">\n",
       "      <th></th>\n",
       "      <th>index</th>\n",
       "      <th>W</th>\n",
       "      <th>X</th>\n",
       "      <th>Y</th>\n",
       "      <th>Z</th>\n",
       "    </tr>\n",
       "  </thead>\n",
       "  <tbody>\n",
       "    <tr>\n",
       "      <th>0</th>\n",
       "      <td>A</td>\n",
       "      <td>-0.350665</td>\n",
       "      <td>1.515996</td>\n",
       "      <td>0.885111</td>\n",
       "      <td>-0.661080</td>\n",
       "    </tr>\n",
       "    <tr>\n",
       "      <th>1</th>\n",
       "      <td>B</td>\n",
       "      <td>-0.204711</td>\n",
       "      <td>3.104169</td>\n",
       "      <td>1.138570</td>\n",
       "      <td>-0.413935</td>\n",
       "    </tr>\n",
       "    <tr>\n",
       "      <th>2</th>\n",
       "      <td>C</td>\n",
       "      <td>1.142544</td>\n",
       "      <td>-0.843924</td>\n",
       "      <td>-0.186393</td>\n",
       "      <td>0.142881</td>\n",
       "    </tr>\n",
       "    <tr>\n",
       "      <th>3</th>\n",
       "      <td>D</td>\n",
       "      <td>1.407652</td>\n",
       "      <td>0.791607</td>\n",
       "      <td>-0.545165</td>\n",
       "      <td>-0.128504</td>\n",
       "    </tr>\n",
       "    <tr>\n",
       "      <th>4</th>\n",
       "      <td>E</td>\n",
       "      <td>1.409883</td>\n",
       "      <td>-0.997688</td>\n",
       "      <td>-0.773334</td>\n",
       "      <td>0.606940</td>\n",
       "    </tr>\n",
       "  </tbody>\n",
       "</table>\n",
       "</div>"
      ],
      "text/plain": [
       "  index         W         X         Y         Z\n",
       "0     A -0.350665  1.515996  0.885111 -0.661080\n",
       "1     B -0.204711  3.104169  1.138570 -0.413935\n",
       "2     C  1.142544 -0.843924 -0.186393  0.142881\n",
       "3     D  1.407652  0.791607 -0.545165 -0.128504\n",
       "4     E  1.409883 -0.997688 -0.773334  0.606940"
      ]
     },
     "execution_count": 293,
     "metadata": {},
     "output_type": "execute_result"
    }
   ],
   "source": [
    "df.reset_index() # reseteo de indice (cambia a numerico entero desde 0)\n",
    "\n",
    "# El antiguo indice queda en la columna index y reasigna un nuevo indice numerico secuencial"
   ]
  },
  {
   "cell_type": "code",
   "execution_count": 294,
   "id": "29899e5f",
   "metadata": {},
   "outputs": [
    {
     "data": {
      "text/plain": [
       "W   -0.350665\n",
       "X    1.515996\n",
       "Y    0.885111\n",
       "Z   -0.661080\n",
       "Name: A, dtype: float64"
      ]
     },
     "execution_count": 294,
     "metadata": {},
     "output_type": "execute_result"
    }
   ],
   "source": [
    "df.iloc[0] # seleccion por fila 0, la muestra encolumnada !!!"
   ]
  },
  {
   "cell_type": "code",
   "execution_count": 295,
   "id": "3830872d",
   "metadata": {},
   "outputs": [
    {
     "data": {
      "text/html": [
       "<div>\n",
       "<style scoped>\n",
       "    .dataframe tbody tr th:only-of-type {\n",
       "        vertical-align: middle;\n",
       "    }\n",
       "\n",
       "    .dataframe tbody tr th {\n",
       "        vertical-align: top;\n",
       "    }\n",
       "\n",
       "    .dataframe thead th {\n",
       "        text-align: right;\n",
       "    }\n",
       "</style>\n",
       "<table border=\"1\" class=\"dataframe\">\n",
       "  <thead>\n",
       "    <tr style=\"text-align: right;\">\n",
       "      <th></th>\n",
       "      <th>W</th>\n",
       "      <th>X</th>\n",
       "      <th>Y</th>\n",
       "      <th>Z</th>\n",
       "    </tr>\n",
       "  </thead>\n",
       "  <tbody>\n",
       "    <tr>\n",
       "      <th>10</th>\n",
       "      <td>-0.350665</td>\n",
       "      <td>1.515996</td>\n",
       "      <td>0.885111</td>\n",
       "      <td>-0.661080</td>\n",
       "    </tr>\n",
       "    <tr>\n",
       "      <th>11</th>\n",
       "      <td>-0.204711</td>\n",
       "      <td>3.104169</td>\n",
       "      <td>1.138570</td>\n",
       "      <td>-0.413935</td>\n",
       "    </tr>\n",
       "    <tr>\n",
       "      <th>12</th>\n",
       "      <td>1.142544</td>\n",
       "      <td>-0.843924</td>\n",
       "      <td>-0.186393</td>\n",
       "      <td>0.142881</td>\n",
       "    </tr>\n",
       "    <tr>\n",
       "      <th>13</th>\n",
       "      <td>1.407652</td>\n",
       "      <td>0.791607</td>\n",
       "      <td>-0.545165</td>\n",
       "      <td>-0.128504</td>\n",
       "    </tr>\n",
       "    <tr>\n",
       "      <th>14</th>\n",
       "      <td>1.409883</td>\n",
       "      <td>-0.997688</td>\n",
       "      <td>-0.773334</td>\n",
       "      <td>0.606940</td>\n",
       "    </tr>\n",
       "  </tbody>\n",
       "</table>\n",
       "</div>"
      ],
      "text/plain": [
       "           W         X         Y         Z\n",
       "10 -0.350665  1.515996  0.885111 -0.661080\n",
       "11 -0.204711  3.104169  1.138570 -0.413935\n",
       "12  1.142544 -0.843924 -0.186393  0.142881\n",
       "13  1.407652  0.791607 -0.545165 -0.128504\n",
       "14  1.409883 -0.997688 -0.773334  0.606940"
      ]
     },
     "execution_count": 295,
     "metadata": {},
     "output_type": "execute_result"
    }
   ],
   "source": [
    "df.index=[10,11,12,13,14] # Reidexacion por un indice diferente indicado mediante una lista/vector \n",
    "df"
   ]
  },
  {
   "cell_type": "code",
   "execution_count": 296,
   "id": "b520c71a",
   "metadata": {},
   "outputs": [
    {
     "data": {
      "text/html": [
       "<div>\n",
       "<style scoped>\n",
       "    .dataframe tbody tr th:only-of-type {\n",
       "        vertical-align: middle;\n",
       "    }\n",
       "\n",
       "    .dataframe tbody tr th {\n",
       "        vertical-align: top;\n",
       "    }\n",
       "\n",
       "    .dataframe thead th {\n",
       "        text-align: right;\n",
       "    }\n",
       "</style>\n",
       "<table border=\"1\" class=\"dataframe\">\n",
       "  <thead>\n",
       "    <tr style=\"text-align: right;\">\n",
       "      <th></th>\n",
       "      <th>Columna11</th>\n",
       "      <th>Columna12</th>\n",
       "      <th>Columna13</th>\n",
       "      <th>Columna14</th>\n",
       "    </tr>\n",
       "  </thead>\n",
       "  <tbody>\n",
       "    <tr>\n",
       "      <th>10</th>\n",
       "      <td>-0.350665</td>\n",
       "      <td>1.515996</td>\n",
       "      <td>0.885111</td>\n",
       "      <td>-0.661080</td>\n",
       "    </tr>\n",
       "    <tr>\n",
       "      <th>11</th>\n",
       "      <td>-0.204711</td>\n",
       "      <td>3.104169</td>\n",
       "      <td>1.138570</td>\n",
       "      <td>-0.413935</td>\n",
       "    </tr>\n",
       "    <tr>\n",
       "      <th>12</th>\n",
       "      <td>1.142544</td>\n",
       "      <td>-0.843924</td>\n",
       "      <td>-0.186393</td>\n",
       "      <td>0.142881</td>\n",
       "    </tr>\n",
       "    <tr>\n",
       "      <th>13</th>\n",
       "      <td>1.407652</td>\n",
       "      <td>0.791607</td>\n",
       "      <td>-0.545165</td>\n",
       "      <td>-0.128504</td>\n",
       "    </tr>\n",
       "    <tr>\n",
       "      <th>14</th>\n",
       "      <td>1.409883</td>\n",
       "      <td>-0.997688</td>\n",
       "      <td>-0.773334</td>\n",
       "      <td>0.606940</td>\n",
       "    </tr>\n",
       "  </tbody>\n",
       "</table>\n",
       "</div>"
      ],
      "text/plain": [
       "    Columna11  Columna12  Columna13  Columna14\n",
       "10  -0.350665   1.515996   0.885111  -0.661080\n",
       "11  -0.204711   3.104169   1.138570  -0.413935\n",
       "12   1.142544  -0.843924  -0.186393   0.142881\n",
       "13   1.407652   0.791607  -0.545165  -0.128504\n",
       "14   1.409883  -0.997688  -0.773334   0.606940"
      ]
     },
     "execution_count": 296,
     "metadata": {},
     "output_type": "execute_result"
    }
   ],
   "source": [
    "df.columns=['Columna11','Columna12','Columna13','Columna14']\n",
    "df"
   ]
  },
  {
   "cell_type": "code",
   "execution_count": 297,
   "id": "b5286ce8",
   "metadata": {},
   "outputs": [
    {
     "data": {
      "text/plain": [
       "Index(['Columna11', 'Columna12', 'Columna13', 'Columna14'], dtype='object')"
      ]
     },
     "execution_count": 297,
     "metadata": {},
     "output_type": "execute_result"
    }
   ],
   "source": [
    "df.columns"
   ]
  },
  {
   "cell_type": "markdown",
   "id": "d33d0f86",
   "metadata": {},
   "source": [
    "#### Funciones de combinacion de DFs: CONCAT()\n",
    "\n",
    "* Funcion pd.concat()\n",
    "* Parametros:\n",
    "\n",
    "    * Los DFs a concatenar se indican dentro de una lista.\n",
    "    * axis= 0/1 Indica el eje por el cual se concatena. 0 por filas y 1 por columnas.\n",
    "\n",
    "Nota:\n",
    "\n",
    "    * si concateno horizontalmente (por filas) los DFs deberian tener la misma cantidad de columnas. \n",
    "        Si no es asi se rellenan con NaN los faltantes.\n",
    "    * si concateno verticalmente (por columnas) los DFs deberian tener la misma cantidad de filas.  \n",
    "        Si no es asi se rellenan con NaN los faltantes\n"
   ]
  },
  {
   "cell_type": "code",
   "execution_count": 236,
   "id": "c69bab4e",
   "metadata": {},
   "outputs": [],
   "source": [
    "import pandas as pd"
   ]
  },
  {
   "cell_type": "code",
   "execution_count": 237,
   "id": "a60bb17f",
   "metadata": {},
   "outputs": [],
   "source": [
    "a = pd.DataFrame({'A':['a0','a1','a2','a3'],'B':['b0','b1','b2','b3'],'C':['c0','c1','c2','c3'],'D':['d0','d1','d2','d3']})\n",
    "b = pd.DataFrame({'A':['a4','a5','a6','a7'],'B':['b4','b5','b6','b7'],'C':['c4','c5','c6','c7'],'D':['d4','d5','d6','d7']})\n",
    "c = pd.DataFrame({'A':['a8','a9','a10','a11'],'B':['b8','b9','b10','b11'],'C':['c8','c9','c10','c11'],'D':['d8','d9','d10','d11']})\n"
   ]
  },
  {
   "cell_type": "code",
   "execution_count": 238,
   "id": "a21947ba",
   "metadata": {},
   "outputs": [
    {
     "data": {
      "text/html": [
       "<div>\n",
       "<style scoped>\n",
       "    .dataframe tbody tr th:only-of-type {\n",
       "        vertical-align: middle;\n",
       "    }\n",
       "\n",
       "    .dataframe tbody tr th {\n",
       "        vertical-align: top;\n",
       "    }\n",
       "\n",
       "    .dataframe thead th {\n",
       "        text-align: right;\n",
       "    }\n",
       "</style>\n",
       "<table border=\"1\" class=\"dataframe\">\n",
       "  <thead>\n",
       "    <tr style=\"text-align: right;\">\n",
       "      <th></th>\n",
       "      <th>A</th>\n",
       "      <th>B</th>\n",
       "      <th>C</th>\n",
       "      <th>D</th>\n",
       "    </tr>\n",
       "  </thead>\n",
       "  <tbody>\n",
       "    <tr>\n",
       "      <th>0</th>\n",
       "      <td>a0</td>\n",
       "      <td>b0</td>\n",
       "      <td>c0</td>\n",
       "      <td>d0</td>\n",
       "    </tr>\n",
       "    <tr>\n",
       "      <th>1</th>\n",
       "      <td>a1</td>\n",
       "      <td>b1</td>\n",
       "      <td>c1</td>\n",
       "      <td>d1</td>\n",
       "    </tr>\n",
       "    <tr>\n",
       "      <th>2</th>\n",
       "      <td>a2</td>\n",
       "      <td>b2</td>\n",
       "      <td>c2</td>\n",
       "      <td>d2</td>\n",
       "    </tr>\n",
       "    <tr>\n",
       "      <th>3</th>\n",
       "      <td>a3</td>\n",
       "      <td>b3</td>\n",
       "      <td>c3</td>\n",
       "      <td>d3</td>\n",
       "    </tr>\n",
       "  </tbody>\n",
       "</table>\n",
       "</div>"
      ],
      "text/plain": [
       "    A   B   C   D\n",
       "0  a0  b0  c0  d0\n",
       "1  a1  b1  c1  d1\n",
       "2  a2  b2  c2  d2\n",
       "3  a3  b3  c3  d3"
      ]
     },
     "execution_count": 238,
     "metadata": {},
     "output_type": "execute_result"
    }
   ],
   "source": [
    "a"
   ]
  },
  {
   "cell_type": "code",
   "execution_count": 239,
   "id": "7c893a05",
   "metadata": {},
   "outputs": [
    {
     "data": {
      "text/html": [
       "<div>\n",
       "<style scoped>\n",
       "    .dataframe tbody tr th:only-of-type {\n",
       "        vertical-align: middle;\n",
       "    }\n",
       "\n",
       "    .dataframe tbody tr th {\n",
       "        vertical-align: top;\n",
       "    }\n",
       "\n",
       "    .dataframe thead th {\n",
       "        text-align: right;\n",
       "    }\n",
       "</style>\n",
       "<table border=\"1\" class=\"dataframe\">\n",
       "  <thead>\n",
       "    <tr style=\"text-align: right;\">\n",
       "      <th></th>\n",
       "      <th>A</th>\n",
       "      <th>B</th>\n",
       "      <th>C</th>\n",
       "      <th>D</th>\n",
       "    </tr>\n",
       "  </thead>\n",
       "  <tbody>\n",
       "    <tr>\n",
       "      <th>0</th>\n",
       "      <td>a4</td>\n",
       "      <td>b4</td>\n",
       "      <td>c4</td>\n",
       "      <td>d4</td>\n",
       "    </tr>\n",
       "    <tr>\n",
       "      <th>1</th>\n",
       "      <td>a5</td>\n",
       "      <td>b5</td>\n",
       "      <td>c5</td>\n",
       "      <td>d5</td>\n",
       "    </tr>\n",
       "    <tr>\n",
       "      <th>2</th>\n",
       "      <td>a6</td>\n",
       "      <td>b6</td>\n",
       "      <td>c6</td>\n",
       "      <td>d6</td>\n",
       "    </tr>\n",
       "    <tr>\n",
       "      <th>3</th>\n",
       "      <td>a7</td>\n",
       "      <td>b7</td>\n",
       "      <td>c7</td>\n",
       "      <td>d7</td>\n",
       "    </tr>\n",
       "  </tbody>\n",
       "</table>\n",
       "</div>"
      ],
      "text/plain": [
       "    A   B   C   D\n",
       "0  a4  b4  c4  d4\n",
       "1  a5  b5  c5  d5\n",
       "2  a6  b6  c6  d6\n",
       "3  a7  b7  c7  d7"
      ]
     },
     "execution_count": 239,
     "metadata": {},
     "output_type": "execute_result"
    }
   ],
   "source": [
    "b"
   ]
  },
  {
   "cell_type": "code",
   "execution_count": 240,
   "id": "db1e5321",
   "metadata": {},
   "outputs": [
    {
     "data": {
      "text/html": [
       "<div>\n",
       "<style scoped>\n",
       "    .dataframe tbody tr th:only-of-type {\n",
       "        vertical-align: middle;\n",
       "    }\n",
       "\n",
       "    .dataframe tbody tr th {\n",
       "        vertical-align: top;\n",
       "    }\n",
       "\n",
       "    .dataframe thead th {\n",
       "        text-align: right;\n",
       "    }\n",
       "</style>\n",
       "<table border=\"1\" class=\"dataframe\">\n",
       "  <thead>\n",
       "    <tr style=\"text-align: right;\">\n",
       "      <th></th>\n",
       "      <th>A</th>\n",
       "      <th>B</th>\n",
       "      <th>C</th>\n",
       "      <th>D</th>\n",
       "    </tr>\n",
       "  </thead>\n",
       "  <tbody>\n",
       "    <tr>\n",
       "      <th>0</th>\n",
       "      <td>a8</td>\n",
       "      <td>b8</td>\n",
       "      <td>c8</td>\n",
       "      <td>d8</td>\n",
       "    </tr>\n",
       "    <tr>\n",
       "      <th>1</th>\n",
       "      <td>a9</td>\n",
       "      <td>b9</td>\n",
       "      <td>c9</td>\n",
       "      <td>d9</td>\n",
       "    </tr>\n",
       "    <tr>\n",
       "      <th>2</th>\n",
       "      <td>a10</td>\n",
       "      <td>b10</td>\n",
       "      <td>c10</td>\n",
       "      <td>d10</td>\n",
       "    </tr>\n",
       "    <tr>\n",
       "      <th>3</th>\n",
       "      <td>a11</td>\n",
       "      <td>b11</td>\n",
       "      <td>c11</td>\n",
       "      <td>d11</td>\n",
       "    </tr>\n",
       "  </tbody>\n",
       "</table>\n",
       "</div>"
      ],
      "text/plain": [
       "     A    B    C    D\n",
       "0   a8   b8   c8   d8\n",
       "1   a9   b9   c9   d9\n",
       "2  a10  b10  c10  d10\n",
       "3  a11  b11  c11  d11"
      ]
     },
     "execution_count": 240,
     "metadata": {},
     "output_type": "execute_result"
    }
   ],
   "source": [
    "c"
   ]
  },
  {
   "cell_type": "code",
   "execution_count": 241,
   "id": "62f04454",
   "metadata": {},
   "outputs": [
    {
     "data": {
      "text/html": [
       "<div>\n",
       "<style scoped>\n",
       "    .dataframe tbody tr th:only-of-type {\n",
       "        vertical-align: middle;\n",
       "    }\n",
       "\n",
       "    .dataframe tbody tr th {\n",
       "        vertical-align: top;\n",
       "    }\n",
       "\n",
       "    .dataframe thead th {\n",
       "        text-align: right;\n",
       "    }\n",
       "</style>\n",
       "<table border=\"1\" class=\"dataframe\">\n",
       "  <thead>\n",
       "    <tr style=\"text-align: right;\">\n",
       "      <th></th>\n",
       "      <th>A</th>\n",
       "      <th>B</th>\n",
       "      <th>C</th>\n",
       "      <th>D</th>\n",
       "    </tr>\n",
       "  </thead>\n",
       "  <tbody>\n",
       "    <tr>\n",
       "      <th>0</th>\n",
       "      <td>a0</td>\n",
       "      <td>b0</td>\n",
       "      <td>c0</td>\n",
       "      <td>d0</td>\n",
       "    </tr>\n",
       "    <tr>\n",
       "      <th>1</th>\n",
       "      <td>a1</td>\n",
       "      <td>b1</td>\n",
       "      <td>c1</td>\n",
       "      <td>d1</td>\n",
       "    </tr>\n",
       "    <tr>\n",
       "      <th>2</th>\n",
       "      <td>a2</td>\n",
       "      <td>b2</td>\n",
       "      <td>c2</td>\n",
       "      <td>d2</td>\n",
       "    </tr>\n",
       "    <tr>\n",
       "      <th>3</th>\n",
       "      <td>a3</td>\n",
       "      <td>b3</td>\n",
       "      <td>c3</td>\n",
       "      <td>d3</td>\n",
       "    </tr>\n",
       "    <tr>\n",
       "      <th>0</th>\n",
       "      <td>a4</td>\n",
       "      <td>b4</td>\n",
       "      <td>c4</td>\n",
       "      <td>d4</td>\n",
       "    </tr>\n",
       "    <tr>\n",
       "      <th>1</th>\n",
       "      <td>a5</td>\n",
       "      <td>b5</td>\n",
       "      <td>c5</td>\n",
       "      <td>d5</td>\n",
       "    </tr>\n",
       "    <tr>\n",
       "      <th>2</th>\n",
       "      <td>a6</td>\n",
       "      <td>b6</td>\n",
       "      <td>c6</td>\n",
       "      <td>d6</td>\n",
       "    </tr>\n",
       "    <tr>\n",
       "      <th>3</th>\n",
       "      <td>a7</td>\n",
       "      <td>b7</td>\n",
       "      <td>c7</td>\n",
       "      <td>d7</td>\n",
       "    </tr>\n",
       "    <tr>\n",
       "      <th>0</th>\n",
       "      <td>a8</td>\n",
       "      <td>b8</td>\n",
       "      <td>c8</td>\n",
       "      <td>d8</td>\n",
       "    </tr>\n",
       "    <tr>\n",
       "      <th>1</th>\n",
       "      <td>a9</td>\n",
       "      <td>b9</td>\n",
       "      <td>c9</td>\n",
       "      <td>d9</td>\n",
       "    </tr>\n",
       "    <tr>\n",
       "      <th>2</th>\n",
       "      <td>a10</td>\n",
       "      <td>b10</td>\n",
       "      <td>c10</td>\n",
       "      <td>d10</td>\n",
       "    </tr>\n",
       "    <tr>\n",
       "      <th>3</th>\n",
       "      <td>a11</td>\n",
       "      <td>b11</td>\n",
       "      <td>c11</td>\n",
       "      <td>d11</td>\n",
       "    </tr>\n",
       "  </tbody>\n",
       "</table>\n",
       "</div>"
      ],
      "text/plain": [
       "     A    B    C    D\n",
       "0   a0   b0   c0   d0\n",
       "1   a1   b1   c1   d1\n",
       "2   a2   b2   c2   d2\n",
       "3   a3   b3   c3   d3\n",
       "0   a4   b4   c4   d4\n",
       "1   a5   b5   c5   d5\n",
       "2   a6   b6   c6   d6\n",
       "3   a7   b7   c7   d7\n",
       "0   a8   b8   c8   d8\n",
       "1   a9   b9   c9   d9\n",
       "2  a10  b10  c10  d10\n",
       "3  a11  b11  c11  d11"
      ]
     },
     "execution_count": 241,
     "metadata": {},
     "output_type": "execute_result"
    }
   ],
   "source": [
    "pd.concat([a,b,c], axis=0) # concatena por fila"
   ]
  },
  {
   "cell_type": "code",
   "execution_count": 313,
   "id": "3e7a2d9c",
   "metadata": {},
   "outputs": [
    {
     "data": {
      "text/plain": [
       "A    a0\n",
       "B    b0\n",
       "C    c0\n",
       "D    d0\n",
       "Name: 0, dtype: object"
      ]
     },
     "execution_count": 313,
     "metadata": {},
     "output_type": "execute_result"
    }
   ],
   "source": [
    "# Al concatenar se duplicaron los indices\n",
    "pd.concat([a,b,c], axis=0).iloc[0] # mismo resultado que abajo\n",
    "#pd.concat([a,b,c], axis=0).iloc[0,:] # Solo me muestra el primero de los indices 0"
   ]
  },
  {
   "cell_type": "code",
   "execution_count": 242,
   "id": "8d86646e",
   "metadata": {},
   "outputs": [
    {
     "data": {
      "text/html": [
       "<div>\n",
       "<style scoped>\n",
       "    .dataframe tbody tr th:only-of-type {\n",
       "        vertical-align: middle;\n",
       "    }\n",
       "\n",
       "    .dataframe tbody tr th {\n",
       "        vertical-align: top;\n",
       "    }\n",
       "\n",
       "    .dataframe thead th {\n",
       "        text-align: right;\n",
       "    }\n",
       "</style>\n",
       "<table border=\"1\" class=\"dataframe\">\n",
       "  <thead>\n",
       "    <tr style=\"text-align: right;\">\n",
       "      <th></th>\n",
       "      <th>A</th>\n",
       "      <th>B</th>\n",
       "      <th>C</th>\n",
       "      <th>D</th>\n",
       "      <th>A</th>\n",
       "      <th>B</th>\n",
       "      <th>C</th>\n",
       "      <th>D</th>\n",
       "      <th>A</th>\n",
       "      <th>B</th>\n",
       "      <th>C</th>\n",
       "      <th>D</th>\n",
       "    </tr>\n",
       "  </thead>\n",
       "  <tbody>\n",
       "    <tr>\n",
       "      <th>0</th>\n",
       "      <td>a0</td>\n",
       "      <td>b0</td>\n",
       "      <td>c0</td>\n",
       "      <td>d0</td>\n",
       "      <td>a4</td>\n",
       "      <td>b4</td>\n",
       "      <td>c4</td>\n",
       "      <td>d4</td>\n",
       "      <td>a8</td>\n",
       "      <td>b8</td>\n",
       "      <td>c8</td>\n",
       "      <td>d8</td>\n",
       "    </tr>\n",
       "    <tr>\n",
       "      <th>1</th>\n",
       "      <td>a1</td>\n",
       "      <td>b1</td>\n",
       "      <td>c1</td>\n",
       "      <td>d1</td>\n",
       "      <td>a5</td>\n",
       "      <td>b5</td>\n",
       "      <td>c5</td>\n",
       "      <td>d5</td>\n",
       "      <td>a9</td>\n",
       "      <td>b9</td>\n",
       "      <td>c9</td>\n",
       "      <td>d9</td>\n",
       "    </tr>\n",
       "    <tr>\n",
       "      <th>2</th>\n",
       "      <td>a2</td>\n",
       "      <td>b2</td>\n",
       "      <td>c2</td>\n",
       "      <td>d2</td>\n",
       "      <td>a6</td>\n",
       "      <td>b6</td>\n",
       "      <td>c6</td>\n",
       "      <td>d6</td>\n",
       "      <td>a10</td>\n",
       "      <td>b10</td>\n",
       "      <td>c10</td>\n",
       "      <td>d10</td>\n",
       "    </tr>\n",
       "    <tr>\n",
       "      <th>3</th>\n",
       "      <td>a3</td>\n",
       "      <td>b3</td>\n",
       "      <td>c3</td>\n",
       "      <td>d3</td>\n",
       "      <td>a7</td>\n",
       "      <td>b7</td>\n",
       "      <td>c7</td>\n",
       "      <td>d7</td>\n",
       "      <td>a11</td>\n",
       "      <td>b11</td>\n",
       "      <td>c11</td>\n",
       "      <td>d11</td>\n",
       "    </tr>\n",
       "  </tbody>\n",
       "</table>\n",
       "</div>"
      ],
      "text/plain": [
       "    A   B   C   D   A   B   C   D    A    B    C    D\n",
       "0  a0  b0  c0  d0  a4  b4  c4  d4   a8   b8   c8   d8\n",
       "1  a1  b1  c1  d1  a5  b5  c5  d5   a9   b9   c9   d9\n",
       "2  a2  b2  c2  d2  a6  b6  c6  d6  a10  b10  c10  d10\n",
       "3  a3  b3  c3  d3  a7  b7  c7  d7  a11  b11  c11  d11"
      ]
     },
     "execution_count": 242,
     "metadata": {},
     "output_type": "execute_result"
    }
   ],
   "source": [
    "pd.concat([a,b,c], axis=1) # concatena por columnas"
   ]
  },
  {
   "cell_type": "code",
   "execution_count": 243,
   "id": "89a5f4bb",
   "metadata": {},
   "outputs": [
    {
     "data": {
      "text/html": [
       "<div>\n",
       "<style scoped>\n",
       "    .dataframe tbody tr th:only-of-type {\n",
       "        vertical-align: middle;\n",
       "    }\n",
       "\n",
       "    .dataframe tbody tr th {\n",
       "        vertical-align: top;\n",
       "    }\n",
       "\n",
       "    .dataframe thead th {\n",
       "        text-align: right;\n",
       "    }\n",
       "</style>\n",
       "<table border=\"1\" class=\"dataframe\">\n",
       "  <thead>\n",
       "    <tr style=\"text-align: right;\">\n",
       "      <th></th>\n",
       "      <th>A</th>\n",
       "      <th>A</th>\n",
       "      <th>A</th>\n",
       "    </tr>\n",
       "  </thead>\n",
       "  <tbody>\n",
       "    <tr>\n",
       "      <th>0</th>\n",
       "      <td>a0</td>\n",
       "      <td>a4</td>\n",
       "      <td>a8</td>\n",
       "    </tr>\n",
       "    <tr>\n",
       "      <th>1</th>\n",
       "      <td>a1</td>\n",
       "      <td>a5</td>\n",
       "      <td>a9</td>\n",
       "    </tr>\n",
       "    <tr>\n",
       "      <th>2</th>\n",
       "      <td>a2</td>\n",
       "      <td>a6</td>\n",
       "      <td>a10</td>\n",
       "    </tr>\n",
       "    <tr>\n",
       "      <th>3</th>\n",
       "      <td>a3</td>\n",
       "      <td>a7</td>\n",
       "      <td>a11</td>\n",
       "    </tr>\n",
       "  </tbody>\n",
       "</table>\n",
       "</div>"
      ],
      "text/plain": [
       "    A   A    A\n",
       "0  a0  a4   a8\n",
       "1  a1  a5   a9\n",
       "2  a2  a6  a10\n",
       "3  a3  a7  a11"
      ]
     },
     "execution_count": 243,
     "metadata": {},
     "output_type": "execute_result"
    }
   ],
   "source": [
    "pd.concat([a,b,c], axis=1)[['A']] # las columnas A "
   ]
  },
  {
   "cell_type": "code",
   "execution_count": 244,
   "id": "591c364f",
   "metadata": {},
   "outputs": [
    {
     "data": {
      "text/html": [
       "<div>\n",
       "<style scoped>\n",
       "    .dataframe tbody tr th:only-of-type {\n",
       "        vertical-align: middle;\n",
       "    }\n",
       "\n",
       "    .dataframe tbody tr th {\n",
       "        vertical-align: top;\n",
       "    }\n",
       "\n",
       "    .dataframe thead th {\n",
       "        text-align: right;\n",
       "    }\n",
       "</style>\n",
       "<table border=\"1\" class=\"dataframe\">\n",
       "  <thead>\n",
       "    <tr style=\"text-align: right;\">\n",
       "      <th></th>\n",
       "      <th>A</th>\n",
       "      <th>A</th>\n",
       "      <th>A</th>\n",
       "      <th>B</th>\n",
       "      <th>B</th>\n",
       "      <th>B</th>\n",
       "      <th>C</th>\n",
       "      <th>C</th>\n",
       "      <th>C</th>\n",
       "    </tr>\n",
       "  </thead>\n",
       "  <tbody>\n",
       "    <tr>\n",
       "      <th>0</th>\n",
       "      <td>a0</td>\n",
       "      <td>a4</td>\n",
       "      <td>a8</td>\n",
       "      <td>b0</td>\n",
       "      <td>b4</td>\n",
       "      <td>b8</td>\n",
       "      <td>c0</td>\n",
       "      <td>c4</td>\n",
       "      <td>c8</td>\n",
       "    </tr>\n",
       "    <tr>\n",
       "      <th>1</th>\n",
       "      <td>a1</td>\n",
       "      <td>a5</td>\n",
       "      <td>a9</td>\n",
       "      <td>b1</td>\n",
       "      <td>b5</td>\n",
       "      <td>b9</td>\n",
       "      <td>c1</td>\n",
       "      <td>c5</td>\n",
       "      <td>c9</td>\n",
       "    </tr>\n",
       "    <tr>\n",
       "      <th>2</th>\n",
       "      <td>a2</td>\n",
       "      <td>a6</td>\n",
       "      <td>a10</td>\n",
       "      <td>b2</td>\n",
       "      <td>b6</td>\n",
       "      <td>b10</td>\n",
       "      <td>c2</td>\n",
       "      <td>c6</td>\n",
       "      <td>c10</td>\n",
       "    </tr>\n",
       "    <tr>\n",
       "      <th>3</th>\n",
       "      <td>a3</td>\n",
       "      <td>a7</td>\n",
       "      <td>a11</td>\n",
       "      <td>b3</td>\n",
       "      <td>b7</td>\n",
       "      <td>b11</td>\n",
       "      <td>c3</td>\n",
       "      <td>c7</td>\n",
       "      <td>c11</td>\n",
       "    </tr>\n",
       "  </tbody>\n",
       "</table>\n",
       "</div>"
      ],
      "text/plain": [
       "    A   A    A   B   B    B   C   C    C\n",
       "0  a0  a4   a8  b0  b4   b8  c0  c4   c8\n",
       "1  a1  a5   a9  b1  b5   b9  c1  c5   c9\n",
       "2  a2  a6  a10  b2  b6  b10  c2  c6  c10\n",
       "3  a3  a7  a11  b3  b7  b11  c3  c7  c11"
      ]
     },
     "execution_count": 244,
     "metadata": {},
     "output_type": "execute_result"
    }
   ],
   "source": [
    "pd.concat([a,b,c], axis=1)[['A','B','C']] # orden de columnas (todas las A, todas las B, todas las C) "
   ]
  },
  {
   "cell_type": "markdown",
   "id": "e4918a31",
   "metadata": {},
   "source": [
    "NOTA: pandas permite indices de filas y/o columnas repetidas !!!!  madre mia"
   ]
  },
  {
   "cell_type": "code",
   "execution_count": 246,
   "id": "5b8c2ec1",
   "metadata": {},
   "outputs": [
    {
     "data": {
      "text/html": [
       "<div>\n",
       "<style scoped>\n",
       "    .dataframe tbody tr th:only-of-type {\n",
       "        vertical-align: middle;\n",
       "    }\n",
       "\n",
       "    .dataframe tbody tr th {\n",
       "        vertical-align: top;\n",
       "    }\n",
       "\n",
       "    .dataframe thead th {\n",
       "        text-align: right;\n",
       "    }\n",
       "</style>\n",
       "<table border=\"1\" class=\"dataframe\">\n",
       "  <thead>\n",
       "    <tr style=\"text-align: right;\">\n",
       "      <th></th>\n",
       "      <th>A</th>\n",
       "      <th>A</th>\n",
       "      <th>A</th>\n",
       "    </tr>\n",
       "  </thead>\n",
       "  <tbody>\n",
       "    <tr>\n",
       "      <th>0</th>\n",
       "      <td>a0</td>\n",
       "      <td>a4</td>\n",
       "      <td>a8</td>\n",
       "    </tr>\n",
       "    <tr>\n",
       "      <th>1</th>\n",
       "      <td>a1</td>\n",
       "      <td>a5</td>\n",
       "      <td>a9</td>\n",
       "    </tr>\n",
       "    <tr>\n",
       "      <th>2</th>\n",
       "      <td>a2</td>\n",
       "      <td>a6</td>\n",
       "      <td>a10</td>\n",
       "    </tr>\n",
       "    <tr>\n",
       "      <th>3</th>\n",
       "      <td>a3</td>\n",
       "      <td>a7</td>\n",
       "      <td>a11</td>\n",
       "    </tr>\n",
       "  </tbody>\n",
       "</table>\n",
       "</div>"
      ],
      "text/plain": [
       "    A   A    A\n",
       "0  a0  a4   a8\n",
       "1  a1  a5   a9\n",
       "2  a2  a6  a10\n",
       "3  a3  a7  a11"
      ]
     },
     "execution_count": 246,
     "metadata": {},
     "output_type": "execute_result"
    }
   ],
   "source": [
    "pd.concat([a,b,c], axis=1)[['A','B','C']]['A'] # si selecciono la columna A me muestra las tres A"
   ]
  },
  {
   "cell_type": "code",
   "execution_count": 247,
   "id": "55cb7ddf",
   "metadata": {},
   "outputs": [],
   "source": [
    "d = pd.DataFrame({'A':['a0','a1','a2','a3'],'B':['b0','b1','b2','b3'],'C':['c0','c1','c2','c3'],'D':['d0','d1','d2','d3']})\n",
    "e = pd.DataFrame({'A':['a4','a5','a6','a7'],'B':['b4','b5','b6','b7'],'C':['c4','c5','c6','c7']}) # una columna menos"
   ]
  },
  {
   "cell_type": "code",
   "execution_count": 248,
   "id": "0f1aec9c",
   "metadata": {},
   "outputs": [
    {
     "data": {
      "text/html": [
       "<div>\n",
       "<style scoped>\n",
       "    .dataframe tbody tr th:only-of-type {\n",
       "        vertical-align: middle;\n",
       "    }\n",
       "\n",
       "    .dataframe tbody tr th {\n",
       "        vertical-align: top;\n",
       "    }\n",
       "\n",
       "    .dataframe thead th {\n",
       "        text-align: right;\n",
       "    }\n",
       "</style>\n",
       "<table border=\"1\" class=\"dataframe\">\n",
       "  <thead>\n",
       "    <tr style=\"text-align: right;\">\n",
       "      <th></th>\n",
       "      <th>A</th>\n",
       "      <th>B</th>\n",
       "      <th>C</th>\n",
       "      <th>D</th>\n",
       "    </tr>\n",
       "  </thead>\n",
       "  <tbody>\n",
       "    <tr>\n",
       "      <th>0</th>\n",
       "      <td>a0</td>\n",
       "      <td>b0</td>\n",
       "      <td>c0</td>\n",
       "      <td>d0</td>\n",
       "    </tr>\n",
       "    <tr>\n",
       "      <th>1</th>\n",
       "      <td>a1</td>\n",
       "      <td>b1</td>\n",
       "      <td>c1</td>\n",
       "      <td>d1</td>\n",
       "    </tr>\n",
       "    <tr>\n",
       "      <th>2</th>\n",
       "      <td>a2</td>\n",
       "      <td>b2</td>\n",
       "      <td>c2</td>\n",
       "      <td>d2</td>\n",
       "    </tr>\n",
       "    <tr>\n",
       "      <th>3</th>\n",
       "      <td>a3</td>\n",
       "      <td>b3</td>\n",
       "      <td>c3</td>\n",
       "      <td>d3</td>\n",
       "    </tr>\n",
       "    <tr>\n",
       "      <th>0</th>\n",
       "      <td>a4</td>\n",
       "      <td>b4</td>\n",
       "      <td>c4</td>\n",
       "      <td>NaN</td>\n",
       "    </tr>\n",
       "    <tr>\n",
       "      <th>1</th>\n",
       "      <td>a5</td>\n",
       "      <td>b5</td>\n",
       "      <td>c5</td>\n",
       "      <td>NaN</td>\n",
       "    </tr>\n",
       "    <tr>\n",
       "      <th>2</th>\n",
       "      <td>a6</td>\n",
       "      <td>b6</td>\n",
       "      <td>c6</td>\n",
       "      <td>NaN</td>\n",
       "    </tr>\n",
       "    <tr>\n",
       "      <th>3</th>\n",
       "      <td>a7</td>\n",
       "      <td>b7</td>\n",
       "      <td>c7</td>\n",
       "      <td>NaN</td>\n",
       "    </tr>\n",
       "  </tbody>\n",
       "</table>\n",
       "</div>"
      ],
      "text/plain": [
       "    A   B   C    D\n",
       "0  a0  b0  c0   d0\n",
       "1  a1  b1  c1   d1\n",
       "2  a2  b2  c2   d2\n",
       "3  a3  b3  c3   d3\n",
       "0  a4  b4  c4  NaN\n",
       "1  a5  b5  c5  NaN\n",
       "2  a6  b6  c6  NaN\n",
       "3  a7  b7  c7  NaN"
      ]
     },
     "execution_count": 248,
     "metadata": {},
     "output_type": "execute_result"
    }
   ],
   "source": [
    "pd.concat([d,e], axis=0)"
   ]
  },
  {
   "cell_type": "code",
   "execution_count": 316,
   "id": "ec4d122d",
   "metadata": {},
   "outputs": [
    {
     "data": {
      "text/html": [
       "<div>\n",
       "<style scoped>\n",
       "    .dataframe tbody tr th:only-of-type {\n",
       "        vertical-align: middle;\n",
       "    }\n",
       "\n",
       "    .dataframe tbody tr th {\n",
       "        vertical-align: top;\n",
       "    }\n",
       "\n",
       "    .dataframe thead th {\n",
       "        text-align: right;\n",
       "    }\n",
       "</style>\n",
       "<table border=\"1\" class=\"dataframe\">\n",
       "  <thead>\n",
       "    <tr style=\"text-align: right;\">\n",
       "      <th></th>\n",
       "      <th>A</th>\n",
       "      <th>B</th>\n",
       "      <th>C</th>\n",
       "      <th>D</th>\n",
       "    </tr>\n",
       "  </thead>\n",
       "  <tbody>\n",
       "    <tr>\n",
       "      <th>0</th>\n",
       "      <td>a0</td>\n",
       "      <td>b0</td>\n",
       "      <td>c0</td>\n",
       "      <td>d0</td>\n",
       "    </tr>\n",
       "    <tr>\n",
       "      <th>1</th>\n",
       "      <td>a1</td>\n",
       "      <td>b1</td>\n",
       "      <td>c1</td>\n",
       "      <td>d1</td>\n",
       "    </tr>\n",
       "    <tr>\n",
       "      <th>2</th>\n",
       "      <td>a2</td>\n",
       "      <td>b2</td>\n",
       "      <td>c2</td>\n",
       "      <td>d2</td>\n",
       "    </tr>\n",
       "    <tr>\n",
       "      <th>3</th>\n",
       "      <td>a3</td>\n",
       "      <td>b3</td>\n",
       "      <td>c3</td>\n",
       "      <td>d3</td>\n",
       "    </tr>\n",
       "    <tr>\n",
       "      <th>0</th>\n",
       "      <td>a4</td>\n",
       "      <td>b4</td>\n",
       "      <td>c4</td>\n",
       "      <td>NaN</td>\n",
       "    </tr>\n",
       "    <tr>\n",
       "      <th>1</th>\n",
       "      <td>a5</td>\n",
       "      <td>b5</td>\n",
       "      <td>c5</td>\n",
       "      <td>NaN</td>\n",
       "    </tr>\n",
       "    <tr>\n",
       "      <th>2</th>\n",
       "      <td>a6</td>\n",
       "      <td>b6</td>\n",
       "      <td>c6</td>\n",
       "      <td>NaN</td>\n",
       "    </tr>\n",
       "    <tr>\n",
       "      <th>3</th>\n",
       "      <td>a7</td>\n",
       "      <td>b7</td>\n",
       "      <td>c7</td>\n",
       "      <td>NaN</td>\n",
       "    </tr>\n",
       "  </tbody>\n",
       "</table>\n",
       "</div>"
      ],
      "text/plain": [
       "    A   B   C    D\n",
       "0  a0  b0  c0   d0\n",
       "1  a1  b1  c1   d1\n",
       "2  a2  b2  c2   d2\n",
       "3  a3  b3  c3   d3\n",
       "0  a4  b4  c4  NaN\n",
       "1  a5  b5  c5  NaN\n",
       "2  a6  b6  c6  NaN\n",
       "3  a7  b7  c7  NaN"
      ]
     },
     "execution_count": 316,
     "metadata": {},
     "output_type": "execute_result"
    }
   ],
   "source": [
    "pd.concat([d,e], axis=0)# .iloc[0]"
   ]
  },
  {
   "cell_type": "code",
   "execution_count": 372,
   "id": "f1f85f00",
   "metadata": {},
   "outputs": [],
   "source": [
    "f = pd.DataFrame({'A':['a0','a1','a2','a3'],'B':['b0','b1','b2','b3'],'C':['c0','c1','c2','c3']})\n",
    "g = pd.DataFrame({'A':['a4','a5'],'B':['b4','b5'],'C':['c4','c5']})"
   ]
  },
  {
   "cell_type": "code",
   "execution_count": 210,
   "id": "48411c06",
   "metadata": {},
   "outputs": [
    {
     "data": {
      "text/html": [
       "<div>\n",
       "<style scoped>\n",
       "    .dataframe tbody tr th:only-of-type {\n",
       "        vertical-align: middle;\n",
       "    }\n",
       "\n",
       "    .dataframe tbody tr th {\n",
       "        vertical-align: top;\n",
       "    }\n",
       "\n",
       "    .dataframe thead th {\n",
       "        text-align: right;\n",
       "    }\n",
       "</style>\n",
       "<table border=\"1\" class=\"dataframe\">\n",
       "  <thead>\n",
       "    <tr style=\"text-align: right;\">\n",
       "      <th></th>\n",
       "      <th>A</th>\n",
       "      <th>B</th>\n",
       "      <th>C</th>\n",
       "      <th>A</th>\n",
       "      <th>B</th>\n",
       "      <th>C</th>\n",
       "    </tr>\n",
       "  </thead>\n",
       "  <tbody>\n",
       "    <tr>\n",
       "      <th>0</th>\n",
       "      <td>a0</td>\n",
       "      <td>b0</td>\n",
       "      <td>c0</td>\n",
       "      <td>a4</td>\n",
       "      <td>b4</td>\n",
       "      <td>c4</td>\n",
       "    </tr>\n",
       "    <tr>\n",
       "      <th>1</th>\n",
       "      <td>a1</td>\n",
       "      <td>b1</td>\n",
       "      <td>c1</td>\n",
       "      <td>a5</td>\n",
       "      <td>b5</td>\n",
       "      <td>c5</td>\n",
       "    </tr>\n",
       "    <tr>\n",
       "      <th>2</th>\n",
       "      <td>a2</td>\n",
       "      <td>b2</td>\n",
       "      <td>c2</td>\n",
       "      <td>NaN</td>\n",
       "      <td>NaN</td>\n",
       "      <td>NaN</td>\n",
       "    </tr>\n",
       "    <tr>\n",
       "      <th>3</th>\n",
       "      <td>a3</td>\n",
       "      <td>b3</td>\n",
       "      <td>c3</td>\n",
       "      <td>NaN</td>\n",
       "      <td>NaN</td>\n",
       "      <td>NaN</td>\n",
       "    </tr>\n",
       "  </tbody>\n",
       "</table>\n",
       "</div>"
      ],
      "text/plain": [
       "    A   B   C    A    B    C\n",
       "0  a0  b0  c0   a4   b4   c4\n",
       "1  a1  b1  c1   a5   b5   c5\n",
       "2  a2  b2  c2  NaN  NaN  NaN\n",
       "3  a3  b3  c3  NaN  NaN  NaN"
      ]
     },
     "execution_count": 210,
     "metadata": {},
     "output_type": "execute_result"
    }
   ],
   "source": [
    "pd.concat([f,g], axis=1)"
   ]
  },
  {
   "cell_type": "markdown",
   "id": "152225bd",
   "metadata": {},
   "source": [
    "#### Funciones de combinacion de DFs: MERGE()\n",
    "\n",
    "\n",
    "Funcion pd.merche(df1, df2, how=< tipounion >, on/left_on, right_on=< columna/s >)\n",
    "    \n",
    "Util para combinar tablas independientes donde los campos de union puedan no tener el mismo nombre, puesto que me permite no solo el ON sino ademas LEFT_ON/RIGHT_ON.\n",
    "\n",
    "    \n",
    "Parametros:\n",
    "\n",
    "* Los dos DFs que se quieren combinar\n",
    "\n",
    "* how: define el tipo de union.\n",
    "    \n",
    "    * inner (interseccion, lo que tienen en comun ambos DFs)\n",
    "    * outer (todo de ambos DFs y se completa con NaN lo faltante)\n",
    "    * left (todo lo que esta en el de la izquierda + la interseccion)\n",
    "    * right (todo lo que esta en el de la derecha + la interseccion)\n",
    "       \n",
    "* on: define la/s variable/s de la union. Si son dos o mas se indican como lista. \n",
    "* left_on='col_dfA', right_on='col_dfB' :  Si las columnas tienen distinto nombre en cada DF\n",
    "    \n"
   ]
  },
  {
   "cell_type": "code",
   "execution_count": 211,
   "id": "e8d55906",
   "metadata": {},
   "outputs": [],
   "source": [
    "df1 = pd.DataFrame({'A':['a0','a1','a2','a3'],'B':['b0','b1','b2','b3'],'C':['c0','c1','c2','c3'],'D':['d0','d1','d2','d3']}, index=[0,1,2,3])\n",
    "df2 = pd.DataFrame({'A':['a4','a5','a6','a7'],'B':['b4','b5','b6','b7'],'C':['c4','c5','c6','c7'],'D':['d4','d5','d6','d7']},index=[4,5,6,7])\n",
    "df3 = pd.DataFrame({'A':['a8','a9','a10','a11'],'B':['b8','b9','b10','b11'],'C':['c8','c9','c10','c11'],'D':['d8','d9','d10','d11']},index=[8,9,10,11])\n",
    "\n",
    "df7 = pd.DataFrame({'key':['k0','k1','k2','k3'],'A':['a0','a1','a2','a3'],'B':['b0','b1','b2','b3'],'C':['c0','c1','c2','c3'],'D':['d0','d1','d2','d3']}, index=[4,21,33,5])\n",
    "df8 = pd.DataFrame({'key':['k0','k1','k2','k3'],'E':['e4','e5','e6','e7'],'F':['f4','f5','f6','f7'],'G':['g4','g5','g6','g7'],'H':['h4','h5','h6','h7']})\n",
    "df9 = pd.DataFrame({'key1':['k0','k1','k2','k3'],'key2':['k0','k1','k0','k1'],'A':['a0','a1','a2','a3'],'B':['b0','b1','b2','b3'],'C':['c0','c1','c2','c3'],'D':['d0','d1','d2','d3']})\n",
    "df10 = pd.DataFrame({'key1':['k0','k1','k2','k3'],'key2':['k1','k1','k1','k1'],'E':['e4','e5','e6','e7'],'F':['f4','f5','f6','f7'],'G':['g4','g5','g6','g7'],'H':['h4','h5','h6','h7']})\n",
    "df11 = pd.DataFrame({'A':['a0','a1','a2','a3'],'B':['b0','b1','b2','b3']}, index=[4,21,31,5])\n",
    "df12 = pd.DataFrame({'C':['c0','c1','c2','c3'],'D':['d0','d1','d2','d3']}, index=[4,21,33,5])\n"
   ]
  },
  {
   "cell_type": "code",
   "execution_count": 212,
   "id": "fa5d129f",
   "metadata": {},
   "outputs": [
    {
     "data": {
      "text/html": [
       "<div>\n",
       "<style scoped>\n",
       "    .dataframe tbody tr th:only-of-type {\n",
       "        vertical-align: middle;\n",
       "    }\n",
       "\n",
       "    .dataframe tbody tr th {\n",
       "        vertical-align: top;\n",
       "    }\n",
       "\n",
       "    .dataframe thead th {\n",
       "        text-align: right;\n",
       "    }\n",
       "</style>\n",
       "<table border=\"1\" class=\"dataframe\">\n",
       "  <thead>\n",
       "    <tr style=\"text-align: right;\">\n",
       "      <th></th>\n",
       "      <th>key</th>\n",
       "      <th>A</th>\n",
       "      <th>B</th>\n",
       "      <th>C</th>\n",
       "      <th>D</th>\n",
       "    </tr>\n",
       "  </thead>\n",
       "  <tbody>\n",
       "    <tr>\n",
       "      <th>4</th>\n",
       "      <td>k0</td>\n",
       "      <td>a0</td>\n",
       "      <td>b0</td>\n",
       "      <td>c0</td>\n",
       "      <td>d0</td>\n",
       "    </tr>\n",
       "    <tr>\n",
       "      <th>21</th>\n",
       "      <td>k1</td>\n",
       "      <td>a1</td>\n",
       "      <td>b1</td>\n",
       "      <td>c1</td>\n",
       "      <td>d1</td>\n",
       "    </tr>\n",
       "    <tr>\n",
       "      <th>33</th>\n",
       "      <td>k2</td>\n",
       "      <td>a2</td>\n",
       "      <td>b2</td>\n",
       "      <td>c2</td>\n",
       "      <td>d2</td>\n",
       "    </tr>\n",
       "    <tr>\n",
       "      <th>5</th>\n",
       "      <td>k3</td>\n",
       "      <td>a3</td>\n",
       "      <td>b3</td>\n",
       "      <td>c3</td>\n",
       "      <td>d3</td>\n",
       "    </tr>\n",
       "  </tbody>\n",
       "</table>\n",
       "</div>"
      ],
      "text/plain": [
       "   key   A   B   C   D\n",
       "4   k0  a0  b0  c0  d0\n",
       "21  k1  a1  b1  c1  d1\n",
       "33  k2  a2  b2  c2  d2\n",
       "5   k3  a3  b3  c3  d3"
      ]
     },
     "execution_count": 212,
     "metadata": {},
     "output_type": "execute_result"
    }
   ],
   "source": [
    "df7"
   ]
  },
  {
   "cell_type": "code",
   "execution_count": 213,
   "id": "6cafc0e4",
   "metadata": {},
   "outputs": [
    {
     "data": {
      "text/html": [
       "<div>\n",
       "<style scoped>\n",
       "    .dataframe tbody tr th:only-of-type {\n",
       "        vertical-align: middle;\n",
       "    }\n",
       "\n",
       "    .dataframe tbody tr th {\n",
       "        vertical-align: top;\n",
       "    }\n",
       "\n",
       "    .dataframe thead th {\n",
       "        text-align: right;\n",
       "    }\n",
       "</style>\n",
       "<table border=\"1\" class=\"dataframe\">\n",
       "  <thead>\n",
       "    <tr style=\"text-align: right;\">\n",
       "      <th></th>\n",
       "      <th>key</th>\n",
       "      <th>E</th>\n",
       "      <th>F</th>\n",
       "      <th>G</th>\n",
       "      <th>H</th>\n",
       "    </tr>\n",
       "  </thead>\n",
       "  <tbody>\n",
       "    <tr>\n",
       "      <th>0</th>\n",
       "      <td>k0</td>\n",
       "      <td>e4</td>\n",
       "      <td>f4</td>\n",
       "      <td>g4</td>\n",
       "      <td>h4</td>\n",
       "    </tr>\n",
       "    <tr>\n",
       "      <th>1</th>\n",
       "      <td>k1</td>\n",
       "      <td>e5</td>\n",
       "      <td>f5</td>\n",
       "      <td>g5</td>\n",
       "      <td>h5</td>\n",
       "    </tr>\n",
       "    <tr>\n",
       "      <th>2</th>\n",
       "      <td>k2</td>\n",
       "      <td>e6</td>\n",
       "      <td>f6</td>\n",
       "      <td>g6</td>\n",
       "      <td>h6</td>\n",
       "    </tr>\n",
       "    <tr>\n",
       "      <th>3</th>\n",
       "      <td>k3</td>\n",
       "      <td>e7</td>\n",
       "      <td>f7</td>\n",
       "      <td>g7</td>\n",
       "      <td>h7</td>\n",
       "    </tr>\n",
       "  </tbody>\n",
       "</table>\n",
       "</div>"
      ],
      "text/plain": [
       "  key   E   F   G   H\n",
       "0  k0  e4  f4  g4  h4\n",
       "1  k1  e5  f5  g5  h5\n",
       "2  k2  e6  f6  g6  h6\n",
       "3  k3  e7  f7  g7  h7"
      ]
     },
     "execution_count": 213,
     "metadata": {},
     "output_type": "execute_result"
    }
   ],
   "source": [
    "df8"
   ]
  },
  {
   "cell_type": "code",
   "execution_count": 214,
   "id": "7a3a8fe1",
   "metadata": {},
   "outputs": [
    {
     "data": {
      "text/html": [
       "<div>\n",
       "<style scoped>\n",
       "    .dataframe tbody tr th:only-of-type {\n",
       "        vertical-align: middle;\n",
       "    }\n",
       "\n",
       "    .dataframe tbody tr th {\n",
       "        vertical-align: top;\n",
       "    }\n",
       "\n",
       "    .dataframe thead th {\n",
       "        text-align: right;\n",
       "    }\n",
       "</style>\n",
       "<table border=\"1\" class=\"dataframe\">\n",
       "  <thead>\n",
       "    <tr style=\"text-align: right;\">\n",
       "      <th></th>\n",
       "      <th>key</th>\n",
       "      <th>A</th>\n",
       "      <th>B</th>\n",
       "      <th>C</th>\n",
       "      <th>D</th>\n",
       "      <th>E</th>\n",
       "      <th>F</th>\n",
       "      <th>G</th>\n",
       "      <th>H</th>\n",
       "    </tr>\n",
       "  </thead>\n",
       "  <tbody>\n",
       "    <tr>\n",
       "      <th>0</th>\n",
       "      <td>k0</td>\n",
       "      <td>a0</td>\n",
       "      <td>b0</td>\n",
       "      <td>c0</td>\n",
       "      <td>d0</td>\n",
       "      <td>e4</td>\n",
       "      <td>f4</td>\n",
       "      <td>g4</td>\n",
       "      <td>h4</td>\n",
       "    </tr>\n",
       "    <tr>\n",
       "      <th>1</th>\n",
       "      <td>k1</td>\n",
       "      <td>a1</td>\n",
       "      <td>b1</td>\n",
       "      <td>c1</td>\n",
       "      <td>d1</td>\n",
       "      <td>e5</td>\n",
       "      <td>f5</td>\n",
       "      <td>g5</td>\n",
       "      <td>h5</td>\n",
       "    </tr>\n",
       "    <tr>\n",
       "      <th>2</th>\n",
       "      <td>k2</td>\n",
       "      <td>a2</td>\n",
       "      <td>b2</td>\n",
       "      <td>c2</td>\n",
       "      <td>d2</td>\n",
       "      <td>e6</td>\n",
       "      <td>f6</td>\n",
       "      <td>g6</td>\n",
       "      <td>h6</td>\n",
       "    </tr>\n",
       "    <tr>\n",
       "      <th>3</th>\n",
       "      <td>k3</td>\n",
       "      <td>a3</td>\n",
       "      <td>b3</td>\n",
       "      <td>c3</td>\n",
       "      <td>d3</td>\n",
       "      <td>e7</td>\n",
       "      <td>f7</td>\n",
       "      <td>g7</td>\n",
       "      <td>h7</td>\n",
       "    </tr>\n",
       "  </tbody>\n",
       "</table>\n",
       "</div>"
      ],
      "text/plain": [
       "  key   A   B   C   D   E   F   G   H\n",
       "0  k0  a0  b0  c0  d0  e4  f4  g4  h4\n",
       "1  k1  a1  b1  c1  d1  e5  f5  g5  h5\n",
       "2  k2  a2  b2  c2  d2  e6  f6  g6  h6\n",
       "3  k3  a3  b3  c3  d3  e7  f7  g7  h7"
      ]
     },
     "execution_count": 214,
     "metadata": {},
     "output_type": "execute_result"
    }
   ],
   "source": [
    "pd.merge(df7,df8, how='inner', on='key')"
   ]
  },
  {
   "cell_type": "code",
   "execution_count": 215,
   "id": "06f6d3ea",
   "metadata": {},
   "outputs": [
    {
     "data": {
      "text/html": [
       "<div>\n",
       "<style scoped>\n",
       "    .dataframe tbody tr th:only-of-type {\n",
       "        vertical-align: middle;\n",
       "    }\n",
       "\n",
       "    .dataframe tbody tr th {\n",
       "        vertical-align: top;\n",
       "    }\n",
       "\n",
       "    .dataframe thead th {\n",
       "        text-align: right;\n",
       "    }\n",
       "</style>\n",
       "<table border=\"1\" class=\"dataframe\">\n",
       "  <thead>\n",
       "    <tr style=\"text-align: right;\">\n",
       "      <th></th>\n",
       "      <th>key1</th>\n",
       "      <th>key2</th>\n",
       "      <th>A</th>\n",
       "      <th>B</th>\n",
       "      <th>C</th>\n",
       "      <th>D</th>\n",
       "    </tr>\n",
       "  </thead>\n",
       "  <tbody>\n",
       "    <tr>\n",
       "      <th>0</th>\n",
       "      <td>k0</td>\n",
       "      <td>k0</td>\n",
       "      <td>a0</td>\n",
       "      <td>b0</td>\n",
       "      <td>c0</td>\n",
       "      <td>d0</td>\n",
       "    </tr>\n",
       "    <tr>\n",
       "      <th>1</th>\n",
       "      <td>k1</td>\n",
       "      <td>k1</td>\n",
       "      <td>a1</td>\n",
       "      <td>b1</td>\n",
       "      <td>c1</td>\n",
       "      <td>d1</td>\n",
       "    </tr>\n",
       "    <tr>\n",
       "      <th>2</th>\n",
       "      <td>k2</td>\n",
       "      <td>k0</td>\n",
       "      <td>a2</td>\n",
       "      <td>b2</td>\n",
       "      <td>c2</td>\n",
       "      <td>d2</td>\n",
       "    </tr>\n",
       "    <tr>\n",
       "      <th>3</th>\n",
       "      <td>k3</td>\n",
       "      <td>k1</td>\n",
       "      <td>a3</td>\n",
       "      <td>b3</td>\n",
       "      <td>c3</td>\n",
       "      <td>d3</td>\n",
       "    </tr>\n",
       "  </tbody>\n",
       "</table>\n",
       "</div>"
      ],
      "text/plain": [
       "  key1 key2   A   B   C   D\n",
       "0   k0   k0  a0  b0  c0  d0\n",
       "1   k1   k1  a1  b1  c1  d1\n",
       "2   k2   k0  a2  b2  c2  d2\n",
       "3   k3   k1  a3  b3  c3  d3"
      ]
     },
     "execution_count": 215,
     "metadata": {},
     "output_type": "execute_result"
    }
   ],
   "source": [
    "df9"
   ]
  },
  {
   "cell_type": "code",
   "execution_count": 216,
   "id": "c9ba1944",
   "metadata": {},
   "outputs": [
    {
     "data": {
      "text/html": [
       "<div>\n",
       "<style scoped>\n",
       "    .dataframe tbody tr th:only-of-type {\n",
       "        vertical-align: middle;\n",
       "    }\n",
       "\n",
       "    .dataframe tbody tr th {\n",
       "        vertical-align: top;\n",
       "    }\n",
       "\n",
       "    .dataframe thead th {\n",
       "        text-align: right;\n",
       "    }\n",
       "</style>\n",
       "<table border=\"1\" class=\"dataframe\">\n",
       "  <thead>\n",
       "    <tr style=\"text-align: right;\">\n",
       "      <th></th>\n",
       "      <th>key1</th>\n",
       "      <th>key2</th>\n",
       "      <th>E</th>\n",
       "      <th>F</th>\n",
       "      <th>G</th>\n",
       "      <th>H</th>\n",
       "    </tr>\n",
       "  </thead>\n",
       "  <tbody>\n",
       "    <tr>\n",
       "      <th>0</th>\n",
       "      <td>k0</td>\n",
       "      <td>k1</td>\n",
       "      <td>e4</td>\n",
       "      <td>f4</td>\n",
       "      <td>g4</td>\n",
       "      <td>h4</td>\n",
       "    </tr>\n",
       "    <tr>\n",
       "      <th>1</th>\n",
       "      <td>k1</td>\n",
       "      <td>k1</td>\n",
       "      <td>e5</td>\n",
       "      <td>f5</td>\n",
       "      <td>g5</td>\n",
       "      <td>h5</td>\n",
       "    </tr>\n",
       "    <tr>\n",
       "      <th>2</th>\n",
       "      <td>k2</td>\n",
       "      <td>k1</td>\n",
       "      <td>e6</td>\n",
       "      <td>f6</td>\n",
       "      <td>g6</td>\n",
       "      <td>h6</td>\n",
       "    </tr>\n",
       "    <tr>\n",
       "      <th>3</th>\n",
       "      <td>k3</td>\n",
       "      <td>k1</td>\n",
       "      <td>e7</td>\n",
       "      <td>f7</td>\n",
       "      <td>g7</td>\n",
       "      <td>h7</td>\n",
       "    </tr>\n",
       "  </tbody>\n",
       "</table>\n",
       "</div>"
      ],
      "text/plain": [
       "  key1 key2   E   F   G   H\n",
       "0   k0   k1  e4  f4  g4  h4\n",
       "1   k1   k1  e5  f5  g5  h5\n",
       "2   k2   k1  e6  f6  g6  h6\n",
       "3   k3   k1  e7  f7  g7  h7"
      ]
     },
     "execution_count": 216,
     "metadata": {},
     "output_type": "execute_result"
    }
   ],
   "source": [
    "df10"
   ]
  },
  {
   "cell_type": "code",
   "execution_count": 217,
   "id": "22efca00",
   "metadata": {},
   "outputs": [
    {
     "data": {
      "text/html": [
       "<div>\n",
       "<style scoped>\n",
       "    .dataframe tbody tr th:only-of-type {\n",
       "        vertical-align: middle;\n",
       "    }\n",
       "\n",
       "    .dataframe tbody tr th {\n",
       "        vertical-align: top;\n",
       "    }\n",
       "\n",
       "    .dataframe thead th {\n",
       "        text-align: right;\n",
       "    }\n",
       "</style>\n",
       "<table border=\"1\" class=\"dataframe\">\n",
       "  <thead>\n",
       "    <tr style=\"text-align: right;\">\n",
       "      <th></th>\n",
       "      <th>key1</th>\n",
       "      <th>key2</th>\n",
       "      <th>A</th>\n",
       "      <th>B</th>\n",
       "      <th>C</th>\n",
       "      <th>D</th>\n",
       "      <th>E</th>\n",
       "      <th>F</th>\n",
       "      <th>G</th>\n",
       "      <th>H</th>\n",
       "    </tr>\n",
       "  </thead>\n",
       "  <tbody>\n",
       "    <tr>\n",
       "      <th>0</th>\n",
       "      <td>k0</td>\n",
       "      <td>k0</td>\n",
       "      <td>a0</td>\n",
       "      <td>b0</td>\n",
       "      <td>c0</td>\n",
       "      <td>d0</td>\n",
       "      <td>NaN</td>\n",
       "      <td>NaN</td>\n",
       "      <td>NaN</td>\n",
       "      <td>NaN</td>\n",
       "    </tr>\n",
       "    <tr>\n",
       "      <th>1</th>\n",
       "      <td>k1</td>\n",
       "      <td>k1</td>\n",
       "      <td>a1</td>\n",
       "      <td>b1</td>\n",
       "      <td>c1</td>\n",
       "      <td>d1</td>\n",
       "      <td>e5</td>\n",
       "      <td>f5</td>\n",
       "      <td>g5</td>\n",
       "      <td>h5</td>\n",
       "    </tr>\n",
       "    <tr>\n",
       "      <th>2</th>\n",
       "      <td>k2</td>\n",
       "      <td>k0</td>\n",
       "      <td>a2</td>\n",
       "      <td>b2</td>\n",
       "      <td>c2</td>\n",
       "      <td>d2</td>\n",
       "      <td>NaN</td>\n",
       "      <td>NaN</td>\n",
       "      <td>NaN</td>\n",
       "      <td>NaN</td>\n",
       "    </tr>\n",
       "    <tr>\n",
       "      <th>3</th>\n",
       "      <td>k3</td>\n",
       "      <td>k1</td>\n",
       "      <td>a3</td>\n",
       "      <td>b3</td>\n",
       "      <td>c3</td>\n",
       "      <td>d3</td>\n",
       "      <td>e7</td>\n",
       "      <td>f7</td>\n",
       "      <td>g7</td>\n",
       "      <td>h7</td>\n",
       "    </tr>\n",
       "    <tr>\n",
       "      <th>4</th>\n",
       "      <td>k0</td>\n",
       "      <td>k1</td>\n",
       "      <td>NaN</td>\n",
       "      <td>NaN</td>\n",
       "      <td>NaN</td>\n",
       "      <td>NaN</td>\n",
       "      <td>e4</td>\n",
       "      <td>f4</td>\n",
       "      <td>g4</td>\n",
       "      <td>h4</td>\n",
       "    </tr>\n",
       "    <tr>\n",
       "      <th>5</th>\n",
       "      <td>k2</td>\n",
       "      <td>k1</td>\n",
       "      <td>NaN</td>\n",
       "      <td>NaN</td>\n",
       "      <td>NaN</td>\n",
       "      <td>NaN</td>\n",
       "      <td>e6</td>\n",
       "      <td>f6</td>\n",
       "      <td>g6</td>\n",
       "      <td>h6</td>\n",
       "    </tr>\n",
       "  </tbody>\n",
       "</table>\n",
       "</div>"
      ],
      "text/plain": [
       "  key1 key2    A    B    C    D    E    F    G    H\n",
       "0   k0   k0   a0   b0   c0   d0  NaN  NaN  NaN  NaN\n",
       "1   k1   k1   a1   b1   c1   d1   e5   f5   g5   h5\n",
       "2   k2   k0   a2   b2   c2   d2  NaN  NaN  NaN  NaN\n",
       "3   k3   k1   a3   b3   c3   d3   e7   f7   g7   h7\n",
       "4   k0   k1  NaN  NaN  NaN  NaN   e4   f4   g4   h4\n",
       "5   k2   k1  NaN  NaN  NaN  NaN   e6   f6   g6   h6"
      ]
     },
     "execution_count": 217,
     "metadata": {},
     "output_type": "execute_result"
    }
   ],
   "source": [
    "pd.merge(df9,df10, how='outer', on=['key1','key2'])"
   ]
  },
  {
   "cell_type": "code",
   "execution_count": 218,
   "id": "95d12eb8",
   "metadata": {},
   "outputs": [
    {
     "data": {
      "text/html": [
       "<div>\n",
       "<style scoped>\n",
       "    .dataframe tbody tr th:only-of-type {\n",
       "        vertical-align: middle;\n",
       "    }\n",
       "\n",
       "    .dataframe tbody tr th {\n",
       "        vertical-align: top;\n",
       "    }\n",
       "\n",
       "    .dataframe thead th {\n",
       "        text-align: right;\n",
       "    }\n",
       "</style>\n",
       "<table border=\"1\" class=\"dataframe\">\n",
       "  <thead>\n",
       "    <tr style=\"text-align: right;\">\n",
       "      <th></th>\n",
       "      <th>key1</th>\n",
       "      <th>key2</th>\n",
       "      <th>A</th>\n",
       "      <th>B</th>\n",
       "      <th>C</th>\n",
       "      <th>D</th>\n",
       "      <th>E</th>\n",
       "      <th>F</th>\n",
       "      <th>G</th>\n",
       "      <th>H</th>\n",
       "    </tr>\n",
       "  </thead>\n",
       "  <tbody>\n",
       "    <tr>\n",
       "      <th>0</th>\n",
       "      <td>k1</td>\n",
       "      <td>k1</td>\n",
       "      <td>a1</td>\n",
       "      <td>b1</td>\n",
       "      <td>c1</td>\n",
       "      <td>d1</td>\n",
       "      <td>e5</td>\n",
       "      <td>f5</td>\n",
       "      <td>g5</td>\n",
       "      <td>h5</td>\n",
       "    </tr>\n",
       "    <tr>\n",
       "      <th>1</th>\n",
       "      <td>k3</td>\n",
       "      <td>k1</td>\n",
       "      <td>a3</td>\n",
       "      <td>b3</td>\n",
       "      <td>c3</td>\n",
       "      <td>d3</td>\n",
       "      <td>e7</td>\n",
       "      <td>f7</td>\n",
       "      <td>g7</td>\n",
       "      <td>h7</td>\n",
       "    </tr>\n",
       "  </tbody>\n",
       "</table>\n",
       "</div>"
      ],
      "text/plain": [
       "  key1 key2   A   B   C   D   E   F   G   H\n",
       "0   k1   k1  a1  b1  c1  d1  e5  f5  g5  h5\n",
       "1   k3   k1  a3  b3  c3  d3  e7  f7  g7  h7"
      ]
     },
     "execution_count": 218,
     "metadata": {},
     "output_type": "execute_result"
    }
   ],
   "source": [
    "pd.merge(df9,df10, how='inner', on=['key1','key2'])"
   ]
  },
  {
   "cell_type": "code",
   "execution_count": 219,
   "id": "a4322871",
   "metadata": {},
   "outputs": [
    {
     "data": {
      "text/html": [
       "<div>\n",
       "<style scoped>\n",
       "    .dataframe tbody tr th:only-of-type {\n",
       "        vertical-align: middle;\n",
       "    }\n",
       "\n",
       "    .dataframe tbody tr th {\n",
       "        vertical-align: top;\n",
       "    }\n",
       "\n",
       "    .dataframe thead th {\n",
       "        text-align: right;\n",
       "    }\n",
       "</style>\n",
       "<table border=\"1\" class=\"dataframe\">\n",
       "  <thead>\n",
       "    <tr style=\"text-align: right;\">\n",
       "      <th></th>\n",
       "      <th>key1</th>\n",
       "      <th>key2</th>\n",
       "      <th>A</th>\n",
       "      <th>B</th>\n",
       "      <th>C</th>\n",
       "      <th>D</th>\n",
       "      <th>E</th>\n",
       "      <th>F</th>\n",
       "      <th>G</th>\n",
       "      <th>H</th>\n",
       "    </tr>\n",
       "  </thead>\n",
       "  <tbody>\n",
       "    <tr>\n",
       "      <th>0</th>\n",
       "      <td>k0</td>\n",
       "      <td>k0</td>\n",
       "      <td>a0</td>\n",
       "      <td>b0</td>\n",
       "      <td>c0</td>\n",
       "      <td>d0</td>\n",
       "      <td>NaN</td>\n",
       "      <td>NaN</td>\n",
       "      <td>NaN</td>\n",
       "      <td>NaN</td>\n",
       "    </tr>\n",
       "    <tr>\n",
       "      <th>1</th>\n",
       "      <td>k1</td>\n",
       "      <td>k1</td>\n",
       "      <td>a1</td>\n",
       "      <td>b1</td>\n",
       "      <td>c1</td>\n",
       "      <td>d1</td>\n",
       "      <td>e5</td>\n",
       "      <td>f5</td>\n",
       "      <td>g5</td>\n",
       "      <td>h5</td>\n",
       "    </tr>\n",
       "    <tr>\n",
       "      <th>2</th>\n",
       "      <td>k2</td>\n",
       "      <td>k0</td>\n",
       "      <td>a2</td>\n",
       "      <td>b2</td>\n",
       "      <td>c2</td>\n",
       "      <td>d2</td>\n",
       "      <td>NaN</td>\n",
       "      <td>NaN</td>\n",
       "      <td>NaN</td>\n",
       "      <td>NaN</td>\n",
       "    </tr>\n",
       "    <tr>\n",
       "      <th>3</th>\n",
       "      <td>k3</td>\n",
       "      <td>k1</td>\n",
       "      <td>a3</td>\n",
       "      <td>b3</td>\n",
       "      <td>c3</td>\n",
       "      <td>d3</td>\n",
       "      <td>e7</td>\n",
       "      <td>f7</td>\n",
       "      <td>g7</td>\n",
       "      <td>h7</td>\n",
       "    </tr>\n",
       "  </tbody>\n",
       "</table>\n",
       "</div>"
      ],
      "text/plain": [
       "  key1 key2   A   B   C   D    E    F    G    H\n",
       "0   k0   k0  a0  b0  c0  d0  NaN  NaN  NaN  NaN\n",
       "1   k1   k1  a1  b1  c1  d1   e5   f5   g5   h5\n",
       "2   k2   k0  a2  b2  c2  d2  NaN  NaN  NaN  NaN\n",
       "3   k3   k1  a3  b3  c3  d3   e7   f7   g7   h7"
      ]
     },
     "execution_count": 219,
     "metadata": {},
     "output_type": "execute_result"
    }
   ],
   "source": [
    "pd.merge(df9,df10, how='left', on=['key1','key2'])"
   ]
  },
  {
   "cell_type": "code",
   "execution_count": 220,
   "id": "19e9d0f1",
   "metadata": {},
   "outputs": [
    {
     "data": {
      "text/html": [
       "<div>\n",
       "<style scoped>\n",
       "    .dataframe tbody tr th:only-of-type {\n",
       "        vertical-align: middle;\n",
       "    }\n",
       "\n",
       "    .dataframe tbody tr th {\n",
       "        vertical-align: top;\n",
       "    }\n",
       "\n",
       "    .dataframe thead th {\n",
       "        text-align: right;\n",
       "    }\n",
       "</style>\n",
       "<table border=\"1\" class=\"dataframe\">\n",
       "  <thead>\n",
       "    <tr style=\"text-align: right;\">\n",
       "      <th></th>\n",
       "      <th>key1</th>\n",
       "      <th>key2</th>\n",
       "      <th>A</th>\n",
       "      <th>B</th>\n",
       "      <th>C</th>\n",
       "      <th>D</th>\n",
       "      <th>E</th>\n",
       "      <th>F</th>\n",
       "      <th>G</th>\n",
       "      <th>H</th>\n",
       "    </tr>\n",
       "  </thead>\n",
       "  <tbody>\n",
       "    <tr>\n",
       "      <th>0</th>\n",
       "      <td>k0</td>\n",
       "      <td>k1</td>\n",
       "      <td>NaN</td>\n",
       "      <td>NaN</td>\n",
       "      <td>NaN</td>\n",
       "      <td>NaN</td>\n",
       "      <td>e4</td>\n",
       "      <td>f4</td>\n",
       "      <td>g4</td>\n",
       "      <td>h4</td>\n",
       "    </tr>\n",
       "    <tr>\n",
       "      <th>1</th>\n",
       "      <td>k1</td>\n",
       "      <td>k1</td>\n",
       "      <td>a1</td>\n",
       "      <td>b1</td>\n",
       "      <td>c1</td>\n",
       "      <td>d1</td>\n",
       "      <td>e5</td>\n",
       "      <td>f5</td>\n",
       "      <td>g5</td>\n",
       "      <td>h5</td>\n",
       "    </tr>\n",
       "    <tr>\n",
       "      <th>2</th>\n",
       "      <td>k2</td>\n",
       "      <td>k1</td>\n",
       "      <td>NaN</td>\n",
       "      <td>NaN</td>\n",
       "      <td>NaN</td>\n",
       "      <td>NaN</td>\n",
       "      <td>e6</td>\n",
       "      <td>f6</td>\n",
       "      <td>g6</td>\n",
       "      <td>h6</td>\n",
       "    </tr>\n",
       "    <tr>\n",
       "      <th>3</th>\n",
       "      <td>k3</td>\n",
       "      <td>k1</td>\n",
       "      <td>a3</td>\n",
       "      <td>b3</td>\n",
       "      <td>c3</td>\n",
       "      <td>d3</td>\n",
       "      <td>e7</td>\n",
       "      <td>f7</td>\n",
       "      <td>g7</td>\n",
       "      <td>h7</td>\n",
       "    </tr>\n",
       "  </tbody>\n",
       "</table>\n",
       "</div>"
      ],
      "text/plain": [
       "  key1 key2    A    B    C    D   E   F   G   H\n",
       "0   k0   k1  NaN  NaN  NaN  NaN  e4  f4  g4  h4\n",
       "1   k1   k1   a1   b1   c1   d1  e5  f5  g5  h5\n",
       "2   k2   k1  NaN  NaN  NaN  NaN  e6  f6  g6  h6\n",
       "3   k3   k1   a3   b3   c3   d3  e7  f7  g7  h7"
      ]
     },
     "execution_count": 220,
     "metadata": {},
     "output_type": "execute_result"
    }
   ],
   "source": [
    "pd.merge(df9,df10, how='right', on=['key1','key2'])"
   ]
  },
  {
   "cell_type": "markdown",
   "id": "f9dc3ccc",
   "metadata": {},
   "source": [
    "#### Funciones de combinacion de DFs: JOIN()\n",
    "\n",
    "\n",
    "Funcion df.join(df, how= < tipounion >)\n",
    "\n",
    "\n",
    "Util para obtener datos ampliados (variables descriptivas por ej) desde una tabla de detalle, dado que prioriza el df al que se aplica el metodo y no admite on por lo que el campo de union debera tener el mismo nombre en ambas tablas. Esto se da en BD normalizadas.\n",
    "\n",
    "\n",
    "Es mucho mas eficiente (rapido) que el concat.\n",
    "Es como un left join. Prima el de la izquierda\n",
    "        NO adminte ON.\n",
    "\n",
    "Parametros:\n",
    "\n",
    "* El df con el que se quiere combinar.\n",
    "\n",
    "* how: define el tipo de union.\n",
    "    \n",
    "    * inner (interseccion, lo que tienen en comun ambos DFs)\n",
    "    * outer (todo de ambos DFs y se completa con NaN lo faltante)\n",
    "    * left (todo lo que esta en el de la izquierda + la interseccion)\n",
    "    * right (todo lo que esta en el de la derecha + la interseccion)\n",
    "       "
   ]
  },
  {
   "cell_type": "code",
   "execution_count": 221,
   "id": "9ba1ceef",
   "metadata": {},
   "outputs": [
    {
     "data": {
      "text/html": [
       "<div>\n",
       "<style scoped>\n",
       "    .dataframe tbody tr th:only-of-type {\n",
       "        vertical-align: middle;\n",
       "    }\n",
       "\n",
       "    .dataframe tbody tr th {\n",
       "        vertical-align: top;\n",
       "    }\n",
       "\n",
       "    .dataframe thead th {\n",
       "        text-align: right;\n",
       "    }\n",
       "</style>\n",
       "<table border=\"1\" class=\"dataframe\">\n",
       "  <thead>\n",
       "    <tr style=\"text-align: right;\">\n",
       "      <th></th>\n",
       "      <th>A</th>\n",
       "      <th>B</th>\n",
       "    </tr>\n",
       "  </thead>\n",
       "  <tbody>\n",
       "    <tr>\n",
       "      <th>4</th>\n",
       "      <td>a0</td>\n",
       "      <td>b0</td>\n",
       "    </tr>\n",
       "    <tr>\n",
       "      <th>21</th>\n",
       "      <td>a1</td>\n",
       "      <td>b1</td>\n",
       "    </tr>\n",
       "    <tr>\n",
       "      <th>31</th>\n",
       "      <td>a2</td>\n",
       "      <td>b2</td>\n",
       "    </tr>\n",
       "    <tr>\n",
       "      <th>5</th>\n",
       "      <td>a3</td>\n",
       "      <td>b3</td>\n",
       "    </tr>\n",
       "  </tbody>\n",
       "</table>\n",
       "</div>"
      ],
      "text/plain": [
       "     A   B\n",
       "4   a0  b0\n",
       "21  a1  b1\n",
       "31  a2  b2\n",
       "5   a3  b3"
      ]
     },
     "execution_count": 221,
     "metadata": {},
     "output_type": "execute_result"
    }
   ],
   "source": [
    "df11"
   ]
  },
  {
   "cell_type": "code",
   "execution_count": 222,
   "id": "350ab32d",
   "metadata": {},
   "outputs": [
    {
     "data": {
      "text/html": [
       "<div>\n",
       "<style scoped>\n",
       "    .dataframe tbody tr th:only-of-type {\n",
       "        vertical-align: middle;\n",
       "    }\n",
       "\n",
       "    .dataframe tbody tr th {\n",
       "        vertical-align: top;\n",
       "    }\n",
       "\n",
       "    .dataframe thead th {\n",
       "        text-align: right;\n",
       "    }\n",
       "</style>\n",
       "<table border=\"1\" class=\"dataframe\">\n",
       "  <thead>\n",
       "    <tr style=\"text-align: right;\">\n",
       "      <th></th>\n",
       "      <th>C</th>\n",
       "      <th>D</th>\n",
       "    </tr>\n",
       "  </thead>\n",
       "  <tbody>\n",
       "    <tr>\n",
       "      <th>4</th>\n",
       "      <td>c0</td>\n",
       "      <td>d0</td>\n",
       "    </tr>\n",
       "    <tr>\n",
       "      <th>21</th>\n",
       "      <td>c1</td>\n",
       "      <td>d1</td>\n",
       "    </tr>\n",
       "    <tr>\n",
       "      <th>33</th>\n",
       "      <td>c2</td>\n",
       "      <td>d2</td>\n",
       "    </tr>\n",
       "    <tr>\n",
       "      <th>5</th>\n",
       "      <td>c3</td>\n",
       "      <td>d3</td>\n",
       "    </tr>\n",
       "  </tbody>\n",
       "</table>\n",
       "</div>"
      ],
      "text/plain": [
       "     C   D\n",
       "4   c0  d0\n",
       "21  c1  d1\n",
       "33  c2  d2\n",
       "5   c3  d3"
      ]
     },
     "execution_count": 222,
     "metadata": {},
     "output_type": "execute_result"
    }
   ],
   "source": [
    "df12"
   ]
  },
  {
   "cell_type": "code",
   "execution_count": 223,
   "id": "24f75499",
   "metadata": {},
   "outputs": [
    {
     "data": {
      "text/html": [
       "<div>\n",
       "<style scoped>\n",
       "    .dataframe tbody tr th:only-of-type {\n",
       "        vertical-align: middle;\n",
       "    }\n",
       "\n",
       "    .dataframe tbody tr th {\n",
       "        vertical-align: top;\n",
       "    }\n",
       "\n",
       "    .dataframe thead th {\n",
       "        text-align: right;\n",
       "    }\n",
       "</style>\n",
       "<table border=\"1\" class=\"dataframe\">\n",
       "  <thead>\n",
       "    <tr style=\"text-align: right;\">\n",
       "      <th></th>\n",
       "      <th>A</th>\n",
       "      <th>B</th>\n",
       "      <th>C</th>\n",
       "      <th>D</th>\n",
       "    </tr>\n",
       "  </thead>\n",
       "  <tbody>\n",
       "    <tr>\n",
       "      <th>4</th>\n",
       "      <td>a0</td>\n",
       "      <td>b0</td>\n",
       "      <td>c0</td>\n",
       "      <td>d0</td>\n",
       "    </tr>\n",
       "    <tr>\n",
       "      <th>21</th>\n",
       "      <td>a1</td>\n",
       "      <td>b1</td>\n",
       "      <td>c1</td>\n",
       "      <td>d1</td>\n",
       "    </tr>\n",
       "    <tr>\n",
       "      <th>5</th>\n",
       "      <td>a3</td>\n",
       "      <td>b3</td>\n",
       "      <td>c3</td>\n",
       "      <td>d3</td>\n",
       "    </tr>\n",
       "  </tbody>\n",
       "</table>\n",
       "</div>"
      ],
      "text/plain": [
       "     A   B   C   D\n",
       "4   a0  b0  c0  d0\n",
       "21  a1  b1  c1  d1\n",
       "5   a3  b3  c3  d3"
      ]
     },
     "execution_count": 223,
     "metadata": {},
     "output_type": "execute_result"
    }
   ],
   "source": [
    "df11.join(df12, how='inner')"
   ]
  },
  {
   "cell_type": "code",
   "execution_count": 224,
   "id": "a5efdcbc",
   "metadata": {},
   "outputs": [
    {
     "data": {
      "text/html": [
       "<div>\n",
       "<style scoped>\n",
       "    .dataframe tbody tr th:only-of-type {\n",
       "        vertical-align: middle;\n",
       "    }\n",
       "\n",
       "    .dataframe tbody tr th {\n",
       "        vertical-align: top;\n",
       "    }\n",
       "\n",
       "    .dataframe thead th {\n",
       "        text-align: right;\n",
       "    }\n",
       "</style>\n",
       "<table border=\"1\" class=\"dataframe\">\n",
       "  <thead>\n",
       "    <tr style=\"text-align: right;\">\n",
       "      <th></th>\n",
       "      <th>A</th>\n",
       "      <th>B</th>\n",
       "      <th>C</th>\n",
       "      <th>D</th>\n",
       "    </tr>\n",
       "  </thead>\n",
       "  <tbody>\n",
       "    <tr>\n",
       "      <th>4</th>\n",
       "      <td>a0</td>\n",
       "      <td>b0</td>\n",
       "      <td>c0</td>\n",
       "      <td>d0</td>\n",
       "    </tr>\n",
       "    <tr>\n",
       "      <th>5</th>\n",
       "      <td>a3</td>\n",
       "      <td>b3</td>\n",
       "      <td>c3</td>\n",
       "      <td>d3</td>\n",
       "    </tr>\n",
       "    <tr>\n",
       "      <th>21</th>\n",
       "      <td>a1</td>\n",
       "      <td>b1</td>\n",
       "      <td>c1</td>\n",
       "      <td>d1</td>\n",
       "    </tr>\n",
       "    <tr>\n",
       "      <th>31</th>\n",
       "      <td>a2</td>\n",
       "      <td>b2</td>\n",
       "      <td>NaN</td>\n",
       "      <td>NaN</td>\n",
       "    </tr>\n",
       "    <tr>\n",
       "      <th>33</th>\n",
       "      <td>NaN</td>\n",
       "      <td>NaN</td>\n",
       "      <td>c2</td>\n",
       "      <td>d2</td>\n",
       "    </tr>\n",
       "  </tbody>\n",
       "</table>\n",
       "</div>"
      ],
      "text/plain": [
       "      A    B    C    D\n",
       "4    a0   b0   c0   d0\n",
       "5    a3   b3   c3   d3\n",
       "21   a1   b1   c1   d1\n",
       "31   a2   b2  NaN  NaN\n",
       "33  NaN  NaN   c2   d2"
      ]
     },
     "execution_count": 224,
     "metadata": {},
     "output_type": "execute_result"
    }
   ],
   "source": [
    "df11.join(df12, how='outer')"
   ]
  },
  {
   "cell_type": "code",
   "execution_count": 225,
   "id": "5709a7b5",
   "metadata": {},
   "outputs": [
    {
     "data": {
      "text/html": [
       "<div>\n",
       "<style scoped>\n",
       "    .dataframe tbody tr th:only-of-type {\n",
       "        vertical-align: middle;\n",
       "    }\n",
       "\n",
       "    .dataframe tbody tr th {\n",
       "        vertical-align: top;\n",
       "    }\n",
       "\n",
       "    .dataframe thead th {\n",
       "        text-align: right;\n",
       "    }\n",
       "</style>\n",
       "<table border=\"1\" class=\"dataframe\">\n",
       "  <thead>\n",
       "    <tr style=\"text-align: right;\">\n",
       "      <th></th>\n",
       "      <th>A</th>\n",
       "      <th>B</th>\n",
       "      <th>C</th>\n",
       "      <th>D</th>\n",
       "    </tr>\n",
       "  </thead>\n",
       "  <tbody>\n",
       "    <tr>\n",
       "      <th>4</th>\n",
       "      <td>a0</td>\n",
       "      <td>b0</td>\n",
       "      <td>c0</td>\n",
       "      <td>d0</td>\n",
       "    </tr>\n",
       "    <tr>\n",
       "      <th>21</th>\n",
       "      <td>a1</td>\n",
       "      <td>b1</td>\n",
       "      <td>c1</td>\n",
       "      <td>d1</td>\n",
       "    </tr>\n",
       "    <tr>\n",
       "      <th>31</th>\n",
       "      <td>a2</td>\n",
       "      <td>b2</td>\n",
       "      <td>NaN</td>\n",
       "      <td>NaN</td>\n",
       "    </tr>\n",
       "    <tr>\n",
       "      <th>5</th>\n",
       "      <td>a3</td>\n",
       "      <td>b3</td>\n",
       "      <td>c3</td>\n",
       "      <td>d3</td>\n",
       "    </tr>\n",
       "  </tbody>\n",
       "</table>\n",
       "</div>"
      ],
      "text/plain": [
       "     A   B    C    D\n",
       "4   a0  b0   c0   d0\n",
       "21  a1  b1   c1   d1\n",
       "31  a2  b2  NaN  NaN\n",
       "5   a3  b3   c3   d3"
      ]
     },
     "execution_count": 225,
     "metadata": {},
     "output_type": "execute_result"
    }
   ],
   "source": [
    "df11.join(df12, how='left')"
   ]
  },
  {
   "cell_type": "code",
   "execution_count": 226,
   "id": "6a450f22",
   "metadata": {},
   "outputs": [
    {
     "data": {
      "text/html": [
       "<div>\n",
       "<style scoped>\n",
       "    .dataframe tbody tr th:only-of-type {\n",
       "        vertical-align: middle;\n",
       "    }\n",
       "\n",
       "    .dataframe tbody tr th {\n",
       "        vertical-align: top;\n",
       "    }\n",
       "\n",
       "    .dataframe thead th {\n",
       "        text-align: right;\n",
       "    }\n",
       "</style>\n",
       "<table border=\"1\" class=\"dataframe\">\n",
       "  <thead>\n",
       "    <tr style=\"text-align: right;\">\n",
       "      <th></th>\n",
       "      <th>A</th>\n",
       "      <th>B</th>\n",
       "      <th>C</th>\n",
       "      <th>D</th>\n",
       "    </tr>\n",
       "  </thead>\n",
       "  <tbody>\n",
       "    <tr>\n",
       "      <th>4</th>\n",
       "      <td>a0</td>\n",
       "      <td>b0</td>\n",
       "      <td>c0</td>\n",
       "      <td>d0</td>\n",
       "    </tr>\n",
       "    <tr>\n",
       "      <th>21</th>\n",
       "      <td>a1</td>\n",
       "      <td>b1</td>\n",
       "      <td>c1</td>\n",
       "      <td>d1</td>\n",
       "    </tr>\n",
       "    <tr>\n",
       "      <th>33</th>\n",
       "      <td>NaN</td>\n",
       "      <td>NaN</td>\n",
       "      <td>c2</td>\n",
       "      <td>d2</td>\n",
       "    </tr>\n",
       "    <tr>\n",
       "      <th>5</th>\n",
       "      <td>a3</td>\n",
       "      <td>b3</td>\n",
       "      <td>c3</td>\n",
       "      <td>d3</td>\n",
       "    </tr>\n",
       "  </tbody>\n",
       "</table>\n",
       "</div>"
      ],
      "text/plain": [
       "      A    B   C   D\n",
       "4    a0   b0  c0  d0\n",
       "21   a1   b1  c1  d1\n",
       "33  NaN  NaN  c2  d2\n",
       "5    a3   b3  c3  d3"
      ]
     },
     "execution_count": 226,
     "metadata": {},
     "output_type": "execute_result"
    }
   ],
   "source": [
    "df11.join(df12, how='right')"
   ]
  },
  {
   "cell_type": "code",
   "execution_count": 227,
   "id": "6f8eac87",
   "metadata": {},
   "outputs": [
    {
     "data": {
      "text/html": [
       "<div>\n",
       "<style scoped>\n",
       "    .dataframe tbody tr th:only-of-type {\n",
       "        vertical-align: middle;\n",
       "    }\n",
       "\n",
       "    .dataframe tbody tr th {\n",
       "        vertical-align: top;\n",
       "    }\n",
       "\n",
       "    .dataframe thead th {\n",
       "        text-align: right;\n",
       "    }\n",
       "</style>\n",
       "<table border=\"1\" class=\"dataframe\">\n",
       "  <thead>\n",
       "    <tr style=\"text-align: right;\">\n",
       "      <th></th>\n",
       "      <th>key</th>\n",
       "      <th>A</th>\n",
       "      <th>B</th>\n",
       "      <th>C</th>\n",
       "      <th>D</th>\n",
       "    </tr>\n",
       "  </thead>\n",
       "  <tbody>\n",
       "    <tr>\n",
       "      <th>4</th>\n",
       "      <td>k0</td>\n",
       "      <td>a0</td>\n",
       "      <td>b0</td>\n",
       "      <td>c0</td>\n",
       "      <td>d0</td>\n",
       "    </tr>\n",
       "    <tr>\n",
       "      <th>21</th>\n",
       "      <td>k1</td>\n",
       "      <td>a1</td>\n",
       "      <td>b1</td>\n",
       "      <td>c1</td>\n",
       "      <td>d1</td>\n",
       "    </tr>\n",
       "    <tr>\n",
       "      <th>33</th>\n",
       "      <td>k2</td>\n",
       "      <td>a2</td>\n",
       "      <td>b2</td>\n",
       "      <td>c2</td>\n",
       "      <td>d2</td>\n",
       "    </tr>\n",
       "    <tr>\n",
       "      <th>5</th>\n",
       "      <td>k3</td>\n",
       "      <td>a3</td>\n",
       "      <td>b3</td>\n",
       "      <td>c3</td>\n",
       "      <td>d3</td>\n",
       "    </tr>\n",
       "  </tbody>\n",
       "</table>\n",
       "</div>"
      ],
      "text/plain": [
       "   key   A   B   C   D\n",
       "4   k0  a0  b0  c0  d0\n",
       "21  k1  a1  b1  c1  d1\n",
       "33  k2  a2  b2  c2  d2\n",
       "5   k3  a3  b3  c3  d3"
      ]
     },
     "execution_count": 227,
     "metadata": {},
     "output_type": "execute_result"
    }
   ],
   "source": [
    "df7"
   ]
  },
  {
   "cell_type": "code",
   "execution_count": 228,
   "id": "e056be60",
   "metadata": {},
   "outputs": [
    {
     "data": {
      "text/html": [
       "<div>\n",
       "<style scoped>\n",
       "    .dataframe tbody tr th:only-of-type {\n",
       "        vertical-align: middle;\n",
       "    }\n",
       "\n",
       "    .dataframe tbody tr th {\n",
       "        vertical-align: top;\n",
       "    }\n",
       "\n",
       "    .dataframe thead th {\n",
       "        text-align: right;\n",
       "    }\n",
       "</style>\n",
       "<table border=\"1\" class=\"dataframe\">\n",
       "  <thead>\n",
       "    <tr style=\"text-align: right;\">\n",
       "      <th></th>\n",
       "      <th>key</th>\n",
       "      <th>E</th>\n",
       "      <th>F</th>\n",
       "      <th>G</th>\n",
       "      <th>H</th>\n",
       "    </tr>\n",
       "  </thead>\n",
       "  <tbody>\n",
       "    <tr>\n",
       "      <th>0</th>\n",
       "      <td>k0</td>\n",
       "      <td>e4</td>\n",
       "      <td>f4</td>\n",
       "      <td>g4</td>\n",
       "      <td>h4</td>\n",
       "    </tr>\n",
       "    <tr>\n",
       "      <th>1</th>\n",
       "      <td>k1</td>\n",
       "      <td>e5</td>\n",
       "      <td>f5</td>\n",
       "      <td>g5</td>\n",
       "      <td>h5</td>\n",
       "    </tr>\n",
       "    <tr>\n",
       "      <th>2</th>\n",
       "      <td>k2</td>\n",
       "      <td>e6</td>\n",
       "      <td>f6</td>\n",
       "      <td>g6</td>\n",
       "      <td>h6</td>\n",
       "    </tr>\n",
       "    <tr>\n",
       "      <th>3</th>\n",
       "      <td>k3</td>\n",
       "      <td>e7</td>\n",
       "      <td>f7</td>\n",
       "      <td>g7</td>\n",
       "      <td>h7</td>\n",
       "    </tr>\n",
       "  </tbody>\n",
       "</table>\n",
       "</div>"
      ],
      "text/plain": [
       "  key   E   F   G   H\n",
       "0  k0  e4  f4  g4  h4\n",
       "1  k1  e5  f5  g5  h5\n",
       "2  k2  e6  f6  g6  h6\n",
       "3  k3  e7  f7  g7  h7"
      ]
     },
     "execution_count": 228,
     "metadata": {},
     "output_type": "execute_result"
    }
   ],
   "source": [
    "df8"
   ]
  },
  {
   "cell_type": "code",
   "execution_count": 229,
   "id": "555bdf1e",
   "metadata": {},
   "outputs": [],
   "source": [
    "# df7.join(df8, how='outer', ) NO ADMITE CAMPOS REPETIDOS"
   ]
  },
  {
   "cell_type": "markdown",
   "id": "d4da9e18",
   "metadata": {},
   "source": [
    "#### Datos Categoricos (es un tipo de dato)\n",
    "\n",
    "Es necesario importar:  from pandas.api.types import CategoricalDtype \n",
    "\n",
    "* DATOS CATEGORICOS SIMPLES\n",
    "\n",
    "    * La busqueda con datos categoricos es mas rapida con pandas porque estan vectorizados.\n",
    "    * Ocupan menos memoria.\n",
    "    * Permite manejar datos categoricos\n",
    "\n",
    "    * Se construyen:\n",
    "    \n",
    "        pd.Series([datos], dtype='category')\n",
    "    \n",
    "\n",
    "* DATOS CATEGORICOS ORDINALES (los categoricos que se pueden ordenar)\n",
    "\n",
    "    .astype(CategoricalDtype(['a','b','c','d'], ordered=True))\n",
    "\n",
    "Se deben indicar todas las categorias posibles (aunque no esten presentes en el DF) y el orden (de mas prioritario a menos).\n",
    "    "
   ]
  },
  {
   "cell_type": "code",
   "execution_count": 230,
   "id": "d18c0973",
   "metadata": {},
   "outputs": [],
   "source": [
    "from pandas.api.types import CategoricalDtype  "
   ]
  },
  {
   "cell_type": "markdown",
   "id": "e1ce9b24",
   "metadata": {},
   "source": [
    "Ejemplo categorico normal/simple"
   ]
  },
  {
   "cell_type": "code",
   "execution_count": 231,
   "id": "c9acc7a1",
   "metadata": {},
   "outputs": [],
   "source": [
    "frutas=pd.Series(['manzana','pera','platano','ciruela','manzana', 'pera'], dtype='category')"
   ]
  },
  {
   "cell_type": "code",
   "execution_count": 232,
   "id": "0c897ef7",
   "metadata": {},
   "outputs": [
    {
     "data": {
      "text/plain": [
       "0    manzana\n",
       "1       pera\n",
       "2    platano\n",
       "3    ciruela\n",
       "4    manzana\n",
       "5       pera\n",
       "dtype: category\n",
       "Categories (4, object): ['ciruela', 'manzana', 'pera', 'platano']"
      ]
     },
     "execution_count": 232,
     "metadata": {},
     "output_type": "execute_result"
    }
   ],
   "source": [
    "frutas # ya no es object sino category. Observar que se muestran todas las categorias pero SIN orden. El orden es alfa"
   ]
  },
  {
   "cell_type": "code",
   "execution_count": 233,
   "id": "26b839ab",
   "metadata": {},
   "outputs": [
    {
     "data": {
      "text/plain": [
       "count           6\n",
       "unique          4\n",
       "top       manzana\n",
       "freq            2\n",
       "dtype: object"
      ]
     },
     "execution_count": 233,
     "metadata": {},
     "output_type": "execute_result"
    }
   ],
   "source": [
    "# Con describe() se muestra la frecuencia de la categoria top que en este caso es manzana\n",
    "\n",
    "frutas.describe() # muestra 'manzana' como top por orden alfabetico, puesto que 'pera' tambien se repite dos veces"
   ]
  },
  {
   "cell_type": "markdown",
   "id": "33fd425e",
   "metadata": {},
   "source": [
    "Ejemplo categorico ordinal "
   ]
  },
  {
   "cell_type": "code",
   "execution_count": 234,
   "id": "5034b53f",
   "metadata": {},
   "outputs": [],
   "source": [
    "from pandas.api.types import CategoricalDtype"
   ]
  },
  {
   "cell_type": "code",
   "execution_count": 235,
   "id": "31659775",
   "metadata": {},
   "outputs": [],
   "source": [
    "dfc=pd.DataFrame({'A':['a','b','c','a'],\n",
    "                    'B':['b','c','c','d']})"
   ]
  },
  {
   "cell_type": "code",
   "execution_count": 236,
   "id": "59dc5a20",
   "metadata": {},
   "outputs": [
    {
     "data": {
      "text/html": [
       "<div>\n",
       "<style scoped>\n",
       "    .dataframe tbody tr th:only-of-type {\n",
       "        vertical-align: middle;\n",
       "    }\n",
       "\n",
       "    .dataframe tbody tr th {\n",
       "        vertical-align: top;\n",
       "    }\n",
       "\n",
       "    .dataframe thead th {\n",
       "        text-align: right;\n",
       "    }\n",
       "</style>\n",
       "<table border=\"1\" class=\"dataframe\">\n",
       "  <thead>\n",
       "    <tr style=\"text-align: right;\">\n",
       "      <th></th>\n",
       "      <th>A</th>\n",
       "      <th>B</th>\n",
       "    </tr>\n",
       "  </thead>\n",
       "  <tbody>\n",
       "    <tr>\n",
       "      <th>0</th>\n",
       "      <td>a</td>\n",
       "      <td>b</td>\n",
       "    </tr>\n",
       "    <tr>\n",
       "      <th>1</th>\n",
       "      <td>b</td>\n",
       "      <td>c</td>\n",
       "    </tr>\n",
       "    <tr>\n",
       "      <th>2</th>\n",
       "      <td>c</td>\n",
       "      <td>c</td>\n",
       "    </tr>\n",
       "    <tr>\n",
       "      <th>3</th>\n",
       "      <td>a</td>\n",
       "      <td>d</td>\n",
       "    </tr>\n",
       "  </tbody>\n",
       "</table>\n",
       "</div>"
      ],
      "text/plain": [
       "   A  B\n",
       "0  a  b\n",
       "1  b  c\n",
       "2  c  c\n",
       "3  a  d"
      ]
     },
     "execution_count": 236,
     "metadata": {},
     "output_type": "execute_result"
    }
   ],
   "source": [
    "dfc"
   ]
  },
  {
   "cell_type": "code",
   "execution_count": 237,
   "id": "a86766dc",
   "metadata": {},
   "outputs": [
    {
     "data": {
      "text/plain": [
       "A    object\n",
       "B    object\n",
       "dtype: object"
      ]
     },
     "execution_count": 237,
     "metadata": {},
     "output_type": "execute_result"
    }
   ],
   "source": [
    "dfc.dtypes # son objetos, si quiero que A sea dato categorico"
   ]
  },
  {
   "cell_type": "code",
   "execution_count": 238,
   "id": "a7144506",
   "metadata": {},
   "outputs": [],
   "source": [
    "dfc['A']=dfc['A'].astype(CategoricalDtype(['a','b','c','d'], ordered=True)) \n",
    "# indico todas las categorias posibles y el orden en este caso a,b,c,d pero podria ser otro"
   ]
  },
  {
   "cell_type": "code",
   "execution_count": 239,
   "id": "ca6c7e5b",
   "metadata": {},
   "outputs": [
    {
     "data": {
      "text/plain": [
       "A    category\n",
       "B      object\n",
       "dtype: object"
      ]
     },
     "execution_count": 239,
     "metadata": {},
     "output_type": "execute_result"
    }
   ],
   "source": [
    "dfc.dtypes"
   ]
  },
  {
   "cell_type": "code",
   "execution_count": 240,
   "id": "82236047",
   "metadata": {},
   "outputs": [
    {
     "data": {
      "text/plain": [
       "0    a\n",
       "1    b\n",
       "2    c\n",
       "3    a\n",
       "Name: A, dtype: category\n",
       "Categories (4, object): ['a' < 'b' < 'c' < 'd']"
      ]
     },
     "execution_count": 240,
     "metadata": {},
     "output_type": "execute_result"
    }
   ],
   "source": [
    "dfc['A']"
   ]
  },
  {
   "cell_type": "code",
   "execution_count": 241,
   "id": "f9f4fd80",
   "metadata": {},
   "outputs": [],
   "source": [
    "so=pd.Series(['a','b','c','d'], dtype='category') # aqui no esta indicado el orden"
   ]
  },
  {
   "cell_type": "code",
   "execution_count": 242,
   "id": "dbb08913",
   "metadata": {},
   "outputs": [
    {
     "data": {
      "text/plain": [
       "0    a\n",
       "1    b\n",
       "2    c\n",
       "3    d\n",
       "dtype: category\n",
       "Categories (4, object): ['a', 'b', 'c', 'd']"
      ]
     },
     "execution_count": 242,
     "metadata": {},
     "output_type": "execute_result"
    }
   ],
   "source": [
    "so # observar que abajo no indica orden "
   ]
  },
  {
   "cell_type": "code",
   "execution_count": 243,
   "id": "0b357714",
   "metadata": {},
   "outputs": [],
   "source": [
    "so=so.cat.set_categories(['a', 'b', 'c', 'd'], ordered=True) # aqui indico el orden que es a,b,c,d"
   ]
  },
  {
   "cell_type": "code",
   "execution_count": 244,
   "id": "60a5c8f0",
   "metadata": {},
   "outputs": [
    {
     "data": {
      "text/plain": [
       "0    a\n",
       "1    b\n",
       "2    c\n",
       "3    d\n",
       "dtype: category\n",
       "Categories (4, object): ['a' < 'b' < 'c' < 'd']"
      ]
     },
     "execution_count": 244,
     "metadata": {},
     "output_type": "execute_result"
    }
   ],
   "source": [
    "so # ya se ve el orden "
   ]
  },
  {
   "cell_type": "markdown",
   "id": "011f7858",
   "metadata": {},
   "source": [
    "#### Datos faltantes (missings)\n",
    "\n",
    "* Funciones para hallar nulos: .isna() / .isnull() son equivalentes\n",
    "* Funcion para hallar datos no nulos: .notna(), .notnull()\n",
    "\n",
    "Tipos de valores nulos: \n",
    "\n",
    "- object -> None\n",
    "- float64/int64 -> np.nan\n",
    "- date -> naT"
   ]
  },
  {
   "cell_type": "code",
   "execution_count": 425,
   "id": "ed64e353",
   "metadata": {},
   "outputs": [
    {
     "data": {
      "text/html": [
       "<div>\n",
       "<style scoped>\n",
       "    .dataframe tbody tr th:only-of-type {\n",
       "        vertical-align: middle;\n",
       "    }\n",
       "\n",
       "    .dataframe tbody tr th {\n",
       "        vertical-align: top;\n",
       "    }\n",
       "\n",
       "    .dataframe thead th {\n",
       "        text-align: right;\n",
       "    }\n",
       "</style>\n",
       "<table border=\"1\" class=\"dataframe\">\n",
       "  <thead>\n",
       "    <tr style=\"text-align: right;\">\n",
       "      <th></th>\n",
       "      <th>A</th>\n",
       "      <th>B</th>\n",
       "      <th>C</th>\n",
       "      <th>D</th>\n",
       "    </tr>\n",
       "  </thead>\n",
       "  <tbody>\n",
       "    <tr>\n",
       "      <th>0</th>\n",
       "      <td>1.0</td>\n",
       "      <td>2</td>\n",
       "      <td>1.0</td>\n",
       "      <td>True</td>\n",
       "    </tr>\n",
       "    <tr>\n",
       "      <th>1</th>\n",
       "      <td>2.0</td>\n",
       "      <td>None</td>\n",
       "      <td>NaN</td>\n",
       "      <td>False</td>\n",
       "    </tr>\n",
       "    <tr>\n",
       "      <th>2</th>\n",
       "      <td>NaN</td>\n",
       "      <td>None</td>\n",
       "      <td>NaN</td>\n",
       "      <td>None</td>\n",
       "    </tr>\n",
       "  </tbody>\n",
       "</table>\n",
       "</div>"
      ],
      "text/plain": [
       "     A     B    C      D\n",
       "0  1.0     2  1.0   True\n",
       "1  2.0  None  NaN  False\n",
       "2  NaN  None  NaN   None"
      ]
     },
     "execution_count": 425,
     "metadata": {},
     "output_type": "execute_result"
    }
   ],
   "source": [
    "df_m=pd.DataFrame({'A':[1,2,np.nan],\n",
    "                  'B':['2',None,None],\n",
    "                  'C':[1.,np.nan,np.nan],\n",
    "                  'D':[True,False,None]})\n",
    "df_m"
   ]
  },
  {
   "cell_type": "code",
   "execution_count": 426,
   "id": "9a76bfd1",
   "metadata": {},
   "outputs": [
    {
     "data": {
      "text/html": [
       "<div>\n",
       "<style scoped>\n",
       "    .dataframe tbody tr th:only-of-type {\n",
       "        vertical-align: middle;\n",
       "    }\n",
       "\n",
       "    .dataframe tbody tr th {\n",
       "        vertical-align: top;\n",
       "    }\n",
       "\n",
       "    .dataframe thead th {\n",
       "        text-align: right;\n",
       "    }\n",
       "</style>\n",
       "<table border=\"1\" class=\"dataframe\">\n",
       "  <thead>\n",
       "    <tr style=\"text-align: right;\">\n",
       "      <th></th>\n",
       "      <th>A</th>\n",
       "      <th>B</th>\n",
       "      <th>C</th>\n",
       "      <th>D</th>\n",
       "    </tr>\n",
       "  </thead>\n",
       "  <tbody>\n",
       "    <tr>\n",
       "      <th>0</th>\n",
       "      <td>False</td>\n",
       "      <td>False</td>\n",
       "      <td>False</td>\n",
       "      <td>False</td>\n",
       "    </tr>\n",
       "    <tr>\n",
       "      <th>1</th>\n",
       "      <td>False</td>\n",
       "      <td>True</td>\n",
       "      <td>True</td>\n",
       "      <td>False</td>\n",
       "    </tr>\n",
       "    <tr>\n",
       "      <th>2</th>\n",
       "      <td>True</td>\n",
       "      <td>True</td>\n",
       "      <td>True</td>\n",
       "      <td>True</td>\n",
       "    </tr>\n",
       "  </tbody>\n",
       "</table>\n",
       "</div>"
      ],
      "text/plain": [
       "       A      B      C      D\n",
       "0  False  False  False  False\n",
       "1  False   True   True  False\n",
       "2   True   True   True   True"
      ]
     },
     "execution_count": 426,
     "metadata": {},
     "output_type": "execute_result"
    }
   ],
   "source": [
    "df_m.isna() # Verifica si el valor es nan o null"
   ]
  },
  {
   "cell_type": "code",
   "execution_count": 427,
   "id": "3b8e096f",
   "metadata": {},
   "outputs": [
    {
     "data": {
      "text/plain": [
       "A    1\n",
       "B    2\n",
       "C    2\n",
       "D    1\n",
       "dtype: int64"
      ]
     },
     "execution_count": 427,
     "metadata": {},
     "output_type": "execute_result"
    }
   ],
   "source": [
    "df_m.isna().sum() # cantidad de nulos por columna"
   ]
  },
  {
   "cell_type": "code",
   "execution_count": 428,
   "id": "f620f9fa",
   "metadata": {},
   "outputs": [
    {
     "data": {
      "text/plain": [
       "6"
      ]
     },
     "execution_count": 428,
     "metadata": {},
     "output_type": "execute_result"
    }
   ],
   "source": [
    "df_m.isna().sum().sum() # cantidad de nulos totales de la tabla"
   ]
  },
  {
   "cell_type": "code",
   "execution_count": 429,
   "id": "d5de2ff5",
   "metadata": {},
   "outputs": [
    {
     "data": {
      "text/html": [
       "<div>\n",
       "<style scoped>\n",
       "    .dataframe tbody tr th:only-of-type {\n",
       "        vertical-align: middle;\n",
       "    }\n",
       "\n",
       "    .dataframe tbody tr th {\n",
       "        vertical-align: top;\n",
       "    }\n",
       "\n",
       "    .dataframe thead th {\n",
       "        text-align: right;\n",
       "    }\n",
       "</style>\n",
       "<table border=\"1\" class=\"dataframe\">\n",
       "  <thead>\n",
       "    <tr style=\"text-align: right;\">\n",
       "      <th></th>\n",
       "      <th>A</th>\n",
       "      <th>B</th>\n",
       "      <th>C</th>\n",
       "      <th>D</th>\n",
       "    </tr>\n",
       "  </thead>\n",
       "  <tbody>\n",
       "    <tr>\n",
       "      <th>0</th>\n",
       "      <td>False</td>\n",
       "      <td>False</td>\n",
       "      <td>False</td>\n",
       "      <td>False</td>\n",
       "    </tr>\n",
       "    <tr>\n",
       "      <th>1</th>\n",
       "      <td>False</td>\n",
       "      <td>True</td>\n",
       "      <td>True</td>\n",
       "      <td>False</td>\n",
       "    </tr>\n",
       "    <tr>\n",
       "      <th>2</th>\n",
       "      <td>True</td>\n",
       "      <td>True</td>\n",
       "      <td>True</td>\n",
       "      <td>True</td>\n",
       "    </tr>\n",
       "  </tbody>\n",
       "</table>\n",
       "</div>"
      ],
      "text/plain": [
       "       A      B      C      D\n",
       "0  False  False  False  False\n",
       "1  False   True   True  False\n",
       "2   True   True   True   True"
      ]
     },
     "execution_count": 429,
     "metadata": {},
     "output_type": "execute_result"
    }
   ],
   "source": [
    "df_m.isnull() # equvalente a isna()"
   ]
  },
  {
   "cell_type": "code",
   "execution_count": 430,
   "id": "026b7267",
   "metadata": {},
   "outputs": [
    {
     "data": {
      "text/plain": [
       "A    1\n",
       "B    2\n",
       "C    2\n",
       "D    1\n",
       "dtype: int64"
      ]
     },
     "execution_count": 430,
     "metadata": {},
     "output_type": "execute_result"
    }
   ],
   "source": [
    "df_m.isnull().sum() # cant de nulos por columna"
   ]
  },
  {
   "cell_type": "code",
   "execution_count": 431,
   "id": "5bb93f9f",
   "metadata": {},
   "outputs": [
    {
     "data": {
      "text/plain": [
       "6"
      ]
     },
     "execution_count": 431,
     "metadata": {},
     "output_type": "execute_result"
    }
   ],
   "source": [
    "df_m.isnull().sum().sum() # cant de nulos totales del DF"
   ]
  },
  {
   "cell_type": "code",
   "execution_count": 432,
   "id": "f59526ac",
   "metadata": {},
   "outputs": [
    {
     "data": {
      "text/plain": [
       "True"
      ]
     },
     "execution_count": 432,
     "metadata": {},
     "output_type": "execute_result"
    }
   ],
   "source": [
    "df_m['A'].isnull().any() # en la columna A hay algun null "
   ]
  },
  {
   "cell_type": "code",
   "execution_count": 433,
   "id": "01c79df0",
   "metadata": {},
   "outputs": [
    {
     "data": {
      "text/plain": [
       "False"
      ]
     },
     "execution_count": 433,
     "metadata": {},
     "output_type": "execute_result"
    }
   ],
   "source": [
    "df_m['A'].isnull().all() # en la columna A son nulos todos"
   ]
  },
  {
   "cell_type": "code",
   "execution_count": 434,
   "id": "0ff1c335",
   "metadata": {},
   "outputs": [
    {
     "data": {
      "text/plain": [
       "A    True\n",
       "B    True\n",
       "C    True\n",
       "D    True\n",
       "dtype: bool"
      ]
     },
     "execution_count": 434,
     "metadata": {},
     "output_type": "execute_result"
    }
   ],
   "source": [
    "df_m.isnull().any() # como no se indica columna lo hace para cada columna y en todas hay al menos uno."
   ]
  },
  {
   "cell_type": "code",
   "execution_count": 435,
   "id": "d4cdccf7",
   "metadata": {},
   "outputs": [
    {
     "data": {
      "text/plain": [
       "A    False\n",
       "B    False\n",
       "C    False\n",
       "D    False\n",
       "dtype: bool"
      ]
     },
     "execution_count": 435,
     "metadata": {},
     "output_type": "execute_result"
    }
   ],
   "source": [
    "df_m.isnull().all() # lo mismo pero devuelve verdadero si todas las filas son nulas en cada columna"
   ]
  },
  {
   "cell_type": "code",
   "execution_count": 436,
   "id": "c510a496",
   "metadata": {},
   "outputs": [
    {
     "data": {
      "text/plain": [
       "A    1\n",
       "B    2\n",
       "C    2\n",
       "D    1\n",
       "dtype: int64"
      ]
     },
     "execution_count": 436,
     "metadata": {},
     "output_type": "execute_result"
    }
   ],
   "source": [
    "# Sumar valores perdidos. Los muestra por columna.\n",
    "\n",
    "df_m.isnull().sum() "
   ]
  },
  {
   "cell_type": "code",
   "execution_count": 437,
   "id": "b49fac03",
   "metadata": {},
   "outputs": [
    {
     "data": {
      "text/html": [
       "<div>\n",
       "<style scoped>\n",
       "    .dataframe tbody tr th:only-of-type {\n",
       "        vertical-align: middle;\n",
       "    }\n",
       "\n",
       "    .dataframe tbody tr th {\n",
       "        vertical-align: top;\n",
       "    }\n",
       "\n",
       "    .dataframe thead th {\n",
       "        text-align: right;\n",
       "    }\n",
       "</style>\n",
       "<table border=\"1\" class=\"dataframe\">\n",
       "  <thead>\n",
       "    <tr style=\"text-align: right;\">\n",
       "      <th></th>\n",
       "      <th>A</th>\n",
       "      <th>B</th>\n",
       "      <th>C</th>\n",
       "      <th>D</th>\n",
       "    </tr>\n",
       "  </thead>\n",
       "  <tbody>\n",
       "    <tr>\n",
       "      <th>0</th>\n",
       "      <td>1.0</td>\n",
       "      <td>2</td>\n",
       "      <td>1.0</td>\n",
       "      <td>True</td>\n",
       "    </tr>\n",
       "  </tbody>\n",
       "</table>\n",
       "</div>"
      ],
      "text/plain": [
       "     A  B    C     D\n",
       "0  1.0  2  1.0  True"
      ]
     },
     "execution_count": 437,
     "metadata": {},
     "output_type": "execute_result"
    }
   ],
   "source": [
    "# Si quiero eliminar las filas que tengan algun valor perdido \n",
    "df_m.dropna(axis=0) # como no tiene el implace no las borra efectivamente"
   ]
  },
  {
   "cell_type": "code",
   "execution_count": 438,
   "id": "54290ade",
   "metadata": {},
   "outputs": [
    {
     "data": {
      "text/html": [
       "<div>\n",
       "<style scoped>\n",
       "    .dataframe tbody tr th:only-of-type {\n",
       "        vertical-align: middle;\n",
       "    }\n",
       "\n",
       "    .dataframe tbody tr th {\n",
       "        vertical-align: top;\n",
       "    }\n",
       "\n",
       "    .dataframe thead th {\n",
       "        text-align: right;\n",
       "    }\n",
       "</style>\n",
       "<table border=\"1\" class=\"dataframe\">\n",
       "  <thead>\n",
       "    <tr style=\"text-align: right;\">\n",
       "      <th></th>\n",
       "      <th>A</th>\n",
       "      <th>B</th>\n",
       "      <th>C</th>\n",
       "      <th>D</th>\n",
       "    </tr>\n",
       "  </thead>\n",
       "  <tbody>\n",
       "    <tr>\n",
       "      <th>0</th>\n",
       "      <td>1.0</td>\n",
       "      <td>2</td>\n",
       "      <td>1.0</td>\n",
       "      <td>True</td>\n",
       "    </tr>\n",
       "    <tr>\n",
       "      <th>1</th>\n",
       "      <td>2.0</td>\n",
       "      <td>None</td>\n",
       "      <td>NaN</td>\n",
       "      <td>False</td>\n",
       "    </tr>\n",
       "    <tr>\n",
       "      <th>2</th>\n",
       "      <td>NaN</td>\n",
       "      <td>None</td>\n",
       "      <td>NaN</td>\n",
       "      <td>None</td>\n",
       "    </tr>\n",
       "  </tbody>\n",
       "</table>\n",
       "</div>"
      ],
      "text/plain": [
       "     A     B    C      D\n",
       "0  1.0     2  1.0   True\n",
       "1  2.0  None  NaN  False\n",
       "2  NaN  None  NaN   None"
      ]
     },
     "execution_count": 438,
     "metadata": {},
     "output_type": "execute_result"
    }
   ],
   "source": [
    "df_m"
   ]
  },
  {
   "cell_type": "code",
   "execution_count": 439,
   "id": "c807baf9",
   "metadata": {},
   "outputs": [
    {
     "data": {
      "text/html": [
       "<div>\n",
       "<style scoped>\n",
       "    .dataframe tbody tr th:only-of-type {\n",
       "        vertical-align: middle;\n",
       "    }\n",
       "\n",
       "    .dataframe tbody tr th {\n",
       "        vertical-align: top;\n",
       "    }\n",
       "\n",
       "    .dataframe thead th {\n",
       "        text-align: right;\n",
       "    }\n",
       "</style>\n",
       "<table border=\"1\" class=\"dataframe\">\n",
       "  <thead>\n",
       "    <tr style=\"text-align: right;\">\n",
       "      <th></th>\n",
       "    </tr>\n",
       "  </thead>\n",
       "  <tbody>\n",
       "    <tr>\n",
       "      <th>0</th>\n",
       "    </tr>\n",
       "    <tr>\n",
       "      <th>1</th>\n",
       "    </tr>\n",
       "    <tr>\n",
       "      <th>2</th>\n",
       "    </tr>\n",
       "  </tbody>\n",
       "</table>\n",
       "</div>"
      ],
      "text/plain": [
       "Empty DataFrame\n",
       "Columns: []\n",
       "Index: [0, 1, 2]"
      ]
     },
     "execution_count": 439,
     "metadata": {},
     "output_type": "execute_result"
    }
   ],
   "source": [
    "df_m.dropna(axis=1) # no hay ninguna columna que no tenga faltantes"
   ]
  },
  {
   "cell_type": "code",
   "execution_count": 440,
   "id": "656cf538",
   "metadata": {},
   "outputs": [
    {
     "data": {
      "text/html": [
       "<div>\n",
       "<style scoped>\n",
       "    .dataframe tbody tr th:only-of-type {\n",
       "        vertical-align: middle;\n",
       "    }\n",
       "\n",
       "    .dataframe tbody tr th {\n",
       "        vertical-align: top;\n",
       "    }\n",
       "\n",
       "    .dataframe thead th {\n",
       "        text-align: right;\n",
       "    }\n",
       "</style>\n",
       "<table border=\"1\" class=\"dataframe\">\n",
       "  <thead>\n",
       "    <tr style=\"text-align: right;\">\n",
       "      <th></th>\n",
       "      <th>A</th>\n",
       "      <th>B</th>\n",
       "      <th>C</th>\n",
       "      <th>D</th>\n",
       "    </tr>\n",
       "  </thead>\n",
       "  <tbody>\n",
       "    <tr>\n",
       "      <th>0</th>\n",
       "      <td>1.0</td>\n",
       "      <td>2</td>\n",
       "      <td>1.0</td>\n",
       "      <td>True</td>\n",
       "    </tr>\n",
       "    <tr>\n",
       "      <th>1</th>\n",
       "      <td>2.0</td>\n",
       "      <td>None</td>\n",
       "      <td>NaN</td>\n",
       "      <td>False</td>\n",
       "    </tr>\n",
       "    <tr>\n",
       "      <th>2</th>\n",
       "      <td>NaN</td>\n",
       "      <td>None</td>\n",
       "      <td>NaN</td>\n",
       "      <td>None</td>\n",
       "    </tr>\n",
       "  </tbody>\n",
       "</table>\n",
       "</div>"
      ],
      "text/plain": [
       "     A     B    C      D\n",
       "0  1.0     2  1.0   True\n",
       "1  2.0  None  NaN  False\n",
       "2  NaN  None  NaN   None"
      ]
     },
     "execution_count": 440,
     "metadata": {},
     "output_type": "execute_result"
    }
   ],
   "source": [
    "df_m"
   ]
  },
  {
   "cell_type": "code",
   "execution_count": 443,
   "id": "496aed36",
   "metadata": {},
   "outputs": [
    {
     "data": {
      "text/html": [
       "<div>\n",
       "<style scoped>\n",
       "    .dataframe tbody tr th:only-of-type {\n",
       "        vertical-align: middle;\n",
       "    }\n",
       "\n",
       "    .dataframe tbody tr th {\n",
       "        vertical-align: top;\n",
       "    }\n",
       "\n",
       "    .dataframe thead th {\n",
       "        text-align: right;\n",
       "    }\n",
       "</style>\n",
       "<table border=\"1\" class=\"dataframe\">\n",
       "  <thead>\n",
       "    <tr style=\"text-align: right;\">\n",
       "      <th></th>\n",
       "      <th>A</th>\n",
       "      <th>B</th>\n",
       "      <th>C</th>\n",
       "      <th>D</th>\n",
       "    </tr>\n",
       "  </thead>\n",
       "  <tbody>\n",
       "    <tr>\n",
       "      <th>0</th>\n",
       "      <td>True</td>\n",
       "      <td>True</td>\n",
       "      <td>True</td>\n",
       "      <td>True</td>\n",
       "    </tr>\n",
       "    <tr>\n",
       "      <th>1</th>\n",
       "      <td>True</td>\n",
       "      <td>False</td>\n",
       "      <td>False</td>\n",
       "      <td>True</td>\n",
       "    </tr>\n",
       "    <tr>\n",
       "      <th>2</th>\n",
       "      <td>False</td>\n",
       "      <td>False</td>\n",
       "      <td>False</td>\n",
       "      <td>False</td>\n",
       "    </tr>\n",
       "  </tbody>\n",
       "</table>\n",
       "</div>"
      ],
      "text/plain": [
       "       A      B      C      D\n",
       "0   True   True   True   True\n",
       "1   True  False  False   True\n",
       "2  False  False  False  False"
      ]
     },
     "execution_count": 443,
     "metadata": {},
     "output_type": "execute_result"
    }
   ],
   "source": [
    "df_m.notna()"
   ]
  },
  {
   "cell_type": "code",
   "execution_count": 446,
   "id": "dcb5c472",
   "metadata": {},
   "outputs": [
    {
     "data": {
      "text/plain": [
       "1"
      ]
     },
     "execution_count": 446,
     "metadata": {},
     "output_type": "execute_result"
    }
   ],
   "source": [
    "df_m['B'].notna().sum()"
   ]
  },
  {
   "cell_type": "code",
   "execution_count": 444,
   "id": "6073db99",
   "metadata": {},
   "outputs": [
    {
     "data": {
      "text/html": [
       "<div>\n",
       "<style scoped>\n",
       "    .dataframe tbody tr th:only-of-type {\n",
       "        vertical-align: middle;\n",
       "    }\n",
       "\n",
       "    .dataframe tbody tr th {\n",
       "        vertical-align: top;\n",
       "    }\n",
       "\n",
       "    .dataframe thead th {\n",
       "        text-align: right;\n",
       "    }\n",
       "</style>\n",
       "<table border=\"1\" class=\"dataframe\">\n",
       "  <thead>\n",
       "    <tr style=\"text-align: right;\">\n",
       "      <th></th>\n",
       "      <th>A</th>\n",
       "      <th>B</th>\n",
       "      <th>C</th>\n",
       "      <th>D</th>\n",
       "    </tr>\n",
       "  </thead>\n",
       "  <tbody>\n",
       "    <tr>\n",
       "      <th>0</th>\n",
       "      <td>True</td>\n",
       "      <td>True</td>\n",
       "      <td>True</td>\n",
       "      <td>True</td>\n",
       "    </tr>\n",
       "    <tr>\n",
       "      <th>1</th>\n",
       "      <td>True</td>\n",
       "      <td>False</td>\n",
       "      <td>False</td>\n",
       "      <td>True</td>\n",
       "    </tr>\n",
       "    <tr>\n",
       "      <th>2</th>\n",
       "      <td>False</td>\n",
       "      <td>False</td>\n",
       "      <td>False</td>\n",
       "      <td>False</td>\n",
       "    </tr>\n",
       "  </tbody>\n",
       "</table>\n",
       "</div>"
      ],
      "text/plain": [
       "       A      B      C      D\n",
       "0   True   True   True   True\n",
       "1   True  False  False   True\n",
       "2  False  False  False  False"
      ]
     },
     "execution_count": 444,
     "metadata": {},
     "output_type": "execute_result"
    }
   ],
   "source": [
    "df_m.notnull()"
   ]
  },
  {
   "cell_type": "code",
   "execution_count": 451,
   "id": "958adceb",
   "metadata": {},
   "outputs": [
    {
     "data": {
      "text/plain": [
       "2"
      ]
     },
     "execution_count": 451,
     "metadata": {},
     "output_type": "execute_result"
    }
   ],
   "source": [
    "df_m['D'].notnull().sum()"
   ]
  },
  {
   "cell_type": "markdown",
   "id": "d3e95799",
   "metadata": {},
   "source": [
    "Otro ejemplo para tratamiento de missings"
   ]
  },
  {
   "cell_type": "code",
   "execution_count": 257,
   "id": "4275746d",
   "metadata": {},
   "outputs": [
    {
     "data": {
      "text/html": [
       "<div>\n",
       "<style scoped>\n",
       "    .dataframe tbody tr th:only-of-type {\n",
       "        vertical-align: middle;\n",
       "    }\n",
       "\n",
       "    .dataframe tbody tr th {\n",
       "        vertical-align: top;\n",
       "    }\n",
       "\n",
       "    .dataframe thead th {\n",
       "        text-align: right;\n",
       "    }\n",
       "</style>\n",
       "<table border=\"1\" class=\"dataframe\">\n",
       "  <thead>\n",
       "    <tr style=\"text-align: right;\">\n",
       "      <th></th>\n",
       "      <th>Nombre</th>\n",
       "      <th>Edad</th>\n",
       "      <th>Sexo</th>\n",
       "      <th>Provincia</th>\n",
       "      <th>Clase</th>\n",
       "    </tr>\n",
       "  </thead>\n",
       "  <tbody>\n",
       "    <tr>\n",
       "      <th>0</th>\n",
       "      <td>Juan</td>\n",
       "      <td>30.0</td>\n",
       "      <td>H</td>\n",
       "      <td>Mu</td>\n",
       "      <td>A</td>\n",
       "    </tr>\n",
       "    <tr>\n",
       "      <th>1</th>\n",
       "      <td>Lorena</td>\n",
       "      <td>40.0</td>\n",
       "      <td>M</td>\n",
       "      <td>None</td>\n",
       "      <td>B</td>\n",
       "    </tr>\n",
       "    <tr>\n",
       "      <th>2</th>\n",
       "      <td>Mercedes</td>\n",
       "      <td>50.0</td>\n",
       "      <td>None</td>\n",
       "      <td>Ba</td>\n",
       "      <td>C</td>\n",
       "    </tr>\n",
       "    <tr>\n",
       "      <th>3</th>\n",
       "      <td>Abigail</td>\n",
       "      <td>NaN</td>\n",
       "      <td>M</td>\n",
       "      <td>Cu</td>\n",
       "      <td>D</td>\n",
       "    </tr>\n",
       "    <tr>\n",
       "      <th>4</th>\n",
       "      <td>Fran</td>\n",
       "      <td>20.0</td>\n",
       "      <td>None</td>\n",
       "      <td>Ja</td>\n",
       "      <td>None</td>\n",
       "    </tr>\n",
       "    <tr>\n",
       "      <th>5</th>\n",
       "      <td>Rodrigo</td>\n",
       "      <td>15.0</td>\n",
       "      <td>H</td>\n",
       "      <td>None</td>\n",
       "      <td>A</td>\n",
       "    </tr>\n",
       "    <tr>\n",
       "      <th>6</th>\n",
       "      <td>Lorenzo</td>\n",
       "      <td>17.0</td>\n",
       "      <td>H</td>\n",
       "      <td>None</td>\n",
       "      <td>A</td>\n",
       "    </tr>\n",
       "    <tr>\n",
       "      <th>7</th>\n",
       "      <td>Maria</td>\n",
       "      <td>18.0</td>\n",
       "      <td>None</td>\n",
       "      <td>Va</td>\n",
       "      <td>None</td>\n",
       "    </tr>\n",
       "    <tr>\n",
       "      <th>8</th>\n",
       "      <td>Lucia</td>\n",
       "      <td>NaN</td>\n",
       "      <td>None</td>\n",
       "      <td>None</td>\n",
       "      <td>None</td>\n",
       "    </tr>\n",
       "    <tr>\n",
       "      <th>9</th>\n",
       "      <td>Julio</td>\n",
       "      <td>NaN</td>\n",
       "      <td>None</td>\n",
       "      <td>Ca</td>\n",
       "      <td>J</td>\n",
       "    </tr>\n",
       "  </tbody>\n",
       "</table>\n",
       "</div>"
      ],
      "text/plain": [
       "     Nombre  Edad  Sexo Provincia Clase\n",
       "0      Juan  30.0     H        Mu     A\n",
       "1    Lorena  40.0     M      None     B\n",
       "2  Mercedes  50.0  None        Ba     C\n",
       "3   Abigail   NaN     M        Cu     D\n",
       "4      Fran  20.0  None        Ja  None\n",
       "5   Rodrigo  15.0     H      None     A\n",
       "6   Lorenzo  17.0     H      None     A\n",
       "7     Maria  18.0  None        Va  None\n",
       "8     Lucia   NaN  None      None  None\n",
       "9     Julio   NaN  None        Ca     J"
      ]
     },
     "execution_count": 257,
     "metadata": {},
     "output_type": "execute_result"
    }
   ],
   "source": [
    "df_n=pd.DataFrame({'Nombre':['Juan','Lorena','Mercedes','Abigail','Fran','Rodrigo','Lorenzo','Maria','Lucia','Julio'],\n",
    "                   'Edad':[30,40,50,np.nan,20,15,17,18,np.nan,np.nan],\n",
    "                   'Sexo':['H','M',None,'M',None,'H','H',None,None,None],\n",
    "                   'Provincia':['Mu',None,'Ba','Cu','Ja',None,None,'Va',None,'Ca'],\n",
    "                   'Clase':['A','B','C','D',None,'A','A',None,None,'J']})\n",
    "df_n"
   ]
  },
  {
   "cell_type": "code",
   "execution_count": 258,
   "id": "c16dc953",
   "metadata": {},
   "outputs": [
    {
     "data": {
      "text/html": [
       "<div>\n",
       "<style scoped>\n",
       "    .dataframe tbody tr th:only-of-type {\n",
       "        vertical-align: middle;\n",
       "    }\n",
       "\n",
       "    .dataframe tbody tr th {\n",
       "        vertical-align: top;\n",
       "    }\n",
       "\n",
       "    .dataframe thead th {\n",
       "        text-align: right;\n",
       "    }\n",
       "</style>\n",
       "<table border=\"1\" class=\"dataframe\">\n",
       "  <thead>\n",
       "    <tr style=\"text-align: right;\">\n",
       "      <th></th>\n",
       "      <th>Nombre</th>\n",
       "      <th>Edad</th>\n",
       "      <th>Sexo</th>\n",
       "      <th>Provincia</th>\n",
       "      <th>Clase</th>\n",
       "    </tr>\n",
       "  </thead>\n",
       "  <tbody>\n",
       "    <tr>\n",
       "      <th>0</th>\n",
       "      <td>False</td>\n",
       "      <td>False</td>\n",
       "      <td>False</td>\n",
       "      <td>False</td>\n",
       "      <td>False</td>\n",
       "    </tr>\n",
       "    <tr>\n",
       "      <th>1</th>\n",
       "      <td>False</td>\n",
       "      <td>False</td>\n",
       "      <td>False</td>\n",
       "      <td>True</td>\n",
       "      <td>False</td>\n",
       "    </tr>\n",
       "    <tr>\n",
       "      <th>2</th>\n",
       "      <td>False</td>\n",
       "      <td>False</td>\n",
       "      <td>True</td>\n",
       "      <td>False</td>\n",
       "      <td>False</td>\n",
       "    </tr>\n",
       "    <tr>\n",
       "      <th>3</th>\n",
       "      <td>False</td>\n",
       "      <td>True</td>\n",
       "      <td>False</td>\n",
       "      <td>False</td>\n",
       "      <td>False</td>\n",
       "    </tr>\n",
       "    <tr>\n",
       "      <th>4</th>\n",
       "      <td>False</td>\n",
       "      <td>False</td>\n",
       "      <td>True</td>\n",
       "      <td>False</td>\n",
       "      <td>True</td>\n",
       "    </tr>\n",
       "    <tr>\n",
       "      <th>5</th>\n",
       "      <td>False</td>\n",
       "      <td>False</td>\n",
       "      <td>False</td>\n",
       "      <td>True</td>\n",
       "      <td>False</td>\n",
       "    </tr>\n",
       "    <tr>\n",
       "      <th>6</th>\n",
       "      <td>False</td>\n",
       "      <td>False</td>\n",
       "      <td>False</td>\n",
       "      <td>True</td>\n",
       "      <td>False</td>\n",
       "    </tr>\n",
       "    <tr>\n",
       "      <th>7</th>\n",
       "      <td>False</td>\n",
       "      <td>False</td>\n",
       "      <td>True</td>\n",
       "      <td>False</td>\n",
       "      <td>True</td>\n",
       "    </tr>\n",
       "    <tr>\n",
       "      <th>8</th>\n",
       "      <td>False</td>\n",
       "      <td>True</td>\n",
       "      <td>True</td>\n",
       "      <td>True</td>\n",
       "      <td>True</td>\n",
       "    </tr>\n",
       "    <tr>\n",
       "      <th>9</th>\n",
       "      <td>False</td>\n",
       "      <td>True</td>\n",
       "      <td>True</td>\n",
       "      <td>False</td>\n",
       "      <td>False</td>\n",
       "    </tr>\n",
       "  </tbody>\n",
       "</table>\n",
       "</div>"
      ],
      "text/plain": [
       "   Nombre   Edad   Sexo  Provincia  Clase\n",
       "0   False  False  False      False  False\n",
       "1   False  False  False       True  False\n",
       "2   False  False   True      False  False\n",
       "3   False   True  False      False  False\n",
       "4   False  False   True      False   True\n",
       "5   False  False  False       True  False\n",
       "6   False  False  False       True  False\n",
       "7   False  False   True      False   True\n",
       "8   False   True   True       True   True\n",
       "9   False   True   True      False  False"
      ]
     },
     "execution_count": 258,
     "metadata": {},
     "output_type": "execute_result"
    }
   ],
   "source": [
    "df_n.isna() # Verifica si el valor es nan o null"
   ]
  },
  {
   "cell_type": "code",
   "execution_count": 259,
   "id": "b16e016c",
   "metadata": {},
   "outputs": [
    {
     "data": {
      "text/html": [
       "<div>\n",
       "<style scoped>\n",
       "    .dataframe tbody tr th:only-of-type {\n",
       "        vertical-align: middle;\n",
       "    }\n",
       "\n",
       "    .dataframe tbody tr th {\n",
       "        vertical-align: top;\n",
       "    }\n",
       "\n",
       "    .dataframe thead th {\n",
       "        text-align: right;\n",
       "    }\n",
       "</style>\n",
       "<table border=\"1\" class=\"dataframe\">\n",
       "  <thead>\n",
       "    <tr style=\"text-align: right;\">\n",
       "      <th></th>\n",
       "      <th>Nombre</th>\n",
       "      <th>Edad</th>\n",
       "      <th>Sexo</th>\n",
       "      <th>Provincia</th>\n",
       "      <th>Clase</th>\n",
       "    </tr>\n",
       "  </thead>\n",
       "  <tbody>\n",
       "    <tr>\n",
       "      <th>0</th>\n",
       "      <td>Juan</td>\n",
       "      <td>30.0</td>\n",
       "      <td>H</td>\n",
       "      <td>Mu</td>\n",
       "      <td>A</td>\n",
       "    </tr>\n",
       "    <tr>\n",
       "      <th>1</th>\n",
       "      <td>Lorena</td>\n",
       "      <td>40.0</td>\n",
       "      <td>M</td>\n",
       "      <td>None</td>\n",
       "      <td>B</td>\n",
       "    </tr>\n",
       "    <tr>\n",
       "      <th>2</th>\n",
       "      <td>Mercedes</td>\n",
       "      <td>50.0</td>\n",
       "      <td>None</td>\n",
       "      <td>Ba</td>\n",
       "      <td>C</td>\n",
       "    </tr>\n",
       "    <tr>\n",
       "      <th>3</th>\n",
       "      <td>Abigail</td>\n",
       "      <td>NaN</td>\n",
       "      <td>M</td>\n",
       "      <td>Cu</td>\n",
       "      <td>D</td>\n",
       "    </tr>\n",
       "    <tr>\n",
       "      <th>4</th>\n",
       "      <td>Fran</td>\n",
       "      <td>20.0</td>\n",
       "      <td>None</td>\n",
       "      <td>Ja</td>\n",
       "      <td>None</td>\n",
       "    </tr>\n",
       "    <tr>\n",
       "      <th>5</th>\n",
       "      <td>Rodrigo</td>\n",
       "      <td>15.0</td>\n",
       "      <td>H</td>\n",
       "      <td>None</td>\n",
       "      <td>A</td>\n",
       "    </tr>\n",
       "    <tr>\n",
       "      <th>6</th>\n",
       "      <td>Lorenzo</td>\n",
       "      <td>17.0</td>\n",
       "      <td>H</td>\n",
       "      <td>None</td>\n",
       "      <td>A</td>\n",
       "    </tr>\n",
       "    <tr>\n",
       "      <th>7</th>\n",
       "      <td>Maria</td>\n",
       "      <td>18.0</td>\n",
       "      <td>None</td>\n",
       "      <td>Va</td>\n",
       "      <td>None</td>\n",
       "    </tr>\n",
       "    <tr>\n",
       "      <th>8</th>\n",
       "      <td>Lucia</td>\n",
       "      <td>NaN</td>\n",
       "      <td>None</td>\n",
       "      <td>None</td>\n",
       "      <td>None</td>\n",
       "    </tr>\n",
       "    <tr>\n",
       "      <th>9</th>\n",
       "      <td>Julio</td>\n",
       "      <td>NaN</td>\n",
       "      <td>None</td>\n",
       "      <td>Ca</td>\n",
       "      <td>J</td>\n",
       "    </tr>\n",
       "  </tbody>\n",
       "</table>\n",
       "</div>"
      ],
      "text/plain": [
       "     Nombre  Edad  Sexo Provincia Clase\n",
       "0      Juan  30.0     H        Mu     A\n",
       "1    Lorena  40.0     M      None     B\n",
       "2  Mercedes  50.0  None        Ba     C\n",
       "3   Abigail   NaN     M        Cu     D\n",
       "4      Fran  20.0  None        Ja  None\n",
       "5   Rodrigo  15.0     H      None     A\n",
       "6   Lorenzo  17.0     H      None     A\n",
       "7     Maria  18.0  None        Va  None\n",
       "8     Lucia   NaN  None      None  None\n",
       "9     Julio   NaN  None        Ca     J"
      ]
     },
     "execution_count": 259,
     "metadata": {},
     "output_type": "execute_result"
    }
   ],
   "source": [
    "df_n"
   ]
  },
  {
   "cell_type": "code",
   "execution_count": 260,
   "id": "7b745fc8",
   "metadata": {},
   "outputs": [],
   "source": [
    "# Como eliminar aquellas filas con dos o mas datos faltantes"
   ]
  },
  {
   "cell_type": "code",
   "execution_count": 261,
   "id": "2dd4a79b",
   "metadata": {},
   "outputs": [
    {
     "data": {
      "text/html": [
       "<div>\n",
       "<style scoped>\n",
       "    .dataframe tbody tr th:only-of-type {\n",
       "        vertical-align: middle;\n",
       "    }\n",
       "\n",
       "    .dataframe tbody tr th {\n",
       "        vertical-align: top;\n",
       "    }\n",
       "\n",
       "    .dataframe thead th {\n",
       "        text-align: right;\n",
       "    }\n",
       "</style>\n",
       "<table border=\"1\" class=\"dataframe\">\n",
       "  <thead>\n",
       "    <tr style=\"text-align: right;\">\n",
       "      <th></th>\n",
       "      <th>Nombre</th>\n",
       "      <th>Edad</th>\n",
       "      <th>Sexo</th>\n",
       "      <th>Provincia</th>\n",
       "      <th>Clase</th>\n",
       "    </tr>\n",
       "  </thead>\n",
       "  <tbody>\n",
       "    <tr>\n",
       "      <th>0</th>\n",
       "      <td>Juan</td>\n",
       "      <td>30.0</td>\n",
       "      <td>H</td>\n",
       "      <td>Mu</td>\n",
       "      <td>A</td>\n",
       "    </tr>\n",
       "    <tr>\n",
       "      <th>1</th>\n",
       "      <td>Lorena</td>\n",
       "      <td>40.0</td>\n",
       "      <td>M</td>\n",
       "      <td>None</td>\n",
       "      <td>B</td>\n",
       "    </tr>\n",
       "    <tr>\n",
       "      <th>2</th>\n",
       "      <td>Mercedes</td>\n",
       "      <td>50.0</td>\n",
       "      <td>None</td>\n",
       "      <td>Ba</td>\n",
       "      <td>C</td>\n",
       "    </tr>\n",
       "    <tr>\n",
       "      <th>3</th>\n",
       "      <td>Abigail</td>\n",
       "      <td>NaN</td>\n",
       "      <td>M</td>\n",
       "      <td>Cu</td>\n",
       "      <td>D</td>\n",
       "    </tr>\n",
       "    <tr>\n",
       "      <th>5</th>\n",
       "      <td>Rodrigo</td>\n",
       "      <td>15.0</td>\n",
       "      <td>H</td>\n",
       "      <td>None</td>\n",
       "      <td>A</td>\n",
       "    </tr>\n",
       "    <tr>\n",
       "      <th>6</th>\n",
       "      <td>Lorenzo</td>\n",
       "      <td>17.0</td>\n",
       "      <td>H</td>\n",
       "      <td>None</td>\n",
       "      <td>A</td>\n",
       "    </tr>\n",
       "  </tbody>\n",
       "</table>\n",
       "</div>"
      ],
      "text/plain": [
       "     Nombre  Edad  Sexo Provincia Clase\n",
       "0      Juan  30.0     H        Mu     A\n",
       "1    Lorena  40.0     M      None     B\n",
       "2  Mercedes  50.0  None        Ba     C\n",
       "3   Abigail   NaN     M        Cu     D\n",
       "5   Rodrigo  15.0     H      None     A\n",
       "6   Lorenzo  17.0     H      None     A"
      ]
     },
     "execution_count": 261,
     "metadata": {},
     "output_type": "execute_result"
    }
   ],
   "source": [
    "df_n.dropna(thresh=4) # thresh = n donde n es el numero de campos con datos (n o mas datos validos) \n",
    "# Los que tengan menos de 4 campos con datos se eliminaran\n",
    "# Se quedaran las filas que tengan al menos 4 campos con datos."
   ]
  },
  {
   "cell_type": "code",
   "execution_count": 262,
   "id": "a32d8d2a",
   "metadata": {},
   "outputs": [
    {
     "data": {
      "text/plain": [
       "27.142857142857142"
      ]
     },
     "execution_count": 262,
     "metadata": {},
     "output_type": "execute_result"
    }
   ],
   "source": [
    "df_n['Edad'].mean()"
   ]
  },
  {
   "cell_type": "code",
   "execution_count": 263,
   "id": "ce1654e7",
   "metadata": {},
   "outputs": [
    {
     "data": {
      "text/plain": [
       "0    30.000000\n",
       "1    40.000000\n",
       "2    50.000000\n",
       "3    27.142857\n",
       "4    20.000000\n",
       "5    15.000000\n",
       "6    17.000000\n",
       "7    18.000000\n",
       "8    27.142857\n",
       "9    27.142857\n",
       "Name: Edad, dtype: float64"
      ]
     },
     "execution_count": 263,
     "metadata": {},
     "output_type": "execute_result"
    }
   ],
   "source": [
    "# cambio las edad=none y pongo la media\n",
    "df_n['Edad'].fillna(value=df_n['Edad'].mean()) # no pone inplace=True con lo cual no se ha cambiado"
   ]
  },
  {
   "cell_type": "code",
   "execution_count": 264,
   "id": "00c4bec2",
   "metadata": {},
   "outputs": [
    {
     "data": {
      "text/html": [
       "<div>\n",
       "<style scoped>\n",
       "    .dataframe tbody tr th:only-of-type {\n",
       "        vertical-align: middle;\n",
       "    }\n",
       "\n",
       "    .dataframe tbody tr th {\n",
       "        vertical-align: top;\n",
       "    }\n",
       "\n",
       "    .dataframe thead th {\n",
       "        text-align: right;\n",
       "    }\n",
       "</style>\n",
       "<table border=\"1\" class=\"dataframe\">\n",
       "  <thead>\n",
       "    <tr style=\"text-align: right;\">\n",
       "      <th></th>\n",
       "      <th>Nombre</th>\n",
       "      <th>Edad</th>\n",
       "      <th>Sexo</th>\n",
       "      <th>Provincia</th>\n",
       "      <th>Clase</th>\n",
       "    </tr>\n",
       "  </thead>\n",
       "  <tbody>\n",
       "    <tr>\n",
       "      <th>0</th>\n",
       "      <td>Juan</td>\n",
       "      <td>30.0</td>\n",
       "      <td>H</td>\n",
       "      <td>Mu</td>\n",
       "      <td>A</td>\n",
       "    </tr>\n",
       "    <tr>\n",
       "      <th>1</th>\n",
       "      <td>Lorena</td>\n",
       "      <td>40.0</td>\n",
       "      <td>M</td>\n",
       "      <td>None</td>\n",
       "      <td>B</td>\n",
       "    </tr>\n",
       "    <tr>\n",
       "      <th>2</th>\n",
       "      <td>Mercedes</td>\n",
       "      <td>50.0</td>\n",
       "      <td>None</td>\n",
       "      <td>Ba</td>\n",
       "      <td>C</td>\n",
       "    </tr>\n",
       "    <tr>\n",
       "      <th>3</th>\n",
       "      <td>Abigail</td>\n",
       "      <td>NaN</td>\n",
       "      <td>M</td>\n",
       "      <td>Cu</td>\n",
       "      <td>D</td>\n",
       "    </tr>\n",
       "    <tr>\n",
       "      <th>4</th>\n",
       "      <td>Fran</td>\n",
       "      <td>20.0</td>\n",
       "      <td>None</td>\n",
       "      <td>Ja</td>\n",
       "      <td>None</td>\n",
       "    </tr>\n",
       "    <tr>\n",
       "      <th>5</th>\n",
       "      <td>Rodrigo</td>\n",
       "      <td>15.0</td>\n",
       "      <td>H</td>\n",
       "      <td>None</td>\n",
       "      <td>A</td>\n",
       "    </tr>\n",
       "    <tr>\n",
       "      <th>6</th>\n",
       "      <td>Lorenzo</td>\n",
       "      <td>17.0</td>\n",
       "      <td>H</td>\n",
       "      <td>None</td>\n",
       "      <td>A</td>\n",
       "    </tr>\n",
       "    <tr>\n",
       "      <th>7</th>\n",
       "      <td>Maria</td>\n",
       "      <td>18.0</td>\n",
       "      <td>None</td>\n",
       "      <td>Va</td>\n",
       "      <td>None</td>\n",
       "    </tr>\n",
       "    <tr>\n",
       "      <th>8</th>\n",
       "      <td>Lucia</td>\n",
       "      <td>NaN</td>\n",
       "      <td>None</td>\n",
       "      <td>None</td>\n",
       "      <td>None</td>\n",
       "    </tr>\n",
       "    <tr>\n",
       "      <th>9</th>\n",
       "      <td>Julio</td>\n",
       "      <td>NaN</td>\n",
       "      <td>None</td>\n",
       "      <td>Ca</td>\n",
       "      <td>J</td>\n",
       "    </tr>\n",
       "  </tbody>\n",
       "</table>\n",
       "</div>"
      ],
      "text/plain": [
       "     Nombre  Edad  Sexo Provincia Clase\n",
       "0      Juan  30.0     H        Mu     A\n",
       "1    Lorena  40.0     M      None     B\n",
       "2  Mercedes  50.0  None        Ba     C\n",
       "3   Abigail   NaN     M        Cu     D\n",
       "4      Fran  20.0  None        Ja  None\n",
       "5   Rodrigo  15.0     H      None     A\n",
       "6   Lorenzo  17.0     H      None     A\n",
       "7     Maria  18.0  None        Va  None\n",
       "8     Lucia   NaN  None      None  None\n",
       "9     Julio   NaN  None        Ca     J"
      ]
     },
     "execution_count": 264,
     "metadata": {},
     "output_type": "execute_result"
    }
   ],
   "source": [
    "df_n"
   ]
  },
  {
   "cell_type": "markdown",
   "id": "d7995747",
   "metadata": {},
   "source": [
    "#### Criterios a la hora de eliminar datos faltantes:\n",
    "\n",
    "Se analizan las columnas que interesen para el analisis.\n",
    "\n",
    "* Datos numericos: \n",
    "    * Completar con media, mediana \n",
    "    * Recosntruccion del dato por algoritmo Knn \n",
    "\n",
    "* Datos cualitativos:\n",
    "    * si <5% de los registros son misssing en la variable, se elimina la fila completa.\n",
    "    * si missing > 5% y < 60% se aplica algoritmo para obtener el dato faltante.\n",
    "    * si missing >= 60% de los registros, se borra la variable o se intenta reconstruir, pero con cuidado porque al reconstruir nos podemos inventar demasiado el dato. En gral se borra la columna.\n"
   ]
  },
  {
   "cell_type": "markdown",
   "id": "cbfb02a7",
   "metadata": {},
   "source": [
    "#### Obtencion de datos unicos. Funcion unique()"
   ]
  },
  {
   "cell_type": "markdown",
   "id": "1248d016",
   "metadata": {},
   "source": [
    "df_n['Sexo'].unique() # valores distintos en Sexo"
   ]
  },
  {
   "cell_type": "code",
   "execution_count": 266,
   "id": "6180647b",
   "metadata": {},
   "outputs": [
    {
     "data": {
      "text/plain": [
       "2"
      ]
     },
     "execution_count": 266,
     "metadata": {},
     "output_type": "execute_result"
    }
   ],
   "source": [
    "df_n['Sexo'].nunique() # Numero de valores unicos (el null no se cuenta)"
   ]
  },
  {
   "cell_type": "code",
   "execution_count": 267,
   "id": "260048a2",
   "metadata": {},
   "outputs": [
    {
     "data": {
      "text/plain": [
       "0    False\n",
       "1    False\n",
       "2    False\n",
       "3    False\n",
       "4    False\n",
       "5    False\n",
       "6    False\n",
       "7    False\n",
       "8    False\n",
       "9    False\n",
       "dtype: bool"
      ]
     },
     "execution_count": 267,
     "metadata": {},
     "output_type": "execute_result"
    }
   ],
   "source": [
    "df_n.duplicated() # filas repetidas. Encuentra por filas la existencia de tuplas repetidas"
   ]
  },
  {
   "cell_type": "code",
   "execution_count": 268,
   "id": "a3705640",
   "metadata": {},
   "outputs": [
    {
     "data": {
      "text/plain": [
       "0"
      ]
     },
     "execution_count": 268,
     "metadata": {},
     "output_type": "execute_result"
    }
   ],
   "source": [
    "df_n.duplicated().sum() # filas repetidas. Cuentas las filas repetidas"
   ]
  },
  {
   "cell_type": "code",
   "execution_count": 269,
   "id": "22d9766b",
   "metadata": {},
   "outputs": [
    {
     "data": {
      "text/plain": [
       "4"
      ]
     },
     "execution_count": 269,
     "metadata": {},
     "output_type": "execute_result"
    }
   ],
   "source": [
    "# Se puede valorar sobre una o un conjunto de variables\n",
    "df_n['Clase'].duplicated().sum() # Considera nulos"
   ]
  },
  {
   "cell_type": "code",
   "execution_count": 270,
   "id": "efca95cc",
   "metadata": {},
   "outputs": [
    {
     "data": {
      "text/plain": [
       "0    False\n",
       "1    False\n",
       "2    False\n",
       "3    False\n",
       "4    False\n",
       "5    False\n",
       "6    False\n",
       "7    False\n",
       "8     True\n",
       "9     True\n",
       "Name: Edad, dtype: bool"
      ]
     },
     "execution_count": 270,
     "metadata": {},
     "output_type": "execute_result"
    }
   ],
   "source": [
    "# Se puede valorar sobre una o un conjunto de variables\n",
    "df_n['Edad'].duplicated()#.sum() #  considera nulos "
   ]
  },
  {
   "cell_type": "code",
   "execution_count": 271,
   "id": "a073b4c6",
   "metadata": {},
   "outputs": [
    {
     "data": {
      "text/html": [
       "<div>\n",
       "<style scoped>\n",
       "    .dataframe tbody tr th:only-of-type {\n",
       "        vertical-align: middle;\n",
       "    }\n",
       "\n",
       "    .dataframe tbody tr th {\n",
       "        vertical-align: top;\n",
       "    }\n",
       "\n",
       "    .dataframe thead th {\n",
       "        text-align: right;\n",
       "    }\n",
       "</style>\n",
       "<table border=\"1\" class=\"dataframe\">\n",
       "  <thead>\n",
       "    <tr style=\"text-align: right;\">\n",
       "      <th></th>\n",
       "      <th>Nombre</th>\n",
       "      <th>Edad</th>\n",
       "      <th>Sexo</th>\n",
       "      <th>Provincia</th>\n",
       "      <th>Clase</th>\n",
       "    </tr>\n",
       "  </thead>\n",
       "  <tbody>\n",
       "    <tr>\n",
       "      <th>0</th>\n",
       "      <td>Juan</td>\n",
       "      <td>30.0</td>\n",
       "      <td>H</td>\n",
       "      <td>Mu</td>\n",
       "      <td>A</td>\n",
       "    </tr>\n",
       "    <tr>\n",
       "      <th>1</th>\n",
       "      <td>Lorena</td>\n",
       "      <td>40.0</td>\n",
       "      <td>M</td>\n",
       "      <td>None</td>\n",
       "      <td>B</td>\n",
       "    </tr>\n",
       "    <tr>\n",
       "      <th>2</th>\n",
       "      <td>Mercedes</td>\n",
       "      <td>50.0</td>\n",
       "      <td>None</td>\n",
       "      <td>Ba</td>\n",
       "      <td>C</td>\n",
       "    </tr>\n",
       "    <tr>\n",
       "      <th>3</th>\n",
       "      <td>Abigail</td>\n",
       "      <td>NaN</td>\n",
       "      <td>M</td>\n",
       "      <td>Cu</td>\n",
       "      <td>D</td>\n",
       "    </tr>\n",
       "    <tr>\n",
       "      <th>4</th>\n",
       "      <td>Fran</td>\n",
       "      <td>20.0</td>\n",
       "      <td>None</td>\n",
       "      <td>Ja</td>\n",
       "      <td>None</td>\n",
       "    </tr>\n",
       "    <tr>\n",
       "      <th>5</th>\n",
       "      <td>Rodrigo</td>\n",
       "      <td>15.0</td>\n",
       "      <td>H</td>\n",
       "      <td>None</td>\n",
       "      <td>A</td>\n",
       "    </tr>\n",
       "    <tr>\n",
       "      <th>6</th>\n",
       "      <td>Lorenzo</td>\n",
       "      <td>17.0</td>\n",
       "      <td>H</td>\n",
       "      <td>None</td>\n",
       "      <td>A</td>\n",
       "    </tr>\n",
       "    <tr>\n",
       "      <th>7</th>\n",
       "      <td>Maria</td>\n",
       "      <td>18.0</td>\n",
       "      <td>None</td>\n",
       "      <td>Va</td>\n",
       "      <td>None</td>\n",
       "    </tr>\n",
       "    <tr>\n",
       "      <th>8</th>\n",
       "      <td>Lucia</td>\n",
       "      <td>NaN</td>\n",
       "      <td>None</td>\n",
       "      <td>None</td>\n",
       "      <td>None</td>\n",
       "    </tr>\n",
       "    <tr>\n",
       "      <th>9</th>\n",
       "      <td>Julio</td>\n",
       "      <td>NaN</td>\n",
       "      <td>None</td>\n",
       "      <td>Ca</td>\n",
       "      <td>J</td>\n",
       "    </tr>\n",
       "  </tbody>\n",
       "</table>\n",
       "</div>"
      ],
      "text/plain": [
       "     Nombre  Edad  Sexo Provincia Clase\n",
       "0      Juan  30.0     H        Mu     A\n",
       "1    Lorena  40.0     M      None     B\n",
       "2  Mercedes  50.0  None        Ba     C\n",
       "3   Abigail   NaN     M        Cu     D\n",
       "4      Fran  20.0  None        Ja  None\n",
       "5   Rodrigo  15.0     H      None     A\n",
       "6   Lorenzo  17.0     H      None     A\n",
       "7     Maria  18.0  None        Va  None\n",
       "8     Lucia   NaN  None      None  None\n",
       "9     Julio   NaN  None        Ca     J"
      ]
     },
     "execution_count": 271,
     "metadata": {},
     "output_type": "execute_result"
    }
   ],
   "source": [
    "df_n.drop_duplicates() # con inplace = True elimino efectivamente"
   ]
  },
  {
   "cell_type": "code",
   "execution_count": 273,
   "id": "c1243feb",
   "metadata": {},
   "outputs": [],
   "source": [
    "#df.drop_duplicates(['DNI']) # borra los duplicados por determinada variable (por ejemplo un identificador unico como DNI)"
   ]
  },
  {
   "cell_type": "markdown",
   "id": "66a4e208",
   "metadata": {},
   "source": [
    "#### Datos Fuera de Rango (outliers) y Valores Anormales.\n",
    "\n",
    "Datos fuera de rango o atipicos son los que tienen un valor distinto a la moda ¿? y al rango normal presente en la variable. \n",
    "\n",
    "* Calculo de datos fuera de rango valido:\n",
    "\n",
    "    * out_low: abs(q1-1.5*RI) Lo que esta por debajo de este. \n",
    "    * out_hig: abs(q3+1.5*RI) Lo que esta por encima de este.\n",
    "    \n",
    "    RI rango intercuartilico (q3-q1)\n",
    "    \n",
    "    NOTA: En dispersiones muy altas se puede considear 2.5 o hasta 3 como coheficiente."
   ]
  },
  {
   "cell_type": "code",
   "execution_count": 274,
   "id": "1cdb4926",
   "metadata": {},
   "outputs": [
    {
     "data": {
      "text/html": [
       "<div>\n",
       "<style scoped>\n",
       "    .dataframe tbody tr th:only-of-type {\n",
       "        vertical-align: middle;\n",
       "    }\n",
       "\n",
       "    .dataframe tbody tr th {\n",
       "        vertical-align: top;\n",
       "    }\n",
       "\n",
       "    .dataframe thead th {\n",
       "        text-align: right;\n",
       "    }\n",
       "</style>\n",
       "<table border=\"1\" class=\"dataframe\">\n",
       "  <thead>\n",
       "    <tr style=\"text-align: right;\">\n",
       "      <th></th>\n",
       "      <th>survived</th>\n",
       "      <th>pclass</th>\n",
       "      <th>sex</th>\n",
       "      <th>age</th>\n",
       "      <th>sibsp</th>\n",
       "      <th>parch</th>\n",
       "      <th>fare</th>\n",
       "      <th>embarked</th>\n",
       "      <th>class</th>\n",
       "      <th>who</th>\n",
       "      <th>adult_male</th>\n",
       "      <th>deck</th>\n",
       "      <th>embark_town</th>\n",
       "      <th>alive</th>\n",
       "      <th>alone</th>\n",
       "    </tr>\n",
       "  </thead>\n",
       "  <tbody>\n",
       "    <tr>\n",
       "      <th>0</th>\n",
       "      <td>0</td>\n",
       "      <td>3</td>\n",
       "      <td>male</td>\n",
       "      <td>22.0</td>\n",
       "      <td>1</td>\n",
       "      <td>0</td>\n",
       "      <td>7.2500</td>\n",
       "      <td>S</td>\n",
       "      <td>Third</td>\n",
       "      <td>man</td>\n",
       "      <td>True</td>\n",
       "      <td>NaN</td>\n",
       "      <td>Southampton</td>\n",
       "      <td>no</td>\n",
       "      <td>False</td>\n",
       "    </tr>\n",
       "    <tr>\n",
       "      <th>1</th>\n",
       "      <td>1</td>\n",
       "      <td>1</td>\n",
       "      <td>female</td>\n",
       "      <td>38.0</td>\n",
       "      <td>1</td>\n",
       "      <td>0</td>\n",
       "      <td>71.2833</td>\n",
       "      <td>C</td>\n",
       "      <td>First</td>\n",
       "      <td>woman</td>\n",
       "      <td>False</td>\n",
       "      <td>C</td>\n",
       "      <td>Cherbourg</td>\n",
       "      <td>yes</td>\n",
       "      <td>False</td>\n",
       "    </tr>\n",
       "    <tr>\n",
       "      <th>2</th>\n",
       "      <td>1</td>\n",
       "      <td>3</td>\n",
       "      <td>female</td>\n",
       "      <td>26.0</td>\n",
       "      <td>0</td>\n",
       "      <td>0</td>\n",
       "      <td>7.9250</td>\n",
       "      <td>S</td>\n",
       "      <td>Third</td>\n",
       "      <td>woman</td>\n",
       "      <td>False</td>\n",
       "      <td>NaN</td>\n",
       "      <td>Southampton</td>\n",
       "      <td>yes</td>\n",
       "      <td>True</td>\n",
       "    </tr>\n",
       "    <tr>\n",
       "      <th>3</th>\n",
       "      <td>1</td>\n",
       "      <td>1</td>\n",
       "      <td>female</td>\n",
       "      <td>35.0</td>\n",
       "      <td>1</td>\n",
       "      <td>0</td>\n",
       "      <td>53.1000</td>\n",
       "      <td>S</td>\n",
       "      <td>First</td>\n",
       "      <td>woman</td>\n",
       "      <td>False</td>\n",
       "      <td>C</td>\n",
       "      <td>Southampton</td>\n",
       "      <td>yes</td>\n",
       "      <td>False</td>\n",
       "    </tr>\n",
       "    <tr>\n",
       "      <th>4</th>\n",
       "      <td>0</td>\n",
       "      <td>3</td>\n",
       "      <td>male</td>\n",
       "      <td>35.0</td>\n",
       "      <td>0</td>\n",
       "      <td>0</td>\n",
       "      <td>8.0500</td>\n",
       "      <td>S</td>\n",
       "      <td>Third</td>\n",
       "      <td>man</td>\n",
       "      <td>True</td>\n",
       "      <td>NaN</td>\n",
       "      <td>Southampton</td>\n",
       "      <td>no</td>\n",
       "      <td>True</td>\n",
       "    </tr>\n",
       "  </tbody>\n",
       "</table>\n",
       "</div>"
      ],
      "text/plain": [
       "   survived  pclass     sex   age  sibsp  parch     fare embarked  class  \\\n",
       "0         0       3    male  22.0      1      0   7.2500        S  Third   \n",
       "1         1       1  female  38.0      1      0  71.2833        C  First   \n",
       "2         1       3  female  26.0      0      0   7.9250        S  Third   \n",
       "3         1       1  female  35.0      1      0  53.1000        S  First   \n",
       "4         0       3    male  35.0      0      0   8.0500        S  Third   \n",
       "\n",
       "     who  adult_male deck  embark_town alive  alone  \n",
       "0    man        True  NaN  Southampton    no  False  \n",
       "1  woman       False    C    Cherbourg   yes  False  \n",
       "2  woman       False  NaN  Southampton   yes   True  \n",
       "3  woman       False    C  Southampton   yes  False  \n",
       "4    man        True  NaN  Southampton    no   True  "
      ]
     },
     "execution_count": 274,
     "metadata": {},
     "output_type": "execute_result"
    }
   ],
   "source": [
    "titanic.head()"
   ]
  },
  {
   "cell_type": "code",
   "execution_count": 275,
   "id": "661966bf",
   "metadata": {},
   "outputs": [
    {
     "data": {
      "text/html": [
       "<div>\n",
       "<style scoped>\n",
       "    .dataframe tbody tr th:only-of-type {\n",
       "        vertical-align: middle;\n",
       "    }\n",
       "\n",
       "    .dataframe tbody tr th {\n",
       "        vertical-align: top;\n",
       "    }\n",
       "\n",
       "    .dataframe thead th {\n",
       "        text-align: right;\n",
       "    }\n",
       "</style>\n",
       "<table border=\"1\" class=\"dataframe\">\n",
       "  <thead>\n",
       "    <tr style=\"text-align: right;\">\n",
       "      <th></th>\n",
       "      <th>survived</th>\n",
       "      <th>pclass</th>\n",
       "      <th>age</th>\n",
       "      <th>sibsp</th>\n",
       "      <th>parch</th>\n",
       "      <th>fare</th>\n",
       "    </tr>\n",
       "  </thead>\n",
       "  <tbody>\n",
       "    <tr>\n",
       "      <th>count</th>\n",
       "      <td>891.000000</td>\n",
       "      <td>891.000000</td>\n",
       "      <td>714.000000</td>\n",
       "      <td>891.000000</td>\n",
       "      <td>891.000000</td>\n",
       "      <td>891.000000</td>\n",
       "    </tr>\n",
       "    <tr>\n",
       "      <th>mean</th>\n",
       "      <td>0.383838</td>\n",
       "      <td>2.308642</td>\n",
       "      <td>29.699118</td>\n",
       "      <td>0.523008</td>\n",
       "      <td>0.381594</td>\n",
       "      <td>32.204208</td>\n",
       "    </tr>\n",
       "    <tr>\n",
       "      <th>std</th>\n",
       "      <td>0.486592</td>\n",
       "      <td>0.836071</td>\n",
       "      <td>14.526497</td>\n",
       "      <td>1.102743</td>\n",
       "      <td>0.806057</td>\n",
       "      <td>49.693429</td>\n",
       "    </tr>\n",
       "    <tr>\n",
       "      <th>min</th>\n",
       "      <td>0.000000</td>\n",
       "      <td>1.000000</td>\n",
       "      <td>0.420000</td>\n",
       "      <td>0.000000</td>\n",
       "      <td>0.000000</td>\n",
       "      <td>0.000000</td>\n",
       "    </tr>\n",
       "    <tr>\n",
       "      <th>25%</th>\n",
       "      <td>0.000000</td>\n",
       "      <td>2.000000</td>\n",
       "      <td>20.125000</td>\n",
       "      <td>0.000000</td>\n",
       "      <td>0.000000</td>\n",
       "      <td>7.910400</td>\n",
       "    </tr>\n",
       "    <tr>\n",
       "      <th>50%</th>\n",
       "      <td>0.000000</td>\n",
       "      <td>3.000000</td>\n",
       "      <td>28.000000</td>\n",
       "      <td>0.000000</td>\n",
       "      <td>0.000000</td>\n",
       "      <td>14.454200</td>\n",
       "    </tr>\n",
       "    <tr>\n",
       "      <th>75%</th>\n",
       "      <td>1.000000</td>\n",
       "      <td>3.000000</td>\n",
       "      <td>38.000000</td>\n",
       "      <td>1.000000</td>\n",
       "      <td>0.000000</td>\n",
       "      <td>31.000000</td>\n",
       "    </tr>\n",
       "    <tr>\n",
       "      <th>max</th>\n",
       "      <td>1.000000</td>\n",
       "      <td>3.000000</td>\n",
       "      <td>80.000000</td>\n",
       "      <td>8.000000</td>\n",
       "      <td>6.000000</td>\n",
       "      <td>512.329200</td>\n",
       "    </tr>\n",
       "  </tbody>\n",
       "</table>\n",
       "</div>"
      ],
      "text/plain": [
       "         survived      pclass         age       sibsp       parch        fare\n",
       "count  891.000000  891.000000  714.000000  891.000000  891.000000  891.000000\n",
       "mean     0.383838    2.308642   29.699118    0.523008    0.381594   32.204208\n",
       "std      0.486592    0.836071   14.526497    1.102743    0.806057   49.693429\n",
       "min      0.000000    1.000000    0.420000    0.000000    0.000000    0.000000\n",
       "25%      0.000000    2.000000   20.125000    0.000000    0.000000    7.910400\n",
       "50%      0.000000    3.000000   28.000000    0.000000    0.000000   14.454200\n",
       "75%      1.000000    3.000000   38.000000    1.000000    0.000000   31.000000\n",
       "max      1.000000    3.000000   80.000000    8.000000    6.000000  512.329200"
      ]
     },
     "execution_count": 275,
     "metadata": {},
     "output_type": "execute_result"
    }
   ],
   "source": [
    "titanic.describe()  # La mediana es la del percentil 50%"
   ]
  },
  {
   "cell_type": "code",
   "execution_count": 276,
   "id": "ca083461",
   "metadata": {},
   "outputs": [
    {
     "data": {
      "text/plain": [
       "(891, 15)"
      ]
     },
     "execution_count": 276,
     "metadata": {},
     "output_type": "execute_result"
    }
   ],
   "source": [
    "titanic.shape"
   ]
  },
  {
   "cell_type": "code",
   "execution_count": null,
   "id": "cfefb614",
   "metadata": {},
   "outputs": [],
   "source": []
  },
  {
   "cell_type": "code",
   "execution_count": 277,
   "id": "f34f6844",
   "metadata": {},
   "outputs": [
    {
     "data": {
      "text/plain": [
       "13365"
      ]
     },
     "execution_count": 277,
     "metadata": {},
     "output_type": "execute_result"
    }
   ],
   "source": [
    "titanic.size"
   ]
  },
  {
   "cell_type": "code",
   "execution_count": 278,
   "id": "8bc8e257",
   "metadata": {},
   "outputs": [
    {
     "data": {
      "text/plain": [
       "(6.6875, 64.8125)"
      ]
     },
     "execution_count": 278,
     "metadata": {},
     "output_type": "execute_result"
    }
   ],
   "source": [
    "# Los datos a eliminar del df titanic por edad fuera de rango.\n",
    "\n",
    "out_low=abs(20.125-(1.5*(38-20.125)))\n",
    "out_hig=abs(38+(1.5*(38-20.125)))\n",
    "out_low,out_hig"
   ]
  },
  {
   "cell_type": "markdown",
   "id": "eaa26c69",
   "metadata": {},
   "source": [
    "* Obtener el IRQ (RIC rango intercuartilico)"
   ]
  },
  {
   "cell_type": "code",
   "execution_count": 279,
   "id": "f7c94136",
   "metadata": {},
   "outputs": [
    {
     "data": {
      "text/plain": [
       "17.875"
      ]
     },
     "execution_count": 279,
     "metadata": {},
     "output_type": "execute_result"
    }
   ],
   "source": [
    "RI_titanic=titanic.age.quantile([.75])[0.75]-titanic.age.quantile([.25])[0.25]\n",
    "RI_titanic"
   ]
  },
  {
   "cell_type": "code",
   "execution_count": 280,
   "id": "cd1e1ebb",
   "metadata": {},
   "outputs": [
    {
     "data": {
      "text/plain": [
       "17.875"
      ]
     },
     "execution_count": 280,
     "metadata": {},
     "output_type": "execute_result"
    }
   ],
   "source": [
    "RI_titanic=titanic['age'].quantile([.75])[0.75]-titanic['age'].quantile([.25])[0.25]\n",
    "RI_titanic"
   ]
  },
  {
   "cell_type": "markdown",
   "id": "4baa8504",
   "metadata": {},
   "source": [
    "* Obterner los umbrales inferior y superior"
   ]
  },
  {
   "cell_type": "code",
   "execution_count": 82,
   "id": "b96f64b5",
   "metadata": {},
   "outputs": [
    {
     "data": {
      "text/plain": [
       "(20.125, 38.0, 17.875, 6.6875, 64.8125)"
      ]
     },
     "execution_count": 82,
     "metadata": {},
     "output_type": "execute_result"
    }
   ],
   "source": [
    "q1=titanic['age'].quantile([.25])[0.25]\n",
    "q2=titanic['age'].quantile([.5])[0.5] # la media y la mediana son iguales si la distribucion es normal\n",
    "q3=titanic['age'].quantile([.75])[0.75]\n",
    "irq=q3-q1\n",
    "\n",
    "\n",
    "out_low=abs(q1-1.5*irq)\n",
    "out_hig=abs(q3+1.5*irq)\n",
    "\n",
    "q1,q3,irq,out_low,out_hig"
   ]
  },
  {
   "cell_type": "markdown",
   "id": "fbfc3a41",
   "metadata": {},
   "source": [
    "NOTA: Si la distribucion es normal, la media y la mediana son iguales.\n",
    "    Que la media y la mediana sean iguales no quiere decir que la distribucion sea normal. No se puede asumir."
   ]
  },
  {
   "cell_type": "code",
   "execution_count": 282,
   "id": "512a29a5",
   "metadata": {},
   "outputs": [
    {
     "data": {
      "text/plain": [
       "20.125"
      ]
     },
     "execution_count": 282,
     "metadata": {},
     "output_type": "execute_result"
    }
   ],
   "source": [
    "titanic.age.quantile([.25])[0.25]"
   ]
  },
  {
   "cell_type": "code",
   "execution_count": 283,
   "id": "60f58647",
   "metadata": {},
   "outputs": [
    {
     "data": {
      "text/html": [
       "<div>\n",
       "<style scoped>\n",
       "    .dataframe tbody tr th:only-of-type {\n",
       "        vertical-align: middle;\n",
       "    }\n",
       "\n",
       "    .dataframe tbody tr th {\n",
       "        vertical-align: top;\n",
       "    }\n",
       "\n",
       "    .dataframe thead th {\n",
       "        text-align: right;\n",
       "    }\n",
       "</style>\n",
       "<table border=\"1\" class=\"dataframe\">\n",
       "  <thead>\n",
       "    <tr style=\"text-align: right;\">\n",
       "      <th></th>\n",
       "      <th>survived</th>\n",
       "      <th>pclass</th>\n",
       "      <th>sex</th>\n",
       "      <th>age</th>\n",
       "      <th>sibsp</th>\n",
       "      <th>parch</th>\n",
       "      <th>fare</th>\n",
       "      <th>embarked</th>\n",
       "      <th>who</th>\n",
       "      <th>adult_male</th>\n",
       "      <th>deck</th>\n",
       "      <th>embark_town</th>\n",
       "      <th>alive</th>\n",
       "      <th>alone</th>\n",
       "    </tr>\n",
       "    <tr>\n",
       "      <th>class</th>\n",
       "      <th></th>\n",
       "      <th></th>\n",
       "      <th></th>\n",
       "      <th></th>\n",
       "      <th></th>\n",
       "      <th></th>\n",
       "      <th></th>\n",
       "      <th></th>\n",
       "      <th></th>\n",
       "      <th></th>\n",
       "      <th></th>\n",
       "      <th></th>\n",
       "      <th></th>\n",
       "      <th></th>\n",
       "    </tr>\n",
       "  </thead>\n",
       "  <tbody>\n",
       "    <tr>\n",
       "      <th>First</th>\n",
       "      <td>216</td>\n",
       "      <td>216</td>\n",
       "      <td>216</td>\n",
       "      <td>186</td>\n",
       "      <td>216</td>\n",
       "      <td>216</td>\n",
       "      <td>216</td>\n",
       "      <td>214</td>\n",
       "      <td>216</td>\n",
       "      <td>216</td>\n",
       "      <td>175</td>\n",
       "      <td>214</td>\n",
       "      <td>216</td>\n",
       "      <td>216</td>\n",
       "    </tr>\n",
       "    <tr>\n",
       "      <th>Second</th>\n",
       "      <td>184</td>\n",
       "      <td>184</td>\n",
       "      <td>184</td>\n",
       "      <td>173</td>\n",
       "      <td>184</td>\n",
       "      <td>184</td>\n",
       "      <td>184</td>\n",
       "      <td>184</td>\n",
       "      <td>184</td>\n",
       "      <td>184</td>\n",
       "      <td>16</td>\n",
       "      <td>184</td>\n",
       "      <td>184</td>\n",
       "      <td>184</td>\n",
       "    </tr>\n",
       "    <tr>\n",
       "      <th>Third</th>\n",
       "      <td>491</td>\n",
       "      <td>491</td>\n",
       "      <td>491</td>\n",
       "      <td>355</td>\n",
       "      <td>491</td>\n",
       "      <td>491</td>\n",
       "      <td>491</td>\n",
       "      <td>491</td>\n",
       "      <td>491</td>\n",
       "      <td>491</td>\n",
       "      <td>12</td>\n",
       "      <td>491</td>\n",
       "      <td>491</td>\n",
       "      <td>491</td>\n",
       "    </tr>\n",
       "  </tbody>\n",
       "</table>\n",
       "</div>"
      ],
      "text/plain": [
       "        survived  pclass  sex  age  sibsp  parch  fare  embarked  who  \\\n",
       "class                                                                   \n",
       "First        216     216  216  186    216    216   216       214  216   \n",
       "Second       184     184  184  173    184    184   184       184  184   \n",
       "Third        491     491  491  355    491    491   491       491  491   \n",
       "\n",
       "        adult_male  deck  embark_town  alive  alone  \n",
       "class                                                \n",
       "First          216   175          214    216    216  \n",
       "Second         184    16          184    184    184  \n",
       "Third          491    12          491    491    491  "
      ]
     },
     "execution_count": 283,
     "metadata": {},
     "output_type": "execute_result"
    }
   ],
   "source": [
    "\n",
    "titanic.groupby(by='class').count()"
   ]
  },
  {
   "cell_type": "code",
   "execution_count": 70,
   "id": "b9c96def",
   "metadata": {},
   "outputs": [
    {
     "data": {
      "text/plain": [
       "47"
      ]
     },
     "execution_count": 70,
     "metadata": {},
     "output_type": "execute_result"
    }
   ],
   "source": [
    "titanic[titanic['age']<6.7].count()['survived'] # 47"
   ]
  },
  {
   "cell_type": "code",
   "execution_count": 71,
   "id": "8238e999",
   "metadata": {},
   "outputs": [
    {
     "data": {
      "text/plain": [
       "11"
      ]
     },
     "execution_count": 71,
     "metadata": {},
     "output_type": "execute_result"
    }
   ],
   "source": [
    "titanic[titanic['age']>64.8].count()['survived'] # 11"
   ]
  },
  {
   "cell_type": "code",
   "execution_count": 286,
   "id": "0eff2740",
   "metadata": {},
   "outputs": [],
   "source": [
    "titanic_atipicos=pd.concat([titanic[titanic['age']<6.69],titanic[titanic['age']>64.8]], axis=0)\n"
   ]
  },
  {
   "cell_type": "code",
   "execution_count": 85,
   "id": "951798a7",
   "metadata": {},
   "outputs": [
    {
     "data": {
      "text/plain": [
       "(656, 15)"
      ]
     },
     "execution_count": 85,
     "metadata": {},
     "output_type": "execute_result"
    }
   ],
   "source": [
    " titanic[(titanic['age']>=6.69) & (titanic['age']<=64.8)].shape # da ambiguo ## Creo que no es correcto "
   ]
  },
  {
   "cell_type": "code",
   "execution_count": 80,
   "id": "258be07f",
   "metadata": {},
   "outputs": [
    {
     "data": {
      "text/plain": [
       "(891, 15)"
      ]
     },
     "execution_count": 80,
     "metadata": {},
     "output_type": "execute_result"
    }
   ],
   "source": [
    "titanic.shape"
   ]
  },
  {
   "cell_type": "code",
   "execution_count": 288,
   "id": "a54d1532",
   "metadata": {},
   "outputs": [
    {
     "data": {
      "text/plain": [
       "(58, 15)"
      ]
     },
     "execution_count": 288,
     "metadata": {},
     "output_type": "execute_result"
    }
   ],
   "source": [
    "titanic_atipicos.shape # 47+11 ok "
   ]
  },
  {
   "cell_type": "code",
   "execution_count": 289,
   "id": "27cb4d1a",
   "metadata": {},
   "outputs": [
    {
     "data": {
      "text/plain": [
       "(58, 58)"
      ]
     },
     "execution_count": 289,
     "metadata": {},
     "output_type": "execute_result"
    }
   ],
   "source": [
    "len(titanic_atipicos), titanic_atipicos['age'].count()"
   ]
  },
  {
   "cell_type": "markdown",
   "id": "1098a45b",
   "metadata": {},
   "source": [
    "OUTLIERS si superan el 5% como en este caso se puede:\n",
    "\n",
    "* imputar a missing\n",
    "* los quitamos y volvemos a calcular\n",
    "* subimos el coeficiente a algo mayor a 1.5"
   ]
  },
  {
   "cell_type": "code",
   "execution_count": 290,
   "id": "ed81f9a9",
   "metadata": {},
   "outputs": [
    {
     "name": "stdout",
     "output_type": "stream",
     "text": [
      "El porcentaje de filas a descartar es 6.51\n"
     ]
    }
   ],
   "source": [
    "def porcentaje_outliers(df: pd.DataFrame, out_l: float, out_h: float, x: str) -> float:\n",
    "    \"\"\"\n",
    "    Uso: calcula el porcentaje de outliers sobre la variable x, considerando las cotas minima(out_l) y maxima(out_h), en el total del DF.\n",
    "\n",
    "    Args:\n",
    "        df[dataframe]: DataFrame a analizar.\n",
    "        out_l[int]: cota inferior outliers (Q1-1.5*RI)\n",
    "        out_h[int]: cot superior outliers (Q3+1.5*RI).\n",
    "        x[str]:variable objetivo a la cual se le analizan sus datos atipicos.\n",
    "    \n",
    "\n",
    "    Returns:\n",
    "        porcentaje[]:porcentaje de outliers sobre el total.\n",
    "    \"\"\"\n",
    "    return 100*(pd.concat([df[df[str(x)]<abs(out_l)],df[df[str(x)]>abs(out_h)]],axis=0)).shape[0]/df[str(x)].shape[0]\n",
    "\n",
    "df=sns.load_dataset('titanic')\n",
    "print('El porcentaje de filas a descartar es', round(porcentaje_outliers(df,6.6875,64.8,'age'),2))"
   ]
  },
  {
   "cell_type": "code",
   "execution_count": 291,
   "id": "56d1299b",
   "metadata": {},
   "outputs": [
    {
     "name": "stdout",
     "output_type": "stream",
     "text": [
      "{'df': <class 'pandas.core.frame.DataFrame'>, 'out_l': <class 'float'>, 'out_h': <class 'float'>, 'x': <class 'str'>, 'return': <class 'float'>}\n"
     ]
    }
   ],
   "source": [
    "print(porcentaje_outliers.__annotations__)"
   ]
  },
  {
   "cell_type": "code",
   "execution_count": 292,
   "id": "d6cb29d2",
   "metadata": {},
   "outputs": [
    {
     "name": "stdout",
     "output_type": "stream",
     "text": [
      "Help on function porcentaje_outliers in module __main__:\n",
      "\n",
      "porcentaje_outliers(df: pandas.core.frame.DataFrame, out_l: float, out_h: float, x: str) -> float\n",
      "    Uso: calcula el porcentaje de outliers sobre la variable x, considerando las cotas minima(out_l) y maxima(out_h), en el total del DF.\n",
      "    \n",
      "    Args:\n",
      "        df[dataframe]: DataFrame a analizar.\n",
      "        out_l[int]: cota inferior outliers (Q1-1.5*RI)\n",
      "        out_h[int]: cot superior outliers (Q3+1.5*RI).\n",
      "        x[str]:variable objetivo a la cual se le analizan sus datos atipicos.\n",
      "    \n",
      "    \n",
      "    Returns:\n",
      "        porcentaje[]:porcentaje de outliers sobre el total.\n",
      "\n",
      "None\n"
     ]
    }
   ],
   "source": [
    "print(help(porcentaje_outliers))"
   ]
  },
  {
   "cell_type": "code",
   "execution_count": 83,
   "id": "4de2ce51",
   "metadata": {},
   "outputs": [
    {
     "data": {
      "text/plain": [
       "58"
      ]
     },
     "execution_count": 83,
     "metadata": {},
     "output_type": "execute_result"
    }
   ],
   "source": [
    "titanic_atipicos=pd.concat([titanic[titanic['age']<out_low],titanic[titanic['age']>out_hig]], axis=0)\n",
    "titanic_atipicos.shape[0]"
   ]
  },
  {
   "cell_type": "code",
   "execution_count": 294,
   "id": "7abf5cb0",
   "metadata": {},
   "outputs": [
    {
     "data": {
      "text/plain": [
       "(58, 15)"
      ]
     },
     "execution_count": 294,
     "metadata": {},
     "output_type": "execute_result"
    }
   ],
   "source": [
    "titanic[(titanic['age']<out_low) | (titanic['age']>out_hig)].shape"
   ]
  },
  {
   "cell_type": "code",
   "execution_count": 295,
   "id": "cc1b5058",
   "metadata": {},
   "outputs": [
    {
     "data": {
      "text/plain": [
       "(656, 15)"
      ]
     },
     "execution_count": 295,
     "metadata": {},
     "output_type": "execute_result"
    }
   ],
   "source": [
    "titanic[(titanic[\"age\"]>out_low) & (titanic[\"age\"]<out_hig)].shape"
   ]
  },
  {
   "cell_type": "code",
   "execution_count": 296,
   "id": "60af588d",
   "metadata": {},
   "outputs": [
    {
     "data": {
      "text/plain": [
       "656"
      ]
     },
     "execution_count": 296,
     "metadata": {},
     "output_type": "execute_result"
    }
   ],
   "source": [
    "titanic.where((titanic['age']>out_low) & (titanic['age']<out_hig)).count()['survived']"
   ]
  },
  {
   "cell_type": "code",
   "execution_count": 297,
   "id": "3ccc34bb",
   "metadata": {},
   "outputs": [
    {
     "data": {
      "text/plain": [
       "(891, 15)"
      ]
     },
     "execution_count": 297,
     "metadata": {},
     "output_type": "execute_result"
    }
   ],
   "source": [
    "titanic.shape"
   ]
  },
  {
   "cell_type": "code",
   "execution_count": 298,
   "id": "ffea7f67",
   "metadata": {},
   "outputs": [
    {
     "data": {
      "text/plain": [
       "(833, 15)"
      ]
     },
     "execution_count": 298,
     "metadata": {},
     "output_type": "execute_result"
    }
   ],
   "source": [
    "titanic.drop(titanic[(titanic['age']<out_low) | (titanic['age']>out_hig)].index).shape # 891-58=833 ok"
   ]
  },
  {
   "cell_type": "markdown",
   "id": "800f9cf5",
   "metadata": {},
   "source": [
    "#### Tablas de contingencia o tablas de cruce o tablas cruzadas (pivot table)\n",
    "\n",
    "* funcion: pd.crosstab()\n",
    "\n",
    "Parametros:\n",
    "\n",
    "    * variable1\n",
    "    * variable2\n",
    "    * margins=True (si queremos los subtotales y total general)\n",
    "\n",
    "Es una pivot table con los subtotales y total general de una variable numerica.\n",
    "\n",
    "Es util para analizar variables categoricas para evaluar una variable cuantitativa."
   ]
  },
  {
   "cell_type": "markdown",
   "id": "c526946c",
   "metadata": {},
   "source": [
    "Ejercicio:\n",
    "\n",
    "* ¿ Donde hay mas veteranos en la marina o en infanteria? Hay los mismos en c/u.\n",
    "* ¿ De donde proceden matoritariamente los junior en el ejercito? Estan repartidos tanto en compania como en regimientos."
   ]
  },
  {
   "cell_type": "code",
   "execution_count": 299,
   "id": "70c21c9b",
   "metadata": {},
   "outputs": [
    {
     "data": {
      "text/html": [
       "<div>\n",
       "<style scoped>\n",
       "    .dataframe tbody tr th:only-of-type {\n",
       "        vertical-align: middle;\n",
       "    }\n",
       "\n",
       "    .dataframe tbody tr th {\n",
       "        vertical-align: top;\n",
       "    }\n",
       "\n",
       "    .dataframe thead th {\n",
       "        text-align: right;\n",
       "    }\n",
       "</style>\n",
       "<table border=\"1\" class=\"dataframe\">\n",
       "  <thead>\n",
       "    <tr style=\"text-align: right;\">\n",
       "      <th></th>\n",
       "      <th>regimiento</th>\n",
       "      <th>compania</th>\n",
       "      <th>experiencia</th>\n",
       "      <th>nombre</th>\n",
       "      <th>puntuacionPistola</th>\n",
       "      <th>puntuacionFusil</th>\n",
       "    </tr>\n",
       "  </thead>\n",
       "  <tbody>\n",
       "    <tr>\n",
       "      <th>0</th>\n",
       "      <td>El Freno</td>\n",
       "      <td>infanteria</td>\n",
       "      <td>veterano</td>\n",
       "      <td>Jose</td>\n",
       "      <td>4</td>\n",
       "      <td>25</td>\n",
       "    </tr>\n",
       "    <tr>\n",
       "      <th>1</th>\n",
       "      <td>El Freno</td>\n",
       "      <td>infanteria</td>\n",
       "      <td>junior</td>\n",
       "      <td>Jorge</td>\n",
       "      <td>24</td>\n",
       "      <td>94</td>\n",
       "    </tr>\n",
       "    <tr>\n",
       "      <th>2</th>\n",
       "      <td>El Freno</td>\n",
       "      <td>marina</td>\n",
       "      <td>veterano</td>\n",
       "      <td>Mercedes</td>\n",
       "      <td>31</td>\n",
       "      <td>57</td>\n",
       "    </tr>\n",
       "    <tr>\n",
       "      <th>3</th>\n",
       "      <td>El Freno</td>\n",
       "      <td>marina</td>\n",
       "      <td>junior</td>\n",
       "      <td>Jose</td>\n",
       "      <td>2</td>\n",
       "      <td>62</td>\n",
       "    </tr>\n",
       "    <tr>\n",
       "      <th>4</th>\n",
       "      <td>El Osado</td>\n",
       "      <td>infanteria</td>\n",
       "      <td>veterano</td>\n",
       "      <td>Carolina</td>\n",
       "      <td>3</td>\n",
       "      <td>70</td>\n",
       "    </tr>\n",
       "    <tr>\n",
       "      <th>5</th>\n",
       "      <td>El Osado</td>\n",
       "      <td>infanteria</td>\n",
       "      <td>junior</td>\n",
       "      <td>Julio</td>\n",
       "      <td>4</td>\n",
       "      <td>25</td>\n",
       "    </tr>\n",
       "    <tr>\n",
       "      <th>6</th>\n",
       "      <td>El Osado</td>\n",
       "      <td>marina</td>\n",
       "      <td>veterano</td>\n",
       "      <td>Ruben</td>\n",
       "      <td>24</td>\n",
       "      <td>94</td>\n",
       "    </tr>\n",
       "    <tr>\n",
       "      <th>7</th>\n",
       "      <td>El Osado</td>\n",
       "      <td>marina</td>\n",
       "      <td>junior</td>\n",
       "      <td>Sara</td>\n",
       "      <td>31</td>\n",
       "      <td>57</td>\n",
       "    </tr>\n",
       "    <tr>\n",
       "      <th>8</th>\n",
       "      <td>El Distinguido</td>\n",
       "      <td>infanteria</td>\n",
       "      <td>veterano</td>\n",
       "      <td>Sergio</td>\n",
       "      <td>2</td>\n",
       "      <td>62</td>\n",
       "    </tr>\n",
       "    <tr>\n",
       "      <th>9</th>\n",
       "      <td>El Distinguido</td>\n",
       "      <td>infanteria</td>\n",
       "      <td>junior</td>\n",
       "      <td>Pablo</td>\n",
       "      <td>3</td>\n",
       "      <td>70</td>\n",
       "    </tr>\n",
       "    <tr>\n",
       "      <th>10</th>\n",
       "      <td>El Distinguido</td>\n",
       "      <td>marina</td>\n",
       "      <td>veterano</td>\n",
       "      <td>Rodrigo</td>\n",
       "      <td>2</td>\n",
       "      <td>62</td>\n",
       "    </tr>\n",
       "    <tr>\n",
       "      <th>11</th>\n",
       "      <td>El Distinguido</td>\n",
       "      <td>marina</td>\n",
       "      <td>junior</td>\n",
       "      <td>Mercedes</td>\n",
       "      <td>3</td>\n",
       "      <td>70</td>\n",
       "    </tr>\n",
       "  </tbody>\n",
       "</table>\n",
       "</div>"
      ],
      "text/plain": [
       "        regimiento    compania experiencia    nombre  puntuacionPistola  \\\n",
       "0         El Freno  infanteria    veterano      Jose                  4   \n",
       "1         El Freno  infanteria      junior     Jorge                 24   \n",
       "2         El Freno      marina    veterano  Mercedes                 31   \n",
       "3         El Freno      marina      junior      Jose                  2   \n",
       "4         El Osado  infanteria    veterano  Carolina                  3   \n",
       "5         El Osado  infanteria      junior     Julio                  4   \n",
       "6         El Osado      marina    veterano     Ruben                 24   \n",
       "7         El Osado      marina      junior      Sara                 31   \n",
       "8   El Distinguido  infanteria    veterano    Sergio                  2   \n",
       "9   El Distinguido  infanteria      junior     Pablo                  3   \n",
       "10  El Distinguido      marina    veterano   Rodrigo                  2   \n",
       "11  El Distinguido      marina      junior  Mercedes                  3   \n",
       "\n",
       "    puntuacionFusil  \n",
       "0                25  \n",
       "1                94  \n",
       "2                57  \n",
       "3                62  \n",
       "4                70  \n",
       "5                25  \n",
       "6                94  \n",
       "7                57  \n",
       "8                62  \n",
       "9                70  \n",
       "10               62  \n",
       "11               70  "
      ]
     },
     "execution_count": 299,
     "metadata": {},
     "output_type": "execute_result"
    }
   ],
   "source": [
    "df=pd.DataFrame({'regimiento': ['El Freno', 'El Freno', 'El Freno', 'El Freno', 'El Osado', 'El Osado', 'El Osado', 'El Osado', 'El Distinguido', 'El Distinguido', 'El Distinguido', 'El Distinguido'], \n",
    "                 'compania': ['infanteria', 'infanteria', 'marina', 'marina', 'infanteria', 'infanteria', 'marina', 'marina','infanteria', 'infanteria', 'marina', 'marina'], \n",
    "                 'experiencia': ['veterano', 'junior', 'veterano', 'junior', 'veterano', 'junior', 'veterano', 'junior','veterano', 'junior', 'veterano', 'junior'],\n",
    "                 'nombre': ['Jose', 'Jorge', 'Mercedes', 'Jose', 'Carolina', 'Julio', 'Ruben', 'Sara', 'Sergio', 'Pablo', 'Rodrigo', 'Mercedes'], \n",
    "                 'puntuacionPistola': [4, 24, 31, 2, 3, 4, 24, 31, 2, 3, 2, 3],\n",
    "                 'puntuacionFusil': [25, 94, 57, 62, 70, 25, 94, 57, 62, 70, 62, 70]})\n",
    "df"
   ]
  },
  {
   "cell_type": "code",
   "execution_count": 300,
   "id": "d47cfb4a",
   "metadata": {},
   "outputs": [
    {
     "data": {
      "text/html": [
       "<div>\n",
       "<style scoped>\n",
       "    .dataframe tbody tr th:only-of-type {\n",
       "        vertical-align: middle;\n",
       "    }\n",
       "\n",
       "    .dataframe tbody tr th {\n",
       "        vertical-align: top;\n",
       "    }\n",
       "\n",
       "    .dataframe thead th {\n",
       "        text-align: right;\n",
       "    }\n",
       "</style>\n",
       "<table border=\"1\" class=\"dataframe\">\n",
       "  <thead>\n",
       "    <tr style=\"text-align: right;\">\n",
       "      <th>compania</th>\n",
       "      <th>infanteria</th>\n",
       "      <th>marina</th>\n",
       "      <th>All</th>\n",
       "    </tr>\n",
       "    <tr>\n",
       "      <th>experiencia</th>\n",
       "      <th></th>\n",
       "      <th></th>\n",
       "      <th></th>\n",
       "    </tr>\n",
       "  </thead>\n",
       "  <tbody>\n",
       "    <tr>\n",
       "      <th>junior</th>\n",
       "      <td>3</td>\n",
       "      <td>3</td>\n",
       "      <td>6</td>\n",
       "    </tr>\n",
       "    <tr>\n",
       "      <th>veterano</th>\n",
       "      <td>3</td>\n",
       "      <td>3</td>\n",
       "      <td>6</td>\n",
       "    </tr>\n",
       "    <tr>\n",
       "      <th>All</th>\n",
       "      <td>6</td>\n",
       "      <td>6</td>\n",
       "      <td>12</td>\n",
       "    </tr>\n",
       "  </tbody>\n",
       "</table>\n",
       "</div>"
      ],
      "text/plain": [
       "compania     infanteria  marina  All\n",
       "experiencia                         \n",
       "junior                3       3    6\n",
       "veterano              3       3    6\n",
       "All                   6       6   12"
      ]
     },
     "execution_count": 300,
     "metadata": {},
     "output_type": "execute_result"
    }
   ],
   "source": [
    "pd.crosstab(df['experiencia'], df['compania'], margins=True) # experiencia en vertical y copañia horizontal \n",
    "                                            "
   ]
  },
  {
   "cell_type": "code",
   "execution_count": 301,
   "id": "36c0308c",
   "metadata": {},
   "outputs": [
    {
     "data": {
      "text/html": [
       "<div>\n",
       "<style scoped>\n",
       "    .dataframe tbody tr th:only-of-type {\n",
       "        vertical-align: middle;\n",
       "    }\n",
       "\n",
       "    .dataframe tbody tr th {\n",
       "        vertical-align: top;\n",
       "    }\n",
       "\n",
       "    .dataframe thead th {\n",
       "        text-align: right;\n",
       "    }\n",
       "</style>\n",
       "<table border=\"1\" class=\"dataframe\">\n",
       "  <thead>\n",
       "    <tr style=\"text-align: right;\">\n",
       "      <th></th>\n",
       "      <th>regimiento</th>\n",
       "      <th>El Distinguido</th>\n",
       "      <th>El Freno</th>\n",
       "      <th>El Osado</th>\n",
       "    </tr>\n",
       "    <tr>\n",
       "      <th>compania</th>\n",
       "      <th>experiencia</th>\n",
       "      <th></th>\n",
       "      <th></th>\n",
       "      <th></th>\n",
       "    </tr>\n",
       "  </thead>\n",
       "  <tbody>\n",
       "    <tr>\n",
       "      <th rowspan=\"2\" valign=\"top\">infanteria</th>\n",
       "      <th>junior</th>\n",
       "      <td>1</td>\n",
       "      <td>1</td>\n",
       "      <td>1</td>\n",
       "    </tr>\n",
       "    <tr>\n",
       "      <th>veterano</th>\n",
       "      <td>1</td>\n",
       "      <td>1</td>\n",
       "      <td>1</td>\n",
       "    </tr>\n",
       "    <tr>\n",
       "      <th rowspan=\"2\" valign=\"top\">marina</th>\n",
       "      <th>junior</th>\n",
       "      <td>1</td>\n",
       "      <td>1</td>\n",
       "      <td>1</td>\n",
       "    </tr>\n",
       "    <tr>\n",
       "      <th>veterano</th>\n",
       "      <td>1</td>\n",
       "      <td>1</td>\n",
       "      <td>1</td>\n",
       "    </tr>\n",
       "  </tbody>\n",
       "</table>\n",
       "</div>"
      ],
      "text/plain": [
       "regimiento              El Distinguido  El Freno  El Osado\n",
       "compania   experiencia                                    \n",
       "infanteria junior                    1         1         1\n",
       "           veterano                  1         1         1\n",
       "marina     junior                    1         1         1\n",
       "           veterano                  1         1         1"
      ]
     },
     "execution_count": 301,
     "metadata": {},
     "output_type": "execute_result"
    }
   ],
   "source": [
    "pd.crosstab([df['compania'], df['experiencia']], df['regimiento'] , margins=False) "
   ]
  },
  {
   "cell_type": "markdown",
   "id": "869a869a",
   "metadata": {},
   "source": [
    "Ejercicio FFAA: Dado el siguiente DF "
   ]
  },
  {
   "cell_type": "code",
   "execution_count": 302,
   "id": "49bf1ff3",
   "metadata": {},
   "outputs": [],
   "source": [
    "import pandas as pd"
   ]
  },
  {
   "cell_type": "code",
   "execution_count": 303,
   "id": "ac6fd59b",
   "metadata": {},
   "outputs": [],
   "source": [
    "df=pd.DataFrame({'regimiento': ['El Freno', 'El Freno', 'El Freno', 'El Freno', 'El Osado', 'El Osado', 'El Osado', 'El Osado', 'El Distinguido', 'El Distinguido', 'El Distinguido', 'El Distinguido'],\n",
    "                 'compania': ['infanteria', 'infanteria', 'marina', 'marina', 'infanteria', 'infanteria', 'marina', 'marina','infanteria', 'infanteria', 'marina', 'marina'],\n",
    "                 'experiencia': ['veterano', 'junior', 'veterano', 'junior', 'veterano', 'junior', 'veterano', 'junior','veterano', 'junior', 'veterano', 'junior'],\n",
    "                 'nombre': ['Jose', 'Jorge', 'Mercedes', 'Jose', 'Carolina', 'Julio', 'Ruben', 'Sara', 'Sergio', 'Pablo', 'Rodrigo', 'Mercedes'],\n",
    "                 'puntuacionPistola': [4, 24, 31, 2, 3, 4, 24, 31, 2, 3, 2, 3],\n",
    "                 'puntuacionFusil': [25, 94, 57, 62, 70, 25, 94, 57, 62, 70, 62, 70]})"
   ]
  },
  {
   "cell_type": "code",
   "execution_count": 304,
   "id": "b977ac64",
   "metadata": {},
   "outputs": [
    {
     "data": {
      "text/html": [
       "<div>\n",
       "<style scoped>\n",
       "    .dataframe tbody tr th:only-of-type {\n",
       "        vertical-align: middle;\n",
       "    }\n",
       "\n",
       "    .dataframe tbody tr th {\n",
       "        vertical-align: top;\n",
       "    }\n",
       "\n",
       "    .dataframe thead th {\n",
       "        text-align: right;\n",
       "    }\n",
       "</style>\n",
       "<table border=\"1\" class=\"dataframe\">\n",
       "  <thead>\n",
       "    <tr style=\"text-align: right;\">\n",
       "      <th></th>\n",
       "      <th>regimiento</th>\n",
       "      <th>compania</th>\n",
       "      <th>experiencia</th>\n",
       "      <th>nombre</th>\n",
       "      <th>puntuacionPistola</th>\n",
       "      <th>puntuacionFusil</th>\n",
       "    </tr>\n",
       "  </thead>\n",
       "  <tbody>\n",
       "    <tr>\n",
       "      <th>0</th>\n",
       "      <td>El Freno</td>\n",
       "      <td>infanteria</td>\n",
       "      <td>veterano</td>\n",
       "      <td>Jose</td>\n",
       "      <td>4</td>\n",
       "      <td>25</td>\n",
       "    </tr>\n",
       "    <tr>\n",
       "      <th>1</th>\n",
       "      <td>El Freno</td>\n",
       "      <td>infanteria</td>\n",
       "      <td>junior</td>\n",
       "      <td>Jorge</td>\n",
       "      <td>24</td>\n",
       "      <td>94</td>\n",
       "    </tr>\n",
       "    <tr>\n",
       "      <th>2</th>\n",
       "      <td>El Freno</td>\n",
       "      <td>marina</td>\n",
       "      <td>veterano</td>\n",
       "      <td>Mercedes</td>\n",
       "      <td>31</td>\n",
       "      <td>57</td>\n",
       "    </tr>\n",
       "    <tr>\n",
       "      <th>3</th>\n",
       "      <td>El Freno</td>\n",
       "      <td>marina</td>\n",
       "      <td>junior</td>\n",
       "      <td>Jose</td>\n",
       "      <td>2</td>\n",
       "      <td>62</td>\n",
       "    </tr>\n",
       "    <tr>\n",
       "      <th>4</th>\n",
       "      <td>El Osado</td>\n",
       "      <td>infanteria</td>\n",
       "      <td>veterano</td>\n",
       "      <td>Carolina</td>\n",
       "      <td>3</td>\n",
       "      <td>70</td>\n",
       "    </tr>\n",
       "    <tr>\n",
       "      <th>5</th>\n",
       "      <td>El Osado</td>\n",
       "      <td>infanteria</td>\n",
       "      <td>junior</td>\n",
       "      <td>Julio</td>\n",
       "      <td>4</td>\n",
       "      <td>25</td>\n",
       "    </tr>\n",
       "    <tr>\n",
       "      <th>6</th>\n",
       "      <td>El Osado</td>\n",
       "      <td>marina</td>\n",
       "      <td>veterano</td>\n",
       "      <td>Ruben</td>\n",
       "      <td>24</td>\n",
       "      <td>94</td>\n",
       "    </tr>\n",
       "    <tr>\n",
       "      <th>7</th>\n",
       "      <td>El Osado</td>\n",
       "      <td>marina</td>\n",
       "      <td>junior</td>\n",
       "      <td>Sara</td>\n",
       "      <td>31</td>\n",
       "      <td>57</td>\n",
       "    </tr>\n",
       "    <tr>\n",
       "      <th>8</th>\n",
       "      <td>El Distinguido</td>\n",
       "      <td>infanteria</td>\n",
       "      <td>veterano</td>\n",
       "      <td>Sergio</td>\n",
       "      <td>2</td>\n",
       "      <td>62</td>\n",
       "    </tr>\n",
       "    <tr>\n",
       "      <th>9</th>\n",
       "      <td>El Distinguido</td>\n",
       "      <td>infanteria</td>\n",
       "      <td>junior</td>\n",
       "      <td>Pablo</td>\n",
       "      <td>3</td>\n",
       "      <td>70</td>\n",
       "    </tr>\n",
       "    <tr>\n",
       "      <th>10</th>\n",
       "      <td>El Distinguido</td>\n",
       "      <td>marina</td>\n",
       "      <td>veterano</td>\n",
       "      <td>Rodrigo</td>\n",
       "      <td>2</td>\n",
       "      <td>62</td>\n",
       "    </tr>\n",
       "    <tr>\n",
       "      <th>11</th>\n",
       "      <td>El Distinguido</td>\n",
       "      <td>marina</td>\n",
       "      <td>junior</td>\n",
       "      <td>Mercedes</td>\n",
       "      <td>3</td>\n",
       "      <td>70</td>\n",
       "    </tr>\n",
       "  </tbody>\n",
       "</table>\n",
       "</div>"
      ],
      "text/plain": [
       "        regimiento    compania experiencia    nombre  puntuacionPistola  \\\n",
       "0         El Freno  infanteria    veterano      Jose                  4   \n",
       "1         El Freno  infanteria      junior     Jorge                 24   \n",
       "2         El Freno      marina    veterano  Mercedes                 31   \n",
       "3         El Freno      marina      junior      Jose                  2   \n",
       "4         El Osado  infanteria    veterano  Carolina                  3   \n",
       "5         El Osado  infanteria      junior     Julio                  4   \n",
       "6         El Osado      marina    veterano     Ruben                 24   \n",
       "7         El Osado      marina      junior      Sara                 31   \n",
       "8   El Distinguido  infanteria    veterano    Sergio                  2   \n",
       "9   El Distinguido  infanteria      junior     Pablo                  3   \n",
       "10  El Distinguido      marina    veterano   Rodrigo                  2   \n",
       "11  El Distinguido      marina      junior  Mercedes                  3   \n",
       "\n",
       "    puntuacionFusil  \n",
       "0                25  \n",
       "1                94  \n",
       "2                57  \n",
       "3                62  \n",
       "4                70  \n",
       "5                25  \n",
       "6                94  \n",
       "7                57  \n",
       "8                62  \n",
       "9                70  \n",
       "10               62  \n",
       "11               70  "
      ]
     },
     "execution_count": 304,
     "metadata": {},
     "output_type": "execute_result"
    }
   ],
   "source": [
    "df"
   ]
  },
  {
   "cell_type": "markdown",
   "id": "dcbb0940",
   "metadata": {},
   "source": [
    "Agregar la siguiente informacion"
   ]
  },
  {
   "cell_type": "markdown",
   "id": "311f6f03",
   "metadata": {},
   "source": [
    "puntuacionPistolaCategorico:\n",
    "    [0 - 20] malo\n",
    "    [21 - 50] bueno\n",
    "    [51 -75] muy bueno\n",
    "    [76-100] Excelente\n",
    "    \n",
    "puntuacionFusilCategorico:\n",
    "    [0 - 25] malo\n",
    "    [26 - 50] bueno\n",
    "    [51 -75] muy bueno\n",
    "    [76-100] Excelente\n"
   ]
  },
  {
   "cell_type": "code",
   "execution_count": 305,
   "id": "01fd9559",
   "metadata": {},
   "outputs": [
    {
     "name": "stderr",
     "output_type": "stream",
     "text": [
      "C:\\Users\\carolina\\AppData\\Local\\Temp\\ipykernel_6076\\2291495284.py:6: SettingWithCopyWarning: \n",
      "A value is trying to be set on a copy of a slice from a DataFrame\n",
      "\n",
      "See the caveats in the documentation: https://pandas.pydata.org/pandas-docs/stable/user_guide/indexing.html#returning-a-view-versus-a-copy\n",
      "  df['puntuacionPistolaCategorico'][(df['puntuacionPistola']>20) & (df['puntuacionPistola']<=50)]='bueno'\n",
      "C:\\Users\\carolina\\AppData\\Local\\Temp\\ipykernel_6076\\2291495284.py:7: SettingWithCopyWarning: \n",
      "A value is trying to be set on a copy of a slice from a DataFrame\n",
      "\n",
      "See the caveats in the documentation: https://pandas.pydata.org/pandas-docs/stable/user_guide/indexing.html#returning-a-view-versus-a-copy\n",
      "  df['puntuacionPistolaCategorico'][(df['puntuacionPistola']>50) & (df['puntuacionPistola']<=75)]='muy bueno'\n",
      "C:\\Users\\carolina\\AppData\\Local\\Temp\\ipykernel_6076\\2291495284.py:8: SettingWithCopyWarning: \n",
      "A value is trying to be set on a copy of a slice from a DataFrame\n",
      "\n",
      "See the caveats in the documentation: https://pandas.pydata.org/pandas-docs/stable/user_guide/indexing.html#returning-a-view-versus-a-copy\n",
      "  df['puntuacionPistolaCategorico'][(df['puntuacionPistola']>75) & (df['puntuacionPistola']<=100)]='excelente'\n",
      "C:\\Users\\carolina\\AppData\\Local\\Temp\\ipykernel_6076\\2291495284.py:15: SettingWithCopyWarning: \n",
      "A value is trying to be set on a copy of a slice from a DataFrame\n",
      "\n",
      "See the caveats in the documentation: https://pandas.pydata.org/pandas-docs/stable/user_guide/indexing.html#returning-a-view-versus-a-copy\n",
      "  df['puntuacionFusilCategorico'][(df['puntuacionFusil']>25) & (df['puntuacionFusil']<=50)]='bueno'\n",
      "C:\\Users\\carolina\\AppData\\Local\\Temp\\ipykernel_6076\\2291495284.py:16: SettingWithCopyWarning: \n",
      "A value is trying to be set on a copy of a slice from a DataFrame\n",
      "\n",
      "See the caveats in the documentation: https://pandas.pydata.org/pandas-docs/stable/user_guide/indexing.html#returning-a-view-versus-a-copy\n",
      "  df['puntuacionFusilCategorico'][(df['puntuacionFusil']>50) & (df['puntuacionFusil']<=75)]='muy bueno'\n",
      "C:\\Users\\carolina\\AppData\\Local\\Temp\\ipykernel_6076\\2291495284.py:17: SettingWithCopyWarning: \n",
      "A value is trying to be set on a copy of a slice from a DataFrame\n",
      "\n",
      "See the caveats in the documentation: https://pandas.pydata.org/pandas-docs/stable/user_guide/indexing.html#returning-a-view-versus-a-copy\n",
      "  df['puntuacionFusilCategorico'][(df['puntuacionFusil']>75) & (df['puntuacionFusil']<=100)]='excelente'\n"
     ]
    }
   ],
   "source": [
    "# Solucion 1 (solucion mala)\n",
    "\n",
    "## Esta solucion no es la mas idonea. Como se ve tira muchos warnings\n",
    "\n",
    "df['puntuacionPistolaCategorico']='Malo'\n",
    "df['puntuacionPistolaCategorico'][(df['puntuacionPistola']>20) & (df['puntuacionPistola']<=50)]='bueno'\n",
    "df['puntuacionPistolaCategorico'][(df['puntuacionPistola']>50) & (df['puntuacionPistola']<=75)]='muy bueno'\n",
    "df['puntuacionPistolaCategorico'][(df['puntuacionPistola']>75) & (df['puntuacionPistola']<=100)]='excelente'\n",
    "\n",
    "# Solucion 1 (solucion mala)\n",
    "\n",
    "df['puntuacionFusilCategorico']='Malo'\n",
    "\n",
    "\n",
    "df['puntuacionFusilCategorico'][(df['puntuacionFusil']>25) & (df['puntuacionFusil']<=50)]='bueno'\n",
    "df['puntuacionFusilCategorico'][(df['puntuacionFusil']>50) & (df['puntuacionFusil']<=75)]='muy bueno'\n",
    "df['puntuacionFusilCategorico'][(df['puntuacionFusil']>75) & (df['puntuacionFusil']<=100)]='excelente'\n",
    "\n"
   ]
  },
  {
   "cell_type": "code",
   "execution_count": 306,
   "id": "1dd578d5",
   "metadata": {},
   "outputs": [
    {
     "data": {
      "text/html": [
       "<div>\n",
       "<style scoped>\n",
       "    .dataframe tbody tr th:only-of-type {\n",
       "        vertical-align: middle;\n",
       "    }\n",
       "\n",
       "    .dataframe tbody tr th {\n",
       "        vertical-align: top;\n",
       "    }\n",
       "\n",
       "    .dataframe thead th {\n",
       "        text-align: right;\n",
       "    }\n",
       "</style>\n",
       "<table border=\"1\" class=\"dataframe\">\n",
       "  <thead>\n",
       "    <tr style=\"text-align: right;\">\n",
       "      <th></th>\n",
       "      <th>regimiento</th>\n",
       "      <th>compania</th>\n",
       "      <th>experiencia</th>\n",
       "      <th>nombre</th>\n",
       "      <th>puntuacionPistola</th>\n",
       "      <th>puntuacionFusil</th>\n",
       "      <th>puntuacionPistolaCategorico</th>\n",
       "      <th>puntuacionFusilCategorico</th>\n",
       "    </tr>\n",
       "  </thead>\n",
       "  <tbody>\n",
       "    <tr>\n",
       "      <th>0</th>\n",
       "      <td>El Freno</td>\n",
       "      <td>infanteria</td>\n",
       "      <td>veterano</td>\n",
       "      <td>Jose</td>\n",
       "      <td>4</td>\n",
       "      <td>25</td>\n",
       "      <td>Malo</td>\n",
       "      <td>Malo</td>\n",
       "    </tr>\n",
       "    <tr>\n",
       "      <th>1</th>\n",
       "      <td>El Freno</td>\n",
       "      <td>infanteria</td>\n",
       "      <td>junior</td>\n",
       "      <td>Jorge</td>\n",
       "      <td>24</td>\n",
       "      <td>94</td>\n",
       "      <td>bueno</td>\n",
       "      <td>excelente</td>\n",
       "    </tr>\n",
       "    <tr>\n",
       "      <th>2</th>\n",
       "      <td>El Freno</td>\n",
       "      <td>marina</td>\n",
       "      <td>veterano</td>\n",
       "      <td>Mercedes</td>\n",
       "      <td>31</td>\n",
       "      <td>57</td>\n",
       "      <td>bueno</td>\n",
       "      <td>muy bueno</td>\n",
       "    </tr>\n",
       "    <tr>\n",
       "      <th>3</th>\n",
       "      <td>El Freno</td>\n",
       "      <td>marina</td>\n",
       "      <td>junior</td>\n",
       "      <td>Jose</td>\n",
       "      <td>2</td>\n",
       "      <td>62</td>\n",
       "      <td>Malo</td>\n",
       "      <td>muy bueno</td>\n",
       "    </tr>\n",
       "    <tr>\n",
       "      <th>4</th>\n",
       "      <td>El Osado</td>\n",
       "      <td>infanteria</td>\n",
       "      <td>veterano</td>\n",
       "      <td>Carolina</td>\n",
       "      <td>3</td>\n",
       "      <td>70</td>\n",
       "      <td>Malo</td>\n",
       "      <td>muy bueno</td>\n",
       "    </tr>\n",
       "    <tr>\n",
       "      <th>5</th>\n",
       "      <td>El Osado</td>\n",
       "      <td>infanteria</td>\n",
       "      <td>junior</td>\n",
       "      <td>Julio</td>\n",
       "      <td>4</td>\n",
       "      <td>25</td>\n",
       "      <td>Malo</td>\n",
       "      <td>Malo</td>\n",
       "    </tr>\n",
       "    <tr>\n",
       "      <th>6</th>\n",
       "      <td>El Osado</td>\n",
       "      <td>marina</td>\n",
       "      <td>veterano</td>\n",
       "      <td>Ruben</td>\n",
       "      <td>24</td>\n",
       "      <td>94</td>\n",
       "      <td>bueno</td>\n",
       "      <td>excelente</td>\n",
       "    </tr>\n",
       "    <tr>\n",
       "      <th>7</th>\n",
       "      <td>El Osado</td>\n",
       "      <td>marina</td>\n",
       "      <td>junior</td>\n",
       "      <td>Sara</td>\n",
       "      <td>31</td>\n",
       "      <td>57</td>\n",
       "      <td>bueno</td>\n",
       "      <td>muy bueno</td>\n",
       "    </tr>\n",
       "    <tr>\n",
       "      <th>8</th>\n",
       "      <td>El Distinguido</td>\n",
       "      <td>infanteria</td>\n",
       "      <td>veterano</td>\n",
       "      <td>Sergio</td>\n",
       "      <td>2</td>\n",
       "      <td>62</td>\n",
       "      <td>Malo</td>\n",
       "      <td>muy bueno</td>\n",
       "    </tr>\n",
       "    <tr>\n",
       "      <th>9</th>\n",
       "      <td>El Distinguido</td>\n",
       "      <td>infanteria</td>\n",
       "      <td>junior</td>\n",
       "      <td>Pablo</td>\n",
       "      <td>3</td>\n",
       "      <td>70</td>\n",
       "      <td>Malo</td>\n",
       "      <td>muy bueno</td>\n",
       "    </tr>\n",
       "    <tr>\n",
       "      <th>10</th>\n",
       "      <td>El Distinguido</td>\n",
       "      <td>marina</td>\n",
       "      <td>veterano</td>\n",
       "      <td>Rodrigo</td>\n",
       "      <td>2</td>\n",
       "      <td>62</td>\n",
       "      <td>Malo</td>\n",
       "      <td>muy bueno</td>\n",
       "    </tr>\n",
       "    <tr>\n",
       "      <th>11</th>\n",
       "      <td>El Distinguido</td>\n",
       "      <td>marina</td>\n",
       "      <td>junior</td>\n",
       "      <td>Mercedes</td>\n",
       "      <td>3</td>\n",
       "      <td>70</td>\n",
       "      <td>Malo</td>\n",
       "      <td>muy bueno</td>\n",
       "    </tr>\n",
       "  </tbody>\n",
       "</table>\n",
       "</div>"
      ],
      "text/plain": [
       "        regimiento    compania experiencia    nombre  puntuacionPistola  \\\n",
       "0         El Freno  infanteria    veterano      Jose                  4   \n",
       "1         El Freno  infanteria      junior     Jorge                 24   \n",
       "2         El Freno      marina    veterano  Mercedes                 31   \n",
       "3         El Freno      marina      junior      Jose                  2   \n",
       "4         El Osado  infanteria    veterano  Carolina                  3   \n",
       "5         El Osado  infanteria      junior     Julio                  4   \n",
       "6         El Osado      marina    veterano     Ruben                 24   \n",
       "7         El Osado      marina      junior      Sara                 31   \n",
       "8   El Distinguido  infanteria    veterano    Sergio                  2   \n",
       "9   El Distinguido  infanteria      junior     Pablo                  3   \n",
       "10  El Distinguido      marina    veterano   Rodrigo                  2   \n",
       "11  El Distinguido      marina      junior  Mercedes                  3   \n",
       "\n",
       "    puntuacionFusil puntuacionPistolaCategorico puntuacionFusilCategorico  \n",
       "0                25                        Malo                      Malo  \n",
       "1                94                       bueno                 excelente  \n",
       "2                57                       bueno                 muy bueno  \n",
       "3                62                        Malo                 muy bueno  \n",
       "4                70                        Malo                 muy bueno  \n",
       "5                25                        Malo                      Malo  \n",
       "6                94                       bueno                 excelente  \n",
       "7                57                       bueno                 muy bueno  \n",
       "8                62                        Malo                 muy bueno  \n",
       "9                70                        Malo                 muy bueno  \n",
       "10               62                        Malo                 muy bueno  \n",
       "11               70                        Malo                 muy bueno  "
      ]
     },
     "execution_count": 306,
     "metadata": {},
     "output_type": "execute_result"
    }
   ],
   "source": [
    "df"
   ]
  },
  {
   "cell_type": "code",
   "execution_count": 307,
   "id": "dafc8558",
   "metadata": {},
   "outputs": [
    {
     "data": {
      "text/html": [
       "<div>\n",
       "<style scoped>\n",
       "    .dataframe tbody tr th:only-of-type {\n",
       "        vertical-align: middle;\n",
       "    }\n",
       "\n",
       "    .dataframe tbody tr th {\n",
       "        vertical-align: top;\n",
       "    }\n",
       "\n",
       "    .dataframe thead th {\n",
       "        text-align: right;\n",
       "    }\n",
       "</style>\n",
       "<table border=\"1\" class=\"dataframe\">\n",
       "  <thead>\n",
       "    <tr style=\"text-align: right;\">\n",
       "      <th></th>\n",
       "      <th>regimiento</th>\n",
       "      <th>compania</th>\n",
       "      <th>experiencia</th>\n",
       "      <th>nombre</th>\n",
       "      <th>puntuacionPistola</th>\n",
       "      <th>puntuacionFusil</th>\n",
       "      <th>puntuacionPistolaCategorico</th>\n",
       "      <th>puntuacionFusilCategorico</th>\n",
       "    </tr>\n",
       "  </thead>\n",
       "  <tbody>\n",
       "    <tr>\n",
       "      <th>0</th>\n",
       "      <td>El Freno</td>\n",
       "      <td>infanteria</td>\n",
       "      <td>veterano</td>\n",
       "      <td>Jose</td>\n",
       "      <td>4</td>\n",
       "      <td>25</td>\n",
       "      <td></td>\n",
       "      <td></td>\n",
       "    </tr>\n",
       "    <tr>\n",
       "      <th>1</th>\n",
       "      <td>El Freno</td>\n",
       "      <td>infanteria</td>\n",
       "      <td>junior</td>\n",
       "      <td>Jorge</td>\n",
       "      <td>24</td>\n",
       "      <td>94</td>\n",
       "      <td></td>\n",
       "      <td></td>\n",
       "    </tr>\n",
       "    <tr>\n",
       "      <th>2</th>\n",
       "      <td>El Freno</td>\n",
       "      <td>marina</td>\n",
       "      <td>veterano</td>\n",
       "      <td>Mercedes</td>\n",
       "      <td>31</td>\n",
       "      <td>57</td>\n",
       "      <td></td>\n",
       "      <td></td>\n",
       "    </tr>\n",
       "    <tr>\n",
       "      <th>3</th>\n",
       "      <td>El Freno</td>\n",
       "      <td>marina</td>\n",
       "      <td>junior</td>\n",
       "      <td>Jose</td>\n",
       "      <td>2</td>\n",
       "      <td>62</td>\n",
       "      <td></td>\n",
       "      <td></td>\n",
       "    </tr>\n",
       "    <tr>\n",
       "      <th>4</th>\n",
       "      <td>El Osado</td>\n",
       "      <td>infanteria</td>\n",
       "      <td>veterano</td>\n",
       "      <td>Carolina</td>\n",
       "      <td>3</td>\n",
       "      <td>70</td>\n",
       "      <td></td>\n",
       "      <td></td>\n",
       "    </tr>\n",
       "    <tr>\n",
       "      <th>5</th>\n",
       "      <td>El Osado</td>\n",
       "      <td>infanteria</td>\n",
       "      <td>junior</td>\n",
       "      <td>Julio</td>\n",
       "      <td>4</td>\n",
       "      <td>25</td>\n",
       "      <td></td>\n",
       "      <td></td>\n",
       "    </tr>\n",
       "    <tr>\n",
       "      <th>6</th>\n",
       "      <td>El Osado</td>\n",
       "      <td>marina</td>\n",
       "      <td>veterano</td>\n",
       "      <td>Ruben</td>\n",
       "      <td>24</td>\n",
       "      <td>94</td>\n",
       "      <td></td>\n",
       "      <td></td>\n",
       "    </tr>\n",
       "    <tr>\n",
       "      <th>7</th>\n",
       "      <td>El Osado</td>\n",
       "      <td>marina</td>\n",
       "      <td>junior</td>\n",
       "      <td>Sara</td>\n",
       "      <td>31</td>\n",
       "      <td>57</td>\n",
       "      <td></td>\n",
       "      <td></td>\n",
       "    </tr>\n",
       "    <tr>\n",
       "      <th>8</th>\n",
       "      <td>El Distinguido</td>\n",
       "      <td>infanteria</td>\n",
       "      <td>veterano</td>\n",
       "      <td>Sergio</td>\n",
       "      <td>2</td>\n",
       "      <td>62</td>\n",
       "      <td></td>\n",
       "      <td></td>\n",
       "    </tr>\n",
       "    <tr>\n",
       "      <th>9</th>\n",
       "      <td>El Distinguido</td>\n",
       "      <td>infanteria</td>\n",
       "      <td>junior</td>\n",
       "      <td>Pablo</td>\n",
       "      <td>3</td>\n",
       "      <td>70</td>\n",
       "      <td></td>\n",
       "      <td></td>\n",
       "    </tr>\n",
       "    <tr>\n",
       "      <th>10</th>\n",
       "      <td>El Distinguido</td>\n",
       "      <td>marina</td>\n",
       "      <td>veterano</td>\n",
       "      <td>Rodrigo</td>\n",
       "      <td>2</td>\n",
       "      <td>62</td>\n",
       "      <td></td>\n",
       "      <td></td>\n",
       "    </tr>\n",
       "    <tr>\n",
       "      <th>11</th>\n",
       "      <td>El Distinguido</td>\n",
       "      <td>marina</td>\n",
       "      <td>junior</td>\n",
       "      <td>Mercedes</td>\n",
       "      <td>3</td>\n",
       "      <td>70</td>\n",
       "      <td></td>\n",
       "      <td></td>\n",
       "    </tr>\n",
       "  </tbody>\n",
       "</table>\n",
       "</div>"
      ],
      "text/plain": [
       "        regimiento    compania experiencia    nombre  puntuacionPistola  \\\n",
       "0         El Freno  infanteria    veterano      Jose                  4   \n",
       "1         El Freno  infanteria      junior     Jorge                 24   \n",
       "2         El Freno      marina    veterano  Mercedes                 31   \n",
       "3         El Freno      marina      junior      Jose                  2   \n",
       "4         El Osado  infanteria    veterano  Carolina                  3   \n",
       "5         El Osado  infanteria      junior     Julio                  4   \n",
       "6         El Osado      marina    veterano     Ruben                 24   \n",
       "7         El Osado      marina      junior      Sara                 31   \n",
       "8   El Distinguido  infanteria    veterano    Sergio                  2   \n",
       "9   El Distinguido  infanteria      junior     Pablo                  3   \n",
       "10  El Distinguido      marina    veterano   Rodrigo                  2   \n",
       "11  El Distinguido      marina      junior  Mercedes                  3   \n",
       "\n",
       "    puntuacionFusil puntuacionPistolaCategorico puntuacionFusilCategorico  \n",
       "0                25                                                        \n",
       "1                94                                                        \n",
       "2                57                                                        \n",
       "3                62                                                        \n",
       "4                70                                                        \n",
       "5                25                                                        \n",
       "6                94                                                        \n",
       "7                57                                                        \n",
       "8                62                                                        \n",
       "9                70                                                        \n",
       "10               62                                                        \n",
       "11               70                                                        "
      ]
     },
     "execution_count": 307,
     "metadata": {},
     "output_type": "execute_result"
    }
   ],
   "source": [
    "df['puntuacionPistolaCategorico']=''\n",
    "df['puntuacionFusilCategorico']=''\n",
    "df"
   ]
  },
  {
   "cell_type": "code",
   "execution_count": 308,
   "id": "46e2a695",
   "metadata": {},
   "outputs": [],
   "source": [
    "# Solucion 2 (algo mejor, al menos utiliza loc que es mas rapido)\n",
    "\n",
    "#pistola\n",
    "df.loc[df['puntuacionPistola']<=20, 'puntuacionPistolaCategorico']='malo'\n",
    "df.loc[(df['puntuacionPistola']>20) & (df['puntuacionPistola']<=50), 'puntuacionPistolaCategorico']='bueno'\n",
    "df.loc[(df['puntuacionPistola']>50) & (df['puntuacionPistola']<=75), 'puntuacionPistolaCategorico']='muy bueno'\n",
    "df.loc[(df['puntuacionPistola']>75) & (df['puntuacionPistola']<=100), 'puntuacionPistolaCategorico']='excelente'\n",
    "\n",
    "#fusil\n",
    "df.loc[df['puntuacionFusil']<=25, 'puntuacionFusilCategorico']='malo'\n",
    "df.loc[(df['puntuacionFusil']>25) & (df['puntuacionFusil']<=50), 'puntuacionFusilCategorico']='bueno'\n",
    "df.loc[(df['puntuacionFusil']>50) & (df['puntuacionFusil']<=75), 'puntuacionFusilCategorico']='muy bueno'\n",
    "df.loc[(df['puntuacionFusil']>75) & (df['puntuacionFusil']<=100), 'puntuacionFusilCategorico']='excelente'\n"
   ]
  },
  {
   "cell_type": "code",
   "execution_count": 309,
   "id": "a62b9fba",
   "metadata": {},
   "outputs": [
    {
     "data": {
      "text/html": [
       "<div>\n",
       "<style scoped>\n",
       "    .dataframe tbody tr th:only-of-type {\n",
       "        vertical-align: middle;\n",
       "    }\n",
       "\n",
       "    .dataframe tbody tr th {\n",
       "        vertical-align: top;\n",
       "    }\n",
       "\n",
       "    .dataframe thead th {\n",
       "        text-align: right;\n",
       "    }\n",
       "</style>\n",
       "<table border=\"1\" class=\"dataframe\">\n",
       "  <thead>\n",
       "    <tr style=\"text-align: right;\">\n",
       "      <th></th>\n",
       "      <th>regimiento</th>\n",
       "      <th>compania</th>\n",
       "      <th>experiencia</th>\n",
       "      <th>nombre</th>\n",
       "      <th>puntuacionPistola</th>\n",
       "      <th>puntuacionFusil</th>\n",
       "      <th>puntuacionPistolaCategorico</th>\n",
       "      <th>puntuacionFusilCategorico</th>\n",
       "    </tr>\n",
       "  </thead>\n",
       "  <tbody>\n",
       "    <tr>\n",
       "      <th>0</th>\n",
       "      <td>El Freno</td>\n",
       "      <td>infanteria</td>\n",
       "      <td>veterano</td>\n",
       "      <td>Jose</td>\n",
       "      <td>4</td>\n",
       "      <td>25</td>\n",
       "      <td>malo</td>\n",
       "      <td>malo</td>\n",
       "    </tr>\n",
       "    <tr>\n",
       "      <th>1</th>\n",
       "      <td>El Freno</td>\n",
       "      <td>infanteria</td>\n",
       "      <td>junior</td>\n",
       "      <td>Jorge</td>\n",
       "      <td>24</td>\n",
       "      <td>94</td>\n",
       "      <td>bueno</td>\n",
       "      <td>excelente</td>\n",
       "    </tr>\n",
       "    <tr>\n",
       "      <th>2</th>\n",
       "      <td>El Freno</td>\n",
       "      <td>marina</td>\n",
       "      <td>veterano</td>\n",
       "      <td>Mercedes</td>\n",
       "      <td>31</td>\n",
       "      <td>57</td>\n",
       "      <td>bueno</td>\n",
       "      <td>muy bueno</td>\n",
       "    </tr>\n",
       "    <tr>\n",
       "      <th>3</th>\n",
       "      <td>El Freno</td>\n",
       "      <td>marina</td>\n",
       "      <td>junior</td>\n",
       "      <td>Jose</td>\n",
       "      <td>2</td>\n",
       "      <td>62</td>\n",
       "      <td>malo</td>\n",
       "      <td>muy bueno</td>\n",
       "    </tr>\n",
       "    <tr>\n",
       "      <th>4</th>\n",
       "      <td>El Osado</td>\n",
       "      <td>infanteria</td>\n",
       "      <td>veterano</td>\n",
       "      <td>Carolina</td>\n",
       "      <td>3</td>\n",
       "      <td>70</td>\n",
       "      <td>malo</td>\n",
       "      <td>muy bueno</td>\n",
       "    </tr>\n",
       "    <tr>\n",
       "      <th>5</th>\n",
       "      <td>El Osado</td>\n",
       "      <td>infanteria</td>\n",
       "      <td>junior</td>\n",
       "      <td>Julio</td>\n",
       "      <td>4</td>\n",
       "      <td>25</td>\n",
       "      <td>malo</td>\n",
       "      <td>malo</td>\n",
       "    </tr>\n",
       "    <tr>\n",
       "      <th>6</th>\n",
       "      <td>El Osado</td>\n",
       "      <td>marina</td>\n",
       "      <td>veterano</td>\n",
       "      <td>Ruben</td>\n",
       "      <td>24</td>\n",
       "      <td>94</td>\n",
       "      <td>bueno</td>\n",
       "      <td>excelente</td>\n",
       "    </tr>\n",
       "    <tr>\n",
       "      <th>7</th>\n",
       "      <td>El Osado</td>\n",
       "      <td>marina</td>\n",
       "      <td>junior</td>\n",
       "      <td>Sara</td>\n",
       "      <td>31</td>\n",
       "      <td>57</td>\n",
       "      <td>bueno</td>\n",
       "      <td>muy bueno</td>\n",
       "    </tr>\n",
       "    <tr>\n",
       "      <th>8</th>\n",
       "      <td>El Distinguido</td>\n",
       "      <td>infanteria</td>\n",
       "      <td>veterano</td>\n",
       "      <td>Sergio</td>\n",
       "      <td>2</td>\n",
       "      <td>62</td>\n",
       "      <td>malo</td>\n",
       "      <td>muy bueno</td>\n",
       "    </tr>\n",
       "    <tr>\n",
       "      <th>9</th>\n",
       "      <td>El Distinguido</td>\n",
       "      <td>infanteria</td>\n",
       "      <td>junior</td>\n",
       "      <td>Pablo</td>\n",
       "      <td>3</td>\n",
       "      <td>70</td>\n",
       "      <td>malo</td>\n",
       "      <td>muy bueno</td>\n",
       "    </tr>\n",
       "    <tr>\n",
       "      <th>10</th>\n",
       "      <td>El Distinguido</td>\n",
       "      <td>marina</td>\n",
       "      <td>veterano</td>\n",
       "      <td>Rodrigo</td>\n",
       "      <td>2</td>\n",
       "      <td>62</td>\n",
       "      <td>malo</td>\n",
       "      <td>muy bueno</td>\n",
       "    </tr>\n",
       "    <tr>\n",
       "      <th>11</th>\n",
       "      <td>El Distinguido</td>\n",
       "      <td>marina</td>\n",
       "      <td>junior</td>\n",
       "      <td>Mercedes</td>\n",
       "      <td>3</td>\n",
       "      <td>70</td>\n",
       "      <td>malo</td>\n",
       "      <td>muy bueno</td>\n",
       "    </tr>\n",
       "  </tbody>\n",
       "</table>\n",
       "</div>"
      ],
      "text/plain": [
       "        regimiento    compania experiencia    nombre  puntuacionPistola  \\\n",
       "0         El Freno  infanteria    veterano      Jose                  4   \n",
       "1         El Freno  infanteria      junior     Jorge                 24   \n",
       "2         El Freno      marina    veterano  Mercedes                 31   \n",
       "3         El Freno      marina      junior      Jose                  2   \n",
       "4         El Osado  infanteria    veterano  Carolina                  3   \n",
       "5         El Osado  infanteria      junior     Julio                  4   \n",
       "6         El Osado      marina    veterano     Ruben                 24   \n",
       "7         El Osado      marina      junior      Sara                 31   \n",
       "8   El Distinguido  infanteria    veterano    Sergio                  2   \n",
       "9   El Distinguido  infanteria      junior     Pablo                  3   \n",
       "10  El Distinguido      marina    veterano   Rodrigo                  2   \n",
       "11  El Distinguido      marina      junior  Mercedes                  3   \n",
       "\n",
       "    puntuacionFusil puntuacionPistolaCategorico puntuacionFusilCategorico  \n",
       "0                25                        malo                      malo  \n",
       "1                94                       bueno                 excelente  \n",
       "2                57                       bueno                 muy bueno  \n",
       "3                62                        malo                 muy bueno  \n",
       "4                70                        malo                 muy bueno  \n",
       "5                25                        malo                      malo  \n",
       "6                94                       bueno                 excelente  \n",
       "7                57                       bueno                 muy bueno  \n",
       "8                62                        malo                 muy bueno  \n",
       "9                70                        malo                 muy bueno  \n",
       "10               62                        malo                 muy bueno  \n",
       "11               70                        malo                 muy bueno  "
      ]
     },
     "execution_count": 309,
     "metadata": {},
     "output_type": "execute_result"
    }
   ],
   "source": [
    "df"
   ]
  },
  {
   "cell_type": "code",
   "execution_count": 310,
   "id": "7d5b1e75",
   "metadata": {},
   "outputs": [
    {
     "data": {
      "text/html": [
       "<div>\n",
       "<style scoped>\n",
       "    .dataframe tbody tr th:only-of-type {\n",
       "        vertical-align: middle;\n",
       "    }\n",
       "\n",
       "    .dataframe tbody tr th {\n",
       "        vertical-align: top;\n",
       "    }\n",
       "\n",
       "    .dataframe thead th {\n",
       "        text-align: right;\n",
       "    }\n",
       "</style>\n",
       "<table border=\"1\" class=\"dataframe\">\n",
       "  <thead>\n",
       "    <tr style=\"text-align: right;\">\n",
       "      <th></th>\n",
       "      <th>regimiento</th>\n",
       "      <th>compania</th>\n",
       "      <th>experiencia</th>\n",
       "      <th>nombre</th>\n",
       "      <th>puntuacionPistola</th>\n",
       "      <th>puntuacionFusil</th>\n",
       "      <th>puntuacionPistolaCategorico</th>\n",
       "      <th>puntuacionFusilCategorico</th>\n",
       "    </tr>\n",
       "  </thead>\n",
       "  <tbody>\n",
       "    <tr>\n",
       "      <th>0</th>\n",
       "      <td>El Freno</td>\n",
       "      <td>infanteria</td>\n",
       "      <td>veterano</td>\n",
       "      <td>Jose</td>\n",
       "      <td>4</td>\n",
       "      <td>25</td>\n",
       "      <td></td>\n",
       "      <td></td>\n",
       "    </tr>\n",
       "    <tr>\n",
       "      <th>1</th>\n",
       "      <td>El Freno</td>\n",
       "      <td>infanteria</td>\n",
       "      <td>junior</td>\n",
       "      <td>Jorge</td>\n",
       "      <td>24</td>\n",
       "      <td>94</td>\n",
       "      <td></td>\n",
       "      <td></td>\n",
       "    </tr>\n",
       "    <tr>\n",
       "      <th>2</th>\n",
       "      <td>El Freno</td>\n",
       "      <td>marina</td>\n",
       "      <td>veterano</td>\n",
       "      <td>Mercedes</td>\n",
       "      <td>31</td>\n",
       "      <td>57</td>\n",
       "      <td></td>\n",
       "      <td></td>\n",
       "    </tr>\n",
       "    <tr>\n",
       "      <th>3</th>\n",
       "      <td>El Freno</td>\n",
       "      <td>marina</td>\n",
       "      <td>junior</td>\n",
       "      <td>Jose</td>\n",
       "      <td>2</td>\n",
       "      <td>62</td>\n",
       "      <td></td>\n",
       "      <td></td>\n",
       "    </tr>\n",
       "    <tr>\n",
       "      <th>4</th>\n",
       "      <td>El Osado</td>\n",
       "      <td>infanteria</td>\n",
       "      <td>veterano</td>\n",
       "      <td>Carolina</td>\n",
       "      <td>3</td>\n",
       "      <td>70</td>\n",
       "      <td></td>\n",
       "      <td></td>\n",
       "    </tr>\n",
       "    <tr>\n",
       "      <th>5</th>\n",
       "      <td>El Osado</td>\n",
       "      <td>infanteria</td>\n",
       "      <td>junior</td>\n",
       "      <td>Julio</td>\n",
       "      <td>4</td>\n",
       "      <td>25</td>\n",
       "      <td></td>\n",
       "      <td></td>\n",
       "    </tr>\n",
       "    <tr>\n",
       "      <th>6</th>\n",
       "      <td>El Osado</td>\n",
       "      <td>marina</td>\n",
       "      <td>veterano</td>\n",
       "      <td>Ruben</td>\n",
       "      <td>24</td>\n",
       "      <td>94</td>\n",
       "      <td></td>\n",
       "      <td></td>\n",
       "    </tr>\n",
       "    <tr>\n",
       "      <th>7</th>\n",
       "      <td>El Osado</td>\n",
       "      <td>marina</td>\n",
       "      <td>junior</td>\n",
       "      <td>Sara</td>\n",
       "      <td>31</td>\n",
       "      <td>57</td>\n",
       "      <td></td>\n",
       "      <td></td>\n",
       "    </tr>\n",
       "    <tr>\n",
       "      <th>8</th>\n",
       "      <td>El Distinguido</td>\n",
       "      <td>infanteria</td>\n",
       "      <td>veterano</td>\n",
       "      <td>Sergio</td>\n",
       "      <td>2</td>\n",
       "      <td>62</td>\n",
       "      <td></td>\n",
       "      <td></td>\n",
       "    </tr>\n",
       "    <tr>\n",
       "      <th>9</th>\n",
       "      <td>El Distinguido</td>\n",
       "      <td>infanteria</td>\n",
       "      <td>junior</td>\n",
       "      <td>Pablo</td>\n",
       "      <td>3</td>\n",
       "      <td>70</td>\n",
       "      <td></td>\n",
       "      <td></td>\n",
       "    </tr>\n",
       "    <tr>\n",
       "      <th>10</th>\n",
       "      <td>El Distinguido</td>\n",
       "      <td>marina</td>\n",
       "      <td>veterano</td>\n",
       "      <td>Rodrigo</td>\n",
       "      <td>2</td>\n",
       "      <td>62</td>\n",
       "      <td></td>\n",
       "      <td></td>\n",
       "    </tr>\n",
       "    <tr>\n",
       "      <th>11</th>\n",
       "      <td>El Distinguido</td>\n",
       "      <td>marina</td>\n",
       "      <td>junior</td>\n",
       "      <td>Mercedes</td>\n",
       "      <td>3</td>\n",
       "      <td>70</td>\n",
       "      <td></td>\n",
       "      <td></td>\n",
       "    </tr>\n",
       "  </tbody>\n",
       "</table>\n",
       "</div>"
      ],
      "text/plain": [
       "        regimiento    compania experiencia    nombre  puntuacionPistola  \\\n",
       "0         El Freno  infanteria    veterano      Jose                  4   \n",
       "1         El Freno  infanteria      junior     Jorge                 24   \n",
       "2         El Freno      marina    veterano  Mercedes                 31   \n",
       "3         El Freno      marina      junior      Jose                  2   \n",
       "4         El Osado  infanteria    veterano  Carolina                  3   \n",
       "5         El Osado  infanteria      junior     Julio                  4   \n",
       "6         El Osado      marina    veterano     Ruben                 24   \n",
       "7         El Osado      marina      junior      Sara                 31   \n",
       "8   El Distinguido  infanteria    veterano    Sergio                  2   \n",
       "9   El Distinguido  infanteria      junior     Pablo                  3   \n",
       "10  El Distinguido      marina    veterano   Rodrigo                  2   \n",
       "11  El Distinguido      marina      junior  Mercedes                  3   \n",
       "\n",
       "    puntuacionFusil puntuacionPistolaCategorico puntuacionFusilCategorico  \n",
       "0                25                                                        \n",
       "1                94                                                        \n",
       "2                57                                                        \n",
       "3                62                                                        \n",
       "4                70                                                        \n",
       "5                25                                                        \n",
       "6                94                                                        \n",
       "7                57                                                        \n",
       "8                62                                                        \n",
       "9                70                                                        \n",
       "10               62                                                        \n",
       "11               70                                                        "
      ]
     },
     "execution_count": 310,
     "metadata": {},
     "output_type": "execute_result"
    }
   ],
   "source": [
    "df['puntuacionPistolaCategorico']=''\n",
    "df['puntuacionFusilCategorico']=''\n",
    "df"
   ]
  },
  {
   "cell_type": "code",
   "execution_count": 311,
   "id": "cb762fd5",
   "metadata": {},
   "outputs": [],
   "source": [
    "# Solucion 3 ( esta solucion es buena)\n",
    "\n",
    "def cPist(v):\n",
    "\tif v < 20:\n",
    "\t\ty='malo'\n",
    "\telif v<=50:\n",
    "\t\ty='bueno'\n",
    "\telif v<=75:\n",
    "\t\ty='muy bueno'\n",
    "\telse:\n",
    "\t\ty='excelente'\n",
    "\treturn y\n",
    "\n",
    "\n",
    "def cFus(v):\n",
    "\tif v < 25:\n",
    "\t\ty='malo'\n",
    "\telif v<=50:\n",
    "\t\ty='bueno'\n",
    "\telif v<=75:\n",
    "\t\ty='muy bueno'\n",
    "\telse:\n",
    "\t\ty='excelente'\n",
    "\treturn y\n",
    "\n",
    "df['puntuacionPistolaCategorico']=df['puntuacionPistola'].apply(cPist)\n",
    "df['puntuacionFusilCategorico']=df['puntuacionFusil'].apply(cFus)\n"
   ]
  },
  {
   "cell_type": "code",
   "execution_count": 312,
   "id": "d4b73f38",
   "metadata": {},
   "outputs": [
    {
     "data": {
      "text/html": [
       "<div>\n",
       "<style scoped>\n",
       "    .dataframe tbody tr th:only-of-type {\n",
       "        vertical-align: middle;\n",
       "    }\n",
       "\n",
       "    .dataframe tbody tr th {\n",
       "        vertical-align: top;\n",
       "    }\n",
       "\n",
       "    .dataframe thead th {\n",
       "        text-align: right;\n",
       "    }\n",
       "</style>\n",
       "<table border=\"1\" class=\"dataframe\">\n",
       "  <thead>\n",
       "    <tr style=\"text-align: right;\">\n",
       "      <th></th>\n",
       "      <th>regimiento</th>\n",
       "      <th>compania</th>\n",
       "      <th>experiencia</th>\n",
       "      <th>nombre</th>\n",
       "      <th>puntuacionPistola</th>\n",
       "      <th>puntuacionFusil</th>\n",
       "      <th>puntuacionPistolaCategorico</th>\n",
       "      <th>puntuacionFusilCategorico</th>\n",
       "    </tr>\n",
       "  </thead>\n",
       "  <tbody>\n",
       "    <tr>\n",
       "      <th>0</th>\n",
       "      <td>El Freno</td>\n",
       "      <td>infanteria</td>\n",
       "      <td>veterano</td>\n",
       "      <td>Jose</td>\n",
       "      <td>4</td>\n",
       "      <td>25</td>\n",
       "      <td>malo</td>\n",
       "      <td>bueno</td>\n",
       "    </tr>\n",
       "    <tr>\n",
       "      <th>1</th>\n",
       "      <td>El Freno</td>\n",
       "      <td>infanteria</td>\n",
       "      <td>junior</td>\n",
       "      <td>Jorge</td>\n",
       "      <td>24</td>\n",
       "      <td>94</td>\n",
       "      <td>bueno</td>\n",
       "      <td>excelente</td>\n",
       "    </tr>\n",
       "    <tr>\n",
       "      <th>2</th>\n",
       "      <td>El Freno</td>\n",
       "      <td>marina</td>\n",
       "      <td>veterano</td>\n",
       "      <td>Mercedes</td>\n",
       "      <td>31</td>\n",
       "      <td>57</td>\n",
       "      <td>bueno</td>\n",
       "      <td>muy bueno</td>\n",
       "    </tr>\n",
       "    <tr>\n",
       "      <th>3</th>\n",
       "      <td>El Freno</td>\n",
       "      <td>marina</td>\n",
       "      <td>junior</td>\n",
       "      <td>Jose</td>\n",
       "      <td>2</td>\n",
       "      <td>62</td>\n",
       "      <td>malo</td>\n",
       "      <td>muy bueno</td>\n",
       "    </tr>\n",
       "    <tr>\n",
       "      <th>4</th>\n",
       "      <td>El Osado</td>\n",
       "      <td>infanteria</td>\n",
       "      <td>veterano</td>\n",
       "      <td>Carolina</td>\n",
       "      <td>3</td>\n",
       "      <td>70</td>\n",
       "      <td>malo</td>\n",
       "      <td>muy bueno</td>\n",
       "    </tr>\n",
       "    <tr>\n",
       "      <th>5</th>\n",
       "      <td>El Osado</td>\n",
       "      <td>infanteria</td>\n",
       "      <td>junior</td>\n",
       "      <td>Julio</td>\n",
       "      <td>4</td>\n",
       "      <td>25</td>\n",
       "      <td>malo</td>\n",
       "      <td>bueno</td>\n",
       "    </tr>\n",
       "    <tr>\n",
       "      <th>6</th>\n",
       "      <td>El Osado</td>\n",
       "      <td>marina</td>\n",
       "      <td>veterano</td>\n",
       "      <td>Ruben</td>\n",
       "      <td>24</td>\n",
       "      <td>94</td>\n",
       "      <td>bueno</td>\n",
       "      <td>excelente</td>\n",
       "    </tr>\n",
       "    <tr>\n",
       "      <th>7</th>\n",
       "      <td>El Osado</td>\n",
       "      <td>marina</td>\n",
       "      <td>junior</td>\n",
       "      <td>Sara</td>\n",
       "      <td>31</td>\n",
       "      <td>57</td>\n",
       "      <td>bueno</td>\n",
       "      <td>muy bueno</td>\n",
       "    </tr>\n",
       "    <tr>\n",
       "      <th>8</th>\n",
       "      <td>El Distinguido</td>\n",
       "      <td>infanteria</td>\n",
       "      <td>veterano</td>\n",
       "      <td>Sergio</td>\n",
       "      <td>2</td>\n",
       "      <td>62</td>\n",
       "      <td>malo</td>\n",
       "      <td>muy bueno</td>\n",
       "    </tr>\n",
       "    <tr>\n",
       "      <th>9</th>\n",
       "      <td>El Distinguido</td>\n",
       "      <td>infanteria</td>\n",
       "      <td>junior</td>\n",
       "      <td>Pablo</td>\n",
       "      <td>3</td>\n",
       "      <td>70</td>\n",
       "      <td>malo</td>\n",
       "      <td>muy bueno</td>\n",
       "    </tr>\n",
       "    <tr>\n",
       "      <th>10</th>\n",
       "      <td>El Distinguido</td>\n",
       "      <td>marina</td>\n",
       "      <td>veterano</td>\n",
       "      <td>Rodrigo</td>\n",
       "      <td>2</td>\n",
       "      <td>62</td>\n",
       "      <td>malo</td>\n",
       "      <td>muy bueno</td>\n",
       "    </tr>\n",
       "    <tr>\n",
       "      <th>11</th>\n",
       "      <td>El Distinguido</td>\n",
       "      <td>marina</td>\n",
       "      <td>junior</td>\n",
       "      <td>Mercedes</td>\n",
       "      <td>3</td>\n",
       "      <td>70</td>\n",
       "      <td>malo</td>\n",
       "      <td>muy bueno</td>\n",
       "    </tr>\n",
       "  </tbody>\n",
       "</table>\n",
       "</div>"
      ],
      "text/plain": [
       "        regimiento    compania experiencia    nombre  puntuacionPistola  \\\n",
       "0         El Freno  infanteria    veterano      Jose                  4   \n",
       "1         El Freno  infanteria      junior     Jorge                 24   \n",
       "2         El Freno      marina    veterano  Mercedes                 31   \n",
       "3         El Freno      marina      junior      Jose                  2   \n",
       "4         El Osado  infanteria    veterano  Carolina                  3   \n",
       "5         El Osado  infanteria      junior     Julio                  4   \n",
       "6         El Osado      marina    veterano     Ruben                 24   \n",
       "7         El Osado      marina      junior      Sara                 31   \n",
       "8   El Distinguido  infanteria    veterano    Sergio                  2   \n",
       "9   El Distinguido  infanteria      junior     Pablo                  3   \n",
       "10  El Distinguido      marina    veterano   Rodrigo                  2   \n",
       "11  El Distinguido      marina      junior  Mercedes                  3   \n",
       "\n",
       "    puntuacionFusil puntuacionPistolaCategorico puntuacionFusilCategorico  \n",
       "0                25                        malo                     bueno  \n",
       "1                94                       bueno                 excelente  \n",
       "2                57                       bueno                 muy bueno  \n",
       "3                62                        malo                 muy bueno  \n",
       "4                70                        malo                 muy bueno  \n",
       "5                25                        malo                     bueno  \n",
       "6                94                       bueno                 excelente  \n",
       "7                57                       bueno                 muy bueno  \n",
       "8                62                        malo                 muy bueno  \n",
       "9                70                        malo                 muy bueno  \n",
       "10               62                        malo                 muy bueno  \n",
       "11               70                        malo                 muy bueno  "
      ]
     },
     "execution_count": 312,
     "metadata": {},
     "output_type": "execute_result"
    }
   ],
   "source": [
    "df"
   ]
  },
  {
   "cell_type": "markdown",
   "id": "39cc21f0",
   "metadata": {},
   "source": [
    "##### Funcion pd.cut() Para Crear variables categoricas a partir de variables numericas"
   ]
  },
  {
   "cell_type": "code",
   "execution_count": 313,
   "id": "c9ebdd8f",
   "metadata": {},
   "outputs": [
    {
     "data": {
      "text/html": [
       "<div>\n",
       "<style scoped>\n",
       "    .dataframe tbody tr th:only-of-type {\n",
       "        vertical-align: middle;\n",
       "    }\n",
       "\n",
       "    .dataframe tbody tr th {\n",
       "        vertical-align: top;\n",
       "    }\n",
       "\n",
       "    .dataframe thead th {\n",
       "        text-align: right;\n",
       "    }\n",
       "</style>\n",
       "<table border=\"1\" class=\"dataframe\">\n",
       "  <thead>\n",
       "    <tr style=\"text-align: right;\">\n",
       "      <th></th>\n",
       "      <th>regimiento</th>\n",
       "      <th>compania</th>\n",
       "      <th>experiencia</th>\n",
       "      <th>nombre</th>\n",
       "      <th>puntuacionPistola</th>\n",
       "      <th>puntuacionFusil</th>\n",
       "      <th>puntuacionPistolaCategorico</th>\n",
       "      <th>puntuacionFusilCategorico</th>\n",
       "    </tr>\n",
       "  </thead>\n",
       "  <tbody>\n",
       "    <tr>\n",
       "      <th>0</th>\n",
       "      <td>El Freno</td>\n",
       "      <td>infanteria</td>\n",
       "      <td>veterano</td>\n",
       "      <td>Jose</td>\n",
       "      <td>4</td>\n",
       "      <td>25</td>\n",
       "      <td>malo</td>\n",
       "      <td>malo</td>\n",
       "    </tr>\n",
       "    <tr>\n",
       "      <th>1</th>\n",
       "      <td>El Freno</td>\n",
       "      <td>infanteria</td>\n",
       "      <td>junior</td>\n",
       "      <td>Jorge</td>\n",
       "      <td>24</td>\n",
       "      <td>94</td>\n",
       "      <td>bueno</td>\n",
       "      <td>excelente</td>\n",
       "    </tr>\n",
       "    <tr>\n",
       "      <th>2</th>\n",
       "      <td>El Freno</td>\n",
       "      <td>marina</td>\n",
       "      <td>veterano</td>\n",
       "      <td>Mercedes</td>\n",
       "      <td>31</td>\n",
       "      <td>57</td>\n",
       "      <td>bueno</td>\n",
       "      <td>muy bueno</td>\n",
       "    </tr>\n",
       "    <tr>\n",
       "      <th>3</th>\n",
       "      <td>El Freno</td>\n",
       "      <td>marina</td>\n",
       "      <td>junior</td>\n",
       "      <td>Jose</td>\n",
       "      <td>2</td>\n",
       "      <td>62</td>\n",
       "      <td>malo</td>\n",
       "      <td>muy bueno</td>\n",
       "    </tr>\n",
       "    <tr>\n",
       "      <th>4</th>\n",
       "      <td>El Osado</td>\n",
       "      <td>infanteria</td>\n",
       "      <td>veterano</td>\n",
       "      <td>Carolina</td>\n",
       "      <td>3</td>\n",
       "      <td>70</td>\n",
       "      <td>malo</td>\n",
       "      <td>muy bueno</td>\n",
       "    </tr>\n",
       "    <tr>\n",
       "      <th>5</th>\n",
       "      <td>El Osado</td>\n",
       "      <td>infanteria</td>\n",
       "      <td>junior</td>\n",
       "      <td>Julio</td>\n",
       "      <td>4</td>\n",
       "      <td>25</td>\n",
       "      <td>malo</td>\n",
       "      <td>malo</td>\n",
       "    </tr>\n",
       "    <tr>\n",
       "      <th>6</th>\n",
       "      <td>El Osado</td>\n",
       "      <td>marina</td>\n",
       "      <td>veterano</td>\n",
       "      <td>Ruben</td>\n",
       "      <td>24</td>\n",
       "      <td>94</td>\n",
       "      <td>bueno</td>\n",
       "      <td>excelente</td>\n",
       "    </tr>\n",
       "    <tr>\n",
       "      <th>7</th>\n",
       "      <td>El Osado</td>\n",
       "      <td>marina</td>\n",
       "      <td>junior</td>\n",
       "      <td>Sara</td>\n",
       "      <td>31</td>\n",
       "      <td>57</td>\n",
       "      <td>bueno</td>\n",
       "      <td>muy bueno</td>\n",
       "    </tr>\n",
       "    <tr>\n",
       "      <th>8</th>\n",
       "      <td>El Distinguido</td>\n",
       "      <td>infanteria</td>\n",
       "      <td>veterano</td>\n",
       "      <td>Sergio</td>\n",
       "      <td>2</td>\n",
       "      <td>62</td>\n",
       "      <td>malo</td>\n",
       "      <td>muy bueno</td>\n",
       "    </tr>\n",
       "    <tr>\n",
       "      <th>9</th>\n",
       "      <td>El Distinguido</td>\n",
       "      <td>infanteria</td>\n",
       "      <td>junior</td>\n",
       "      <td>Pablo</td>\n",
       "      <td>3</td>\n",
       "      <td>70</td>\n",
       "      <td>malo</td>\n",
       "      <td>muy bueno</td>\n",
       "    </tr>\n",
       "    <tr>\n",
       "      <th>10</th>\n",
       "      <td>El Distinguido</td>\n",
       "      <td>marina</td>\n",
       "      <td>veterano</td>\n",
       "      <td>Rodrigo</td>\n",
       "      <td>2</td>\n",
       "      <td>62</td>\n",
       "      <td>malo</td>\n",
       "      <td>muy bueno</td>\n",
       "    </tr>\n",
       "    <tr>\n",
       "      <th>11</th>\n",
       "      <td>El Distinguido</td>\n",
       "      <td>marina</td>\n",
       "      <td>junior</td>\n",
       "      <td>Mercedes</td>\n",
       "      <td>3</td>\n",
       "      <td>70</td>\n",
       "      <td>malo</td>\n",
       "      <td>muy bueno</td>\n",
       "    </tr>\n",
       "  </tbody>\n",
       "</table>\n",
       "</div>"
      ],
      "text/plain": [
       "        regimiento    compania experiencia    nombre  puntuacionPistola  \\\n",
       "0         El Freno  infanteria    veterano      Jose                  4   \n",
       "1         El Freno  infanteria      junior     Jorge                 24   \n",
       "2         El Freno      marina    veterano  Mercedes                 31   \n",
       "3         El Freno      marina      junior      Jose                  2   \n",
       "4         El Osado  infanteria    veterano  Carolina                  3   \n",
       "5         El Osado  infanteria      junior     Julio                  4   \n",
       "6         El Osado      marina    veterano     Ruben                 24   \n",
       "7         El Osado      marina      junior      Sara                 31   \n",
       "8   El Distinguido  infanteria    veterano    Sergio                  2   \n",
       "9   El Distinguido  infanteria      junior     Pablo                  3   \n",
       "10  El Distinguido      marina    veterano   Rodrigo                  2   \n",
       "11  El Distinguido      marina      junior  Mercedes                  3   \n",
       "\n",
       "    puntuacionFusil puntuacionPistolaCategorico puntuacionFusilCategorico  \n",
       "0                25                        malo                      malo  \n",
       "1                94                       bueno                 excelente  \n",
       "2                57                       bueno                 muy bueno  \n",
       "3                62                        malo                 muy bueno  \n",
       "4                70                        malo                 muy bueno  \n",
       "5                25                        malo                      malo  \n",
       "6                94                       bueno                 excelente  \n",
       "7                57                       bueno                 muy bueno  \n",
       "8                62                        malo                 muy bueno  \n",
       "9                70                        malo                 muy bueno  \n",
       "10               62                        malo                 muy bueno  \n",
       "11               70                        malo                 muy bueno  "
      ]
     },
     "execution_count": 313,
     "metadata": {},
     "output_type": "execute_result"
    }
   ],
   "source": [
    "# Solucion 4 (la mejor)\n",
    "\n",
    "\n",
    "\n",
    "df['puntuacionPistolaCategorico']=pd.cut(x=df['puntuacionPistola'], bins=[0,20,50,75,100], labels = ['malo','bueno','muy bueno','excelente'])\n",
    "# el 20 va incluido en 'malo' \n",
    "df['puntuacionFusilCategorico']=pd.cut(x=df['puntuacionFusil'], bins=[0,25,50,75,100], labels = ['malo','bueno','muy bueno','excelente'])\n",
    "df"
   ]
  },
  {
   "cell_type": "markdown",
   "id": "fa001ad2",
   "metadata": {},
   "source": [
    "Ejercicio FFAA: ¿Donde hay mas tiradores buenos en funcion de su experiencia? ¿Y si lo cruzaramos con su compania, cual es la conclusion que podriamos sacar?\n"
   ]
  },
  {
   "cell_type": "code",
   "execution_count": 314,
   "id": "ef9d937b",
   "metadata": {},
   "outputs": [],
   "source": [
    "# Por experiencia"
   ]
  },
  {
   "cell_type": "code",
   "execution_count": 315,
   "id": "0312865a",
   "metadata": {},
   "outputs": [
    {
     "data": {
      "text/html": [
       "<div>\n",
       "<style scoped>\n",
       "    .dataframe tbody tr th:only-of-type {\n",
       "        vertical-align: middle;\n",
       "    }\n",
       "\n",
       "    .dataframe tbody tr th {\n",
       "        vertical-align: top;\n",
       "    }\n",
       "\n",
       "    .dataframe thead th {\n",
       "        text-align: right;\n",
       "    }\n",
       "</style>\n",
       "<table border=\"1\" class=\"dataframe\">\n",
       "  <thead>\n",
       "    <tr style=\"text-align: right;\">\n",
       "      <th>puntuacionPistolaCategorico</th>\n",
       "      <th>malo</th>\n",
       "      <th>bueno</th>\n",
       "      <th>All</th>\n",
       "    </tr>\n",
       "    <tr>\n",
       "      <th>experiencia</th>\n",
       "      <th></th>\n",
       "      <th></th>\n",
       "      <th></th>\n",
       "    </tr>\n",
       "  </thead>\n",
       "  <tbody>\n",
       "    <tr>\n",
       "      <th>junior</th>\n",
       "      <td>4</td>\n",
       "      <td>2</td>\n",
       "      <td>6</td>\n",
       "    </tr>\n",
       "    <tr>\n",
       "      <th>veterano</th>\n",
       "      <td>4</td>\n",
       "      <td>2</td>\n",
       "      <td>6</td>\n",
       "    </tr>\n",
       "    <tr>\n",
       "      <th>All</th>\n",
       "      <td>8</td>\n",
       "      <td>4</td>\n",
       "      <td>12</td>\n",
       "    </tr>\n",
       "  </tbody>\n",
       "</table>\n",
       "</div>"
      ],
      "text/plain": [
       "puntuacionPistolaCategorico  malo  bueno  All\n",
       "experiencia                                  \n",
       "junior                          4      2    6\n",
       "veterano                        4      2    6\n",
       "All                             8      4   12"
      ]
     },
     "execution_count": 315,
     "metadata": {},
     "output_type": "execute_result"
    }
   ],
   "source": [
    "pd.crosstab( df['experiencia'], df['puntuacionPistolaCategorico']   , margins=True)"
   ]
  },
  {
   "cell_type": "markdown",
   "id": "3996a4de",
   "metadata": {},
   "source": [
    "Con pistola son igualmente malos tanto el grupo junior como el veterano."
   ]
  },
  {
   "cell_type": "code",
   "execution_count": 316,
   "id": "3df7dbbf",
   "metadata": {},
   "outputs": [
    {
     "data": {
      "text/html": [
       "<div>\n",
       "<style scoped>\n",
       "    .dataframe tbody tr th:only-of-type {\n",
       "        vertical-align: middle;\n",
       "    }\n",
       "\n",
       "    .dataframe tbody tr th {\n",
       "        vertical-align: top;\n",
       "    }\n",
       "\n",
       "    .dataframe thead th {\n",
       "        text-align: right;\n",
       "    }\n",
       "</style>\n",
       "<table border=\"1\" class=\"dataframe\">\n",
       "  <thead>\n",
       "    <tr style=\"text-align: right;\">\n",
       "      <th>puntuacionFusilCategorico</th>\n",
       "      <th>malo</th>\n",
       "      <th>muy bueno</th>\n",
       "      <th>excelente</th>\n",
       "      <th>All</th>\n",
       "    </tr>\n",
       "    <tr>\n",
       "      <th>experiencia</th>\n",
       "      <th></th>\n",
       "      <th></th>\n",
       "      <th></th>\n",
       "      <th></th>\n",
       "    </tr>\n",
       "  </thead>\n",
       "  <tbody>\n",
       "    <tr>\n",
       "      <th>junior</th>\n",
       "      <td>1</td>\n",
       "      <td>4</td>\n",
       "      <td>1</td>\n",
       "      <td>6</td>\n",
       "    </tr>\n",
       "    <tr>\n",
       "      <th>veterano</th>\n",
       "      <td>1</td>\n",
       "      <td>4</td>\n",
       "      <td>1</td>\n",
       "      <td>6</td>\n",
       "    </tr>\n",
       "    <tr>\n",
       "      <th>All</th>\n",
       "      <td>2</td>\n",
       "      <td>8</td>\n",
       "      <td>2</td>\n",
       "      <td>12</td>\n",
       "    </tr>\n",
       "  </tbody>\n",
       "</table>\n",
       "</div>"
      ],
      "text/plain": [
       "puntuacionFusilCategorico  malo  muy bueno  excelente  All\n",
       "experiencia                                               \n",
       "junior                        1          4          1    6\n",
       "veterano                      1          4          1    6\n",
       "All                           2          8          2   12"
      ]
     },
     "execution_count": 316,
     "metadata": {},
     "output_type": "execute_result"
    }
   ],
   "source": [
    "pd.crosstab( df['experiencia'], df['puntuacionFusilCategorico']   , margins=True)"
   ]
  },
  {
   "cell_type": "markdown",
   "id": "67de5c16",
   "metadata": {},
   "source": [
    "Tampoco hay diferencias en cuanto a la experiencia con el fusil. Hay tantos malos como buenos y excelentes en ambos perfiles de experiencia."
   ]
  },
  {
   "cell_type": "code",
   "execution_count": 317,
   "id": "875bdf91",
   "metadata": {},
   "outputs": [],
   "source": [
    "# Por compania"
   ]
  },
  {
   "cell_type": "code",
   "execution_count": 318,
   "id": "9bc9eb8a",
   "metadata": {},
   "outputs": [
    {
     "data": {
      "text/html": [
       "<div>\n",
       "<style scoped>\n",
       "    .dataframe tbody tr th:only-of-type {\n",
       "        vertical-align: middle;\n",
       "    }\n",
       "\n",
       "    .dataframe tbody tr th {\n",
       "        vertical-align: top;\n",
       "    }\n",
       "\n",
       "    .dataframe thead th {\n",
       "        text-align: right;\n",
       "    }\n",
       "</style>\n",
       "<table border=\"1\" class=\"dataframe\">\n",
       "  <thead>\n",
       "    <tr style=\"text-align: right;\">\n",
       "      <th></th>\n",
       "      <th>puntuacionPistolaCategorico</th>\n",
       "      <th>malo</th>\n",
       "      <th>bueno</th>\n",
       "      <th>All</th>\n",
       "    </tr>\n",
       "    <tr>\n",
       "      <th>compania</th>\n",
       "      <th>experiencia</th>\n",
       "      <th></th>\n",
       "      <th></th>\n",
       "      <th></th>\n",
       "    </tr>\n",
       "  </thead>\n",
       "  <tbody>\n",
       "    <tr>\n",
       "      <th rowspan=\"2\" valign=\"top\">infanteria</th>\n",
       "      <th>junior</th>\n",
       "      <td>2</td>\n",
       "      <td>1</td>\n",
       "      <td>3</td>\n",
       "    </tr>\n",
       "    <tr>\n",
       "      <th>veterano</th>\n",
       "      <td>3</td>\n",
       "      <td>0</td>\n",
       "      <td>3</td>\n",
       "    </tr>\n",
       "    <tr>\n",
       "      <th rowspan=\"2\" valign=\"top\">marina</th>\n",
       "      <th>junior</th>\n",
       "      <td>2</td>\n",
       "      <td>1</td>\n",
       "      <td>3</td>\n",
       "    </tr>\n",
       "    <tr>\n",
       "      <th>veterano</th>\n",
       "      <td>1</td>\n",
       "      <td>2</td>\n",
       "      <td>3</td>\n",
       "    </tr>\n",
       "    <tr>\n",
       "      <th>All</th>\n",
       "      <th></th>\n",
       "      <td>8</td>\n",
       "      <td>4</td>\n",
       "      <td>12</td>\n",
       "    </tr>\n",
       "  </tbody>\n",
       "</table>\n",
       "</div>"
      ],
      "text/plain": [
       "puntuacionPistolaCategorico  malo  bueno  All\n",
       "compania   experiencia                       \n",
       "infanteria junior               2      1    3\n",
       "           veterano             3      0    3\n",
       "marina     junior               2      1    3\n",
       "           veterano             1      2    3\n",
       "All                             8      4   12"
      ]
     },
     "execution_count": 318,
     "metadata": {},
     "output_type": "execute_result"
    }
   ],
   "source": [
    "pd.crosstab( [df['compania'], df['experiencia']], df['puntuacionPistolaCategorico']   , margins=True)"
   ]
  },
  {
   "cell_type": "code",
   "execution_count": 319,
   "id": "031badf4",
   "metadata": {},
   "outputs": [
    {
     "data": {
      "text/html": [
       "<div>\n",
       "<style scoped>\n",
       "    .dataframe tbody tr th:only-of-type {\n",
       "        vertical-align: middle;\n",
       "    }\n",
       "\n",
       "    .dataframe tbody tr th {\n",
       "        vertical-align: top;\n",
       "    }\n",
       "\n",
       "    .dataframe thead th {\n",
       "        text-align: right;\n",
       "    }\n",
       "</style>\n",
       "<table border=\"1\" class=\"dataframe\">\n",
       "  <thead>\n",
       "    <tr style=\"text-align: right;\">\n",
       "      <th></th>\n",
       "      <th>puntuacionFusilCategorico</th>\n",
       "      <th>malo</th>\n",
       "      <th>muy bueno</th>\n",
       "      <th>excelente</th>\n",
       "      <th>All</th>\n",
       "    </tr>\n",
       "    <tr>\n",
       "      <th>compania</th>\n",
       "      <th>experiencia</th>\n",
       "      <th></th>\n",
       "      <th></th>\n",
       "      <th></th>\n",
       "      <th></th>\n",
       "    </tr>\n",
       "  </thead>\n",
       "  <tbody>\n",
       "    <tr>\n",
       "      <th rowspan=\"2\" valign=\"top\">infanteria</th>\n",
       "      <th>junior</th>\n",
       "      <td>1</td>\n",
       "      <td>1</td>\n",
       "      <td>1</td>\n",
       "      <td>3</td>\n",
       "    </tr>\n",
       "    <tr>\n",
       "      <th>veterano</th>\n",
       "      <td>1</td>\n",
       "      <td>2</td>\n",
       "      <td>0</td>\n",
       "      <td>3</td>\n",
       "    </tr>\n",
       "    <tr>\n",
       "      <th rowspan=\"2\" valign=\"top\">marina</th>\n",
       "      <th>junior</th>\n",
       "      <td>0</td>\n",
       "      <td>3</td>\n",
       "      <td>0</td>\n",
       "      <td>3</td>\n",
       "    </tr>\n",
       "    <tr>\n",
       "      <th>veterano</th>\n",
       "      <td>0</td>\n",
       "      <td>2</td>\n",
       "      <td>1</td>\n",
       "      <td>3</td>\n",
       "    </tr>\n",
       "    <tr>\n",
       "      <th>All</th>\n",
       "      <th></th>\n",
       "      <td>2</td>\n",
       "      <td>8</td>\n",
       "      <td>2</td>\n",
       "      <td>12</td>\n",
       "    </tr>\n",
       "  </tbody>\n",
       "</table>\n",
       "</div>"
      ],
      "text/plain": [
       "puntuacionFusilCategorico  malo  muy bueno  excelente  All\n",
       "compania   experiencia                                    \n",
       "infanteria junior             1          1          1    3\n",
       "           veterano           1          2          0    3\n",
       "marina     junior             0          3          0    3\n",
       "           veterano           0          2          1    3\n",
       "All                           2          8          2   12"
      ]
     },
     "execution_count": 319,
     "metadata": {},
     "output_type": "execute_result"
    }
   ],
   "source": [
    "pd.crosstab( [df['compania'], df['experiencia']], df['puntuacionFusilCategorico']   , margins=True)"
   ]
  },
  {
   "cell_type": "code",
   "execution_count": 320,
   "id": "252f742b",
   "metadata": {},
   "outputs": [],
   "source": [
    "# Con pistola en Marina suelen ser mas buenos que en infanteria.\n",
    "# Con fusil, son mas buenos que malos. Hay mas buenos en marina que en infanteria.\n",
    "\n",
    "# Gente mala con fusil hay mas en infanteria.\n",
    "# Seria mejor coger gente de marina que de infanteria.\n"
   ]
  },
  {
   "cell_type": "markdown",
   "id": "e74700c0",
   "metadata": {},
   "source": [
    "#### Mas funciones estadisticas\n"
   ]
  },
  {
   "cell_type": "code",
   "execution_count": 321,
   "id": "e34b011e",
   "metadata": {},
   "outputs": [
    {
     "data": {
      "text/html": [
       "<div>\n",
       "<style scoped>\n",
       "    .dataframe tbody tr th:only-of-type {\n",
       "        vertical-align: middle;\n",
       "    }\n",
       "\n",
       "    .dataframe tbody tr th {\n",
       "        vertical-align: top;\n",
       "    }\n",
       "\n",
       "    .dataframe thead th {\n",
       "        text-align: right;\n",
       "    }\n",
       "</style>\n",
       "<table border=\"1\" class=\"dataframe\">\n",
       "  <thead>\n",
       "    <tr style=\"text-align: right;\">\n",
       "      <th></th>\n",
       "      <th>adidas</th>\n",
       "      <th>newbalance</th>\n",
       "      <th>puma</th>\n",
       "      <th>rebook</th>\n",
       "    </tr>\n",
       "  </thead>\n",
       "  <tbody>\n",
       "    <tr>\n",
       "      <th>2009</th>\n",
       "      <td>0</td>\n",
       "      <td>10</td>\n",
       "      <td>30</td>\n",
       "      <td>200</td>\n",
       "    </tr>\n",
       "    <tr>\n",
       "      <th>2010</th>\n",
       "      <td>5</td>\n",
       "      <td>20</td>\n",
       "      <td>100</td>\n",
       "      <td>10</td>\n",
       "    </tr>\n",
       "    <tr>\n",
       "      <th>2011</th>\n",
       "      <td>15</td>\n",
       "      <td>33</td>\n",
       "      <td>67</td>\n",
       "      <td>19</td>\n",
       "    </tr>\n",
       "    <tr>\n",
       "      <th>2012</th>\n",
       "      <td>35</td>\n",
       "      <td>27</td>\n",
       "      <td>77</td>\n",
       "      <td>10</td>\n",
       "    </tr>\n",
       "    <tr>\n",
       "      <th>2013</th>\n",
       "      <td>21</td>\n",
       "      <td>19</td>\n",
       "      <td>80</td>\n",
       "      <td>20</td>\n",
       "    </tr>\n",
       "    <tr>\n",
       "      <th>2014</th>\n",
       "      <td>15</td>\n",
       "      <td>25</td>\n",
       "      <td>120</td>\n",
       "      <td>29</td>\n",
       "    </tr>\n",
       "    <tr>\n",
       "      <th>2015</th>\n",
       "      <td>26</td>\n",
       "      <td>40</td>\n",
       "      <td>92</td>\n",
       "      <td>19</td>\n",
       "    </tr>\n",
       "    <tr>\n",
       "      <th>2016</th>\n",
       "      <td>8</td>\n",
       "      <td>52</td>\n",
       "      <td>91</td>\n",
       "      <td>41</td>\n",
       "    </tr>\n",
       "    <tr>\n",
       "      <th>2017</th>\n",
       "      <td>10</td>\n",
       "      <td>35</td>\n",
       "      <td>15</td>\n",
       "      <td>9</td>\n",
       "    </tr>\n",
       "    <tr>\n",
       "      <th>2018</th>\n",
       "      <td>11</td>\n",
       "      <td>33</td>\n",
       "      <td>23</td>\n",
       "      <td>11</td>\n",
       "    </tr>\n",
       "    <tr>\n",
       "      <th>2019</th>\n",
       "      <td>20</td>\n",
       "      <td>35</td>\n",
       "      <td>41</td>\n",
       "      <td>19</td>\n",
       "    </tr>\n",
       "    <tr>\n",
       "      <th>2020</th>\n",
       "      <td>30</td>\n",
       "      <td>12</td>\n",
       "      <td>35</td>\n",
       "      <td>20</td>\n",
       "    </tr>\n",
       "    <tr>\n",
       "      <th>2021</th>\n",
       "      <td>40</td>\n",
       "      <td>60</td>\n",
       "      <td>69</td>\n",
       "      <td>19</td>\n",
       "    </tr>\n",
       "    <tr>\n",
       "      <th>2022</th>\n",
       "      <td>100</td>\n",
       "      <td>33</td>\n",
       "      <td>60</td>\n",
       "      <td>30</td>\n",
       "    </tr>\n",
       "  </tbody>\n",
       "</table>\n",
       "</div>"
      ],
      "text/plain": [
       "      adidas  newbalance  puma  rebook\n",
       "2009       0          10    30     200\n",
       "2010       5          20   100      10\n",
       "2011      15          33    67      19\n",
       "2012      35          27    77      10\n",
       "2013      21          19    80      20\n",
       "2014      15          25   120      29\n",
       "2015      26          40    92      19\n",
       "2016       8          52    91      41\n",
       "2017      10          35    15       9\n",
       "2018      11          33    23      11\n",
       "2019      20          35    41      19\n",
       "2020      30          12    35      20\n",
       "2021      40          60    69      19\n",
       "2022     100          33    60      30"
      ]
     },
     "execution_count": 321,
     "metadata": {},
     "output_type": "execute_result"
    }
   ],
   "source": [
    "historico_stock"
   ]
  },
  {
   "cell_type": "code",
   "execution_count": 322,
   "id": "b26557dd",
   "metadata": {},
   "outputs": [
    {
     "data": {
      "text/plain": [
       "adidas        24.000000\n",
       "newbalance    31.000000\n",
       "puma          64.285714\n",
       "rebook        32.571429\n",
       "dtype: float64"
      ]
     },
     "execution_count": 322,
     "metadata": {},
     "output_type": "execute_result"
    }
   ],
   "source": [
    "historico_stock.mean(axis=0) # Media aritmetica por filas. Adidas y demas marcas son variables (columnas)"
   ]
  },
  {
   "cell_type": "code",
   "execution_count": 323,
   "id": "4ff6ca4b",
   "metadata": {},
   "outputs": [
    {
     "data": {
      "text/plain": [
       "2009    60.00\n",
       "2010    33.75\n",
       "2011    33.50\n",
       "2012    37.25\n",
       "2013    35.00\n",
       "2014    47.25\n",
       "2015    44.25\n",
       "2016    48.00\n",
       "2017    17.25\n",
       "2018    19.50\n",
       "2019    28.75\n",
       "2020    24.25\n",
       "2021    47.00\n",
       "2022    55.75\n",
       "dtype: float64"
      ]
     },
     "execution_count": 323,
     "metadata": {},
     "output_type": "execute_result"
    }
   ],
   "source": [
    "historico_stock.mean(axis=1) # Media aritmetica por columnas. \n",
    "# Los indices de fila representan los años. La media es de todas las marcas para cada año."
   ]
  },
  {
   "cell_type": "code",
   "execution_count": 324,
   "id": "1a762f4b",
   "metadata": {},
   "outputs": [
    {
     "data": {
      "text/plain": [
       "adidas        17.5\n",
       "newbalance    33.0\n",
       "puma          68.0\n",
       "rebook        19.0\n",
       "dtype: float64"
      ]
     },
     "execution_count": 324,
     "metadata": {},
     "output_type": "execute_result"
    }
   ],
   "source": [
    "historico_stock.median(axis=0) # Mediana "
   ]
  },
  {
   "cell_type": "code",
   "execution_count": 325,
   "id": "c874f9cf",
   "metadata": {},
   "outputs": [
    {
     "data": {
      "text/plain": [
       "2009    20.0\n",
       "2010    15.0\n",
       "2011    26.0\n",
       "2012    31.0\n",
       "2013    20.5\n",
       "2014    27.0\n",
       "2015    33.0\n",
       "2016    46.5\n",
       "2017    12.5\n",
       "2018    17.0\n",
       "2019    27.5\n",
       "2020    25.0\n",
       "2021    50.0\n",
       "2022    46.5\n",
       "dtype: float64"
      ]
     },
     "execution_count": 325,
     "metadata": {},
     "output_type": "execute_result"
    }
   ],
   "source": [
    "historico_stock.median(axis=1)"
   ]
  },
  {
   "cell_type": "code",
   "execution_count": 326,
   "id": "6f461379",
   "metadata": {},
   "outputs": [
    {
     "data": {
      "text/plain": [
       "adidas        100\n",
       "newbalance     60\n",
       "puma          120\n",
       "rebook        200\n",
       "dtype: int64"
      ]
     },
     "execution_count": 326,
     "metadata": {},
     "output_type": "execute_result"
    }
   ],
   "source": [
    "historico_stock.max(axis=0)"
   ]
  },
  {
   "cell_type": "code",
   "execution_count": 327,
   "id": "8daf1fe0",
   "metadata": {},
   "outputs": [
    {
     "data": {
      "text/plain": [
       "2009    200\n",
       "2010    100\n",
       "2011     67\n",
       "2012     77\n",
       "2013     80\n",
       "2014    120\n",
       "2015     92\n",
       "2016     91\n",
       "2017     35\n",
       "2018     33\n",
       "2019     41\n",
       "2020     35\n",
       "2021     69\n",
       "2022    100\n",
       "dtype: int64"
      ]
     },
     "execution_count": 327,
     "metadata": {},
     "output_type": "execute_result"
    }
   ],
   "source": [
    "historico_stock.max(axis=1)"
   ]
  },
  {
   "cell_type": "code",
   "execution_count": 328,
   "id": "7754259a",
   "metadata": {},
   "outputs": [
    {
     "data": {
      "text/plain": [
       "adidas         0\n",
       "newbalance    10\n",
       "puma          15\n",
       "rebook         9\n",
       "dtype: int64"
      ]
     },
     "execution_count": 328,
     "metadata": {},
     "output_type": "execute_result"
    }
   ],
   "source": [
    "historico_stock.min(axis=0)"
   ]
  },
  {
   "cell_type": "code",
   "execution_count": 329,
   "id": "f9fb1fbd",
   "metadata": {},
   "outputs": [
    {
     "data": {
      "text/html": [
       "<div>\n",
       "<style scoped>\n",
       "    .dataframe tbody tr th:only-of-type {\n",
       "        vertical-align: middle;\n",
       "    }\n",
       "\n",
       "    .dataframe tbody tr th {\n",
       "        vertical-align: top;\n",
       "    }\n",
       "\n",
       "    .dataframe thead th {\n",
       "        text-align: right;\n",
       "    }\n",
       "</style>\n",
       "<table border=\"1\" class=\"dataframe\">\n",
       "  <thead>\n",
       "    <tr style=\"text-align: right;\">\n",
       "      <th></th>\n",
       "      <th>adidas</th>\n",
       "      <th>newbalance</th>\n",
       "      <th>puma</th>\n",
       "      <th>rebook</th>\n",
       "    </tr>\n",
       "  </thead>\n",
       "  <tbody>\n",
       "    <tr>\n",
       "      <th>0</th>\n",
       "      <td>15.0</td>\n",
       "      <td>33.0</td>\n",
       "      <td>15</td>\n",
       "      <td>19.0</td>\n",
       "    </tr>\n",
       "    <tr>\n",
       "      <th>1</th>\n",
       "      <td>NaN</td>\n",
       "      <td>NaN</td>\n",
       "      <td>23</td>\n",
       "      <td>NaN</td>\n",
       "    </tr>\n",
       "    <tr>\n",
       "      <th>2</th>\n",
       "      <td>NaN</td>\n",
       "      <td>NaN</td>\n",
       "      <td>30</td>\n",
       "      <td>NaN</td>\n",
       "    </tr>\n",
       "    <tr>\n",
       "      <th>3</th>\n",
       "      <td>NaN</td>\n",
       "      <td>NaN</td>\n",
       "      <td>35</td>\n",
       "      <td>NaN</td>\n",
       "    </tr>\n",
       "    <tr>\n",
       "      <th>4</th>\n",
       "      <td>NaN</td>\n",
       "      <td>NaN</td>\n",
       "      <td>41</td>\n",
       "      <td>NaN</td>\n",
       "    </tr>\n",
       "    <tr>\n",
       "      <th>5</th>\n",
       "      <td>NaN</td>\n",
       "      <td>NaN</td>\n",
       "      <td>60</td>\n",
       "      <td>NaN</td>\n",
       "    </tr>\n",
       "    <tr>\n",
       "      <th>6</th>\n",
       "      <td>NaN</td>\n",
       "      <td>NaN</td>\n",
       "      <td>67</td>\n",
       "      <td>NaN</td>\n",
       "    </tr>\n",
       "    <tr>\n",
       "      <th>7</th>\n",
       "      <td>NaN</td>\n",
       "      <td>NaN</td>\n",
       "      <td>69</td>\n",
       "      <td>NaN</td>\n",
       "    </tr>\n",
       "    <tr>\n",
       "      <th>8</th>\n",
       "      <td>NaN</td>\n",
       "      <td>NaN</td>\n",
       "      <td>77</td>\n",
       "      <td>NaN</td>\n",
       "    </tr>\n",
       "    <tr>\n",
       "      <th>9</th>\n",
       "      <td>NaN</td>\n",
       "      <td>NaN</td>\n",
       "      <td>80</td>\n",
       "      <td>NaN</td>\n",
       "    </tr>\n",
       "    <tr>\n",
       "      <th>10</th>\n",
       "      <td>NaN</td>\n",
       "      <td>NaN</td>\n",
       "      <td>91</td>\n",
       "      <td>NaN</td>\n",
       "    </tr>\n",
       "    <tr>\n",
       "      <th>11</th>\n",
       "      <td>NaN</td>\n",
       "      <td>NaN</td>\n",
       "      <td>92</td>\n",
       "      <td>NaN</td>\n",
       "    </tr>\n",
       "    <tr>\n",
       "      <th>12</th>\n",
       "      <td>NaN</td>\n",
       "      <td>NaN</td>\n",
       "      <td>100</td>\n",
       "      <td>NaN</td>\n",
       "    </tr>\n",
       "    <tr>\n",
       "      <th>13</th>\n",
       "      <td>NaN</td>\n",
       "      <td>NaN</td>\n",
       "      <td>120</td>\n",
       "      <td>NaN</td>\n",
       "    </tr>\n",
       "  </tbody>\n",
       "</table>\n",
       "</div>"
      ],
      "text/plain": [
       "    adidas  newbalance  puma  rebook\n",
       "0     15.0        33.0    15    19.0\n",
       "1      NaN         NaN    23     NaN\n",
       "2      NaN         NaN    30     NaN\n",
       "3      NaN         NaN    35     NaN\n",
       "4      NaN         NaN    41     NaN\n",
       "5      NaN         NaN    60     NaN\n",
       "6      NaN         NaN    67     NaN\n",
       "7      NaN         NaN    69     NaN\n",
       "8      NaN         NaN    77     NaN\n",
       "9      NaN         NaN    80     NaN\n",
       "10     NaN         NaN    91     NaN\n",
       "11     NaN         NaN    92     NaN\n",
       "12     NaN         NaN   100     NaN\n",
       "13     NaN         NaN   120     NaN"
      ]
     },
     "execution_count": 329,
     "metadata": {},
     "output_type": "execute_result"
    }
   ],
   "source": [
    "historico_stock.mode(axis=0)   # la moda Con estos datos no tiene sentido porq no hay repetociones."
   ]
  },
  {
   "cell_type": "code",
   "execution_count": 330,
   "id": "73ee123e",
   "metadata": {},
   "outputs": [
    {
     "data": {
      "text/html": [
       "<div>\n",
       "<style scoped>\n",
       "    .dataframe tbody tr th:only-of-type {\n",
       "        vertical-align: middle;\n",
       "    }\n",
       "\n",
       "    .dataframe tbody tr th {\n",
       "        vertical-align: top;\n",
       "    }\n",
       "\n",
       "    .dataframe thead th {\n",
       "        text-align: right;\n",
       "    }\n",
       "</style>\n",
       "<table border=\"1\" class=\"dataframe\">\n",
       "  <thead>\n",
       "    <tr style=\"text-align: right;\">\n",
       "      <th></th>\n",
       "      <th>0</th>\n",
       "      <th>1</th>\n",
       "      <th>2</th>\n",
       "      <th>3</th>\n",
       "    </tr>\n",
       "  </thead>\n",
       "  <tbody>\n",
       "    <tr>\n",
       "      <th>2009</th>\n",
       "      <td>0.0</td>\n",
       "      <td>10.0</td>\n",
       "      <td>30.0</td>\n",
       "      <td>200.0</td>\n",
       "    </tr>\n",
       "    <tr>\n",
       "      <th>2010</th>\n",
       "      <td>5.0</td>\n",
       "      <td>10.0</td>\n",
       "      <td>20.0</td>\n",
       "      <td>100.0</td>\n",
       "    </tr>\n",
       "    <tr>\n",
       "      <th>2011</th>\n",
       "      <td>15.0</td>\n",
       "      <td>19.0</td>\n",
       "      <td>33.0</td>\n",
       "      <td>67.0</td>\n",
       "    </tr>\n",
       "    <tr>\n",
       "      <th>2012</th>\n",
       "      <td>10.0</td>\n",
       "      <td>27.0</td>\n",
       "      <td>35.0</td>\n",
       "      <td>77.0</td>\n",
       "    </tr>\n",
       "    <tr>\n",
       "      <th>2013</th>\n",
       "      <td>19.0</td>\n",
       "      <td>20.0</td>\n",
       "      <td>21.0</td>\n",
       "      <td>80.0</td>\n",
       "    </tr>\n",
       "    <tr>\n",
       "      <th>2014</th>\n",
       "      <td>15.0</td>\n",
       "      <td>25.0</td>\n",
       "      <td>29.0</td>\n",
       "      <td>120.0</td>\n",
       "    </tr>\n",
       "    <tr>\n",
       "      <th>2015</th>\n",
       "      <td>19.0</td>\n",
       "      <td>26.0</td>\n",
       "      <td>40.0</td>\n",
       "      <td>92.0</td>\n",
       "    </tr>\n",
       "    <tr>\n",
       "      <th>2016</th>\n",
       "      <td>8.0</td>\n",
       "      <td>41.0</td>\n",
       "      <td>52.0</td>\n",
       "      <td>91.0</td>\n",
       "    </tr>\n",
       "    <tr>\n",
       "      <th>2017</th>\n",
       "      <td>9.0</td>\n",
       "      <td>10.0</td>\n",
       "      <td>15.0</td>\n",
       "      <td>35.0</td>\n",
       "    </tr>\n",
       "    <tr>\n",
       "      <th>2018</th>\n",
       "      <td>11.0</td>\n",
       "      <td>NaN</td>\n",
       "      <td>NaN</td>\n",
       "      <td>NaN</td>\n",
       "    </tr>\n",
       "    <tr>\n",
       "      <th>2019</th>\n",
       "      <td>19.0</td>\n",
       "      <td>20.0</td>\n",
       "      <td>35.0</td>\n",
       "      <td>41.0</td>\n",
       "    </tr>\n",
       "    <tr>\n",
       "      <th>2020</th>\n",
       "      <td>12.0</td>\n",
       "      <td>20.0</td>\n",
       "      <td>30.0</td>\n",
       "      <td>35.0</td>\n",
       "    </tr>\n",
       "    <tr>\n",
       "      <th>2021</th>\n",
       "      <td>19.0</td>\n",
       "      <td>40.0</td>\n",
       "      <td>60.0</td>\n",
       "      <td>69.0</td>\n",
       "    </tr>\n",
       "    <tr>\n",
       "      <th>2022</th>\n",
       "      <td>30.0</td>\n",
       "      <td>33.0</td>\n",
       "      <td>60.0</td>\n",
       "      <td>100.0</td>\n",
       "    </tr>\n",
       "  </tbody>\n",
       "</table>\n",
       "</div>"
      ],
      "text/plain": [
       "         0     1     2      3\n",
       "2009   0.0  10.0  30.0  200.0\n",
       "2010   5.0  10.0  20.0  100.0\n",
       "2011  15.0  19.0  33.0   67.0\n",
       "2012  10.0  27.0  35.0   77.0\n",
       "2013  19.0  20.0  21.0   80.0\n",
       "2014  15.0  25.0  29.0  120.0\n",
       "2015  19.0  26.0  40.0   92.0\n",
       "2016   8.0  41.0  52.0   91.0\n",
       "2017   9.0  10.0  15.0   35.0\n",
       "2018  11.0   NaN   NaN    NaN\n",
       "2019  19.0  20.0  35.0   41.0\n",
       "2020  12.0  20.0  30.0   35.0\n",
       "2021  19.0  40.0  60.0   69.0\n",
       "2022  30.0  33.0  60.0  100.0"
      ]
     },
     "execution_count": 330,
     "metadata": {},
     "output_type": "execute_result"
    }
   ],
   "source": [
    "historico_stock.mode(axis=1) # esto tendria sentido si en las filas tenemos arrays en las variables entonce nos calcularia la moda dentro del array."
   ]
  },
  {
   "cell_type": "code",
   "execution_count": 331,
   "id": "31f79ab7",
   "metadata": {},
   "outputs": [
    {
     "data": {
      "text/html": [
       "<div>\n",
       "<style scoped>\n",
       "    .dataframe tbody tr th:only-of-type {\n",
       "        vertical-align: middle;\n",
       "    }\n",
       "\n",
       "    .dataframe tbody tr th {\n",
       "        vertical-align: top;\n",
       "    }\n",
       "\n",
       "    .dataframe thead th {\n",
       "        text-align: right;\n",
       "    }\n",
       "</style>\n",
       "<table border=\"1\" class=\"dataframe\">\n",
       "  <thead>\n",
       "    <tr style=\"text-align: right;\">\n",
       "      <th></th>\n",
       "      <th>adidas</th>\n",
       "      <th>newbalance</th>\n",
       "      <th>puma</th>\n",
       "      <th>rebook</th>\n",
       "    </tr>\n",
       "  </thead>\n",
       "  <tbody>\n",
       "    <tr>\n",
       "      <th>2009</th>\n",
       "      <td>0</td>\n",
       "      <td>10</td>\n",
       "      <td>30</td>\n",
       "      <td>200</td>\n",
       "    </tr>\n",
       "    <tr>\n",
       "      <th>2010</th>\n",
       "      <td>5</td>\n",
       "      <td>20</td>\n",
       "      <td>100</td>\n",
       "      <td>10</td>\n",
       "    </tr>\n",
       "    <tr>\n",
       "      <th>2011</th>\n",
       "      <td>15</td>\n",
       "      <td>33</td>\n",
       "      <td>67</td>\n",
       "      <td>19</td>\n",
       "    </tr>\n",
       "    <tr>\n",
       "      <th>2012</th>\n",
       "      <td>35</td>\n",
       "      <td>27</td>\n",
       "      <td>77</td>\n",
       "      <td>10</td>\n",
       "    </tr>\n",
       "    <tr>\n",
       "      <th>2013</th>\n",
       "      <td>21</td>\n",
       "      <td>19</td>\n",
       "      <td>80</td>\n",
       "      <td>20</td>\n",
       "    </tr>\n",
       "    <tr>\n",
       "      <th>2014</th>\n",
       "      <td>15</td>\n",
       "      <td>25</td>\n",
       "      <td>120</td>\n",
       "      <td>29</td>\n",
       "    </tr>\n",
       "    <tr>\n",
       "      <th>2015</th>\n",
       "      <td>26</td>\n",
       "      <td>40</td>\n",
       "      <td>92</td>\n",
       "      <td>19</td>\n",
       "    </tr>\n",
       "    <tr>\n",
       "      <th>2016</th>\n",
       "      <td>8</td>\n",
       "      <td>52</td>\n",
       "      <td>91</td>\n",
       "      <td>41</td>\n",
       "    </tr>\n",
       "    <tr>\n",
       "      <th>2017</th>\n",
       "      <td>10</td>\n",
       "      <td>35</td>\n",
       "      <td>15</td>\n",
       "      <td>9</td>\n",
       "    </tr>\n",
       "    <tr>\n",
       "      <th>2018</th>\n",
       "      <td>11</td>\n",
       "      <td>33</td>\n",
       "      <td>23</td>\n",
       "      <td>11</td>\n",
       "    </tr>\n",
       "    <tr>\n",
       "      <th>2019</th>\n",
       "      <td>20</td>\n",
       "      <td>35</td>\n",
       "      <td>41</td>\n",
       "      <td>19</td>\n",
       "    </tr>\n",
       "    <tr>\n",
       "      <th>2020</th>\n",
       "      <td>30</td>\n",
       "      <td>12</td>\n",
       "      <td>35</td>\n",
       "      <td>20</td>\n",
       "    </tr>\n",
       "    <tr>\n",
       "      <th>2021</th>\n",
       "      <td>40</td>\n",
       "      <td>60</td>\n",
       "      <td>69</td>\n",
       "      <td>19</td>\n",
       "    </tr>\n",
       "    <tr>\n",
       "      <th>2022</th>\n",
       "      <td>100</td>\n",
       "      <td>33</td>\n",
       "      <td>60</td>\n",
       "      <td>30</td>\n",
       "    </tr>\n",
       "  </tbody>\n",
       "</table>\n",
       "</div>"
      ],
      "text/plain": [
       "      adidas  newbalance  puma  rebook\n",
       "2009       0          10    30     200\n",
       "2010       5          20   100      10\n",
       "2011      15          33    67      19\n",
       "2012      35          27    77      10\n",
       "2013      21          19    80      20\n",
       "2014      15          25   120      29\n",
       "2015      26          40    92      19\n",
       "2016       8          52    91      41\n",
       "2017      10          35    15       9\n",
       "2018      11          33    23      11\n",
       "2019      20          35    41      19\n",
       "2020      30          12    35      20\n",
       "2021      40          60    69      19\n",
       "2022     100          33    60      30"
      ]
     },
     "execution_count": 331,
     "metadata": {},
     "output_type": "execute_result"
    }
   ],
   "source": [
    "historico_stock"
   ]
  },
  {
   "cell_type": "code",
   "execution_count": 332,
   "id": "3b133878",
   "metadata": {},
   "outputs": [
    {
     "data": {
      "text/plain": [
       "0    15\n",
       "Name: adidas, dtype: int64"
      ]
     },
     "execution_count": 332,
     "metadata": {},
     "output_type": "execute_result"
    }
   ],
   "source": [
    "historico_stock['adidas'].mode()\n",
    "# aqui se ve algo puesto que en adidas si que se repite el 15"
   ]
  },
  {
   "cell_type": "code",
   "execution_count": 333,
   "id": "bd928ed6",
   "metadata": {},
   "outputs": [
    {
     "data": {
      "text/plain": [
       "0    33\n",
       "Name: newbalance, dtype: int64"
      ]
     },
     "execution_count": 333,
     "metadata": {},
     "output_type": "execute_result"
    }
   ],
   "source": [
    "historico_stock['newbalance'].mode()"
   ]
  },
  {
   "cell_type": "code",
   "execution_count": 334,
   "id": "cee74d6e",
   "metadata": {},
   "outputs": [
    {
     "data": {
      "text/html": [
       "<div>\n",
       "<style scoped>\n",
       "    .dataframe tbody tr th:only-of-type {\n",
       "        vertical-align: middle;\n",
       "    }\n",
       "\n",
       "    .dataframe tbody tr th {\n",
       "        vertical-align: top;\n",
       "    }\n",
       "\n",
       "    .dataframe thead th {\n",
       "        text-align: right;\n",
       "    }\n",
       "</style>\n",
       "<table border=\"1\" class=\"dataframe\">\n",
       "  <thead>\n",
       "    <tr style=\"text-align: right;\">\n",
       "      <th></th>\n",
       "      <th>adidas</th>\n",
       "      <th>newbalance</th>\n",
       "      <th>puma</th>\n",
       "      <th>rebook</th>\n",
       "    </tr>\n",
       "  </thead>\n",
       "  <tbody>\n",
       "    <tr>\n",
       "      <th>0.00</th>\n",
       "      <td>0.00</td>\n",
       "      <td>10.00</td>\n",
       "      <td>15.00</td>\n",
       "      <td>9.00</td>\n",
       "    </tr>\n",
       "    <tr>\n",
       "      <th>0.25</th>\n",
       "      <td>10.25</td>\n",
       "      <td>21.25</td>\n",
       "      <td>36.50</td>\n",
       "      <td>13.00</td>\n",
       "    </tr>\n",
       "    <tr>\n",
       "      <th>0.50</th>\n",
       "      <td>17.50</td>\n",
       "      <td>33.00</td>\n",
       "      <td>68.00</td>\n",
       "      <td>19.00</td>\n",
       "    </tr>\n",
       "    <tr>\n",
       "      <th>0.75</th>\n",
       "      <td>29.00</td>\n",
       "      <td>35.00</td>\n",
       "      <td>88.25</td>\n",
       "      <td>26.75</td>\n",
       "    </tr>\n",
       "    <tr>\n",
       "      <th>1.00</th>\n",
       "      <td>100.00</td>\n",
       "      <td>60.00</td>\n",
       "      <td>120.00</td>\n",
       "      <td>200.00</td>\n",
       "    </tr>\n",
       "  </tbody>\n",
       "</table>\n",
       "</div>"
      ],
      "text/plain": [
       "      adidas  newbalance    puma  rebook\n",
       "0.00    0.00       10.00   15.00    9.00\n",
       "0.25   10.25       21.25   36.50   13.00\n",
       "0.50   17.50       33.00   68.00   19.00\n",
       "0.75   29.00       35.00   88.25   26.75\n",
       "1.00  100.00       60.00  120.00  200.00"
      ]
     },
     "execution_count": 334,
     "metadata": {},
     "output_type": "execute_result"
    }
   ],
   "source": [
    "historico_stock.quantile([0,.25,.50,.75,1]) # Percentiles "
   ]
  },
  {
   "cell_type": "code",
   "execution_count": 335,
   "id": "991f5e95",
   "metadata": {},
   "outputs": [
    {
     "data": {
      "text/html": [
       "<div>\n",
       "<style scoped>\n",
       "    .dataframe tbody tr th:only-of-type {\n",
       "        vertical-align: middle;\n",
       "    }\n",
       "\n",
       "    .dataframe tbody tr th {\n",
       "        vertical-align: top;\n",
       "    }\n",
       "\n",
       "    .dataframe thead th {\n",
       "        text-align: right;\n",
       "    }\n",
       "</style>\n",
       "<table border=\"1\" class=\"dataframe\">\n",
       "  <thead>\n",
       "    <tr style=\"text-align: right;\">\n",
       "      <th></th>\n",
       "      <th>2009</th>\n",
       "      <th>2010</th>\n",
       "      <th>2011</th>\n",
       "      <th>2012</th>\n",
       "      <th>2013</th>\n",
       "      <th>2014</th>\n",
       "      <th>2015</th>\n",
       "      <th>2016</th>\n",
       "      <th>2017</th>\n",
       "      <th>2018</th>\n",
       "      <th>2019</th>\n",
       "      <th>2020</th>\n",
       "      <th>2021</th>\n",
       "      <th>2022</th>\n",
       "    </tr>\n",
       "  </thead>\n",
       "  <tbody>\n",
       "    <tr>\n",
       "      <th>0.00</th>\n",
       "      <td>0.0</td>\n",
       "      <td>5.00</td>\n",
       "      <td>15.0</td>\n",
       "      <td>10.00</td>\n",
       "      <td>19.00</td>\n",
       "      <td>15.00</td>\n",
       "      <td>19.00</td>\n",
       "      <td>8.00</td>\n",
       "      <td>9.00</td>\n",
       "      <td>11.0</td>\n",
       "      <td>19.00</td>\n",
       "      <td>12.00</td>\n",
       "      <td>19.00</td>\n",
       "      <td>30.00</td>\n",
       "    </tr>\n",
       "    <tr>\n",
       "      <th>0.25</th>\n",
       "      <td>7.5</td>\n",
       "      <td>8.75</td>\n",
       "      <td>18.0</td>\n",
       "      <td>22.75</td>\n",
       "      <td>19.75</td>\n",
       "      <td>22.50</td>\n",
       "      <td>24.25</td>\n",
       "      <td>32.75</td>\n",
       "      <td>9.75</td>\n",
       "      <td>11.0</td>\n",
       "      <td>19.75</td>\n",
       "      <td>18.00</td>\n",
       "      <td>34.75</td>\n",
       "      <td>32.25</td>\n",
       "    </tr>\n",
       "    <tr>\n",
       "      <th>0.50</th>\n",
       "      <td>20.0</td>\n",
       "      <td>15.00</td>\n",
       "      <td>26.0</td>\n",
       "      <td>31.00</td>\n",
       "      <td>20.50</td>\n",
       "      <td>27.00</td>\n",
       "      <td>33.00</td>\n",
       "      <td>46.50</td>\n",
       "      <td>12.50</td>\n",
       "      <td>17.0</td>\n",
       "      <td>27.50</td>\n",
       "      <td>25.00</td>\n",
       "      <td>50.00</td>\n",
       "      <td>46.50</td>\n",
       "    </tr>\n",
       "    <tr>\n",
       "      <th>0.75</th>\n",
       "      <td>72.5</td>\n",
       "      <td>40.00</td>\n",
       "      <td>41.5</td>\n",
       "      <td>45.50</td>\n",
       "      <td>35.75</td>\n",
       "      <td>51.75</td>\n",
       "      <td>53.00</td>\n",
       "      <td>61.75</td>\n",
       "      <td>20.00</td>\n",
       "      <td>25.5</td>\n",
       "      <td>36.50</td>\n",
       "      <td>31.25</td>\n",
       "      <td>62.25</td>\n",
       "      <td>70.00</td>\n",
       "    </tr>\n",
       "    <tr>\n",
       "      <th>1.00</th>\n",
       "      <td>200.0</td>\n",
       "      <td>100.00</td>\n",
       "      <td>67.0</td>\n",
       "      <td>77.00</td>\n",
       "      <td>80.00</td>\n",
       "      <td>120.00</td>\n",
       "      <td>92.00</td>\n",
       "      <td>91.00</td>\n",
       "      <td>35.00</td>\n",
       "      <td>33.0</td>\n",
       "      <td>41.00</td>\n",
       "      <td>35.00</td>\n",
       "      <td>69.00</td>\n",
       "      <td>100.00</td>\n",
       "    </tr>\n",
       "  </tbody>\n",
       "</table>\n",
       "</div>"
      ],
      "text/plain": [
       "       2009    2010  2011   2012   2013    2014   2015   2016   2017  2018  \\\n",
       "0.00    0.0    5.00  15.0  10.00  19.00   15.00  19.00   8.00   9.00  11.0   \n",
       "0.25    7.5    8.75  18.0  22.75  19.75   22.50  24.25  32.75   9.75  11.0   \n",
       "0.50   20.0   15.00  26.0  31.00  20.50   27.00  33.00  46.50  12.50  17.0   \n",
       "0.75   72.5   40.00  41.5  45.50  35.75   51.75  53.00  61.75  20.00  25.5   \n",
       "1.00  200.0  100.00  67.0  77.00  80.00  120.00  92.00  91.00  35.00  33.0   \n",
       "\n",
       "       2019   2020   2021    2022  \n",
       "0.00  19.00  12.00  19.00   30.00  \n",
       "0.25  19.75  18.00  34.75   32.25  \n",
       "0.50  27.50  25.00  50.00   46.50  \n",
       "0.75  36.50  31.25  62.25   70.00  \n",
       "1.00  41.00  35.00  69.00  100.00  "
      ]
     },
     "execution_count": 335,
     "metadata": {},
     "output_type": "execute_result"
    }
   ],
   "source": [
    "historico_stock.quantile([0,.25,.50,.75,1], axis=1) "
   ]
  },
  {
   "cell_type": "code",
   "execution_count": 336,
   "id": "a349f793",
   "metadata": {},
   "outputs": [
    {
     "data": {
      "text/plain": [
       "adidas         610.615385\n",
       "newbalance     194.307692\n",
       "puma          1002.065934\n",
       "rebook        2401.186813\n",
       "dtype: float64"
      ]
     },
     "execution_count": 336,
     "metadata": {},
     "output_type": "execute_result"
    }
   ],
   "source": [
    "historico_stock.var(axis=0)   # varianza"
   ]
  },
  {
   "cell_type": "code",
   "execution_count": 337,
   "id": "1d067660",
   "metadata": {},
   "outputs": [
    {
     "data": {
      "text/plain": [
       "adidas        24.710633\n",
       "newbalance    13.939429\n",
       "puma          31.655425\n",
       "rebook        49.001906\n",
       "dtype: float64"
      ]
     },
     "execution_count": 337,
     "metadata": {},
     "output_type": "execute_result"
    }
   ],
   "source": [
    "historico_stock.std(axis=0) # representa cuan dispersos estan los valores de su media \n",
    "# Es la raiz cuadrada de la varianza"
   ]
  },
  {
   "cell_type": "markdown",
   "id": "54b7eda7",
   "metadata": {},
   "source": [
    "##### Correlacion\n",
    "\n",
    "* Coeficiente de Pearson determina el grado de relacion o dependencia LINEAL de una variable CUANTITATIVA respecto de otra.\n",
    "\n",
    "Los valores del coeficiente de Pearson indican:\n",
    "\n",
    "    * 0 a 0.3 son variables de correlacion lineal debil o inexistente\n",
    "    * 0.3 a 0.5 correlacion media\n",
    "    * 0.5 a 1 alta\n",
    "    \n",
    "    "
   ]
  },
  {
   "cell_type": "code",
   "execution_count": 338,
   "id": "351ac596",
   "metadata": {},
   "outputs": [
    {
     "data": {
      "text/plain": [
       "adidas        1.029610\n",
       "newbalance    0.449659\n",
       "puma          0.492418\n",
       "rebook        1.504444\n",
       "dtype: float64"
      ]
     },
     "execution_count": 338,
     "metadata": {},
     "output_type": "execute_result"
    }
   ],
   "source": [
    "def coefPearson(DF):\n",
    "\treturn abs(DF.std()/DF.mean())\n",
    "\n",
    "coefPearson(historico_stock)\n",
    "\n"
   ]
  },
  {
   "cell_type": "markdown",
   "id": "bb7538da",
   "metadata": {},
   "source": [
    "##### Asimetria de las variables\n",
    "\n",
    "* Funcion skew() asimetria segun Fisher.\n",
    "\n",
    "El valor de skew indica la simetria de la distribuicion de una variable respecto a la media aritmetica sin necesidad de graficar.\n",
    "\n",
    "Los rangos y significado de su resultado son:\n",
    "\n",
    "    * Asimetria a derecha o positiva (+): de 0,5 a 1 o inf \n",
    "    * Asimetria a izquierda o negativa (-): de -inf o -1 a -0,5 \n",
    "    * Simetrica de -0,5 a 0,5 (simetria perfecta = 0) \n",
    "    "
   ]
  },
  {
   "cell_type": "code",
   "execution_count": 339,
   "id": "92c50d01",
   "metadata": {},
   "outputs": [
    {
     "data": {
      "text/plain": [
       "adidas        2.458545\n",
       "newbalance    0.499389\n",
       "puma         -0.009359\n",
       "rebook        3.534320\n",
       "dtype: float64"
      ]
     },
     "execution_count": 339,
     "metadata": {},
     "output_type": "execute_result"
    }
   ],
   "source": [
    "historico_stock.skew() # da la asimetria de las variables \n"
   ]
  },
  {
   "cell_type": "markdown",
   "id": "dc7daa5e",
   "metadata": {},
   "source": [
    "##### Curtosis de las variables\n",
    "\n",
    "El valor de la curtosis (K) determina el grado de concentracion de los valores de una variable en la region central de la distribucion. Como se presentan los datos en relacion a su media.\n",
    "\n",
    "El significado de su resultado es:\n",
    "\n",
    "    * Leptocurtica > 3 (diagramas con curva alta y estrecha) Los valores estan proximos a la media.\n",
    "    * Mesocurtica = 3 (curva de altura media) Campana de Gauss cercano a 0 o 0.\n",
    "    * Platicurtica <3 (diagrama con curva baja y ancha) Los datos estan dispersos respecto a su media."
   ]
  },
  {
   "cell_type": "code",
   "execution_count": 340,
   "id": "30e4603e",
   "metadata": {},
   "outputs": [
    {
     "data": {
      "text/plain": [
       "adidas         7.335589\n",
       "newbalance     0.277559\n",
       "puma          -0.956566\n",
       "rebook        12.864247\n",
       "dtype: float64"
      ]
     },
     "execution_count": 340,
     "metadata": {},
     "output_type": "execute_result"
    }
   ],
   "source": [
    "historico_stock.kurtosis()"
   ]
  },
  {
   "cell_type": "markdown",
   "id": "d0630035",
   "metadata": {},
   "source": [
    "https://economipedia.com/definiciones/curtosis.html"
   ]
  },
  {
   "cell_type": "markdown",
   "id": "98ea2015",
   "metadata": {},
   "source": [
    "#### Covarianza: una variable explica a otra. \n",
    "\n",
    "La covarianza es baja cuando son proximos los valores.\n",
    "\n",
    "En el ejemplo si:\n",
    "\n",
    "* a.cov(b) = 0,85\n",
    "* b.cov(a) = 0,96\n",
    "\n",
    "Me quedo con b."
   ]
  },
  {
   "cell_type": "code",
   "execution_count": 342,
   "id": "8fc620d1",
   "metadata": {},
   "outputs": [
    {
     "data": {
      "text/plain": [
       "17.923076923076927"
      ]
     },
     "execution_count": 342,
     "metadata": {},
     "output_type": "execute_result"
    }
   ],
   "source": [
    "a=pd.Series(data=historico_stock['adidas'], index=historico_stock.index)\n",
    "b=pd.Series(data=historico_stock['puma'], index=historico_stock.index)\n",
    "a.cov(b) # con python"
   ]
  },
  {
   "cell_type": "code",
   "execution_count": 343,
   "id": "6da75711",
   "metadata": {},
   "outputs": [
    {
     "data": {
      "text/plain": [
       "array([[ 610.61538462,   17.92307692],\n",
       "       [  17.92307692, 1002.06593407]])"
      ]
     },
     "execution_count": 343,
     "metadata": {},
     "output_type": "execute_result"
    }
   ],
   "source": [
    "np.cov(a,b) # con numpy"
   ]
  },
  {
   "cell_type": "code",
   "execution_count": 344,
   "id": "4956a0a4",
   "metadata": {},
   "outputs": [
    {
     "data": {
      "text/html": [
       "<div>\n",
       "<style scoped>\n",
       "    .dataframe tbody tr th:only-of-type {\n",
       "        vertical-align: middle;\n",
       "    }\n",
       "\n",
       "    .dataframe tbody tr th {\n",
       "        vertical-align: top;\n",
       "    }\n",
       "\n",
       "    .dataframe thead th {\n",
       "        text-align: right;\n",
       "    }\n",
       "</style>\n",
       "<table border=\"1\" class=\"dataframe\">\n",
       "  <thead>\n",
       "    <tr style=\"text-align: right;\">\n",
       "      <th></th>\n",
       "      <th>adidas</th>\n",
       "      <th>newbalance</th>\n",
       "      <th>puma</th>\n",
       "      <th>rebook</th>\n",
       "    </tr>\n",
       "  </thead>\n",
       "  <tbody>\n",
       "    <tr>\n",
       "      <th>adidas</th>\n",
       "      <td>610.615385</td>\n",
       "      <td>63.615385</td>\n",
       "      <td>17.923077</td>\n",
       "      <td>-279.307692</td>\n",
       "    </tr>\n",
       "    <tr>\n",
       "      <th>newbalance</th>\n",
       "      <td>63.615385</td>\n",
       "      <td>194.307692</td>\n",
       "      <td>67.769231</td>\n",
       "      <td>-256.076923</td>\n",
       "    </tr>\n",
       "    <tr>\n",
       "      <th>puma</th>\n",
       "      <td>17.923077</td>\n",
       "      <td>67.769231</td>\n",
       "      <td>1002.065934</td>\n",
       "      <td>-364.175824</td>\n",
       "    </tr>\n",
       "    <tr>\n",
       "      <th>rebook</th>\n",
       "      <td>-279.307692</td>\n",
       "      <td>-256.076923</td>\n",
       "      <td>-364.175824</td>\n",
       "      <td>2401.186813</td>\n",
       "    </tr>\n",
       "  </tbody>\n",
       "</table>\n",
       "</div>"
      ],
      "text/plain": [
       "                adidas  newbalance         puma       rebook\n",
       "adidas      610.615385   63.615385    17.923077  -279.307692\n",
       "newbalance   63.615385  194.307692    67.769231  -256.076923\n",
       "puma         17.923077   67.769231  1002.065934  -364.175824\n",
       "rebook     -279.307692 -256.076923  -364.175824  2401.186813"
      ]
     },
     "execution_count": 344,
     "metadata": {},
     "output_type": "execute_result"
    }
   ],
   "source": [
    "# covarianza en dataframe\n",
    "historico_stock.cov()"
   ]
  },
  {
   "cell_type": "markdown",
   "id": "bde6a0aa",
   "metadata": {},
   "source": [
    "#### Correlacion  (otras medidas de correlacion):\n",
    "\n",
    "Correlacion y covarianza no son equivalentes. La correlacion puede ser alta cuando la covarianza es baja.\n",
    "\n",
    "Si la correlacion es alta las variables se explican entre ellas.\n",
    "\n",
    "    \n",
    "Correlacion de SPEARMAN para variables cuantitativas\n",
    "\n",
    "\n",
    "- Correlacion entre Series:\n",
    "    * con Python: a.corr(b)\n",
    "    * con Numpy: np.corrcoef(a,b)\n",
    "    \n",
    "    \n",
    "- Correlacion en dataframe:\n",
    "    * con python: historico_stock['puma'].corr(historico_stock['adidas'])\n",
    "    * con Numpy: np.corrcoef(historico_stock)\n",
    "\n",
    "\n",
    "NOTA: Para modelos de ML buscamos variables que tengan alta correlacion con la variable objetivo. \n",
    "Ademas las variables que se elijan tienen que tener poca correlacion entre ellas, puesto que si estan fuertemente correlacionadas una es redundante para el modelo. Si una explica a otra, me estaría sobrando. Esto se trabaja asi porque se intenta reducir el numero de variables que se incluyen en el modelo.\n"
   ]
  },
  {
   "cell_type": "code",
   "execution_count": 345,
   "id": "a84cce52",
   "metadata": {},
   "outputs": [
    {
     "data": {
      "text/plain": [
       "0.022912925787156164"
      ]
     },
     "execution_count": 345,
     "metadata": {},
     "output_type": "execute_result"
    }
   ],
   "source": [
    "# Series \n",
    "a.corr(b) # con Python"
   ]
  },
  {
   "cell_type": "code",
   "execution_count": 346,
   "id": "0e208e35",
   "metadata": {},
   "outputs": [
    {
     "data": {
      "text/plain": [
       "array([[1.        , 0.02291293],\n",
       "       [0.02291293, 1.        ]])"
      ]
     },
     "execution_count": 346,
     "metadata": {},
     "output_type": "execute_result"
    }
   ],
   "source": [
    "# Series\n",
    "np.corrcoef(a,b) # con Nunpy"
   ]
  },
  {
   "cell_type": "code",
   "execution_count": 347,
   "id": "d6dd30e1",
   "metadata": {},
   "outputs": [
    {
     "data": {
      "text/plain": [
       "0.022912925787156164"
      ]
     },
     "execution_count": 347,
     "metadata": {},
     "output_type": "execute_result"
    }
   ],
   "source": [
    "# En el dataframe\n",
    "historico_stock['puma'].corr(historico_stock['adidas']) # con python"
   ]
  },
  {
   "cell_type": "code",
   "execution_count": 348,
   "id": "dc6d36fc",
   "metadata": {},
   "outputs": [
    {
     "data": {
      "text/plain": [
       "0.022912925787156164"
      ]
     },
     "execution_count": 348,
     "metadata": {},
     "output_type": "execute_result"
    }
   ],
   "source": [
    "historico_stock['adidas'].corr(historico_stock['puma']) # con Python"
   ]
  },
  {
   "cell_type": "code",
   "execution_count": 349,
   "id": "4837c434",
   "metadata": {},
   "outputs": [
    {
     "data": {
      "text/plain": [
       "array([[ 1.        , -0.23015239, -0.28464619, -0.54199706, -0.21349863,\n",
       "        -0.12245221, -0.39250881, -0.0072403 , -0.44976302, -0.4861969 ,\n",
       "        -0.4906814 , -0.223931  , -0.76505887, -0.57292581],\n",
       "       [-0.23015239,  1.        ,  0.98121164,  0.91488834,  0.98607698,\n",
       "         0.99213948,  0.98397068,  0.89742724,  0.00693609,  0.34623   ,\n",
       "         0.82374278,  0.59364004,  0.72023828, -0.01526244],\n",
       "       [-0.28464619,  0.98121164,  1.        ,  0.87856732,  0.93635224,\n",
       "         0.95559908,  0.98529634,  0.93978079,  0.19727231,  0.51888307,\n",
       "         0.91401539,  0.44138265,  0.80244799, -0.12676841],\n",
       "       [-0.54199706,  0.91488834,  0.87856732,  1.        ,  0.93336451,\n",
       "         0.88403395,  0.94709522,  0.66659526, -0.02921329,  0.27694237,\n",
       "         0.75602242,  0.74701831,  0.79943921,  0.36238733],\n",
       "       [-0.21349863,  0.98607698,  0.93635224,  0.93336451,  1.        ,\n",
       "         0.99007075,  0.95932043,  0.82301111, -0.14661593,  0.1964334 ,\n",
       "         0.72926716,  0.71665898,  0.64877077,  0.11025368],\n",
       "       [-0.12245221,  0.99213948,  0.95559908,  0.88403395,  0.99007075,\n",
       "         1.        ,  0.95446566,  0.88851037, -0.09808382,  0.24614231,\n",
       "         0.75424036,  0.62863383,  0.62782888, -0.02981424],\n",
       "       [-0.39250881,  0.98397068,  0.98529634,  0.94709522,  0.95932043,\n",
       "         0.95446566,  1.        ,  0.86835744,  0.13142632,  0.45550999,\n",
       "         0.88796454,  0.55796631,  0.8303302 ,  0.04428344],\n",
       "       [-0.0072403 ,  0.89742724,  0.93978079,  0.66659526,  0.82301111,\n",
       "         0.88851037,  0.86835744,  1.        ,  0.25873718,  0.55339625,\n",
       "         0.86152461,  0.20189261,  0.64504082, -0.44977037],\n",
       "       [-0.44976302,  0.00693609,  0.19727231, -0.02921329, -0.14661593,\n",
       "        -0.09808382,  0.13142632,  0.25873718,  1.        ,  0.94039087,\n",
       "         0.56990775, -0.6644079 ,  0.57210458, -0.4423298 ],\n",
       "       [-0.4861969 ,  0.34623   ,  0.51888307,  0.27694237,  0.1964334 ,\n",
       "         0.24614231,  0.45550999,  0.55339625,  0.94039087,  1.        ,\n",
       "         0.81354064, -0.42876385,  0.77491387, -0.43451998],\n",
       "       [-0.4906814 ,  0.82374278,  0.91401539,  0.75602242,  0.72926716,\n",
       "         0.75424036,  0.88796454,  0.86152461,  0.56990775,  0.81354064,\n",
       "         1.        ,  0.13682021,  0.93557368, -0.21201438],\n",
       "       [-0.223931  ,  0.59364004,  0.44138265,  0.74701831,  0.71665898,\n",
       "         0.62863383,  0.55796631,  0.20189261, -0.6644079 , -0.42876385,\n",
       "         0.13682021,  1.        ,  0.22738242,  0.68828422],\n",
       "       [-0.76505887,  0.72023828,  0.80244799,  0.79943921,  0.64877077,\n",
       "         0.62782888,  0.8303302 ,  0.64504082,  0.57210458,  0.77491387,\n",
       "         0.93557368,  0.22738242,  1.        ,  0.09649766],\n",
       "       [-0.57292581, -0.01526244, -0.12676841,  0.36238733,  0.11025368,\n",
       "        -0.02981424,  0.04428344, -0.44977037, -0.4423298 , -0.43451998,\n",
       "        -0.21201438,  0.68828422,  0.09649766,  1.        ]])"
      ]
     },
     "execution_count": 349,
     "metadata": {},
     "output_type": "execute_result"
    }
   ],
   "source": [
    "np.corrcoef(historico_stock) # con Numpy"
   ]
  },
  {
   "cell_type": "markdown",
   "id": "d720eb5f",
   "metadata": {},
   "source": [
    "#### Funciones agregadas\n",
    "\n",
    "Permiten aplicar funciones estadisticas de bajo nivel (media, mediana, suma, moda, maximo, etc) al conjunto de filas de cada variable de un DF. "
   ]
  },
  {
   "cell_type": "code",
   "execution_count": 350,
   "id": "1e547682",
   "metadata": {},
   "outputs": [
    {
     "data": {
      "text/html": [
       "<div>\n",
       "<style scoped>\n",
       "    .dataframe tbody tr th:only-of-type {\n",
       "        vertical-align: middle;\n",
       "    }\n",
       "\n",
       "    .dataframe tbody tr th {\n",
       "        vertical-align: top;\n",
       "    }\n",
       "\n",
       "    .dataframe thead th {\n",
       "        text-align: right;\n",
       "    }\n",
       "</style>\n",
       "<table border=\"1\" class=\"dataframe\">\n",
       "  <thead>\n",
       "    <tr style=\"text-align: right;\">\n",
       "      <th></th>\n",
       "      <th>adidas</th>\n",
       "      <th>newbalance</th>\n",
       "      <th>puma</th>\n",
       "      <th>rebook</th>\n",
       "    </tr>\n",
       "  </thead>\n",
       "  <tbody>\n",
       "    <tr>\n",
       "      <th>min</th>\n",
       "      <td>0.0</td>\n",
       "      <td>10.0</td>\n",
       "      <td>15.000000</td>\n",
       "      <td>9.000000</td>\n",
       "    </tr>\n",
       "    <tr>\n",
       "      <th>max</th>\n",
       "      <td>100.0</td>\n",
       "      <td>60.0</td>\n",
       "      <td>120.000000</td>\n",
       "      <td>200.000000</td>\n",
       "    </tr>\n",
       "    <tr>\n",
       "      <th>sum</th>\n",
       "      <td>336.0</td>\n",
       "      <td>434.0</td>\n",
       "      <td>900.000000</td>\n",
       "      <td>456.000000</td>\n",
       "    </tr>\n",
       "    <tr>\n",
       "      <th>mean</th>\n",
       "      <td>24.0</td>\n",
       "      <td>31.0</td>\n",
       "      <td>64.285714</td>\n",
       "      <td>32.571429</td>\n",
       "    </tr>\n",
       "  </tbody>\n",
       "</table>\n",
       "</div>"
      ],
      "text/plain": [
       "      adidas  newbalance        puma      rebook\n",
       "min      0.0        10.0   15.000000    9.000000\n",
       "max    100.0        60.0  120.000000  200.000000\n",
       "sum    336.0       434.0  900.000000  456.000000\n",
       "mean    24.0        31.0   64.285714   32.571429"
      ]
     },
     "execution_count": 350,
     "metadata": {},
     "output_type": "execute_result"
    }
   ],
   "source": [
    "historico_stock.agg(['min', 'max','sum', 'mean'])\n",
    "# Algo similar a describe pero puedo personalizar con las funciones que necesite.\n",
    "# O limitarlo a las variables que quiera mostrar\n",
    "# y tambien incluir funciones propias"
   ]
  },
  {
   "cell_type": "code",
   "execution_count": 351,
   "id": "8ed5b41d",
   "metadata": {},
   "outputs": [
    {
     "data": {
      "text/html": [
       "<div>\n",
       "<style scoped>\n",
       "    .dataframe tbody tr th:only-of-type {\n",
       "        vertical-align: middle;\n",
       "    }\n",
       "\n",
       "    .dataframe tbody tr th {\n",
       "        vertical-align: top;\n",
       "    }\n",
       "\n",
       "    .dataframe thead th {\n",
       "        text-align: right;\n",
       "    }\n",
       "</style>\n",
       "<table border=\"1\" class=\"dataframe\">\n",
       "  <thead>\n",
       "    <tr style=\"text-align: right;\">\n",
       "      <th></th>\n",
       "      <th>adidas</th>\n",
       "      <th>puma</th>\n",
       "    </tr>\n",
       "  </thead>\n",
       "  <tbody>\n",
       "    <tr>\n",
       "      <th>min</th>\n",
       "      <td>0.00000</td>\n",
       "      <td>15.000000</td>\n",
       "    </tr>\n",
       "    <tr>\n",
       "      <th>max</th>\n",
       "      <td>100.00000</td>\n",
       "      <td>120.000000</td>\n",
       "    </tr>\n",
       "    <tr>\n",
       "      <th>sum</th>\n",
       "      <td>336.00000</td>\n",
       "      <td>900.000000</td>\n",
       "    </tr>\n",
       "    <tr>\n",
       "      <th>mean</th>\n",
       "      <td>24.00000</td>\n",
       "      <td>64.285714</td>\n",
       "    </tr>\n",
       "    <tr>\n",
       "      <th>coefPearson</th>\n",
       "      <td>1.02961</td>\n",
       "      <td>0.492418</td>\n",
       "    </tr>\n",
       "  </tbody>\n",
       "</table>\n",
       "</div>"
      ],
      "text/plain": [
       "                adidas        puma\n",
       "min            0.00000   15.000000\n",
       "max          100.00000  120.000000\n",
       "sum          336.00000  900.000000\n",
       "mean          24.00000   64.285714\n",
       "coefPearson    1.02961    0.492418"
      ]
     },
     "execution_count": 351,
     "metadata": {},
     "output_type": "execute_result"
    }
   ],
   "source": [
    "historico_stock[['adidas','puma']].agg(['min', 'max','sum', 'mean', coefPearson]) # funcion definida"
   ]
  },
  {
   "cell_type": "markdown",
   "id": "20541e6f",
   "metadata": {},
   "source": [
    "#### Ordenar en DFs "
   ]
  },
  {
   "cell_type": "code",
   "execution_count": 352,
   "id": "cc9e8cca",
   "metadata": {},
   "outputs": [
    {
     "data": {
      "text/html": [
       "<div>\n",
       "<style scoped>\n",
       "    .dataframe tbody tr th:only-of-type {\n",
       "        vertical-align: middle;\n",
       "    }\n",
       "\n",
       "    .dataframe tbody tr th {\n",
       "        vertical-align: top;\n",
       "    }\n",
       "\n",
       "    .dataframe thead th {\n",
       "        text-align: right;\n",
       "    }\n",
       "</style>\n",
       "<table border=\"1\" class=\"dataframe\">\n",
       "  <thead>\n",
       "    <tr style=\"text-align: right;\">\n",
       "      <th></th>\n",
       "      <th>adidas</th>\n",
       "      <th>newbalance</th>\n",
       "      <th>puma</th>\n",
       "      <th>rebook</th>\n",
       "    </tr>\n",
       "  </thead>\n",
       "  <tbody>\n",
       "    <tr>\n",
       "      <th>2017</th>\n",
       "      <td>10</td>\n",
       "      <td>35</td>\n",
       "      <td>15</td>\n",
       "      <td>9</td>\n",
       "    </tr>\n",
       "    <tr>\n",
       "      <th>2010</th>\n",
       "      <td>5</td>\n",
       "      <td>20</td>\n",
       "      <td>100</td>\n",
       "      <td>10</td>\n",
       "    </tr>\n",
       "    <tr>\n",
       "      <th>2012</th>\n",
       "      <td>35</td>\n",
       "      <td>27</td>\n",
       "      <td>77</td>\n",
       "      <td>10</td>\n",
       "    </tr>\n",
       "    <tr>\n",
       "      <th>2018</th>\n",
       "      <td>11</td>\n",
       "      <td>33</td>\n",
       "      <td>23</td>\n",
       "      <td>11</td>\n",
       "    </tr>\n",
       "    <tr>\n",
       "      <th>2011</th>\n",
       "      <td>15</td>\n",
       "      <td>33</td>\n",
       "      <td>67</td>\n",
       "      <td>19</td>\n",
       "    </tr>\n",
       "    <tr>\n",
       "      <th>2015</th>\n",
       "      <td>26</td>\n",
       "      <td>40</td>\n",
       "      <td>92</td>\n",
       "      <td>19</td>\n",
       "    </tr>\n",
       "    <tr>\n",
       "      <th>2019</th>\n",
       "      <td>20</td>\n",
       "      <td>35</td>\n",
       "      <td>41</td>\n",
       "      <td>19</td>\n",
       "    </tr>\n",
       "    <tr>\n",
       "      <th>2021</th>\n",
       "      <td>40</td>\n",
       "      <td>60</td>\n",
       "      <td>69</td>\n",
       "      <td>19</td>\n",
       "    </tr>\n",
       "    <tr>\n",
       "      <th>2013</th>\n",
       "      <td>21</td>\n",
       "      <td>19</td>\n",
       "      <td>80</td>\n",
       "      <td>20</td>\n",
       "    </tr>\n",
       "    <tr>\n",
       "      <th>2020</th>\n",
       "      <td>30</td>\n",
       "      <td>12</td>\n",
       "      <td>35</td>\n",
       "      <td>20</td>\n",
       "    </tr>\n",
       "    <tr>\n",
       "      <th>2014</th>\n",
       "      <td>15</td>\n",
       "      <td>25</td>\n",
       "      <td>120</td>\n",
       "      <td>29</td>\n",
       "    </tr>\n",
       "    <tr>\n",
       "      <th>2022</th>\n",
       "      <td>100</td>\n",
       "      <td>33</td>\n",
       "      <td>60</td>\n",
       "      <td>30</td>\n",
       "    </tr>\n",
       "    <tr>\n",
       "      <th>2016</th>\n",
       "      <td>8</td>\n",
       "      <td>52</td>\n",
       "      <td>91</td>\n",
       "      <td>41</td>\n",
       "    </tr>\n",
       "    <tr>\n",
       "      <th>2009</th>\n",
       "      <td>0</td>\n",
       "      <td>10</td>\n",
       "      <td>30</td>\n",
       "      <td>200</td>\n",
       "    </tr>\n",
       "  </tbody>\n",
       "</table>\n",
       "</div>"
      ],
      "text/plain": [
       "      adidas  newbalance  puma  rebook\n",
       "2017      10          35    15       9\n",
       "2010       5          20   100      10\n",
       "2012      35          27    77      10\n",
       "2018      11          33    23      11\n",
       "2011      15          33    67      19\n",
       "2015      26          40    92      19\n",
       "2019      20          35    41      19\n",
       "2021      40          60    69      19\n",
       "2013      21          19    80      20\n",
       "2020      30          12    35      20\n",
       "2014      15          25   120      29\n",
       "2022     100          33    60      30\n",
       "2016       8          52    91      41\n",
       "2009       0          10    30     200"
      ]
     },
     "execution_count": 352,
     "metadata": {},
     "output_type": "execute_result"
    }
   ],
   "source": [
    "historico_stock.sort_values(by='rebook', ascending =True)"
   ]
  },
  {
   "cell_type": "code",
   "execution_count": 353,
   "id": "a4d875cf",
   "metadata": {},
   "outputs": [
    {
     "data": {
      "text/html": [
       "<div>\n",
       "<style scoped>\n",
       "    .dataframe tbody tr th:only-of-type {\n",
       "        vertical-align: middle;\n",
       "    }\n",
       "\n",
       "    .dataframe tbody tr th {\n",
       "        vertical-align: top;\n",
       "    }\n",
       "\n",
       "    .dataframe thead th {\n",
       "        text-align: right;\n",
       "    }\n",
       "</style>\n",
       "<table border=\"1\" class=\"dataframe\">\n",
       "  <thead>\n",
       "    <tr style=\"text-align: right;\">\n",
       "      <th></th>\n",
       "      <th>adidas</th>\n",
       "      <th>newbalance</th>\n",
       "      <th>puma</th>\n",
       "      <th>rebook</th>\n",
       "    </tr>\n",
       "  </thead>\n",
       "  <tbody>\n",
       "    <tr>\n",
       "      <th>2009</th>\n",
       "      <td>0</td>\n",
       "      <td>10</td>\n",
       "      <td>30</td>\n",
       "      <td>200</td>\n",
       "    </tr>\n",
       "    <tr>\n",
       "      <th>2010</th>\n",
       "      <td>5</td>\n",
       "      <td>20</td>\n",
       "      <td>100</td>\n",
       "      <td>10</td>\n",
       "    </tr>\n",
       "    <tr>\n",
       "      <th>2016</th>\n",
       "      <td>8</td>\n",
       "      <td>52</td>\n",
       "      <td>91</td>\n",
       "      <td>41</td>\n",
       "    </tr>\n",
       "    <tr>\n",
       "      <th>2017</th>\n",
       "      <td>10</td>\n",
       "      <td>35</td>\n",
       "      <td>15</td>\n",
       "      <td>9</td>\n",
       "    </tr>\n",
       "    <tr>\n",
       "      <th>2018</th>\n",
       "      <td>11</td>\n",
       "      <td>33</td>\n",
       "      <td>23</td>\n",
       "      <td>11</td>\n",
       "    </tr>\n",
       "    <tr>\n",
       "      <th>2014</th>\n",
       "      <td>15</td>\n",
       "      <td>25</td>\n",
       "      <td>120</td>\n",
       "      <td>29</td>\n",
       "    </tr>\n",
       "    <tr>\n",
       "      <th>2011</th>\n",
       "      <td>15</td>\n",
       "      <td>33</td>\n",
       "      <td>67</td>\n",
       "      <td>19</td>\n",
       "    </tr>\n",
       "    <tr>\n",
       "      <th>2019</th>\n",
       "      <td>20</td>\n",
       "      <td>35</td>\n",
       "      <td>41</td>\n",
       "      <td>19</td>\n",
       "    </tr>\n",
       "    <tr>\n",
       "      <th>2013</th>\n",
       "      <td>21</td>\n",
       "      <td>19</td>\n",
       "      <td>80</td>\n",
       "      <td>20</td>\n",
       "    </tr>\n",
       "    <tr>\n",
       "      <th>2015</th>\n",
       "      <td>26</td>\n",
       "      <td>40</td>\n",
       "      <td>92</td>\n",
       "      <td>19</td>\n",
       "    </tr>\n",
       "    <tr>\n",
       "      <th>2020</th>\n",
       "      <td>30</td>\n",
       "      <td>12</td>\n",
       "      <td>35</td>\n",
       "      <td>20</td>\n",
       "    </tr>\n",
       "    <tr>\n",
       "      <th>2012</th>\n",
       "      <td>35</td>\n",
       "      <td>27</td>\n",
       "      <td>77</td>\n",
       "      <td>10</td>\n",
       "    </tr>\n",
       "    <tr>\n",
       "      <th>2021</th>\n",
       "      <td>40</td>\n",
       "      <td>60</td>\n",
       "      <td>69</td>\n",
       "      <td>19</td>\n",
       "    </tr>\n",
       "    <tr>\n",
       "      <th>2022</th>\n",
       "      <td>100</td>\n",
       "      <td>33</td>\n",
       "      <td>60</td>\n",
       "      <td>30</td>\n",
       "    </tr>\n",
       "  </tbody>\n",
       "</table>\n",
       "</div>"
      ],
      "text/plain": [
       "      adidas  newbalance  puma  rebook\n",
       "2009       0          10    30     200\n",
       "2010       5          20   100      10\n",
       "2016       8          52    91      41\n",
       "2017      10          35    15       9\n",
       "2018      11          33    23      11\n",
       "2014      15          25   120      29\n",
       "2011      15          33    67      19\n",
       "2019      20          35    41      19\n",
       "2013      21          19    80      20\n",
       "2015      26          40    92      19\n",
       "2020      30          12    35      20\n",
       "2012      35          27    77      10\n",
       "2021      40          60    69      19\n",
       "2022     100          33    60      30"
      ]
     },
     "execution_count": 353,
     "metadata": {},
     "output_type": "execute_result"
    }
   ],
   "source": [
    "historico_stock.sort_values(by=['adidas','puma'], ascending =[True,False])"
   ]
  },
  {
   "cell_type": "markdown",
   "id": "a9abc344",
   "metadata": {},
   "source": [
    "#### Funciones para el Tratamiento de strings.\n",
    "\n",
    "\n",
    "    Métodos de transformacion:\n",
    "        - lower() pasa a minuscula\n",
    "        - upper() pasa a mayuscula\n",
    "        - capitalize() primera letra a mayuscula\n",
    "        - title() primera letra de cada palabra a mayuscula (apitalize de cada palabra)\n",
    "        - swapcase() cambia mayusculas por minusculas y viceversa\n",
    "        - strip() quita espacios en blanco al comienzo y al final\n",
    "        - lstrp() quita espacios a izquierda (comienzo)\n",
    "        - rstrip() quita espacios a derecha (final)\n",
    "    Métodos de condicion:\n",
    "        - islower() si todo es minuscula\n",
    "        - isupper() si todo es mayuscula\n",
    "        - istitle() si primera letra de cada palabra es mayuscula y resto minuscula\n",
    "        - startswith('letra/cadena') condicion: indica si la cadena comienza con la letra/cadena indicada como argumento\n",
    "        \n",
    "* Cuando se aplican sobre un DF, hay que hacer previamente la cohercion a string. Ej: .str.upper(). \n",
    "    (recordar que en DF los caracteres son object)"
   ]
  },
  {
   "cell_type": "code",
   "execution_count": 322,
   "id": "9f126b40",
   "metadata": {},
   "outputs": [],
   "source": [
    "dfPersonas=pd.DataFrame(data={'nombre':['Jose lopez', 'MARTIN echenique', 'mercedes Moran', 'NURya rOCA'],\n",
    "                  'edad':[37,45,16,17],\n",
    "                  'provincia':['mADRID','Barcelona','Tarragona','sevilla'],\n",
    "                  'codigoPostal':[28010,83105,88400,45999]})"
   ]
  },
  {
   "cell_type": "code",
   "execution_count": 368,
   "id": "e12ae147",
   "metadata": {},
   "outputs": [
    {
     "data": {
      "text/html": [
       "<div>\n",
       "<style scoped>\n",
       "    .dataframe tbody tr th:only-of-type {\n",
       "        vertical-align: middle;\n",
       "    }\n",
       "\n",
       "    .dataframe tbody tr th {\n",
       "        vertical-align: top;\n",
       "    }\n",
       "\n",
       "    .dataframe thead th {\n",
       "        text-align: right;\n",
       "    }\n",
       "</style>\n",
       "<table border=\"1\" class=\"dataframe\">\n",
       "  <thead>\n",
       "    <tr style=\"text-align: right;\">\n",
       "      <th></th>\n",
       "      <th>nombre</th>\n",
       "      <th>edad</th>\n",
       "      <th>provincia</th>\n",
       "      <th>codigoPostal</th>\n",
       "    </tr>\n",
       "  </thead>\n",
       "  <tbody>\n",
       "    <tr>\n",
       "      <th>0</th>\n",
       "      <td>Jose lopez</td>\n",
       "      <td>37</td>\n",
       "      <td>mADRID</td>\n",
       "      <td>28010</td>\n",
       "    </tr>\n",
       "    <tr>\n",
       "      <th>1</th>\n",
       "      <td>MARTIN echenique</td>\n",
       "      <td>45</td>\n",
       "      <td>Barcelona</td>\n",
       "      <td>83105</td>\n",
       "    </tr>\n",
       "    <tr>\n",
       "      <th>2</th>\n",
       "      <td>mercedes Moran</td>\n",
       "      <td>16</td>\n",
       "      <td>Tarragona</td>\n",
       "      <td>88400</td>\n",
       "    </tr>\n",
       "    <tr>\n",
       "      <th>3</th>\n",
       "      <td>NURya rOCA</td>\n",
       "      <td>17</td>\n",
       "      <td>sevilla</td>\n",
       "      <td>45999</td>\n",
       "    </tr>\n",
       "  </tbody>\n",
       "</table>\n",
       "</div>"
      ],
      "text/plain": [
       "             nombre  edad  provincia  codigoPostal\n",
       "0        Jose lopez    37     mADRID         28010\n",
       "1  MARTIN echenique    45  Barcelona         83105\n",
       "2    mercedes Moran    16  Tarragona         88400\n",
       "3        NURya rOCA    17    sevilla         45999"
      ]
     },
     "execution_count": 368,
     "metadata": {},
     "output_type": "execute_result"
    }
   ],
   "source": [
    "dfPersonas"
   ]
  },
  {
   "cell_type": "code",
   "execution_count": 323,
   "id": "cc61a9ab",
   "metadata": {},
   "outputs": [
    {
     "data": {
      "text/plain": [
       "0          jose lopez\n",
       "1    martin echenique\n",
       "2      mercedes moran\n",
       "3          nurya roca\n",
       "Name: nombre, dtype: object"
      ]
     },
     "execution_count": 323,
     "metadata": {},
     "output_type": "execute_result"
    }
   ],
   "source": [
    "dfPersonas['nombre'].str.lower() # pasa a minusculas SOLO VISUALIZACION SI QUIERO CAMBIAR TENGO QUE ASIGNARLO A LA VAR"
   ]
  },
  {
   "cell_type": "code",
   "execution_count": 324,
   "id": "baa744d0",
   "metadata": {},
   "outputs": [
    {
     "data": {
      "text/plain": [
       "0          JOSE LOPEZ\n",
       "1    MARTIN ECHENIQUE\n",
       "2      MERCEDES MORAN\n",
       "3          NURYA ROCA\n",
       "Name: nombre, dtype: object"
      ]
     },
     "execution_count": 324,
     "metadata": {},
     "output_type": "execute_result"
    }
   ],
   "source": [
    "dfPersonas['nombre'].str.upper() # pasa a mayusculas SOLO VISUALIZACION"
   ]
  },
  {
   "cell_type": "code",
   "execution_count": 325,
   "id": "543df48c",
   "metadata": {},
   "outputs": [
    {
     "data": {
      "text/plain": [
       "0          Jose lopez\n",
       "1    Martin echenique\n",
       "2      Mercedes moran\n",
       "3          Nurya roca\n",
       "Name: nombre, dtype: object"
      ]
     },
     "execution_count": 325,
     "metadata": {},
     "output_type": "execute_result"
    }
   ],
   "source": [
    "dfPersonas['nombre'].str.capitalize() # solo capitaliza la primera palabra"
   ]
  },
  {
   "cell_type": "code",
   "execution_count": 326,
   "id": "10f702d7",
   "metadata": {},
   "outputs": [
    {
     "data": {
      "text/plain": [
       "0          Jose Lopez\n",
       "1    Martin Echenique\n",
       "2      Mercedes Moran\n",
       "3          Nurya Roca\n",
       "Name: nombre, dtype: object"
      ]
     },
     "execution_count": 326,
     "metadata": {},
     "output_type": "execute_result"
    }
   ],
   "source": [
    "dfPersonas['nombre'].str.title() # asi mejor"
   ]
  },
  {
   "cell_type": "code",
   "execution_count": 367,
   "id": "26054171",
   "metadata": {},
   "outputs": [
    {
     "data": {
      "text/plain": [
       "0          jOSE LOPEZ\n",
       "1    martin ECHENIQUE\n",
       "2      MERCEDES mORAN\n",
       "3          nurYA Roca\n",
       "Name: nombre, dtype: object"
      ]
     },
     "execution_count": 367,
     "metadata": {},
     "output_type": "execute_result"
    }
   ],
   "source": [
    "dfPersonas['nombre'].str.swapcase() # cambia mayusculas/minusculas "
   ]
  },
  {
   "cell_type": "code",
   "execution_count": 327,
   "id": "3709c19a",
   "metadata": {},
   "outputs": [
    {
     "data": {
      "text/plain": [
       "0          Jose lopez\n",
       "1    MARTIN echenique\n",
       "2      mercedes Moran\n",
       "3          NURya rOCA\n",
       "Name: nombre, dtype: object"
      ]
     },
     "execution_count": 327,
     "metadata": {},
     "output_type": "execute_result"
    }
   ],
   "source": [
    "dfPersonas['nombre'].str.strip() # quita espacios delante y detras SOLO VISUALIZACION"
   ]
  },
  {
   "cell_type": "code",
   "execution_count": 328,
   "id": "a87c8c4d",
   "metadata": {},
   "outputs": [
    {
     "data": {
      "text/plain": [
       "0          Jose lopez\n",
       "1    MARTIN echenique\n",
       "2      mercedes Moran\n",
       "3          NURya rOCA\n",
       "Name: nombre, dtype: object"
      ]
     },
     "execution_count": 328,
     "metadata": {},
     "output_type": "execute_result"
    }
   ],
   "source": [
    "dfPersonas['nombre'].str.lstrip() # quita espacios delante"
   ]
  },
  {
   "cell_type": "code",
   "execution_count": 329,
   "id": "19788bc5",
   "metadata": {},
   "outputs": [
    {
     "data": {
      "text/plain": [
       "0          Jose lopez\n",
       "1    MARTIN echenique\n",
       "2      mercedes Moran\n",
       "3          NURya rOCA\n",
       "Name: nombre, dtype: object"
      ]
     },
     "execution_count": 329,
     "metadata": {},
     "output_type": "execute_result"
    }
   ],
   "source": [
    "dfPersonas['nombre'].str.rstrip() # quita espacios atras"
   ]
  },
  {
   "cell_type": "code",
   "execution_count": 358,
   "id": "5f7e106d",
   "metadata": {},
   "outputs": [
    {
     "data": {
      "text/plain": [
       "0        JOSE\n",
       "1      MARTIN\n",
       "2    MERCEDES\n",
       "3       NURYA\n",
       "Name: nombre, dtype: object"
      ]
     },
     "execution_count": 358,
     "metadata": {},
     "output_type": "execute_result"
    }
   ],
   "source": [
    "dfPersonas['nombre'].str.strip().str.upper() # strip anidado con upper"
   ]
  },
  {
   "cell_type": "code",
   "execution_count": 362,
   "id": "209f001a",
   "metadata": {},
   "outputs": [
    {
     "data": {
      "text/plain": [
       "0    False\n",
       "1    False\n",
       "2    False\n",
       "3    False\n",
       "Name: nombre, dtype: bool"
      ]
     },
     "execution_count": 362,
     "metadata": {},
     "output_type": "execute_result"
    }
   ],
   "source": [
    "dfPersonas['nombre'].str.isupper()"
   ]
  },
  {
   "cell_type": "code",
   "execution_count": 363,
   "id": "8a181590",
   "metadata": {},
   "outputs": [
    {
     "data": {
      "text/plain": [
       "0    False\n",
       "1    False\n",
       "2    False\n",
       "3    False\n",
       "Name: nombre, dtype: bool"
      ]
     },
     "execution_count": 363,
     "metadata": {},
     "output_type": "execute_result"
    }
   ],
   "source": [
    "dfPersonas['nombre'].str.islower()"
   ]
  },
  {
   "cell_type": "code",
   "execution_count": 364,
   "id": "cf4c6db8",
   "metadata": {},
   "outputs": [
    {
     "data": {
      "text/plain": [
       "0    False\n",
       "1    False\n",
       "2    False\n",
       "3    False\n",
       "Name: nombre, dtype: bool"
      ]
     },
     "execution_count": 364,
     "metadata": {},
     "output_type": "execute_result"
    }
   ],
   "source": [
    "dfPersonas['nombre'].str.istitle()"
   ]
  },
  {
   "cell_type": "code",
   "execution_count": 342,
   "id": "49a533d2",
   "metadata": {},
   "outputs": [
    {
     "data": {
      "text/html": [
       "<div>\n",
       "<style scoped>\n",
       "    .dataframe tbody tr th:only-of-type {\n",
       "        vertical-align: middle;\n",
       "    }\n",
       "\n",
       "    .dataframe tbody tr th {\n",
       "        vertical-align: top;\n",
       "    }\n",
       "\n",
       "    .dataframe thead th {\n",
       "        text-align: right;\n",
       "    }\n",
       "</style>\n",
       "<table border=\"1\" class=\"dataframe\">\n",
       "  <thead>\n",
       "    <tr style=\"text-align: right;\">\n",
       "      <th></th>\n",
       "      <th>nombre</th>\n",
       "    </tr>\n",
       "  </thead>\n",
       "  <tbody>\n",
       "    <tr>\n",
       "      <th>1</th>\n",
       "      <td>MARTIN echenique</td>\n",
       "    </tr>\n",
       "  </tbody>\n",
       "</table>\n",
       "</div>"
      ],
      "text/plain": [
       "             nombre\n",
       "1  MARTIN echenique"
      ]
     },
     "execution_count": 342,
     "metadata": {},
     "output_type": "execute_result"
    }
   ],
   "source": [
    "dfPersonas[dfPersonas['nombre'].str.startswith('M')][['nombre']] # comienzo con caracter (hay otro con m)"
   ]
  },
  {
   "cell_type": "code",
   "execution_count": 366,
   "id": "77e6612e",
   "metadata": {},
   "outputs": [
    {
     "data": {
      "text/html": [
       "<div>\n",
       "<style scoped>\n",
       "    .dataframe tbody tr th:only-of-type {\n",
       "        vertical-align: middle;\n",
       "    }\n",
       "\n",
       "    .dataframe tbody tr th {\n",
       "        vertical-align: top;\n",
       "    }\n",
       "\n",
       "    .dataframe thead th {\n",
       "        text-align: right;\n",
       "    }\n",
       "</style>\n",
       "<table border=\"1\" class=\"dataframe\">\n",
       "  <thead>\n",
       "    <tr style=\"text-align: right;\">\n",
       "      <th></th>\n",
       "      <th>nombre</th>\n",
       "    </tr>\n",
       "  </thead>\n",
       "  <tbody>\n",
       "    <tr>\n",
       "      <th>1</th>\n",
       "      <td>MARTIN echenique</td>\n",
       "    </tr>\n",
       "  </tbody>\n",
       "</table>\n",
       "</div>"
      ],
      "text/plain": [
       "             nombre\n",
       "1  MARTIN echenique"
      ]
     },
     "execution_count": 366,
     "metadata": {},
     "output_type": "execute_result"
    }
   ],
   "source": [
    "dfPersonas[dfPersonas['nombre'].str.startswith('MARTIN')][['nombre']] # comienzo con cadena"
   ]
  },
  {
   "cell_type": "code",
   "execution_count": 340,
   "id": "fda485fc",
   "metadata": {},
   "outputs": [
    {
     "data": {
      "text/html": [
       "<div>\n",
       "<style scoped>\n",
       "    .dataframe tbody tr th:only-of-type {\n",
       "        vertical-align: middle;\n",
       "    }\n",
       "\n",
       "    .dataframe tbody tr th {\n",
       "        vertical-align: top;\n",
       "    }\n",
       "\n",
       "    .dataframe thead th {\n",
       "        text-align: right;\n",
       "    }\n",
       "</style>\n",
       "<table border=\"1\" class=\"dataframe\">\n",
       "  <thead>\n",
       "    <tr style=\"text-align: right;\">\n",
       "      <th></th>\n",
       "      <th>nombre</th>\n",
       "    </tr>\n",
       "  </thead>\n",
       "  <tbody>\n",
       "    <tr>\n",
       "      <th>1</th>\n",
       "      <td>MARTIN echenique</td>\n",
       "    </tr>\n",
       "    <tr>\n",
       "      <th>2</th>\n",
       "      <td>mercedes Moran</td>\n",
       "    </tr>\n",
       "  </tbody>\n",
       "</table>\n",
       "</div>"
      ],
      "text/plain": [
       "             nombre\n",
       "1  MARTIN echenique\n",
       "2    mercedes Moran"
      ]
     },
     "execution_count": 340,
     "metadata": {},
     "output_type": "execute_result"
    }
   ],
   "source": [
    "# condicion logica con | (or)\n",
    "dfPersonas[(dfPersonas['nombre'].str.startswith('m')) | (dfPersonas['nombre'].str.startswith('M'))][['nombre']]\n"
   ]
  },
  {
   "cell_type": "code",
   "execution_count": 361,
   "id": "698c31ce",
   "metadata": {},
   "outputs": [
    {
     "data": {
      "text/plain": [
       "1    Martin Echenique\n",
       "2      Mercedes Moran\n",
       "Name: nombre, dtype: object"
      ]
     },
     "execution_count": 361,
     "metadata": {},
     "output_type": "execute_result"
    }
   ],
   "source": [
    "# cambio la condicion aplicando primero capitalize y asi no tengo que usar or\n",
    "# el primer [] contiene la condicion de filtro\n",
    "# el segundo [] indica lo que quiero visualizar (campo) y como (transformacion). El doble [] me da error. lo dejo con uno.\n",
    "\n",
    "dfPersonas[dfPersonas['nombre'].str.capitalize().str.startswith('M')]['nombre'].str.title()\n"
   ]
  },
  {
   "cell_type": "markdown",
   "id": "7afd3e6c",
   "metadata": {},
   "source": [
    "#### Transformacion de variables. Variables DUMMY y BINNING\n",
    "\n",
    "-  Creacion de variables dummy's: pasar de una categorica a variable numerica booleana. \n",
    "    Ej: Muy Alto Alto, Bajo, Muy Bajo --> 1,2,3,4 cada una de ellas 0/1\n",
    "\n",
    "-  Creacion de Binning's: pasar de variable numerica a categorica. Seria lo contrario a dummy."
   ]
  },
  {
   "cell_type": "code",
   "execution_count": 359,
   "id": "ed9f86c2",
   "metadata": {},
   "outputs": [],
   "source": [
    "dfPersonas=pd.DataFrame(data={'sexo':['M','H','M','H'],\n",
    "                      'estatura':[150,200,195,145]},\n",
    "                      index=['jose','maria','juan','monica'])"
   ]
  },
  {
   "cell_type": "code",
   "execution_count": 360,
   "id": "5890aa3a",
   "metadata": {},
   "outputs": [
    {
     "data": {
      "text/html": [
       "<div>\n",
       "<style scoped>\n",
       "    .dataframe tbody tr th:only-of-type {\n",
       "        vertical-align: middle;\n",
       "    }\n",
       "\n",
       "    .dataframe tbody tr th {\n",
       "        vertical-align: top;\n",
       "    }\n",
       "\n",
       "    .dataframe thead th {\n",
       "        text-align: right;\n",
       "    }\n",
       "</style>\n",
       "<table border=\"1\" class=\"dataframe\">\n",
       "  <thead>\n",
       "    <tr style=\"text-align: right;\">\n",
       "      <th></th>\n",
       "      <th>sexo</th>\n",
       "      <th>estatura</th>\n",
       "      <th>NumPelos</th>\n",
       "    </tr>\n",
       "  </thead>\n",
       "  <tbody>\n",
       "    <tr>\n",
       "      <th>jose</th>\n",
       "      <td>M</td>\n",
       "      <td>150</td>\n",
       "      <td>1000</td>\n",
       "    </tr>\n",
       "    <tr>\n",
       "      <th>maria</th>\n",
       "      <td>H</td>\n",
       "      <td>200</td>\n",
       "      <td>2000</td>\n",
       "    </tr>\n",
       "    <tr>\n",
       "      <th>andrea</th>\n",
       "      <td>NB</td>\n",
       "      <td>175</td>\n",
       "      <td>2305</td>\n",
       "    </tr>\n",
       "    <tr>\n",
       "      <th>juan</th>\n",
       "      <td>M</td>\n",
       "      <td>195</td>\n",
       "      <td>0</td>\n",
       "    </tr>\n",
       "    <tr>\n",
       "      <th>monica</th>\n",
       "      <td>H</td>\n",
       "      <td>145</td>\n",
       "      <td>1152</td>\n",
       "    </tr>\n",
       "  </tbody>\n",
       "</table>\n",
       "</div>"
      ],
      "text/plain": [
       "       sexo  estatura  NumPelos\n",
       "jose      M       150      1000\n",
       "maria     H       200      2000\n",
       "andrea   NB       175      2305\n",
       "juan      M       195         0\n",
       "monica    H       145      1152"
      ]
     },
     "execution_count": 360,
     "metadata": {},
     "output_type": "execute_result"
    }
   ],
   "source": [
    "df = pd.DataFrame(data = {'sexo':['M','H','NB','M','H'],\n",
    "                          'estatura':[150,200,175,195,145],\n",
    "                          'NumPelos':[1000,2000,2305,0,1152]},\n",
    "                 index=['jose','maria','andrea','juan','monica'])\n",
    "df"
   ]
  },
  {
   "cell_type": "code",
   "execution_count": 361,
   "id": "738a9fb0",
   "metadata": {},
   "outputs": [
    {
     "data": {
      "text/html": [
       "<div>\n",
       "<style scoped>\n",
       "    .dataframe tbody tr th:only-of-type {\n",
       "        vertical-align: middle;\n",
       "    }\n",
       "\n",
       "    .dataframe tbody tr th {\n",
       "        vertical-align: top;\n",
       "    }\n",
       "\n",
       "    .dataframe thead th {\n",
       "        text-align: right;\n",
       "    }\n",
       "</style>\n",
       "<table border=\"1\" class=\"dataframe\">\n",
       "  <thead>\n",
       "    <tr style=\"text-align: right;\">\n",
       "      <th></th>\n",
       "      <th>sexo</th>\n",
       "      <th>estatura</th>\n",
       "    </tr>\n",
       "  </thead>\n",
       "  <tbody>\n",
       "    <tr>\n",
       "      <th>jose</th>\n",
       "      <td>M</td>\n",
       "      <td>150</td>\n",
       "    </tr>\n",
       "    <tr>\n",
       "      <th>maria</th>\n",
       "      <td>H</td>\n",
       "      <td>200</td>\n",
       "    </tr>\n",
       "    <tr>\n",
       "      <th>juan</th>\n",
       "      <td>M</td>\n",
       "      <td>195</td>\n",
       "    </tr>\n",
       "    <tr>\n",
       "      <th>monica</th>\n",
       "      <td>H</td>\n",
       "      <td>145</td>\n",
       "    </tr>\n",
       "  </tbody>\n",
       "</table>\n",
       "</div>"
      ],
      "text/plain": [
       "       sexo  estatura\n",
       "jose      M       150\n",
       "maria     H       200\n",
       "juan      M       195\n",
       "monica    H       145"
      ]
     },
     "execution_count": 361,
     "metadata": {},
     "output_type": "execute_result"
    }
   ],
   "source": [
    "dfPersonas"
   ]
  },
  {
   "cell_type": "code",
   "execution_count": 362,
   "id": "550d00f6",
   "metadata": {},
   "outputs": [
    {
     "data": {
      "text/html": [
       "<div>\n",
       "<style scoped>\n",
       "    .dataframe tbody tr th:only-of-type {\n",
       "        vertical-align: middle;\n",
       "    }\n",
       "\n",
       "    .dataframe tbody tr th {\n",
       "        vertical-align: top;\n",
       "    }\n",
       "\n",
       "    .dataframe thead th {\n",
       "        text-align: right;\n",
       "    }\n",
       "</style>\n",
       "<table border=\"1\" class=\"dataframe\">\n",
       "  <thead>\n",
       "    <tr style=\"text-align: right;\">\n",
       "      <th></th>\n",
       "      <th>H</th>\n",
       "      <th>M</th>\n",
       "    </tr>\n",
       "  </thead>\n",
       "  <tbody>\n",
       "    <tr>\n",
       "      <th>jose</th>\n",
       "      <td>0</td>\n",
       "      <td>1</td>\n",
       "    </tr>\n",
       "    <tr>\n",
       "      <th>maria</th>\n",
       "      <td>1</td>\n",
       "      <td>0</td>\n",
       "    </tr>\n",
       "    <tr>\n",
       "      <th>juan</th>\n",
       "      <td>0</td>\n",
       "      <td>1</td>\n",
       "    </tr>\n",
       "    <tr>\n",
       "      <th>monica</th>\n",
       "      <td>1</td>\n",
       "      <td>0</td>\n",
       "    </tr>\n",
       "  </tbody>\n",
       "</table>\n",
       "</div>"
      ],
      "text/plain": [
       "        H  M\n",
       "jose    0  1\n",
       "maria   1  0\n",
       "juan    0  1\n",
       "monica  1  0"
      ]
     },
     "execution_count": 362,
     "metadata": {},
     "output_type": "execute_result"
    }
   ],
   "source": [
    "# Dummy\n",
    "pd.get_dummies(dfPersonas['sexo']) \n",
    "# creara la misma cantidad de variables numericas que categorias distintas tenga la variable categorica. Binariza la variable."
   ]
  },
  {
   "cell_type": "code",
   "execution_count": 363,
   "id": "5d3b85e4",
   "metadata": {},
   "outputs": [],
   "source": [
    "# Creo y Asigno las variables con dummies."
   ]
  },
  {
   "cell_type": "code",
   "execution_count": 364,
   "id": "31e9653a",
   "metadata": {},
   "outputs": [
    {
     "data": {
      "text/html": [
       "<div>\n",
       "<style scoped>\n",
       "    .dataframe tbody tr th:only-of-type {\n",
       "        vertical-align: middle;\n",
       "    }\n",
       "\n",
       "    .dataframe tbody tr th {\n",
       "        vertical-align: top;\n",
       "    }\n",
       "\n",
       "    .dataframe thead th {\n",
       "        text-align: right;\n",
       "    }\n",
       "</style>\n",
       "<table border=\"1\" class=\"dataframe\">\n",
       "  <thead>\n",
       "    <tr style=\"text-align: right;\">\n",
       "      <th></th>\n",
       "      <th>sexo</th>\n",
       "      <th>estatura</th>\n",
       "      <th>sexoH</th>\n",
       "      <th>sexoM</th>\n",
       "    </tr>\n",
       "  </thead>\n",
       "  <tbody>\n",
       "    <tr>\n",
       "      <th>jose</th>\n",
       "      <td>M</td>\n",
       "      <td>150</td>\n",
       "      <td>0</td>\n",
       "      <td>1</td>\n",
       "    </tr>\n",
       "    <tr>\n",
       "      <th>maria</th>\n",
       "      <td>H</td>\n",
       "      <td>200</td>\n",
       "      <td>1</td>\n",
       "      <td>0</td>\n",
       "    </tr>\n",
       "    <tr>\n",
       "      <th>juan</th>\n",
       "      <td>M</td>\n",
       "      <td>195</td>\n",
       "      <td>0</td>\n",
       "      <td>1</td>\n",
       "    </tr>\n",
       "    <tr>\n",
       "      <th>monica</th>\n",
       "      <td>H</td>\n",
       "      <td>145</td>\n",
       "      <td>1</td>\n",
       "      <td>0</td>\n",
       "    </tr>\n",
       "  </tbody>\n",
       "</table>\n",
       "</div>"
      ],
      "text/plain": [
       "       sexo  estatura  sexoH  sexoM\n",
       "jose      M       150      0      1\n",
       "maria     H       200      1      0\n",
       "juan      M       195      0      1\n",
       "monica    H       145      1      0"
      ]
     },
     "execution_count": 364,
     "metadata": {},
     "output_type": "execute_result"
    }
   ],
   "source": [
    "dfPersonas[['sexoH','sexoM']]=pd.get_dummies(dfPersonas['sexo'])\n",
    "dfPersonas"
   ]
  },
  {
   "cell_type": "code",
   "execution_count": null,
   "id": "beb69204",
   "metadata": {},
   "outputs": [],
   "source": []
  },
  {
   "cell_type": "code",
   "execution_count": 365,
   "id": "4bb4064b",
   "metadata": {},
   "outputs": [
    {
     "data": {
      "text/plain": [
       "jose          bajo\n",
       "maria     muy alto\n",
       "andrea        alto\n",
       "juan      muy alto\n",
       "monica        bajo\n",
       "Name: estatura, dtype: category\n",
       "Categories (4, object): ['bajo' < 'normal' < 'alto' < 'muy alto']"
      ]
     },
     "execution_count": 365,
     "metadata": {},
     "output_type": "execute_result"
    }
   ],
   "source": [
    "# Binning's\n",
    "\n",
    "\"\"\"\n",
    "bajo < 150\n",
    "normal 150 -170\n",
    "alto (170-180]\n",
    "muy alto > 180\n",
    "\"\"\"\n",
    "\n",
    "import math\n",
    "pd.cut(x=df['estatura'], bins=[-math.inf,150,170,180,math.inf],labels=['bajo','normal','alto','muy alto'])\n",
    "# Observar que se creo como categorica ordenada\n"
   ]
  },
  {
   "cell_type": "code",
   "execution_count": 366,
   "id": "a7432fc7",
   "metadata": {},
   "outputs": [
    {
     "data": {
      "text/html": [
       "<div>\n",
       "<style scoped>\n",
       "    .dataframe tbody tr th:only-of-type {\n",
       "        vertical-align: middle;\n",
       "    }\n",
       "\n",
       "    .dataframe tbody tr th {\n",
       "        vertical-align: top;\n",
       "    }\n",
       "\n",
       "    .dataframe thead th {\n",
       "        text-align: right;\n",
       "    }\n",
       "</style>\n",
       "<table border=\"1\" class=\"dataframe\">\n",
       "  <thead>\n",
       "    <tr style=\"text-align: right;\">\n",
       "      <th></th>\n",
       "      <th>sexo</th>\n",
       "      <th>estatura</th>\n",
       "      <th>sexoH</th>\n",
       "      <th>sexoM</th>\n",
       "      <th>CatEstatura</th>\n",
       "    </tr>\n",
       "  </thead>\n",
       "  <tbody>\n",
       "    <tr>\n",
       "      <th>jose</th>\n",
       "      <td>M</td>\n",
       "      <td>150</td>\n",
       "      <td>0</td>\n",
       "      <td>1</td>\n",
       "      <td>bajo</td>\n",
       "    </tr>\n",
       "    <tr>\n",
       "      <th>maria</th>\n",
       "      <td>H</td>\n",
       "      <td>200</td>\n",
       "      <td>1</td>\n",
       "      <td>0</td>\n",
       "      <td>muy alto</td>\n",
       "    </tr>\n",
       "    <tr>\n",
       "      <th>juan</th>\n",
       "      <td>M</td>\n",
       "      <td>195</td>\n",
       "      <td>0</td>\n",
       "      <td>1</td>\n",
       "      <td>muy alto</td>\n",
       "    </tr>\n",
       "    <tr>\n",
       "      <th>monica</th>\n",
       "      <td>H</td>\n",
       "      <td>145</td>\n",
       "      <td>1</td>\n",
       "      <td>0</td>\n",
       "      <td>bajo</td>\n",
       "    </tr>\n",
       "  </tbody>\n",
       "</table>\n",
       "</div>"
      ],
      "text/plain": [
       "       sexo  estatura  sexoH  sexoM CatEstatura\n",
       "jose      M       150      0      1        bajo\n",
       "maria     H       200      1      0    muy alto\n",
       "juan      M       195      0      1    muy alto\n",
       "monica    H       145      1      0        bajo"
      ]
     },
     "execution_count": 366,
     "metadata": {},
     "output_type": "execute_result"
    }
   ],
   "source": [
    "# Asigno la variable binning a una nueva columna del DF\n",
    "dfPersonas['CatEstatura']=pd.cut(x=dfPersonas['estatura'], bins=[-math.inf,150,170,180,math.inf], labels=['bajo','normal','alto','muy alto'])\n",
    "\n",
    "dfPersonas"
   ]
  },
  {
   "cell_type": "code",
   "execution_count": 367,
   "id": "d6d4f0a8",
   "metadata": {},
   "outputs": [
    {
     "data": {
      "text/plain": [
       "jose       pelon\n",
       "maria     normal\n",
       "andrea    normal\n",
       "juan       calvo\n",
       "monica     pelon\n",
       "Name: NumPelos, dtype: category\n",
       "Categories (3, object): ['calvo' < 'pelon' < 'normal']"
      ]
     },
     "execution_count": 367,
     "metadata": {},
     "output_type": "execute_result"
    }
   ],
   "source": [
    "pd.cut(x=df['NumPelos'], bins=3, labels=['calvo','pelon','normal'])\n",
    "# tambien la creo como variable categorica ordenada"
   ]
  },
  {
   "cell_type": "code",
   "execution_count": null,
   "id": "ce609cb1",
   "metadata": {},
   "outputs": [],
   "source": []
  },
  {
   "cell_type": "markdown",
   "id": "5cfc226a",
   "metadata": {},
   "source": [
    "#### Lectura y escritura de ficheros\n",
    "\n",
    "Pandas permite leer y escribir en los siguientes formatos:\n",
    "\n",
    "* csv/txt: pd.read_csv()\n",
    "* Excel (.xlsx, .xls): pd.read_excel()\n",
    "* Json\n",
    "* HTML\n",
    "* SQL"
   ]
  },
  {
   "cell_type": "code",
   "execution_count": null,
   "id": "6cd166d6",
   "metadata": {},
   "outputs": [],
   "source": [
    "#IMPORTAR\n",
    "\n",
    "pd.read_csv('./datos.csv').shape\n",
    "pd.read_csv('./datos.csv') # Ver parametros: index, sep='\\t' (separados por tab)\n",
    "\n",
    "pd.read_excel('./datos.xlsx', sheet_name='nombre_hoja')\n",
    "pd.read_excel('./datos.xlsx', sheet_name=0) # carga la primera hoja\n",
    "pd.read_excel('./datos.xlsx', sheet_name=1) # carga la segunda hoja\n",
    "\n",
    "pd.read_json ('./datos.fichero.json') # Estructura JavaS formato web \n",
    "\n",
    "pd.read_html()[0]  FOTO\n",
    "\n"
   ]
  },
  {
   "cell_type": "code",
   "execution_count": null,
   "id": "6742b90c",
   "metadata": {},
   "outputs": [],
   "source": [
    "# EXPORTAR\n",
    "\n",
    "df.to_csv('./datos.csv', index=False, sep=';') # Exportacion a csv sin indice de fila y con ; de separador\n",
    "\n",
    "df.to_excel('./datos.xls', sheet_name='Hoja13')\n",
    "\n",
    "df.to_json('./datos.json)\n",
    "\n",
    "df.to_html('./datos.html)"
   ]
  },
  {
   "cell_type": "code",
   "execution_count": 369,
   "id": "ebc3ed34",
   "metadata": {},
   "outputs": [],
   "source": [
    "# para sql\n",
    "\n",
    "from sqlalchemy import create_engine"
   ]
  },
  {
   "cell_type": "code",
   "execution_count": 371,
   "id": "a5dcb796",
   "metadata": {},
   "outputs": [],
   "source": [
    "engine = create_engine('sqlite:///:memory:')"
   ]
  },
  {
   "cell_type": "code",
   "execution_count": null,
   "id": "ae007cf5",
   "metadata": {},
   "outputs": [],
   "source": [
    "df.to_sql('fichero.sql', engine) # para exportar"
   ]
  },
  {
   "cell_type": "code",
   "execution_count": null,
   "id": "4e750f41",
   "metadata": {},
   "outputs": [],
   "source": [
    "pd.read_sql('datos.sql', con=engine) # para importar"
   ]
  },
  {
   "cell_type": "code",
   "execution_count": null,
   "id": "74baf80d",
   "metadata": {},
   "outputs": [],
   "source": []
  },
  {
   "cell_type": "code",
   "execution_count": null,
   "id": "70bdb3b1",
   "metadata": {},
   "outputs": [],
   "source": [
    "pd.read_csv('./datos.csv').shape"
   ]
  },
  {
   "cell_type": "code",
   "execution_count": null,
   "id": "b8123bc2",
   "metadata": {},
   "outputs": [],
   "source": [
    "pd.read_csv('./datos.csv').dtypes"
   ]
  },
  {
   "cell_type": "code",
   "execution_count": null,
   "id": "c0bd8f70",
   "metadata": {},
   "outputs": [],
   "source": []
  },
  {
   "cell_type": "code",
   "execution_count": null,
   "id": "8d9d8863",
   "metadata": {},
   "outputs": [],
   "source": [
    "## Creamos unos datos en formato Json\n",
    "[{'direccion':'castellana 256',\n",
    "'ciudad':'madrid',\n",
    "'empleado':'3064',\n",
    "'id':'1',\n",
    "'nombre':'Zara',\n",
    "'pais':'España'}\n",
    "{'direccion':'366 21 st Alvaro',\n",
    "'ciudad':'San Francisco',\n",
    "'empleado':'263',\n",
    "'id':'4',\n",
    "'nombre':'Rivally Soft',\n",
    "'pais':'EEUU'}\n",
    "{'direccion':'Av 5th 465',\n",
    "'ciudad':'Santa Monica',\n",
    "'empleado':'674',\n",
    "'id':'3',\n",
    "'nombre':'Heit LS',\n",
    "'pais':'EEUU'}] ## crear fichero.json "
   ]
  },
  {
   "cell_type": "markdown",
   "id": "1df7ca4b",
   "metadata": {},
   "source": [
    "#### Manejo de campos alfanumericos.\n",
    "\n",
    "EJERCICIO: DESCOMPONER UN DNI EN NRO Y LETRA "
   ]
  },
  {
   "cell_type": "code",
   "execution_count": 415,
   "id": "dd12db41",
   "metadata": {},
   "outputs": [],
   "source": [
    "personal=pd.DataFrame(data={'nombre':['Pepe', 'Juan', 'Lorenzo', 'Alex'],\n",
    "                           'dni':['48765378F', '9896572D','04857623M','23785637A']})\n",
    "# coloco dni de diferente longitud"
   ]
  },
  {
   "cell_type": "code",
   "execution_count": 416,
   "id": "67814527",
   "metadata": {},
   "outputs": [
    {
     "data": {
      "text/html": [
       "<div>\n",
       "<style scoped>\n",
       "    .dataframe tbody tr th:only-of-type {\n",
       "        vertical-align: middle;\n",
       "    }\n",
       "\n",
       "    .dataframe tbody tr th {\n",
       "        vertical-align: top;\n",
       "    }\n",
       "\n",
       "    .dataframe thead th {\n",
       "        text-align: right;\n",
       "    }\n",
       "</style>\n",
       "<table border=\"1\" class=\"dataframe\">\n",
       "  <thead>\n",
       "    <tr style=\"text-align: right;\">\n",
       "      <th></th>\n",
       "      <th>nombre</th>\n",
       "      <th>dni</th>\n",
       "    </tr>\n",
       "  </thead>\n",
       "  <tbody>\n",
       "    <tr>\n",
       "      <th>0</th>\n",
       "      <td>Pepe</td>\n",
       "      <td>48765378F</td>\n",
       "    </tr>\n",
       "    <tr>\n",
       "      <th>1</th>\n",
       "      <td>Juan</td>\n",
       "      <td>9896572D</td>\n",
       "    </tr>\n",
       "    <tr>\n",
       "      <th>2</th>\n",
       "      <td>Lorenzo</td>\n",
       "      <td>04857623M</td>\n",
       "    </tr>\n",
       "    <tr>\n",
       "      <th>3</th>\n",
       "      <td>Alex</td>\n",
       "      <td>23785637A</td>\n",
       "    </tr>\n",
       "  </tbody>\n",
       "</table>\n",
       "</div>"
      ],
      "text/plain": [
       "    nombre        dni\n",
       "0     Pepe  48765378F\n",
       "1     Juan   9896572D\n",
       "2  Lorenzo  04857623M\n",
       "3     Alex  23785637A"
      ]
     },
     "execution_count": 416,
     "metadata": {},
     "output_type": "execute_result"
    }
   ],
   "source": [
    "personal"
   ]
  },
  {
   "cell_type": "code",
   "execution_count": 417,
   "id": "559acd74",
   "metadata": {},
   "outputs": [
    {
     "data": {
      "text/html": [
       "<div>\n",
       "<style scoped>\n",
       "    .dataframe tbody tr th:only-of-type {\n",
       "        vertical-align: middle;\n",
       "    }\n",
       "\n",
       "    .dataframe tbody tr th {\n",
       "        vertical-align: top;\n",
       "    }\n",
       "\n",
       "    .dataframe thead th {\n",
       "        text-align: right;\n",
       "    }\n",
       "</style>\n",
       "<table border=\"1\" class=\"dataframe\">\n",
       "  <thead>\n",
       "    <tr style=\"text-align: right;\">\n",
       "      <th></th>\n",
       "      <th>nombre</th>\n",
       "      <th>dni</th>\n",
       "      <th>numero</th>\n",
       "    </tr>\n",
       "  </thead>\n",
       "  <tbody>\n",
       "    <tr>\n",
       "      <th>0</th>\n",
       "      <td>Pepe</td>\n",
       "      <td>48765378F</td>\n",
       "      <td>48765378</td>\n",
       "    </tr>\n",
       "    <tr>\n",
       "      <th>1</th>\n",
       "      <td>Juan</td>\n",
       "      <td>9896572D</td>\n",
       "      <td>9896572</td>\n",
       "    </tr>\n",
       "    <tr>\n",
       "      <th>2</th>\n",
       "      <td>Lorenzo</td>\n",
       "      <td>04857623M</td>\n",
       "      <td>4857623</td>\n",
       "    </tr>\n",
       "    <tr>\n",
       "      <th>3</th>\n",
       "      <td>Alex</td>\n",
       "      <td>23785637A</td>\n",
       "      <td>23785637</td>\n",
       "    </tr>\n",
       "  </tbody>\n",
       "</table>\n",
       "</div>"
      ],
      "text/plain": [
       "    nombre        dni    numero\n",
       "0     Pepe  48765378F  48765378\n",
       "1     Juan   9896572D   9896572\n",
       "2  Lorenzo  04857623M   4857623\n",
       "3     Alex  23785637A  23785637"
      ]
     },
     "execution_count": 417,
     "metadata": {},
     "output_type": "execute_result"
    }
   ],
   "source": [
    "# Obtengo el numero quitando el ultimo caracter y convirtiendo a entero\n",
    "personal['numero']=personal['dni'].apply(lambda x: x[0:-1]).astype(np.int64)\n",
    "personal"
   ]
  },
  {
   "cell_type": "code",
   "execution_count": 418,
   "id": "9c75ab4d",
   "metadata": {},
   "outputs": [
    {
     "data": {
      "text/plain": [
       "nombre    object\n",
       "dni       object\n",
       "numero     int64\n",
       "dtype: object"
      ]
     },
     "execution_count": 418,
     "metadata": {},
     "output_type": "execute_result"
    }
   ],
   "source": [
    "personal.dtypes"
   ]
  },
  {
   "cell_type": "code",
   "execution_count": 419,
   "id": "41dd559b",
   "metadata": {},
   "outputs": [
    {
     "data": {
      "text/html": [
       "<div>\n",
       "<style scoped>\n",
       "    .dataframe tbody tr th:only-of-type {\n",
       "        vertical-align: middle;\n",
       "    }\n",
       "\n",
       "    .dataframe tbody tr th {\n",
       "        vertical-align: top;\n",
       "    }\n",
       "\n",
       "    .dataframe thead th {\n",
       "        text-align: right;\n",
       "    }\n",
       "</style>\n",
       "<table border=\"1\" class=\"dataframe\">\n",
       "  <thead>\n",
       "    <tr style=\"text-align: right;\">\n",
       "      <th></th>\n",
       "      <th>nombre</th>\n",
       "      <th>dni</th>\n",
       "      <th>numero</th>\n",
       "      <th>letra</th>\n",
       "    </tr>\n",
       "  </thead>\n",
       "  <tbody>\n",
       "    <tr>\n",
       "      <th>0</th>\n",
       "      <td>Pepe</td>\n",
       "      <td>48765378F</td>\n",
       "      <td>48765378</td>\n",
       "      <td>F</td>\n",
       "    </tr>\n",
       "    <tr>\n",
       "      <th>1</th>\n",
       "      <td>Juan</td>\n",
       "      <td>9896572D</td>\n",
       "      <td>9896572</td>\n",
       "      <td>D</td>\n",
       "    </tr>\n",
       "    <tr>\n",
       "      <th>2</th>\n",
       "      <td>Lorenzo</td>\n",
       "      <td>04857623M</td>\n",
       "      <td>4857623</td>\n",
       "      <td>M</td>\n",
       "    </tr>\n",
       "    <tr>\n",
       "      <th>3</th>\n",
       "      <td>Alex</td>\n",
       "      <td>23785637A</td>\n",
       "      <td>23785637</td>\n",
       "      <td>A</td>\n",
       "    </tr>\n",
       "  </tbody>\n",
       "</table>\n",
       "</div>"
      ],
      "text/plain": [
       "    nombre        dni    numero letra\n",
       "0     Pepe  48765378F  48765378     F\n",
       "1     Juan   9896572D   9896572     D\n",
       "2  Lorenzo  04857623M   4857623     M\n",
       "3     Alex  23785637A  23785637     A"
      ]
     },
     "execution_count": 419,
     "metadata": {},
     "output_type": "execute_result"
    }
   ],
   "source": [
    "personal['letra']=personal['dni'].apply(lambda x: x[-1])\n",
    "personal"
   ]
  },
  {
   "cell_type": "code",
   "execution_count": 423,
   "id": "e246283e",
   "metadata": {},
   "outputs": [
    {
     "data": {
      "text/html": [
       "<div>\n",
       "<style scoped>\n",
       "    .dataframe tbody tr th:only-of-type {\n",
       "        vertical-align: middle;\n",
       "    }\n",
       "\n",
       "    .dataframe tbody tr th {\n",
       "        vertical-align: top;\n",
       "    }\n",
       "\n",
       "    .dataframe thead th {\n",
       "        text-align: right;\n",
       "    }\n",
       "</style>\n",
       "<table border=\"1\" class=\"dataframe\">\n",
       "  <thead>\n",
       "    <tr style=\"text-align: right;\">\n",
       "      <th></th>\n",
       "      <th>nombre</th>\n",
       "      <th>dni</th>\n",
       "      <th>numero</th>\n",
       "      <th>letra</th>\n",
       "      <th>numero_str</th>\n",
       "    </tr>\n",
       "  </thead>\n",
       "  <tbody>\n",
       "    <tr>\n",
       "      <th>0</th>\n",
       "      <td>Pepe</td>\n",
       "      <td>48765378F</td>\n",
       "      <td>48765378</td>\n",
       "      <td>F</td>\n",
       "      <td>48765378</td>\n",
       "    </tr>\n",
       "    <tr>\n",
       "      <th>1</th>\n",
       "      <td>Juan</td>\n",
       "      <td>9896572D</td>\n",
       "      <td>9896572</td>\n",
       "      <td>D</td>\n",
       "      <td>09896572</td>\n",
       "    </tr>\n",
       "    <tr>\n",
       "      <th>2</th>\n",
       "      <td>Lorenzo</td>\n",
       "      <td>04857623M</td>\n",
       "      <td>4857623</td>\n",
       "      <td>M</td>\n",
       "      <td>04857623</td>\n",
       "    </tr>\n",
       "    <tr>\n",
       "      <th>3</th>\n",
       "      <td>Alex</td>\n",
       "      <td>23785637A</td>\n",
       "      <td>23785637</td>\n",
       "      <td>A</td>\n",
       "      <td>23785637</td>\n",
       "    </tr>\n",
       "  </tbody>\n",
       "</table>\n",
       "</div>"
      ],
      "text/plain": [
       "    nombre        dni    numero letra numero_str\n",
       "0     Pepe  48765378F  48765378     F   48765378\n",
       "1     Juan   9896572D   9896572     D   09896572\n",
       "2  Lorenzo  04857623M   4857623     M   04857623\n",
       "3     Alex  23785637A  23785637     A   23785637"
      ]
     },
     "execution_count": 423,
     "metadata": {},
     "output_type": "execute_result"
    }
   ],
   "source": [
    "# si quiero el numero en formato caracter normalizado en longitud\n",
    "personal['numero_str']=personal['numero'].astype(str).str.rjust(8,'0')\n",
    "personal # perfect!!"
   ]
  },
  {
   "cell_type": "code",
   "execution_count": 424,
   "id": "9193c65c",
   "metadata": {},
   "outputs": [
    {
     "data": {
      "text/plain": [
       "nombre        object\n",
       "dni           object\n",
       "numero         int64\n",
       "letra         object\n",
       "numero_str    object\n",
       "dtype: object"
      ]
     },
     "execution_count": 424,
     "metadata": {},
     "output_type": "execute_result"
    }
   ],
   "source": [
    "personal.dtypes"
   ]
  }
 ],
 "metadata": {
  "kernelspec": {
   "display_name": "Python 3 (ipykernel)",
   "language": "python",
   "name": "python3"
  },
  "language_info": {
   "codemirror_mode": {
    "name": "ipython",
    "version": 3
   },
   "file_extension": ".py",
   "mimetype": "text/x-python",
   "name": "python",
   "nbconvert_exporter": "python",
   "pygments_lexer": "ipython3",
   "version": "3.9.13"
  }
 },
 "nbformat": 4,
 "nbformat_minor": 5
}
