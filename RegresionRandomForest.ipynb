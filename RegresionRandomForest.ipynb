{
 "cells": [
  {
   "cell_type": "markdown",
   "id": "fa3954ae",
   "metadata": {},
   "source": [
    "### Modelo de Regresion Random Forest (Bosques aleatorios)\n",
    "\n",
    "Es similar a arboles de decision pero miles o millones de estos."
   ]
  },
  {
   "cell_type": "code",
   "execution_count": 1,
   "id": "69be97f3",
   "metadata": {},
   "outputs": [],
   "source": [
    "import pandas as pd\n",
    "import numpy as np\n",
    "import matplotlib.pyplot as plt"
   ]
  },
  {
   "cell_type": "code",
   "execution_count": 2,
   "id": "253107f3",
   "metadata": {},
   "outputs": [],
   "source": [
    "df=pd.read_csv(r'C:\\Users\\carolina\\Desktop\\FormDataAnalyst\\Modelos\\regresion_arboles.csv')"
   ]
  },
  {
   "cell_type": "code",
   "execution_count": 3,
   "id": "2d30ea95",
   "metadata": {},
   "outputs": [
    {
     "data": {
      "text/html": [
       "<div>\n",
       "<style scoped>\n",
       "    .dataframe tbody tr th:only-of-type {\n",
       "        vertical-align: middle;\n",
       "    }\n",
       "\n",
       "    .dataframe tbody tr th {\n",
       "        vertical-align: top;\n",
       "    }\n",
       "\n",
       "    .dataframe thead th {\n",
       "        text-align: right;\n",
       "    }\n",
       "</style>\n",
       "<table border=\"1\" class=\"dataframe\">\n",
       "  <thead>\n",
       "    <tr style=\"text-align: right;\">\n",
       "      <th></th>\n",
       "      <th>Position</th>\n",
       "      <th>Level</th>\n",
       "      <th>Salary</th>\n",
       "    </tr>\n",
       "  </thead>\n",
       "  <tbody>\n",
       "    <tr>\n",
       "      <th>0</th>\n",
       "      <td>Business Analyst</td>\n",
       "      <td>1</td>\n",
       "      <td>45000</td>\n",
       "    </tr>\n",
       "    <tr>\n",
       "      <th>1</th>\n",
       "      <td>Junior Consultant</td>\n",
       "      <td>2</td>\n",
       "      <td>50000</td>\n",
       "    </tr>\n",
       "    <tr>\n",
       "      <th>2</th>\n",
       "      <td>Senior Consultant</td>\n",
       "      <td>3</td>\n",
       "      <td>60000</td>\n",
       "    </tr>\n",
       "  </tbody>\n",
       "</table>\n",
       "</div>"
      ],
      "text/plain": [
       "            Position  Level  Salary\n",
       "0   Business Analyst      1   45000\n",
       "1  Junior Consultant      2   50000\n",
       "2  Senior Consultant      3   60000"
      ]
     },
     "execution_count": 3,
     "metadata": {},
     "output_type": "execute_result"
    }
   ],
   "source": [
    "df.head(3)"
   ]
  },
  {
   "cell_type": "code",
   "execution_count": 4,
   "id": "95435249",
   "metadata": {},
   "outputs": [
    {
     "data": {
      "text/plain": [
       "(10, 3)"
      ]
     },
     "execution_count": 4,
     "metadata": {},
     "output_type": "execute_result"
    }
   ],
   "source": [
    "df.shape"
   ]
  },
  {
   "cell_type": "markdown",
   "id": "e00fde39",
   "metadata": {},
   "source": [
    "#### Dummys y Missing no hay"
   ]
  },
  {
   "cell_type": "code",
   "execution_count": 6,
   "id": "ed35d3aa",
   "metadata": {},
   "outputs": [
    {
     "data": {
      "text/plain": [
       "Position  Level  Salary\n",
       "False     False  False     10\n",
       "dtype: int64"
      ]
     },
     "execution_count": 6,
     "metadata": {},
     "output_type": "execute_result"
    }
   ],
   "source": [
    "df.isnull().value_counts()"
   ]
  },
  {
   "cell_type": "markdown",
   "id": "0b7d5ed3",
   "metadata": {},
   "source": [
    "Las variables a tratar no requieren dummificar"
   ]
  },
  {
   "cell_type": "markdown",
   "id": "229cb08f",
   "metadata": {},
   "source": [
    "#### Separar variables dependiente/independiente"
   ]
  },
  {
   "cell_type": "code",
   "execution_count": 7,
   "id": "c104cd82",
   "metadata": {},
   "outputs": [],
   "source": [
    "x=df.iloc[:,[1]].values # [[]] para que sea un array de arrays o sea matriz y luego no tenga que hacer el reshape en los modelos\n",
    "y=df.iloc[:,[2]].values"
   ]
  },
  {
   "cell_type": "markdown",
   "id": "583fbbf6",
   "metadata": {},
   "source": [
    "#### Normalizacion/estandarizacion en este modelo SI que hay que hacerlo."
   ]
  },
  {
   "cell_type": "code",
   "execution_count": 8,
   "id": "cad7e3b2",
   "metadata": {},
   "outputs": [],
   "source": [
    "from sklearn.preprocessing import StandardScaler\n"
   ]
  },
  {
   "cell_type": "code",
   "execution_count": 9,
   "id": "7fbb0026",
   "metadata": {},
   "outputs": [],
   "source": [
    "sc_x=StandardScaler()\n",
    "x=sc_x.fit_transform(x)\n",
    "sc_y=StandardScaler()\n",
    "y=sc_y.fit_transform(y)"
   ]
  },
  {
   "cell_type": "markdown",
   "id": "19e875bb",
   "metadata": {},
   "source": [
    "#### Crear el modelo Random Forest\n",
    "\n",
    "\n",
    "* Parametros:\n",
    "    \n",
    "        - n_estimators: numero de arboles, por defecto 100. Habitualmente entre 300 y 1000.\n",
    "        - criterion: squared_error, absolute_error, friedman_mse, poisson. Por defecto squared_error\n",
    "        - max_depth: profundidad\n",
    "        - min_samples_split: numero de muestras minimo\n",
    "        - min_samples_leaf: numero de muestras maximo\n",
    "        - max_features: maximo numero de caracteristicas. Por defecto 'auto'. El modelo probará con una, con dos, etc."
   ]
  },
  {
   "cell_type": "code",
   "execution_count": 12,
   "id": "e13b5c91",
   "metadata": {},
   "outputs": [],
   "source": [
    "from sklearn.ensemble import RandomForestRegressor"
   ]
  },
  {
   "cell_type": "code",
   "execution_count": 28,
   "id": "828faf84",
   "metadata": {},
   "outputs": [
    {
     "name": "stderr",
     "output_type": "stream",
     "text": [
      "C:\\Users\\carolina\\AppData\\Local\\Temp\\ipykernel_14124\\520699188.py:2: DataConversionWarning: A column-vector y was passed when a 1d array was expected. Please change the shape of y to (n_samples,), for example using ravel().\n",
      "  reg_randomForest.fit(x,y)\n",
      "C:\\Users\\carolina\\anaconda3\\lib\\site-packages\\sklearn\\ensemble\\_forest.py:413: FutureWarning: `max_features='auto'` has been deprecated in 1.1 and will be removed in 1.3. To keep the past behaviour, explicitly set `max_features=1.0` or remove this parameter as it is also the default value for RandomForestRegressors and ExtraTreesRegressors.\n",
      "  warn(\n"
     ]
    },
    {
     "data": {
      "text/html": [
       "<style>#sk-container-id-3 {color: black;background-color: white;}#sk-container-id-3 pre{padding: 0;}#sk-container-id-3 div.sk-toggleable {background-color: white;}#sk-container-id-3 label.sk-toggleable__label {cursor: pointer;display: block;width: 100%;margin-bottom: 0;padding: 0.3em;box-sizing: border-box;text-align: center;}#sk-container-id-3 label.sk-toggleable__label-arrow:before {content: \"▸\";float: left;margin-right: 0.25em;color: #696969;}#sk-container-id-3 label.sk-toggleable__label-arrow:hover:before {color: black;}#sk-container-id-3 div.sk-estimator:hover label.sk-toggleable__label-arrow:before {color: black;}#sk-container-id-3 div.sk-toggleable__content {max-height: 0;max-width: 0;overflow: hidden;text-align: left;background-color: #f0f8ff;}#sk-container-id-3 div.sk-toggleable__content pre {margin: 0.2em;color: black;border-radius: 0.25em;background-color: #f0f8ff;}#sk-container-id-3 input.sk-toggleable__control:checked~div.sk-toggleable__content {max-height: 200px;max-width: 100%;overflow: auto;}#sk-container-id-3 input.sk-toggleable__control:checked~label.sk-toggleable__label-arrow:before {content: \"▾\";}#sk-container-id-3 div.sk-estimator input.sk-toggleable__control:checked~label.sk-toggleable__label {background-color: #d4ebff;}#sk-container-id-3 div.sk-label input.sk-toggleable__control:checked~label.sk-toggleable__label {background-color: #d4ebff;}#sk-container-id-3 input.sk-hidden--visually {border: 0;clip: rect(1px 1px 1px 1px);clip: rect(1px, 1px, 1px, 1px);height: 1px;margin: -1px;overflow: hidden;padding: 0;position: absolute;width: 1px;}#sk-container-id-3 div.sk-estimator {font-family: monospace;background-color: #f0f8ff;border: 1px dotted black;border-radius: 0.25em;box-sizing: border-box;margin-bottom: 0.5em;}#sk-container-id-3 div.sk-estimator:hover {background-color: #d4ebff;}#sk-container-id-3 div.sk-parallel-item::after {content: \"\";width: 100%;border-bottom: 1px solid gray;flex-grow: 1;}#sk-container-id-3 div.sk-label:hover label.sk-toggleable__label {background-color: #d4ebff;}#sk-container-id-3 div.sk-serial::before {content: \"\";position: absolute;border-left: 1px solid gray;box-sizing: border-box;top: 0;bottom: 0;left: 50%;z-index: 0;}#sk-container-id-3 div.sk-serial {display: flex;flex-direction: column;align-items: center;background-color: white;padding-right: 0.2em;padding-left: 0.2em;position: relative;}#sk-container-id-3 div.sk-item {position: relative;z-index: 1;}#sk-container-id-3 div.sk-parallel {display: flex;align-items: stretch;justify-content: center;background-color: white;position: relative;}#sk-container-id-3 div.sk-item::before, #sk-container-id-3 div.sk-parallel-item::before {content: \"\";position: absolute;border-left: 1px solid gray;box-sizing: border-box;top: 0;bottom: 0;left: 50%;z-index: -1;}#sk-container-id-3 div.sk-parallel-item {display: flex;flex-direction: column;z-index: 1;position: relative;background-color: white;}#sk-container-id-3 div.sk-parallel-item:first-child::after {align-self: flex-end;width: 50%;}#sk-container-id-3 div.sk-parallel-item:last-child::after {align-self: flex-start;width: 50%;}#sk-container-id-3 div.sk-parallel-item:only-child::after {width: 0;}#sk-container-id-3 div.sk-dashed-wrapped {border: 1px dashed gray;margin: 0 0.4em 0.5em 0.4em;box-sizing: border-box;padding-bottom: 0.4em;background-color: white;}#sk-container-id-3 div.sk-label label {font-family: monospace;font-weight: bold;display: inline-block;line-height: 1.2em;}#sk-container-id-3 div.sk-label-container {text-align: center;}#sk-container-id-3 div.sk-container {/* jupyter's `normalize.less` sets `[hidden] { display: none; }` but bootstrap.min.css set `[hidden] { display: none !important; }` so we also need the `!important` here to be able to override the default hidden behavior on the sphinx rendered scikit-learn.org. See: https://github.com/scikit-learn/scikit-learn/issues/21755 */display: inline-block !important;position: relative;}#sk-container-id-3 div.sk-text-repr-fallback {display: none;}</style><div id=\"sk-container-id-3\" class=\"sk-top-container\"><div class=\"sk-text-repr-fallback\"><pre>RandomForestRegressor(max_features=&#x27;auto&#x27;, n_estimators=300, random_state=1987)</pre><b>In a Jupyter environment, please rerun this cell to show the HTML representation or trust the notebook. <br />On GitHub, the HTML representation is unable to render, please try loading this page with nbviewer.org.</b></div><div class=\"sk-container\" hidden><div class=\"sk-item\"><div class=\"sk-estimator sk-toggleable\"><input class=\"sk-toggleable__control sk-hidden--visually\" id=\"sk-estimator-id-3\" type=\"checkbox\" checked><label for=\"sk-estimator-id-3\" class=\"sk-toggleable__label sk-toggleable__label-arrow\">RandomForestRegressor</label><div class=\"sk-toggleable__content\"><pre>RandomForestRegressor(max_features=&#x27;auto&#x27;, n_estimators=300, random_state=1987)</pre></div></div></div></div></div>"
      ],
      "text/plain": [
       "RandomForestRegressor(max_features='auto', n_estimators=300, random_state=1987)"
      ]
     },
     "execution_count": 28,
     "metadata": {},
     "output_type": "execute_result"
    }
   ],
   "source": [
    "reg_randomForest=RandomForestRegressor(n_estimators=300, criterion='squared_error', max_features='auto', random_state=1987)\n",
    "reg_randomForest.fit(x,y)"
   ]
  },
  {
   "cell_type": "markdown",
   "id": "a565f35e",
   "metadata": {},
   "source": [
    "#### Prediccion para 6,5"
   ]
  },
  {
   "cell_type": "code",
   "execution_count": 29,
   "id": "6c65bfc0",
   "metadata": {},
   "outputs": [
    {
     "data": {
      "text/plain": [
       "array([[120000.]])"
      ]
     },
     "execution_count": 29,
     "metadata": {},
     "output_type": "execute_result"
    }
   ],
   "source": [
    "y_reg_randomForest=reg_randomForest.predict(sc_x.fit_transform([[6.5]]))\n",
    "sc_y.inverse_transform([[y_reg_randomForest[0]]]) # paso de 116K con 10, a 119,8K con 100 y a 120K con 300 "
   ]
  },
  {
   "cell_type": "markdown",
   "id": "c8965688",
   "metadata": {},
   "source": [
    "##### Evaluacion del modelo (r2, mae,mse)"
   ]
  },
  {
   "cell_type": "code",
   "execution_count": 17,
   "id": "d49d70c3",
   "metadata": {},
   "outputs": [],
   "source": [
    "from sklearn.metrics import r2_score, mean_absolute_error, mean_squared_error"
   ]
  },
  {
   "cell_type": "code",
   "execution_count": 30,
   "id": "ed523e87",
   "metadata": {},
   "outputs": [
    {
     "name": "stdout",
     "output_type": "stream",
     "text": [
      "Estadisticos de la regresion por Bosque Aleatorio\n",
      " r2: 0.95 \n",
      " mae: 0.12 \n",
      " mse: 0.05\n"
     ]
    }
   ],
   "source": [
    "r2_reg_randomForest=r2_score(y, reg_randomForest.predict(x) ) \n",
    "mae_reg_randomForest=mean_absolute_error(y, reg_randomForest.predict(x))\n",
    "mse_reg_randomForest=mean_squared_error(y, reg_randomForest.predict(x))\n",
    "print(f'Estadisticos de la regresion por Bosque Aleatorio\\n r2: {r2_reg_randomForest:.2f} \\n mae: {mae_reg_randomForest:.2f} \\n mse: {mse_reg_randomForest:.2f}')\n",
    "\n",
    "# R2 0,92 esta muy bien. Pasa a r2 = 0,93 con 100 estimadores. A 0.95 con 300 estimadores.\n",
    "# mae y mse bajos"
   ]
  },
  {
   "cell_type": "code",
   "execution_count": 31,
   "id": "97a55745",
   "metadata": {},
   "outputs": [
    {
     "data": {
      "image/png": "[encoded data removed]",
      "text/plain": [
       "<Figure size 640x480 with 1 Axes>"
      ]
     },
     "metadata": {},
     "output_type": "display_data"
    }
   ],
   "source": [
    "plt.title('Regresion Bosque Aleatorio (Random Forest)')\n",
    "plt.xlabel('Nivel de experiencia')\n",
    "plt.ylabel('Salario en Dolares')\n",
    "plt.scatter(sc_x.inverse_transform(x), sc_y.inverse_transform(y), color='red')\n",
    "plt.plot(sc_x.inverse_transform(x), sc_y.inverse_transform(reg_randomForest.predict(x).reshape(-1, 1)), color='blue')\n",
    "plt.show()"
   ]
  },
  {
   "cell_type": "markdown",
   "id": "3dc94502",
   "metadata": {},
   "source": [
    "Grafica ajustada para mejor visualiacion del arbol"
   ]
  },
  {
   "cell_type": "code",
   "execution_count": 32,
   "id": "c0740cbc",
   "metadata": {},
   "outputs": [
    {
     "data": {
      "image/png": "[encoded data removed]",
      "text/plain": [
       "<Figure size 640x480 with 1 Axes>"
      ]
     },
     "metadata": {},
     "output_type": "display_data"
    }
   ],
   "source": [
    "plt.title('Regresion Bosque Aleatorio')\n",
    "plt.xlabel('Nivel de experiencia')\n",
    "plt.ylabel('Salario en Dolares')\n",
    "\n",
    "x_grid=np.arange(min(x),max(x), 0.1)\n",
    "x_grid=x_grid.reshape(len(x_grid),1)\n",
    "\n",
    "plt.scatter(sc_x.inverse_transform(x), sc_y.inverse_transform(y), color='red')\n",
    "plt.plot(sc_x.inverse_transform(x_grid), sc_y.inverse_transform(reg_randomForest.predict(x_grid).reshape(-1, 1)), color='blue')\n",
    "plt.show()"
   ]
  },
  {
   "cell_type": "markdown",
   "id": "3a97752c",
   "metadata": {},
   "source": [
    "Este modelo es mas creible que el de Arboles de Desicion."
   ]
  },
  {
   "cell_type": "markdown",
   "id": "0c13b9ec",
   "metadata": {},
   "source": [
    "Ahora miramos de ponerle un mayor numero de estimadores en la creacion del modelo, de 10 a 100 por ejemplo. Mejora a 0,93 el r2.\n",
    "La grafica se ve mejor. Con 300 a 0,95. \n",
    "Con 1000 arboles estimadores baja el R2. No mejora. Con 300 va mejor."
   ]
  },
  {
   "cell_type": "code",
   "execution_count": null,
   "id": "59daee6d",
   "metadata": {},
   "outputs": [],
   "source": []
  },
  {
   "cell_type": "code",
   "execution_count": null,
   "id": "63ed080f",
   "metadata": {},
   "outputs": [],
   "source": []
  },
  {
   "cell_type": "code",
   "execution_count": null,
   "id": "57226295",
   "metadata": {},
   "outputs": [],
   "source": []
  },
  {
   "cell_type": "code",
   "execution_count": null,
   "id": "d7bd9b89",
   "metadata": {},
   "outputs": [],
   "source": []
  },
  {
   "cell_type": "code",
   "execution_count": null,
   "id": "95dd1a7a",
   "metadata": {},
   "outputs": [],
   "source": []
  },
  {
   "cell_type": "code",
   "execution_count": null,
   "id": "ee306cee",
   "metadata": {},
   "outputs": [],
   "source": []
  },
  {
   "cell_type": "code",
   "execution_count": 7,
   "id": "8eb81fb4",
   "metadata": {},
   "outputs": [],
   "source": [
    "x=df.iloc[:,[1]].values # [[]] para que sea un array de arrays o sea matriz y luego no tenga que hacer el reshape en los modelos\n",
    "y=df.iloc[:,[2]].values"
   ]
  },
  {
   "cell_type": "markdown",
   "id": "cc9d3ddb",
   "metadata": {},
   "source": [
    "#### Normalizacion/estandarizacion en este modelo SI que hay que hacerlo."
   ]
  },
  {
   "cell_type": "code",
   "execution_count": 8,
   "id": "e38fe863",
   "metadata": {},
   "outputs": [],
   "source": [
    "from sklearn.preprocessing import StandardScaler\n"
   ]
  },
  {
   "cell_type": "code",
   "execution_count": null,
   "id": "3c0c1c16",
   "metadata": {},
   "outputs": [],
   "source": []
  }
 ],
 "metadata": {
  "kernelspec": {
   "display_name": "Python 3 (ipykernel)",
   "language": "python",
   "name": "python3"
  },
  "language_info": {
   "codemirror_mode": {
    "name": "ipython",
    "version": 3
   },
   "file_extension": ".py",
   "mimetype": "text/x-python",
   "name": "python",
   "nbconvert_exporter": "python",
   "pygments_lexer": "ipython3",
   "version": "3.9.13"
  }
 },
 "nbformat": 4,
 "nbformat_minor": 5
}
