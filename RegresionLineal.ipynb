{
 "cells": [
  {
   "cell_type": "markdown",
   "id": "7504f321",
   "metadata": {},
   "source": [
    "### Regresion lineal\n",
    "\n",
    "Sirve para predecir una variable en funcion de otra, por medio de la obtencion de la funcion lineal que mas aproxima la nube de puntos que conforman ambas varibles en un grafico cartesiano. "
   ]
  },
  {
   "cell_type": "code",
   "execution_count": 3,
   "id": "84700b5e",
   "metadata": {},
   "outputs": [],
   "source": [
    "import numpy as np\n",
    "import pandas as pd\n",
    "import matplotlib.pyplot as plt"
   ]
  },
  {
   "cell_type": "markdown",
   "id": "e38cc941",
   "metadata": {},
   "source": [
    "#### Importar datos"
   ]
  },
  {
   "cell_type": "code",
   "execution_count": 6,
   "id": "6921aa72",
   "metadata": {},
   "outputs": [],
   "source": [
    "df=pd.read_csv(r'C:\\Users\\carolina\\Desktop\\FormDataAnalyst\\Modelos\\regresion_simple.csv')"
   ]
  },
  {
   "cell_type": "code",
   "execution_count": 7,
   "id": "7e1084fd",
   "metadata": {},
   "outputs": [
    {
     "data": {
      "text/html": [
       "<div>\n",
       "<style scoped>\n",
       "    .dataframe tbody tr th:only-of-type {\n",
       "        vertical-align: middle;\n",
       "    }\n",
       "\n",
       "    .dataframe tbody tr th {\n",
       "        vertical-align: top;\n",
       "    }\n",
       "\n",
       "    .dataframe thead th {\n",
       "        text-align: right;\n",
       "    }\n",
       "</style>\n",
       "<table border=\"1\" class=\"dataframe\">\n",
       "  <thead>\n",
       "    <tr style=\"text-align: right;\">\n",
       "      <th></th>\n",
       "      <th>YearsExperience</th>\n",
       "      <th>Salary</th>\n",
       "    </tr>\n",
       "  </thead>\n",
       "  <tbody>\n",
       "    <tr>\n",
       "      <th>count</th>\n",
       "      <td>30.000000</td>\n",
       "      <td>30.000000</td>\n",
       "    </tr>\n",
       "    <tr>\n",
       "      <th>mean</th>\n",
       "      <td>5.313333</td>\n",
       "      <td>76003.000000</td>\n",
       "    </tr>\n",
       "    <tr>\n",
       "      <th>std</th>\n",
       "      <td>2.837888</td>\n",
       "      <td>27414.429785</td>\n",
       "    </tr>\n",
       "    <tr>\n",
       "      <th>min</th>\n",
       "      <td>1.100000</td>\n",
       "      <td>37731.000000</td>\n",
       "    </tr>\n",
       "    <tr>\n",
       "      <th>25%</th>\n",
       "      <td>3.200000</td>\n",
       "      <td>56720.750000</td>\n",
       "    </tr>\n",
       "    <tr>\n",
       "      <th>50%</th>\n",
       "      <td>4.700000</td>\n",
       "      <td>65237.000000</td>\n",
       "    </tr>\n",
       "    <tr>\n",
       "      <th>75%</th>\n",
       "      <td>7.700000</td>\n",
       "      <td>100544.750000</td>\n",
       "    </tr>\n",
       "    <tr>\n",
       "      <th>max</th>\n",
       "      <td>10.500000</td>\n",
       "      <td>122391.000000</td>\n",
       "    </tr>\n",
       "  </tbody>\n",
       "</table>\n",
       "</div>"
      ],
      "text/plain": [
       "       YearsExperience         Salary\n",
       "count        30.000000      30.000000\n",
       "mean          5.313333   76003.000000\n",
       "std           2.837888   27414.429785\n",
       "min           1.100000   37731.000000\n",
       "25%           3.200000   56720.750000\n",
       "50%           4.700000   65237.000000\n",
       "75%           7.700000  100544.750000\n",
       "max          10.500000  122391.000000"
      ]
     },
     "execution_count": 7,
     "metadata": {},
     "output_type": "execute_result"
    }
   ],
   "source": [
    "df.describe() # desbalanceada la simetria a izquierda en cuanto a años de experiencia (la mediana esta mas a la iz que la media)"
   ]
  },
  {
   "cell_type": "code",
   "execution_count": 11,
   "id": "184dd731",
   "metadata": {},
   "outputs": [
    {
     "data": {
      "text/plain": [
       "(30, 2)"
      ]
     },
     "execution_count": 11,
     "metadata": {},
     "output_type": "execute_result"
    }
   ],
   "source": [
    "df2.shape"
   ]
  },
  {
   "cell_type": "code",
   "execution_count": 13,
   "id": "87c3974d",
   "metadata": {},
   "outputs": [
    {
     "data": {
      "text/html": [
       "<div>\n",
       "<style scoped>\n",
       "    .dataframe tbody tr th:only-of-type {\n",
       "        vertical-align: middle;\n",
       "    }\n",
       "\n",
       "    .dataframe tbody tr th {\n",
       "        vertical-align: top;\n",
       "    }\n",
       "\n",
       "    .dataframe thead th {\n",
       "        text-align: right;\n",
       "    }\n",
       "</style>\n",
       "<table border=\"1\" class=\"dataframe\">\n",
       "  <thead>\n",
       "    <tr style=\"text-align: right;\">\n",
       "      <th></th>\n",
       "      <th>YearsExperience</th>\n",
       "      <th>Salary</th>\n",
       "    </tr>\n",
       "  </thead>\n",
       "  <tbody>\n",
       "    <tr>\n",
       "      <th>YearsExperience</th>\n",
       "      <td>1.000000</td>\n",
       "      <td>0.978242</td>\n",
       "    </tr>\n",
       "    <tr>\n",
       "      <th>Salary</th>\n",
       "      <td>0.978242</td>\n",
       "      <td>1.000000</td>\n",
       "    </tr>\n",
       "  </tbody>\n",
       "</table>\n",
       "</div>"
      ],
      "text/plain": [
       "                 YearsExperience    Salary\n",
       "YearsExperience         1.000000  0.978242\n",
       "Salary                  0.978242  1.000000"
      ]
     },
     "execution_count": 13,
     "metadata": {},
     "output_type": "execute_result"
    }
   ],
   "source": [
    "df2.corr()# las variables se explican mutuamente"
   ]
  },
  {
   "cell_type": "code",
   "execution_count": 14,
   "id": "70618e89",
   "metadata": {},
   "outputs": [
    {
     "data": {
      "text/plain": [
       "<AxesSubplot:>"
      ]
     },
     "execution_count": 14,
     "metadata": {},
     "output_type": "execute_result"
    },
    {
     "data": {
      "image/png": "[encoded data removed]",
      "text/plain": [
       "<Figure size 640x480 with 1 Axes>"
      ]
     },
     "metadata": {},
     "output_type": "display_data"
    }
   ],
   "source": [
    "df2['YearsExperience'].plot.box()"
   ]
  },
  {
   "cell_type": "code",
   "execution_count": 8,
   "id": "35872d40",
   "metadata": {},
   "outputs": [
    {
     "data": {
      "text/plain": [
       "<AxesSubplot:>"
      ]
     },
     "execution_count": 8,
     "metadata": {},
     "output_type": "execute_result"
    },
    {
     "data": {
      "image/png": "[encoded data removed]",
      "text/plain": [
       "<Figure size 640x480 with 1 Axes>"
      ]
     },
     "metadata": {},
     "output_type": "display_data"
    }
   ],
   "source": [
    "df['Salary'].plot.box()"
   ]
  },
  {
   "cell_type": "code",
   "execution_count": 15,
   "id": "1455f509",
   "metadata": {},
   "outputs": [],
   "source": [
    "## En los salarios hay mas dispersion"
   ]
  },
  {
   "cell_type": "code",
   "execution_count": 9,
   "id": "a36fae73",
   "metadata": {
    "scrolled": true
   },
   "outputs": [
    {
     "data": {
      "text/plain": [
       "Index(['YearsExperience', 'Salary'], dtype='object')"
      ]
     },
     "execution_count": 9,
     "metadata": {},
     "output_type": "execute_result"
    }
   ],
   "source": [
    "df.columns"
   ]
  },
  {
   "cell_type": "markdown",
   "id": "622b7c6b",
   "metadata": {},
   "source": [
    "#### TRANFORMACION DE LAS VARIABLES"
   ]
  },
  {
   "cell_type": "markdown",
   "id": "c6c5c72c",
   "metadata": {},
   "source": [
    "#### Missing values no hay"
   ]
  },
  {
   "cell_type": "code",
   "execution_count": 17,
   "id": "23dbdd76",
   "metadata": {},
   "outputs": [
    {
     "data": {
      "text/plain": [
       "False"
      ]
     },
     "execution_count": 17,
     "metadata": {},
     "output_type": "execute_result"
    }
   ],
   "source": [
    "df.isnull().values.any()"
   ]
  },
  {
   "cell_type": "markdown",
   "id": "2b911c6d",
   "metadata": {},
   "source": [
    "#### Dummificacion / recategorizacion\n",
    "\n",
    "no hay variables categoricas"
   ]
  },
  {
   "cell_type": "markdown",
   "id": "806a1c28",
   "metadata": {},
   "source": [
    "#### Division en variable dependiente e independiente."
   ]
  },
  {
   "cell_type": "code",
   "execution_count": 18,
   "id": "a87a7fea",
   "metadata": {},
   "outputs": [],
   "source": [
    "# En este caso tengo dos variables con una se intenta explicar la otra.\n",
    "# Cada una puede actuar como dependiente o independiente pero escogemos Salario como objetivo porque tiene mas sentido"
   ]
  },
  {
   "cell_type": "code",
   "execution_count": 19,
   "id": "f128bfac",
   "metadata": {},
   "outputs": [],
   "source": [
    "x=df.iloc[:,0].values\n",
    "y=df.iloc[:,1].values"
   ]
  },
  {
   "cell_type": "markdown",
   "id": "837c6d48",
   "metadata": {},
   "source": [
    "#### Obtengo lote training y test"
   ]
  },
  {
   "cell_type": "code",
   "execution_count": 21,
   "id": "70152d9e",
   "metadata": {},
   "outputs": [],
   "source": [
    "from sklearn.model_selection import train_test_split"
   ]
  },
  {
   "cell_type": "code",
   "execution_count": 22,
   "id": "c524ddf1",
   "metadata": {},
   "outputs": [],
   "source": [
    "x_train, x_test, y_train, y_test = train_test_split(x,y,test_size=0.2, random_state=1987)"
   ]
  },
  {
   "cell_type": "code",
   "execution_count": 23,
   "id": "439c19d9",
   "metadata": {},
   "outputs": [
    {
     "data": {
      "text/plain": [
       "array([1.1, 3.2, 7.1, 1.5, 9. , 2.9, 6.8, 1.3, 3.7, 4. , 9.6, 2.2, 6. ,\n",
       "       5.1, 5.9, 5.3, 8.2, 3.2, 9.5, 3. , 3.9, 2. , 4.5, 4. ])"
      ]
     },
     "execution_count": 23,
     "metadata": {},
     "output_type": "execute_result"
    }
   ],
   "source": [
    "x_train"
   ]
  },
  {
   "cell_type": "code",
   "execution_count": 24,
   "id": "a3b931c8",
   "metadata": {},
   "outputs": [
    {
     "data": {
      "text/plain": [
       "array([ 4.9,  7.9, 10.5,  4.1, 10.3,  8.7])"
      ]
     },
     "execution_count": 24,
     "metadata": {},
     "output_type": "execute_result"
    }
   ],
   "source": [
    "x_test"
   ]
  },
  {
   "cell_type": "code",
   "execution_count": 25,
   "id": "86379703",
   "metadata": {},
   "outputs": [
    {
     "data": {
      "text/plain": [
       "array([ 39343.,  64445.,  98273.,  37731., 105582.,  56642.,  91738.,\n",
       "        46205.,  57189.,  55794., 112635.,  39891.,  93940.,  66029.,\n",
       "        81363.,  83088., 113812.,  54445., 116969.,  60150.,  63218.,\n",
       "        43525.,  61111.,  56957.])"
      ]
     },
     "execution_count": 25,
     "metadata": {},
     "output_type": "execute_result"
    }
   ],
   "source": [
    "y_train"
   ]
  },
  {
   "cell_type": "code",
   "execution_count": 26,
   "id": "1a072386",
   "metadata": {},
   "outputs": [
    {
     "data": {
      "text/plain": [
       "array([ 67938., 101302., 121872.,  57081., 122391., 109431.])"
      ]
     },
     "execution_count": 26,
     "metadata": {},
     "output_type": "execute_result"
    }
   ],
   "source": [
    "y_test"
   ]
  },
  {
   "cell_type": "markdown",
   "id": "6b6f8118",
   "metadata": {},
   "source": [
    "#### Normalizacion no hace falta en este caso"
   ]
  },
  {
   "cell_type": "markdown",
   "id": "2e322200",
   "metadata": {},
   "source": [
    "Los modelos de regresion lineal simple y multiple no son sensibles al escalado de las variables.\n",
    "No es necesario normalizar en modelos de regresion lineal."
   ]
  },
  {
   "cell_type": "markdown",
   "id": "822dbfb1",
   "metadata": {},
   "source": [
    "#### Creacion del modelo"
   ]
  },
  {
   "cell_type": "markdown",
   "id": "db165479",
   "metadata": {},
   "source": [
    "Creación"
   ]
  },
  {
   "cell_type": "code",
   "execution_count": 20,
   "id": "16218d13",
   "metadata": {},
   "outputs": [],
   "source": [
    "from sklearn.linear_model import LinearRegression\n",
    "\n",
    "# scikit-learn.org/stable/modules/generated/sklearn.linear_model.LinearRegression.html\n",
    "# sklearn.linear_model.LinearRegression"
   ]
  },
  {
   "cell_type": "code",
   "execution_count": 27,
   "id": "b1767b76",
   "metadata": {},
   "outputs": [
    {
     "data": {
      "text/html": [
       "<style>#sk-container-id-1 {color: black;background-color: white;}#sk-container-id-1 pre{padding: 0;}#sk-container-id-1 div.sk-toggleable {background-color: white;}#sk-container-id-1 label.sk-toggleable__label {cursor: pointer;display: block;width: 100%;margin-bottom: 0;padding: 0.3em;box-sizing: border-box;text-align: center;}#sk-container-id-1 label.sk-toggleable__label-arrow:before {content: \"▸\";float: left;margin-right: 0.25em;color: #696969;}#sk-container-id-1 label.sk-toggleable__label-arrow:hover:before {color: black;}#sk-container-id-1 div.sk-estimator:hover label.sk-toggleable__label-arrow:before {color: black;}#sk-container-id-1 div.sk-toggleable__content {max-height: 0;max-width: 0;overflow: hidden;text-align: left;background-color: #f0f8ff;}#sk-container-id-1 div.sk-toggleable__content pre {margin: 0.2em;color: black;border-radius: 0.25em;background-color: #f0f8ff;}#sk-container-id-1 input.sk-toggleable__control:checked~div.sk-toggleable__content {max-height: 200px;max-width: 100%;overflow: auto;}#sk-container-id-1 input.sk-toggleable__control:checked~label.sk-toggleable__label-arrow:before {content: \"▾\";}#sk-container-id-1 div.sk-estimator input.sk-toggleable__control:checked~label.sk-toggleable__label {background-color: #d4ebff;}#sk-container-id-1 div.sk-label input.sk-toggleable__control:checked~label.sk-toggleable__label {background-color: #d4ebff;}#sk-container-id-1 input.sk-hidden--visually {border: 0;clip: rect(1px 1px 1px 1px);clip: rect(1px, 1px, 1px, 1px);height: 1px;margin: -1px;overflow: hidden;padding: 0;position: absolute;width: 1px;}#sk-container-id-1 div.sk-estimator {font-family: monospace;background-color: #f0f8ff;border: 1px dotted black;border-radius: 0.25em;box-sizing: border-box;margin-bottom: 0.5em;}#sk-container-id-1 div.sk-estimator:hover {background-color: #d4ebff;}#sk-container-id-1 div.sk-parallel-item::after {content: \"\";width: 100%;border-bottom: 1px solid gray;flex-grow: 1;}#sk-container-id-1 div.sk-label:hover label.sk-toggleable__label {background-color: #d4ebff;}#sk-container-id-1 div.sk-serial::before {content: \"\";position: absolute;border-left: 1px solid gray;box-sizing: border-box;top: 0;bottom: 0;left: 50%;z-index: 0;}#sk-container-id-1 div.sk-serial {display: flex;flex-direction: column;align-items: center;background-color: white;padding-right: 0.2em;padding-left: 0.2em;position: relative;}#sk-container-id-1 div.sk-item {position: relative;z-index: 1;}#sk-container-id-1 div.sk-parallel {display: flex;align-items: stretch;justify-content: center;background-color: white;position: relative;}#sk-container-id-1 div.sk-item::before, #sk-container-id-1 div.sk-parallel-item::before {content: \"\";position: absolute;border-left: 1px solid gray;box-sizing: border-box;top: 0;bottom: 0;left: 50%;z-index: -1;}#sk-container-id-1 div.sk-parallel-item {display: flex;flex-direction: column;z-index: 1;position: relative;background-color: white;}#sk-container-id-1 div.sk-parallel-item:first-child::after {align-self: flex-end;width: 50%;}#sk-container-id-1 div.sk-parallel-item:last-child::after {align-self: flex-start;width: 50%;}#sk-container-id-1 div.sk-parallel-item:only-child::after {width: 0;}#sk-container-id-1 div.sk-dashed-wrapped {border: 1px dashed gray;margin: 0 0.4em 0.5em 0.4em;box-sizing: border-box;padding-bottom: 0.4em;background-color: white;}#sk-container-id-1 div.sk-label label {font-family: monospace;font-weight: bold;display: inline-block;line-height: 1.2em;}#sk-container-id-1 div.sk-label-container {text-align: center;}#sk-container-id-1 div.sk-container {/* jupyter's `normalize.less` sets `[hidden] { display: none; }` but bootstrap.min.css set `[hidden] { display: none !important; }` so we also need the `!important` here to be able to override the default hidden behavior on the sphinx rendered scikit-learn.org. See: https://github.com/scikit-learn/scikit-learn/issues/21755 */display: inline-block !important;position: relative;}#sk-container-id-1 div.sk-text-repr-fallback {display: none;}</style><div id=\"sk-container-id-1\" class=\"sk-top-container\"><div class=\"sk-text-repr-fallback\"><pre>LinearRegression()</pre><b>In a Jupyter environment, please rerun this cell to show the HTML representation or trust the notebook. <br />On GitHub, the HTML representation is unable to render, please try loading this page with nbviewer.org.</b></div><div class=\"sk-container\" hidden><div class=\"sk-item\"><div class=\"sk-estimator sk-toggleable\"><input class=\"sk-toggleable__control sk-hidden--visually\" id=\"sk-estimator-id-1\" type=\"checkbox\" checked><label for=\"sk-estimator-id-1\" class=\"sk-toggleable__label sk-toggleable__label-arrow\">LinearRegression</label><div class=\"sk-toggleable__content\"><pre>LinearRegression()</pre></div></div></div></div></div>"
      ],
      "text/plain": [
       "LinearRegression()"
      ]
     },
     "execution_count": 27,
     "metadata": {},
     "output_type": "execute_result"
    }
   ],
   "source": [
    "regresion=LinearRegression()\n",
    "regresion.fit(x_train.reshape(-1,1),y_train.reshape(-1,1))"
   ]
  },
  {
   "cell_type": "markdown",
   "id": "1f04a3d6",
   "metadata": {},
   "source": [
    "Prediccion"
   ]
  },
  {
   "cell_type": "code",
   "execution_count": 30,
   "id": "a10008e9",
   "metadata": {},
   "outputs": [],
   "source": [
    "y_pred=regresion.predict(x_test.reshape(-1,1))"
   ]
  },
  {
   "cell_type": "code",
   "execution_count": 34,
   "id": "883dc074",
   "metadata": {},
   "outputs": [
    {
     "data": {
      "text/plain": [
       "array([[ 72660.43185848],\n",
       "       [101209.58268693],\n",
       "       [125952.18007158],\n",
       "       [ 65047.3249709 ],\n",
       "       [124048.90334969],\n",
       "       [108822.68957452]])"
      ]
     },
     "execution_count": 34,
     "metadata": {},
     "output_type": "execute_result"
    }
   ],
   "source": [
    "y_pred"
   ]
  },
  {
   "cell_type": "code",
   "execution_count": 32,
   "id": "0c725d4c",
   "metadata": {},
   "outputs": [
    {
     "data": {
      "text/plain": [
       "array([ 67938., 101302., 121872.,  57081., 122391., 109431.])"
      ]
     },
     "execution_count": 32,
     "metadata": {},
     "output_type": "execute_result"
    }
   ],
   "source": [
    "y_test"
   ]
  },
  {
   "cell_type": "markdown",
   "id": "ebc975d9",
   "metadata": {},
   "source": [
    "#### Evaluación del modelo"
   ]
  },
  {
   "cell_type": "markdown",
   "id": "8ce048bd",
   "metadata": {},
   "source": [
    "##### R cuadrado o coheficiente de determinacion\n",
    " \n",
    "Refleja la bondad del ajuste de un modelo a la variable que pretender explicar.\n",
    "\n",
    "Sera un valor entre -1 (en relaciones inversamente proporcionales) y 1 (en relaciones directamente proporcionales)\n",
    "\n",
    "Cuando mas aproxime R^2 a 1 o -1 mejor será el modelo"
   ]
  },
  {
   "cell_type": "code",
   "execution_count": 35,
   "id": "b2bb4e94",
   "metadata": {},
   "outputs": [],
   "source": [
    "from sklearn.metrics import r2_score"
   ]
  },
  {
   "cell_type": "markdown",
   "id": "defe0c3a",
   "metadata": {},
   "source": [
    "Primero lo vemos sobre los datos de entrenamiento"
   ]
  },
  {
   "cell_type": "code",
   "execution_count": 37,
   "id": "f1afcfe8",
   "metadata": {},
   "outputs": [
    {
     "data": {
      "text/plain": [
       "0.9426487631517732"
      ]
     },
     "execution_count": 37,
     "metadata": {},
     "output_type": "execute_result"
    }
   ],
   "source": [
    "# coef R2\n",
    "r2_score(y_train.reshape(-1,1), regresion.predict(x_train.reshape(-1,1)))"
   ]
  },
  {
   "cell_type": "code",
   "execution_count": 38,
   "id": "16a967c6",
   "metadata": {},
   "outputs": [
    {
     "data": {
      "text/plain": [
       "0.9727559282344286"
      ]
     },
     "execution_count": 38,
     "metadata": {},
     "output_type": "execute_result"
    }
   ],
   "source": [
    "r2_score(y_test.reshape(-1,1), regresion.predict(x_test.reshape(-1,1)))"
   ]
  },
  {
   "cell_type": "code",
   "execution_count": 40,
   "id": "c44b0053",
   "metadata": {},
   "outputs": [],
   "source": [
    "## no deberia dar mejor en test que en training\n",
    "\n",
    "# Hay un sobreajuste porque los datos son pocos"
   ]
  },
  {
   "cell_type": "code",
   "execution_count": 39,
   "id": "25e2aa9f",
   "metadata": {},
   "outputs": [
    {
     "data": {
      "text/plain": [
       "array([ 39343.,  64445.,  98273.,  37731., 105582.,  56642.,  91738.,\n",
       "        46205.,  57189.,  55794., 112635.,  39891.,  93940.,  66029.,\n",
       "        81363.,  83088., 113812.,  54445., 116969.,  60150.,  63218.,\n",
       "        43525.,  61111.,  56957.])"
      ]
     },
     "execution_count": 39,
     "metadata": {},
     "output_type": "execute_result"
    }
   ],
   "source": []
  },
  {
   "cell_type": "code",
   "execution_count": 43,
   "id": "4cc2da92",
   "metadata": {},
   "outputs": [
    {
     "data": {
      "text/plain": [
       "<function matplotlib.pyplot.show(close=None, block=None)>"
      ]
     },
     "execution_count": 43,
     "metadata": {},
     "output_type": "execute_result"
    },
    {
     "data": {
      "image/png": "[encoded data removed]",
      "text/plain": [
       "<Figure size 640x480 with 1 Axes>"
      ]
     },
     "metadata": {},
     "output_type": "display_data"
    }
   ],
   "source": [
    "plt.title('Sueldo Vs Años de experiencia')\n",
    "plt.xlabel('Años de experiencia')\n",
    "plt.ylabel('Sueldo')\n",
    "plt.scatter(x_test, y_test, color='red')\n",
    "plt.plot(x_test, regresion.predict(x_test.reshape(-1,1)), color='blue')\n",
    "plt.show"
   ]
  },
  {
   "cell_type": "markdown",
   "id": "8a958759",
   "metadata": {},
   "source": [
    "### Mismo ejercicio con el lote de los motores\n",
    "\n",
    "Analizamos: horsepower Vs cylinders para regresion lineal"
   ]
  },
  {
   "cell_type": "code",
   "execution_count": 2,
   "id": "82da9284",
   "metadata": {},
   "outputs": [],
   "source": [
    "import pandas as pd\n",
    "import numpy as np\n",
    "import matplotlib.pyplot as plt "
   ]
  },
  {
   "cell_type": "code",
   "execution_count": 347,
   "id": "557be285",
   "metadata": {},
   "outputs": [],
   "source": [
    "# Carga de los datos\n",
    "df_mpg=pd.read_csv(r\"C:\\Users\\carolina\\Desktop\\FormDataAnalyst\\Visualizacion\\datos_visualizazion_mpg.csv\")"
   ]
  },
  {
   "cell_type": "code",
   "execution_count": 348,
   "id": "e1140d08",
   "metadata": {},
   "outputs": [
    {
     "data": {
      "text/plain": [
       "(398, 9)"
      ]
     },
     "execution_count": 348,
     "metadata": {},
     "output_type": "execute_result"
    }
   ],
   "source": [
    "df_mpg.shape"
   ]
  },
  {
   "cell_type": "code",
   "execution_count": 349,
   "id": "b20dcc62",
   "metadata": {},
   "outputs": [
    {
     "data": {
      "text/html": [
       "<div>\n",
       "<style scoped>\n",
       "    .dataframe tbody tr th:only-of-type {\n",
       "        vertical-align: middle;\n",
       "    }\n",
       "\n",
       "    .dataframe tbody tr th {\n",
       "        vertical-align: top;\n",
       "    }\n",
       "\n",
       "    .dataframe thead th {\n",
       "        text-align: right;\n",
       "    }\n",
       "</style>\n",
       "<table border=\"1\" class=\"dataframe\">\n",
       "  <thead>\n",
       "    <tr style=\"text-align: right;\">\n",
       "      <th></th>\n",
       "      <th>mpg</th>\n",
       "      <th>cylinders</th>\n",
       "      <th>displacement</th>\n",
       "      <th>horsepower</th>\n",
       "      <th>weight</th>\n",
       "      <th>acceleration</th>\n",
       "      <th>model_year</th>\n",
       "      <th>origin</th>\n",
       "      <th>name</th>\n",
       "    </tr>\n",
       "  </thead>\n",
       "  <tbody>\n",
       "    <tr>\n",
       "      <th>193</th>\n",
       "      <td>24.0</td>\n",
       "      <td>6</td>\n",
       "      <td>200.0</td>\n",
       "      <td>81.0</td>\n",
       "      <td>3012</td>\n",
       "      <td>17.6</td>\n",
       "      <td>76</td>\n",
       "      <td>usa</td>\n",
       "      <td>ford maverick</td>\n",
       "    </tr>\n",
       "    <tr>\n",
       "      <th>139</th>\n",
       "      <td>14.0</td>\n",
       "      <td>8</td>\n",
       "      <td>302.0</td>\n",
       "      <td>140.0</td>\n",
       "      <td>4638</td>\n",
       "      <td>16.0</td>\n",
       "      <td>74</td>\n",
       "      <td>usa</td>\n",
       "      <td>ford gran torino (sw)</td>\n",
       "    </tr>\n",
       "    <tr>\n",
       "      <th>51</th>\n",
       "      <td>30.0</td>\n",
       "      <td>4</td>\n",
       "      <td>79.0</td>\n",
       "      <td>70.0</td>\n",
       "      <td>2074</td>\n",
       "      <td>19.5</td>\n",
       "      <td>71</td>\n",
       "      <td>europe</td>\n",
       "      <td>peugeot 304</td>\n",
       "    </tr>\n",
       "    <tr>\n",
       "      <th>357</th>\n",
       "      <td>32.9</td>\n",
       "      <td>4</td>\n",
       "      <td>119.0</td>\n",
       "      <td>100.0</td>\n",
       "      <td>2615</td>\n",
       "      <td>14.8</td>\n",
       "      <td>81</td>\n",
       "      <td>japan</td>\n",
       "      <td>datsun 200sx</td>\n",
       "    </tr>\n",
       "  </tbody>\n",
       "</table>\n",
       "</div>"
      ],
      "text/plain": [
       "      mpg  cylinders  displacement  horsepower  weight  acceleration  \\\n",
       "193  24.0          6         200.0        81.0    3012          17.6   \n",
       "139  14.0          8         302.0       140.0    4638          16.0   \n",
       "51   30.0          4          79.0        70.0    2074          19.5   \n",
       "357  32.9          4         119.0       100.0    2615          14.8   \n",
       "\n",
       "     model_year  origin                   name  \n",
       "193          76     usa          ford maverick  \n",
       "139          74     usa  ford gran torino (sw)  \n",
       "51           71  europe            peugeot 304  \n",
       "357          81   japan           datsun 200sx  "
      ]
     },
     "execution_count": 349,
     "metadata": {},
     "output_type": "execute_result"
    }
   ],
   "source": [
    "df_mpg.sample(4)"
   ]
  },
  {
   "cell_type": "code",
   "execution_count": 693,
   "id": "760ae5fa",
   "metadata": {},
   "outputs": [],
   "source": [
    "##### Trabajare solo cylinders y horsepower\n",
    "dfCH=df_mpg[['cylinders','horsepower']]"
   ]
  },
  {
   "cell_type": "code",
   "execution_count": 368,
   "id": "8649850c",
   "metadata": {},
   "outputs": [],
   "source": [
    "#dfCH.values"
   ]
  },
  {
   "cell_type": "code",
   "execution_count": 369,
   "id": "88c7d38d",
   "metadata": {},
   "outputs": [
    {
     "data": {
      "text/html": [
       "<div>\n",
       "<style scoped>\n",
       "    .dataframe tbody tr th:only-of-type {\n",
       "        vertical-align: middle;\n",
       "    }\n",
       "\n",
       "    .dataframe tbody tr th {\n",
       "        vertical-align: top;\n",
       "    }\n",
       "\n",
       "    .dataframe thead th {\n",
       "        text-align: right;\n",
       "    }\n",
       "</style>\n",
       "<table border=\"1\" class=\"dataframe\">\n",
       "  <thead>\n",
       "    <tr style=\"text-align: right;\">\n",
       "      <th></th>\n",
       "      <th>cylinders</th>\n",
       "      <th>horsepower</th>\n",
       "    </tr>\n",
       "  </thead>\n",
       "  <tbody>\n",
       "    <tr>\n",
       "      <th>70</th>\n",
       "      <td>8</td>\n",
       "      <td>190.0</td>\n",
       "    </tr>\n",
       "    <tr>\n",
       "      <th>193</th>\n",
       "      <td>6</td>\n",
       "      <td>81.0</td>\n",
       "    </tr>\n",
       "    <tr>\n",
       "      <th>177</th>\n",
       "      <td>4</td>\n",
       "      <td>95.0</td>\n",
       "    </tr>\n",
       "    <tr>\n",
       "      <th>387</th>\n",
       "      <td>6</td>\n",
       "      <td>85.0</td>\n",
       "    </tr>\n",
       "  </tbody>\n",
       "</table>\n",
       "</div>"
      ],
      "text/plain": [
       "     cylinders  horsepower\n",
       "70           8       190.0\n",
       "193          6        81.0\n",
       "177          4        95.0\n",
       "387          6        85.0"
      ]
     },
     "execution_count": 369,
     "metadata": {},
     "output_type": "execute_result"
    }
   ],
   "source": [
    "dfCH.sample(4)"
   ]
  },
  {
   "cell_type": "code",
   "execution_count": 666,
   "id": "71e8433e",
   "metadata": {},
   "outputs": [
    {
     "data": {
      "text/html": [
       "<div>\n",
       "<style scoped>\n",
       "    .dataframe tbody tr th:only-of-type {\n",
       "        vertical-align: middle;\n",
       "    }\n",
       "\n",
       "    .dataframe tbody tr th {\n",
       "        vertical-align: top;\n",
       "    }\n",
       "\n",
       "    .dataframe thead th {\n",
       "        text-align: right;\n",
       "    }\n",
       "</style>\n",
       "<table border=\"1\" class=\"dataframe\">\n",
       "  <thead>\n",
       "    <tr style=\"text-align: right;\">\n",
       "      <th></th>\n",
       "      <th>cylinders</th>\n",
       "      <th>horsepower</th>\n",
       "    </tr>\n",
       "  </thead>\n",
       "  <tbody>\n",
       "    <tr>\n",
       "      <th>cylinders</th>\n",
       "      <td>1.000000</td>\n",
       "      <td>0.842983</td>\n",
       "    </tr>\n",
       "    <tr>\n",
       "      <th>horsepower</th>\n",
       "      <td>0.842983</td>\n",
       "      <td>1.000000</td>\n",
       "    </tr>\n",
       "  </tbody>\n",
       "</table>\n",
       "</div>"
      ],
      "text/plain": [
       "            cylinders  horsepower\n",
       "cylinders    1.000000    0.842983\n",
       "horsepower   0.842983    1.000000"
      ]
     },
     "execution_count": 666,
     "metadata": {},
     "output_type": "execute_result"
    }
   ],
   "source": [
    "dfCH.corr() "
   ]
  },
  {
   "cell_type": "code",
   "execution_count": 371,
   "id": "9d435e87",
   "metadata": {},
   "outputs": [],
   "source": [
    "# correlacion cilindros/horsepower 0.84"
   ]
  },
  {
   "cell_type": "code",
   "execution_count": 372,
   "id": "13342f7d",
   "metadata": {},
   "outputs": [
    {
     "data": {
      "text/html": [
       "<div>\n",
       "<style scoped>\n",
       "    .dataframe tbody tr th:only-of-type {\n",
       "        vertical-align: middle;\n",
       "    }\n",
       "\n",
       "    .dataframe tbody tr th {\n",
       "        vertical-align: top;\n",
       "    }\n",
       "\n",
       "    .dataframe thead th {\n",
       "        text-align: right;\n",
       "    }\n",
       "</style>\n",
       "<table border=\"1\" class=\"dataframe\">\n",
       "  <thead>\n",
       "    <tr style=\"text-align: right;\">\n",
       "      <th></th>\n",
       "      <th>cylinders</th>\n",
       "      <th>horsepower</th>\n",
       "    </tr>\n",
       "  </thead>\n",
       "  <tbody>\n",
       "    <tr>\n",
       "      <th>count</th>\n",
       "      <td>398.000000</td>\n",
       "      <td>392.000000</td>\n",
       "    </tr>\n",
       "    <tr>\n",
       "      <th>mean</th>\n",
       "      <td>5.454774</td>\n",
       "      <td>104.469388</td>\n",
       "    </tr>\n",
       "    <tr>\n",
       "      <th>std</th>\n",
       "      <td>1.701004</td>\n",
       "      <td>38.491160</td>\n",
       "    </tr>\n",
       "    <tr>\n",
       "      <th>min</th>\n",
       "      <td>3.000000</td>\n",
       "      <td>46.000000</td>\n",
       "    </tr>\n",
       "    <tr>\n",
       "      <th>25%</th>\n",
       "      <td>4.000000</td>\n",
       "      <td>75.000000</td>\n",
       "    </tr>\n",
       "    <tr>\n",
       "      <th>50%</th>\n",
       "      <td>4.000000</td>\n",
       "      <td>93.500000</td>\n",
       "    </tr>\n",
       "    <tr>\n",
       "      <th>75%</th>\n",
       "      <td>8.000000</td>\n",
       "      <td>126.000000</td>\n",
       "    </tr>\n",
       "    <tr>\n",
       "      <th>max</th>\n",
       "      <td>8.000000</td>\n",
       "      <td>230.000000</td>\n",
       "    </tr>\n",
       "  </tbody>\n",
       "</table>\n",
       "</div>"
      ],
      "text/plain": [
       "        cylinders  horsepower\n",
       "count  398.000000  392.000000\n",
       "mean     5.454774  104.469388\n",
       "std      1.701004   38.491160\n",
       "min      3.000000   46.000000\n",
       "25%      4.000000   75.000000\n",
       "50%      4.000000   93.500000\n",
       "75%      8.000000  126.000000\n",
       "max      8.000000  230.000000"
      ]
     },
     "execution_count": 372,
     "metadata": {},
     "output_type": "execute_result"
    }
   ],
   "source": [
    "dfCH.describe()"
   ]
  },
  {
   "cell_type": "code",
   "execution_count": 667,
   "id": "3acc4eeb",
   "metadata": {},
   "outputs": [
    {
     "data": {
      "text/plain": [
       "4    204\n",
       "8    103\n",
       "6     84\n",
       "3      4\n",
       "5      3\n",
       "Name: cylinders, dtype: int64"
      ]
     },
     "execution_count": 667,
     "metadata": {},
     "output_type": "execute_result"
    }
   ],
   "source": [
    "dfCH['cylinders'].value_counts() # podria verse como una variable categorica. Son solo 5 valores diferentes\n",
    "                                # Variable cuantitativa con valores discretos"
   ]
  },
  {
   "cell_type": "code",
   "execution_count": 355,
   "id": "633ad92d",
   "metadata": {},
   "outputs": [
    {
     "data": {
      "text/plain": [
       "150.0    22\n",
       "90.0     20\n",
       "88.0     19\n",
       "110.0    18\n",
       "100.0    17\n",
       "         ..\n",
       "61.0      1\n",
       "93.0      1\n",
       "148.0     1\n",
       "152.0     1\n",
       "82.0      1\n",
       "Name: horsepower, Length: 93, dtype: int64"
      ]
     },
     "execution_count": 355,
     "metadata": {},
     "output_type": "execute_result"
    }
   ],
   "source": [
    "dfCH['horsepower'].value_counts() # variable cuantitativa"
   ]
  },
  {
   "cell_type": "code",
   "execution_count": 668,
   "id": "48853904",
   "metadata": {},
   "outputs": [
    {
     "data": {
      "text/plain": [
       "<AxesSubplot:>"
      ]
     },
     "execution_count": 668,
     "metadata": {},
     "output_type": "execute_result"
    },
    {
     "data": {
      "image/png": "[encoded data removed]",
      "text/plain": [
       "<Figure size 640x480 with 1 Axes>"
      ]
     },
     "metadata": {},
     "output_type": "display_data"
    }
   ],
   "source": [
    "dfCH['horsepower'].plot.box() # hay outliers"
   ]
  },
  {
   "cell_type": "code",
   "execution_count": 494,
   "id": "dc30ffab",
   "metadata": {},
   "outputs": [],
   "source": [
    "# solo hay Outliers en horsepower"
   ]
  },
  {
   "cell_type": "code",
   "execution_count": 694,
   "id": "e8913ba8",
   "metadata": {},
   "outputs": [
    {
     "data": {
      "text/plain": [
       "51.0"
      ]
     },
     "execution_count": 694,
     "metadata": {},
     "output_type": "execute_result"
    }
   ],
   "source": [
    "RI=dfCH.horsepower.quantile([.75])[0.75]-dfCH.horsepower.quantile([.25])[0.25]\n",
    "RI"
   ]
  },
  {
   "cell_type": "code",
   "execution_count": 695,
   "id": "e15e073a",
   "metadata": {},
   "outputs": [
    {
     "data": {
      "text/plain": [
       "51.0"
      ]
     },
     "execution_count": 695,
     "metadata": {},
     "output_type": "execute_result"
    }
   ],
   "source": [
    "dfCH.horsepower.quantile([.75])[0.75]-dfCH.horsepower.quantile([.25])[0.25]"
   ]
  },
  {
   "cell_type": "code",
   "execution_count": 696,
   "id": "28a454d1",
   "metadata": {},
   "outputs": [],
   "source": [
    "# Determino los limites para OUTLIERS\n",
    "out_low=abs(dfCH['horsepower'].quantile([.25])[0.25]-1.5*RI)\n",
    "out_hig=abs(dfCH['horsepower'].quantile([.75])[0.75]+1.5*RI)\n"
   ]
  },
  {
   "cell_type": "code",
   "execution_count": 697,
   "id": "960eb3b5",
   "metadata": {},
   "outputs": [
    {
     "data": {
      "text/plain": [
       "(1.5, 202.5)"
      ]
     },
     "execution_count": 697,
     "metadata": {},
     "output_type": "execute_result"
    }
   ],
   "source": [
    "out_low,out_hig\n",
    "#(1.5, 202.5)"
   ]
  },
  {
   "cell_type": "code",
   "execution_count": 698,
   "id": "9f7a2feb",
   "metadata": {},
   "outputs": [
    {
     "data": {
      "text/plain": [
       "cylinders     0\n",
       "horsepower    0\n",
       "dtype: int64"
      ]
     },
     "execution_count": 698,
     "metadata": {},
     "output_type": "execute_result"
    }
   ],
   "source": [
    "dfCH[dfCH['horsepower']<1.5].count() # <2.5 no hay YA SE VEIA EN LA GRAFICA QUE ESTAN POR ARRIBA"
   ]
  },
  {
   "cell_type": "code",
   "execution_count": 699,
   "id": "3faaf54b",
   "metadata": {},
   "outputs": [
    {
     "data": {
      "text/plain": [
       "cylinders     10\n",
       "horsepower    10\n",
       "dtype: int64"
      ]
     },
     "execution_count": 699,
     "metadata": {},
     "output_type": "execute_result"
    }
   ],
   "source": [
    "dfCH[dfCH['horsepower']>202].count() # HAY 10"
   ]
  },
  {
   "cell_type": "code",
   "execution_count": 700,
   "id": "5ab657da",
   "metadata": {},
   "outputs": [
    {
     "data": {
      "text/plain": [
       "(398, 2)"
      ]
     },
     "execution_count": 700,
     "metadata": {},
     "output_type": "execute_result"
    }
   ],
   "source": [
    "dfCH.shape"
   ]
  },
  {
   "cell_type": "code",
   "execution_count": 701,
   "id": "ad6d6961",
   "metadata": {},
   "outputs": [
    {
     "data": {
      "text/plain": [
       "cylinders     False\n",
       "horsepower     True\n",
       "dtype: bool"
      ]
     },
     "execution_count": 701,
     "metadata": {},
     "output_type": "execute_result"
    }
   ],
   "source": [
    "# Valores Nan \n",
    "\n",
    "dfCH.isnull().any()"
   ]
  },
  {
   "cell_type": "code",
   "execution_count": 702,
   "id": "9747f549",
   "metadata": {},
   "outputs": [
    {
     "data": {
      "text/html": [
       "<div>\n",
       "<style scoped>\n",
       "    .dataframe tbody tr th:only-of-type {\n",
       "        vertical-align: middle;\n",
       "    }\n",
       "\n",
       "    .dataframe tbody tr th {\n",
       "        vertical-align: top;\n",
       "    }\n",
       "\n",
       "    .dataframe thead th {\n",
       "        text-align: right;\n",
       "    }\n",
       "</style>\n",
       "<table border=\"1\" class=\"dataframe\">\n",
       "  <thead>\n",
       "    <tr style=\"text-align: right;\">\n",
       "      <th></th>\n",
       "      <th>cylinders</th>\n",
       "      <th>horsepower</th>\n",
       "    </tr>\n",
       "  </thead>\n",
       "  <tbody>\n",
       "    <tr>\n",
       "      <th>32</th>\n",
       "      <td>4</td>\n",
       "      <td>NaN</td>\n",
       "    </tr>\n",
       "    <tr>\n",
       "      <th>126</th>\n",
       "      <td>6</td>\n",
       "      <td>NaN</td>\n",
       "    </tr>\n",
       "    <tr>\n",
       "      <th>330</th>\n",
       "      <td>4</td>\n",
       "      <td>NaN</td>\n",
       "    </tr>\n",
       "    <tr>\n",
       "      <th>336</th>\n",
       "      <td>4</td>\n",
       "      <td>NaN</td>\n",
       "    </tr>\n",
       "    <tr>\n",
       "      <th>354</th>\n",
       "      <td>4</td>\n",
       "      <td>NaN</td>\n",
       "    </tr>\n",
       "    <tr>\n",
       "      <th>374</th>\n",
       "      <td>4</td>\n",
       "      <td>NaN</td>\n",
       "    </tr>\n",
       "  </tbody>\n",
       "</table>\n",
       "</div>"
      ],
      "text/plain": [
       "     cylinders  horsepower\n",
       "32           4         NaN\n",
       "126          6         NaN\n",
       "330          4         NaN\n",
       "336          4         NaN\n",
       "354          4         NaN\n",
       "374          4         NaN"
      ]
     },
     "execution_count": 702,
     "metadata": {},
     "output_type": "execute_result"
    }
   ],
   "source": [
    "dfCH[dfCH['horsepower'].isna()]"
   ]
  },
  {
   "cell_type": "code",
   "execution_count": 703,
   "id": "3332d7af",
   "metadata": {},
   "outputs": [
    {
     "data": {
      "text/plain": [
       "[32, 126, 330, 336, 354, 374]"
      ]
     },
     "execution_count": 703,
     "metadata": {},
     "output_type": "execute_result"
    }
   ],
   "source": [
    "list(dfCH[dfCH['horsepower'].isna()].index)"
   ]
  },
  {
   "cell_type": "markdown",
   "id": "8ee9a624",
   "metadata": {},
   "source": [
    "##### Valoracion de Nan y outliers (estan en horsepower)\n",
    "\n",
    "Nan = 6\n",
    "\n",
    "Outliers = 10\n",
    "\n",
    "Total 16\n",
    "\n"
   ]
  },
  {
   "cell_type": "code",
   "execution_count": 528,
   "id": "be5c654f",
   "metadata": {},
   "outputs": [
    {
     "data": {
      "text/plain": [
       "4.0201005025125625"
      ]
     },
     "execution_count": 528,
     "metadata": {},
     "output_type": "execute_result"
    }
   ],
   "source": [
    "16*100/398"
   ]
  },
  {
   "cell_type": "markdown",
   "id": "11965eda",
   "metadata": {},
   "source": [
    "#### Estrategia de casos a modelar \n",
    "\n",
    "* RegLin1 : eliminando Nan y outliers\n",
    "* RegLin2 : reconstruir Nan y outliers segun origen por mediana de la clase\n",
    "* RegLin3 : reconstruir Nan y outliers con la media general\n",
    "\n",
    "\n"
   ]
  },
  {
   "cell_type": "markdown",
   "id": "001376a0",
   "metadata": {},
   "source": [
    "#### Tratamiento de missing"
   ]
  },
  {
   "cell_type": "markdown",
   "id": "a908aa8c",
   "metadata": {},
   "source": [
    "CASO 1 ELIMINAR NANs Y OUTLIERS"
   ]
  },
  {
   "cell_type": "code",
   "execution_count": 704,
   "id": "b50eacff",
   "metadata": {},
   "outputs": [
    {
     "data": {
      "text/plain": [
       "(382, 2)"
      ]
     },
     "execution_count": 704,
     "metadata": {},
     "output_type": "execute_result"
    }
   ],
   "source": [
    "#RegLin1\n",
    "dfCH[dfCH['horsepower']<out_hig].shape  # aqui tampoco entran los NaN por eso da 382 (398 - 10 outliers - 6 Nan)"
   ]
  },
  {
   "cell_type": "code",
   "execution_count": 705,
   "id": "43af1dcc",
   "metadata": {},
   "outputs": [
    {
     "data": {
      "text/plain": [
       "4.0201005025125625"
      ]
     },
     "execution_count": 705,
     "metadata": {},
     "output_type": "execute_result"
    }
   ],
   "source": [
    "100-dfCH[dfCH['horsepower']<out_hig].shape[0]*100/dfCH.shape[0] # porcentaje que elimino"
   ]
  },
  {
   "cell_type": "code",
   "execution_count": 786,
   "id": "eda1ccdb",
   "metadata": {},
   "outputs": [
    {
     "data": {
      "text/plain": [
       "(382, 2)"
      ]
     },
     "execution_count": 786,
     "metadata": {},
     "output_type": "execute_result"
    }
   ],
   "source": [
    "# Genero el df de la reg lineal 1 sin NaN y sin outliers\n",
    "\n",
    "RegLin1=dfCH[dfCH['horsepower']<=out_hig]\n",
    "RegLin1.shape ## Ya estan eliminados "
   ]
  },
  {
   "cell_type": "code",
   "execution_count": 789,
   "id": "014427da",
   "metadata": {},
   "outputs": [],
   "source": [
    "del dfRegLin1 ## eliminar variable borrar variable"
   ]
  },
  {
   "cell_type": "markdown",
   "id": "e330025d",
   "metadata": {},
   "source": [
    "CASO 2 RECONSTRUCCION DE NAN Y OUTLIERS SEGUN MEDIANA DE LA CLASE"
   ]
  },
  {
   "cell_type": "code",
   "execution_count": 707,
   "id": "bd390c86",
   "metadata": {},
   "outputs": [
    {
     "data": {
      "text/plain": [
       "[6, 7, 8, 13, 25, 27, 67, 94, 95, 116]"
      ]
     },
     "execution_count": 707,
     "metadata": {},
     "output_type": "execute_result"
    }
   ],
   "source": [
    "# RegLin2\n",
    "list(dfCH[dfCH['horsepower']>out_hig].index)"
   ]
  },
  {
   "cell_type": "code",
   "execution_count": 708,
   "id": "6fef7e4f",
   "metadata": {},
   "outputs": [
    {
     "data": {
      "text/plain": [
       "cylinders  horsepower\n",
       "False      False         392\n",
       "           True            6\n",
       "dtype: int64"
      ]
     },
     "execution_count": 708,
     "metadata": {},
     "output_type": "execute_result"
    }
   ],
   "source": [
    "dfCH.isna().value_counts()"
   ]
  },
  {
   "cell_type": "code",
   "execution_count": 709,
   "id": "04559cd4",
   "metadata": {},
   "outputs": [
    {
     "data": {
      "text/plain": [
       "cylinders     False\n",
       "horsepower     True\n",
       "dtype: bool"
      ]
     },
     "execution_count": 709,
     "metadata": {},
     "output_type": "execute_result"
    }
   ],
   "source": [
    "dfCH.isna().any()"
   ]
  },
  {
   "cell_type": "code",
   "execution_count": 710,
   "id": "4aeae59e",
   "metadata": {},
   "outputs": [
    {
     "name": "stdout",
     "output_type": "stream",
     "text": [
      "<class 'pandas.core.frame.DataFrame'>\n",
      "RangeIndex: 398 entries, 0 to 397\n",
      "Data columns (total 2 columns):\n",
      " #   Column      Non-Null Count  Dtype  \n",
      "---  ------      --------------  -----  \n",
      " 0   cylinders   398 non-null    int64  \n",
      " 1   horsepower  392 non-null    float64\n",
      "dtypes: float64(1), int64(1)\n",
      "memory usage: 6.3 KB\n"
     ]
    }
   ],
   "source": [
    "dfCH.info()"
   ]
  },
  {
   "cell_type": "code",
   "execution_count": 711,
   "id": "421d603d",
   "metadata": {},
   "outputs": [],
   "source": [
    "# COPIO EL DF PARA EL CASO 2 (CUIDADO AL COPIAR CON = ES UNA ASIGNACION POR REFERENCIA!!!)\n",
    "\n",
    "RegLin2=dfCH.copy()"
   ]
  },
  {
   "cell_type": "code",
   "execution_count": 712,
   "id": "67f1a70b",
   "metadata": {},
   "outputs": [],
   "source": [
    "# cambio a nan los outliers utilizando la lista de indices \n",
    "\n",
    "RegLin2.iloc[list(RegLin2[RegLin2['horsepower']>out_hig].index),1]=np.nan\n",
    "\n",
    "#NOTA IMPORTANTE: LAS ASIGNACIONES HAN DE HACERSE CON ILOC POR INDICES (PASAR LISTA DE INDICES DE LA CONSULTA)"
   ]
  },
  {
   "cell_type": "code",
   "execution_count": 713,
   "id": "ba31fabb",
   "metadata": {},
   "outputs": [
    {
     "data": {
      "text/plain": [
       "cylinders  horsepower\n",
       "False      False         382\n",
       "           True           16\n",
       "dtype: int64"
      ]
     },
     "execution_count": 713,
     "metadata": {},
     "output_type": "execute_result"
    }
   ],
   "source": [
    "RegLin2.isna().value_counts()  # correcto 6 que habia mas 10 de outliers = 16"
   ]
  },
  {
   "cell_type": "code",
   "execution_count": 714,
   "id": "17308f30",
   "metadata": {},
   "outputs": [
    {
     "data": {
      "text/html": [
       "<div>\n",
       "<style scoped>\n",
       "    .dataframe tbody tr th:only-of-type {\n",
       "        vertical-align: middle;\n",
       "    }\n",
       "\n",
       "    .dataframe tbody tr th {\n",
       "        vertical-align: top;\n",
       "    }\n",
       "\n",
       "    .dataframe thead th {\n",
       "        text-align: right;\n",
       "    }\n",
       "</style>\n",
       "<table border=\"1\" class=\"dataframe\">\n",
       "  <thead>\n",
       "    <tr style=\"text-align: right;\">\n",
       "      <th></th>\n",
       "      <th>cylinders</th>\n",
       "      <th>horsepower</th>\n",
       "    </tr>\n",
       "  </thead>\n",
       "  <tbody>\n",
       "    <tr>\n",
       "      <th>6</th>\n",
       "      <td>8</td>\n",
       "      <td>NaN</td>\n",
       "    </tr>\n",
       "    <tr>\n",
       "      <th>7</th>\n",
       "      <td>8</td>\n",
       "      <td>NaN</td>\n",
       "    </tr>\n",
       "    <tr>\n",
       "      <th>8</th>\n",
       "      <td>8</td>\n",
       "      <td>NaN</td>\n",
       "    </tr>\n",
       "    <tr>\n",
       "      <th>13</th>\n",
       "      <td>8</td>\n",
       "      <td>NaN</td>\n",
       "    </tr>\n",
       "    <tr>\n",
       "      <th>25</th>\n",
       "      <td>8</td>\n",
       "      <td>NaN</td>\n",
       "    </tr>\n",
       "    <tr>\n",
       "      <th>27</th>\n",
       "      <td>8</td>\n",
       "      <td>NaN</td>\n",
       "    </tr>\n",
       "    <tr>\n",
       "      <th>67</th>\n",
       "      <td>8</td>\n",
       "      <td>NaN</td>\n",
       "    </tr>\n",
       "    <tr>\n",
       "      <th>94</th>\n",
       "      <td>8</td>\n",
       "      <td>NaN</td>\n",
       "    </tr>\n",
       "    <tr>\n",
       "      <th>95</th>\n",
       "      <td>8</td>\n",
       "      <td>NaN</td>\n",
       "    </tr>\n",
       "    <tr>\n",
       "      <th>116</th>\n",
       "      <td>8</td>\n",
       "      <td>NaN</td>\n",
       "    </tr>\n",
       "  </tbody>\n",
       "</table>\n",
       "</div>"
      ],
      "text/plain": [
       "     cylinders  horsepower\n",
       "6            8         NaN\n",
       "7            8         NaN\n",
       "8            8         NaN\n",
       "13           8         NaN\n",
       "25           8         NaN\n",
       "27           8         NaN\n",
       "67           8         NaN\n",
       "94           8         NaN\n",
       "95           8         NaN\n",
       "116          8         NaN"
      ]
     },
     "execution_count": 714,
     "metadata": {},
     "output_type": "execute_result"
    }
   ],
   "source": [
    "RegLin2.iloc[[6, 7, 8, 13, 25, 27, 67, 94, 95, 116],:] # aqui estan ya como nan"
   ]
  },
  {
   "cell_type": "markdown",
   "id": "c7461c9e",
   "metadata": {},
   "source": []
  },
  {
   "cell_type": "code",
   "execution_count": 658,
   "id": "b0b6b3a8",
   "metadata": {},
   "outputs": [
    {
     "data": {
      "text/html": [
       "<div>\n",
       "<style scoped>\n",
       "    .dataframe tbody tr th:only-of-type {\n",
       "        vertical-align: middle;\n",
       "    }\n",
       "\n",
       "    .dataframe tbody tr th {\n",
       "        vertical-align: top;\n",
       "    }\n",
       "\n",
       "    .dataframe thead th {\n",
       "        text-align: right;\n",
       "    }\n",
       "</style>\n",
       "<table border=\"1\" class=\"dataframe\">\n",
       "  <thead>\n",
       "    <tr style=\"text-align: right;\">\n",
       "      <th></th>\n",
       "      <th>cylinders</th>\n",
       "      <th>horsepower</th>\n",
       "    </tr>\n",
       "  </thead>\n",
       "  <tbody>\n",
       "    <tr>\n",
       "      <th>count</th>\n",
       "      <td>84.0</td>\n",
       "      <td>83.000000</td>\n",
       "    </tr>\n",
       "    <tr>\n",
       "      <th>mean</th>\n",
       "      <td>6.0</td>\n",
       "      <td>101.506024</td>\n",
       "    </tr>\n",
       "    <tr>\n",
       "      <th>std</th>\n",
       "      <td>0.0</td>\n",
       "      <td>14.310472</td>\n",
       "    </tr>\n",
       "    <tr>\n",
       "      <th>min</th>\n",
       "      <td>6.0</td>\n",
       "      <td>72.000000</td>\n",
       "    </tr>\n",
       "    <tr>\n",
       "      <th>25%</th>\n",
       "      <td>6.0</td>\n",
       "      <td>92.500000</td>\n",
       "    </tr>\n",
       "    <tr>\n",
       "      <th>50%</th>\n",
       "      <td>6.0</td>\n",
       "      <td>100.000000</td>\n",
       "    </tr>\n",
       "    <tr>\n",
       "      <th>75%</th>\n",
       "      <td>6.0</td>\n",
       "      <td>110.000000</td>\n",
       "    </tr>\n",
       "    <tr>\n",
       "      <th>max</th>\n",
       "      <td>6.0</td>\n",
       "      <td>165.000000</td>\n",
       "    </tr>\n",
       "  </tbody>\n",
       "</table>\n",
       "</div>"
      ],
      "text/plain": [
       "       cylinders  horsepower\n",
       "count       84.0   83.000000\n",
       "mean         6.0  101.506024\n",
       "std          0.0   14.310472\n",
       "min          6.0   72.000000\n",
       "25%          6.0   92.500000\n",
       "50%          6.0  100.000000\n",
       "75%          6.0  110.000000\n",
       "max          6.0  165.000000"
      ]
     },
     "execution_count": 658,
     "metadata": {},
     "output_type": "execute_result"
    }
   ],
   "source": [
    "# Observo distribucion para saber si reemplazare con median o mean\n",
    "\n",
    "RegLin2[RegLin2['cylinders']==8].describe() # esta por la mediana\n",
    "RegLin2[RegLin2['cylinders']==4].describe() # esta por la mediana\n",
    "RegLin2[RegLin2['cylinders']==6].describe() # esta por la mediana"
   ]
  },
  {
   "cell_type": "markdown",
   "id": "10618eb0",
   "metadata": {},
   "source": [
    "* Obtengo los indices con los que recuperar los nan y las medianas para la asignacion"
   ]
  },
  {
   "cell_type": "code",
   "execution_count": 715,
   "id": "de833515",
   "metadata": {},
   "outputs": [
    {
     "data": {
      "text/plain": [
       "150.0"
      ]
     },
     "execution_count": 715,
     "metadata": {},
     "output_type": "execute_result"
    }
   ],
   "source": [
    "\n",
    "# Los de cilindro=8\n",
    "\n",
    "list(RegLin2[RegLin2['horsepower'].isnull()].query('cylinders==8').index) # lista de indices para la asignacion\n",
    "RegLin2[RegLin2['cylinders']==8].median()['horsepower'] #mediana con la que reemplazar los nulos\n"
   ]
  },
  {
   "cell_type": "code",
   "execution_count": 716,
   "id": "cac4d2b1",
   "metadata": {},
   "outputs": [],
   "source": [
    "#asignacion\n",
    "RegLin2.iloc[list(RegLin2[RegLin2['horsepower'].isnull()].query('cylinders==8').index),1]=RegLin2[RegLin2['cylinders']==8].median()['horsepower']\n"
   ]
  },
  {
   "cell_type": "code",
   "execution_count": 717,
   "id": "66c8ddf8",
   "metadata": {},
   "outputs": [],
   "source": [
    "# asignacion cilindros 4 y 6\n",
    "RegLin2.iloc[list(RegLin2[RegLin2['horsepower'].isnull()].query('cylinders==6').index),1]=RegLin2[RegLin2['cylinders']==6].median()['horsepower']\n",
    "RegLin2.iloc[list(RegLin2[RegLin2['horsepower'].isnull()].query('cylinders==4').index),1]=RegLin2[RegLin2['cylinders']==4].median()['horsepower']\n"
   ]
  },
  {
   "cell_type": "code",
   "execution_count": 719,
   "id": "77f89e97",
   "metadata": {},
   "outputs": [
    {
     "data": {
      "text/plain": [
       "cylinders     False\n",
       "horsepower    False\n",
       "dtype: bool"
      ]
     },
     "execution_count": 719,
     "metadata": {},
     "output_type": "execute_result"
    }
   ],
   "source": [
    "# comprobacion YA NO HAY NULOS\n",
    "RegLin2.isnull().any()"
   ]
  },
  {
   "cell_type": "code",
   "execution_count": 721,
   "id": "33a1ee3c",
   "metadata": {},
   "outputs": [
    {
     "data": {
      "text/html": [
       "<div>\n",
       "<style scoped>\n",
       "    .dataframe tbody tr th:only-of-type {\n",
       "        vertical-align: middle;\n",
       "    }\n",
       "\n",
       "    .dataframe tbody tr th {\n",
       "        vertical-align: top;\n",
       "    }\n",
       "\n",
       "    .dataframe thead th {\n",
       "        text-align: right;\n",
       "    }\n",
       "</style>\n",
       "<table border=\"1\" class=\"dataframe\">\n",
       "  <thead>\n",
       "    <tr style=\"text-align: right;\">\n",
       "      <th></th>\n",
       "      <th>cylinders</th>\n",
       "      <th>horsepower</th>\n",
       "    </tr>\n",
       "  </thead>\n",
       "  <tbody>\n",
       "    <tr>\n",
       "      <th>6</th>\n",
       "      <td>8</td>\n",
       "      <td>150.0</td>\n",
       "    </tr>\n",
       "    <tr>\n",
       "      <th>7</th>\n",
       "      <td>8</td>\n",
       "      <td>150.0</td>\n",
       "    </tr>\n",
       "    <tr>\n",
       "      <th>8</th>\n",
       "      <td>8</td>\n",
       "      <td>150.0</td>\n",
       "    </tr>\n",
       "    <tr>\n",
       "      <th>13</th>\n",
       "      <td>8</td>\n",
       "      <td>150.0</td>\n",
       "    </tr>\n",
       "    <tr>\n",
       "      <th>25</th>\n",
       "      <td>8</td>\n",
       "      <td>150.0</td>\n",
       "    </tr>\n",
       "    <tr>\n",
       "      <th>27</th>\n",
       "      <td>8</td>\n",
       "      <td>150.0</td>\n",
       "    </tr>\n",
       "    <tr>\n",
       "      <th>67</th>\n",
       "      <td>8</td>\n",
       "      <td>150.0</td>\n",
       "    </tr>\n",
       "    <tr>\n",
       "      <th>94</th>\n",
       "      <td>8</td>\n",
       "      <td>150.0</td>\n",
       "    </tr>\n",
       "    <tr>\n",
       "      <th>95</th>\n",
       "      <td>8</td>\n",
       "      <td>150.0</td>\n",
       "    </tr>\n",
       "    <tr>\n",
       "      <th>116</th>\n",
       "      <td>8</td>\n",
       "      <td>150.0</td>\n",
       "    </tr>\n",
       "  </tbody>\n",
       "</table>\n",
       "</div>"
      ],
      "text/plain": [
       "     cylinders  horsepower\n",
       "6            8       150.0\n",
       "7            8       150.0\n",
       "8            8       150.0\n",
       "13           8       150.0\n",
       "25           8       150.0\n",
       "27           8       150.0\n",
       "67           8       150.0\n",
       "94           8       150.0\n",
       "95           8       150.0\n",
       "116          8       150.0"
      ]
     },
     "execution_count": 721,
     "metadata": {},
     "output_type": "execute_result"
    }
   ],
   "source": [
    "RegLin2.iloc[[6, 7, 8, 13, 25, 27, 67, 94, 95, 116],:] # LOS REGISTROS MODIFICARON CORRECTAMENTE EN CILINDROS 8"
   ]
  },
  {
   "cell_type": "code",
   "execution_count": 724,
   "id": "fcb09872",
   "metadata": {},
   "outputs": [
    {
     "data": {
      "text/html": [
       "<div>\n",
       "<style scoped>\n",
       "    .dataframe tbody tr th:only-of-type {\n",
       "        vertical-align: middle;\n",
       "    }\n",
       "\n",
       "    .dataframe tbody tr th {\n",
       "        vertical-align: top;\n",
       "    }\n",
       "\n",
       "    .dataframe thead th {\n",
       "        text-align: right;\n",
       "    }\n",
       "</style>\n",
       "<table border=\"1\" class=\"dataframe\">\n",
       "  <thead>\n",
       "    <tr style=\"text-align: right;\">\n",
       "      <th></th>\n",
       "      <th>cylinders</th>\n",
       "      <th>horsepower</th>\n",
       "    </tr>\n",
       "  </thead>\n",
       "  <tbody>\n",
       "    <tr>\n",
       "      <th>32</th>\n",
       "      <td>4</td>\n",
       "      <td>78.0</td>\n",
       "    </tr>\n",
       "    <tr>\n",
       "      <th>330</th>\n",
       "      <td>4</td>\n",
       "      <td>78.0</td>\n",
       "    </tr>\n",
       "    <tr>\n",
       "      <th>336</th>\n",
       "      <td>4</td>\n",
       "      <td>78.0</td>\n",
       "    </tr>\n",
       "    <tr>\n",
       "      <th>354</th>\n",
       "      <td>4</td>\n",
       "      <td>78.0</td>\n",
       "    </tr>\n",
       "    <tr>\n",
       "      <th>374</th>\n",
       "      <td>4</td>\n",
       "      <td>78.0</td>\n",
       "    </tr>\n",
       "  </tbody>\n",
       "</table>\n",
       "</div>"
      ],
      "text/plain": [
       "     cylinders  horsepower\n",
       "32           4        78.0\n",
       "330          4        78.0\n",
       "336          4        78.0\n",
       "354          4        78.0\n",
       "374          4        78.0"
      ]
     },
     "execution_count": 724,
     "metadata": {},
     "output_type": "execute_result"
    }
   ],
   "source": [
    "# indices de nulos en cilindro 4\n",
    "RegLin2.iloc[[32, 330, 336, 354, 374],:] # LOS REGISTROS MODIFICARON CORRECTAMENTE EN CILINDROS 4"
   ]
  },
  {
   "cell_type": "code",
   "execution_count": 726,
   "id": "26e8e5fc",
   "metadata": {},
   "outputs": [
    {
     "data": {
      "text/html": [
       "<div>\n",
       "<style scoped>\n",
       "    .dataframe tbody tr th:only-of-type {\n",
       "        vertical-align: middle;\n",
       "    }\n",
       "\n",
       "    .dataframe tbody tr th {\n",
       "        vertical-align: top;\n",
       "    }\n",
       "\n",
       "    .dataframe thead th {\n",
       "        text-align: right;\n",
       "    }\n",
       "</style>\n",
       "<table border=\"1\" class=\"dataframe\">\n",
       "  <thead>\n",
       "    <tr style=\"text-align: right;\">\n",
       "      <th></th>\n",
       "      <th>cylinders</th>\n",
       "      <th>horsepower</th>\n",
       "    </tr>\n",
       "  </thead>\n",
       "  <tbody>\n",
       "    <tr>\n",
       "      <th>126</th>\n",
       "      <td>6</td>\n",
       "      <td>100.0</td>\n",
       "    </tr>\n",
       "  </tbody>\n",
       "</table>\n",
       "</div>"
      ],
      "text/plain": [
       "     cylinders  horsepower\n",
       "126          6       100.0"
      ]
     },
     "execution_count": 726,
     "metadata": {},
     "output_type": "execute_result"
    }
   ],
   "source": [
    "# indice de nulos en cilindro 6\n",
    "RegLin2.iloc[[126],:] # REGISTRO MODIFICADO CORRECTAMENTE EN CILINDROS 6"
   ]
  },
  {
   "cell_type": "markdown",
   "id": "f27b10b6",
   "metadata": {},
   "source": [
    "CASO 3 RECONSTRUCCION DE NAN Y OUTLIERS SEGUN MEDIANA GENERAL"
   ]
  },
  {
   "cell_type": "code",
   "execution_count": 729,
   "id": "8f4a187d",
   "metadata": {},
   "outputs": [],
   "source": [
    "RegLin3=dfCH.copy()  # hacer un COPY para copia por valor, sino se hace copia por referencia."
   ]
  },
  {
   "cell_type": "code",
   "execution_count": 751,
   "id": "cfd07897",
   "metadata": {},
   "outputs": [
    {
     "data": {
      "text/html": [
       "<div>\n",
       "<style scoped>\n",
       "    .dataframe tbody tr th:only-of-type {\n",
       "        vertical-align: middle;\n",
       "    }\n",
       "\n",
       "    .dataframe tbody tr th {\n",
       "        vertical-align: top;\n",
       "    }\n",
       "\n",
       "    .dataframe thead th {\n",
       "        text-align: right;\n",
       "    }\n",
       "</style>\n",
       "<table border=\"1\" class=\"dataframe\">\n",
       "  <thead>\n",
       "    <tr style=\"text-align: right;\">\n",
       "      <th></th>\n",
       "      <th>cylinders</th>\n",
       "      <th>horsepower</th>\n",
       "    </tr>\n",
       "  </thead>\n",
       "  <tbody>\n",
       "    <tr>\n",
       "      <th>count</th>\n",
       "      <td>103.0</td>\n",
       "      <td>103.000000</td>\n",
       "    </tr>\n",
       "    <tr>\n",
       "      <th>mean</th>\n",
       "      <td>8.0</td>\n",
       "      <td>158.300971</td>\n",
       "    </tr>\n",
       "    <tr>\n",
       "      <th>std</th>\n",
       "      <td>0.0</td>\n",
       "      <td>28.453552</td>\n",
       "    </tr>\n",
       "    <tr>\n",
       "      <th>min</th>\n",
       "      <td>8.0</td>\n",
       "      <td>90.000000</td>\n",
       "    </tr>\n",
       "    <tr>\n",
       "      <th>25%</th>\n",
       "      <td>8.0</td>\n",
       "      <td>140.000000</td>\n",
       "    </tr>\n",
       "    <tr>\n",
       "      <th>50%</th>\n",
       "      <td>8.0</td>\n",
       "      <td>150.000000</td>\n",
       "    </tr>\n",
       "    <tr>\n",
       "      <th>75%</th>\n",
       "      <td>8.0</td>\n",
       "      <td>175.000000</td>\n",
       "    </tr>\n",
       "    <tr>\n",
       "      <th>max</th>\n",
       "      <td>8.0</td>\n",
       "      <td>230.000000</td>\n",
       "    </tr>\n",
       "  </tbody>\n",
       "</table>\n",
       "</div>"
      ],
      "text/plain": [
       "       cylinders  horsepower\n",
       "count      103.0  103.000000\n",
       "mean         8.0  158.300971\n",
       "std          0.0   28.453552\n",
       "min          8.0   90.000000\n",
       "25%          8.0  140.000000\n",
       "50%          8.0  150.000000\n",
       "75%          8.0  175.000000\n",
       "max          8.0  230.000000"
      ]
     },
     "execution_count": 751,
     "metadata": {},
     "output_type": "execute_result"
    }
   ],
   "source": [
    "RegLin3.describe() # me da que el que mal distribuye es cilindro 8\n",
    "# reemplazare por la mediana porque hay mala distribucion"
   ]
  },
  {
   "cell_type": "code",
   "execution_count": 758,
   "id": "4d44d6d1",
   "metadata": {},
   "outputs": [
    {
     "data": {
      "text/html": [
       "<div>\n",
       "<style scoped>\n",
       "    .dataframe tbody tr th:only-of-type {\n",
       "        vertical-align: middle;\n",
       "    }\n",
       "\n",
       "    .dataframe tbody tr th {\n",
       "        vertical-align: top;\n",
       "    }\n",
       "\n",
       "    .dataframe thead th {\n",
       "        text-align: right;\n",
       "    }\n",
       "</style>\n",
       "<table border=\"1\" class=\"dataframe\">\n",
       "  <thead>\n",
       "    <tr style=\"text-align: right;\">\n",
       "      <th></th>\n",
       "      <th>cylinders</th>\n",
       "      <th>horsepower</th>\n",
       "    </tr>\n",
       "  </thead>\n",
       "  <tbody>\n",
       "    <tr>\n",
       "      <th>count</th>\n",
       "      <td>295.000000</td>\n",
       "      <td>289.000000</td>\n",
       "    </tr>\n",
       "    <tr>\n",
       "      <th>mean</th>\n",
       "      <td>4.566102</td>\n",
       "      <td>85.283737</td>\n",
       "    </tr>\n",
       "    <tr>\n",
       "      <th>std</th>\n",
       "      <td>0.919296</td>\n",
       "      <td>17.859282</td>\n",
       "    </tr>\n",
       "    <tr>\n",
       "      <th>min</th>\n",
       "      <td>3.000000</td>\n",
       "      <td>46.000000</td>\n",
       "    </tr>\n",
       "    <tr>\n",
       "      <th>25%</th>\n",
       "      <td>4.000000</td>\n",
       "      <td>71.000000</td>\n",
       "    </tr>\n",
       "    <tr>\n",
       "      <th>50%</th>\n",
       "      <td>4.000000</td>\n",
       "      <td>86.000000</td>\n",
       "    </tr>\n",
       "    <tr>\n",
       "      <th>75%</th>\n",
       "      <td>6.000000</td>\n",
       "      <td>97.000000</td>\n",
       "    </tr>\n",
       "    <tr>\n",
       "      <th>max</th>\n",
       "      <td>6.000000</td>\n",
       "      <td>165.000000</td>\n",
       "    </tr>\n",
       "  </tbody>\n",
       "</table>\n",
       "</div>"
      ],
      "text/plain": [
       "        cylinders  horsepower\n",
       "count  295.000000  289.000000\n",
       "mean     4.566102   85.283737\n",
       "std      0.919296   17.859282\n",
       "min      3.000000   46.000000\n",
       "25%      4.000000   71.000000\n",
       "50%      4.000000   86.000000\n",
       "75%      6.000000   97.000000\n",
       "max      6.000000  165.000000"
      ]
     },
     "execution_count": 758,
     "metadata": {},
     "output_type": "execute_result"
    }
   ],
   "source": [
    "RegLin3[RegLin3['cylinders']!=8].describe() # cilindros 8 hace que la distribucion se desequilibre \n",
    "\n",
    "# En el caso 2 al corregir outliers se ha corregido\n",
    "# RegLin2[RegLin2['cylinders']==8].describe()"
   ]
  },
  {
   "cell_type": "code",
   "execution_count": 766,
   "id": "c01c1f1c",
   "metadata": {},
   "outputs": [
    {
     "data": {
      "text/plain": [
       "93.5"
      ]
     },
     "execution_count": 766,
     "metadata": {},
     "output_type": "execute_result"
    }
   ],
   "source": [
    "dfCH.median()['horsepower'] ## valor de reemplazo (mediana general)"
   ]
  },
  {
   "cell_type": "code",
   "execution_count": 780,
   "id": "e60e5857",
   "metadata": {},
   "outputs": [],
   "source": [
    "indices3=list(RegLin3[RegLin3['horsepower'].isnull()].index) # estos tienen que reasignarse con la mediana general"
   ]
  },
  {
   "cell_type": "code",
   "execution_count": 781,
   "id": "bb9f7855",
   "metadata": {},
   "outputs": [
    {
     "data": {
      "text/plain": [
       "[32, 126, 330, 336, 354, 374]"
      ]
     },
     "execution_count": 781,
     "metadata": {},
     "output_type": "execute_result"
    }
   ],
   "source": [
    "indices3"
   ]
  },
  {
   "cell_type": "code",
   "execution_count": 783,
   "id": "ec3c6014",
   "metadata": {},
   "outputs": [],
   "source": [
    "indices3.extend(list(RegLin3[RegLin3['horsepower']>out_hig].index))   # esto tambien"
   ]
  },
  {
   "cell_type": "code",
   "execution_count": 784,
   "id": "17e6d258",
   "metadata": {},
   "outputs": [
    {
     "data": {
      "text/plain": [
       "[32, 126, 330, 336, 354, 374, 6, 7, 8, 13, 25, 27, 67, 94, 95, 116]"
      ]
     },
     "execution_count": 784,
     "metadata": {},
     "output_type": "execute_result"
    }
   ],
   "source": [
    "indices3 # estos son los 16 reg "
   ]
  },
  {
   "cell_type": "code",
   "execution_count": 785,
   "id": "666982cf",
   "metadata": {},
   "outputs": [],
   "source": [
    "# asignacion\n",
    "\n",
    "RegLin3.iloc[indices3,1]=dfCH.median()['horsepower']"
   ]
  },
  {
   "cell_type": "code",
   "execution_count": 790,
   "id": "c4dccb55",
   "metadata": {},
   "outputs": [
    {
     "data": {
      "text/html": [
       "<div>\n",
       "<style scoped>\n",
       "    .dataframe tbody tr th:only-of-type {\n",
       "        vertical-align: middle;\n",
       "    }\n",
       "\n",
       "    .dataframe tbody tr th {\n",
       "        vertical-align: top;\n",
       "    }\n",
       "\n",
       "    .dataframe thead th {\n",
       "        text-align: right;\n",
       "    }\n",
       "</style>\n",
       "<table border=\"1\" class=\"dataframe\">\n",
       "  <thead>\n",
       "    <tr style=\"text-align: right;\">\n",
       "      <th></th>\n",
       "      <th>cylinders</th>\n",
       "      <th>horsepower</th>\n",
       "    </tr>\n",
       "  </thead>\n",
       "  <tbody>\n",
       "    <tr>\n",
       "      <th>32</th>\n",
       "      <td>4</td>\n",
       "      <td>93.5</td>\n",
       "    </tr>\n",
       "    <tr>\n",
       "      <th>126</th>\n",
       "      <td>6</td>\n",
       "      <td>93.5</td>\n",
       "    </tr>\n",
       "    <tr>\n",
       "      <th>330</th>\n",
       "      <td>4</td>\n",
       "      <td>93.5</td>\n",
       "    </tr>\n",
       "    <tr>\n",
       "      <th>336</th>\n",
       "      <td>4</td>\n",
       "      <td>93.5</td>\n",
       "    </tr>\n",
       "    <tr>\n",
       "      <th>354</th>\n",
       "      <td>4</td>\n",
       "      <td>93.5</td>\n",
       "    </tr>\n",
       "    <tr>\n",
       "      <th>374</th>\n",
       "      <td>4</td>\n",
       "      <td>93.5</td>\n",
       "    </tr>\n",
       "    <tr>\n",
       "      <th>6</th>\n",
       "      <td>8</td>\n",
       "      <td>93.5</td>\n",
       "    </tr>\n",
       "    <tr>\n",
       "      <th>7</th>\n",
       "      <td>8</td>\n",
       "      <td>93.5</td>\n",
       "    </tr>\n",
       "    <tr>\n",
       "      <th>8</th>\n",
       "      <td>8</td>\n",
       "      <td>93.5</td>\n",
       "    </tr>\n",
       "    <tr>\n",
       "      <th>13</th>\n",
       "      <td>8</td>\n",
       "      <td>93.5</td>\n",
       "    </tr>\n",
       "    <tr>\n",
       "      <th>25</th>\n",
       "      <td>8</td>\n",
       "      <td>93.5</td>\n",
       "    </tr>\n",
       "    <tr>\n",
       "      <th>27</th>\n",
       "      <td>8</td>\n",
       "      <td>93.5</td>\n",
       "    </tr>\n",
       "    <tr>\n",
       "      <th>67</th>\n",
       "      <td>8</td>\n",
       "      <td>93.5</td>\n",
       "    </tr>\n",
       "    <tr>\n",
       "      <th>94</th>\n",
       "      <td>8</td>\n",
       "      <td>93.5</td>\n",
       "    </tr>\n",
       "    <tr>\n",
       "      <th>95</th>\n",
       "      <td>8</td>\n",
       "      <td>93.5</td>\n",
       "    </tr>\n",
       "    <tr>\n",
       "      <th>116</th>\n",
       "      <td>8</td>\n",
       "      <td>93.5</td>\n",
       "    </tr>\n",
       "  </tbody>\n",
       "</table>\n",
       "</div>"
      ],
      "text/plain": [
       "     cylinders  horsepower\n",
       "32           4        93.5\n",
       "126          6        93.5\n",
       "330          4        93.5\n",
       "336          4        93.5\n",
       "354          4        93.5\n",
       "374          4        93.5\n",
       "6            8        93.5\n",
       "7            8        93.5\n",
       "8            8        93.5\n",
       "13           8        93.5\n",
       "25           8        93.5\n",
       "27           8        93.5\n",
       "67           8        93.5\n",
       "94           8        93.5\n",
       "95           8        93.5\n",
       "116          8        93.5"
      ]
     },
     "execution_count": 790,
     "metadata": {},
     "output_type": "execute_result"
    }
   ],
   "source": [
    "RegLin3.iloc[indices3,:] # COMPROBADO"
   ]
  },
  {
   "cell_type": "code",
   "execution_count": null,
   "id": "1d464284",
   "metadata": {},
   "outputs": [],
   "source": []
  },
  {
   "cell_type": "markdown",
   "id": "76d22fce",
   "metadata": {},
   "source": [
    "#### YA ESTAN LOS DATOS PREPARADOS PARA SEPARAR LOTES DE TRAINING Y TEST Y MODELAR CON REG LINEAL"
   ]
  },
  {
   "cell_type": "markdown",
   "id": "79087360",
   "metadata": {},
   "source": [
    "CASO 1 RegLin1"
   ]
  },
  {
   "cell_type": "code",
   "execution_count": 853,
   "id": "9e81b2c7",
   "metadata": {},
   "outputs": [
    {
     "data": {
      "text/html": [
       "<div>\n",
       "<style scoped>\n",
       "    .dataframe tbody tr th:only-of-type {\n",
       "        vertical-align: middle;\n",
       "    }\n",
       "\n",
       "    .dataframe tbody tr th {\n",
       "        vertical-align: top;\n",
       "    }\n",
       "\n",
       "    .dataframe thead th {\n",
       "        text-align: right;\n",
       "    }\n",
       "</style>\n",
       "<table border=\"1\" class=\"dataframe\">\n",
       "  <thead>\n",
       "    <tr style=\"text-align: right;\">\n",
       "      <th></th>\n",
       "      <th>cylinders</th>\n",
       "      <th>horsepower</th>\n",
       "    </tr>\n",
       "  </thead>\n",
       "  <tbody>\n",
       "    <tr>\n",
       "      <th>239</th>\n",
       "      <td>4</td>\n",
       "      <td>67</td>\n",
       "    </tr>\n",
       "    <tr>\n",
       "      <th>275</th>\n",
       "      <td>6</td>\n",
       "      <td>125</td>\n",
       "    </tr>\n",
       "    <tr>\n",
       "      <th>81</th>\n",
       "      <td>4</td>\n",
       "      <td>92</td>\n",
       "    </tr>\n",
       "  </tbody>\n",
       "</table>\n",
       "</div>"
      ],
      "text/plain": [
       "     cylinders  horsepower\n",
       "239          4          67\n",
       "275          6         125\n",
       "81           4          92"
      ]
     },
     "execution_count": 853,
     "metadata": {},
     "output_type": "execute_result"
    }
   ],
   "source": [
    "RegLin1.sample(3)"
   ]
  },
  {
   "cell_type": "markdown",
   "id": "b3c38c09",
   "metadata": {},
   "source": [
    "* Typificacion de datos"
   ]
  },
  {
   "cell_type": "code",
   "execution_count": 848,
   "id": "d90a8cdf",
   "metadata": {},
   "outputs": [
    {
     "name": "stderr",
     "output_type": "stream",
     "text": [
      "C:\\Users\\carolina\\AppData\\Local\\Temp\\ipykernel_4692\\1524505426.py:1: SettingWithCopyWarning: \n",
      "A value is trying to be set on a copy of a slice from a DataFrame.\n",
      "Try using .loc[row_indexer,col_indexer] = value instead\n",
      "\n",
      "See the caveats in the documentation: https://pandas.pydata.org/pandas-docs/stable/user_guide/indexing.html#returning-a-view-versus-a-copy\n",
      "  RegLin1['horsepower']=RegLin1['horsepower'].astype(np.int64)\n"
     ]
    }
   ],
   "source": [
    "RegLin1['horsepower']=RegLin1['horsepower'].astype(np.int64)"
   ]
  },
  {
   "cell_type": "code",
   "execution_count": 849,
   "id": "614bcb65",
   "metadata": {},
   "outputs": [
    {
     "name": "stdout",
     "output_type": "stream",
     "text": [
      "<class 'pandas.core.frame.DataFrame'>\n",
      "Int64Index: 382 entries, 0 to 397\n",
      "Data columns (total 2 columns):\n",
      " #   Column      Non-Null Count  Dtype\n",
      "---  ------      --------------  -----\n",
      " 0   cylinders   382 non-null    int64\n",
      " 1   horsepower  382 non-null    int64\n",
      "dtypes: int64(2)\n",
      "memory usage: 9.0 KB\n"
     ]
    }
   ],
   "source": [
    "RegLin1.info()"
   ]
  },
  {
   "cell_type": "markdown",
   "id": "79a70721",
   "metadata": {},
   "source": [
    "* Separar los datos en variable dependiente e independiente"
   ]
  },
  {
   "cell_type": "code",
   "execution_count": 855,
   "id": "1f4169f4",
   "metadata": {},
   "outputs": [],
   "source": [
    "x1=RegLin1.iloc[:,1].values\n",
    "y1=RegLin1.iloc[:,0].values"
   ]
  },
  {
   "cell_type": "markdown",
   "id": "c4700c88",
   "metadata": {},
   "source": [
    "* Obtener lote training y test (70/30)"
   ]
  },
  {
   "cell_type": "code",
   "execution_count": 856,
   "id": "d3b1c60a",
   "metadata": {},
   "outputs": [],
   "source": [
    "from sklearn.model_selection import train_test_split"
   ]
  },
  {
   "cell_type": "code",
   "execution_count": 858,
   "id": "fbd65df8",
   "metadata": {},
   "outputs": [],
   "source": [
    "x1_train, x1_test, y1_train, y1_test = train_test_split(x1,y1,test_size=0.3, random_state=1987)"
   ]
  },
  {
   "cell_type": "code",
   "execution_count": 859,
   "id": "fc3d7e28",
   "metadata": {},
   "outputs": [
    {
     "data": {
      "text/plain": [
       "(267, 115, 267, 115)"
      ]
     },
     "execution_count": 859,
     "metadata": {},
     "output_type": "execute_result"
    }
   ],
   "source": [
    "x1_train.size, x1_test.size, y1_train.size, y1_test.size,"
   ]
  },
  {
   "cell_type": "code",
   "execution_count": 874,
   "id": "17c0761f",
   "metadata": {},
   "outputs": [],
   "source": [
    "# Las variables de entrada del predictor son enteras pero el resultado no"
   ]
  },
  {
   "cell_type": "markdown",
   "id": "bf9f0625",
   "metadata": {},
   "source": [
    "* Creacion del modelo"
   ]
  },
  {
   "cell_type": "code",
   "execution_count": 860,
   "id": "d62342a4",
   "metadata": {},
   "outputs": [],
   "source": [
    "from sklearn.linear_model import LinearRegression"
   ]
  },
  {
   "cell_type": "code",
   "execution_count": 862,
   "id": "7b73486a",
   "metadata": {},
   "outputs": [
    {
     "data": {
      "text/html": [
       "<style>#sk-container-id-11 {color: black;background-color: white;}#sk-container-id-11 pre{padding: 0;}#sk-container-id-11 div.sk-toggleable {background-color: white;}#sk-container-id-11 label.sk-toggleable__label {cursor: pointer;display: block;width: 100%;margin-bottom: 0;padding: 0.3em;box-sizing: border-box;text-align: center;}#sk-container-id-11 label.sk-toggleable__label-arrow:before {content: \"▸\";float: left;margin-right: 0.25em;color: #696969;}#sk-container-id-11 label.sk-toggleable__label-arrow:hover:before {color: black;}#sk-container-id-11 div.sk-estimator:hover label.sk-toggleable__label-arrow:before {color: black;}#sk-container-id-11 div.sk-toggleable__content {max-height: 0;max-width: 0;overflow: hidden;text-align: left;background-color: #f0f8ff;}#sk-container-id-11 div.sk-toggleable__content pre {margin: 0.2em;color: black;border-radius: 0.25em;background-color: #f0f8ff;}#sk-container-id-11 input.sk-toggleable__control:checked~div.sk-toggleable__content {max-height: 200px;max-width: 100%;overflow: auto;}#sk-container-id-11 input.sk-toggleable__control:checked~label.sk-toggleable__label-arrow:before {content: \"▾\";}#sk-container-id-11 div.sk-estimator input.sk-toggleable__control:checked~label.sk-toggleable__label {background-color: #d4ebff;}#sk-container-id-11 div.sk-label input.sk-toggleable__control:checked~label.sk-toggleable__label {background-color: #d4ebff;}#sk-container-id-11 input.sk-hidden--visually {border: 0;clip: rect(1px 1px 1px 1px);clip: rect(1px, 1px, 1px, 1px);height: 1px;margin: -1px;overflow: hidden;padding: 0;position: absolute;width: 1px;}#sk-container-id-11 div.sk-estimator {font-family: monospace;background-color: #f0f8ff;border: 1px dotted black;border-radius: 0.25em;box-sizing: border-box;margin-bottom: 0.5em;}#sk-container-id-11 div.sk-estimator:hover {background-color: #d4ebff;}#sk-container-id-11 div.sk-parallel-item::after {content: \"\";width: 100%;border-bottom: 1px solid gray;flex-grow: 1;}#sk-container-id-11 div.sk-label:hover label.sk-toggleable__label {background-color: #d4ebff;}#sk-container-id-11 div.sk-serial::before {content: \"\";position: absolute;border-left: 1px solid gray;box-sizing: border-box;top: 0;bottom: 0;left: 50%;z-index: 0;}#sk-container-id-11 div.sk-serial {display: flex;flex-direction: column;align-items: center;background-color: white;padding-right: 0.2em;padding-left: 0.2em;position: relative;}#sk-container-id-11 div.sk-item {position: relative;z-index: 1;}#sk-container-id-11 div.sk-parallel {display: flex;align-items: stretch;justify-content: center;background-color: white;position: relative;}#sk-container-id-11 div.sk-item::before, #sk-container-id-11 div.sk-parallel-item::before {content: \"\";position: absolute;border-left: 1px solid gray;box-sizing: border-box;top: 0;bottom: 0;left: 50%;z-index: -1;}#sk-container-id-11 div.sk-parallel-item {display: flex;flex-direction: column;z-index: 1;position: relative;background-color: white;}#sk-container-id-11 div.sk-parallel-item:first-child::after {align-self: flex-end;width: 50%;}#sk-container-id-11 div.sk-parallel-item:last-child::after {align-self: flex-start;width: 50%;}#sk-container-id-11 div.sk-parallel-item:only-child::after {width: 0;}#sk-container-id-11 div.sk-dashed-wrapped {border: 1px dashed gray;margin: 0 0.4em 0.5em 0.4em;box-sizing: border-box;padding-bottom: 0.4em;background-color: white;}#sk-container-id-11 div.sk-label label {font-family: monospace;font-weight: bold;display: inline-block;line-height: 1.2em;}#sk-container-id-11 div.sk-label-container {text-align: center;}#sk-container-id-11 div.sk-container {/* jupyter's `normalize.less` sets `[hidden] { display: none; }` but bootstrap.min.css set `[hidden] { display: none !important; }` so we also need the `!important` here to be able to override the default hidden behavior on the sphinx rendered scikit-learn.org. See: https://github.com/scikit-learn/scikit-learn/issues/21755 */display: inline-block !important;position: relative;}#sk-container-id-11 div.sk-text-repr-fallback {display: none;}</style><div id=\"sk-container-id-11\" class=\"sk-top-container\"><div class=\"sk-text-repr-fallback\"><pre>LinearRegression()</pre><b>In a Jupyter environment, please rerun this cell to show the HTML representation or trust the notebook. <br />On GitHub, the HTML representation is unable to render, please try loading this page with nbviewer.org.</b></div><div class=\"sk-container\" hidden><div class=\"sk-item\"><div class=\"sk-estimator sk-toggleable\"><input class=\"sk-toggleable__control sk-hidden--visually\" id=\"sk-estimator-id-11\" type=\"checkbox\" checked><label for=\"sk-estimator-id-11\" class=\"sk-toggleable__label sk-toggleable__label-arrow\">LinearRegression</label><div class=\"sk-toggleable__content\"><pre>LinearRegression()</pre></div></div></div></div></div>"
      ],
      "text/plain": [
       "LinearRegression()"
      ]
     },
     "execution_count": 862,
     "metadata": {},
     "output_type": "execute_result"
    }
   ],
   "source": [
    "regresion=LinearRegression()\n",
    "regresion.fit(x1_train.reshape(-1,1),y1_train.reshape(-1,1))"
   ]
  },
  {
   "cell_type": "markdown",
   "id": "ff389471",
   "metadata": {},
   "source": [
    "* Prediccion\n"
   ]
  },
  {
   "cell_type": "code",
   "execution_count": 864,
   "id": "a9680989",
   "metadata": {},
   "outputs": [],
   "source": [
    "# Calculo de la prediccion\n",
    "y1_pred=regresion.predict(x1_test.reshape(-1,1))\n"
   ]
  },
  {
   "cell_type": "code",
   "execution_count": 880,
   "id": "4058b246",
   "metadata": {},
   "outputs": [
    {
     "data": {
      "text/plain": [
       "array([[3.24131812, 3.7153925 , 7.46488992, 4.44805292, 3.80158785,\n",
       "        8.75782007, 4.62044361, 6.99081554, 4.62044361, 7.03391321]])"
      ]
     },
     "execution_count": 880,
     "metadata": {},
     "output_type": "execute_result"
    }
   ],
   "source": [
    "y1_pred.reshape(1,-1)[:,0:10] "
   ]
  },
  {
   "cell_type": "code",
   "execution_count": 883,
   "id": "efb68642",
   "metadata": {},
   "outputs": [
    {
     "data": {
      "text/plain": [
       "array([[3., 4., 7., 4., 4., 9., 5., 7., 5., 7.]])"
      ]
     },
     "execution_count": 883,
     "metadata": {},
     "output_type": "execute_result"
    }
   ],
   "source": [
    "y1_pred.round().reshape(1,-1)[:,0:10] "
   ]
  },
  {
   "cell_type": "code",
   "execution_count": 881,
   "id": "57770bca",
   "metadata": {},
   "outputs": [
    {
     "data": {
      "text/plain": [
       "array([[4, 4, 8, 4, 4, 8, 4, 8, 4, 8]], dtype=int64)"
      ]
     },
     "execution_count": 881,
     "metadata": {},
     "output_type": "execute_result"
    }
   ],
   "source": [
    "y1_test.reshape(1,-1)[:,0:10] "
   ]
  },
  {
   "cell_type": "code",
   "execution_count": 886,
   "id": "ce2c202f",
   "metadata": {},
   "outputs": [
    {
     "data": {
      "text/plain": [
       "array([[3., 4., 7., 4., 4., 9., 5., 7., 5., 7.]])"
      ]
     },
     "execution_count": 886,
     "metadata": {},
     "output_type": "execute_result"
    }
   ],
   "source": [
    "y1_pred.round().reshape(1,-1)[:,0:10]"
   ]
  },
  {
   "cell_type": "code",
   "execution_count": 893,
   "id": "922f5c7d",
   "metadata": {},
   "outputs": [
    {
     "data": {
      "text/plain": [
       "array([4, 8, 6, 3, 5], dtype=int64)"
      ]
     },
     "execution_count": 893,
     "metadata": {},
     "output_type": "execute_result"
    }
   ],
   "source": [
    "pd.DataFrame(y1_test, columns=['cylinders'])['cylinders'].unique() "
   ]
  },
  {
   "cell_type": "code",
   "execution_count": 895,
   "id": "358c4b16",
   "metadata": {},
   "outputs": [
    {
     "data": {
      "text/plain": [
       "array([ 3.,  4.,  7.,  9.,  5., 10.,  8.,  6.])"
      ]
     },
     "execution_count": 895,
     "metadata": {},
     "output_type": "execute_result"
    }
   ],
   "source": [
    "pd.DataFrame(y1_pred.round(), columns=['cylinders'])['cylinders'].unique() # en la prediccion salen mas valores de cilindro"
   ]
  },
  {
   "cell_type": "markdown",
   "id": "9a6ce0cf",
   "metadata": {},
   "source": [
    "* Evaluación del modelo"
   ]
  },
  {
   "cell_type": "code",
   "execution_count": 896,
   "id": "45eebf76",
   "metadata": {},
   "outputs": [],
   "source": [
    "from sklearn.metrics import r2_score"
   ]
  },
  {
   "cell_type": "code",
   "execution_count": 897,
   "id": "ba1a7d0c",
   "metadata": {},
   "outputs": [
    {
     "data": {
      "text/plain": [
       "0.7319762520294548"
      ]
     },
     "execution_count": 897,
     "metadata": {},
     "output_type": "execute_result"
    }
   ],
   "source": [
    "# Primero lo vemos sobre los datos de entrenamiento\n",
    "\n",
    "# coef R2\n",
    "r2_score(y1_train.reshape(-1,1), regresion.predict(x1_train.reshape(-1,1)))\n"
   ]
  },
  {
   "cell_type": "code",
   "execution_count": 899,
   "id": "484e3548",
   "metadata": {},
   "outputs": [
    {
     "data": {
      "text/plain": [
       "0.7267285109810515"
      ]
     },
     "execution_count": 899,
     "metadata": {},
     "output_type": "execute_result"
    }
   ],
   "source": [
    "# Luego sobre los datos de testing (y vs y')\n",
    "\n",
    "r2_score(y1_test.reshape(-1,1), regresion.predict(x1_test.reshape(-1,1)))\n"
   ]
  },
  {
   "cell_type": "code",
   "execution_count": 902,
   "id": "d70a4f1c",
   "metadata": {},
   "outputs": [
    {
     "data": {
      "text/plain": [
       "0.7267285109810515"
      ]
     },
     "execution_count": 902,
     "metadata": {},
     "output_type": "execute_result"
    }
   ],
   "source": [
    "# R2 entre 'y' real (los datos reales de test) y la prediccion y' \n",
    "r2_score(y1_test.reshape(-1,1), y1_pred.reshape(-1,1)) # esto es lo mismo que lo que esta arriba"
   ]
  },
  {
   "cell_type": "code",
   "execution_count": 905,
   "id": "231ac315",
   "metadata": {},
   "outputs": [
    {
     "data": {
      "text/plain": [
       "0.7306817349039965"
      ]
     },
     "execution_count": 905,
     "metadata": {},
     "output_type": "execute_result"
    }
   ],
   "source": [
    "# R2 en el conjunto total de datos\n",
    "r2_score(y1.reshape(-1,1), regresion.predict(x1.reshape(-1,1)) )\n",
    "\n",
    "# Es un valor intermedio entre el R2 de training (datos que el modelo conoce bien) y los de testing (datos que no conoce),\n",
    "# tiene logica porque el conjunto de datos contiene ambos lotes y su R2 queda entremedias."
   ]
  },
  {
   "cell_type": "markdown",
   "id": "812d50a4",
   "metadata": {},
   "source": [
    "CASO 2 RegLin2"
   ]
  },
  {
   "cell_type": "markdown",
   "id": "fb72d0a5",
   "metadata": {},
   "source": [
    "* Typificacion de datos"
   ]
  },
  {
   "cell_type": "code",
   "execution_count": 906,
   "id": "7818623a",
   "metadata": {},
   "outputs": [],
   "source": [
    "RegLin2['horsepower']=RegLin2['horsepower'].astype(np.int64)"
   ]
  },
  {
   "cell_type": "markdown",
   "id": "d31b24a4",
   "metadata": {},
   "source": [
    "* Separar los datos en variable dependiente e independiente"
   ]
  },
  {
   "cell_type": "code",
   "execution_count": 907,
   "id": "42237fed",
   "metadata": {},
   "outputs": [],
   "source": [
    "\n",
    "x2=RegLin2.iloc[:,1].values\n",
    "y2=RegLin2.iloc[:,0].values"
   ]
  },
  {
   "cell_type": "markdown",
   "id": "a934e9cc",
   "metadata": {},
   "source": [
    "* Obtener lote training y test (70/30)"
   ]
  },
  {
   "cell_type": "code",
   "execution_count": 908,
   "id": "b75c7085",
   "metadata": {},
   "outputs": [],
   "source": [
    "from sklearn.model_selection import train_test_split"
   ]
  },
  {
   "cell_type": "code",
   "execution_count": 909,
   "id": "5f388e45",
   "metadata": {},
   "outputs": [
    {
     "data": {
      "text/plain": [
       "(278, 120, 278, 120)"
      ]
     },
     "execution_count": 909,
     "metadata": {},
     "output_type": "execute_result"
    }
   ],
   "source": [
    "x2_train, x2_test, y2_train, y2_test = train_test_split(x2,y2,test_size=0.3, random_state=1987)\n",
    "x2_train.size, x2_test.size, y2_train.size, y2_test.size,\n",
    "#(278, 120, 278, 120) # bueno deberian ser 279 y 119"
   ]
  },
  {
   "cell_type": "markdown",
   "id": "d7cc77b6",
   "metadata": {},
   "source": [
    "* Creacion del modelo"
   ]
  },
  {
   "cell_type": "code",
   "execution_count": null,
   "id": "457623d4",
   "metadata": {},
   "outputs": [],
   "source": [
    "from sklearn.linear_model import LinearRegression"
   ]
  },
  {
   "cell_type": "code",
   "execution_count": 910,
   "id": "da4d08c1",
   "metadata": {},
   "outputs": [
    {
     "data": {
      "text/html": [
       "<style>#sk-container-id-12 {color: black;background-color: white;}#sk-container-id-12 pre{padding: 0;}#sk-container-id-12 div.sk-toggleable {background-color: white;}#sk-container-id-12 label.sk-toggleable__label {cursor: pointer;display: block;width: 100%;margin-bottom: 0;padding: 0.3em;box-sizing: border-box;text-align: center;}#sk-container-id-12 label.sk-toggleable__label-arrow:before {content: \"▸\";float: left;margin-right: 0.25em;color: #696969;}#sk-container-id-12 label.sk-toggleable__label-arrow:hover:before {color: black;}#sk-container-id-12 div.sk-estimator:hover label.sk-toggleable__label-arrow:before {color: black;}#sk-container-id-12 div.sk-toggleable__content {max-height: 0;max-width: 0;overflow: hidden;text-align: left;background-color: #f0f8ff;}#sk-container-id-12 div.sk-toggleable__content pre {margin: 0.2em;color: black;border-radius: 0.25em;background-color: #f0f8ff;}#sk-container-id-12 input.sk-toggleable__control:checked~div.sk-toggleable__content {max-height: 200px;max-width: 100%;overflow: auto;}#sk-container-id-12 input.sk-toggleable__control:checked~label.sk-toggleable__label-arrow:before {content: \"▾\";}#sk-container-id-12 div.sk-estimator input.sk-toggleable__control:checked~label.sk-toggleable__label {background-color: #d4ebff;}#sk-container-id-12 div.sk-label input.sk-toggleable__control:checked~label.sk-toggleable__label {background-color: #d4ebff;}#sk-container-id-12 input.sk-hidden--visually {border: 0;clip: rect(1px 1px 1px 1px);clip: rect(1px, 1px, 1px, 1px);height: 1px;margin: -1px;overflow: hidden;padding: 0;position: absolute;width: 1px;}#sk-container-id-12 div.sk-estimator {font-family: monospace;background-color: #f0f8ff;border: 1px dotted black;border-radius: 0.25em;box-sizing: border-box;margin-bottom: 0.5em;}#sk-container-id-12 div.sk-estimator:hover {background-color: #d4ebff;}#sk-container-id-12 div.sk-parallel-item::after {content: \"\";width: 100%;border-bottom: 1px solid gray;flex-grow: 1;}#sk-container-id-12 div.sk-label:hover label.sk-toggleable__label {background-color: #d4ebff;}#sk-container-id-12 div.sk-serial::before {content: \"\";position: absolute;border-left: 1px solid gray;box-sizing: border-box;top: 0;bottom: 0;left: 50%;z-index: 0;}#sk-container-id-12 div.sk-serial {display: flex;flex-direction: column;align-items: center;background-color: white;padding-right: 0.2em;padding-left: 0.2em;position: relative;}#sk-container-id-12 div.sk-item {position: relative;z-index: 1;}#sk-container-id-12 div.sk-parallel {display: flex;align-items: stretch;justify-content: center;background-color: white;position: relative;}#sk-container-id-12 div.sk-item::before, #sk-container-id-12 div.sk-parallel-item::before {content: \"\";position: absolute;border-left: 1px solid gray;box-sizing: border-box;top: 0;bottom: 0;left: 50%;z-index: -1;}#sk-container-id-12 div.sk-parallel-item {display: flex;flex-direction: column;z-index: 1;position: relative;background-color: white;}#sk-container-id-12 div.sk-parallel-item:first-child::after {align-self: flex-end;width: 50%;}#sk-container-id-12 div.sk-parallel-item:last-child::after {align-self: flex-start;width: 50%;}#sk-container-id-12 div.sk-parallel-item:only-child::after {width: 0;}#sk-container-id-12 div.sk-dashed-wrapped {border: 1px dashed gray;margin: 0 0.4em 0.5em 0.4em;box-sizing: border-box;padding-bottom: 0.4em;background-color: white;}#sk-container-id-12 div.sk-label label {font-family: monospace;font-weight: bold;display: inline-block;line-height: 1.2em;}#sk-container-id-12 div.sk-label-container {text-align: center;}#sk-container-id-12 div.sk-container {/* jupyter's `normalize.less` sets `[hidden] { display: none; }` but bootstrap.min.css set `[hidden] { display: none !important; }` so we also need the `!important` here to be able to override the default hidden behavior on the sphinx rendered scikit-learn.org. See: https://github.com/scikit-learn/scikit-learn/issues/21755 */display: inline-block !important;position: relative;}#sk-container-id-12 div.sk-text-repr-fallback {display: none;}</style><div id=\"sk-container-id-12\" class=\"sk-top-container\"><div class=\"sk-text-repr-fallback\"><pre>LinearRegression()</pre><b>In a Jupyter environment, please rerun this cell to show the HTML representation or trust the notebook. <br />On GitHub, the HTML representation is unable to render, please try loading this page with nbviewer.org.</b></div><div class=\"sk-container\" hidden><div class=\"sk-item\"><div class=\"sk-estimator sk-toggleable\"><input class=\"sk-toggleable__control sk-hidden--visually\" id=\"sk-estimator-id-12\" type=\"checkbox\" checked><label for=\"sk-estimator-id-12\" class=\"sk-toggleable__label sk-toggleable__label-arrow\">LinearRegression</label><div class=\"sk-toggleable__content\"><pre>LinearRegression()</pre></div></div></div></div></div>"
      ],
      "text/plain": [
       "LinearRegression()"
      ]
     },
     "execution_count": 910,
     "metadata": {},
     "output_type": "execute_result"
    }
   ],
   "source": [
    "regresion=LinearRegression()\n",
    "regresion.fit(x2_train.reshape(-1,1),y2_train.reshape(-1,1))"
   ]
  },
  {
   "cell_type": "markdown",
   "id": "abcc1dcd",
   "metadata": {},
   "source": [
    "* Prediccion"
   ]
  },
  {
   "cell_type": "code",
   "execution_count": 911,
   "id": "a3c753e5",
   "metadata": {},
   "outputs": [],
   "source": [
    "# Calculo de la prediccion\n",
    "y2_pred=regresion.predict(x2_test.reshape(-1,1))\n"
   ]
  },
  {
   "cell_type": "code",
   "execution_count": 912,
   "id": "cf2ed79b",
   "metadata": {},
   "outputs": [
    {
     "data": {
      "text/plain": [
       "array([4, 8, 6, 5, 3], dtype=int64)"
      ]
     },
     "execution_count": 912,
     "metadata": {},
     "output_type": "execute_result"
    }
   ],
   "source": [
    "pd.DataFrame(y2_test, columns=['cylinders'])['cylinders'].unique()"
   ]
  },
  {
   "cell_type": "code",
   "execution_count": 913,
   "id": "dd0e5cce",
   "metadata": {},
   "outputs": [
    {
     "data": {
      "text/plain": [
       "array([6., 4., 5., 3., 7., 8., 9.])"
      ]
     },
     "execution_count": 913,
     "metadata": {},
     "output_type": "execute_result"
    }
   ],
   "source": [
    "pd.DataFrame(y2_pred.round(), columns=['cylinders'])['cylinders'].unique() \n",
    "# en la prediccion salen 7 y 9 que no son opciones de cilindro validas"
   ]
  },
  {
   "cell_type": "markdown",
   "id": "de151609",
   "metadata": {},
   "source": [
    "* Evaluacion del modelo"
   ]
  },
  {
   "cell_type": "code",
   "execution_count": null,
   "id": "d4c7c397",
   "metadata": {},
   "outputs": [],
   "source": [
    "from sklearn.metrics import r2_score"
   ]
  },
  {
   "cell_type": "code",
   "execution_count": 914,
   "id": "c121363e",
   "metadata": {},
   "outputs": [
    {
     "data": {
      "text/plain": [
       "0.7731104200562937"
      ]
     },
     "execution_count": 914,
     "metadata": {},
     "output_type": "execute_result"
    }
   ],
   "source": [
    "# Sobre los datos de entrenamiento\n",
    "\n",
    "# coef R2\n",
    "r2_score(y2_train.reshape(-1,1), regresion.predict(x2_train.reshape(-1,1)))"
   ]
  },
  {
   "cell_type": "code",
   "execution_count": 915,
   "id": "7c6529ba",
   "metadata": {},
   "outputs": [
    {
     "data": {
      "text/plain": [
       "0.6732352596268554"
      ]
     },
     "execution_count": 915,
     "metadata": {},
     "output_type": "execute_result"
    }
   ],
   "source": [
    "# Luego sobre los datos de testing (y vs y')\n",
    "r2_score(y2_test.reshape(-1,1), regresion.predict(x2_test.reshape(-1,1)))\n",
    "## bajo respecto del primer modelo que dio 0.73"
   ]
  },
  {
   "cell_type": "code",
   "execution_count": 916,
   "id": "26d5daf7",
   "metadata": {},
   "outputs": [
    {
     "data": {
      "text/plain": [
       "0.7455896274945737"
      ]
     },
     "execution_count": 916,
     "metadata": {},
     "output_type": "execute_result"
    }
   ],
   "source": [
    "# Luego sobre el total de los datos \n",
    "r2_score(y2.reshape(-1,1), regresion.predict(x2.reshape(-1,1))) # de nuevo es un intermedio"
   ]
  },
  {
   "cell_type": "markdown",
   "id": "9a96d974",
   "metadata": {},
   "source": [
    "CASO 3 RegLin3\n"
   ]
  },
  {
   "cell_type": "markdown",
   "id": "f0b37f37",
   "metadata": {},
   "source": [
    "* Typificacion de datos"
   ]
  },
  {
   "cell_type": "code",
   "execution_count": 918,
   "id": "5b60b77b",
   "metadata": {},
   "outputs": [],
   "source": [
    "RegLin3['horsepower']=RegLin3['horsepower'].astype(np.int64)"
   ]
  },
  {
   "cell_type": "markdown",
   "id": "bfb51765",
   "metadata": {},
   "source": [
    "* Separar los datos en variable dependiente e independiente"
   ]
  },
  {
   "cell_type": "code",
   "execution_count": 919,
   "id": "293e7209",
   "metadata": {},
   "outputs": [],
   "source": [
    "x3=RegLin3.iloc[:,1].values\n",
    "y3=RegLin3.iloc[:,0].values"
   ]
  },
  {
   "cell_type": "markdown",
   "id": "632292b9",
   "metadata": {},
   "source": [
    "* Obtener lote training y test (70/30)"
   ]
  },
  {
   "cell_type": "code",
   "execution_count": null,
   "id": "45d06b48",
   "metadata": {},
   "outputs": [],
   "source": [
    "from sklearn.model_selection import train_test_split"
   ]
  },
  {
   "cell_type": "code",
   "execution_count": 920,
   "id": "739f2563",
   "metadata": {},
   "outputs": [
    {
     "data": {
      "text/plain": [
       "(278, 120, 278, 120)"
      ]
     },
     "execution_count": 920,
     "metadata": {},
     "output_type": "execute_result"
    }
   ],
   "source": [
    "x3_train, x3_test, y3_train, y3_test = train_test_split(x3,y3,test_size=0.3, random_state=1987)\n",
    "x3_train.size, x3_test.size, y3_train.size, y3_test.size"
   ]
  },
  {
   "cell_type": "markdown",
   "id": "8fcd68f4",
   "metadata": {},
   "source": [
    "* Creacion del modelo"
   ]
  },
  {
   "cell_type": "code",
   "execution_count": null,
   "id": "baa311b1",
   "metadata": {},
   "outputs": [],
   "source": [
    "from sklearn.linear_model import LinearRegression"
   ]
  },
  {
   "cell_type": "code",
   "execution_count": 921,
   "id": "bcdfa4c4",
   "metadata": {},
   "outputs": [
    {
     "data": {
      "text/html": [
       "<style>#sk-container-id-13 {color: black;background-color: white;}#sk-container-id-13 pre{padding: 0;}#sk-container-id-13 div.sk-toggleable {background-color: white;}#sk-container-id-13 label.sk-toggleable__label {cursor: pointer;display: block;width: 100%;margin-bottom: 0;padding: 0.3em;box-sizing: border-box;text-align: center;}#sk-container-id-13 label.sk-toggleable__label-arrow:before {content: \"▸\";float: left;margin-right: 0.25em;color: #696969;}#sk-container-id-13 label.sk-toggleable__label-arrow:hover:before {color: black;}#sk-container-id-13 div.sk-estimator:hover label.sk-toggleable__label-arrow:before {color: black;}#sk-container-id-13 div.sk-toggleable__content {max-height: 0;max-width: 0;overflow: hidden;text-align: left;background-color: #f0f8ff;}#sk-container-id-13 div.sk-toggleable__content pre {margin: 0.2em;color: black;border-radius: 0.25em;background-color: #f0f8ff;}#sk-container-id-13 input.sk-toggleable__control:checked~div.sk-toggleable__content {max-height: 200px;max-width: 100%;overflow: auto;}#sk-container-id-13 input.sk-toggleable__control:checked~label.sk-toggleable__label-arrow:before {content: \"▾\";}#sk-container-id-13 div.sk-estimator input.sk-toggleable__control:checked~label.sk-toggleable__label {background-color: #d4ebff;}#sk-container-id-13 div.sk-label input.sk-toggleable__control:checked~label.sk-toggleable__label {background-color: #d4ebff;}#sk-container-id-13 input.sk-hidden--visually {border: 0;clip: rect(1px 1px 1px 1px);clip: rect(1px, 1px, 1px, 1px);height: 1px;margin: -1px;overflow: hidden;padding: 0;position: absolute;width: 1px;}#sk-container-id-13 div.sk-estimator {font-family: monospace;background-color: #f0f8ff;border: 1px dotted black;border-radius: 0.25em;box-sizing: border-box;margin-bottom: 0.5em;}#sk-container-id-13 div.sk-estimator:hover {background-color: #d4ebff;}#sk-container-id-13 div.sk-parallel-item::after {content: \"\";width: 100%;border-bottom: 1px solid gray;flex-grow: 1;}#sk-container-id-13 div.sk-label:hover label.sk-toggleable__label {background-color: #d4ebff;}#sk-container-id-13 div.sk-serial::before {content: \"\";position: absolute;border-left: 1px solid gray;box-sizing: border-box;top: 0;bottom: 0;left: 50%;z-index: 0;}#sk-container-id-13 div.sk-serial {display: flex;flex-direction: column;align-items: center;background-color: white;padding-right: 0.2em;padding-left: 0.2em;position: relative;}#sk-container-id-13 div.sk-item {position: relative;z-index: 1;}#sk-container-id-13 div.sk-parallel {display: flex;align-items: stretch;justify-content: center;background-color: white;position: relative;}#sk-container-id-13 div.sk-item::before, #sk-container-id-13 div.sk-parallel-item::before {content: \"\";position: absolute;border-left: 1px solid gray;box-sizing: border-box;top: 0;bottom: 0;left: 50%;z-index: -1;}#sk-container-id-13 div.sk-parallel-item {display: flex;flex-direction: column;z-index: 1;position: relative;background-color: white;}#sk-container-id-13 div.sk-parallel-item:first-child::after {align-self: flex-end;width: 50%;}#sk-container-id-13 div.sk-parallel-item:last-child::after {align-self: flex-start;width: 50%;}#sk-container-id-13 div.sk-parallel-item:only-child::after {width: 0;}#sk-container-id-13 div.sk-dashed-wrapped {border: 1px dashed gray;margin: 0 0.4em 0.5em 0.4em;box-sizing: border-box;padding-bottom: 0.4em;background-color: white;}#sk-container-id-13 div.sk-label label {font-family: monospace;font-weight: bold;display: inline-block;line-height: 1.2em;}#sk-container-id-13 div.sk-label-container {text-align: center;}#sk-container-id-13 div.sk-container {/* jupyter's `normalize.less` sets `[hidden] { display: none; }` but bootstrap.min.css set `[hidden] { display: none !important; }` so we also need the `!important` here to be able to override the default hidden behavior on the sphinx rendered scikit-learn.org. See: https://github.com/scikit-learn/scikit-learn/issues/21755 */display: inline-block !important;position: relative;}#sk-container-id-13 div.sk-text-repr-fallback {display: none;}</style><div id=\"sk-container-id-13\" class=\"sk-top-container\"><div class=\"sk-text-repr-fallback\"><pre>LinearRegression()</pre><b>In a Jupyter environment, please rerun this cell to show the HTML representation or trust the notebook. <br />On GitHub, the HTML representation is unable to render, please try loading this page with nbviewer.org.</b></div><div class=\"sk-container\" hidden><div class=\"sk-item\"><div class=\"sk-estimator sk-toggleable\"><input class=\"sk-toggleable__control sk-hidden--visually\" id=\"sk-estimator-id-13\" type=\"checkbox\" checked><label for=\"sk-estimator-id-13\" class=\"sk-toggleable__label sk-toggleable__label-arrow\">LinearRegression</label><div class=\"sk-toggleable__content\"><pre>LinearRegression()</pre></div></div></div></div></div>"
      ],
      "text/plain": [
       "LinearRegression()"
      ]
     },
     "execution_count": 921,
     "metadata": {},
     "output_type": "execute_result"
    }
   ],
   "source": [
    "regresion=LinearRegression()\n",
    "regresion.fit(x3_train.reshape(-1,1),y3_train.reshape(-1,1))"
   ]
  },
  {
   "cell_type": "markdown",
   "id": "5a91a484",
   "metadata": {},
   "source": [
    "* Prediccion"
   ]
  },
  {
   "cell_type": "code",
   "execution_count": 922,
   "id": "ccf2fa18",
   "metadata": {},
   "outputs": [],
   "source": [
    "# Calculo de la prediccion\n",
    "y3_pred=regresion.predict(x3_test.reshape(-1,1))\n"
   ]
  },
  {
   "cell_type": "code",
   "execution_count": 923,
   "id": "6e654439",
   "metadata": {},
   "outputs": [
    {
     "data": {
      "text/plain": [
       "array([6., 4., 5., 3., 7., 8., 9.])"
      ]
     },
     "execution_count": 923,
     "metadata": {},
     "output_type": "execute_result"
    }
   ],
   "source": [
    "pd.DataFrame(y3_pred.round(), columns=['cylinders'])['cylinders'].unique() \n",
    "# en la prediccion salen 7 y 9 que no son opciones de cilindro validas"
   ]
  },
  {
   "cell_type": "markdown",
   "id": "c2565936",
   "metadata": {},
   "source": [
    "* Evaluacion del modelo"
   ]
  },
  {
   "cell_type": "code",
   "execution_count": null,
   "id": "d1f2c3fa",
   "metadata": {},
   "outputs": [],
   "source": [
    "from sklearn.metrics import r2_score"
   ]
  },
  {
   "cell_type": "code",
   "execution_count": 924,
   "id": "9126e047",
   "metadata": {},
   "outputs": [
    {
     "data": {
      "text/plain": [
       "0.6789936462036045"
      ]
     },
     "execution_count": 924,
     "metadata": {},
     "output_type": "execute_result"
    }
   ],
   "source": [
    "# Sobre los datos de entrenamiento\n",
    "\n",
    "# coef R2\n",
    "r2_score(y3_train.reshape(-1,1), regresion.predict(x3_train.reshape(-1,1))) # da peor (el caso 1 da 0.77)"
   ]
  },
  {
   "cell_type": "code",
   "execution_count": 925,
   "id": "389c02ca",
   "metadata": {},
   "outputs": [
    {
     "data": {
      "text/plain": [
       "0.6404448908781373"
      ]
     },
     "execution_count": 925,
     "metadata": {},
     "output_type": "execute_result"
    }
   ],
   "source": [
    "# Luego sobre los datos de testing (y vs y')\n",
    "r2_score(y3_test.reshape(-1,1), regresion.predict(x3_test.reshape(-1,1)))"
   ]
  },
  {
   "cell_type": "code",
   "execution_count": 926,
   "id": "5cce9113",
   "metadata": {},
   "outputs": [
    {
     "data": {
      "text/plain": [
       "0.6690373714601803"
      ]
     },
     "execution_count": 926,
     "metadata": {},
     "output_type": "execute_result"
    }
   ],
   "source": [
    "# Luego sobre el total de los datos \n",
    "r2_score(y3.reshape(-1,1), regresion.predict(x3.reshape(-1,1))) # de nuevo es un intermedio"
   ]
  },
  {
   "cell_type": "markdown",
   "id": "52d2f2c5",
   "metadata": {},
   "source": [
    "* Grafica de la RL"
   ]
  },
  {
   "cell_type": "code",
   "execution_count": 929,
   "id": "709dae3a",
   "metadata": {},
   "outputs": [
    {
     "data": {
      "text/plain": [
       "<function matplotlib.pyplot.show(close=None, block=None)>"
      ]
     },
     "execution_count": 929,
     "metadata": {},
     "output_type": "execute_result"
    },
    {
     "data": {
      "image/png": "[encoded data removed]",
      "text/plain": [
       "<Figure size 640x480 with 1 Axes>"
      ]
     },
     "metadata": {},
     "output_type": "display_data"
    }
   ],
   "source": [
    "plt.title('Cilindros Vs Caballos de potencia')\n",
    "plt.xlabel('Caballos')\n",
    "plt.ylabel('Cilindros')\n",
    "plt.scatter(x_test, y_test, color='red')\n",
    "plt.plot(x_test, regresion.predict(x_test.reshape(-1,1)), color='blue')\n",
    "plt.show"
   ]
  },
  {
   "cell_type": "code",
   "execution_count": null,
   "id": "709c8930",
   "metadata": {},
   "outputs": [],
   "source": []
  },
  {
   "cell_type": "code",
   "execution_count": null,
   "id": "1c8cdeff",
   "metadata": {},
   "outputs": [],
   "source": []
  },
  {
   "cell_type": "code",
   "execution_count": null,
   "id": "baf4df4f",
   "metadata": {},
   "outputs": [],
   "source": []
  },
  {
   "cell_type": "code",
   "execution_count": 792,
   "id": "4ca7e928",
   "metadata": {},
   "outputs": [],
   "source": [
    "## Completare los nulos con la media segun cilindros\n",
    "\n",
    "# df_mpg['horsepower'].fillna(value=0) \n",
    "# OTRA ESTRATEGIA PARA CAMBIAR LOS DATOS NULOS PUEDE SER ASIGNAR UN VALOR UNICO Y ASI LUEGO PODER OBTENER POR CONDICION LOS NULOS \n"
   ]
  },
  {
   "cell_type": "code",
   "execution_count": 827,
   "id": "378d73df",
   "metadata": {},
   "outputs": [],
   "source": [
    "#dfCH[dfCH[dfCH['horsepower'].fillna(value=0)]['horsepower']==0]\n",
    "#dfCH[dfCH['horsepower'].fillna(value=0).notnull()].query(('horsepower==0'))\n",
    " #& ('cylinders==4')\n",
    "\n",
    "#RegLin2.iloc[list(RegLin2[RegLin2['horsepower'].isnull()].query('cylinders==4').index),1]=RegLin2[RegLin2['cylinders']==4].median()['horsepower']\n",
    "#dfCH[dfCH[dfCH['horsepower'].fillna(value=0).notnull()]['horsepower']==0]"
   ]
  },
  {
   "cell_type": "code",
   "execution_count": 928,
   "id": "ce529356",
   "metadata": {},
   "outputs": [],
   "source": [
    "## NO ESTABA ASIGNANDO!!!!\n",
    "\n",
    "#dfCH[dfCH[dfCH['cylinders']==4][['horsepower']].isna()] #.fillna(value=78, inplace=True)#.any()\n",
    "#dfCH.iloc[list(dfCH[dfCH['cylinders']==4]['horsepower'].isnull().index)]"
   ]
  },
  {
   "cell_type": "markdown",
   "id": "8d5f516c",
   "metadata": {},
   "source": [
    "### Imputacion segmentada con la libreria !!\n"
   ]
  },
  {
   "cell_type": "code",
   "execution_count": null,
   "id": "462c9682",
   "metadata": {},
   "outputs": [],
   "source": [
    "# Primero tengo que crear el array "
   ]
  },
  {
   "cell_type": "code",
   "execution_count": 442,
   "id": "4aef236f",
   "metadata": {},
   "outputs": [],
   "source": [
    "aCH=dfCH.iloc[:,:].values # asi será un array NO un df"
   ]
  },
  {
   "cell_type": "code",
   "execution_count": 444,
   "id": "7fd63dd9",
   "metadata": {},
   "outputs": [],
   "source": [
    "# aCH[aCH[:,0]==4]  esto es lo que quiero mof¡dificar"
   ]
  },
  {
   "cell_type": "code",
   "execution_count": 445,
   "id": "ae8eb481",
   "metadata": {},
   "outputs": [],
   "source": [
    "from sklearn.impute import SimpleImputer"
   ]
  },
  {
   "cell_type": "markdown",
   "id": "94cfefca",
   "metadata": {},
   "source": [
    "* CILINDROS=4 (deberia completar con 78)"
   ]
  },
  {
   "cell_type": "code",
   "execution_count": 447,
   "id": "5e9bd5cb",
   "metadata": {},
   "outputs": [
    {
     "data": {
      "text/html": [
       "<style>#sk-container-id-9 {color: black;background-color: white;}#sk-container-id-9 pre{padding: 0;}#sk-container-id-9 div.sk-toggleable {background-color: white;}#sk-container-id-9 label.sk-toggleable__label {cursor: pointer;display: block;width: 100%;margin-bottom: 0;padding: 0.3em;box-sizing: border-box;text-align: center;}#sk-container-id-9 label.sk-toggleable__label-arrow:before {content: \"▸\";float: left;margin-right: 0.25em;color: #696969;}#sk-container-id-9 label.sk-toggleable__label-arrow:hover:before {color: black;}#sk-container-id-9 div.sk-estimator:hover label.sk-toggleable__label-arrow:before {color: black;}#sk-container-id-9 div.sk-toggleable__content {max-height: 0;max-width: 0;overflow: hidden;text-align: left;background-color: #f0f8ff;}#sk-container-id-9 div.sk-toggleable__content pre {margin: 0.2em;color: black;border-radius: 0.25em;background-color: #f0f8ff;}#sk-container-id-9 input.sk-toggleable__control:checked~div.sk-toggleable__content {max-height: 200px;max-width: 100%;overflow: auto;}#sk-container-id-9 input.sk-toggleable__control:checked~label.sk-toggleable__label-arrow:before {content: \"▾\";}#sk-container-id-9 div.sk-estimator input.sk-toggleable__control:checked~label.sk-toggleable__label {background-color: #d4ebff;}#sk-container-id-9 div.sk-label input.sk-toggleable__control:checked~label.sk-toggleable__label {background-color: #d4ebff;}#sk-container-id-9 input.sk-hidden--visually {border: 0;clip: rect(1px 1px 1px 1px);clip: rect(1px, 1px, 1px, 1px);height: 1px;margin: -1px;overflow: hidden;padding: 0;position: absolute;width: 1px;}#sk-container-id-9 div.sk-estimator {font-family: monospace;background-color: #f0f8ff;border: 1px dotted black;border-radius: 0.25em;box-sizing: border-box;margin-bottom: 0.5em;}#sk-container-id-9 div.sk-estimator:hover {background-color: #d4ebff;}#sk-container-id-9 div.sk-parallel-item::after {content: \"\";width: 100%;border-bottom: 1px solid gray;flex-grow: 1;}#sk-container-id-9 div.sk-label:hover label.sk-toggleable__label {background-color: #d4ebff;}#sk-container-id-9 div.sk-serial::before {content: \"\";position: absolute;border-left: 1px solid gray;box-sizing: border-box;top: 0;bottom: 0;left: 50%;z-index: 0;}#sk-container-id-9 div.sk-serial {display: flex;flex-direction: column;align-items: center;background-color: white;padding-right: 0.2em;padding-left: 0.2em;position: relative;}#sk-container-id-9 div.sk-item {position: relative;z-index: 1;}#sk-container-id-9 div.sk-parallel {display: flex;align-items: stretch;justify-content: center;background-color: white;position: relative;}#sk-container-id-9 div.sk-item::before, #sk-container-id-9 div.sk-parallel-item::before {content: \"\";position: absolute;border-left: 1px solid gray;box-sizing: border-box;top: 0;bottom: 0;left: 50%;z-index: -1;}#sk-container-id-9 div.sk-parallel-item {display: flex;flex-direction: column;z-index: 1;position: relative;background-color: white;}#sk-container-id-9 div.sk-parallel-item:first-child::after {align-self: flex-end;width: 50%;}#sk-container-id-9 div.sk-parallel-item:last-child::after {align-self: flex-start;width: 50%;}#sk-container-id-9 div.sk-parallel-item:only-child::after {width: 0;}#sk-container-id-9 div.sk-dashed-wrapped {border: 1px dashed gray;margin: 0 0.4em 0.5em 0.4em;box-sizing: border-box;padding-bottom: 0.4em;background-color: white;}#sk-container-id-9 div.sk-label label {font-family: monospace;font-weight: bold;display: inline-block;line-height: 1.2em;}#sk-container-id-9 div.sk-label-container {text-align: center;}#sk-container-id-9 div.sk-container {/* jupyter's `normalize.less` sets `[hidden] { display: none; }` but bootstrap.min.css set `[hidden] { display: none !important; }` so we also need the `!important` here to be able to override the default hidden behavior on the sphinx rendered scikit-learn.org. See: https://github.com/scikit-learn/scikit-learn/issues/21755 */display: inline-block !important;position: relative;}#sk-container-id-9 div.sk-text-repr-fallback {display: none;}</style><div id=\"sk-container-id-9\" class=\"sk-top-container\"><div class=\"sk-text-repr-fallback\"><pre>SimpleImputer(strategy=&#x27;median&#x27;)</pre><b>In a Jupyter environment, please rerun this cell to show the HTML representation or trust the notebook. <br />On GitHub, the HTML representation is unable to render, please try loading this page with nbviewer.org.</b></div><div class=\"sk-container\" hidden><div class=\"sk-item\"><div class=\"sk-estimator sk-toggleable\"><input class=\"sk-toggleable__control sk-hidden--visually\" id=\"sk-estimator-id-9\" type=\"checkbox\" checked><label for=\"sk-estimator-id-9\" class=\"sk-toggleable__label sk-toggleable__label-arrow\">SimpleImputer</label><div class=\"sk-toggleable__content\"><pre>SimpleImputer(strategy=&#x27;median&#x27;)</pre></div></div></div></div></div>"
      ],
      "text/plain": [
       "SimpleImputer(strategy='median')"
      ]
     },
     "execution_count": 447,
     "metadata": {},
     "output_type": "execute_result"
    }
   ],
   "source": [
    "# Calculo con la mediana solo para los casos de cilindro==4 \n",
    "# (solo se imputara en col==1 que es horsepower porque solo aqui hay nulos)\n",
    "imputacion=SimpleImputer(missing_values=np.nan , strategy='median').fit(aCH[aCH[:,0]==4].reshape(-1, 2)) # me pide el reshape\n",
    "imputacion"
   ]
  },
  {
   "cell_type": "code",
   "execution_count": 448,
   "id": "0d05f309",
   "metadata": {},
   "outputs": [],
   "source": [
    "# Imputacion\n",
    "aCH[aCH[:,0]==4]=imputacion.transform(aCH[aCH[:,0]==4].reshape(-1, 2)) "
   ]
  },
  {
   "cell_type": "code",
   "execution_count": 449,
   "id": "358c50f9",
   "metadata": {},
   "outputs": [],
   "source": [
    "# aCH Vs dfCH.values ESTA CORRECTO, HA IMPUTADO CON 78 LOS 5 CASOS DE NaN EN CILINDROS = 4"
   ]
  },
  {
   "cell_type": "markdown",
   "id": "a0bdbdb5",
   "metadata": {},
   "source": [
    "* CILINDROS=6 (deberia completar con 100) "
   ]
  },
  {
   "cell_type": "code",
   "execution_count": 451,
   "id": "9eb238e6",
   "metadata": {},
   "outputs": [
    {
     "data": {
      "text/html": [
       "<style>#sk-container-id-10 {color: black;background-color: white;}#sk-container-id-10 pre{padding: 0;}#sk-container-id-10 div.sk-toggleable {background-color: white;}#sk-container-id-10 label.sk-toggleable__label {cursor: pointer;display: block;width: 100%;margin-bottom: 0;padding: 0.3em;box-sizing: border-box;text-align: center;}#sk-container-id-10 label.sk-toggleable__label-arrow:before {content: \"▸\";float: left;margin-right: 0.25em;color: #696969;}#sk-container-id-10 label.sk-toggleable__label-arrow:hover:before {color: black;}#sk-container-id-10 div.sk-estimator:hover label.sk-toggleable__label-arrow:before {color: black;}#sk-container-id-10 div.sk-toggleable__content {max-height: 0;max-width: 0;overflow: hidden;text-align: left;background-color: #f0f8ff;}#sk-container-id-10 div.sk-toggleable__content pre {margin: 0.2em;color: black;border-radius: 0.25em;background-color: #f0f8ff;}#sk-container-id-10 input.sk-toggleable__control:checked~div.sk-toggleable__content {max-height: 200px;max-width: 100%;overflow: auto;}#sk-container-id-10 input.sk-toggleable__control:checked~label.sk-toggleable__label-arrow:before {content: \"▾\";}#sk-container-id-10 div.sk-estimator input.sk-toggleable__control:checked~label.sk-toggleable__label {background-color: #d4ebff;}#sk-container-id-10 div.sk-label input.sk-toggleable__control:checked~label.sk-toggleable__label {background-color: #d4ebff;}#sk-container-id-10 input.sk-hidden--visually {border: 0;clip: rect(1px 1px 1px 1px);clip: rect(1px, 1px, 1px, 1px);height: 1px;margin: -1px;overflow: hidden;padding: 0;position: absolute;width: 1px;}#sk-container-id-10 div.sk-estimator {font-family: monospace;background-color: #f0f8ff;border: 1px dotted black;border-radius: 0.25em;box-sizing: border-box;margin-bottom: 0.5em;}#sk-container-id-10 div.sk-estimator:hover {background-color: #d4ebff;}#sk-container-id-10 div.sk-parallel-item::after {content: \"\";width: 100%;border-bottom: 1px solid gray;flex-grow: 1;}#sk-container-id-10 div.sk-label:hover label.sk-toggleable__label {background-color: #d4ebff;}#sk-container-id-10 div.sk-serial::before {content: \"\";position: absolute;border-left: 1px solid gray;box-sizing: border-box;top: 0;bottom: 0;left: 50%;z-index: 0;}#sk-container-id-10 div.sk-serial {display: flex;flex-direction: column;align-items: center;background-color: white;padding-right: 0.2em;padding-left: 0.2em;position: relative;}#sk-container-id-10 div.sk-item {position: relative;z-index: 1;}#sk-container-id-10 div.sk-parallel {display: flex;align-items: stretch;justify-content: center;background-color: white;position: relative;}#sk-container-id-10 div.sk-item::before, #sk-container-id-10 div.sk-parallel-item::before {content: \"\";position: absolute;border-left: 1px solid gray;box-sizing: border-box;top: 0;bottom: 0;left: 50%;z-index: -1;}#sk-container-id-10 div.sk-parallel-item {display: flex;flex-direction: column;z-index: 1;position: relative;background-color: white;}#sk-container-id-10 div.sk-parallel-item:first-child::after {align-self: flex-end;width: 50%;}#sk-container-id-10 div.sk-parallel-item:last-child::after {align-self: flex-start;width: 50%;}#sk-container-id-10 div.sk-parallel-item:only-child::after {width: 0;}#sk-container-id-10 div.sk-dashed-wrapped {border: 1px dashed gray;margin: 0 0.4em 0.5em 0.4em;box-sizing: border-box;padding-bottom: 0.4em;background-color: white;}#sk-container-id-10 div.sk-label label {font-family: monospace;font-weight: bold;display: inline-block;line-height: 1.2em;}#sk-container-id-10 div.sk-label-container {text-align: center;}#sk-container-id-10 div.sk-container {/* jupyter's `normalize.less` sets `[hidden] { display: none; }` but bootstrap.min.css set `[hidden] { display: none !important; }` so we also need the `!important` here to be able to override the default hidden behavior on the sphinx rendered scikit-learn.org. See: https://github.com/scikit-learn/scikit-learn/issues/21755 */display: inline-block !important;position: relative;}#sk-container-id-10 div.sk-text-repr-fallback {display: none;}</style><div id=\"sk-container-id-10\" class=\"sk-top-container\"><div class=\"sk-text-repr-fallback\"><pre>SimpleImputer(strategy=&#x27;median&#x27;)</pre><b>In a Jupyter environment, please rerun this cell to show the HTML representation or trust the notebook. <br />On GitHub, the HTML representation is unable to render, please try loading this page with nbviewer.org.</b></div><div class=\"sk-container\" hidden><div class=\"sk-item\"><div class=\"sk-estimator sk-toggleable\"><input class=\"sk-toggleable__control sk-hidden--visually\" id=\"sk-estimator-id-10\" type=\"checkbox\" checked><label for=\"sk-estimator-id-10\" class=\"sk-toggleable__label sk-toggleable__label-arrow\">SimpleImputer</label><div class=\"sk-toggleable__content\"><pre>SimpleImputer(strategy=&#x27;median&#x27;)</pre></div></div></div></div></div>"
      ],
      "text/plain": [
       "SimpleImputer(strategy='median')"
      ]
     },
     "execution_count": 451,
     "metadata": {},
     "output_type": "execute_result"
    }
   ],
   "source": [
    "# Calculo con la media solo para los casos de cilindro==6 \n",
    "# (solo se imputara en col==1 que es horsepower porque solo aqui hay nulos)\n",
    "imputacion=SimpleImputer(missing_values=np.nan , strategy='median').fit(aCH[aCH[:,0]==6].reshape(-1, 2)) # me pide el reshape\n",
    "imputacion"
   ]
  },
  {
   "cell_type": "code",
   "execution_count": 452,
   "id": "ab0c457d",
   "metadata": {},
   "outputs": [],
   "source": [
    "aCH[aCH[:,0]==6]=imputacion.transform(aCH[aCH[:,0]==6].reshape(-1, 2)) # vuelvo a poner el reshape (en la asignacion no)\n",
    "\n",
    "# respecto del reshape no esta cambiando nada del formato de la matriz, no se porque lo pide #aCH#.reshape(-1, 2)"
   ]
  },
  {
   "cell_type": "code",
   "execution_count": 453,
   "id": "2e7806cb",
   "metadata": {},
   "outputs": [],
   "source": [
    "# aCH Vs dfCH.values ESTA CORRECTO, HA IMPUTADO CON 100 UN CASO DE NaN EN CILINDROS = 6 (LOS DE CILINDRO 4 YA ESTABAN CORREGIDOS)"
   ]
  },
  {
   "cell_type": "code",
   "execution_count": 454,
   "id": "55bcf215",
   "metadata": {},
   "outputs": [],
   "source": [
    "## AHORA VUELVO A FORMATO DATAFRAME PARA CONTINUAR LA TRANSFORMACION"
   ]
  },
  {
   "cell_type": "code",
   "execution_count": 457,
   "id": "45a1c663",
   "metadata": {},
   "outputs": [],
   "source": [
    "df=pd.DataFrame(aCH, columns=('cylinders', 'horsepower'))"
   ]
  },
  {
   "cell_type": "code",
   "execution_count": 458,
   "id": "cceecbe6",
   "metadata": {},
   "outputs": [
    {
     "data": {
      "text/plain": [
       "((398, 2), (398, 2))"
      ]
     },
     "execution_count": 458,
     "metadata": {},
     "output_type": "execute_result"
    }
   ],
   "source": [
    "df.shape, dfCH.shape"
   ]
  },
  {
   "cell_type": "code",
   "execution_count": 930,
   "id": "19285591",
   "metadata": {},
   "outputs": [
    {
     "data": {
      "text/plain": [
       "<AxesSubplot:>"
      ]
     },
     "execution_count": 930,
     "metadata": {},
     "output_type": "execute_result"
    },
    {
     "data": {
      "image/png": "[encoded data removed]",
      "text/plain": [
       "<Figure size 640x480 with 1 Axes>"
      ]
     },
     "metadata": {},
     "output_type": "display_data"
    }
   ],
   "source": [
    "# Diagrama de frecuencia de Cilindros \n",
    "dfCH['cylinders'].value_counts().sort_values(ascending=False).plot.bar()"
   ]
  },
  {
   "cell_type": "code",
   "execution_count": 482,
   "id": "160d567a",
   "metadata": {},
   "outputs": [
    {
     "data": {
      "text/plain": [
       "((387, 2), (398, 2))"
      ]
     },
     "execution_count": 482,
     "metadata": {},
     "output_type": "execute_result"
    }
   ],
   "source": [
    "df2.shape, dfCH.shape ## 11 menos outliers"
   ]
  },
  {
   "cell_type": "markdown",
   "id": "b7bc0e99",
   "metadata": {},
   "source": [
    "##### CALCULAR REGRESION LINEAL"
   ]
  },
  {
   "cell_type": "markdown",
   "id": "c9492a89",
   "metadata": {},
   "source": [
    "##### Division en variable objetivo y dependiente"
   ]
  },
  {
   "cell_type": "code",
   "execution_count": 484,
   "id": "10093c56",
   "metadata": {},
   "outputs": [
    {
     "data": {
      "text/html": [
       "<div>\n",
       "<style scoped>\n",
       "    .dataframe tbody tr th:only-of-type {\n",
       "        vertical-align: middle;\n",
       "    }\n",
       "\n",
       "    .dataframe tbody tr th {\n",
       "        vertical-align: top;\n",
       "    }\n",
       "\n",
       "    .dataframe thead th {\n",
       "        text-align: right;\n",
       "    }\n",
       "</style>\n",
       "<table border=\"1\" class=\"dataframe\">\n",
       "  <thead>\n",
       "    <tr style=\"text-align: right;\">\n",
       "      <th></th>\n",
       "      <th>cylinders</th>\n",
       "      <th>horsepower</th>\n",
       "    </tr>\n",
       "  </thead>\n",
       "  <tbody>\n",
       "    <tr>\n",
       "      <th>0</th>\n",
       "      <td>8</td>\n",
       "      <td>130</td>\n",
       "    </tr>\n",
       "    <tr>\n",
       "      <th>1</th>\n",
       "      <td>8</td>\n",
       "      <td>165</td>\n",
       "    </tr>\n",
       "    <tr>\n",
       "      <th>2</th>\n",
       "      <td>8</td>\n",
       "      <td>150</td>\n",
       "    </tr>\n",
       "  </tbody>\n",
       "</table>\n",
       "</div>"
      ],
      "text/plain": [
       "   cylinders  horsepower\n",
       "0          8         130\n",
       "1          8         165\n",
       "2          8         150"
      ]
     },
     "execution_count": 484,
     "metadata": {},
     "output_type": "execute_result"
    }
   ],
   "source": [
    "df2.head(3)"
   ]
  },
  {
   "cell_type": "code",
   "execution_count": 485,
   "id": "7a2c3de3",
   "metadata": {},
   "outputs": [],
   "source": [
    "y=df2.iloc[:,0].values # pongo la variable mas sencilla (con menos valores) como objetivo"
   ]
  },
  {
   "cell_type": "code",
   "execution_count": 486,
   "id": "1a27cce4",
   "metadata": {},
   "outputs": [],
   "source": [
    "x=df2.iloc[:,1].values"
   ]
  },
  {
   "cell_type": "markdown",
   "id": "9e3bf90f",
   "metadata": {},
   "source": [
    "##### Division en entrenamiento y test con SKLEARN"
   ]
  },
  {
   "cell_type": "code",
   "execution_count": 483,
   "id": "e963a995",
   "metadata": {},
   "outputs": [],
   "source": [
    "from sklearn.model_selection import train_test_split\n"
   ]
  },
  {
   "cell_type": "code",
   "execution_count": 489,
   "id": "536c63c5",
   "metadata": {},
   "outputs": [],
   "source": [
    "x_train, x_test, y_train, y_test = train_test_split(x,y,test_size=0.3, random_state=1987) # todo en este orden"
   ]
  },
  {
   "cell_type": "code",
   "execution_count": 490,
   "id": "3715335f",
   "metadata": {},
   "outputs": [
    {
     "data": {
      "text/plain": [
       "array([ 81, 165, 145,  60, 110,  48,  70, 150,  90,  93, 150,  83, 115,\n",
       "       110, 100,  88,  58,  97,  60,  61, 170,  65,  84,  68, 115,  52,\n",
       "       110, 107, 105,  65,  70,  75,  90,  76, 175, 140,  84,  97, 100,\n",
       "        88, 170,  65, 145, 190,  68, 150, 105,  86,  72, 135,  88,  95,\n",
       "        70,  97,  67, 100,  49, 180, 150, 130, 150, 153,  67, 110,  85,\n",
       "       110, 100,  70, 160, 145,  92,  98, 129,  96,  97, 152,  95,  76,\n",
       "        63,  95,  88, 110, 100,  96, 175,  90,  70,  46,  90,  76,  86,\n",
       "        80,  65, 145,  86, 150, 150,  72, 175,  90, 102,  64,  83,  86,\n",
       "       150, 190, 150,  52,  78,  85,  90,  71, 105,  98,  69, 150, 170,\n",
       "        97,  85, 125,  68,  71, 153, 100,  88,  81, 105, 175,  78,  78,\n",
       "        95, 105, 160,  95,  78,  67, 120,  48,  82, 140, 150,  65,  90,\n",
       "        88, 105,  63,  60, 116, 110, 100,  67, 110,  96,  90, 140, 150,\n",
       "        87,  70,  75, 108,  75, 100, 150,  94,  60,  88,  78, 140,  83,\n",
       "        84,  68,  67,  90,  75,  76,  95, 198,  90, 105,  75, 180,  68,\n",
       "        83, 170,  85,  71,  52,  75,  90, 137, 140, 130, 139,  65,  88,\n",
       "        88,  52,  53,  62,  80, 165,  88,  70,  95, 130, 100, 105,  90,\n",
       "       165,  80,  78,  79,  70,  84,  62, 150,  84,  60,  88,  68,  78,\n",
       "        90,  75,  67,  78, 130,  65,  53, 150, 105, 115,  65,  72,  72,\n",
       "       100, 145,  80,  95,  69,  72,  71, 138, 198,  72,  78,  65,  77,\n",
       "       167, 112,  92,  74, 170, 112, 122, 142, 150, 158, 120, 130,  90,\n",
       "        70, 103, 150,  85,  85,  67, 145,  87,  66,  88], dtype=int64)"
      ]
     },
     "execution_count": 490,
     "metadata": {},
     "output_type": "execute_result"
    }
   ],
   "source": [
    "x_train"
   ]
  },
  {
   "cell_type": "code",
   "execution_count": 491,
   "id": "2ac2f429",
   "metadata": {},
   "outputs": [
    {
     "data": {
      "text/plain": [
       "array([125, 125,  92,  70, 105, 155,  86, 110,  90,  78,  88,  70, 150,\n",
       "       105, 133,  92, 110, 149,  58,  78, 100,  95,  67, 100,  80, 110,\n",
       "        80,  92, 193,  63,  69, 129, 145, 148, 110,  84,  97,  88,  65,\n",
       "        75,  89, 100,  75,  88, 110, 155,  75,  80,  85,  97, 150,  71,\n",
       "       110, 140, 110, 100, 112,  75,  95, 110,  67, 113,  85,  90,  90,\n",
       "       180, 105, 150, 139, 110, 175,  90, 110,  90,  79,  54,  88, 100,\n",
       "        95,  88,  85,  67,  90, 140,  75, 120,  97, 115, 115,  75,  88,\n",
       "       165, 150,  48, 150, 100, 100,  95,  70,  67,  74,  74, 120,  78,\n",
       "        97, 180,  95,  67,  46,  92,  95,  91,  75, 132, 180,  88, 190],\n",
       "      dtype=int64)"
      ]
     },
     "execution_count": 491,
     "metadata": {},
     "output_type": "execute_result"
    }
   ],
   "source": [
    "x_test"
   ]
  },
  {
   "cell_type": "markdown",
   "id": "a7621ff0",
   "metadata": {},
   "source": [
    "##### Creacion del modelo"
   ]
  },
  {
   "cell_type": "code",
   "execution_count": 492,
   "id": "5c25bd32",
   "metadata": {},
   "outputs": [],
   "source": [
    "from sklearn.linear_model import LinearRegression"
   ]
  },
  {
   "cell_type": "code",
   "execution_count": null,
   "id": "908e42ef",
   "metadata": {},
   "outputs": [],
   "source": [
    "regresion=LinearRegression()\n",
    "regresion.fit(x_train.reshape(-1,1),y_train.reshape(-1,1))"
   ]
  },
  {
   "cell_type": "code",
   "execution_count": 1028,
   "id": "1deb8f8c",
   "metadata": {},
   "outputs": [],
   "source": [
    "y_pred=regresion.predict(x_test.reshape(-1, 1) )"
   ]
  },
  {
   "cell_type": "code",
   "execution_count": 1030,
   "id": "e8ea2497",
   "metadata": {},
   "outputs": [
    {
     "data": {
      "text/plain": [
       "array([6.4350252])"
      ]
     },
     "execution_count": 1030,
     "metadata": {},
     "output_type": "execute_result"
    }
   ],
   "source": [
    "y_pred[0]"
   ]
  },
  {
   "cell_type": "code",
   "execution_count": null,
   "id": "df17fa1e",
   "metadata": {},
   "outputs": [],
   "source": []
  },
  {
   "cell_type": "code",
   "execution_count": null,
   "id": "eb02ea9a",
   "metadata": {},
   "outputs": [],
   "source": []
  },
  {
   "cell_type": "code",
   "execution_count": null,
   "id": "3842f6c1",
   "metadata": {},
   "outputs": [],
   "source": []
  },
  {
   "cell_type": "code",
   "execution_count": null,
   "id": "29b5c4da",
   "metadata": {},
   "outputs": [],
   "source": []
  },
  {
   "cell_type": "code",
   "execution_count": 978,
   "id": "a3e6db20",
   "metadata": {},
   "outputs": [
    {
     "data": {
      "text/html": [
       "<div>\n",
       "<style scoped>\n",
       "    .dataframe tbody tr th:only-of-type {\n",
       "        vertical-align: middle;\n",
       "    }\n",
       "\n",
       "    .dataframe tbody tr th {\n",
       "        vertical-align: top;\n",
       "    }\n",
       "\n",
       "    .dataframe thead th {\n",
       "        text-align: right;\n",
       "    }\n",
       "</style>\n",
       "<table border=\"1\" class=\"dataframe\">\n",
       "  <thead>\n",
       "    <tr style=\"text-align: right;\">\n",
       "      <th></th>\n",
       "      <th>mpg</th>\n",
       "      <th>cylinders</th>\n",
       "      <th>displacement</th>\n",
       "      <th>horsepower</th>\n",
       "      <th>weight</th>\n",
       "      <th>acceleration</th>\n",
       "      <th>model_year</th>\n",
       "      <th>origin</th>\n",
       "      <th>name</th>\n",
       "      <th>marca</th>\n",
       "    </tr>\n",
       "  </thead>\n",
       "  <tbody>\n",
       "    <tr>\n",
       "      <th>126</th>\n",
       "      <td>21.0</td>\n",
       "      <td>6</td>\n",
       "      <td>200.0</td>\n",
       "      <td>NaN</td>\n",
       "      <td>2875</td>\n",
       "      <td>17.0</td>\n",
       "      <td>74</td>\n",
       "      <td>usa</td>\n",
       "      <td>ford maverick</td>\n",
       "      <td>FORD</td>\n",
       "    </tr>\n",
       "    <tr>\n",
       "      <th>64</th>\n",
       "      <td>15.0</td>\n",
       "      <td>8</td>\n",
       "      <td>318.0</td>\n",
       "      <td>150.0</td>\n",
       "      <td>4135</td>\n",
       "      <td>13.5</td>\n",
       "      <td>72</td>\n",
       "      <td>usa</td>\n",
       "      <td>plymouth fury iii</td>\n",
       "      <td>PLYMOUTH</td>\n",
       "    </tr>\n",
       "    <tr>\n",
       "      <th>324</th>\n",
       "      <td>40.8</td>\n",
       "      <td>4</td>\n",
       "      <td>85.0</td>\n",
       "      <td>65.0</td>\n",
       "      <td>2110</td>\n",
       "      <td>19.2</td>\n",
       "      <td>80</td>\n",
       "      <td>japan</td>\n",
       "      <td>datsun 210</td>\n",
       "      <td>DATSUN</td>\n",
       "    </tr>\n",
       "    <tr>\n",
       "      <th>107</th>\n",
       "      <td>18.0</td>\n",
       "      <td>6</td>\n",
       "      <td>232.0</td>\n",
       "      <td>100.0</td>\n",
       "      <td>2789</td>\n",
       "      <td>15.0</td>\n",
       "      <td>73</td>\n",
       "      <td>usa</td>\n",
       "      <td>amc gremlin</td>\n",
       "      <td>AMC</td>\n",
       "    </tr>\n",
       "    <tr>\n",
       "      <th>294</th>\n",
       "      <td>34.1</td>\n",
       "      <td>4</td>\n",
       "      <td>86.0</td>\n",
       "      <td>65.0</td>\n",
       "      <td>1975</td>\n",
       "      <td>15.2</td>\n",
       "      <td>79</td>\n",
       "      <td>japan</td>\n",
       "      <td>maxda glc deluxe</td>\n",
       "      <td>MAXDA</td>\n",
       "    </tr>\n",
       "  </tbody>\n",
       "</table>\n",
       "</div>"
      ],
      "text/plain": [
       "      mpg  cylinders  displacement  horsepower  weight  acceleration  \\\n",
       "126  21.0          6         200.0         NaN    2875          17.0   \n",
       "64   15.0          8         318.0       150.0    4135          13.5   \n",
       "324  40.8          4          85.0        65.0    2110          19.2   \n",
       "107  18.0          6         232.0       100.0    2789          15.0   \n",
       "294  34.1          4          86.0        65.0    1975          15.2   \n",
       "\n",
       "     model_year origin               name     marca  \n",
       "126          74    usa      ford maverick      FORD  \n",
       "64           72    usa  plymouth fury iii  PLYMOUTH  \n",
       "324          80  japan         datsun 210    DATSUN  \n",
       "107          73    usa        amc gremlin       AMC  \n",
       "294          79  japan   maxda glc deluxe     MAXDA  "
      ]
     },
     "execution_count": 978,
     "metadata": {},
     "output_type": "execute_result"
    }
   ],
   "source": [
    "### Voy a tratar la columna Name para separar la marca del nombre \n",
    "\n",
    "df_mpg['marca']=df_mpg['name'].apply(lambda x: x[0:x.index(' ')].upper() if ' ' in x else x.upper())\n",
    "df_mpg.sample(5)"
   ]
  },
  {
   "cell_type": "code",
   "execution_count": 975,
   "id": "087fdf1d",
   "metadata": {},
   "outputs": [
    {
     "data": {
      "text/plain": [
       "array(['CHEVROLET', 'BUICK', 'PLYMOUTH', 'AMC', 'FORD', 'PONTIAC',\n",
       "       'DODGE', 'TOYOTA', 'DATSUN', 'VOLKSWAGEN', 'PEUGEOT', 'AUDI',\n",
       "       'SAAB', 'BMW', 'CHEVY', 'HI', 'MERCURY', 'OPEL', 'FIAT',\n",
       "       'OLDSMOBILE', 'CHRYSLER', 'MAZDA', 'VOLVO', 'RENAULT', 'TOYOUTA',\n",
       "       'MAXDA', 'HONDA', 'SUBARU', 'CHEVROELT', 'CAPRI', 'VW',\n",
       "       'MERCEDES-BENZ', 'CADILLAC', 'MERCEDES', 'VOKSWAGEN', 'TRIUMPH',\n",
       "       'NISSAN'], dtype=object)"
      ]
     },
     "execution_count": 975,
     "metadata": {},
     "output_type": "execute_result"
    }
   ],
   "source": [
    "df_mpg['marca'].unique() "
   ]
  },
  {
   "cell_type": "markdown",
   "id": "3fbd1116",
   "metadata": {},
   "source": [
    " En esta lista hay errores de tipeo. Hay que transformar para corregirlos.\n",
    " \n",
    " Unificar las siguientes categorias de marca:\n",
    " \n",
    "        TOYOTA, TOYOUTA\n",
    "        VOLKSWAGEN, VW, VOKSWAGEN\n",
    "        MERCEDES-BENZ, MERCEDES\n",
    "        CHEVROLET, CHEVROELT"
   ]
  },
  {
   "cell_type": "code",
   "execution_count": 993,
   "id": "c1a2f7db",
   "metadata": {},
   "outputs": [
    {
     "data": {
      "text/html": [
       "<div>\n",
       "<style scoped>\n",
       "    .dataframe tbody tr th:only-of-type {\n",
       "        vertical-align: middle;\n",
       "    }\n",
       "\n",
       "    .dataframe tbody tr th {\n",
       "        vertical-align: top;\n",
       "    }\n",
       "\n",
       "    .dataframe thead th {\n",
       "        text-align: right;\n",
       "    }\n",
       "</style>\n",
       "<table border=\"1\" class=\"dataframe\">\n",
       "  <thead>\n",
       "    <tr style=\"text-align: right;\">\n",
       "      <th></th>\n",
       "      <th>mpg</th>\n",
       "      <th>cylinders</th>\n",
       "      <th>displacement</th>\n",
       "      <th>horsepower</th>\n",
       "      <th>weight</th>\n",
       "      <th>acceleration</th>\n",
       "      <th>model_year</th>\n",
       "      <th>origin</th>\n",
       "      <th>name</th>\n",
       "      <th>marca</th>\n",
       "    </tr>\n",
       "  </thead>\n",
       "  <tbody>\n",
       "    <tr>\n",
       "      <th>332</th>\n",
       "      <td>29.8</td>\n",
       "      <td>4</td>\n",
       "      <td>89.0</td>\n",
       "      <td>62.0</td>\n",
       "      <td>1845</td>\n",
       "      <td>15.3</td>\n",
       "      <td>80</td>\n",
       "      <td>europe</td>\n",
       "      <td>vokswagen rabbit</td>\n",
       "      <td>VOKSWAGEN</td>\n",
       "    </tr>\n",
       "  </tbody>\n",
       "</table>\n",
       "</div>"
      ],
      "text/plain": [
       "      mpg  cylinders  displacement  horsepower  weight  acceleration  \\\n",
       "332  29.8          4          89.0        62.0    1845          15.3   \n",
       "\n",
       "     model_year  origin              name      marca  \n",
       "332          80  europe  vokswagen rabbit  VOKSWAGEN  "
      ]
     },
     "execution_count": 993,
     "metadata": {},
     "output_type": "execute_result"
    }
   ],
   "source": [
    "df_mpg[df_mpg['marca']=='VOKSWAGEN']"
   ]
  },
  {
   "cell_type": "code",
   "execution_count": 990,
   "id": "b84f5030",
   "metadata": {},
   "outputs": [
    {
     "data": {
      "text/plain": [
       "Int64Index([], dtype='int64')"
      ]
     },
     "execution_count": 990,
     "metadata": {},
     "output_type": "execute_result"
    }
   ],
   "source": [
    "# indice de fila a modificar\n",
    "df_mpg[df_mpg['marca']=='MERCEDES'].index"
   ]
  },
  {
   "cell_type": "code",
   "execution_count": 994,
   "id": "982c52d6",
   "metadata": {},
   "outputs": [],
   "source": [
    "df_mpg.iloc[df_mpg[df_mpg['marca']=='VOKSWAGEN'].index,9]='VOLKSWAGEN'\n",
    "df_mpg.iloc[df_mpg[df_mpg['marca']=='VW'].index,9]='VOLKSWAGEN'\n",
    "df_mpg.iloc[df_mpg[df_mpg['marca']=='TOYOUTA'].index,9]='TOYOTA'"
   ]
  },
  {
   "cell_type": "code",
   "execution_count": 996,
   "id": "eba73d9c",
   "metadata": {},
   "outputs": [],
   "source": [
    "df_mpg.iloc[df_mpg[df_mpg['marca']=='CHEVROELT'].index,9]='CHEVROLET'"
   ]
  },
  {
   "cell_type": "code",
   "execution_count": 1024,
   "id": "19227ac3",
   "metadata": {},
   "outputs": [],
   "source": [
    "df_mpg.iloc[df_mpg[df_mpg['marca']=='MAXDA'].index,9]='MAZDA'"
   ]
  },
  {
   "cell_type": "code",
   "execution_count": 1025,
   "id": "cc9bf966",
   "metadata": {},
   "outputs": [
    {
     "data": {
      "text/plain": [
       "<AxesSubplot:>"
      ]
     },
     "execution_count": 1025,
     "metadata": {},
     "output_type": "execute_result"
    },
    {
     "data": {
      "image/png": "[encoded data removed]",
      "text/plain": [
       "<Figure size 640x480 with 1 Axes>"
      ]
     },
     "metadata": {},
     "output_type": "display_data"
    }
   ],
   "source": [
    "df_mpg['marca'].value_counts().sort_values(ascending=False).plot.bar()\n"
   ]
  },
  {
   "cell_type": "code",
   "execution_count": 1026,
   "id": "48243f4d",
   "metadata": {},
   "outputs": [
    {
     "data": {
      "text/plain": [
       "array([['CHEVROLET'],\n",
       "       ['BUICK'],\n",
       "       ['PLYMOUTH'],\n",
       "       ['AMC'],\n",
       "       ['FORD'],\n",
       "       ['PONTIAC'],\n",
       "       ['DODGE'],\n",
       "       ['TOYOTA'],\n",
       "       ['DATSUN'],\n",
       "       ['VOLKSWAGEN'],\n",
       "       ['PEUGEOT'],\n",
       "       ['AUDI'],\n",
       "       ['SAAB'],\n",
       "       ['BMW'],\n",
       "       ['CHEVY'],\n",
       "       ['HI'],\n",
       "       ['MERCURY'],\n",
       "       ['OPEL'],\n",
       "       ['FIAT'],\n",
       "       ['OLDSMOBILE'],\n",
       "       ['CHRYSLER'],\n",
       "       ['MAZDA'],\n",
       "       ['VOLVO'],\n",
       "       ['RENAULT'],\n",
       "       ['HONDA'],\n",
       "       ['SUBARU'],\n",
       "       ['CAPRI'],\n",
       "       ['MERCEDES-BENZ'],\n",
       "       ['CADILLAC'],\n",
       "       ['TRIUMPH'],\n",
       "       ['NISSAN']], dtype=object)"
      ]
     },
     "execution_count": 1026,
     "metadata": {},
     "output_type": "execute_result"
    }
   ],
   "source": [
    "# vuelvo a controlar\n",
    "# df_mpg['marca'].unique().size # son 32\n",
    "df_mpg['marca'].unique().reshape(31,1)#.sort()"
   ]
  },
  {
   "cell_type": "code",
   "execution_count": null,
   "id": "cbe24a80",
   "metadata": {},
   "outputs": [],
   "source": []
  },
  {
   "cell_type": "code",
   "execution_count": null,
   "id": "1128c184",
   "metadata": {},
   "outputs": [],
   "source": []
  },
  {
   "cell_type": "code",
   "execution_count": null,
   "id": "6dbdc844",
   "metadata": {},
   "outputs": [],
   "source": []
  }
 ],
 "metadata": {
  "kernelspec": {
   "display_name": "Python 3 (ipykernel)",
   "language": "python",
   "name": "python3"
  },
  "language_info": {
   "codemirror_mode": {
    "name": "ipython",
    "version": 3
   },
   "file_extension": ".py",
   "mimetype": "text/x-python",
   "name": "python",
   "nbconvert_exporter": "python",
   "pygments_lexer": "ipython3",
   "version": "3.9.13"
  }
 },
 "nbformat": 4,
 "nbformat_minor": 5
}
