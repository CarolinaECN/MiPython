{
 "cells": [
  {
   "cell_type": "markdown",
   "id": "d2f65cde",
   "metadata": {},
   "source": [
    "## TEORIA DE PYTHON\n",
    "\n",
    "* Funciones y metodos para los distintos tipos de variables\n",
    "* Estructuras WHILE, FOR\n",
    "* Funciones definidas\n",
    "* Estructuras de datos"
   ]
  },
  {
   "cell_type": "markdown",
   "id": "75bd56a4",
   "metadata": {},
   "source": [
    "### Operaciones aritmeticas\n",
    "\n",
    "\n",
    "\n"
   ]
  },
  {
   "cell_type": "code",
   "execution_count": null,
   "id": "2bf662cd",
   "metadata": {},
   "outputs": [],
   "source": [
    "a = 2\n",
    "b = 2"
   ]
  },
  {
   "cell_type": "code",
   "execution_count": null,
   "id": "126f8802",
   "metadata": {},
   "outputs": [],
   "source": [
    "# Suma\n",
    "a + b"
   ]
  },
  {
   "cell_type": "code",
   "execution_count": null,
   "id": "94afee98",
   "metadata": {},
   "outputs": [],
   "source": [
    "# Resta\n",
    "a - b"
   ]
  },
  {
   "cell_type": "code",
   "execution_count": null,
   "id": "ca250585",
   "metadata": {},
   "outputs": [],
   "source": [
    "# Multiplicación\n",
    "a * b"
   ]
  },
  {
   "cell_type": "code",
   "execution_count": null,
   "id": "5a8cf816",
   "metadata": {},
   "outputs": [],
   "source": [
    "# Potenciación\n",
    "a ** b"
   ]
  },
  {
   "cell_type": "code",
   "execution_count": null,
   "id": "ad0abce5",
   "metadata": {},
   "outputs": [],
   "source": [
    "# División decimal\n",
    "a/b"
   ]
  },
  {
   "cell_type": "code",
   "execution_count": null,
   "id": "356121eb",
   "metadata": {},
   "outputs": [],
   "source": [
    "# División entera\n",
    "4//2"
   ]
  },
  {
   "cell_type": "code",
   "execution_count": null,
   "id": "c8b7ce11",
   "metadata": {},
   "outputs": [],
   "source": [
    "# Resto de la divisón entera\n",
    "a%b"
   ]
  },
  {
   "cell_type": "code",
   "execution_count": null,
   "id": "47ab89ce",
   "metadata": {},
   "outputs": [],
   "source": [
    "# Criterio de operación matemática\n",
    "(3+2*9)/2"
   ]
  },
  {
   "cell_type": "code",
   "execution_count": null,
   "id": "c167c3a5",
   "metadata": {},
   "outputs": [],
   "source": [
    "# Cálculos simultaneos\n",
    "3+7, 4-3, 8**99, 100/2"
   ]
  },
  {
   "cell_type": "code",
   "execution_count": null,
   "id": "dbd23ae1",
   "metadata": {},
   "outputs": [],
   "source": [
    "# Asignación simultanea durante la ejecución\n",
    "\n",
    "z, y, w, x = 3+7, 4-3, 8**99, 100/2"
   ]
  },
  {
   "cell_type": "code",
   "execution_count": null,
   "id": "6026329e",
   "metadata": {},
   "outputs": [],
   "source": [
    "z"
   ]
  },
  {
   "cell_type": "code",
   "execution_count": null,
   "id": "c2ae53c1",
   "metadata": {},
   "outputs": [],
   "source": [
    "z, y, w, x"
   ]
  },
  {
   "cell_type": "code",
   "execution_count": null,
   "id": "f98b42fb",
   "metadata": {},
   "outputs": [],
   "source": [
    "# numeroscomplejos -> importar la libreria math (permite ampliar las funcionalidades matematicas de numeros reales)\n",
    "import math"
   ]
  },
  {
   "cell_type": "code",
   "execution_count": null,
   "id": "af52d1ac",
   "metadata": {},
   "outputs": [],
   "source": [
    "math.sqrt(9) # devuelve un float"
   ]
  },
  {
   "cell_type": "code",
   "execution_count": null,
   "id": "38d57ef8",
   "metadata": {},
   "outputs": [],
   "source": [
    "9**0.5 # otra forma de hacer la raiz cuadrada sin la libreria o sea sin sqrt"
   ]
  },
  {
   "cell_type": "code",
   "execution_count": null,
   "id": "fea83365",
   "metadata": {},
   "outputs": [],
   "source": [
    "27**0.333333 # esto seria como raiz cubica que no se como se hace con la libreria math, tal vez haya una funcion"
   ]
  },
  {
   "cell_type": "code",
   "execution_count": null,
   "id": "dec87f3e",
   "metadata": {},
   "outputs": [],
   "source": [
    "math.pi"
   ]
  },
  {
   "cell_type": "code",
   "execution_count": null,
   "id": "f36ba7a9",
   "metadata": {},
   "outputs": [],
   "source": [
    "math.tan(45)"
   ]
  },
  {
   "cell_type": "code",
   "execution_count": null,
   "id": "594ab385",
   "metadata": {},
   "outputs": [],
   "source": [
    "math.sin(30*math.pi/180)"
   ]
  },
  {
   "cell_type": "code",
   "execution_count": null,
   "id": "c1242b03",
   "metadata": {},
   "outputs": [],
   "source": [
    "math.cos(30)"
   ]
  },
  {
   "cell_type": "code",
   "execution_count": null,
   "id": "c92b53de",
   "metadata": {},
   "outputs": [],
   "source": [
    "math.ceil(3.0000000000001) # redondea al entero superior "
   ]
  },
  {
   "cell_type": "code",
   "execution_count": null,
   "id": "f7a7363d",
   "metadata": {},
   "outputs": [],
   "source": [
    "math.floor(3.7) # redondea al entero inferior"
   ]
  },
  {
   "cell_type": "code",
   "execution_count": null,
   "id": "46baf8a2",
   "metadata": {},
   "outputs": [],
   "source": [
    "import cmath # importar la libreria de numeros complejos"
   ]
  },
  {
   "cell_type": "code",
   "execution_count": null,
   "id": "b83d40de",
   "metadata": {},
   "outputs": [],
   "source": [
    "cmath.sqrt(-1)"
   ]
  },
  {
   "cell_type": "markdown",
   "id": "4b6aff5c",
   "metadata": {},
   "source": [
    "#### COHERCION \n",
    "\n",
    "Es la transformación o cambio del tipo de dato almacenado en una variable"
   ]
  },
  {
   "cell_type": "code",
   "execution_count": null,
   "id": "145e7fa9",
   "metadata": {},
   "outputs": [],
   "source": [
    "a = 7.5"
   ]
  },
  {
   "cell_type": "code",
   "execution_count": null,
   "id": "95e9c695",
   "metadata": {},
   "outputs": [],
   "source": [
    "str(a) # coherción a cadenas de texto"
   ]
  },
  {
   "cell_type": "code",
   "execution_count": null,
   "id": "92415e68",
   "metadata": {},
   "outputs": [],
   "source": [
    "int('7') # cohercion de str a int"
   ]
  },
  {
   "cell_type": "code",
   "execution_count": null,
   "id": "0b3ac779",
   "metadata": {},
   "outputs": [],
   "source": [
    "float('7.1') # cohercion de str a float"
   ]
  },
  {
   "cell_type": "code",
   "execution_count": null,
   "id": "df8e7d51",
   "metadata": {},
   "outputs": [],
   "source": [
    "a = 3.999\n",
    "print(type(a))"
   ]
  },
  {
   "cell_type": "code",
   "execution_count": null,
   "id": "0f07c6c3",
   "metadata": {},
   "outputs": [],
   "source": [
    "a = int(a) # coherción de float a  entero "
   ]
  },
  {
   "cell_type": "code",
   "execution_count": null,
   "id": "8a70bfd6",
   "metadata": {},
   "outputs": [],
   "source": [
    "print(type(int(a)))"
   ]
  },
  {
   "cell_type": "code",
   "execution_count": null,
   "id": "d1b88f0d",
   "metadata": {},
   "outputs": [],
   "source": [
    "a"
   ]
  },
  {
   "cell_type": "code",
   "execution_count": null,
   "id": "34e2464a",
   "metadata": {},
   "outputs": [],
   "source": [
    "float(1) # cohercion de int a float  # El float siempre se ve con el punto decimal ."
   ]
  },
  {
   "cell_type": "code",
   "execution_count": null,
   "id": "4bfee047",
   "metadata": {},
   "outputs": [],
   "source": [
    "float(a) # conversion de str a float"
   ]
  },
  {
   "cell_type": "code",
   "execution_count": null,
   "id": "e5637d32",
   "metadata": {},
   "outputs": [],
   "source": [
    "complex(9,-3) # cohercion a numeros imaginarios (parte real,parte imaginaria)"
   ]
  },
  {
   "cell_type": "code",
   "execution_count": null,
   "id": "7ed62f3c",
   "metadata": {},
   "outputs": [],
   "source": [
    "complex('7.5')"
   ]
  },
  {
   "cell_type": "code",
   "execution_count": null,
   "id": "76cc51f0",
   "metadata": {},
   "outputs": [],
   "source": []
  },
  {
   "cell_type": "markdown",
   "id": "1ad1abbb",
   "metadata": {},
   "source": [
    " EJERCICIO:\n",
    "\n",
    " Demostrar la siguiente formula\n",
    "\n",
    "DIVIDENDO = DIVISOR * COECIENTE + RESTO \n",
    "\n",
    "Ejemplo: 86 /73.5"
   ]
  },
  {
   "cell_type": "code",
   "execution_count": null,
   "id": "25509d68",
   "metadata": {},
   "outputs": [],
   "source": [
    "dividendo = 86\n",
    "divisor = 73.5"
   ]
  },
  {
   "cell_type": "code",
   "execution_count": null,
   "id": "b7d3a6f9",
   "metadata": {},
   "outputs": [],
   "source": [
    "cociente = dividendo / divisor"
   ]
  },
  {
   "cell_type": "code",
   "execution_count": null,
   "id": "e96c1b9f",
   "metadata": {},
   "outputs": [],
   "source": [
    "resto = dividendo // divisor"
   ]
  },
  {
   "cell_type": "code",
   "execution_count": null,
   "id": "9056d7f2",
   "metadata": {},
   "outputs": [],
   "source": [
    "resto\n"
   ]
  },
  {
   "cell_type": "code",
   "execution_count": null,
   "id": "b58ee4e2",
   "metadata": {},
   "outputs": [],
   "source": [
    "(divisor * cociente) + resto"
   ]
  },
  {
   "cell_type": "code",
   "execution_count": null,
   "id": "2dfcc0eb",
   "metadata": {},
   "outputs": [],
   "source": [
    "cociente"
   ]
  },
  {
   "cell_type": "markdown",
   "id": "d32e2003",
   "metadata": {},
   "source": [
    "#### TIPACION DE DATOS"
   ]
  },
  {
   "cell_type": "code",
   "execution_count": null,
   "id": "483fe8f8",
   "metadata": {},
   "outputs": [],
   "source": [
    "type('x'),type(10), type(8.9)"
   ]
  },
  {
   "cell_type": "code",
   "execution_count": 71,
   "id": "aac771cb",
   "metadata": {},
   "outputs": [
    {
     "data": {
      "text/plain": [
       "float"
      ]
     },
     "execution_count": 71,
     "metadata": {},
     "output_type": "execute_result"
    }
   ],
   "source": [
    "type(100/2)"
   ]
  },
  {
   "cell_type": "markdown",
   "id": "f10a08b6",
   "metadata": {},
   "source": [
    "#### CADENA DE CARACTERES (String)"
   ]
  },
  {
   "cell_type": "code",
   "execution_count": null,
   "id": "ecb46628",
   "metadata": {},
   "outputs": [],
   "source": [
    "\"esto es un caracter\""
   ]
  },
  {
   "cell_type": "code",
   "execution_count": null,
   "id": "07bed125",
   "metadata": {},
   "outputs": [],
   "source": [
    "'esto es otro string'"
   ]
  },
  {
   "cell_type": "code",
   "execution_count": null,
   "id": "3a3d8d28",
   "metadata": {},
   "outputs": [],
   "source": [
    "\"hola mundo 'jose' \""
   ]
  },
  {
   "cell_type": "code",
   "execution_count": null,
   "id": "d24db0b0",
   "metadata": {},
   "outputs": [],
   "source": [
    "'Hola \"maria\" que tal estas'"
   ]
  },
  {
   "cell_type": "code",
   "execution_count": null,
   "id": "1bf475d1",
   "metadata": {},
   "outputs": [],
   "source": [
    "# uso de una sola comilla\n",
    "\"Hola ' adios\""
   ]
  },
  {
   "cell_type": "markdown",
   "id": "cf542f6a",
   "metadata": {},
   "source": [
    "La \\ permite escapar de caracteres especiales reservados en python como es el salto de carro que lo consequimos con \\n"
   ]
  },
  {
   "cell_type": "code",
   "execution_count": null,
   "id": "3151e75d",
   "metadata": {},
   "outputs": [],
   "source": [
    "print(\"Hola \\nnaturaleza\")"
   ]
  },
  {
   "cell_type": "code",
   "execution_count": null,
   "id": "77085ab9",
   "metadata": {},
   "outputs": [],
   "source": [
    "print(\"Hola \\\\naturaleza\") # ya no hace el salto de linea porque tiene la barra delante"
   ]
  },
  {
   "cell_type": "markdown",
   "id": "24b02a63",
   "metadata": {},
   "source": [
    "####  BOOLEANOS \n",
    "\n",
    "* Cualquier valor <> 0 es True \n",
    "* Solo el 0 es False"
   ]
  },
  {
   "cell_type": "markdown",
   "id": "941360c8",
   "metadata": {},
   "source": [
    "En informatica:   booleano = True , False <br>\n",
    "En matematicas e ingenieria:  booleano 1 (True) 0 (False) <br>\n",
    "En electronica: bool 1 (True / hay corriente)  0 (False / no. hay corriente) "
   ]
  },
  {
   "cell_type": "code",
   "execution_count": null,
   "id": "8fed834d",
   "metadata": {},
   "outputs": [],
   "source": [
    "bool(0)"
   ]
  },
  {
   "cell_type": "code",
   "execution_count": null,
   "id": "e7b8fcb9",
   "metadata": {},
   "outputs": [],
   "source": [
    "bool(1)"
   ]
  },
  {
   "cell_type": "code",
   "execution_count": null,
   "id": "988e43fd",
   "metadata": {},
   "outputs": [],
   "source": [
    "bool(199) "
   ]
  },
  {
   "cell_type": "code",
   "execution_count": null,
   "id": "5ec08ea0",
   "metadata": {},
   "outputs": [],
   "source": [
    "bool('a')"
   ]
  },
  {
   "cell_type": "code",
   "execution_count": null,
   "id": "ec87b5dd",
   "metadata": {},
   "outputs": [],
   "source": [
    "bool(1.22)"
   ]
  },
  {
   "cell_type": "code",
   "execution_count": null,
   "id": "b6340499",
   "metadata": {},
   "outputs": [],
   "source": [
    "True "
   ]
  },
  {
   "cell_type": "code",
   "execution_count": null,
   "id": "a3b13bbb",
   "metadata": {},
   "outputs": [],
   "source": [
    "False"
   ]
  },
  {
   "cell_type": "code",
   "execution_count": null,
   "id": "6b38e96e",
   "metadata": {},
   "outputs": [],
   "source": [
    "print(bool(1.1) , bool(0.5) , bool(-0.5)) \n",
    "# no existe cohercion posible de str/float/int a bool  => siempre sale True si hay valor <> 0"
   ]
  },
  {
   "cell_type": "code",
   "execution_count": null,
   "id": "4bffe531",
   "metadata": {},
   "outputs": [],
   "source": [
    "print(bool(0))"
   ]
  },
  {
   "cell_type": "markdown",
   "id": "f47c81f7",
   "metadata": {},
   "source": [
    "#### Operaciones booleanas (relacionales) Logica proposicional"
   ]
  },
  {
   "cell_type": "code",
   "execution_count": null,
   "id": "81ab4971",
   "metadata": {},
   "outputs": [],
   "source": [
    "# and operador exclusivo, solo sale true si las dos condiciones se cumplen"
   ]
  },
  {
   "cell_type": "code",
   "execution_count": null,
   "id": "b38f108c",
   "metadata": {},
   "outputs": [],
   "source": [
    "True and True "
   ]
  },
  {
   "cell_type": "code",
   "execution_count": null,
   "id": "04ae0d98",
   "metadata": {},
   "outputs": [],
   "source": [
    "False and False"
   ]
  },
  {
   "cell_type": "code",
   "execution_count": null,
   "id": "9b0d69a8",
   "metadata": {},
   "outputs": [],
   "source": [
    "True and False"
   ]
  },
  {
   "cell_type": "code",
   "execution_count": null,
   "id": "9fcbb141",
   "metadata": {},
   "outputs": [],
   "source": [
    "False and True"
   ]
  },
  {
   "cell_type": "code",
   "execution_count": null,
   "id": "1bcf4688",
   "metadata": {},
   "outputs": [],
   "source": [
    "### or Es True si alguno es True. Solo False si todos falsos."
   ]
  },
  {
   "cell_type": "code",
   "execution_count": null,
   "id": "27714c17",
   "metadata": {},
   "outputs": [],
   "source": [
    "True or True"
   ]
  },
  {
   "cell_type": "code",
   "execution_count": null,
   "id": "1e3d26ef",
   "metadata": {},
   "outputs": [],
   "source": [
    "False or False "
   ]
  },
  {
   "cell_type": "code",
   "execution_count": null,
   "id": "89a01fd3",
   "metadata": {},
   "outputs": [],
   "source": [
    "True or False"
   ]
  },
  {
   "cell_type": "code",
   "execution_count": null,
   "id": "66a95e52",
   "metadata": {},
   "outputs": [],
   "source": [
    "False or True"
   ]
  },
  {
   "cell_type": "code",
   "execution_count": null,
   "id": "f80ad0bf",
   "metadata": {},
   "outputs": [],
   "source": [
    "### not / != "
   ]
  },
  {
   "cell_type": "code",
   "execution_count": null,
   "id": "5fd57c4a",
   "metadata": {},
   "outputs": [],
   "source": [
    "not(False)"
   ]
  },
  {
   "cell_type": "code",
   "execution_count": null,
   "id": "65a7b202",
   "metadata": {},
   "outputs": [],
   "source": [
    "not False == True"
   ]
  },
  {
   "cell_type": "code",
   "execution_count": null,
   "id": "ba60862d",
   "metadata": {},
   "outputs": [],
   "source": [
    "not(True)"
   ]
  },
  {
   "cell_type": "code",
   "execution_count": null,
   "id": "7a19d8be",
   "metadata": {},
   "outputs": [],
   "source": [
    "# != True "
   ]
  },
  {
   "cell_type": "code",
   "execution_count": null,
   "id": "6995684b",
   "metadata": {},
   "outputs": [],
   "source": [
    "### == Comparador"
   ]
  },
  {
   "cell_type": "code",
   "execution_count": null,
   "id": "a1e35236",
   "metadata": {},
   "outputs": [],
   "source": [
    "4 == 4"
   ]
  },
  {
   "cell_type": "code",
   "execution_count": null,
   "id": "3b37fc5b",
   "metadata": {},
   "outputs": [],
   "source": [
    "4==4.0"
   ]
  },
  {
   "cell_type": "code",
   "execution_count": null,
   "id": "ffaf799b",
   "metadata": {},
   "outputs": [],
   "source": [
    "###. >  <    (extrictors)"
   ]
  },
  {
   "cell_type": "code",
   "execution_count": null,
   "id": "ca42dbbb",
   "metadata": {},
   "outputs": [],
   "source": [
    "### >=   <=. (blandos)"
   ]
  },
  {
   "cell_type": "markdown",
   "id": "a09788ba",
   "metadata": {},
   "source": [
    "#### Operadores con caracteres"
   ]
  },
  {
   "cell_type": "code",
   "execution_count": null,
   "id": "2e3fd517",
   "metadata": {},
   "outputs": [],
   "source": [
    "a = \"\"\"Jamón ipsum Real Madrid \n",
    "\n",
    "vaya chollazo a cogió prestado honor. Aquí no hay tomate el por la cara y roña madrileña collección de mariposita estopa señor vecinos cien gaviotas, tus tronco ligar maruja mi flamenco pero macho tía la quillo friqui brutal. Con siesta salmorejo nuestra comunidad por la cara. Fútbol mucho de tiburón de la noche enróllate cogió prestado las dominguera horchata.\"\"\""
   ]
  },
  {
   "cell_type": "code",
   "execution_count": null,
   "id": "069d8c0b",
   "metadata": {},
   "outputs": [],
   "source": [
    "print(a) "
   ]
  },
  {
   "cell_type": "code",
   "execution_count": null,
   "id": "d55c471e",
   "metadata": {},
   "outputs": [],
   "source": [
    "print(\"hola \" *3) # operaciones de repeticion de str"
   ]
  },
  {
   "cell_type": "code",
   "execution_count": null,
   "id": "b64b49bc",
   "metadata": {},
   "outputs": [],
   "source": [
    "print(\"hola\"+\" mundo\") # operaciones de concatenacion"
   ]
  },
  {
   "cell_type": "code",
   "execution_count": null,
   "id": "fea368bb",
   "metadata": {},
   "outputs": [],
   "source": [
    "print(\"hola \" + str(7)) # no se puede concatenar typos que no sean str"
   ]
  },
  {
   "cell_type": "code",
   "execution_count": null,
   "id": "3a3d971a",
   "metadata": {},
   "outputs": [],
   "source": [
    "print(\"hola\",7,True) # concatenacion con el operador print (no es un operador de caracteres)"
   ]
  },
  {
   "cell_type": "code",
   "execution_count": null,
   "id": "d609c586",
   "metadata": {},
   "outputs": [],
   "source": [
    "len('Hola mundo')"
   ]
  },
  {
   "cell_type": "code",
   "execution_count": null,
   "id": "d4a624e1",
   "metadata": {},
   "outputs": [],
   "source": [
    "c='Hola'"
   ]
  },
  {
   "cell_type": "markdown",
   "id": "0def784a",
   "metadata": {},
   "source": [
    "### while y for"
   ]
  },
  {
   "cell_type": "code",
   "execution_count": null,
   "id": "1421880a",
   "metadata": {},
   "outputs": [],
   "source": [
    "# Recorrer una cadena\n",
    "x=0\n",
    "while x<len(c):\n",
    "    print(c[x])\n",
    "    x+=1"
   ]
  },
  {
   "cell_type": "code",
   "execution_count": null,
   "id": "affcf720",
   "metadata": {},
   "outputs": [],
   "source": [
    "for i in range(0,len(c)): # El ultimo valor queda fuera\n",
    "    print(c[i])\n"
   ]
  },
  {
   "cell_type": "code",
   "execution_count": null,
   "id": "3b172e0f",
   "metadata": {},
   "outputs": [],
   "source": [
    "for i in c: \n",
    "    print(i)\n"
   ]
  },
  {
   "cell_type": "code",
   "execution_count": null,
   "id": "ff0347d1",
   "metadata": {},
   "outputs": [],
   "source": [
    "# Ejercicio\n",
    "nombre=input('Cual es tu nombre? ')\n",
    "Salida= 'Hola '+nombre+'!'\n",
    "print(Salida)\n",
    "\n",
    "edad=input('Cuantos años tienes? ') # El input devuelve str\n",
    "Salida='En tu proximo cumpleaños cumplirás '+str(int(edad)+1) # Convierto la edad a entero para poder sumar y luego otra vez a string \n",
    "print(Salida)\n"
   ]
  },
  {
   "cell_type": "markdown",
   "id": "3384dbd8",
   "metadata": {},
   "source": [
    "#### FUNCIONES"
   ]
  },
  {
   "cell_type": "markdown",
   "id": "0a298935",
   "metadata": {},
   "source": [
    "##### Ejercicio\n",
    "\n",
    "Crear una funcion que reciba un parametro y devuelva su tipologia"
   ]
  },
  {
   "cell_type": "code",
   "execution_count": null,
   "id": "4b438454",
   "metadata": {},
   "outputs": [],
   "source": [
    "def tipo_dato (var):\n",
    "    return type(var)"
   ]
  },
  {
   "cell_type": "code",
   "execution_count": null,
   "id": "b35291a2",
   "metadata": {},
   "outputs": [],
   "source": [
    "type('abc')"
   ]
  },
  {
   "cell_type": "code",
   "execution_count": null,
   "id": "600ee1a4",
   "metadata": {},
   "outputs": [],
   "source": [
    "t=type('abc')\n",
    "t"
   ]
  },
  {
   "cell_type": "code",
   "execution_count": null,
   "id": "7787494c",
   "metadata": {},
   "outputs": [],
   "source": [
    "print(f\"La variable introducida es del tipo {tipo_dato('abc')}\")"
   ]
  },
  {
   "cell_type": "code",
   "execution_count": 9,
   "id": "7866df2e",
   "metadata": {},
   "outputs": [],
   "source": [
    "# EJEMPLO:\n",
    "def saludar():\n",
    "    return 'Hola' # La funcion devuelve un str\n",
    "\n",
    "f1=saludar() # aqui hay una llamada a la funcion (se invoca con los ())"
   ]
  },
  {
   "cell_type": "code",
   "execution_count": 10,
   "id": "43eb6fd5",
   "metadata": {},
   "outputs": [
    {
     "name": "stdout",
     "output_type": "stream",
     "text": [
      "Hola\n"
     ]
    }
   ],
   "source": [
    "print(f1)"
   ]
  },
  {
   "cell_type": "code",
   "execution_count": 11,
   "id": "bc5fdc40",
   "metadata": {},
   "outputs": [
    {
     "data": {
      "text/plain": [
       "str"
      ]
     },
     "execution_count": 11,
     "metadata": {},
     "output_type": "execute_result"
    }
   ],
   "source": [
    "type(f1) # esta variable recibio, en la asignacion, el return de la funcion que es un str"
   ]
  },
  {
   "cell_type": "code",
   "execution_count": null,
   "id": "e4fafda5",
   "metadata": {},
   "outputs": [],
   "source": [
    "# f1 (abajo) no se puede instanciar puesto que solo es una variable que recibio el return de la funcion saludar()"
   ]
  },
  {
   "cell_type": "code",
   "execution_count": 13,
   "id": "8a9d8b85",
   "metadata": {},
   "outputs": [
    {
     "ename": "TypeError",
     "evalue": "'str' object is not callable",
     "output_type": "error",
     "traceback": [
      "\u001b[1;31m---------------------------------------------------------------------------\u001b[0m",
      "\u001b[1;31mTypeError\u001b[0m                                 Traceback (most recent call last)",
      "\u001b[1;32m~\\AppData\\Local\\Temp/ipykernel_19420/2719331641.py\u001b[0m in \u001b[0;36m<module>\u001b[1;34m\u001b[0m\n\u001b[1;32m----> 1\u001b[1;33m \u001b[0mf1\u001b[0m\u001b[1;33m(\u001b[0m\u001b[1;33m)\u001b[0m\u001b[1;33m\u001b[0m\u001b[1;33m\u001b[0m\u001b[0m\n\u001b[0m",
      "\u001b[1;31mTypeError\u001b[0m: 'str' object is not callable"
     ]
    }
   ],
   "source": [
    "f1()"
   ]
  },
  {
   "cell_type": "code",
   "execution_count": 16,
   "id": "9350859c",
   "metadata": {},
   "outputs": [],
   "source": [
    "f2=saludar # aqui se hace una copia de la funcion que se podra invocar con su otro nombre f2()"
   ]
  },
  {
   "cell_type": "code",
   "execution_count": 18,
   "id": "945b0fcc",
   "metadata": {},
   "outputs": [
    {
     "data": {
      "text/plain": [
       "(function, function)"
      ]
     },
     "execution_count": 18,
     "metadata": {},
     "output_type": "execute_result"
    }
   ],
   "source": [
    "type(f2), type(saludar)"
   ]
  },
  {
   "cell_type": "code",
   "execution_count": 19,
   "id": "e8657012",
   "metadata": {},
   "outputs": [
    {
     "data": {
      "text/plain": [
       "'Hola'"
      ]
     },
     "execution_count": 19,
     "metadata": {},
     "output_type": "execute_result"
    }
   ],
   "source": [
    "f2() # invocacion de la funcion f2 que es copia de saludar"
   ]
  },
  {
   "cell_type": "markdown",
   "id": "238a4039",
   "metadata": {},
   "source": [
    "##### Ejercicio: \n",
    "Escribir un algoritmo que sera utilizado por otro codigo como una herramienta que transforme los grados sexagecimales a radianes"
   ]
  },
  {
   "cell_type": "code",
   "execution_count": null,
   "id": "b3cda060",
   "metadata": {},
   "outputs": [],
   "source": [
    "def conversorSexaRad(n):\n",
    "    import math\n",
    "    x=n*math.pi/180\n",
    "    return x"
   ]
  },
  {
   "cell_type": "code",
   "execution_count": null,
   "id": "adc3ac13",
   "metadata": {},
   "outputs": [],
   "source": [
    "sexa=180"
   ]
  },
  {
   "cell_type": "code",
   "execution_count": null,
   "id": "0177c940",
   "metadata": {},
   "outputs": [],
   "source": [
    "print(f\"{sexa} grados sexagecimales corresponden a {conversorSexaRad(sexa)} radianes\")"
   ]
  },
  {
   "cell_type": "markdown",
   "id": "2fc83c12",
   "metadata": {},
   "source": [
    "#### Metodos para caracteres\n",
    "\n",
    "* Métodos de transformación:\n",
    "    - .lower() pasa a minuscula\n",
    "    - .upper() pasa a mayuscula\n",
    "    - .capitalize() primera letra a mayuscula\n",
    "    - .title() primera letra de cada palabra a mayuscula (apitalize de cada palabra)\n",
    "    - .swapcase() cambia mayusculas a minusculas y viceversa\n",
    "    - .strip() quita espacios en blanco al comienzo y al final\n",
    "    - .lstrp() quita espacios a izquierda (comienzo)\n",
    "    - .rstrip() quita espacios a derecha (final)\n",
    "    \n",
    "* Métodos de condicion (devuelven un booleano):\n",
    "    - .islower() verdadero si todo minusculas.\n",
    "    - .isupper() verdadero si todo mayusculas.\n",
    "    - .istitle() verdadero si cada palabra comienza en mayuscula y resto minuscula\n",
    "    - .startswith('letra/cadena') condicion: indica si la cadena comienza con la letra/cadena indicada como argumento"
   ]
  },
  {
   "cell_type": "markdown",
   "id": "b7741694",
   "metadata": {},
   "source": []
  },
  {
   "cell_type": "code",
   "execution_count": 2,
   "id": "b2fb3135",
   "metadata": {},
   "outputs": [],
   "source": [
    "c,d='hola','HOLA mundo'"
   ]
  },
  {
   "cell_type": "code",
   "execution_count": 3,
   "id": "e877a092",
   "metadata": {},
   "outputs": [
    {
     "name": "stdout",
     "output_type": "stream",
     "text": [
      "hola HOLA\n"
     ]
    }
   ],
   "source": [
    "print(c,c.upper())"
   ]
  },
  {
   "cell_type": "code",
   "execution_count": 4,
   "id": "4e18d257",
   "metadata": {},
   "outputs": [
    {
     "name": "stdout",
     "output_type": "stream",
     "text": [
      "hola hola\n"
     ]
    }
   ],
   "source": [
    "print(c,c.lower())"
   ]
  },
  {
   "cell_type": "code",
   "execution_count": 5,
   "id": "adadf52e",
   "metadata": {},
   "outputs": [
    {
     "data": {
      "text/plain": [
       "True"
      ]
     },
     "execution_count": 5,
     "metadata": {},
     "output_type": "execute_result"
    }
   ],
   "source": [
    "c.islower()"
   ]
  },
  {
   "cell_type": "code",
   "execution_count": 6,
   "id": "21cb4768",
   "metadata": {},
   "outputs": [],
   "source": [
    "e='Hola'"
   ]
  },
  {
   "cell_type": "code",
   "execution_count": 7,
   "id": "e2b49409",
   "metadata": {},
   "outputs": [
    {
     "data": {
      "text/plain": [
       "False"
      ]
     },
     "execution_count": 7,
     "metadata": {},
     "output_type": "execute_result"
    }
   ],
   "source": [
    "e.islower()"
   ]
  },
  {
   "cell_type": "code",
   "execution_count": 8,
   "id": "5f6d4b01",
   "metadata": {},
   "outputs": [
    {
     "data": {
      "text/plain": [
       "False"
      ]
     },
     "execution_count": 8,
     "metadata": {},
     "output_type": "execute_result"
    }
   ],
   "source": [
    "e.isupper()"
   ]
  },
  {
   "cell_type": "code",
   "execution_count": 11,
   "id": "82afa505",
   "metadata": {},
   "outputs": [
    {
     "name": "stdout",
     "output_type": "stream",
     "text": [
      "HOLA mundo Hola mundo\n"
     ]
    }
   ],
   "source": [
    "print(d,d.capitalize()) # solo primera palabra"
   ]
  },
  {
   "cell_type": "code",
   "execution_count": null,
   "id": "3b140be4",
   "metadata": {},
   "outputs": [],
   "source": [
    "#  no hay iscapitalize()"
   ]
  },
  {
   "cell_type": "code",
   "execution_count": 13,
   "id": "992a57b8",
   "metadata": {},
   "outputs": [
    {
     "name": "stdout",
     "output_type": "stream",
     "text": [
      "HOLA mundo Hola Mundo\n"
     ]
    }
   ],
   "source": [
    "print(d,d.title()) # todas las palabras"
   ]
  },
  {
   "cell_type": "code",
   "execution_count": 34,
   "id": "f07a8c21",
   "metadata": {},
   "outputs": [
    {
     "data": {
      "text/plain": [
       "False"
      ]
     },
     "execution_count": 34,
     "metadata": {},
     "output_type": "execute_result"
    }
   ],
   "source": [
    "d.istitle()"
   ]
  },
  {
   "cell_type": "code",
   "execution_count": 37,
   "id": "a71f2551",
   "metadata": {},
   "outputs": [
    {
     "data": {
      "text/plain": [
       "True"
      ]
     },
     "execution_count": 37,
     "metadata": {},
     "output_type": "execute_result"
    }
   ],
   "source": [
    "g='Hola Mundo'\n",
    "g.istitle()"
   ]
  },
  {
   "cell_type": "code",
   "execution_count": 39,
   "id": "2983af32",
   "metadata": {},
   "outputs": [
    {
     "data": {
      "text/plain": [
       "False"
      ]
     },
     "execution_count": 39,
     "metadata": {},
     "output_type": "execute_result"
    }
   ],
   "source": [
    "g='Hola MUNDO'\n",
    "g.istitle()"
   ]
  },
  {
   "cell_type": "code",
   "execution_count": 44,
   "id": "52fcd9fc",
   "metadata": {},
   "outputs": [
    {
     "data": {
      "text/plain": [
       "'hOLA mundo'"
      ]
     },
     "execution_count": 44,
     "metadata": {},
     "output_type": "execute_result"
    }
   ],
   "source": [
    "g.swapcase() # intercambia mayusculas/minusculas"
   ]
  },
  {
   "cell_type": "code",
   "execution_count": 14,
   "id": "3dcd1a89",
   "metadata": {},
   "outputs": [],
   "source": [
    "f='  cadena con espacios   '"
   ]
  },
  {
   "cell_type": "code",
   "execution_count": 28,
   "id": "b928e434",
   "metadata": {},
   "outputs": [
    {
     "name": "stdout",
     "output_type": "stream",
     "text": [
      ".cadena con espacios.\n"
     ]
    }
   ],
   "source": [
    "print('.'+f.strip()+'.') # quita los espacios a izq y der"
   ]
  },
  {
   "cell_type": "code",
   "execution_count": 29,
   "id": "f079d149",
   "metadata": {},
   "outputs": [
    {
     "name": "stdout",
     "output_type": "stream",
     "text": [
      ".cadena con espacios   .\n"
     ]
    }
   ],
   "source": [
    "print('.'+f.lstrip()+'.') # quita los espacios del comienzo"
   ]
  },
  {
   "cell_type": "code",
   "execution_count": 30,
   "id": "9af4bfe3",
   "metadata": {},
   "outputs": [
    {
     "name": "stdout",
     "output_type": "stream",
     "text": [
      ".  cadena con espacios.\n"
     ]
    }
   ],
   "source": [
    "print('.'+f.rstrip()+'.') # quita los espacios del final"
   ]
  },
  {
   "cell_type": "code",
   "execution_count": 35,
   "id": "6855928d",
   "metadata": {},
   "outputs": [
    {
     "name": "stdout",
     "output_type": "stream",
     "text": [
      "hola False\n"
     ]
    }
   ],
   "source": [
    "print(c,c.startswith('H')) # no comienza con el caracter"
   ]
  },
  {
   "cell_type": "code",
   "execution_count": 36,
   "id": "827a1e17",
   "metadata": {},
   "outputs": [
    {
     "name": "stdout",
     "output_type": "stream",
     "text": [
      "hola True\n"
     ]
    }
   ],
   "source": [
    "print(c,c.startswith('h')) # comienza con el caracter"
   ]
  },
  {
   "cell_type": "code",
   "execution_count": 43,
   "id": "fc1365f0",
   "metadata": {},
   "outputs": [
    {
     "name": "stdout",
     "output_type": "stream",
     "text": [
      "hola True\n"
     ]
    }
   ],
   "source": [
    "print(c,c.startswith('hola')) # comienza con la cadena"
   ]
  },
  {
   "cell_type": "markdown",
   "id": "9b977b69",
   "metadata": {},
   "source": [
    "*  METODO DE UNION NORMADO\n",
    "\n",
    "    caracter.join([cadena1,cadena2])  Es un metodo de string/caracter y el parametro es una lista"
   ]
  },
  {
   "cell_type": "code",
   "execution_count": null,
   "id": "1038b407",
   "metadata": {},
   "outputs": [],
   "source": [
    "# Metodo de union normado para concatenar cadenas y caracteres\n",
    "\n",
    "g='Carolina'\n",
    "h='Cordo'\n",
    "'_'.join([g,h])\n"
   ]
  },
  {
   "cell_type": "code",
   "execution_count": null,
   "id": "ae1c233c",
   "metadata": {},
   "outputs": [],
   "source": [
    "i,j,k,l='Hola','que','tal','?'\n",
    "' '.join([i,j,k,l])"
   ]
  },
  {
   "cell_type": "markdown",
   "id": "51bc1504",
   "metadata": {},
   "source": [
    "*  METODO DE TROCEO DE STRINGS"
   ]
  },
  {
   "cell_type": "code",
   "execution_count": null,
   "id": "836161a8",
   "metadata": {},
   "outputs": [],
   "source": [
    "i='Hola que tal te encuentras?'"
   ]
  },
  {
   "cell_type": "code",
   "execution_count": null,
   "id": "10ced02e",
   "metadata": {},
   "outputs": [],
   "source": [
    "i.split()  # intros /n, puntos ., comas ,, espacios \n",
    "# como no indico parametro lo separa en los espacios"
   ]
  },
  {
   "cell_type": "code",
   "execution_count": null,
   "id": "78f88a9d",
   "metadata": {},
   "outputs": [],
   "source": [
    "i='navidad, año nuevo, reyes'"
   ]
  },
  {
   "cell_type": "code",
   "execution_count": null,
   "id": "b45e2f44",
   "metadata": {},
   "outputs": [],
   "source": [
    "i.split(',') # separa en la coma. El resultado es una lista con las sub cadenas que ha obtenido "
   ]
  },
  {
   "cell_type": "markdown",
   "id": "bc37b636",
   "metadata": {},
   "source": [
    "* METODO DE SUSTITUCION \n",
    "\n",
    "Metodo replace que reemplaza un caracter o caracteres con otro/s"
   ]
  },
  {
   "cell_type": "code",
   "execution_count": null,
   "id": "f226f430",
   "metadata": {},
   "outputs": [],
   "source": [
    "j='Hol-a'"
   ]
  },
  {
   "cell_type": "code",
   "execution_count": null,
   "id": "707c2b04",
   "metadata": {},
   "outputs": [],
   "source": [
    "print(j.replace('-',''))"
   ]
  },
  {
   "cell_type": "code",
   "execution_count": null,
   "id": "97861463",
   "metadata": {},
   "outputs": [],
   "source": [
    "j='Hol--a'"
   ]
  },
  {
   "cell_type": "code",
   "execution_count": null,
   "id": "d378f04f",
   "metadata": {},
   "outputs": [],
   "source": [
    "print(j.replace('-',''))"
   ]
  },
  {
   "cell_type": "code",
   "execution_count": null,
   "id": "4ea08b07",
   "metadata": {},
   "outputs": [],
   "source": [
    "j='Hol-*a'"
   ]
  },
  {
   "cell_type": "code",
   "execution_count": null,
   "id": "301a35ea",
   "metadata": {},
   "outputs": [],
   "source": [
    "print(j.replace('-*',''))"
   ]
  },
  {
   "cell_type": "code",
   "execution_count": null,
   "id": "f5babe55",
   "metadata": {},
   "outputs": [],
   "source": [
    "j='Hol-*a'"
   ]
  },
  {
   "cell_type": "code",
   "execution_count": null,
   "id": "53ca8e8b",
   "metadata": {},
   "outputs": [],
   "source": [
    "print(j.replace('-*','--'))"
   ]
  },
  {
   "cell_type": "markdown",
   "id": "a19a9540",
   "metadata": {},
   "source": [
    "* METODO PARA QUITAR BLANCOS U OTROS CARACTERES A IZQUIERDA Y/O DERECHA"
   ]
  },
  {
   "cell_type": "code",
   "execution_count": null,
   "id": "5891da9f",
   "metadata": {},
   "outputs": [],
   "source": [
    "l='   Hola       '"
   ]
  },
  {
   "cell_type": "code",
   "execution_count": null,
   "id": "b9765d8b",
   "metadata": {},
   "outputs": [],
   "source": [
    "print('.'+l.lstrip(' ')+'.') # quita el caracer a izquierda"
   ]
  },
  {
   "cell_type": "code",
   "execution_count": null,
   "id": "dcfe4a00",
   "metadata": {},
   "outputs": [],
   "source": [
    "print('.'+l.rstrip(' ')+'.') # quita el caracter a derecha"
   ]
  },
  {
   "cell_type": "code",
   "execution_count": null,
   "id": "73d1923d",
   "metadata": {},
   "outputs": [],
   "source": [
    "print('.'+l.strip(' ')+'.') # quita el caracter a izquierda y a derecha"
   ]
  },
  {
   "cell_type": "code",
   "execution_count": null,
   "id": "9fd48287",
   "metadata": {},
   "outputs": [],
   "source": [
    "l='_.Hola_.'\n",
    "print(l.strip('_.')) # se puede eliminar mas de un caracter inicial"
   ]
  },
  {
   "cell_type": "code",
   "execution_count": null,
   "id": "146dfbc1",
   "metadata": {},
   "outputs": [],
   "source": [
    "l='_.Hola._'\n",
    "print(l.strip('_.')) # notar que elimina por simetricos tambien!!!"
   ]
  },
  {
   "cell_type": "markdown",
   "id": "f7c13fd4",
   "metadata": {},
   "source": [
    "* JUSTIFICADO DE CADENAS"
   ]
  },
  {
   "cell_type": "markdown",
   "id": "26d968b3",
   "metadata": {},
   "source": [
    "Centrado"
   ]
  },
  {
   "cell_type": "code",
   "execution_count": null,
   "id": "a137c38a",
   "metadata": {},
   "outputs": [],
   "source": [
    "# Rellenado de cadenas a izquierda y derecha\n",
    "\n",
    "\"Primera prueba\".center(20,\"*\")  # longitud total de la cadena resultante 20, ubicacion de la cadena=centrada, relleno *"
   ]
  },
  {
   "cell_type": "markdown",
   "id": "0af77dc2",
   "metadata": {},
   "source": [
    "Ejercicio: \n",
    "\n",
    "Centrar el string y colocar 20 asteriscos a izquierda y otros 20 a derecha"
   ]
  },
  {
   "cell_type": "code",
   "execution_count": null,
   "id": "60b4cbca",
   "metadata": {},
   "outputs": [],
   "source": [
    "\"Primera Prueba\".center(40+len(\"Primera Prueba\"),'*')"
   ]
  },
  {
   "cell_type": "code",
   "execution_count": null,
   "id": "d2938ce3",
   "metadata": {},
   "outputs": [],
   "source": [
    "## Parametrizo el ejercicio \n",
    "\n",
    "l='Primera prueba' # cadena a centrar\n",
    "n=20 # cantidad de caracteres de cada lado\n",
    "\n",
    "l.center(len(l)+2*n,'*')"
   ]
  },
  {
   "cell_type": "code",
   "execution_count": null,
   "id": "faad8902",
   "metadata": {},
   "outputs": [],
   "source": [
    "len(\"Primera Prueba\")"
   ]
  },
  {
   "cell_type": "code",
   "execution_count": null,
   "id": "1dcc5225",
   "metadata": {},
   "outputs": [],
   "source": [
    "len(\"Primera Prueba\".center(40+len(\"Primera Prueba\"),'*'))"
   ]
  },
  {
   "cell_type": "code",
   "execution_count": null,
   "id": "056763ba",
   "metadata": {},
   "outputs": [],
   "source": [
    "20+len(\"Primera Prueba\")+20==len(\"Primera Prueba\".center(40+len(\"Primera Prueba\"),'*'))"
   ]
  },
  {
   "cell_type": "markdown",
   "id": "7dfcb8b9",
   "metadata": {},
   "source": [
    "Justificado a izquierda \n"
   ]
  },
  {
   "cell_type": "code",
   "execution_count": null,
   "id": "71822fa4",
   "metadata": {},
   "outputs": [],
   "source": [
    "l.ljust(20,'*')"
   ]
  },
  {
   "cell_type": "code",
   "execution_count": null,
   "id": "e99429a0",
   "metadata": {},
   "outputs": [],
   "source": [
    "l.ljust(5,'*') # omite si la cadena no cabe en la longitud especificada"
   ]
  },
  {
   "cell_type": "markdown",
   "id": "9d25a8a8",
   "metadata": {},
   "source": [
    "Justificado a derecha\n"
   ]
  },
  {
   "cell_type": "code",
   "execution_count": null,
   "id": "01bed96e",
   "metadata": {},
   "outputs": [],
   "source": [
    "l.rjust(20,'*')"
   ]
  },
  {
   "cell_type": "code",
   "execution_count": null,
   "id": "7898753d",
   "metadata": {},
   "outputs": [],
   "source": [
    "l.rjust(5,'*') # omite si la cadena no cabe en la longitud especificada"
   ]
  },
  {
   "cell_type": "markdown",
   "id": "2b5b5885",
   "metadata": {},
   "source": [
    "* CARACTER DE ESCAPE PARA CARACTERES ESPECIALES (\\ \" ' \\n %) O PALABRAS RESERVADAS \n",
    "\n",
    "El caracter de escape es \\\n",
    "\n",
    "La contrabarra \\ es un caracter de escape, y por tanto es un caracter especial. Para omitirla tengo que salvarlo con doble antibarra \\\\\n",
    "\n",
    "Otros caracteres especiales son: \" ' /"
   ]
  },
  {
   "cell_type": "code",
   "execution_count": null,
   "id": "f70fe0f8",
   "metadata": {},
   "outputs": [],
   "source": [
    "print(\"c:\\\\user\\\\desktop\") # salvo la antibarra con otra antibarra"
   ]
  },
  {
   "cell_type": "code",
   "execution_count": null,
   "id": "849f7c75",
   "metadata": {},
   "outputs": [],
   "source": [
    "print(\"Le dijo: \\\"Hola\\\"\" ) # salvo la comilla que quiero considerar como un caracter mas colocando la antibarra delante"
   ]
  },
  {
   "cell_type": "code",
   "execution_count": null,
   "id": "b2020df1",
   "metadata": {},
   "outputs": [],
   "source": [
    "print(\"Quiero escribir comillas \\\" \" )"
   ]
  },
  {
   "cell_type": "code",
   "execution_count": null,
   "id": "49d09557",
   "metadata": {},
   "outputs": [],
   "source": [
    "print(\"Quiero escribir comilla \\' \" )"
   ]
  },
  {
   "cell_type": "code",
   "execution_count": null,
   "id": "8d58f8a8",
   "metadata": {},
   "outputs": [],
   "source": [
    "print(\"Quiero escribir barras \\/ \" )"
   ]
  },
  {
   "cell_type": "code",
   "execution_count": null,
   "id": "951abd9d",
   "metadata": {},
   "outputs": [],
   "source": [
    "print(\"Quiero escribir antibarra \\ \")"
   ]
  },
  {
   "cell_type": "code",
   "execution_count": null,
   "id": "f3e5124b",
   "metadata": {},
   "outputs": [],
   "source": [
    "print(\"Quiero escribir antibarra \\\\ \")"
   ]
  },
  {
   "cell_type": "markdown",
   "id": "8daa3cb0",
   "metadata": {},
   "source": [
    "SUSTITUCION DE VARIABLES / VARIABLES DINAMICAS\n",
    "%s\n",
    "\n",
    "Para variables de caracter %s (para string)\n",
    "\n",
    "Para variables enteras %d (para int)\n",
    "\n",
    "Para variables no enteras %.2f (para float esto es con dos decimales)\n"
   ]
  },
  {
   "cell_type": "code",
   "execution_count": null,
   "id": "dadbe7a9",
   "metadata": {},
   "outputs": [],
   "source": [
    "Nm='Elian'\n",
    "Ap='Latorre'\n",
    "Ed=10\n",
    "j=5.5\n",
    "d=5\n",
    "\n",
    "respuesta='Hola %s %s, tienes %d años, estudias %d dias a la semana y tu jornada es de %.2f horas'%(Nm,Ap,Ed,d,j)\n",
    "respuesta"
   ]
  },
  {
   "cell_type": "markdown",
   "id": "ca46fd9b",
   "metadata": {},
   "source": [
    "###  Manejo de errores en la comprobacion de un numero\n",
    "\n",
    "* try: actua como un while \n",
    "* try + assert: el assert actua como un if dentro del try "
   ]
  },
  {
   "cell_type": "code",
   "execution_count": null,
   "id": "f069c03e",
   "metadata": {},
   "outputs": [],
   "source": [
    "\n",
    "try:\n",
    "    x=float(x)\n",
    "except:\n",
    "    print(\"error\")\n",
    "    x=float(input(\"x: \"))"
   ]
  },
  {
   "cell_type": "markdown",
   "id": "f1405f00",
   "metadata": {},
   "source": [
    "### Más sobre bucle for\n",
    "Sirve para recorrer str, listas, diccionarios, tuplas, arrays, matrices"
   ]
  },
  {
   "cell_type": "code",
   "execution_count": null,
   "id": "6c596062",
   "metadata": {},
   "outputs": [],
   "source": [
    "for k in range(3):  # El ultimo valor siempre se omite\n",
    "    print(k)  "
   ]
  },
  {
   "cell_type": "code",
   "execution_count": null,
   "id": "5f9c14f1",
   "metadata": {},
   "outputs": [],
   "source": [
    "a=\"HOLA\"\n",
    "for k in a:\n",
    "    print(k)"
   ]
  },
  {
   "cell_type": "code",
   "execution_count": null,
   "id": "f00663d4",
   "metadata": {},
   "outputs": [],
   "source": [
    "for k in range(10,15):   # El ultimo valor siempre se omite\n",
    "    print(k)"
   ]
  },
  {
   "cell_type": "code",
   "execution_count": null,
   "id": "b8104011",
   "metadata": {},
   "outputs": [],
   "source": [
    "x=\"Hola\"\n",
    "print('Longitud de la cadena',len(x),'\\n')\n",
    "for k in range(len(x)): # de 0 a 3\n",
    "    print(x[k])"
   ]
  },
  {
   "cell_type": "markdown",
   "id": "74648cb3",
   "metadata": {},
   "source": [
    "### Estructuras contenedoras de datos"
   ]
  },
  {
   "cell_type": "markdown",
   "id": "a48dd6da",
   "metadata": {},
   "source": [
    "#### LISTAS\n",
    "\n",
    "* son secuencias mutables (cambian durante la ejecucion ampliandose o reduciendose)\n",
    "* heterogeneas (pueden contener distintos tipos de variables y objetos dentro de la misma lista)\n",
    "* Admite valores repetidos.\n",
    "* secuencias finitas (permiten localizar eventos por indices) \n",
    "    - lista[posicion] recupera el elemento de la posicion indicada  \n",
    "    - lista[posicion:] recupera los elementos desde la posicion indicada hasta el final\n",
    "    - lista[:posicion] recupera los elementos desde el primer elemento hasta la posicion indicada-1\n",
    "    - lista[posicion:posicion] recupera los elementos desde la posicion indicada y hasta la posicion indicada-1\n",
    "* definicion mediante corchetes\n",
    "* pueden existir listas vacias (lista=\"\" o lista=list() que crea una lista vacia o con solo un objeto lista=list('a')\n",
    "* lista.append('nuevo elemento') Se inserta por la derecha el nuevo elemento\n",
    "* lista.extend(lista_a_añadir) Extiende por la derecha agregando los elementos de la lista introducida como parametro\n",
    "* lista.index(dato_a_buscar) Localiza datos. Retorna el indice del elemento si esta en la lista (1ra ocurrencia si esta mas de una vez).\n",
    "* lista.remove(elemento_a_eliminar) Elimina por 'VALOR' la primera ocurrencia del elemento encontrado. Solo el primero. Si no esta da ERROR.\n",
    "* lista.pop() Elimina el ultimo valor añadido. El del final de la lista.\n",
    "* lista.pop(2) Elimina por INDICE. Da error por fuera de rango.\n",
    "* lista.reverse() Invierte la lista en la misma lista\n",
    "* lista.insert(posicion,elemento) Inserta el elemento en la posicion indicada, moviendo el resto de elementos hacia la derecha.\n",
    "* lista.sort() Ordena los valores de una lista\n",
    "* lista.clear() vaciar la lista. Quita todos sus elementos. La deja vacia.\n",
    "\n",
    "Hay dos maneras de definir los elementos de una lista:\n",
    "\n",
    "* Por EXTENSION (intensionales). Cada elemento se enumera de manera explicita.\n",
    "* Por COMPRESION. No se mencionan los elementos uno a uno sino que se indica mediante una propiedad que cumplen todos los elementos.\n"
   ]
  },
  {
   "cell_type": "code",
   "execution_count": null,
   "id": "d465dd65",
   "metadata": {},
   "outputs": [],
   "source": [
    "listaA=[1,2,4,8,16,32,64,128,256,512] # Lista por extension de las 10 primeras potencias de 2"
   ]
  },
  {
   "cell_type": "code",
   "execution_count": null,
   "id": "ad18b3e8",
   "metadata": {},
   "outputs": [],
   "source": [
    "listaB=[2**i for i in range(10)] # misma lista por compresion"
   ]
  },
  {
   "cell_type": "code",
   "execution_count": null,
   "id": "5021ece1",
   "metadata": {},
   "outputs": [],
   "source": [
    "listaA"
   ]
  },
  {
   "cell_type": "code",
   "execution_count": null,
   "id": "7b417fec",
   "metadata": {},
   "outputs": [],
   "source": [
    "listaB"
   ]
  },
  {
   "cell_type": "code",
   "execution_count": null,
   "id": "a279044a",
   "metadata": {},
   "outputs": [],
   "source": [
    "listaA==listaB"
   ]
  },
  {
   "cell_type": "code",
   "execution_count": null,
   "id": "6d6ff903",
   "metadata": {},
   "outputs": [],
   "source": [
    "# Ejemplo\n",
    "d=[\"hola\",3,3.015, True,[\"Hola\"],\" \"] # la lista admite cualquier tipo de objeto"
   ]
  },
  {
   "cell_type": "code",
   "execution_count": null,
   "id": "c73981e6",
   "metadata": {},
   "outputs": [],
   "source": [
    "type(d[0]),type(d[1]), type(d[2]), type(d[3]), type(d[4]), type(d[5])"
   ]
  },
  {
   "cell_type": "code",
   "execution_count": null,
   "id": "305017f0",
   "metadata": {},
   "outputs": [],
   "source": [
    "type(d)"
   ]
  },
  {
   "cell_type": "code",
   "execution_count": null,
   "id": "3f032f81",
   "metadata": {},
   "outputs": [],
   "source": [
    "d"
   ]
  },
  {
   "cell_type": "code",
   "execution_count": null,
   "id": "831fc1b4",
   "metadata": {},
   "outputs": [],
   "source": [
    "len(d)"
   ]
  },
  {
   "cell_type": "code",
   "execution_count": null,
   "id": "b6b02388",
   "metadata": {},
   "outputs": [],
   "source": [
    "type(d[0]), d[0], len(d[0]) # metodos aplicados a un valor de la lista"
   ]
  },
  {
   "cell_type": "code",
   "execution_count": null,
   "id": "2293a291",
   "metadata": {},
   "outputs": [],
   "source": [
    "for k in range(len(d)):\n",
    "    print(type(d[k]), len(str(d[k])), d[k]) \n",
    "# observar las salidas:\n",
    " # len no se puede aplicar a int. \n",
    " # str de la lista de la posicion 4, convirtio en cadena el contenido y los corchetes de la lista\n",
    " # el ultimo elemento es un espacio"
   ]
  },
  {
   "cell_type": "code",
   "execution_count": null,
   "id": "13a67567",
   "metadata": {},
   "outputs": [],
   "source": [
    "# Metodo append agrega elementos a la lista de uno en uno y por la cola\n",
    "d.append('chau')\n",
    "d.append('4')"
   ]
  },
  {
   "cell_type": "code",
   "execution_count": null,
   "id": "cbdd4f52",
   "metadata": {},
   "outputs": [],
   "source": [
    "d"
   ]
  },
  {
   "cell_type": "code",
   "execution_count": null,
   "id": "45683507",
   "metadata": {},
   "outputs": [],
   "source": [
    "# Sustitucion de elementos. Se hace posicionalmente utilizando el indice\n",
    "d[2]='K'"
   ]
  },
  {
   "cell_type": "code",
   "execution_count": null,
   "id": "424e527c",
   "metadata": {},
   "outputs": [],
   "source": [
    "d"
   ]
  },
  {
   "cell_type": "code",
   "execution_count": null,
   "id": "649ff71f",
   "metadata": {},
   "outputs": [],
   "source": [
    "f=list() # se crea una lista vacia o con un elemento. Luego se pueden añadir mas elementos con append()\n",
    "g=[] # otra forma de crear una lista vacia"
   ]
  },
  {
   "cell_type": "code",
   "execution_count": null,
   "id": "d4aa45cb",
   "metadata": {},
   "outputs": [],
   "source": [
    "h=list('A') # lista creada con su primer elemento\n",
    "h"
   ]
  },
  {
   "cell_type": "code",
   "execution_count": null,
   "id": "b9a5762d",
   "metadata": {},
   "outputs": [],
   "source": [
    "l=list('A','B') # no admite mas de un argumento. Solo uno o ninguno"
   ]
  },
  {
   "cell_type": "code",
   "execution_count": null,
   "id": "c143e8cf",
   "metadata": {},
   "outputs": [],
   "source": [
    "type(f),type(g)"
   ]
  },
  {
   "cell_type": "code",
   "execution_count": null,
   "id": "33f46f03",
   "metadata": {},
   "outputs": [],
   "source": [
    "f.append('1') # ejecute dos veces"
   ]
  },
  {
   "cell_type": "code",
   "execution_count": null,
   "id": "5619f326",
   "metadata": {},
   "outputs": [],
   "source": [
    "f"
   ]
  },
  {
   "cell_type": "code",
   "execution_count": null,
   "id": "21c42db3",
   "metadata": {},
   "outputs": [],
   "source": [
    "f.extend(d) # concatena la cadena f con la d agregando los elementos de d al final de f"
   ]
  },
  {
   "cell_type": "code",
   "execution_count": null,
   "id": "a5777edc",
   "metadata": {},
   "outputs": [],
   "source": [
    "f"
   ]
  },
  {
   "cell_type": "code",
   "execution_count": null,
   "id": "94898bcf",
   "metadata": {},
   "outputs": [],
   "source": [
    "f.index('K') # Obtiene el indice del elemento pasado como parametro. En este caso la posicion de K es 4"
   ]
  },
  {
   "cell_type": "code",
   "execution_count": null,
   "id": "bd06a017",
   "metadata": {},
   "outputs": [],
   "source": [
    "f.reverse() # invierte la lista en si misma\n",
    "f"
   ]
  },
  {
   "cell_type": "code",
   "execution_count": null,
   "id": "a7f0f72c",
   "metadata": {},
   "outputs": [],
   "source": [
    "f.pop() # Elimina el ultimo elemento de la lista\n",
    "f"
   ]
  },
  {
   "cell_type": "code",
   "execution_count": null,
   "id": "3425f85e",
   "metadata": {},
   "outputs": [],
   "source": [
    "f.insert(0,'!!!') # Inserta en la posicion indicada el elemento indicado moviendo el contenido de la lista a la derecha\n",
    "f"
   ]
  },
  {
   "cell_type": "code",
   "execution_count": null,
   "id": "d3d910b5",
   "metadata": {},
   "outputs": [],
   "source": [
    "# Lista con elementos enteros. Array\n",
    "numerica=[0,1,3,4,7,5,6]\n",
    "numerica"
   ]
  },
  {
   "cell_type": "code",
   "execution_count": null,
   "id": "38779e4e",
   "metadata": {},
   "outputs": [],
   "source": [
    "numerica.sort() # ordena de menor a mayor por defecto \n",
    "# numerica.sort(reverse = False) si no se indica el reverse es False por defecto\n",
    "numerica"
   ]
  },
  {
   "cell_type": "code",
   "execution_count": null,
   "id": "08cff6c7",
   "metadata": {},
   "outputs": [],
   "source": [
    "numerica.append(-2)\n",
    "numerica"
   ]
  },
  {
   "cell_type": "code",
   "execution_count": null,
   "id": "416f6505",
   "metadata": {},
   "outputs": [],
   "source": [
    "numerica.sort(reverse = True) # ordena de mayor a menor\n",
    "numerica"
   ]
  },
  {
   "cell_type": "code",
   "execution_count": null,
   "id": "701574d8",
   "metadata": {},
   "outputs": [],
   "source": [
    "# lista alfabetica\n",
    "alfa=['a','c','b','z','A','C','B','Z']\n",
    "alfa"
   ]
  },
  {
   "cell_type": "code",
   "execution_count": null,
   "id": "2547464e",
   "metadata": {},
   "outputs": [],
   "source": [
    "alfa.append('a')"
   ]
  },
  {
   "cell_type": "code",
   "execution_count": null,
   "id": "c265e82b",
   "metadata": {},
   "outputs": [],
   "source": [
    "alfa ## Admite repetidos"
   ]
  },
  {
   "cell_type": "code",
   "execution_count": null,
   "id": "83b210a9",
   "metadata": {},
   "outputs": [],
   "source": [
    "'z' in alfa # para saber si esta el elemento en la lista. Devuelve un booleano"
   ]
  },
  {
   "cell_type": "markdown",
   "id": "b6494a8c",
   "metadata": {},
   "source": [
    "##### Metodo .sort() para ordenar listas"
   ]
  },
  {
   "cell_type": "code",
   "execution_count": null,
   "id": "0c20e3a9",
   "metadata": {},
   "outputs": [],
   "source": [
    "alfa.sort() # orden alfabetico. Las MAYUSCULAS tienen mas peso que las minusculas\n",
    "alfa"
   ]
  },
  {
   "cell_type": "code",
   "execution_count": null,
   "id": "2cac7ffd",
   "metadata": {},
   "outputs": [],
   "source": [
    "alfa=[1,10,'10','Z','a', True, False]\n",
    "alfa"
   ]
  },
  {
   "cell_type": "code",
   "execution_count": null,
   "id": "b754f10e",
   "metadata": {},
   "outputs": [],
   "source": [
    "alfa.sort(reverse=True) # orden descendente"
   ]
  },
  {
   "cell_type": "code",
   "execution_count": null,
   "id": "248146d7",
   "metadata": {},
   "outputs": [],
   "source": [
    "# quito los booleanos porque no los puede ordenar\n",
    "alfa.pop() # ejecuto dos veces"
   ]
  },
  {
   "cell_type": "code",
   "execution_count": null,
   "id": "8a958659",
   "metadata": {},
   "outputs": [],
   "source": [
    "alfa"
   ]
  },
  {
   "cell_type": "code",
   "execution_count": null,
   "id": "2877169f",
   "metadata": {},
   "outputs": [],
   "source": [
    "alfa.sort(reverse=True) # orden descendente  PARECE SER QUE TIENEN QUE SER ELEMENTOS STRING TODOS SINO NO ORDENA"
   ]
  },
  {
   "cell_type": "code",
   "execution_count": null,
   "id": "b32d9f6f",
   "metadata": {},
   "outputs": [],
   "source": [
    "alfa.remove(1)\n",
    "alfa.remove(10)"
   ]
  },
  {
   "cell_type": "code",
   "execution_count": null,
   "id": "a88ff5fd",
   "metadata": {},
   "outputs": [],
   "source": [
    "alfa"
   ]
  },
  {
   "cell_type": "code",
   "execution_count": null,
   "id": "32fb5e64",
   "metadata": {},
   "outputs": [],
   "source": [
    "alfa.sort(reverse=True)"
   ]
  },
  {
   "cell_type": "code",
   "execution_count": null,
   "id": "8bdf297f",
   "metadata": {},
   "outputs": [],
   "source": [
    "alfa # los numeros (en formato string) van primero, luego mayusculas y por ultimo minusculas en orden alfabetico obvio"
   ]
  },
  {
   "cell_type": "code",
   "execution_count": null,
   "id": "36f0b912",
   "metadata": {},
   "outputs": [],
   "source": [
    "## Cuando hay mayusculas, tienen prioridad ante las minusculas "
   ]
  },
  {
   "cell_type": "code",
   "execution_count": null,
   "id": "dce1801f",
   "metadata": {},
   "outputs": [],
   "source": [
    "lista=['A','B','C','D','E','F']\n",
    "lista[0]"
   ]
  },
  {
   "cell_type": "code",
   "execution_count": null,
   "id": "7748833c",
   "metadata": {},
   "outputs": [],
   "source": [
    "lista[:3] # desde el 0 hasta el 2"
   ]
  },
  {
   "cell_type": "code",
   "execution_count": null,
   "id": "85c990fa",
   "metadata": {},
   "outputs": [],
   "source": [
    "lista[3:] # desde el 3 hasta el final "
   ]
  },
  {
   "cell_type": "code",
   "execution_count": null,
   "id": "066fd339",
   "metadata": {},
   "outputs": [],
   "source": [
    "lista[1:3] # desde el 1 hasta el 2. Recordar que el primero seria posicion 0. La posicion 1 corresponde al segundo elemento"
   ]
  },
  {
   "cell_type": "code",
   "execution_count": null,
   "id": "2cabb709",
   "metadata": {},
   "outputs": [],
   "source": [
    "lista.clear() # limpia/elimina todos los elementos de la lista"
   ]
  },
  {
   "cell_type": "code",
   "execution_count": null,
   "id": "328853d5",
   "metadata": {},
   "outputs": [],
   "source": [
    "lista # lista vacia"
   ]
  },
  {
   "cell_type": "markdown",
   "id": "ab7cdd66",
   "metadata": {},
   "source": [
    "##### Funcion sorted(lista) para ordenar listas\n",
    "\n",
    "* como FUNCION sorted(q), sorted(q, key= , reverse= ) ordena la lista pero NO la MODIFICA sino que devuelve la lista ordenada. Admite como entrada listas y otros objetos iterables es decir otros objetos de coleccion de datos como diccionarios.\n",
    "* como METODO q.sort(), q.sort(key= , reverse= ) MODIFICA la lista in situ. Es mas eficiente que la funcion. Es un metodo de la clase lista, no opera con otro tipo de objetos. \n",
    "\n",
    "Aceptan una serie de parametrizaciones \n",
    "* reverse True/False (mayor a menor/menor a mayor)\n",
    "* key(len, str.lower, index y otras funciones) Orden por longitud de los objetos, por indice ?¿ YA ESTA ORDENADO POR INDICE O NO y otras funciones inluyendo funciones desarrolladas y lambda. Cualquier función que se indique en el parámetro key debe tomar un único argumento y devolver una clave, que será el valor que se tenga en cuenta para realizar la comparación. Es util en objetos complejos como tuplas de listas por ejemplo."
   ]
  },
  {
   "cell_type": "code",
   "execution_count": null,
   "id": "71e8ff86",
   "metadata": {},
   "outputs": [],
   "source": [
    "q=[\"perro\",\"gato\",\"leon\",\"tortuga\"]"
   ]
  },
  {
   "cell_type": "code",
   "execution_count": null,
   "id": "823af752",
   "metadata": {},
   "outputs": [],
   "source": [
    "q.sort()"
   ]
  },
  {
   "cell_type": "code",
   "execution_count": null,
   "id": "e88f2f1a",
   "metadata": {},
   "outputs": [],
   "source": [
    "sorted(q, reverse=False) # es una nueva lista o se puede asignar a una nueva lista pero NO modifica la lista original\n",
    "# orden alfabetico  "
   ]
  },
  {
   "cell_type": "code",
   "execution_count": null,
   "id": "3f71b6ac",
   "metadata": {},
   "outputs": [],
   "source": [
    "q # la lista sigue siendo la original"
   ]
  },
  {
   "cell_type": "code",
   "execution_count": null,
   "id": "02c78b98",
   "metadata": {},
   "outputs": [],
   "source": [
    "q.sort(reverse=True)  # en este caso es el metodo sort que SI MODIFICA la lista"
   ]
  },
  {
   "cell_type": "code",
   "execution_count": null,
   "id": "52092168",
   "metadata": {},
   "outputs": [],
   "source": [
    "q"
   ]
  },
  {
   "cell_type": "code",
   "execution_count": null,
   "id": "bc483f2a",
   "metadata": {},
   "outputs": [],
   "source": [
    "sorted(q, key=len, reverse=False)"
   ]
  },
  {
   "cell_type": "code",
   "execution_count": null,
   "id": "d45a5b82",
   "metadata": {},
   "outputs": [],
   "source": [
    "q.sort(reverse=True, key=len)"
   ]
  },
  {
   "cell_type": "code",
   "execution_count": null,
   "id": "8b3fb047",
   "metadata": {},
   "outputs": [],
   "source": [
    "q"
   ]
  },
  {
   "cell_type": "code",
   "execution_count": null,
   "id": "710d3043",
   "metadata": {},
   "outputs": [],
   "source": [
    "# Otro ejemplo de sorted()\n",
    "sorted(\"This is a test string from Andrew\".split(), key=str.lower) \n",
    "# primer argumento no es una lista sino una cadena a la que le aplico el metodo split que me devuelve una lista"
   ]
  },
  {
   "cell_type": "markdown",
   "id": "44cd21f5",
   "metadata": {},
   "source": [
    "#### La funcion Join \n",
    "\n",
    "Sirve para intercalar caracteres o cadenas entre objetos de una lista y devolver la cadena resultante"
   ]
  },
  {
   "cell_type": "code",
   "execution_count": null,
   "id": "edcc42a5",
   "metadata": {},
   "outputs": [],
   "source": [
    "# funcion join   ejemlpos con lista y con string\n",
    "k,g=[\"1\",\"3\",\"6\"], 'hola'   # ejemplo hacer el inverso del split"
   ]
  },
  {
   "cell_type": "code",
   "execution_count": null,
   "id": "dbadf6f3",
   "metadata": {},
   "outputs": [],
   "source": [
    "k,g"
   ]
  },
  {
   "cell_type": "code",
   "execution_count": null,
   "id": "53cd5194",
   "metadata": {},
   "outputs": [],
   "source": [
    "g.join(k)"
   ]
  },
  {
   "cell_type": "markdown",
   "id": "d6b1a99e",
   "metadata": {},
   "source": [
    "#### Ejercicio Listas"
   ]
  },
  {
   "cell_type": "code",
   "execution_count": null,
   "id": "25081884",
   "metadata": {},
   "outputs": [],
   "source": [
    "lista=list(range(10,101,10))\n",
    "\n",
    "[10,20,30,40,50,60,70,80,90,100]    ok\n",
    "a) [10,20,30,40,50,60,70,80,90,100]  ok\n",
    "b) [40,50,60] ok \n",
    "c) [10,20,30,40,50,60] ok\n",
    "d) [70,80,90,100] ok\n",
    "e) [100,90,80,70,60,50,40,30,20,10] ok \n",
    "f) [100,90,80,70,60,50,40,30,20,10]  \n",
    "g) error\n",
    "h) [10,20,30,40,50,60,70,80,90,100]\n",
    "i) error\n",
    "j) [100,80,60,40,20] \n"
   ]
  },
  {
   "cell_type": "code",
   "execution_count": 42,
   "id": "e4e1e344",
   "metadata": {},
   "outputs": [],
   "source": [
    "lista=list(range(10,101,10))"
   ]
  },
  {
   "cell_type": "code",
   "execution_count": 43,
   "id": "d7a999a8",
   "metadata": {},
   "outputs": [
    {
     "data": {
      "text/plain": [
       "[10, 20, 30, 40, 50, 60, 70, 80, 90, 100]"
      ]
     },
     "execution_count": 43,
     "metadata": {},
     "output_type": "execute_result"
    }
   ],
   "source": [
    "lista"
   ]
  },
  {
   "cell_type": "code",
   "execution_count": 96,
   "id": "33aef7c0",
   "metadata": {},
   "outputs": [
    {
     "name": "stdout",
     "output_type": "stream",
     "text": [
      "[10, 20, 30, 40, 50, 60, 70, 80, 90, 100]\n"
     ]
    }
   ],
   "source": [
    "print(lista)"
   ]
  },
  {
   "cell_type": "code",
   "execution_count": 97,
   "id": "b902d499",
   "metadata": {},
   "outputs": [
    {
     "data": {
      "text/plain": [
       "[40, 50, 60]"
      ]
     },
     "execution_count": 97,
     "metadata": {},
     "output_type": "execute_result"
    }
   ],
   "source": [
    "lista[3:6]"
   ]
  },
  {
   "cell_type": "code",
   "execution_count": 99,
   "id": "461c1476",
   "metadata": {},
   "outputs": [
    {
     "data": {
      "text/plain": [
       "[10, 20, 30, 40, 50, 60]"
      ]
     },
     "execution_count": 99,
     "metadata": {},
     "output_type": "execute_result"
    }
   ],
   "source": [
    "lista[:6]"
   ]
  },
  {
   "cell_type": "code",
   "execution_count": 100,
   "id": "b4f1fd46",
   "metadata": {},
   "outputs": [
    {
     "data": {
      "text/plain": [
       "[70, 80, 90, 100]"
      ]
     },
     "execution_count": 100,
     "metadata": {},
     "output_type": "execute_result"
    }
   ],
   "source": [
    "lista[6:]"
   ]
  },
  {
   "cell_type": "code",
   "execution_count": 102,
   "id": "32c87869",
   "metadata": {},
   "outputs": [
    {
     "data": {
      "text/plain": [
       "[100, 90, 80, 70, 60, 50, 40, 30, 20]"
      ]
     },
     "execution_count": 102,
     "metadata": {},
     "output_type": "execute_result"
    }
   ],
   "source": [
    "lista[-1:0:-1] \n",
    "# lista inversa comienza en el valor de -1 hasta el 0 que como es el limite superior queda fuera en este caso el 10 no va"
   ]
  },
  {
   "cell_type": "code",
   "execution_count": 103,
   "id": "c58b011b",
   "metadata": {},
   "outputs": [
    {
     "data": {
      "text/plain": [
       "[100, 90, 80, 70, 60, 50, 40, 30, 20, 10]"
      ]
     },
     "execution_count": 103,
     "metadata": {},
     "output_type": "execute_result"
    }
   ],
   "source": [
    "lista[::-1] # toda la lista e invertida"
   ]
  },
  {
   "cell_type": "code",
   "execution_count": 105,
   "id": "271a9865",
   "metadata": {},
   "outputs": [
    {
     "data": {
      "text/plain": [
       "[10, 20, 30, 40, 50, 60, 70, 80, 90, 100]"
      ]
     },
     "execution_count": 105,
     "metadata": {},
     "output_type": "execute_result"
    }
   ],
   "source": [
    "lista[0:10:1] # es la lista tal como esta. El limite superior indica 10 como podria ser 100. No importa si no esta en el rango del indice"
   ]
  },
  {
   "cell_type": "code",
   "execution_count": 106,
   "id": "9b63d78d",
   "metadata": {},
   "outputs": [
    {
     "data": {
      "text/plain": [
       "[10, 20, 30, 40, 50, 60, 70, 80, 90, 100]"
      ]
     },
     "execution_count": 106,
     "metadata": {},
     "output_type": "execute_result"
    }
   ],
   "source": [
    "lista[0:100:1] # es lo que explico arriba"
   ]
  },
  {
   "cell_type": "code",
   "execution_count": 107,
   "id": "56f50f39",
   "metadata": {},
   "outputs": [
    {
     "data": {
      "text/plain": [
       "[10, 20, 30, 40, 50, 60, 70, 80, 90, 100]"
      ]
     },
     "execution_count": 107,
     "metadata": {},
     "output_type": "execute_result"
    }
   ],
   "source": [
    "lista[::1] # lista completa, paso 1. La lista tal como es."
   ]
  },
  {
   "cell_type": "code",
   "execution_count": 46,
   "id": "54314741",
   "metadata": {},
   "outputs": [
    {
     "data": {
      "text/plain": [
       "[10, 20, 30, 40, 50, 60, 70, 80, 90, 100]"
      ]
     },
     "execution_count": 46,
     "metadata": {},
     "output_type": "execute_result"
    }
   ],
   "source": [
    "lista"
   ]
  },
  {
   "cell_type": "code",
   "execution_count": 48,
   "id": "e1bdfe2d",
   "metadata": {},
   "outputs": [
    {
     "data": {
      "text/plain": [
       "[10, 30, 50, 70, 90]"
      ]
     },
     "execution_count": 48,
     "metadata": {},
     "output_type": "execute_result"
    }
   ],
   "source": [
    "lista[0:10:2] # mostrara los valores de los indices 0,2,4,6,8. O sea uno si, uno no, uno si, uno no,..."
   ]
  },
  {
   "cell_type": "code",
   "execution_count": 52,
   "id": "1aebf299",
   "metadata": {},
   "outputs": [
    {
     "data": {
      "text/plain": [
       "[20, 40, 60, 80, 100]"
      ]
     },
     "execution_count": 52,
     "metadata": {},
     "output_type": "execute_result"
    }
   ],
   "source": [
    "lista[1:10:2] # comienza uno si uno no, desde la posicion 1"
   ]
  },
  {
   "cell_type": "code",
   "execution_count": 54,
   "id": "348e3043",
   "metadata": {},
   "outputs": [
    {
     "data": {
      "text/plain": [
       "[100, 80, 60, 40, 20]"
      ]
     },
     "execution_count": 54,
     "metadata": {},
     "output_type": "execute_result"
    }
   ],
   "source": [
    "lista[::-2] # invertida y primero si, siguiente no, ... pares invertidos "
   ]
  },
  {
   "cell_type": "code",
   "execution_count": null,
   "id": "f7fc2ada",
   "metadata": {},
   "outputs": [],
   "source": []
  },
  {
   "cell_type": "code",
   "execution_count": null,
   "id": "da86c45a",
   "metadata": {},
   "outputs": [],
   "source": []
  },
  {
   "cell_type": "markdown",
   "id": "affb4cb6",
   "metadata": {},
   "source": [
    "#### TUPLAS\n",
    "\n",
    "* son secuencias INMUTABLES (no se pueden cambiar, ampliar ni reducir)\n",
    "* heterogeneas (pueden contener distintos tipos de variables y objetos)\n",
    "* secuencias finitas (permiten localizar eventos por indices)\n",
    "* Tupla vacia: tuple()\n",
    "* Solo se pueden crear y consultar:\n",
    "    * tupla[inicio, fin] Muestra los elementos desde la posicion inicio y hasta la posicion fin-1. \n",
    "    * tupla[:fin] Muestra desde el comienzo hasta la posicion indicada-1\n",
    "    * tupla[ini:] Muestra desde la posicion indicada hasta el final\n",
    "    * tupla[2] Muestra el tercer elemento de la tupla\n",
    "* Se puede cohercionar de tupla a lista. list(t) siendo t una tupla\n",
    "* Localizador de elementos: tupla.index(elemento) Devuelve la posicion de la primera aparicion del elemento. Si no esta da ERROR.\n",
    "* Longitud de la tupla: len(tupla)\n",
    "\n",
    "Importante: Las modificaciones de tupla pasar por cohercionar a lista (l=list(t)), modificar la lista y luego posterior conversion a tupla (t=tuple(l)) \n",
    "    "
   ]
  },
  {
   "cell_type": "code",
   "execution_count": null,
   "id": "84b93572",
   "metadata": {},
   "outputs": [],
   "source": [
    "t=tuple()"
   ]
  },
  {
   "cell_type": "code",
   "execution_count": null,
   "id": "b4ebeebf",
   "metadata": {},
   "outputs": [],
   "source": [
    "t"
   ]
  },
  {
   "cell_type": "code",
   "execution_count": null,
   "id": "e1b90f50",
   "metadata": {},
   "outputs": [],
   "source": [
    "t1=(1,'a',[10,'Z'],True)"
   ]
  },
  {
   "cell_type": "code",
   "execution_count": null,
   "id": "ae4d7d0a",
   "metadata": {},
   "outputs": [],
   "source": [
    "t1"
   ]
  },
  {
   "cell_type": "code",
   "execution_count": null,
   "id": "5c33c180",
   "metadata": {},
   "outputs": [],
   "source": [
    "t1[0], t1[-1]"
   ]
  },
  {
   "cell_type": "code",
   "execution_count": null,
   "id": "da49a7b1",
   "metadata": {},
   "outputs": [],
   "source": [
    "t1[:2]"
   ]
  },
  {
   "cell_type": "code",
   "execution_count": null,
   "id": "1b7cc366",
   "metadata": {},
   "outputs": [],
   "source": [
    "t1[2:]"
   ]
  },
  {
   "cell_type": "code",
   "execution_count": null,
   "id": "b2369031",
   "metadata": {},
   "outputs": [],
   "source": [
    "t1[1:3]"
   ]
  },
  {
   "cell_type": "code",
   "execution_count": null,
   "id": "4d91c57d",
   "metadata": {},
   "outputs": [],
   "source": [
    "t1[2:3] ## el resultado no mola. Hay una coma al final"
   ]
  },
  {
   "cell_type": "code",
   "execution_count": null,
   "id": "d97d980b",
   "metadata": {},
   "outputs": [],
   "source": [
    "# Cohesion con listas\n",
    "l=list(t1)"
   ]
  },
  {
   "cell_type": "code",
   "execution_count": null,
   "id": "8bc9d1e7",
   "metadata": {},
   "outputs": [],
   "source": [
    "l"
   ]
  },
  {
   "cell_type": "code",
   "execution_count": null,
   "id": "372b501d",
   "metadata": {},
   "outputs": [],
   "source": [
    "# Una vez que lo converti en lista puedo modificarla y volverla a convertir en tupla\n",
    "l.append(False)"
   ]
  },
  {
   "cell_type": "code",
   "execution_count": null,
   "id": "822ecbc9",
   "metadata": {},
   "outputs": [],
   "source": [
    "l"
   ]
  },
  {
   "cell_type": "code",
   "execution_count": null,
   "id": "4325dcb7",
   "metadata": {},
   "outputs": [],
   "source": [
    "t1=tuple(l)"
   ]
  },
  {
   "cell_type": "code",
   "execution_count": null,
   "id": "8c9efeb6",
   "metadata": {},
   "outputs": [],
   "source": [
    "t1"
   ]
  },
  {
   "cell_type": "code",
   "execution_count": null,
   "id": "5d591119",
   "metadata": {},
   "outputs": [],
   "source": [
    "t1=(1,'a',[10,'Z'],True)\n",
    "t1.index(True)\n",
    "t1.index(1),t1.index('a'),t1.index([10,'Z']),t1.index(True) # AQUI PARECE HABER UN ERROR"
   ]
  },
  {
   "cell_type": "code",
   "execution_count": null,
   "id": "7c78b165",
   "metadata": {},
   "outputs": [],
   "source": [
    "t1.index(True)"
   ]
  },
  {
   "cell_type": "code",
   "execution_count": null,
   "id": "3481f55d",
   "metadata": {},
   "outputs": [],
   "source": [
    "t1[0],t1[1],t1[2],t1[3]"
   ]
  },
  {
   "cell_type": "code",
   "execution_count": null,
   "id": "9939fffd",
   "metadata": {},
   "outputs": [],
   "source": [
    "t1.index(1),t1.index('a'),t1.index([10,'Z']),t1.index(True)"
   ]
  },
  {
   "cell_type": "code",
   "execution_count": null,
   "id": "5f044a60",
   "metadata": {},
   "outputs": [],
   "source": [
    "t1.index(False)"
   ]
  },
  {
   "cell_type": "code",
   "execution_count": null,
   "id": "1d20487c",
   "metadata": {},
   "outputs": [],
   "source": [
    "t1.index('a')"
   ]
  },
  {
   "cell_type": "code",
   "execution_count": null,
   "id": "662ae276",
   "metadata": {},
   "outputs": [],
   "source": [
    "t1.index(True) ## Y ESTO??????"
   ]
  },
  {
   "cell_type": "code",
   "execution_count": null,
   "id": "5a4c706f",
   "metadata": {},
   "outputs": [],
   "source": [
    "t1.index(1)"
   ]
  },
  {
   "cell_type": "code",
   "execution_count": null,
   "id": "d11a58f0",
   "metadata": {},
   "outputs": [],
   "source": [
    "T=('a', 10, True, False)\n",
    "T.index(True)"
   ]
  },
  {
   "cell_type": "code",
   "execution_count": null,
   "id": "20982c48",
   "metadata": {},
   "outputs": [],
   "source": [
    "T.index('a'), T.index(10), T.index(True), T.index(False)"
   ]
  },
  {
   "cell_type": "code",
   "execution_count": null,
   "id": "dcce3823",
   "metadata": {},
   "outputs": [],
   "source": [
    "# Tamaño/longitud de la tupla\n",
    "len(t1)"
   ]
  },
  {
   "cell_type": "code",
   "execution_count": null,
   "id": "ebf813df",
   "metadata": {
    "scrolled": true
   },
   "outputs": [],
   "source": [
    "# Se puede recorrer al igual que una lista\n",
    "for i in t1:\n",
    "    print(i)"
   ]
  },
  {
   "cell_type": "code",
   "execution_count": null,
   "id": "23e781a8",
   "metadata": {},
   "outputs": [],
   "source": [
    "# Se puede recorrer al igual que una lista\n",
    "k=0\n",
    "while k < len(t1):\n",
    "    print(t1[k])\n",
    "    k+=1"
   ]
  },
  {
   "cell_type": "code",
   "execution_count": null,
   "id": "5a6acd84",
   "metadata": {},
   "outputs": [],
   "source": [
    "t1[3], t1.index(True) # Toma como True el 1 que es el primer elemento de la tupla o sea el de index=0"
   ]
  },
  {
   "cell_type": "code",
   "execution_count": null,
   "id": "69929d91",
   "metadata": {},
   "outputs": [],
   "source": [
    "# Se puede recorrer al igual que una lista\n",
    "for i in range(len(t1)):\n",
    "    print(t1[i])"
   ]
  },
  {
   "cell_type": "code",
   "execution_count": null,
   "id": "505a991e",
   "metadata": {},
   "outputs": [],
   "source": [
    "# Recorrer a la inversa\n",
    "k=len(t1)-1\n",
    "while k >=0:\n",
    "    print(t1[k])\n",
    "    k-=1\n"
   ]
  },
  {
   "cell_type": "code",
   "execution_count": null,
   "id": "6b176d8c",
   "metadata": {},
   "outputs": [],
   "source": []
  },
  {
   "cell_type": "markdown",
   "id": "cb583db3",
   "metadata": {},
   "source": [
    "#### SET (Conjuntos) \n",
    "\n",
    "* Caracteristica de esta estructura de datos es que NO ADMITE valores REPETIDOS.\n",
    "* NO son ordenadas ni finitas no podemos localizar elementos por indice. Es una estructura dinamica. \n",
    "* Ordena internamente los elementos no siempre en el mismo orden.\n",
    "* Son heterogeneas. Admiten distintos tipos de variables y objetos menos listas.\n",
    "* Metodo set() para crear set vacios y cohercionar\n",
    "* Son MUTABLES. Se pueden ampliar o reducir en tiempo de ejecucion.\n",
    "    - set.add(elemento) Para añadir un elemento. Si ya existe en el set, omite el agregado sin producir un error.\n",
    "    - set.discard(elemento_a_eliminar) Si no existe omite la eliminacion. No da error si no esta el elemento.\n",
    "    - set.remove(elemento_a_aliminar) Si el elemento no existe da ERROR.\n",
    "    - set.update(set_a_agregar) Para extender un set con otro, ACTUALIZA el set.\n",
    "    - set.union(set_a_agregar) Para extender un set con otro. NO QCTUALIZA el set.\n",
    "* Localizacion de elementos: 'elemento' in set y devuelve el booleano. No hay indices porque no llevan un orden. \n",
    "* Interseccion: set1.intercection(set2) devuelve los elementos comunes en los dos set\n",
    "* Diferencia: set1.difference(set2) devuelve set1-set2 o sea lo que esta en set1 y no esta en set2\n",
    "* Diferencia simetrica entre sets: set1.symmetric_difference(set2) devuelve los elementos no comunes de los dos sets \n",
    "* Subconjutos: set1.issubset(set2) set1 es subconjunto de set2 ? devuelve un booleano\n",
    "* Super conjuntos: s1.issuperset(set2) s1 es super set de set2 (s1 incluye a s2) \n",
    "* Conjuntos disjuntos: set1.isdisjoint(set2) Son totalmente distintos los sets? Devuelve el booleano True si no tienen elementos en comun.\n",
    "    "
   ]
  },
  {
   "cell_type": "markdown",
   "id": "43a566fe",
   "metadata": {},
   "source": [
    "NOTACION:\n",
    "* listas y arrays []\n",
    "* Sets y diccionarios {}\n",
    "* Tuplas ()"
   ]
  },
  {
   "cell_type": "code",
   "execution_count": 26,
   "id": "66933658",
   "metadata": {},
   "outputs": [],
   "source": [
    "l=['Z',2,True, ('a','b')]"
   ]
  },
  {
   "cell_type": "code",
   "execution_count": 27,
   "id": "ffdb2284",
   "metadata": {},
   "outputs": [],
   "source": [
    "s=set(l) # creacion de set a partir de una lista (cohercion)"
   ]
  },
  {
   "cell_type": "code",
   "execution_count": 28,
   "id": "76cce21a",
   "metadata": {},
   "outputs": [
    {
     "data": {
      "text/plain": [
       "{('a', 'b'), 2, True, 'Z'}"
      ]
     },
     "execution_count": 28,
     "metadata": {},
     "output_type": "execute_result"
    }
   ],
   "source": [
    "s"
   ]
  },
  {
   "cell_type": "code",
   "execution_count": 29,
   "id": "657b2063",
   "metadata": {},
   "outputs": [],
   "source": [
    "# crear sets vacios\n",
    "s2=set()\n",
    "s3={}"
   ]
  },
  {
   "cell_type": "code",
   "execution_count": 30,
   "id": "889edde3",
   "metadata": {},
   "outputs": [
    {
     "data": {
      "text/plain": [
       "(set(), {})"
      ]
     },
     "execution_count": 30,
     "metadata": {},
     "output_type": "execute_result"
    }
   ],
   "source": [
    "s2, s3 "
   ]
  },
  {
   "cell_type": "code",
   "execution_count": 31,
   "id": "9db7a8d1",
   "metadata": {},
   "outputs": [
    {
     "data": {
      "text/plain": [
       "(set, dict)"
      ]
     },
     "execution_count": 31,
     "metadata": {},
     "output_type": "execute_result"
    }
   ],
   "source": [
    "type(s2), type(s3) # cuando ingrese datos de tipo lista s3 pasara a set"
   ]
  },
  {
   "cell_type": "code",
   "execution_count": 33,
   "id": "f037824e",
   "metadata": {},
   "outputs": [],
   "source": [
    "s1={'mercurio','venus','tierra'}"
   ]
  },
  {
   "cell_type": "code",
   "execution_count": 36,
   "id": "f4c06285",
   "metadata": {},
   "outputs": [],
   "source": [
    "s3=set(s3) # tipacion a set "
   ]
  },
  {
   "cell_type": "code",
   "execution_count": 37,
   "id": "e35a302a",
   "metadata": {},
   "outputs": [
    {
     "data": {
      "text/plain": [
       "set()"
      ]
     },
     "execution_count": 37,
     "metadata": {},
     "output_type": "execute_result"
    }
   ],
   "source": [
    "s3"
   ]
  },
  {
   "cell_type": "code",
   "execution_count": 38,
   "id": "0e68961f",
   "metadata": {},
   "outputs": [],
   "source": [
    "s2={'jupiter','neptuno'}"
   ]
  },
  {
   "cell_type": "code",
   "execution_count": 39,
   "id": "810f4368",
   "metadata": {},
   "outputs": [],
   "source": [
    "s3={'Urano','Pluton'}"
   ]
  },
  {
   "cell_type": "code",
   "execution_count": 40,
   "id": "4738063d",
   "metadata": {},
   "outputs": [],
   "source": [
    "# añadir al set otro set\n",
    "s1.update(s2)"
   ]
  },
  {
   "cell_type": "code",
   "execution_count": 41,
   "id": "93681960",
   "metadata": {},
   "outputs": [
    {
     "data": {
      "text/plain": [
       "{'jupiter', 'mercurio', 'neptuno', 'tierra', 'venus'}"
      ]
     },
     "execution_count": 41,
     "metadata": {},
     "output_type": "execute_result"
    }
   ],
   "source": [
    "s1 # actualiza el set original !!"
   ]
  },
  {
   "cell_type": "code",
   "execution_count": 42,
   "id": "c4188abc",
   "metadata": {},
   "outputs": [],
   "source": [
    "s1.add('jupiter') # no agrega otro elemento igual a otro existente"
   ]
  },
  {
   "cell_type": "code",
   "execution_count": 43,
   "id": "099324ed",
   "metadata": {},
   "outputs": [
    {
     "data": {
      "text/plain": [
       "{'jupiter', 'mercurio', 'neptuno', 'tierra', 'venus'}"
      ]
     },
     "execution_count": 43,
     "metadata": {},
     "output_type": "execute_result"
    }
   ],
   "source": [
    "s1"
   ]
  },
  {
   "cell_type": "code",
   "execution_count": null,
   "id": "a6f0e924",
   "metadata": {},
   "outputs": [],
   "source": [
    "# tambien añade un set a otro\n",
    "s1.union(s3)"
   ]
  },
  {
   "cell_type": "code",
   "execution_count": null,
   "id": "ca73b584",
   "metadata": {},
   "outputs": [],
   "source": [
    "s1 # no actualiza el set !!!"
   ]
  },
  {
   "cell_type": "code",
   "execution_count": null,
   "id": "5038ff29",
   "metadata": {},
   "outputs": [],
   "source": [
    "# Para actualizar con union\n",
    "s1=s1.union(s3)"
   ]
  },
  {
   "cell_type": "code",
   "execution_count": null,
   "id": "23fbe4d8",
   "metadata": {},
   "outputs": [],
   "source": [
    "s1"
   ]
  },
  {
   "cell_type": "code",
   "execution_count": 44,
   "id": "18cc5473",
   "metadata": {},
   "outputs": [],
   "source": [
    "# Agregar un elemento al set\n",
    "s3.add('Saturno')"
   ]
  },
  {
   "cell_type": "code",
   "execution_count": 45,
   "id": "c8a9c11d",
   "metadata": {},
   "outputs": [
    {
     "data": {
      "text/plain": [
       "{'Pluton', 'Saturno', 'Urano'}"
      ]
     },
     "execution_count": 45,
     "metadata": {},
     "output_type": "execute_result"
    }
   ],
   "source": [
    "s3"
   ]
  },
  {
   "cell_type": "code",
   "execution_count": null,
   "id": "24135ce2",
   "metadata": {},
   "outputs": [],
   "source": [
    "s3"
   ]
  },
  {
   "cell_type": "code",
   "execution_count": null,
   "id": "16cf3e11",
   "metadata": {},
   "outputs": [],
   "source": [
    "s3.add('Saturno')\n",
    "s3 # Saturno ya esta por tanto no hace nada"
   ]
  },
  {
   "cell_type": "code",
   "execution_count": null,
   "id": "64a88e2d",
   "metadata": {},
   "outputs": [],
   "source": [
    "# Eliminar un elemento. Si no esta ignora\n",
    "s3.discard('Marte')\n",
    "s3 # Marte no estaba. No hace nada"
   ]
  },
  {
   "cell_type": "code",
   "execution_count": 47,
   "id": "7dcccf1c",
   "metadata": {},
   "outputs": [
    {
     "data": {
      "text/plain": [
       "{'Pluton', 'Saturno'}"
      ]
     },
     "execution_count": 47,
     "metadata": {},
     "output_type": "execute_result"
    }
   ],
   "source": [
    "s3.discard('Urano')\n",
    "s3 # Elimino Urano"
   ]
  },
  {
   "cell_type": "code",
   "execution_count": null,
   "id": "158ba7d5",
   "metadata": {},
   "outputs": [],
   "source": [
    "s3"
   ]
  },
  {
   "cell_type": "code",
   "execution_count": 48,
   "id": "4c9113e7",
   "metadata": {},
   "outputs": [
    {
     "ename": "KeyError",
     "evalue": "'Urano'",
     "output_type": "error",
     "traceback": [
      "\u001b[1;31m---------------------------------------------------------------------------\u001b[0m",
      "\u001b[1;31mKeyError\u001b[0m                                  Traceback (most recent call last)",
      "\u001b[1;32m~\\AppData\\Local\\Temp/ipykernel_15512/803881746.py\u001b[0m in \u001b[0;36m<module>\u001b[1;34m\u001b[0m\n\u001b[1;32m----> 1\u001b[1;33m \u001b[0ms3\u001b[0m\u001b[1;33m.\u001b[0m\u001b[0mremove\u001b[0m\u001b[1;33m(\u001b[0m\u001b[1;34m'Urano'\u001b[0m\u001b[1;33m)\u001b[0m \u001b[1;31m# Da error porque no esta el elemento\u001b[0m\u001b[1;33m\u001b[0m\u001b[1;33m\u001b[0m\u001b[0m\n\u001b[0m",
      "\u001b[1;31mKeyError\u001b[0m: 'Urano'"
     ]
    }
   ],
   "source": [
    "s3.remove('Urano') # Da error porque no esta el elemento"
   ]
  },
  {
   "cell_type": "code",
   "execution_count": null,
   "id": "1e94794d",
   "metadata": {},
   "outputs": [],
   "source": [
    "s3.discard('Urano') # discard no da error aunque no este el elemento a eliminar"
   ]
  },
  {
   "cell_type": "code",
   "execution_count": null,
   "id": "024a69f8",
   "metadata": {},
   "outputs": [],
   "source": [
    "s3"
   ]
  },
  {
   "cell_type": "code",
   "execution_count": null,
   "id": "c05528cc",
   "metadata": {},
   "outputs": [],
   "source": [
    "s1"
   ]
  },
  {
   "cell_type": "code",
   "execution_count": 49,
   "id": "71cdaf34",
   "metadata": {},
   "outputs": [
    {
     "data": {
      "text/plain": [
       "True"
      ]
     },
     "execution_count": 49,
     "metadata": {},
     "output_type": "execute_result"
    }
   ],
   "source": [
    "# Para saber si contiene un elemento\n",
    "'tierra' in s1"
   ]
  },
  {
   "cell_type": "code",
   "execution_count": 50,
   "id": "03aa56b3",
   "metadata": {},
   "outputs": [
    {
     "data": {
      "text/plain": [
       "False"
      ]
     },
     "execution_count": 50,
     "metadata": {},
     "output_type": "execute_result"
    }
   ],
   "source": [
    "'marte' in s1"
   ]
  },
  {
   "cell_type": "code",
   "execution_count": null,
   "id": "b062c532",
   "metadata": {},
   "outputs": [],
   "source": [
    "# Interseccion"
   ]
  },
  {
   "cell_type": "code",
   "execution_count": null,
   "id": "963721db",
   "metadata": {},
   "outputs": [],
   "source": [
    "s2.add('tierra')"
   ]
  },
  {
   "cell_type": "code",
   "execution_count": null,
   "id": "18299975",
   "metadata": {},
   "outputs": [],
   "source": [
    "s1, s2"
   ]
  },
  {
   "cell_type": "code",
   "execution_count": null,
   "id": "9bf5c4fd",
   "metadata": {},
   "outputs": [],
   "source": [
    "s1.intersection(s2)"
   ]
  },
  {
   "cell_type": "code",
   "execution_count": null,
   "id": "f66f5b15",
   "metadata": {},
   "outputs": [],
   "source": [
    "# Diferencia"
   ]
  },
  {
   "cell_type": "code",
   "execution_count": null,
   "id": "91788e52",
   "metadata": {},
   "outputs": [],
   "source": [
    "s2.difference(s1) # conjunto vacio pues no hay elementos resultantes en s2-s1"
   ]
  },
  {
   "cell_type": "code",
   "execution_count": null,
   "id": "2aa458a8",
   "metadata": {},
   "outputs": [],
   "source": [
    "s1.difference(s2) "
   ]
  },
  {
   "cell_type": "code",
   "execution_count": null,
   "id": "620a3e59",
   "metadata": {},
   "outputs": [],
   "source": [
    "# Diferencia simetrica"
   ]
  },
  {
   "cell_type": "code",
   "execution_count": null,
   "id": "a06e4412",
   "metadata": {},
   "outputs": [],
   "source": [
    "s2.add('Urano')"
   ]
  },
  {
   "cell_type": "code",
   "execution_count": null,
   "id": "1fac50ee",
   "metadata": {},
   "outputs": [],
   "source": [
    "s1.symmetric_difference(s2) # Elmentos disjuntos. Los que estan solo en uno de los sets. Union-interseccion"
   ]
  },
  {
   "cell_type": "code",
   "execution_count": null,
   "id": "f6555227",
   "metadata": {},
   "outputs": [],
   "source": [
    "# Subconjunto"
   ]
  },
  {
   "cell_type": "code",
   "execution_count": null,
   "id": "97b0f20d",
   "metadata": {},
   "outputs": [],
   "source": [
    "s1,s3"
   ]
  },
  {
   "cell_type": "code",
   "execution_count": null,
   "id": "6a3e9789",
   "metadata": {},
   "outputs": [],
   "source": [
    "s3.issubset(s1)"
   ]
  },
  {
   "cell_type": "code",
   "execution_count": null,
   "id": "afdf2511",
   "metadata": {},
   "outputs": [],
   "source": [
    "# Superconjunto o incluye a "
   ]
  },
  {
   "cell_type": "code",
   "execution_count": null,
   "id": "2515e3d0",
   "metadata": {},
   "outputs": [],
   "source": [
    "s1.issuperset(s3)"
   ]
  },
  {
   "cell_type": "code",
   "execution_count": null,
   "id": "ed211346",
   "metadata": {},
   "outputs": [],
   "source": [
    "# Conjuntos disjuntos"
   ]
  },
  {
   "cell_type": "code",
   "execution_count": null,
   "id": "3add66bb",
   "metadata": {},
   "outputs": [],
   "source": [
    "s1.isdisjoint(s3)"
   ]
  },
  {
   "cell_type": "code",
   "execution_count": null,
   "id": "810ff305",
   "metadata": {},
   "outputs": [],
   "source": [
    "s4={'Marte'}"
   ]
  },
  {
   "cell_type": "code",
   "execution_count": null,
   "id": "733f5318",
   "metadata": {},
   "outputs": [],
   "source": [
    "s1,s4"
   ]
  },
  {
   "cell_type": "code",
   "execution_count": null,
   "id": "60f3457c",
   "metadata": {},
   "outputs": [],
   "source": [
    "s1.isdisjoint(s4)"
   ]
  },
  {
   "cell_type": "markdown",
   "id": "5504a8da",
   "metadata": {},
   "source": [
    "#### DICCIONARIOS  \n",
    "\n",
    "{clave: valor}\n",
    "\n",
    "* Son mutables: \n",
    "    - dic[clave]='valor' para modificar\n",
    "    - dic.pop(clave) para eliminar. Tiene que llevar parametro, sino da error. remove() no sirve para diccionarios reverse() tampoco.\n",
    "* Son heterogeneas. Claves pueden ser numeros (int, float, complex), caracteres, tuplas (porque son inmutables). Valor puede ser cualquier tipo de variable u objeto\n",
    "* Las claves se pueden repetir.¿? Creo que no. Los valores si.\n",
    "* Son finitas. Se pueden localizar sus elementos. dic.get(clave) para consultar datos. No usar [] para esto.\n",
    "* len(dic) longitud del diccionario\n",
    "* para crear diccionarios vacios d={} dic()?\n",
    "* dic.clear() vacia el diccionario\n",
    "* dic.keys() para recuperar claves\n",
    "* dic.values() recuperar valores\n",
    "* dic.items() recupera claves y valores\n",
    "* dic.update({clave:valor}) o dic.update({clave:'valor', clave:'valor'})para añadir un o mas elementos nuevos al diccionario\n",
    "* d2=dic.copy() para copiar un diccionario a otro\n"
   ]
  },
  {
   "cell_type": "code",
   "execution_count": 60,
   "id": "0a3dcb63",
   "metadata": {},
   "outputs": [],
   "source": [
    "d={1:'Apple',2:'Samsung',3:'Sony'}"
   ]
  },
  {
   "cell_type": "code",
   "execution_count": 61,
   "id": "6a074ced",
   "metadata": {},
   "outputs": [
    {
     "data": {
      "text/plain": [
       "{1: 'Apple', 2: 'Samsung', 3: 'Sony'}"
      ]
     },
     "execution_count": 61,
     "metadata": {},
     "output_type": "execute_result"
    }
   ],
   "source": [
    "d"
   ]
  },
  {
   "cell_type": "code",
   "execution_count": 62,
   "id": "4a27701b",
   "metadata": {},
   "outputs": [
    {
     "data": {
      "text/plain": [
       "3"
      ]
     },
     "execution_count": 62,
     "metadata": {},
     "output_type": "execute_result"
    }
   ],
   "source": [
    "len(d)"
   ]
  },
  {
   "cell_type": "code",
   "execution_count": 63,
   "id": "13bbe4a4",
   "metadata": {},
   "outputs": [
    {
     "data": {
      "text/plain": [
       "'Apple'"
      ]
     },
     "execution_count": 63,
     "metadata": {},
     "output_type": "execute_result"
    }
   ],
   "source": [
    "d[1] # no utilizaremos esta forma para consultar. Y recordar que 1 no es el indice sino la clave del diccionario"
   ]
  },
  {
   "cell_type": "code",
   "execution_count": 64,
   "id": "434518d2",
   "metadata": {},
   "outputs": [
    {
     "data": {
      "text/plain": [
       "'Apple'"
      ]
     },
     "execution_count": 64,
     "metadata": {},
     "output_type": "execute_result"
    }
   ],
   "source": [
    "## Para consultar utilizaremos get()\n",
    "d.get(1) # lo mismo que obtenerlo con los [] pero utilizaremos get() "
   ]
  },
  {
   "cell_type": "code",
   "execution_count": 65,
   "id": "6df3d261",
   "metadata": {},
   "outputs": [],
   "source": [
    "# Para modificar nos reservamos los [] aunque tambien sirva para consultar\n",
    "d[1]='Xiaomi'"
   ]
  },
  {
   "cell_type": "code",
   "execution_count": 66,
   "id": "c4f9ac07",
   "metadata": {},
   "outputs": [
    {
     "data": {
      "text/plain": [
       "{1: 'Xiaomi', 2: 'Samsung', 3: 'Sony'}"
      ]
     },
     "execution_count": 66,
     "metadata": {},
     "output_type": "execute_result"
    }
   ],
   "source": [
    "d"
   ]
  },
  {
   "cell_type": "code",
   "execution_count": 67,
   "id": "9ac8d193",
   "metadata": {},
   "outputs": [
    {
     "name": "stdout",
     "output_type": "stream",
     "text": [
      "1 Xiaomi\n",
      "2 Samsung\n",
      "3 Sony\n"
     ]
    }
   ],
   "source": [
    "for i in d:  # Observar que i recoge las claves y con i.get() recojo los valores de cada clave\n",
    "    print(i, d.get(i))\n",
    "    "
   ]
  },
  {
   "cell_type": "code",
   "execution_count": 68,
   "id": "2724d523",
   "metadata": {},
   "outputs": [
    {
     "name": "stdout",
     "output_type": "stream",
     "text": [
      "1 Xiaomi\n",
      "2 Samsung\n",
      "3 Sony\n"
     ]
    }
   ],
   "source": [
    "for k,v in d.items(): # otra forma de consultar o recorrer todo el diccionario\n",
    "    print(k,v)"
   ]
  },
  {
   "cell_type": "code",
   "execution_count": 72,
   "id": "248dd261",
   "metadata": {},
   "outputs": [
    {
     "data": {
      "text/plain": [
       "dict_items([(1, 'Xiaomi'), (2, 'Samsung'), (3, 'Sony')])"
      ]
     },
     "execution_count": 72,
     "metadata": {},
     "output_type": "execute_result"
    }
   ],
   "source": [
    "d.items()"
   ]
  },
  {
   "cell_type": "code",
   "execution_count": 69,
   "id": "e4d1666d",
   "metadata": {},
   "outputs": [
    {
     "data": {
      "text/plain": [
       "dict_keys([1, 2, 3])"
      ]
     },
     "execution_count": 69,
     "metadata": {},
     "output_type": "execute_result"
    }
   ],
   "source": [
    "d.keys()"
   ]
  },
  {
   "cell_type": "code",
   "execution_count": 70,
   "id": "b83f95bf",
   "metadata": {},
   "outputs": [
    {
     "data": {
      "text/plain": [
       "dict_values(['Xiaomi', 'Samsung', 'Sony'])"
      ]
     },
     "execution_count": 70,
     "metadata": {},
     "output_type": "execute_result"
    }
   ],
   "source": [
    "d.values()"
   ]
  },
  {
   "cell_type": "code",
   "execution_count": 71,
   "id": "a5b631ac",
   "metadata": {},
   "outputs": [
    {
     "data": {
      "text/plain": [
       "dict_items([(1, 'Xiaomi'), (2, 'Samsung'), (3, 'Sony')])"
      ]
     },
     "execution_count": 71,
     "metadata": {},
     "output_type": "execute_result"
    }
   ],
   "source": [
    "d.items()"
   ]
  },
  {
   "cell_type": "code",
   "execution_count": 73,
   "id": "2088a004",
   "metadata": {},
   "outputs": [],
   "source": [
    "d.clear() # borra todo el contenido del diccionario"
   ]
  },
  {
   "cell_type": "code",
   "execution_count": 74,
   "id": "96472908",
   "metadata": {},
   "outputs": [
    {
     "data": {
      "text/plain": [
       "{}"
      ]
     },
     "execution_count": 74,
     "metadata": {},
     "output_type": "execute_result"
    }
   ],
   "source": [
    "d"
   ]
  },
  {
   "cell_type": "code",
   "execution_count": 75,
   "id": "0b6f2d86",
   "metadata": {},
   "outputs": [],
   "source": [
    "d={0:'Xiaomi', 1:'Apple',2:'Samsung',3:'Sony'}"
   ]
  },
  {
   "cell_type": "code",
   "execution_count": 76,
   "id": "b1cc9732",
   "metadata": {},
   "outputs": [
    {
     "data": {
      "text/plain": [
       "{0: 'Xiaomi', 1: 'Apple', 2: 'Samsung', 3: 'Sony'}"
      ]
     },
     "execution_count": 76,
     "metadata": {},
     "output_type": "execute_result"
    }
   ],
   "source": [
    "d"
   ]
  },
  {
   "cell_type": "code",
   "execution_count": 77,
   "id": "4e8cf94c",
   "metadata": {},
   "outputs": [
    {
     "data": {
      "text/plain": [
       "'Sony'"
      ]
     },
     "execution_count": 77,
     "metadata": {},
     "output_type": "execute_result"
    }
   ],
   "source": [
    "d.pop(3) # elimina el elemento en la lista"
   ]
  },
  {
   "cell_type": "code",
   "execution_count": 78,
   "id": "2ff72b26",
   "metadata": {},
   "outputs": [
    {
     "data": {
      "text/plain": [
       "{0: 'Xiaomi', 1: 'Apple', 2: 'Samsung'}"
      ]
     },
     "execution_count": 78,
     "metadata": {},
     "output_type": "execute_result"
    }
   ],
   "source": [
    "d"
   ]
  },
  {
   "cell_type": "code",
   "execution_count": null,
   "id": "5883aad1",
   "metadata": {},
   "outputs": [],
   "source": [
    "remove # no existe para los diccionarios\n",
    "pop() # no funciona sin argumento. Solo sirve para eliminar un elemento en concreto indicando su clave"
   ]
  },
  {
   "cell_type": "code",
   "execution_count": 79,
   "id": "25c9aac1",
   "metadata": {},
   "outputs": [
    {
     "data": {
      "text/plain": [
       "{0: 'Xiaomi', 1: 'Apple', 2: 'Samsung'}"
      ]
     },
     "execution_count": 79,
     "metadata": {},
     "output_type": "execute_result"
    }
   ],
   "source": [
    "d"
   ]
  },
  {
   "cell_type": "code",
   "execution_count": 80,
   "id": "77158ec5",
   "metadata": {},
   "outputs": [],
   "source": [
    "d.update({3:'Apple'}) # para agregar otro elemento"
   ]
  },
  {
   "cell_type": "code",
   "execution_count": 81,
   "id": "5586f6eb",
   "metadata": {},
   "outputs": [
    {
     "data": {
      "text/plain": [
       "{0: 'Xiaomi', 1: 'Apple', 2: 'Samsung', 3: 'Apple'}"
      ]
     },
     "execution_count": 81,
     "metadata": {},
     "output_type": "execute_result"
    }
   ],
   "source": [
    "d # admite repetidos"
   ]
  },
  {
   "cell_type": "code",
   "execution_count": 82,
   "id": "413f76c7",
   "metadata": {},
   "outputs": [],
   "source": [
    "d.update({4:'Motorola', 5:'Hawei'}) # tambien para agregar otra lista"
   ]
  },
  {
   "cell_type": "code",
   "execution_count": 93,
   "id": "c30bab35",
   "metadata": {},
   "outputs": [
    {
     "data": {
      "text/plain": [
       "{0: 'Xiaomi', 1: 'Apple', 2: 'Samsung', 3: 'Apple', 4: 'Motorola', 5: 'Hawei'}"
      ]
     },
     "execution_count": 93,
     "metadata": {},
     "output_type": "execute_result"
    }
   ],
   "source": [
    "d"
   ]
  },
  {
   "cell_type": "code",
   "execution_count": null,
   "id": "c3e4548b",
   "metadata": {},
   "outputs": [],
   "source": []
  },
  {
   "cell_type": "code",
   "execution_count": null,
   "id": "5fd57930",
   "metadata": {},
   "outputs": [],
   "source": []
  },
  {
   "cell_type": "code",
   "execution_count": null,
   "id": "82b39fce",
   "metadata": {},
   "outputs": [],
   "source": []
  },
  {
   "cell_type": "code",
   "execution_count": null,
   "id": "ff8f0726",
   "metadata": {},
   "outputs": [],
   "source": []
  },
  {
   "cell_type": "markdown",
   "id": "fc821b29",
   "metadata": {},
   "source": [
    "#### Test de eficiencia \n",
    "\n",
    "* Eficiencia: recursos/tiempo o trabajo/tiempo\n",
    "\n",
    "Si el resultado final de dos procesos es el mismo, la eficiencia se medira en funcion del tiempo insumido. "
   ]
  },
  {
   "cell_type": "code",
   "execution_count": null,
   "id": "74b6db57",
   "metadata": {},
   "outputs": [],
   "source": [
    "x=50000 # se ejecuta el proceso con un valor lo suficientemente alto para obtener un tiempo medible\n",
    "import time\n",
    "\n",
    "inicio=time.time()\n",
    "AlgoritmoSecreto(x) # duracion de la ejecucion de la funcion\n",
    "tiempo=time.time()-inicio\n",
    "tiempo"
   ]
  },
  {
   "cell_type": "code",
   "execution_count": null,
   "id": "2c49e10b",
   "metadata": {},
   "outputs": [],
   "source": []
  },
  {
   "cell_type": "markdown",
   "id": "6921513d",
   "metadata": {},
   "source": [
    "### Rutinas de validacion de datos"
   ]
  },
  {
   "cell_type": "code",
   "execution_count": 24,
   "id": "efebe259",
   "metadata": {},
   "outputs": [],
   "source": [
    "def validarInt(x):\n",
    "    \"\"\"\n",
    "    USO: La funcion comprueba que el valor introducido sea un entero.\n",
    "    ARGUMENTOS:\n",
    "        x [int]: numero decimal entero que se quiere comprobar.\n",
    "    VARIABLES:\n",
    "        x2 [int]: variable auxiliar que almacena la tipacion a entero del numero recibido como parametro\n",
    "    RETURN:\n",
    "        x2 [int]: variable entera que almacena el numero que recibe como argumento\n",
    "    \"\"\"    \n",
    "    y=True\n",
    "    while y:\n",
    "        try:\n",
    "            x=int(x)\n",
    "            y=False\n",
    "        except:\n",
    "            print(\"Error: el valor introducido no es un decimal entero.\")\n",
    "            x=input(\"Volver a ingresar el dato: \")\n",
    "    return x\n",
    "        "
   ]
  },
  {
   "cell_type": "code",
   "execution_count": 25,
   "id": "2685dd16",
   "metadata": {},
   "outputs": [
    {
     "data": {
      "text/plain": [
       "10"
      ]
     },
     "execution_count": 25,
     "metadata": {},
     "output_type": "execute_result"
    }
   ],
   "source": [
    "validarInt(10)"
   ]
  },
  {
   "cell_type": "code",
   "execution_count": 26,
   "id": "eb592783",
   "metadata": {},
   "outputs": [
    {
     "name": "stdout",
     "output_type": "stream",
     "text": [
      "Error: el valor introducido no es un decimal entero.\n",
      "Volver a ingresar el dato: d\n",
      "Error: el valor introducido no es un decimal entero.\n",
      "Volver a ingresar el dato: a\n",
      "Error: el valor introducido no es un decimal entero.\n",
      "Volver a ingresar el dato: 2\n"
     ]
    },
    {
     "data": {
      "text/plain": [
       "2"
      ]
     },
     "execution_count": 26,
     "metadata": {},
     "output_type": "execute_result"
    }
   ],
   "source": [
    "validarInt('A')"
   ]
  },
  {
   "cell_type": "code",
   "execution_count": 27,
   "id": "2af4e156",
   "metadata": {},
   "outputs": [
    {
     "name": "stdout",
     "output_type": "stream",
     "text": [
      "Error: el valor introducido no es un decimal entero.\n",
      "Volver a ingresar el dato: s\n",
      "Error: el valor introducido no es un decimal entero.\n",
      "Volver a ingresar el dato: True\n",
      "Error: el valor introducido no es un decimal entero.\n",
      "Volver a ingresar el dato: 1.3\n",
      "Error: el valor introducido no es un decimal entero.\n",
      "Volver a ingresar el dato: 4\n"
     ]
    },
    {
     "data": {
      "text/plain": [
       "int"
      ]
     },
     "execution_count": 27,
     "metadata": {},
     "output_type": "execute_result"
    }
   ],
   "source": [
    "type(validarInt('A'))"
   ]
  },
  {
   "cell_type": "code",
   "execution_count": 55,
   "id": "30648c9b",
   "metadata": {},
   "outputs": [],
   "source": [
    "# Otra funcion de validacion. Valida si el argumento es float.\n",
    "\n",
    "def esfloat(k):\n",
    "    try:\n",
    "        n=float(k)\n",
    "        m=True\n",
    "    except:\n",
    "        m=False\n",
    "    return m"
   ]
  },
  {
   "cell_type": "code",
   "execution_count": 63,
   "id": "3e5d3914",
   "metadata": {},
   "outputs": [
    {
     "data": {
      "text/plain": [
       "True"
      ]
     },
     "execution_count": 63,
     "metadata": {},
     "output_type": "execute_result"
    }
   ],
   "source": [
    "esfloat(\"1.1\") # lo puede cohercionar y devuelve verdadero"
   ]
  },
  {
   "cell_type": "code",
   "execution_count": 69,
   "id": "5287b0b7",
   "metadata": {},
   "outputs": [
    {
     "data": {
      "text/plain": [
       "False"
      ]
     },
     "execution_count": 69,
     "metadata": {},
     "output_type": "execute_result"
    }
   ],
   "source": [
    "esfloat(\"1,1\")"
   ]
  },
  {
   "cell_type": "code",
   "execution_count": 70,
   "id": "86aa0c2b",
   "metadata": {},
   "outputs": [
    {
     "data": {
      "text/plain": [
       "(True, False)"
      ]
     },
     "execution_count": 70,
     "metadata": {},
     "output_type": "execute_result"
    }
   ],
   "source": [
    "isinstance(m,float), isinstance(n,float) "
   ]
  },
  {
   "cell_type": "code",
   "execution_count": null,
   "id": "593f34c5",
   "metadata": {},
   "outputs": [],
   "source": [
    "# EJEMPLO DE VALIDACION UTILIZANDO ASERT\n",
    "\n",
    "def PrimitivaF(lista:list=list()) ->list: # obtiene la lista de la primitiva con numeros correctos\n",
    "    while len(lista)<6:\n",
    "        n=int(input(f'Ingrese el numero %dº de la primitiva (numeros del 1 al 49): '%(len(lista)+1)))\n",
    "        try:\n",
    "            assert n>0 and n<50\n",
    "            lista.append(n)\n",
    "        except:\n",
    "            print(\"El numero no es correcto\")\n",
    "            \n",
    "    return lista"
   ]
  },
  {
   "cell_type": "markdown",
   "id": "5c130bc3",
   "metadata": {},
   "source": [
    "#### Uso de la funcion isinstance() para la validacion de tipo de dato\n",
    "\n",
    "isinstance(variable, tipo_dato) # donde tipo dato: int, float, str, etc?.\n",
    "\n",
    "Esta funcion devuelve verdadero 'True' si la variable es del tipo de dato indicado.\n",
    "\n",
    "NO INTENTA COHERCIONAR. Solo indica si el tipo de dato de la variable es el que estamos indicando en el segundo parametro."
   ]
  },
  {
   "cell_type": "code",
   "execution_count": null,
   "id": "36b64e83",
   "metadata": {},
   "outputs": [],
   "source": [
    "variable=20\n",
    "if not(isinstance(variable,int)):\n",
    "    print('No es un entero')\n",
    "else:\n",
    "    numero=int(variable) ## variable ya es int no hacia falta el int()\n",
    "    print(variable)"
   ]
  },
  {
   "cell_type": "code",
   "execution_count": null,
   "id": "494498a7",
   "metadata": {},
   "outputs": [],
   "source": [
    "variable='A'\n",
    "if not(isinstance(variable,int)):\n",
    "    print('No es un entero')\n",
    "else:\n",
    "    numero=int(variable)\n",
    "    print(variable)"
   ]
  },
  {
   "cell_type": "code",
   "execution_count": 28,
   "id": "d5de8d37",
   "metadata": {},
   "outputs": [],
   "source": [
    "def validarInt2(x):\n",
    "    \"\"\"\n",
    "    USO: La funcion comprueba que el valor introducido sea un entero.\n",
    "    ARGUMENTOS:\n",
    "        x [int]: numero decimal entero que se quiere comprobar.\n",
    "    VARIABLES:\n",
    "    RETURN:\n",
    "        x [int]: numero decimal entero validado\n",
    "    \"\"\"    \n",
    "    while not(isinstance(x,int)):\n",
    "        print('El dato ingresado debe ser un entero')\n",
    "        x=input('Ingresa el dato nuevamente: ') \n",
    "        try:\n",
    "             x=int(x)\n",
    "        except:\n",
    "            pass\n",
    "        \n",
    "    return int(x)"
   ]
  },
  {
   "cell_type": "code",
   "execution_count": 29,
   "id": "7b8d95ca",
   "metadata": {},
   "outputs": [
    {
     "data": {
      "text/plain": [
       "1"
      ]
     },
     "execution_count": 29,
     "metadata": {},
     "output_type": "execute_result"
    }
   ],
   "source": [
    "validarInt2(1)"
   ]
  },
  {
   "cell_type": "code",
   "execution_count": 30,
   "id": "6d971107",
   "metadata": {},
   "outputs": [
    {
     "name": "stdout",
     "output_type": "stream",
     "text": [
      "El dato ingresado debe ser un entero\n",
      "Ingresa el dato nuevamente: bool\n",
      "El dato ingresado debe ser un entero\n",
      "Ingresa el dato nuevamente: 4.7\n",
      "El dato ingresado debe ser un entero\n",
      "Ingresa el dato nuevamente: 100\n"
     ]
    },
    {
     "data": {
      "text/plain": [
       "100"
      ]
     },
     "execution_count": 30,
     "metadata": {},
     "output_type": "execute_result"
    }
   ],
   "source": [
    "validarInt2('a')"
   ]
  },
  {
   "cell_type": "code",
   "execution_count": 55,
   "id": "bb6ad3cf",
   "metadata": {},
   "outputs": [
    {
     "data": {
      "text/plain": [
       "False"
      ]
     },
     "execution_count": 55,
     "metadata": {},
     "output_type": "execute_result"
    }
   ],
   "source": [
    "isinstance(2.3,int) # da falso porque 2.3 no es int sino float"
   ]
  },
  {
   "cell_type": "code",
   "execution_count": 56,
   "id": "4c0caec1",
   "metadata": {},
   "outputs": [
    {
     "data": {
      "text/plain": [
       "2"
      ]
     },
     "execution_count": 56,
     "metadata": {},
     "output_type": "execute_result"
    }
   ],
   "source": [
    "int(2.3) # sin embargo SI se puede convertir a int. "
   ]
  },
  {
   "cell_type": "code",
   "execution_count": 57,
   "id": "60fe14c2",
   "metadata": {},
   "outputs": [
    {
     "ename": "ValueError",
     "evalue": "invalid literal for int() with base 10: '2.3'",
     "output_type": "error",
     "traceback": [
      "\u001b[1;31m---------------------------------------------------------------------------\u001b[0m",
      "\u001b[1;31mValueError\u001b[0m                                Traceback (most recent call last)",
      "\u001b[1;32m~\\AppData\\Local\\Temp/ipykernel_11804/1458680458.py\u001b[0m in \u001b[0;36m<module>\u001b[1;34m\u001b[0m\n\u001b[1;32m----> 1\u001b[1;33m \u001b[0mint\u001b[0m\u001b[1;33m(\u001b[0m\u001b[1;34m'2.3'\u001b[0m\u001b[1;33m)\u001b[0m \u001b[1;31m# esto es lo que pasa cuando recojo la varible en un input, se recoge como str\u001b[0m\u001b[1;33m\u001b[0m\u001b[1;33m\u001b[0m\u001b[0m\n\u001b[0m",
      "\u001b[1;31mValueError\u001b[0m: invalid literal for int() with base 10: '2.3'"
     ]
    }
   ],
   "source": [
    "int('2.3') # esto es lo que pasa cuando recojo la varible en un input, se recoge como str. Eso si que no se puede convertir porq es str"
   ]
  },
  {
   "cell_type": "code",
   "execution_count": 58,
   "id": "14244539",
   "metadata": {},
   "outputs": [
    {
     "data": {
      "text/plain": [
       "True"
      ]
     },
     "execution_count": 58,
     "metadata": {},
     "output_type": "execute_result"
    }
   ],
   "source": [
    "isinstance(2,int)"
   ]
  },
  {
   "cell_type": "markdown",
   "id": "528abdb8",
   "metadata": {},
   "source": [
    "###  Variables locales y globales\n",
    "\n",
    "IMPORTANTE !!!\n",
    "\n",
    "Eliminar/limpiar las variables globales para que no se queden vigentes y con datos almacenados que puedan interferir en otros procesos.\n",
    "\n",
    "del(variable)"
   ]
  },
  {
   "cell_type": "markdown",
   "id": "9c59a95e",
   "metadata": {},
   "source": [
    "####  Ambito de las variables\n",
    "\n",
    "* Una variable global externa puede accederse desde una funcion, si bien la funcion puede tener una variable local con el mismo nombre. \n",
    "Si la tiene, la funcion usará SU propia variable local, sino cogerá la variable global.\n",
    "* Se puede definir dentro de una funcion una variable global (<global variable>), si se quiere que dicha variable tenga vigencia mas alla de la funcion. Es decir una vez que acabe la funcion, la variable será accesible fuera de la misma.\n",
    "* El resto de variables definidas dentro de la funcion seran locales y solo tendran vigencia dentro de la funcion.\n",
    "    "
   ]
  },
  {
   "cell_type": "markdown",
   "id": "7d89df02",
   "metadata": {},
   "source": [
    "#### Vigencia de las variables \n",
    "<img src=\"Variables.png\">"
   ]
  },
  {
   "cell_type": "code",
   "execution_count": 32,
   "id": "3051ce8c",
   "metadata": {},
   "outputs": [],
   "source": [
    "a=2"
   ]
  },
  {
   "cell_type": "code",
   "execution_count": 39,
   "id": "79aa322a",
   "metadata": {},
   "outputs": [],
   "source": [
    "def mifuncion():\n",
    "    global d   # aqui no puedo definir una variable local a puesto que ya existe fuera de la funcion como global\n",
    "    a=4  # aqui tengo la variable a que es local y es diferente a la 'a' global\n",
    "    d=10\n",
    "    A=3\n",
    "    b=3\n",
    "    return A*b, a"
   ]
  },
  {
   "cell_type": "code",
   "execution_count": 40,
   "id": "b9eea169",
   "metadata": {},
   "outputs": [
    {
     "data": {
      "text/plain": [
       "(9, 4)"
      ]
     },
     "execution_count": 40,
     "metadata": {},
     "output_type": "execute_result"
    }
   ],
   "source": [
    "mifuncion() # se muestra la a local de la funcion"
   ]
  },
  {
   "cell_type": "code",
   "execution_count": 41,
   "id": "71ddcb84",
   "metadata": {},
   "outputs": [
    {
     "data": {
      "text/plain": [
       "2"
      ]
     },
     "execution_count": 41,
     "metadata": {},
     "output_type": "execute_result"
    }
   ],
   "source": [
    "a # esta es la a global"
   ]
  },
  {
   "cell_type": "code",
   "execution_count": 42,
   "id": "e4031b54",
   "metadata": {},
   "outputs": [
    {
     "data": {
      "text/plain": [
       "10"
      ]
     },
     "execution_count": 42,
     "metadata": {},
     "output_type": "execute_result"
    }
   ],
   "source": [
    "d # Puedo accedera d fuera de la funcion porque la defini como global "
   ]
  },
  {
   "cell_type": "code",
   "execution_count": 43,
   "id": "6fd25995",
   "metadata": {},
   "outputs": [],
   "source": [
    "def mifuncion2():\n",
    "    global d   # aqui no puedo definir una variable local a puesto que ya existe fuera de la funcion como global\n",
    "                # ahora no defino una variable 'a' local \n",
    "    d=10\n",
    "    A=3\n",
    "    b=3\n",
    "    return A*b, a  # esta 'a' ya no es local de la funcion. Es la global"
   ]
  },
  {
   "cell_type": "code",
   "execution_count": 44,
   "id": "d42e79fb",
   "metadata": {},
   "outputs": [
    {
     "data": {
      "text/plain": [
       "(9, 2)"
      ]
     },
     "execution_count": 44,
     "metadata": {},
     "output_type": "execute_result"
    }
   ],
   "source": [
    "mifuncion2()  # se muestra la a global, la funcion no tiene variable 'a' local, asi es que toma la global"
   ]
  },
  {
   "cell_type": "code",
   "execution_count": 51,
   "id": "08cef97c",
   "metadata": {},
   "outputs": [
    {
     "data": {
      "text/plain": [
       "10"
      ]
     },
     "execution_count": 51,
     "metadata": {},
     "output_type": "execute_result"
    }
   ],
   "source": [
    "d # variable global definida dentro de la funcion. Es accesible desde fuera."
   ]
  },
  {
   "cell_type": "code",
   "execution_count": 14,
   "id": "d79839f4",
   "metadata": {},
   "outputs": [],
   "source": [
    "# Elimina la variable que ya no se usará para liberar el espacio y evitar errores por variables que quedan vigentes y con datos.\n",
    "del(a)"
   ]
  },
  {
   "cell_type": "code",
   "execution_count": 15,
   "id": "ef2de3dc",
   "metadata": {},
   "outputs": [
    {
     "name": "stdout",
     "output_type": "stream",
     "text": [
      "In\n",
      "Out\n",
      "_\n",
      "_12\n",
      "_2\n",
      "_6\n",
      "_7\n",
      "__\n",
      "___\n",
      "__builtin__\n",
      "__builtins__\n",
      "__doc__\n",
      "__loader__\n",
      "__name__\n",
      "__package__\n",
      "__spec__\n",
      "_dh\n",
      "_i\n",
      "_i1\n",
      "_i10\n",
      "_i11\n",
      "_i12\n",
      "_i13\n",
      "_i14\n",
      "_i15\n",
      "_i2\n",
      "_i3\n",
      "_i4\n",
      "_i5\n",
      "_i6\n",
      "_i7\n",
      "_i8\n",
      "_i9\n",
      "_ih\n",
      "_ii\n",
      "_iii\n",
      "_oh\n",
      "d\n",
      "exit\n",
      "get_ipython\n",
      "k\n",
      "mifuncion\n",
      "quit\n"
     ]
    }
   ],
   "source": [
    "# Con esta funcion dir() muestro todas las variables generadas y vigentes hasta este momento\n",
    "for k in dir():\n",
    "    print(k)\n",
    "\n",
    "    # aqui se ve que a ya no sale "
   ]
  },
  {
   "cell_type": "markdown",
   "id": "55592b7f",
   "metadata": {},
   "source": [
    "## Documentacion de funciones"
   ]
  },
  {
   "cell_type": "code",
   "execution_count": 207,
   "id": "3d0b3c36",
   "metadata": {},
   "outputs": [],
   "source": [
    "def miFuncion():\n",
    "    \"\"\"\n",
    "    DOCUMENTACION\n",
    "    \"\"\""
   ]
  },
  {
   "cell_type": "code",
   "execution_count": 208,
   "id": "18f113ff",
   "metadata": {},
   "outputs": [
    {
     "name": "stdout",
     "output_type": "stream",
     "text": [
      "Help on function miFuncion in module __main__:\n",
      "\n",
      "miFuncion()\n",
      "    DOCUMENTACION\n",
      "\n"
     ]
    }
   ],
   "source": [
    "help(miFuncion)"
   ]
  },
  {
   "cell_type": "code",
   "execution_count": 227,
   "id": "5a521e48",
   "metadata": {},
   "outputs": [
    {
     "name": "stdout",
     "output_type": "stream",
     "text": [
      "\n",
      "    DOCUMENTACION\n",
      "    \n"
     ]
    }
   ],
   "source": [
    "print(miFuncion.__doc__)"
   ]
  },
  {
   "cell_type": "code",
   "execution_count": 210,
   "id": "36c4fccd",
   "metadata": {},
   "outputs": [],
   "source": [
    "def multiplicarPor9(numero: int) -> int:\n",
    "    return numero*9"
   ]
  },
  {
   "cell_type": "markdown",
   "id": "60d3e038",
   "metadata": {},
   "source": [
    "Esta es otra forma de documentar para que de un vistazo se sepa que tipo de dato debe recibir y que tipo de dato devuelve"
   ]
  },
  {
   "cell_type": "code",
   "execution_count": 229,
   "id": "e1287ec8",
   "metadata": {},
   "outputs": [
    {
     "name": "stdout",
     "output_type": "stream",
     "text": [
      "{'numero': <class 'int'>, 'return': <class 'int'>}\n"
     ]
    }
   ],
   "source": [
    "print(multiplicarPor9.__annotations__) #  retorna informacion sobre los algumentos y los retornos "
   ]
  },
  {
   "cell_type": "code",
   "execution_count": 245,
   "id": "3f268575",
   "metadata": {},
   "outputs": [
    {
     "data": {
      "text/plain": [
       "(int, int)"
      ]
     },
     "execution_count": 245,
     "metadata": {},
     "output_type": "execute_result"
    }
   ],
   "source": [
    "# Puedo consultar las anotaciones mediante las claves puesto que es un diccionario\n",
    "\n",
    "multiplicarPor9.__annotations__.get('numero'), multiplicarPor9.__annotations__.get('return')"
   ]
  },
  {
   "cell_type": "markdown",
   "id": "469d94fa",
   "metadata": {},
   "source": [
    "EJERCICIO: Validar que los argumentos de la funcion multiplicarPor9 corresponden a los especificados en las anotaciones."
   ]
  },
  {
   "cell_type": "code",
   "execution_count": 26,
   "id": "f0be536d",
   "metadata": {},
   "outputs": [],
   "source": [
    "# ESTA SERIA LA FORMA CORRECTA DEL CODIGO. VALIDAR QUE LA ENTRADA SEA LA ESPERADA.\n",
    "# Esta funcion valdria para cualquier tipo de variable especificada en las anotaciones.\n",
    "\n",
    "def multiplicarPor9(numero: int) -> int:\n",
    "     # Validacion del parametro de entrada. Debe ser entero.\n",
    "    while not isinstance(numero, multiplicarPor9.__annotations__.get('numero')): # Este metodo de la funcion devuelve los tipos de las variables\n",
    "        numero=input('Introduce un valor de tipo %s '%(multiplicarPor9.__annotations__.get('numero'))) # para que se muestre que tipo de valor debe ser\n",
    "        try:\n",
    "            numero=multiplicarPor9.__annotations__.get('numero')(numero) # esto seria int(numero)\n",
    "        except:\n",
    "            pass\n",
    "    return numero*9 # El retorno es entero tambien\n"
   ]
  },
  {
   "cell_type": "code",
   "execution_count": 27,
   "id": "5cac19b7",
   "metadata": {},
   "outputs": [
    {
     "data": {
      "text/plain": [
       "int"
      ]
     },
     "execution_count": 27,
     "metadata": {},
     "output_type": "execute_result"
    }
   ],
   "source": [
    "multiplicarPor9.__annotations__.get('numero') # numero es argumento. Asise almacena el tipo de dato que se espera reciba la funcion. "
   ]
  },
  {
   "cell_type": "code",
   "execution_count": 244,
   "id": "c9b69733",
   "metadata": {},
   "outputs": [
    {
     "name": "stdout",
     "output_type": "stream",
     "text": [
      "Introduce un valor de tipo <class 'int'> 'a'\n",
      "Introduce un valor de tipo <class 'int'> 3.5\n",
      "Introduce un valor de tipo <class 'int'> 3\n"
     ]
    },
    {
     "data": {
      "text/plain": [
       "27"
      ]
     },
     "execution_count": 244,
     "metadata": {},
     "output_type": "execute_result"
    }
   ],
   "source": [
    "multiplicarPor9('x')"
   ]
  },
  {
   "cell_type": "code",
   "execution_count": 28,
   "id": "9a3ee9b4",
   "metadata": {},
   "outputs": [
    {
     "data": {
      "text/plain": [
       "18"
      ]
     },
     "execution_count": 28,
     "metadata": {},
     "output_type": "execute_result"
    }
   ],
   "source": [
    "multiplicarPor9(2)"
   ]
  },
  {
   "cell_type": "markdown",
   "id": "69164e3e",
   "metadata": {},
   "source": [
    "IMPORTANTE: La libreria mypy hace el chequeo de los argumentos de las funciones que se ejecutan bajo la libreria\n",
    "    mypy fichero.py \n",
    "Si no cumple el tipo de dato especificado en las anotaciones, indicara un error."
   ]
  },
  {
   "cell_type": "markdown",
   "id": "0d3297b7",
   "metadata": {},
   "source": [
    "## Tipos de Funciones"
   ]
  },
  {
   "cell_type": "markdown",
   "id": "8fa1219b",
   "metadata": {},
   "source": [
    "### Funciones con y sin retorno (devolucion)"
   ]
  },
  {
   "cell_type": "code",
   "execution_count": 198,
   "id": "03f50e76",
   "metadata": {},
   "outputs": [
    {
     "name": "stdout",
     "output_type": "stream",
     "text": [
      "Hola\n",
      "Chau\n"
     ]
    }
   ],
   "source": [
    "def sinDevolucion():\n",
    "    print('Hola')\n",
    "    print('Chau')\n",
    "sinDevolucion()"
   ]
  },
  {
   "cell_type": "code",
   "execution_count": 199,
   "id": "7a4fecaf",
   "metadata": {},
   "outputs": [
    {
     "data": {
      "text/plain": [
       "'Hola y chau'"
      ]
     },
     "execution_count": 199,
     "metadata": {},
     "output_type": "execute_result"
    }
   ],
   "source": [
    "def conDevolucion():\n",
    "    return 'Hola y chau'\n",
    "    \n",
    "conDevolucion()"
   ]
  },
  {
   "cell_type": "code",
   "execution_count": 200,
   "id": "e89765ac",
   "metadata": {},
   "outputs": [
    {
     "name": "stdout",
     "output_type": "stream",
     "text": [
      "Hola \n"
     ]
    },
    {
     "data": {
      "text/plain": [
       "'Chau'"
      ]
     },
     "execution_count": 200,
     "metadata": {},
     "output_type": "execute_result"
    }
   ],
   "source": [
    "def mixDevolucion():\n",
    "    print('Hola ')\n",
    "    return 'Chau'\n",
    "    \n",
    "mixDevolucion()"
   ]
  },
  {
   "cell_type": "code",
   "execution_count": null,
   "id": "f14b1a8d",
   "metadata": {},
   "outputs": [],
   "source": []
  },
  {
   "cell_type": "markdown",
   "id": "9359ec80",
   "metadata": {},
   "source": [
    "### Segun el tipo de paso de los argumentos"
   ]
  },
  {
   "cell_type": "markdown",
   "id": "572c0d66",
   "metadata": {},
   "source": [
    "* Por valor : la funcion modifica solo la variable local no la global"
   ]
  },
  {
   "cell_type": "code",
   "execution_count": 39,
   "id": "e31387cd",
   "metadata": {},
   "outputs": [
    {
     "name": "stdout",
     "output_type": "stream",
     "text": [
      "El identificador de la variable x es: 2076842874320\n",
      "El identificador de la variable e es: 2076842682960\n",
      "El valor de la variable e es: 10\n",
      "El valor de la variable x es: 100\n"
     ]
    }
   ],
   "source": [
    "def porValor(e):\n",
    "    e=10 # aqui no se asigna a la variable pasada como parametro por valor, sino a una variable local de la funcion\n",
    "    print('El identificador de la variable e es:',id(e))\n",
    "    print('El valor de la variable e es:',e)\n",
    "# La funcion recibe el VALOR que se paso por parametro. En este caso recibe un 10.\n",
    "# En este caso la funcion no modifica la variable que se pasa por parametro o sea la variable global x.\n",
    "\n",
    "x=100\n",
    "print('El identificador de la variable x es:',id(x))\n",
    "porValor(x)\n",
    "print('El valor de la variable x es:',x)"
   ]
  },
  {
   "cell_type": "code",
   "execution_count": 40,
   "id": "eba78b01",
   "metadata": {},
   "outputs": [],
   "source": [
    "## Observar que los identificadores son diferentes puesto que se trata de diferentes variables\n",
    "## El valor de x no se modifico despues de llamar a la funcion."
   ]
  },
  {
   "cell_type": "code",
   "execution_count": 214,
   "id": "aa8bc9d3",
   "metadata": {},
   "outputs": [
    {
     "name": "stdout",
     "output_type": "stream",
     "text": [
      "None\n"
     ]
    }
   ],
   "source": [
    "print(porValor(x)) ## la funcion no devuelve nada por eso la salida es None"
   ]
  },
  {
   "cell_type": "code",
   "execution_count": 215,
   "id": "9d772e5e",
   "metadata": {},
   "outputs": [
    {
     "data": {
      "text/plain": [
       "10"
      ]
     },
     "execution_count": 215,
     "metadata": {},
     "output_type": "execute_result"
    }
   ],
   "source": [
    "x # La variable en si, que almacena el 10, no se ha modificado."
   ]
  },
  {
   "cell_type": "markdown",
   "id": "3af1db11",
   "metadata": {},
   "source": [
    "* Por referencia : la funcion modifica la variable global que se pasa como parametro."
   ]
  },
  {
   "cell_type": "code",
   "execution_count": 31,
   "id": "ccfd2810",
   "metadata": {},
   "outputs": [
    {
     "name": "stdout",
     "output_type": "stream",
     "text": [
      "El identificador de la variable x es: 2076925984576\n",
      "El identificador de la variable e es: 2076925984576\n"
     ]
    },
    {
     "data": {
      "text/plain": [
       "[10, 100]"
      ]
     },
     "execution_count": 31,
     "metadata": {},
     "output_type": "execute_result"
    }
   ],
   "source": [
    "def porReferencia(e):\n",
    "    e.append(100)\n",
    "    print('El identificador de la variable e es:',id(e))\n",
    "\n",
    "x=[10]\n",
    "print('El identificador de la variable x es:',id(x))\n",
    "\n",
    "porReferencia(x) # paso del argumento x que al ser una lista pasa por referencia\n",
    "x\n",
    "# En este caso la funcion recibe la variable lista la cual es modificada por la funcion. El metodo append modifica la lista."
   ]
  },
  {
   "cell_type": "code",
   "execution_count": 32,
   "id": "aa95c0f8",
   "metadata": {},
   "outputs": [],
   "source": [
    "# En este casi se modifico la variable global que pase por parametro (referencia)\n",
    "# Observar que 'e' y 'x' son la misma variable "
   ]
  },
  {
   "cell_type": "markdown",
   "id": "2bf37bc7",
   "metadata": {},
   "source": [
    "### Argumentos en funciones"
   ]
  },
  {
   "cell_type": "markdown",
   "id": "0e07c396",
   "metadata": {},
   "source": [
    "* Funciones sin argumento"
   ]
  },
  {
   "cell_type": "code",
   "execution_count": 111,
   "id": "5bc4f43d",
   "metadata": {},
   "outputs": [
    {
     "data": {
      "text/plain": [
       "'Hola'"
      ]
     },
     "execution_count": 111,
     "metadata": {},
     "output_type": "execute_result"
    }
   ],
   "source": [
    "# Funciones sin argumento\n",
    "\n",
    "def miFuncion():\n",
    "    a='Hola'\n",
    "    return a\n",
    "miFuncion()"
   ]
  },
  {
   "cell_type": "markdown",
   "id": "b4066955",
   "metadata": {},
   "source": [
    "* Funciones con argumento no predefinido"
   ]
  },
  {
   "cell_type": "code",
   "execution_count": 112,
   "id": "5f445764",
   "metadata": {},
   "outputs": [
    {
     "name": "stdout",
     "output_type": "stream",
     "text": [
      "Hola Jose\n"
     ]
    }
   ],
   "source": [
    "# Funciones con argumento no predefinido\n",
    "\n",
    "def miFuncion(a):\n",
    "    return print('Hola', a)\n",
    "\n",
    "miFuncion('Jose')"
   ]
  },
  {
   "cell_type": "markdown",
   "id": "f5ba7a2e",
   "metadata": {},
   "source": [
    "* Funciones con argumento predefinido."
   ]
  },
  {
   "cell_type": "code",
   "execution_count": 183,
   "id": "9fe57926",
   "metadata": {},
   "outputs": [
    {
     "data": {
      "text/plain": [
       "30"
      ]
     },
     "execution_count": 183,
     "metadata": {},
     "output_type": "execute_result"
    }
   ],
   "source": [
    "# Funciones con argumento predefinido. Importante!!!! Si predefino a tambien debo predefinir b.\n",
    "\n",
    "def miFuncion(a=10, b=20):\n",
    "    return a+b\n",
    "\n",
    "miFuncion() # si no se pasan parametros, toma los predefinidos"
   ]
  },
  {
   "cell_type": "code",
   "execution_count": 184,
   "id": "248793ce",
   "metadata": {},
   "outputs": [
    {
     "data": {
      "text/plain": [
       "3"
      ]
     },
     "execution_count": 184,
     "metadata": {},
     "output_type": "execute_result"
    }
   ],
   "source": [
    "miFuncion(1,2) # Toma estas a y b que paso como parametros"
   ]
  },
  {
   "cell_type": "code",
   "execution_count": 185,
   "id": "154d3cf2",
   "metadata": {},
   "outputs": [
    {
     "data": {
      "text/plain": [
       "21"
      ]
     },
     "execution_count": 185,
     "metadata": {},
     "output_type": "execute_result"
    }
   ],
   "source": [
    "miFuncion(1) # Toma esta a y la b predefinida"
   ]
  },
  {
   "cell_type": "code",
   "execution_count": 201,
   "id": "25a9018b",
   "metadata": {},
   "outputs": [
    {
     "data": {
      "text/plain": [
       "11"
      ]
     },
     "execution_count": 201,
     "metadata": {},
     "output_type": "execute_result"
    }
   ],
   "source": [
    "miFuncion(b=1) # si solo quiero pasar el argumento b"
   ]
  },
  {
   "cell_type": "code",
   "execution_count": 202,
   "id": "daefa935",
   "metadata": {},
   "outputs": [
    {
     "data": {
      "text/plain": [
       "51"
      ]
     },
     "execution_count": 202,
     "metadata": {},
     "output_type": "execute_result"
    }
   ],
   "source": [
    "miFuncion(b=1, a=50) # Vigilar que no se estan pasando en el mismo orden en que estan en la funcion. \n",
    "                        # Esta indicado el valor para c/variable explicitamente."
   ]
  },
  {
   "cell_type": "markdown",
   "id": "729b9dee",
   "metadata": {},
   "source": [
    "* Funciones con argumentos variables"
   ]
  },
  {
   "cell_type": "code",
   "execution_count": 189,
   "id": "8e714361",
   "metadata": {},
   "outputs": [],
   "source": [
    "# Funciones con argumentos variables (no se sabe a priori cuantos argumentos recibira la funcion)\n",
    "\n",
    "def sumatorio (*vars): # lo incorpora como tupla \n",
    "    sum=0\n",
    "    for k in vars: # esta es la forma de recorrer la estructura que almacena las variables de entrada.\n",
    "        sum+=k\n",
    "    return sum"
   ]
  },
  {
   "cell_type": "code",
   "execution_count": 190,
   "id": "ff3bc0af",
   "metadata": {},
   "outputs": [
    {
     "data": {
      "text/plain": [
       "9"
      ]
     },
     "execution_count": 190,
     "metadata": {},
     "output_type": "execute_result"
    }
   ],
   "source": [
    "sumatorio(2,3,4)"
   ]
  },
  {
   "cell_type": "code",
   "execution_count": 191,
   "id": "019a7846",
   "metadata": {},
   "outputs": [
    {
     "data": {
      "text/plain": [
       "2"
      ]
     },
     "execution_count": 191,
     "metadata": {},
     "output_type": "execute_result"
    }
   ],
   "source": [
    "sumatorio(2)"
   ]
  },
  {
   "cell_type": "code",
   "execution_count": 206,
   "id": "04f11235",
   "metadata": {},
   "outputs": [
    {
     "data": {
      "text/plain": [
       "0"
      ]
     },
     "execution_count": 206,
     "metadata": {},
     "output_type": "execute_result"
    }
   ],
   "source": [
    "sumatorio() "
   ]
  },
  {
   "cell_type": "markdown",
   "id": "c785e378",
   "metadata": {},
   "source": [
    "* Funciones con argumento variable de tipo clave, valor"
   ]
  },
  {
   "cell_type": "code",
   "execution_count": 118,
   "id": "a9f6798f",
   "metadata": {},
   "outputs": [],
   "source": [
    "# Funciones con argumento variable de tipo clave, valor\n",
    "\n",
    "def personas(**keyvalues):\n",
    "    t=\"{\"\n",
    "    for k,v in keyvalues.items(): # Asi se recorren las variables de entrada en tipo clave, valor. Seria como una lista de items.\n",
    "        t+=str(k)+\":\"+str(v)+\",\"\n",
    "    t=t[0:len(t)-1]+\"}\" # Hay que quitar la ultima coma por eso es len-1\n",
    "    return t"
   ]
  },
  {
   "cell_type": "code",
   "execution_count": 119,
   "id": "fb6d5262",
   "metadata": {},
   "outputs": [
    {
     "data": {
      "text/plain": [
       "'{key:12343,password:Jdtt10,url:http://nada.com}'"
      ]
     },
     "execution_count": 119,
     "metadata": {},
     "output_type": "execute_result"
    }
   ],
   "source": [
    "personas(key=12343, password=\"Jdtt10\", url=\"http://nada.com\") # los argumentos clave/valor se separan con '='"
   ]
  },
  {
   "cell_type": "code",
   "execution_count": 120,
   "id": "f2a436d3",
   "metadata": {},
   "outputs": [
    {
     "data": {
      "text/plain": [
       "'}'"
      ]
     },
     "execution_count": 120,
     "metadata": {},
     "output_type": "execute_result"
    }
   ],
   "source": [
    "personas() # Aqui no se muestra la salida del todo bien. "
   ]
  },
  {
   "cell_type": "markdown",
   "id": "88e31f43",
   "metadata": {},
   "source": [
    "EJERCICIO: Modificar la funcion para que devuelva una cadena vacia si no se le pasan argumentos {}"
   ]
  },
  {
   "cell_type": "code",
   "execution_count": 162,
   "id": "3c91a8d0",
   "metadata": {},
   "outputs": [],
   "source": [
    "# Funciones con argumento variable de tipo clave, valor\n",
    "def personas(**keyvalues):\n",
    "    t=\"{\"\n",
    "    for k,v in keyvalues.items():\n",
    "        t+=str(k)+\":\"+str(v)+\",\" # Hay que quitar la ultima coma\n",
    "    t=t[0:len(t)]+\"}\"\n",
    "    return t.replace(',}','}') # Tambien se puede poner la llave de apertura en este punto en lugar de hacerlo al comienzo.\n",
    "                                # De esta manera '{'+t[0:len(t)-1]+'}'"
   ]
  },
  {
   "cell_type": "code",
   "execution_count": 164,
   "id": "3f191d36",
   "metadata": {},
   "outputs": [
    {
     "data": {
      "text/plain": [
       "'{}'"
      ]
     },
     "execution_count": 164,
     "metadata": {},
     "output_type": "execute_result"
    }
   ],
   "source": [
    "personas()"
   ]
  },
  {
   "cell_type": "code",
   "execution_count": 165,
   "id": "5814b4a6",
   "metadata": {},
   "outputs": [
    {
     "data": {
      "text/plain": [
       "'{key:12343,password:Jdtt10,url:http://nada.com}'"
      ]
     },
     "execution_count": 165,
     "metadata": {},
     "output_type": "execute_result"
    }
   ],
   "source": [
    "personas(key=12343, password=\"Jdtt10\", url=\"http://nada.com\")"
   ]
  },
  {
   "cell_type": "code",
   "execution_count": null,
   "id": "c3a62f32",
   "metadata": {},
   "outputs": [],
   "source": []
  },
  {
   "cell_type": "markdown",
   "id": "708c94fd",
   "metadata": {},
   "source": [
    "EJERCICIO: Modificar la funcion para que devuelva un DICCIONARIO en lugar de una cadena"
   ]
  },
  {
   "cell_type": "code",
   "execution_count": 181,
   "id": "f484532e",
   "metadata": {},
   "outputs": [],
   "source": [
    "def personas(**keyvalues):\n",
    "    dic={} # Creo el diccionario vacio\n",
    "    for k,v in keyvalues.items():\n",
    "        dic.update({k:v}) # no convierto a string, sino que cargo los datos tal cual entran puesto que podrian ser de cualquier tipo.\n",
    "    return dic\n"
   ]
  },
  {
   "cell_type": "code",
   "execution_count": 182,
   "id": "8981217a",
   "metadata": {},
   "outputs": [
    {
     "data": {
      "text/plain": [
       "{'key': 12343, 'password': 'Jdtt10', 'url': 'http://nada.com'}"
      ]
     },
     "execution_count": 182,
     "metadata": {},
     "output_type": "execute_result"
    }
   ],
   "source": [
    "personas(key=12343, password=\"Jdtt10\", url=\"http://nada.com\")"
   ]
  },
  {
   "cell_type": "code",
   "execution_count": 179,
   "id": "0cfc532a",
   "metadata": {},
   "outputs": [
    {
     "data": {
      "text/plain": [
       "dict"
      ]
     },
     "execution_count": 179,
     "metadata": {},
     "output_type": "execute_result"
    }
   ],
   "source": [
    "type(personas(key=12343, password=\"Jdtt10\", url=\"http://nada.com\"))"
   ]
  },
  {
   "cell_type": "code",
   "execution_count": 180,
   "id": "eebe4d13",
   "metadata": {},
   "outputs": [
    {
     "data": {
      "text/plain": [
       "{}"
      ]
     },
     "execution_count": 180,
     "metadata": {},
     "output_type": "execute_result"
    }
   ],
   "source": [
    "personas()"
   ]
  },
  {
   "cell_type": "code",
   "execution_count": null,
   "id": "dcabd478",
   "metadata": {},
   "outputs": [],
   "source": []
  },
  {
   "cell_type": "code",
   "execution_count": 146,
   "id": "72a4b07f",
   "metadata": {},
   "outputs": [],
   "source": [
    "# Otra version del ejercicio anterior (retorna string) \n",
    "def personas(**keyvalues):\n",
    "    t=\"{\"\n",
    "    for k,v in keyvalues.items():\n",
    "        t+=str(k)+\":\"+str(v)+','\n",
    "    t=t[0:len(t)-1]+'}'\n",
    "    if not keyvalues: # o len(keyvalues)==0\n",
    "        return '{}'\n",
    "    return t"
   ]
  },
  {
   "cell_type": "code",
   "execution_count": 147,
   "id": "1167ab32",
   "metadata": {},
   "outputs": [
    {
     "data": {
      "text/plain": [
       "'{}'"
      ]
     },
     "execution_count": 147,
     "metadata": {},
     "output_type": "execute_result"
    }
   ],
   "source": [
    "personas() # sale la cadena diccionario vacio como queriamos"
   ]
  },
  {
   "cell_type": "code",
   "execution_count": 148,
   "id": "15d2515f",
   "metadata": {},
   "outputs": [
    {
     "data": {
      "text/plain": [
       "'{key:12343,password:Jdtt10,url:http://nada.com}'"
      ]
     },
     "execution_count": 148,
     "metadata": {},
     "output_type": "execute_result"
    }
   ],
   "source": [
    "personas(key=12343, password=\"Jdtt10\", url=\"http://nada.com\")"
   ]
  },
  {
   "cell_type": "markdown",
   "id": "dcc28b41",
   "metadata": {},
   "source": [
    "#### Mixtas: argumentos simples (predefinidos o no), variables y variables de tipo k,v"
   ]
  },
  {
   "cell_type": "code",
   "execution_count": 225,
   "id": "cbbf3046",
   "metadata": {},
   "outputs": [],
   "source": [
    "def mixta(a,b=0,*vars, **keyvalues):\n",
    "    t=''\n",
    "    t+=str(a)+'-'\n",
    "    t+=str(b)+'-'\n",
    "    for k in vars:\n",
    "        t+=str(k)+'.'\n",
    "    t=t[:-1] # sin el ultimo .\n",
    "    for k,v in keyvalues.items():\n",
    "        t+=str(c)+':'+str(v)+'_'\n",
    "    t=t[:-1] # para quitar el ultimo _\n",
    "    return t"
   ]
  },
  {
   "cell_type": "code",
   "execution_count": 226,
   "id": "af6ad2d9",
   "metadata": {},
   "outputs": [
    {
     "data": {
      "text/plain": [
       "'h-'"
      ]
     },
     "execution_count": 226,
     "metadata": {},
     "output_type": "execute_result"
    }
   ],
   "source": [
    "mixta('h')"
   ]
  },
  {
   "cell_type": "markdown",
   "id": "ec4dc225",
   "metadata": {},
   "source": [
    "### Funciones segun anonimato de la funcion"
   ]
  },
  {
   "cell_type": "markdown",
   "id": "491f5283",
   "metadata": {},
   "source": [
    "* FUNCIONES NO ANONIMAS: Son las que tienen nombre"
   ]
  },
  {
   "cell_type": "code",
   "execution_count": 246,
   "id": "6d3ab8ae",
   "metadata": {},
   "outputs": [],
   "source": [
    "def saludar():\n",
    "    return 'Hola'"
   ]
  },
  {
   "cell_type": "code",
   "execution_count": 247,
   "id": "3e9f8d79",
   "metadata": {},
   "outputs": [
    {
     "data": {
      "text/plain": [
       "'Hola'"
      ]
     },
     "execution_count": 247,
     "metadata": {},
     "output_type": "execute_result"
    }
   ],
   "source": [
    "saludar()"
   ]
  },
  {
   "cell_type": "code",
   "execution_count": 22,
   "id": "c6c11cbf",
   "metadata": {},
   "outputs": [
    {
     "data": {
      "text/plain": [
       "[4, 6, 1]"
      ]
     },
     "execution_count": 22,
     "metadata": {},
     "output_type": "execute_result"
    }
   ],
   "source": [
    "def Fmedia (l:list) -> list:\n",
    "    return [sum(a)//len(a) for a in l] # hago // division entera para que devuelva int\n",
    "\n",
    "l=[[2,4,6],[7,2,9],[1,1,1]]\n",
    "Fmedia(l)"
   ]
  },
  {
   "cell_type": "markdown",
   "id": "5ebaa1bb",
   "metadata": {},
   "source": [
    "* FUNCIONES ANONIMAS: Son las que NO tienen nombre. Funciones LAMBDA"
   ]
  },
  {
   "cell_type": "markdown",
   "id": "2c3331f4",
   "metadata": {},
   "source": [
    "Las funciones que no tienen cuerpo (como la siguiente) se pueden escribir como funciones lambda"
   ]
  },
  {
   "cell_type": "code",
   "execution_count": 25,
   "id": "db5b7790",
   "metadata": {},
   "outputs": [
    {
     "data": {
      "text/plain": [
       "[4, 6, 1]"
      ]
     },
     "execution_count": 25,
     "metadata": {},
     "output_type": "execute_result"
    }
   ],
   "source": [
    "# Calculo de las medias con funcion lambda\n",
    "ll= lambda a: [sum(a)//len(a) for a in l] # el calculo es el mismo que en la funcion Fmedia(). Es una lista por compresion.\n",
    "ll(l)"
   ]
  },
  {
   "cell_type": "code",
   "execution_count": null,
   "id": "4f4123d4",
   "metadata": {},
   "outputs": [],
   "source": []
  },
  {
   "cell_type": "code",
   "execution_count": 248,
   "id": "468f3d8d",
   "metadata": {},
   "outputs": [],
   "source": [
    "def sumar(a,b):\n",
    "    return a+b"
   ]
  },
  {
   "cell_type": "code",
   "execution_count": 250,
   "id": "1cb060f4",
   "metadata": {},
   "outputs": [],
   "source": [
    "x=lambda a,b: a+b # Funcion lambda sin evaluar"
   ]
  },
  {
   "cell_type": "code",
   "execution_count": 251,
   "id": "83d2ae2f",
   "metadata": {},
   "outputs": [
    {
     "data": {
      "text/plain": [
       "5"
      ]
     },
     "execution_count": 251,
     "metadata": {},
     "output_type": "execute_result"
    }
   ],
   "source": [
    "x(2,3) # Se instancia la funcion mediante la variable donde la almacenamos y los argumentos se pasan entre ()"
   ]
  },
  {
   "cell_type": "code",
   "execution_count": 253,
   "id": "d3d8098a",
   "metadata": {},
   "outputs": [
    {
     "data": {
      "text/plain": [
       "5"
      ]
     },
     "execution_count": 253,
     "metadata": {},
     "output_type": "execute_result"
    }
   ],
   "source": [
    "# Llamada a una Funcion lambda evaluada (con argumentos)\n",
    "\n",
    "y=(lambda a,b: a+b)(2,3) # argumentos predefinidos\n",
    "y  # es la funcion evaluada con los parametros predefinidos. NO es que almacene el 1. Es la funcion con parametros predefinidos."
   ]
  },
  {
   "cell_type": "code",
   "execution_count": 265,
   "id": "41929f96",
   "metadata": {},
   "outputs": [],
   "source": [
    "# Funcion lambda con argumentos variables\n",
    "\n",
    "p=lambda *vars: sum(vars)"
   ]
  },
  {
   "cell_type": "code",
   "execution_count": 266,
   "id": "f7a0cd92",
   "metadata": {},
   "outputs": [
    {
     "data": {
      "text/plain": [
       "14"
      ]
     },
     "execution_count": 266,
     "metadata": {},
     "output_type": "execute_result"
    }
   ],
   "source": [
    "p(2,3,4,5)"
   ]
  },
  {
   "cell_type": "code",
   "execution_count": 267,
   "id": "9f4baffb",
   "metadata": {},
   "outputs": [],
   "source": [
    "# Funcion lambda con argumentos variables de tipo clave/valor\n",
    "q= lambda **keyvalues: sum(keyvalues.values())\n"
   ]
  },
  {
   "cell_type": "code",
   "execution_count": 270,
   "id": "9078cb69",
   "metadata": {},
   "outputs": [
    {
     "data": {
      "text/plain": [
       "14"
      ]
     },
     "execution_count": 270,
     "metadata": {},
     "output_type": "execute_result"
    }
   ],
   "source": [
    "q(a=2,b=3,c=4,d=5)"
   ]
  },
  {
   "cell_type": "code",
   "execution_count": null,
   "id": "c6aeacf5",
   "metadata": {},
   "outputs": [],
   "source": []
  },
  {
   "cell_type": "markdown",
   "id": "bb4673e4",
   "metadata": {},
   "source": [
    "* Funciones mixtas: "
   ]
  },
  {
   "cell_type": "code",
   "execution_count": 254,
   "id": "1fe11aa1",
   "metadata": {},
   "outputs": [
    {
     "data": {
      "text/plain": [
       "5"
      ]
     },
     "execution_count": 254,
     "metadata": {},
     "output_type": "execute_result"
    }
   ],
   "source": [
    "def miFuncion(funcion_lambda): # funcion no anonima que recibe como argumento una funcion lambda (anonima)\n",
    "    return funcion_lambda(2,3)\n",
    "\n",
    "miFuncion(lambda a,b: a+b) # aqui paso la funcion lambda como argumento a miFuncion "
   ]
  },
  {
   "cell_type": "code",
   "execution_count": 255,
   "id": "b79d274f",
   "metadata": {},
   "outputs": [
    {
     "data": {
      "text/plain": [
       "5"
      ]
     },
     "execution_count": 255,
     "metadata": {},
     "output_type": "execute_result"
    }
   ],
   "source": [
    "miFuncion(x) # lo mismo pero pasando la funcion lambda como variable. La funcion lambda x esta definida mas arriba."
   ]
  },
  {
   "cell_type": "code",
   "execution_count": 261,
   "id": "6ab445b3",
   "metadata": {},
   "outputs": [],
   "source": [
    "def resta(a,b):\n",
    "    return b-a"
   ]
  },
  {
   "cell_type": "code",
   "execution_count": 262,
   "id": "f2903bca",
   "metadata": {},
   "outputs": [],
   "source": [
    "z=lambda y,v: resta(y,v) # Funcion anonima que contiene una funcion no anonima en su codigo"
   ]
  },
  {
   "cell_type": "code",
   "execution_count": 264,
   "id": "17813d4e",
   "metadata": {},
   "outputs": [
    {
     "data": {
      "text/plain": [
       "1"
      ]
     },
     "execution_count": 264,
     "metadata": {},
     "output_type": "execute_result"
    }
   ],
   "source": [
    "z(2,3)"
   ]
  },
  {
   "cell_type": "markdown",
   "id": "01e806d2",
   "metadata": {},
   "source": [
    "EJERCICIO: Ej_MediaTemperaturas en otro fichero."
   ]
  },
  {
   "cell_type": "markdown",
   "id": "a3e37f95",
   "metadata": {},
   "source": [
    "### Tipos de funciones segun pila de ejecucion"
   ]
  },
  {
   "cell_type": "markdown",
   "id": "46868e8b",
   "metadata": {},
   "source": [
    "* Directas: aquellas que pueden o no llamar a funciones para ejecutar la totalidad de su cuerpo"
   ]
  },
  {
   "cell_type": "code",
   "execution_count": 56,
   "id": "d0cfab84",
   "metadata": {},
   "outputs": [],
   "source": [
    "def f1():\n",
    "    print('Inicia F1')\n",
    "    f2()\n",
    "    print('Finaliza F1')\n",
    "\n",
    "def f2():\n",
    "    print(\"Inicia F2\")\n",
    "    f3()\n",
    "    print(\"Finaliza F2\")\n",
    "def f3():\n",
    "    print(\"Inicia F3\")\n",
    "    print(\"Finaliza F3\")\n",
    "\n",
    "# Aunque la logica indica definir primero f3, luego f2 y por ultimo f1:    \n",
    "# En la definicion de estas funciones python no arroja error, puesto que solo las esta definiendo. \n",
    "# En tiempo de ejecucion todas ellas ya estaran declaradas con lo cual tampoco dan error.\n",
    "# Si da error una funcion que llama a otra funcion que no esta declarada, pero en este caso todas los estan.\n",
    "\n",
    "# Observar el orden de ejecucion y las salidas obtenidas: "
   ]
  },
  {
   "cell_type": "code",
   "execution_count": 57,
   "id": "047500c5",
   "metadata": {},
   "outputs": [
    {
     "name": "stdout",
     "output_type": "stream",
     "text": [
      "Inicia F1\n",
      "Inicia F2\n",
      "Inicia F3\n",
      "Finaliza F3\n",
      "Finaliza F2\n",
      "Finaliza F1\n"
     ]
    }
   ],
   "source": [
    "f1()"
   ]
  },
  {
   "cell_type": "code",
   "execution_count": null,
   "id": "94ba8c3e",
   "metadata": {},
   "outputs": [],
   "source": []
  },
  {
   "cell_type": "code",
   "execution_count": null,
   "id": "52463955",
   "metadata": {},
   "outputs": [],
   "source": []
  },
  {
   "cell_type": "markdown",
   "id": "ff6ae1fd",
   "metadata": {},
   "source": [
    "* Recursivas: son funciones que se llaman a si mismas para ejecutar la totalidad del proceso."
   ]
  },
  {
   "cell_type": "code",
   "execution_count": 14,
   "id": "2dac1868",
   "metadata": {},
   "outputs": [],
   "source": [
    "def factorialRecursivo(n):\n",
    "    if n==1:\n",
    "        return 1\n",
    "    else:\n",
    "        return n*factorialRecursivo(n-1)"
   ]
  },
  {
   "cell_type": "code",
   "execution_count": 15,
   "id": "fcce9235",
   "metadata": {},
   "outputs": [
    {
     "data": {
      "text/plain": [
       "24"
      ]
     },
     "execution_count": 15,
     "metadata": {},
     "output_type": "execute_result"
    }
   ],
   "source": [
    "factorialRecursivo(4)"
   ]
  },
  {
   "cell_type": "markdown",
   "id": "1f6cdb19",
   "metadata": {},
   "source": [
    "EJERCICIO: Desarrollar una funcion recursiva que pase un valor por parametro y esta a base de llamarse a si misma realice la suma de los dos numeros anteriores empezando desde el 0 hasta llegar al valor pasado por parametro."
   ]
  },
  {
   "cell_type": "code",
   "execution_count": 18,
   "id": "9e033e84",
   "metadata": {},
   "outputs": [],
   "source": [
    "def fibonacci(n: int) -> int:\n",
    "    \"\"\"\n",
    "    USO:\n",
    "        Devuelve el resultado de la serie de Fibonacci del numero pasado como parametro.\n",
    "    ARGUMENTOS:\n",
    "        n [int]: numero para el calculo de la serie.\n",
    "    VARIABLES:\n",
    "    FUNCIONES: \n",
    "        Fibonacci (funcion recursiva)\n",
    "    RETURN:\n",
    "         [int]: Numero de la serie de Fibonacci en etapa n.\n",
    "    \"\"\"\n",
    "    if n==1 or n==2: # otra opcion n<=1: return n \n",
    "        return 1\n",
    "    else:\n",
    "        return fibonacci(n-1)+fibonacci(n-2)"
   ]
  },
  {
   "cell_type": "code",
   "execution_count": 19,
   "id": "beeb2227",
   "metadata": {},
   "outputs": [
    {
     "data": {
      "text/plain": [
       "13"
      ]
     },
     "execution_count": 19,
     "metadata": {},
     "output_type": "execute_result"
    }
   ],
   "source": [
    "fibonacci(7)"
   ]
  },
  {
   "cell_type": "code",
   "execution_count": 20,
   "id": "7f68bdd8",
   "metadata": {},
   "outputs": [
    {
     "name": "stdout",
     "output_type": "stream",
     "text": [
      "\n",
      "    USO:\n",
      "        Devuelve el resultado de la serie de Fibonacci del numero pasado como parametro.\n",
      "    ARGUMENTOS:\n",
      "        n [int]: numero para el calculo de la serie.\n",
      "    VARIABLES:\n",
      "    FUNCIONES: Fibonacci (funcion recursiva)\n",
      "    RETURN:\n",
      "        fibonacci(n-1)+fibonacci(n-2) [int]: Resultado de la serie de Fibonacci.\n",
      "    \n"
     ]
    }
   ],
   "source": [
    "print(fibonacci.__doc__)"
   ]
  },
  {
   "cell_type": "code",
   "execution_count": 21,
   "id": "5c2bb491",
   "metadata": {},
   "outputs": [
    {
     "name": "stdout",
     "output_type": "stream",
     "text": [
      "{'n': <class 'int'>, 'return': <class 'int'>}\n"
     ]
    }
   ],
   "source": [
    "print(fibonacci.__annotations__)"
   ]
  },
  {
   "cell_type": "markdown",
   "id": "ca794cac",
   "metadata": {},
   "source": [
    "<img src=\"Ej_FibonacciRecursivaD.png\">"
   ]
  },
  {
   "cell_type": "markdown",
   "id": "c4808b78",
   "metadata": {},
   "source": [
    "### Segun el nivel de ejecucion. Funciones especiales de alto nivel para operar con LISTAS."
   ]
  },
  {
   "cell_type": "markdown",
   "id": "2fa1fcd1",
   "metadata": {},
   "source": [
    "\n",
    "* Filter(): funcion de alto nivel cuya finalidad es filtrar los datos y decidir (en base a la logica programada) si aplica o no la funcion asociada "
   ]
  },
  {
   "cell_type": "code",
   "execution_count": 44,
   "id": "5586d7a7",
   "metadata": {},
   "outputs": [
    {
     "data": {
      "text/plain": [
       "[0, 1, 2, 3, 4, 5, 6, 7, 8, 9]"
      ]
     },
     "execution_count": 44,
     "metadata": {},
     "output_type": "execute_result"
    }
   ],
   "source": [
    "def par(n):\n",
    "    if n%2==0:\n",
    "        return True\n",
    "l=list(range(10))\n",
    "l"
   ]
  },
  {
   "cell_type": "code",
   "execution_count": 45,
   "id": "f6ac31e7",
   "metadata": {},
   "outputs": [
    {
     "data": {
      "text/plain": [
       "[0, 2, 4, 6, 8]"
      ]
     },
     "execution_count": 45,
     "metadata": {},
     "output_type": "execute_result"
    }
   ],
   "source": [
    "list(filter(par,l)) # Solo devuelve si True. Aplica la funcion 'par' a la lista l y devuelve los casos en que la funcion devuelve True"
   ]
  },
  {
   "cell_type": "code",
   "execution_count": 46,
   "id": "0d78e178",
   "metadata": {},
   "outputs": [
    {
     "data": {
      "text/plain": [
       "[0, 2, 4, 6, 8]"
      ]
     },
     "execution_count": 46,
     "metadata": {},
     "output_type": "execute_result"
    }
   ],
   "source": [
    "list(filter(lambda b: b%2==0, l)) # con funcion lambda igual que lo anterior filter solo devuelve si se cumple la condicion"
   ]
  },
  {
   "cell_type": "markdown",
   "id": "8d8b951e",
   "metadata": {},
   "source": [
    "\n",
    "* Map(): funcion de alto nivel cuya finalidad es aplicar a todos los datos de la lista una funcion asociada. "
   ]
  },
  {
   "cell_type": "code",
   "execution_count": 47,
   "id": "98e9e1bb",
   "metadata": {},
   "outputs": [
    {
     "data": {
      "text/plain": [
       "[0, 1, 2, 3, 4, 5, 6, 7, 8, 9]"
      ]
     },
     "execution_count": 47,
     "metadata": {},
     "output_type": "execute_result"
    }
   ],
   "source": [
    "def triplicar(n):\n",
    "    return 3*n\n",
    "l=list(range(10))\n",
    "l"
   ]
  },
  {
   "cell_type": "code",
   "execution_count": 48,
   "id": "40160b68",
   "metadata": {},
   "outputs": [
    {
     "data": {
      "text/plain": [
       "[0, 3, 6, 9, 12, 15, 18, 21, 24, 27]"
      ]
     },
     "execution_count": 48,
     "metadata": {},
     "output_type": "execute_result"
    }
   ],
   "source": [
    "list(map(triplicar,l)) # aplica a todos los elementos de la lista la funcion triplicar. La funcion debe devolver un resultado."
   ]
  },
  {
   "cell_type": "code",
   "execution_count": 49,
   "id": "7ecfccfd",
   "metadata": {},
   "outputs": [
    {
     "data": {
      "text/plain": [
       "[0, 3, 6, 9, 12, 15, 18, 21, 24, 27]"
      ]
     },
     "execution_count": 49,
     "metadata": {},
     "output_type": "execute_result"
    }
   ],
   "source": [
    "list(map(lambda b: 3*b, l)) # lo mismo con lambda"
   ]
  },
  {
   "cell_type": "code",
   "execution_count": 50,
   "id": "eee82223",
   "metadata": {},
   "outputs": [],
   "source": [
    "a=[0, 1, 2, 3, 4, 5, 6, 7, 8, 9]"
   ]
  },
  {
   "cell_type": "code",
   "execution_count": 51,
   "id": "9ad01316",
   "metadata": {},
   "outputs": [],
   "source": [
    "l=[10,11,12,13,14,15,16,17,18,19]"
   ]
  },
  {
   "cell_type": "code",
   "execution_count": 52,
   "id": "7f627d99",
   "metadata": {},
   "outputs": [
    {
     "data": {
      "text/plain": [
       "([0, 1, 2, 3, 4, 5, 6, 7, 8, 9], [10, 11, 12, 13, 14, 15, 16, 17, 18, 19])"
      ]
     },
     "execution_count": 52,
     "metadata": {},
     "output_type": "execute_result"
    }
   ],
   "source": [
    "a,l"
   ]
  },
  {
   "cell_type": "code",
   "execution_count": 55,
   "id": "6a069517",
   "metadata": {},
   "outputs": [
    {
     "ename": "TypeError",
     "evalue": "can't multiply sequence by non-int of type 'list'",
     "output_type": "error",
     "traceback": [
      "\u001b[1;31m---------------------------------------------------------------------------\u001b[0m",
      "\u001b[1;31mTypeError\u001b[0m                                 Traceback (most recent call last)",
      "\u001b[1;32m~\\AppData\\Local\\Temp/ipykernel_8084/2706881597.py\u001b[0m in \u001b[0;36m<module>\u001b[1;34m\u001b[0m\n\u001b[0;32m      1\u001b[0m \u001b[1;31m# No se puede multiplicar listas elemento a elemento\u001b[0m\u001b[1;33m\u001b[0m\u001b[1;33m\u001b[0m\u001b[0m\n\u001b[1;32m----> 2\u001b[1;33m \u001b[0ma\u001b[0m\u001b[1;33m*\u001b[0m\u001b[0ml\u001b[0m\u001b[1;33m\u001b[0m\u001b[1;33m\u001b[0m\u001b[0m\n\u001b[0m",
      "\u001b[1;31mTypeError\u001b[0m: can't multiply sequence by non-int of type 'list'"
     ]
    }
   ],
   "source": [
    "# No se puede multiplicar listas elemento a elemento\n",
    "a*l  # para eso uso map"
   ]
  },
  {
   "cell_type": "code",
   "execution_count": 54,
   "id": "651248f8",
   "metadata": {},
   "outputs": [
    {
     "data": {
      "text/plain": [
       "[10, 12, 14, 16, 18, 20, 22, 24, 26, 28]"
      ]
     },
     "execution_count": 54,
     "metadata": {},
     "output_type": "execute_result"
    }
   ],
   "source": [
    "list(map(lambda x,y : x+y, a,l)) # Para sumar uno a uno los elementos de dos listas del mismo tamaño (sino supongo que da error)\n",
    "# map('funcion en este caso es una lambda-> valor1, valor2 : operacion' , lista/s sobre las que va a operar map )\n",
    "# luego tengo que indicar que lo ponga en una lista con list()"
   ]
  },
  {
   "cell_type": "markdown",
   "id": "527e5a54",
   "metadata": {},
   "source": [
    "### Decoradores\n",
    "* Son funciones de alto nivel que modifican el comportamiento de otra funcion y se representan con @\n",
    "* Ejemplos de uso: decoradores para gestionar logs (crearlos, almacenarlos), para conectar en BBDD remotas (se envia usuario y password junto con la consulta a ejecutar en la BBDD remota y se retorna el resultado de la ejecucion de dicha consulta."
   ]
  },
  {
   "cell_type": "code",
   "execution_count": 1,
   "id": "e9d5a563",
   "metadata": {},
   "outputs": [],
   "source": [
    "def miDecorador(funcion):\n",
    "    def nuevaFuncion(a,b):\n",
    "        print(\"Llamada a la funcion\")\n",
    "        c=funcion(a,b)\n",
    "        print(\"Fin de la funcion\")\n",
    "        return c\n",
    "    return nuevaFuncion"
   ]
  },
  {
   "cell_type": "code",
   "execution_count": 2,
   "id": "3caf0680",
   "metadata": {},
   "outputs": [],
   "source": [
    "@miDecorador\n",
    "def suma(a,b):\n",
    "    return a+b"
   ]
  },
  {
   "cell_type": "code",
   "execution_count": 3,
   "id": "4a7c39ac",
   "metadata": {},
   "outputs": [
    {
     "name": "stdout",
     "output_type": "stream",
     "text": [
      "Llamada a la funcion\n",
      "Fin de la funcion\n"
     ]
    },
    {
     "data": {
      "text/plain": [
       "13"
      ]
     },
     "execution_count": 3,
     "metadata": {},
     "output_type": "execute_result"
    }
   ],
   "source": [
    "suma(5,8)"
   ]
  },
  {
   "cell_type": "code",
   "execution_count": 4,
   "id": "11a6f10e",
   "metadata": {},
   "outputs": [],
   "source": [
    "@miDecorador\n",
    "def resta(c,d):\n",
    "    return d-c"
   ]
  },
  {
   "cell_type": "code",
   "execution_count": 5,
   "id": "77b98fe7",
   "metadata": {},
   "outputs": [
    {
     "name": "stdout",
     "output_type": "stream",
     "text": [
      "Llamada a la funcion\n",
      "Fin de la funcion\n"
     ]
    },
    {
     "data": {
      "text/plain": [
       "2"
      ]
     },
     "execution_count": 5,
     "metadata": {},
     "output_type": "execute_result"
    }
   ],
   "source": [
    "resta(8,10)"
   ]
  },
  {
   "cell_type": "markdown",
   "id": "9812bdca",
   "metadata": {},
   "source": [
    "### Otra forma para DECORAR sin @\n",
    "\n",
    "* En lugar del decorar @, utilizamos las propiedades de asignacion "
   ]
  },
  {
   "cell_type": "code",
   "execution_count": 7,
   "id": "f2033778",
   "metadata": {},
   "outputs": [],
   "source": [
    "def decorador(f):\n",
    "    def envoltorio (a,b):\n",
    "        print (\"Llamada a la funcion\")\n",
    "        c=f(a,b)\n",
    "        print(\"Fin de la funcion\")\n",
    "        return c\n",
    "    return envoltorio\n",
    "\n",
    "def multiplicacion(x,y):\n",
    "    return x*y"
   ]
  },
  {
   "cell_type": "code",
   "execution_count": 8,
   "id": "f1b8c75c",
   "metadata": {},
   "outputs": [
    {
     "name": "stdout",
     "output_type": "stream",
     "text": [
      "Llamada a la funcion\n",
      "Fin de la funcion\n"
     ]
    },
    {
     "data": {
      "text/plain": [
       "6"
      ]
     },
     "execution_count": 8,
     "metadata": {},
     "output_type": "execute_result"
    }
   ],
   "source": [
    "f_decorada=decorador(multiplicacion)\n",
    "f_decorada(2,3)"
   ]
  },
  {
   "cell_type": "code",
   "execution_count": null,
   "id": "8a0e2a3c",
   "metadata": {},
   "outputs": [],
   "source": []
  },
  {
   "cell_type": "markdown",
   "id": "7f0fdafa",
   "metadata": {},
   "source": [
    "Teoria: \n",
    "* Una matriz es una lista anidada que contiene listas del mismo tamaño (regulares). \n",
    "* Otras listas anidadas irregulares contienen listas de distinto tamaño."
   ]
  },
  {
   "cell_type": "markdown",
   "id": "59245d26",
   "metadata": {},
   "source": [
    "Teoria: \n",
    "* Las funciones sin return devuelven None"
   ]
  },
  {
   "cell_type": "code",
   "execution_count": null,
   "id": "3e15643f",
   "metadata": {},
   "outputs": [],
   "source": []
  },
  {
   "cell_type": "code",
   "execution_count": null,
   "id": "5a111cc1",
   "metadata": {},
   "outputs": [],
   "source": []
  }
 ],
 "metadata": {
  "kernelspec": {
   "display_name": "Python 3 (ipykernel)",
   "language": "python",
   "name": "python3"
  },
  "language_info": {
   "codemirror_mode": {
    "name": "ipython",
    "version": 3
   },
   "file_extension": ".py",
   "mimetype": "text/x-python",
   "name": "python",
   "nbconvert_exporter": "python",
   "pygments_lexer": "ipython3",
   "version": "3.9.13"
  }
 },
 "nbformat": 4,
 "nbformat_minor": 5
}
