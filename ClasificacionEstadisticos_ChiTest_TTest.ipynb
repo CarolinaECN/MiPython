{
 "cells": [
  {
   "cell_type": "markdown",
   "id": "1232b523",
   "metadata": {},
   "source": [
    "## Utilizacion de Xi cuadrado y t-Test \n",
    "\n",
    "\n",
    "\n",
    "* PARA ESTIMAR LA RELACION ENTRE VARIABLES CUALITATIVAS (chi-test) Y DE VARIABLES CUANTITATIVAS CON CUALITATIVAS (t-test)\n",
    "\n",
    "Dado que la correlacion solo nos calcula para variables cuantitativas, tanto discretas como continuas, pero no para cualitativas. Solo sirven para numericas.\n",
    "\n",
    "ESTE ANALISIS HA DE HACERSE PREVIO A SELECCIONAR VARIABLES PREDICTORAS CUALITATIVAS PARA CREAR UN MODELO O CUANDO LA VARIABLE OBJETIVO DEL MODELO ES CUALITATIVA."
   ]
  },
  {
   "cell_type": "markdown",
   "id": "8f43528d",
   "metadata": {},
   "source": [
    "* Chi cuadrado\n",
    "\n",
    "Es un procedimiento estadístico utilizado para examinar las diferencias entre variables categóricas en la misma población.\n",
    "\n",
    "Prueba de chi-cuadrado(de Pearson o prueba exacta de Fisher) para la independencia: le permite probar si existe o no una asociación estadísticamente significativa entre dos variables categóricas. \n"
   ]
  },
  {
   "cell_type": "markdown",
   "id": "29e2f2d0",
   "metadata": {},
   "source": [
    "* T-test\n",
    "\n",
    "Del mismo modo que Chi cuadrado, permite probar si existe relacion entre una variable categorica y otra cuantitativa.\n",
    "\n",
    "Se usa para averiguar si hay una diferencia real entre las medias (promedios) de dos grupos diferentes. "
   ]
  },
  {
   "cell_type": "markdown",
   "id": "059d16af",
   "metadata": {},
   "source": [
    "###### Estos test plantean dos hipotesis, H0 las variables son independientes y H1 las variables estan relacionadas.\n",
    "\n",
    "Cuando rechaza la hipótesis nula de una prueba de chi-cuadrado o de t-test para la independencia, significa que hay una asociación significativa entre las dos variables.\n",
    "\n",
    "* La forma de interpretar la salida de los test es la siguiente:\n",
    "\n",
    "\n",
    "Las pruebas de independencia de chi-cuadrado y t-test utilizan las siguientes hipótesis: nulas y alternativa\n",
    "\n",
    "    - H 0 : (hipótesis nula) Las dos variables son independientes. La aceptamos cuando p-valor > umbral (0,05)\n",
    "    - H 1 : (hipótesis alternativa) Las dos variables son dependientes. La aceptamos cuando p-valor < umbral (0,05)\n",
    "\n",
    "\n"
   ]
  },
  {
   "cell_type": "code",
   "execution_count": 2,
   "id": "5b31c47d",
   "metadata": {},
   "outputs": [],
   "source": [
    "import pandas as pd\n",
    "import numpy as np\n",
    "import random\n",
    "from numpy.random import seed\n",
    "from numpy.random import randn\n",
    "from scipy.stats import t\n",
    "from scipy.stats import chi2\n",
    "from scipy.stats import ttest_ind\n",
    "import scipy.stats as stats"
   ]
  },
  {
   "cell_type": "code",
   "execution_count": 3,
   "id": "fa0e2f10",
   "metadata": {},
   "outputs": [],
   "source": [
    "import scipy"
   ]
  },
  {
   "cell_type": "markdown",
   "id": "cbb5b67b",
   "metadata": {},
   "source": [
    "### T-test para variables cualitativa vs cuantitativa"
   ]
  },
  {
   "cell_type": "markdown",
   "id": "7c0718d2",
   "metadata": {},
   "source": [
    "Peso ~ genero"
   ]
  },
  {
   "cell_type": "code",
   "execution_count": 4,
   "id": "d64ffa84",
   "metadata": {},
   "outputs": [
    {
     "data": {
      "text/html": [
       "<div>\n",
       "<style scoped>\n",
       "    .dataframe tbody tr th:only-of-type {\n",
       "        vertical-align: middle;\n",
       "    }\n",
       "\n",
       "    .dataframe tbody tr th {\n",
       "        vertical-align: top;\n",
       "    }\n",
       "\n",
       "    .dataframe thead th {\n",
       "        text-align: right;\n",
       "    }\n",
       "</style>\n",
       "<table border=\"1\" class=\"dataframe\">\n",
       "  <thead>\n",
       "    <tr style=\"text-align: right;\">\n",
       "      <th></th>\n",
       "      <th>mujer</th>\n",
       "      <th>hombre</th>\n",
       "    </tr>\n",
       "  </thead>\n",
       "  <tbody>\n",
       "    <tr>\n",
       "      <th>0</th>\n",
       "      <td>89</td>\n",
       "      <td>31</td>\n",
       "    </tr>\n",
       "    <tr>\n",
       "      <th>1</th>\n",
       "      <td>42</td>\n",
       "      <td>42</td>\n",
       "    </tr>\n",
       "    <tr>\n",
       "      <th>2</th>\n",
       "      <td>54</td>\n",
       "      <td>137</td>\n",
       "    </tr>\n",
       "    <tr>\n",
       "      <th>3</th>\n",
       "      <td>11</td>\n",
       "      <td>135</td>\n",
       "    </tr>\n",
       "    <tr>\n",
       "      <th>4</th>\n",
       "      <td>62</td>\n",
       "      <td>47</td>\n",
       "    </tr>\n",
       "    <tr>\n",
       "      <th>5</th>\n",
       "      <td>67</td>\n",
       "      <td>148</td>\n",
       "    </tr>\n",
       "    <tr>\n",
       "      <th>6</th>\n",
       "      <td>97</td>\n",
       "      <td>105</td>\n",
       "    </tr>\n",
       "    <tr>\n",
       "      <th>7</th>\n",
       "      <td>39</td>\n",
       "      <td>73</td>\n",
       "    </tr>\n",
       "    <tr>\n",
       "      <th>8</th>\n",
       "      <td>58</td>\n",
       "      <td>52</td>\n",
       "    </tr>\n",
       "    <tr>\n",
       "      <th>9</th>\n",
       "      <td>77</td>\n",
       "      <td>73</td>\n",
       "    </tr>\n",
       "  </tbody>\n",
       "</table>\n",
       "</div>"
      ],
      "text/plain": [
       "   mujer  hombre\n",
       "0     89      31\n",
       "1     42      42\n",
       "2     54     137\n",
       "3     11     135\n",
       "4     62      47\n",
       "5     67     148\n",
       "6     97     105\n",
       "7     39      73\n",
       "8     58      52\n",
       "9     77      73"
      ]
     },
     "execution_count": 4,
     "metadata": {},
     "output_type": "execute_result"
    }
   ],
   "source": [
    "seed=1987\n",
    "df=pd.DataFrame({'mujer':np.random.randint(10,100, size=10), 'hombre':np.random.randint(10,150,size=10)})\n",
    "df\n",
    "\n",
    "# Las columnas son los grupos por variable cualitativa\n",
    "\n",
    "# Tenemos 20 personas, 10 en cada grupo. Esta compensada"
   ]
  },
  {
   "cell_type": "code",
   "execution_count": 5,
   "id": "7d500551",
   "metadata": {},
   "outputs": [
    {
     "data": {
      "text/plain": [
       "Ttest_indResult(statistic=-1.5481068215082212, pvalue=0.1389987346540685)"
      ]
     },
     "execution_count": 5,
     "metadata": {},
     "output_type": "execute_result"
    }
   ],
   "source": [
    "ttest_ind(df['mujer'],df['hombre'])"
   ]
  },
  {
   "cell_type": "code",
   "execution_count": 6,
   "id": "bb9e8a65",
   "metadata": {},
   "outputs": [
    {
     "name": "stdout",
     "output_type": "stream",
     "text": [
      "Ttest_indResult(statistic=-1.5481068215082212, pvalue=0.1389987346540685)\n",
      "\n",
      "P-valor 0.1389987346540685 \n",
      "\n",
      "Aceptamos H0: Las variables son independientes\n"
     ]
    }
   ],
   "source": [
    "riesgo=0.05\n",
    "p_value=ttest_ind(df['mujer'],df['hombre']) # variable trim para indicar el nivel de riesgo por defecto 0,05\n",
    "print (p_value)\n",
    "print('\\nP-valor',p_value[1],'\\n')\n",
    "if p_value[1]>riesgo:\n",
    "    print('Aceptamos H0: Las variables son independientes')\n",
    "else:\n",
    "    print('Rechazamos H0, aceptamos H1: Las variables tienen dependencia')"
   ]
  },
  {
   "cell_type": "markdown",
   "id": "2f571907",
   "metadata": {},
   "source": [
    "##### Otro ejemplo de t-test"
   ]
  },
  {
   "cell_type": "code",
   "execution_count": 7,
   "id": "b861ca35",
   "metadata": {},
   "outputs": [],
   "source": [
    "# Metodos de estudio y resultados obtenidos\n",
    "\n",
    "df = pd.DataFrame({'method': ['A', 'A', 'A', 'A', 'A', 'A', 'A', 'A', 'A', 'A',\n",
    "                              'B', 'B', 'B', 'B', 'B', 'B', 'B', 'B', 'B', 'B'],\n",
    "                   'score': [71, 72, 72, 75, 78, 81, 82, 83, 89, 91, 80, 81, 81,\n",
    "                             84, 88, 88, 89, 90, 90, 91]})"
   ]
  },
  {
   "cell_type": "code",
   "execution_count": 8,
   "id": "3b67c5f9",
   "metadata": {},
   "outputs": [
    {
     "data": {
      "text/html": [
       "<div>\n",
       "<style scoped>\n",
       "    .dataframe tbody tr th:only-of-type {\n",
       "        vertical-align: middle;\n",
       "    }\n",
       "\n",
       "    .dataframe tbody tr th {\n",
       "        vertical-align: top;\n",
       "    }\n",
       "\n",
       "    .dataframe thead th {\n",
       "        text-align: right;\n",
       "    }\n",
       "</style>\n",
       "<table border=\"1\" class=\"dataframe\">\n",
       "  <thead>\n",
       "    <tr style=\"text-align: right;\">\n",
       "      <th></th>\n",
       "      <th>method</th>\n",
       "      <th>score</th>\n",
       "    </tr>\n",
       "  </thead>\n",
       "  <tbody>\n",
       "    <tr>\n",
       "      <th>0</th>\n",
       "      <td>A</td>\n",
       "      <td>71</td>\n",
       "    </tr>\n",
       "    <tr>\n",
       "      <th>1</th>\n",
       "      <td>A</td>\n",
       "      <td>72</td>\n",
       "    </tr>\n",
       "    <tr>\n",
       "      <th>2</th>\n",
       "      <td>A</td>\n",
       "      <td>72</td>\n",
       "    </tr>\n",
       "  </tbody>\n",
       "</table>\n",
       "</div>"
      ],
      "text/plain": [
       "  method  score\n",
       "0      A     71\n",
       "1      A     72\n",
       "2      A     72"
      ]
     },
     "execution_count": 8,
     "metadata": {},
     "output_type": "execute_result"
    }
   ],
   "source": [
    "df.head(3)"
   ]
  },
  {
   "cell_type": "code",
   "execution_count": 11,
   "id": "d617ef1f",
   "metadata": {},
   "outputs": [],
   "source": [
    "groupA = df[df['method']=='A']\n",
    "groupB = df[df['method']=='B']"
   ]
  },
  {
   "cell_type": "code",
   "execution_count": 14,
   "id": "2bf363f6",
   "metadata": {},
   "outputs": [
    {
     "data": {
      "text/html": [
       "<div>\n",
       "<style scoped>\n",
       "    .dataframe tbody tr th:only-of-type {\n",
       "        vertical-align: middle;\n",
       "    }\n",
       "\n",
       "    .dataframe tbody tr th {\n",
       "        vertical-align: top;\n",
       "    }\n",
       "\n",
       "    .dataframe thead th {\n",
       "        text-align: right;\n",
       "    }\n",
       "</style>\n",
       "<table border=\"1\" class=\"dataframe\">\n",
       "  <thead>\n",
       "    <tr style=\"text-align: right;\">\n",
       "      <th></th>\n",
       "      <th>method</th>\n",
       "      <th>score</th>\n",
       "    </tr>\n",
       "  </thead>\n",
       "  <tbody>\n",
       "    <tr>\n",
       "      <th>10</th>\n",
       "      <td>B</td>\n",
       "      <td>80</td>\n",
       "    </tr>\n",
       "    <tr>\n",
       "      <th>11</th>\n",
       "      <td>B</td>\n",
       "      <td>81</td>\n",
       "    </tr>\n",
       "    <tr>\n",
       "      <th>12</th>\n",
       "      <td>B</td>\n",
       "      <td>81</td>\n",
       "    </tr>\n",
       "    <tr>\n",
       "      <th>13</th>\n",
       "      <td>B</td>\n",
       "      <td>84</td>\n",
       "    </tr>\n",
       "    <tr>\n",
       "      <th>14</th>\n",
       "      <td>B</td>\n",
       "      <td>88</td>\n",
       "    </tr>\n",
       "    <tr>\n",
       "      <th>15</th>\n",
       "      <td>B</td>\n",
       "      <td>88</td>\n",
       "    </tr>\n",
       "    <tr>\n",
       "      <th>16</th>\n",
       "      <td>B</td>\n",
       "      <td>89</td>\n",
       "    </tr>\n",
       "    <tr>\n",
       "      <th>17</th>\n",
       "      <td>B</td>\n",
       "      <td>90</td>\n",
       "    </tr>\n",
       "    <tr>\n",
       "      <th>18</th>\n",
       "      <td>B</td>\n",
       "      <td>90</td>\n",
       "    </tr>\n",
       "    <tr>\n",
       "      <th>19</th>\n",
       "      <td>B</td>\n",
       "      <td>91</td>\n",
       "    </tr>\n",
       "  </tbody>\n",
       "</table>\n",
       "</div>"
      ],
      "text/plain": [
       "   method  score\n",
       "10      B     80\n",
       "11      B     81\n",
       "12      B     81\n",
       "13      B     84\n",
       "14      B     88\n",
       "15      B     88\n",
       "16      B     89\n",
       "17      B     90\n",
       "18      B     90\n",
       "19      B     91"
      ]
     },
     "execution_count": 14,
     "metadata": {},
     "output_type": "execute_result"
    }
   ],
   "source": [
    "groupB"
   ]
  },
  {
   "cell_type": "code",
   "execution_count": 51,
   "id": "ca0051bb",
   "metadata": {},
   "outputs": [
    {
     "data": {
      "text/plain": [
       "Ttest_indResult(statistic=-2.6034304605397938, pvalue=0.017969284594810425)"
      ]
     },
     "execution_count": 51,
     "metadata": {},
     "output_type": "execute_result"
    }
   ],
   "source": [
    "ttest_ind(groupA['score'], groupB['score'])"
   ]
  },
  {
   "cell_type": "markdown",
   "id": "23cec855",
   "metadata": {},
   "source": [
    "O bien"
   ]
  },
  {
   "cell_type": "code",
   "execution_count": 52,
   "id": "cd4eab64",
   "metadata": {},
   "outputs": [
    {
     "data": {
      "text/plain": [
       "Ttest_indResult(statistic=-2.6034304605397938, pvalue=0.017969284594810425)"
      ]
     },
     "execution_count": 52,
     "metadata": {},
     "output_type": "execute_result"
    }
   ],
   "source": [
    "ttest_ind(df[df['method']=='A']['score'], df[df['method']=='B']['score']) \n",
    "\n",
    "# se le han de pasar los valores de cada grupo poblacional"
   ]
  },
  {
   "cell_type": "markdown",
   "id": "e3bbec2b",
   "metadata": {},
   "source": [
    "Resultado:\n",
    "\n",
    "Estadística de la prueba T: –2,6034\n",
    "\n",
    "Valor P: 0.0179\n",
    "\n",
    "Dado que el valor p es menor que .05, rechazamos la hipótesis nula y concluimos que hay evidencia suficiente para decir que los dos métodos conducen a diferentes puntajes medios en el examen, o sea que las variables estan vinculadas."
   ]
  },
  {
   "cell_type": "code",
   "execution_count": null,
   "id": "b6d0b610",
   "metadata": {},
   "outputs": [],
   "source": []
  },
  {
   "cell_type": "markdown",
   "id": "80d69cb7",
   "metadata": {},
   "source": [
    "### Chi-test para variables cualitativas \n",
    "\n",
    "* X e Y son cualitativas. Necesitamos crear una tabla de contingencia (frecuencia)"
   ]
  },
  {
   "cell_type": "code",
   "execution_count": 17,
   "id": "8bc0eae1",
   "metadata": {},
   "outputs": [
    {
     "data": {
      "text/html": [
       "<div>\n",
       "<style scoped>\n",
       "    .dataframe tbody tr th:only-of-type {\n",
       "        vertical-align: middle;\n",
       "    }\n",
       "\n",
       "    .dataframe tbody tr th {\n",
       "        vertical-align: top;\n",
       "    }\n",
       "\n",
       "    .dataframe thead th {\n",
       "        text-align: right;\n",
       "    }\n",
       "</style>\n",
       "<table border=\"1\" class=\"dataframe\">\n",
       "  <thead>\n",
       "    <tr style=\"text-align: right;\">\n",
       "      <th></th>\n",
       "      <th>Tipo</th>\n",
       "      <th>Produccion</th>\n",
       "    </tr>\n",
       "  </thead>\n",
       "  <tbody>\n",
       "    <tr>\n",
       "      <th>0</th>\n",
       "      <td>carton</td>\n",
       "      <td>Marzo</td>\n",
       "    </tr>\n",
       "    <tr>\n",
       "      <th>1</th>\n",
       "      <td>vidrio</td>\n",
       "      <td>Enero</td>\n",
       "    </tr>\n",
       "    <tr>\n",
       "      <th>2</th>\n",
       "      <td>otro</td>\n",
       "      <td>Marzo</td>\n",
       "    </tr>\n",
       "    <tr>\n",
       "      <th>3</th>\n",
       "      <td>otro</td>\n",
       "      <td>Marzo</td>\n",
       "    </tr>\n",
       "    <tr>\n",
       "      <th>4</th>\n",
       "      <td>carton</td>\n",
       "      <td>Marzo</td>\n",
       "    </tr>\n",
       "    <tr>\n",
       "      <th>...</th>\n",
       "      <td>...</td>\n",
       "      <td>...</td>\n",
       "    </tr>\n",
       "    <tr>\n",
       "      <th>995</th>\n",
       "      <td>plastico</td>\n",
       "      <td>Enero</td>\n",
       "    </tr>\n",
       "    <tr>\n",
       "      <th>996</th>\n",
       "      <td>otro</td>\n",
       "      <td>Enero</td>\n",
       "    </tr>\n",
       "    <tr>\n",
       "      <th>997</th>\n",
       "      <td>otro</td>\n",
       "      <td>Febrero</td>\n",
       "    </tr>\n",
       "    <tr>\n",
       "      <th>998</th>\n",
       "      <td>carton</td>\n",
       "      <td>Febrero</td>\n",
       "    </tr>\n",
       "    <tr>\n",
       "      <th>999</th>\n",
       "      <td>otro</td>\n",
       "      <td>Febrero</td>\n",
       "    </tr>\n",
       "  </tbody>\n",
       "</table>\n",
       "<p>1000 rows × 2 columns</p>\n",
       "</div>"
      ],
      "text/plain": [
       "         Tipo Produccion\n",
       "0      carton      Marzo\n",
       "1      vidrio      Enero\n",
       "2        otro      Marzo\n",
       "3        otro      Marzo\n",
       "4      carton      Marzo\n",
       "..        ...        ...\n",
       "995  plastico      Enero\n",
       "996      otro      Enero\n",
       "997      otro    Febrero\n",
       "998    carton    Febrero\n",
       "999      otro    Febrero\n",
       "\n",
       "[1000 rows x 2 columns]"
      ]
     },
     "execution_count": 17,
     "metadata": {},
     "output_type": "execute_result"
    }
   ],
   "source": [
    "np.random.seed(1987)\n",
    "tipo_botella=np.random.choice(['papel','vidrio','carton','plastico','otro'],p=[0.05,0.15,0.25,0.05,0.5], size=1000)\n",
    "mes=np.random.choice(a=['Enero','Febrero','Marzo'], p=[0.4,0.2,0.4], size = 1000)\n",
    "botellas=pd.DataFrame({'Tipo':tipo_botella, 'Produccion': mes})\n",
    "botellas"
   ]
  },
  {
   "cell_type": "markdown",
   "id": "64d7289a",
   "metadata": {},
   "source": [
    "* Necesitamos la tabla de contigencia con el recuento para cada cruce de las dos variables"
   ]
  },
  {
   "cell_type": "code",
   "execution_count": 18,
   "id": "deb96d73",
   "metadata": {},
   "outputs": [],
   "source": [
    "tabla_contingencia=pd.crosstab(botellas.Tipo, botellas.Produccion, margins=True)"
   ]
  },
  {
   "cell_type": "code",
   "execution_count": 19,
   "id": "385b908b",
   "metadata": {},
   "outputs": [
    {
     "data": {
      "text/html": [
       "<div>\n",
       "<style scoped>\n",
       "    .dataframe tbody tr th:only-of-type {\n",
       "        vertical-align: middle;\n",
       "    }\n",
       "\n",
       "    .dataframe tbody tr th {\n",
       "        vertical-align: top;\n",
       "    }\n",
       "\n",
       "    .dataframe thead th {\n",
       "        text-align: right;\n",
       "    }\n",
       "</style>\n",
       "<table border=\"1\" class=\"dataframe\">\n",
       "  <thead>\n",
       "    <tr style=\"text-align: right;\">\n",
       "      <th>Produccion</th>\n",
       "      <th>Enero</th>\n",
       "      <th>Febrero</th>\n",
       "      <th>Marzo</th>\n",
       "      <th>All</th>\n",
       "    </tr>\n",
       "    <tr>\n",
       "      <th>Tipo</th>\n",
       "      <th></th>\n",
       "      <th></th>\n",
       "      <th></th>\n",
       "      <th></th>\n",
       "    </tr>\n",
       "  </thead>\n",
       "  <tbody>\n",
       "    <tr>\n",
       "      <th>carton</th>\n",
       "      <td>113</td>\n",
       "      <td>40</td>\n",
       "      <td>105</td>\n",
       "      <td>258</td>\n",
       "    </tr>\n",
       "    <tr>\n",
       "      <th>otro</th>\n",
       "      <td>226</td>\n",
       "      <td>86</td>\n",
       "      <td>197</td>\n",
       "      <td>509</td>\n",
       "    </tr>\n",
       "    <tr>\n",
       "      <th>papel</th>\n",
       "      <td>11</td>\n",
       "      <td>9</td>\n",
       "      <td>17</td>\n",
       "      <td>37</td>\n",
       "    </tr>\n",
       "    <tr>\n",
       "      <th>plastico</th>\n",
       "      <td>16</td>\n",
       "      <td>11</td>\n",
       "      <td>23</td>\n",
       "      <td>50</td>\n",
       "    </tr>\n",
       "    <tr>\n",
       "      <th>vidrio</th>\n",
       "      <td>63</td>\n",
       "      <td>22</td>\n",
       "      <td>61</td>\n",
       "      <td>146</td>\n",
       "    </tr>\n",
       "    <tr>\n",
       "      <th>All</th>\n",
       "      <td>429</td>\n",
       "      <td>168</td>\n",
       "      <td>403</td>\n",
       "      <td>1000</td>\n",
       "    </tr>\n",
       "  </tbody>\n",
       "</table>\n",
       "</div>"
      ],
      "text/plain": [
       "Produccion  Enero  Febrero  Marzo   All\n",
       "Tipo                                   \n",
       "carton        113       40    105   258\n",
       "otro          226       86    197   509\n",
       "papel          11        9     17    37\n",
       "plastico       16       11     23    50\n",
       "vidrio         63       22     61   146\n",
       "All           429      168    403  1000"
      ]
     },
     "execution_count": 19,
     "metadata": {},
     "output_type": "execute_result"
    }
   ],
   "source": [
    "tabla_contingencia"
   ]
  },
  {
   "cell_type": "code",
   "execution_count": 21,
   "id": "2289fce2",
   "metadata": {},
   "outputs": [
    {
     "data": {
      "text/html": [
       "<div>\n",
       "<style scoped>\n",
       "    .dataframe tbody tr th:only-of-type {\n",
       "        vertical-align: middle;\n",
       "    }\n",
       "\n",
       "    .dataframe tbody tr th {\n",
       "        vertical-align: top;\n",
       "    }\n",
       "\n",
       "    .dataframe thead th {\n",
       "        text-align: right;\n",
       "    }\n",
       "</style>\n",
       "<table border=\"1\" class=\"dataframe\">\n",
       "  <thead>\n",
       "    <tr style=\"text-align: right;\">\n",
       "      <th>Produccion</th>\n",
       "      <th>Enero</th>\n",
       "      <th>Febrero</th>\n",
       "      <th>Marzo</th>\n",
       "    </tr>\n",
       "    <tr>\n",
       "      <th>Tipo</th>\n",
       "      <th></th>\n",
       "      <th></th>\n",
       "      <th></th>\n",
       "    </tr>\n",
       "  </thead>\n",
       "  <tbody>\n",
       "    <tr>\n",
       "      <th>carton</th>\n",
       "      <td>113</td>\n",
       "      <td>40</td>\n",
       "      <td>105</td>\n",
       "    </tr>\n",
       "    <tr>\n",
       "      <th>otro</th>\n",
       "      <td>226</td>\n",
       "      <td>86</td>\n",
       "      <td>197</td>\n",
       "    </tr>\n",
       "    <tr>\n",
       "      <th>papel</th>\n",
       "      <td>11</td>\n",
       "      <td>9</td>\n",
       "      <td>17</td>\n",
       "    </tr>\n",
       "    <tr>\n",
       "      <th>plastico</th>\n",
       "      <td>16</td>\n",
       "      <td>11</td>\n",
       "      <td>23</td>\n",
       "    </tr>\n",
       "    <tr>\n",
       "      <th>vidrio</th>\n",
       "      <td>63</td>\n",
       "      <td>22</td>\n",
       "      <td>61</td>\n",
       "    </tr>\n",
       "  </tbody>\n",
       "</table>\n",
       "</div>"
      ],
      "text/plain": [
       "Produccion  Enero  Febrero  Marzo\n",
       "Tipo                             \n",
       "carton        113       40    105\n",
       "otro          226       86    197\n",
       "papel          11        9     17\n",
       "plastico       16       11     23\n",
       "vidrio         63       22     61"
      ]
     },
     "execution_count": 21,
     "metadata": {},
     "output_type": "execute_result"
    }
   ],
   "source": [
    "observados=tabla_contingencia.iloc[0:5,0:3] # quito los totales\n",
    "observados"
   ]
  },
  {
   "cell_type": "code",
   "execution_count": 55,
   "id": "c53dda68",
   "metadata": {},
   "outputs": [
    {
     "data": {
      "text/html": [
       "<div>\n",
       "<style scoped>\n",
       "    .dataframe tbody tr th:only-of-type {\n",
       "        vertical-align: middle;\n",
       "    }\n",
       "\n",
       "    .dataframe tbody tr th {\n",
       "        vertical-align: top;\n",
       "    }\n",
       "\n",
       "    .dataframe thead th {\n",
       "        text-align: right;\n",
       "    }\n",
       "</style>\n",
       "<table border=\"1\" class=\"dataframe\">\n",
       "  <thead>\n",
       "    <tr style=\"text-align: right;\">\n",
       "      <th>Produccion</th>\n",
       "      <th>Enero</th>\n",
       "      <th>Febrero</th>\n",
       "      <th>Marzo</th>\n",
       "    </tr>\n",
       "    <tr>\n",
       "      <th>Tipo</th>\n",
       "      <th></th>\n",
       "      <th></th>\n",
       "      <th></th>\n",
       "    </tr>\n",
       "  </thead>\n",
       "  <tbody>\n",
       "    <tr>\n",
       "      <th>carton</th>\n",
       "      <td>113</td>\n",
       "      <td>40</td>\n",
       "      <td>105</td>\n",
       "    </tr>\n",
       "    <tr>\n",
       "      <th>otro</th>\n",
       "      <td>226</td>\n",
       "      <td>86</td>\n",
       "      <td>197</td>\n",
       "    </tr>\n",
       "    <tr>\n",
       "      <th>papel</th>\n",
       "      <td>11</td>\n",
       "      <td>9</td>\n",
       "      <td>17</td>\n",
       "    </tr>\n",
       "    <tr>\n",
       "      <th>plastico</th>\n",
       "      <td>16</td>\n",
       "      <td>11</td>\n",
       "      <td>23</td>\n",
       "    </tr>\n",
       "    <tr>\n",
       "      <th>vidrio</th>\n",
       "      <td>63</td>\n",
       "      <td>22</td>\n",
       "      <td>61</td>\n",
       "    </tr>\n",
       "  </tbody>\n",
       "</table>\n",
       "</div>"
      ],
      "text/plain": [
       "Produccion  Enero  Febrero  Marzo\n",
       "Tipo                             \n",
       "carton        113       40    105\n",
       "otro          226       86    197\n",
       "papel          11        9     17\n",
       "plastico       16       11     23\n",
       "vidrio         63       22     61"
      ]
     },
     "execution_count": 55,
     "metadata": {},
     "output_type": "execute_result"
    }
   ],
   "source": [
    "pd.crosstab(botellas.Tipo, botellas.Produccion, margins=False) # si pongo margins=False ya no necesito quitar los totales"
   ]
  },
  {
   "cell_type": "code",
   "execution_count": 28,
   "id": "7d1cf5cf",
   "metadata": {},
   "outputs": [
    {
     "data": {
      "text/plain": [
       "(6.878957335826994,\n",
       " 0.5497469290521917,\n",
       " 8,\n",
       " array([[110.682,  43.344, 103.974],\n",
       "        [218.361,  85.512, 205.127],\n",
       "        [ 15.873,   6.216,  14.911],\n",
       "        [ 21.45 ,   8.4  ,  20.15 ],\n",
       "        [ 62.634,  24.528,  58.838]]))"
      ]
     },
     "execution_count": 28,
     "metadata": {},
     "output_type": "execute_result"
    }
   ],
   "source": [
    "scipy.stats.chi2_contingency(observed=observados)"
   ]
  },
  {
   "cell_type": "code",
   "execution_count": 29,
   "id": "779b3997",
   "metadata": {},
   "outputs": [
    {
     "data": {
      "text/plain": [
       "0.5497469290521917"
      ]
     },
     "execution_count": 29,
     "metadata": {},
     "output_type": "execute_result"
    }
   ],
   "source": [
    "p_value=scipy.stats.chi2_contingency(observed=observados)\n",
    "p_value[1] # es un valor alto (>0,05 nivel de riesgo)"
   ]
  },
  {
   "cell_type": "code",
   "execution_count": 34,
   "id": "e93943af",
   "metadata": {},
   "outputs": [
    {
     "name": "stdout",
     "output_type": "stream",
     "text": [
      "(6.878957335826994, 0.5497469290521917, 8, array([[110.682,  43.344, 103.974],\n",
      "       [218.361,  85.512, 205.127],\n",
      "       [ 15.873,   6.216,  14.911],\n",
      "       [ 21.45 ,   8.4  ,  20.15 ],\n",
      "       [ 62.634,  24.528,  58.838]]))\n",
      "\n",
      "P-valor 0.5497469290521917 \n",
      "\n",
      "Aceptamos H0: Las variables son independientes\n"
     ]
    }
   ],
   "source": [
    "riesgo=0.05\n",
    "p_value = scipy.stats.chi2_contingency(observed=observados) # variable trim para indicar el nivel de riesgo por defecto 0,05\n",
    "print (p_value)\n",
    "print('\\nP-valor',p_value[1],'\\n')\n",
    "if p_value[1]>riesgo:\n",
    "    print('Aceptamos H0: Las variables son independientes')\n",
    "else:\n",
    "    print('Rechazamos H0, aceptamos H1: Las variables tienen dependencia')"
   ]
  },
  {
   "cell_type": "markdown",
   "id": "e25c1519",
   "metadata": {},
   "source": [
    "##### Otro Ejemplo de Xi cuadrado"
   ]
  },
  {
   "cell_type": "code",
   "execution_count": 54,
   "id": "81e27075",
   "metadata": {},
   "outputs": [],
   "source": [
    "# tabla de frecuencias genero (filas) X Partido politico (columnas) \n",
    "\n",
    "datos = [[120, 90, 40],\n",
    "        [110, 95, 45]]\n",
    "\n",
    "#Cuando tenemos los datos en un df debemos de obtener a partir de los datos la tabla de contingencia o frecuencias. \n",
    "#Aqui ya la tenemos conformada\n"
   ]
  },
  {
   "cell_type": "code",
   "execution_count": 42,
   "id": "4ed87e9d",
   "metadata": {},
   "outputs": [
    {
     "data": {
      "text/plain": [
       "(0.8640353908896108,\n",
       " 0.6491978887380976,\n",
       " 2,\n",
       " array([[115. ,  92.5,  42.5],\n",
       "        [115. ,  92.5,  42.5]]))"
      ]
     },
     "execution_count": 42,
     "metadata": {},
     "output_type": "execute_result"
    }
   ],
   "source": [
    "# prueba chi-cuadrado de independencia\n",
    "scipy.stats.chi2_contingency(datos)\n"
   ]
  },
  {
   "cell_type": "code",
   "execution_count": 43,
   "id": "41562bbf",
   "metadata": {},
   "outputs": [],
   "source": [
    "#Estadística de prueba de chi-cuadrado: 0.864\n",
    "\n",
    "# p-valor: 0,649\n",
    "\n",
    "#Grados de libertad: 2 (calculado como # filas-1 * # columnas-1)\n",
    "\n",
    "#Matriz: la última matriz muestra los valores esperados para cada celda en la tabla de contingencia.\n"
   ]
  },
  {
   "cell_type": "markdown",
   "id": "f362069d",
   "metadata": {},
   "source": [
    "Dado que el p-valor (0.649) de la prueba NO es menor que 0.05, no rechazamos la hipótesis nula.\n",
    "\n",
    "Las preferencias de género y de partido político son independientes."
   ]
  },
  {
   "cell_type": "code",
   "execution_count": null,
   "id": "46dd6c1f",
   "metadata": {},
   "outputs": [],
   "source": []
  },
  {
   "cell_type": "code",
   "execution_count": null,
   "id": "bc5f995a",
   "metadata": {},
   "outputs": [],
   "source": []
  }
 ],
 "metadata": {
  "kernelspec": {
   "display_name": "Python 3 (ipykernel)",
   "language": "python",
   "name": "python3"
  },
  "language_info": {
   "codemirror_mode": {
    "name": "ipython",
    "version": 3
   },
   "file_extension": ".py",
   "mimetype": "text/x-python",
   "name": "python",
   "nbconvert_exporter": "python",
   "pygments_lexer": "ipython3",
   "version": "3.9.13"
  }
 },
 "nbformat": 4,
 "nbformat_minor": 5
}
