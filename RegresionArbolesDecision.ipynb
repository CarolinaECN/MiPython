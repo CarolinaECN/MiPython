{
 "cells": [
  {
   "cell_type": "markdown",
   "id": "ab3f0784",
   "metadata": {},
   "source": [
    "### Regresion con Arboles de Decisión\n",
    "\n",
    "Es un modelo de probabilidad.\n",
    "\n",
    "* Parametros:\n",
    "\n",
    "\n",
    "    - criterion: -squared_error (cuadrado de la media de errores) Valor por defecto\n",
    "                -friedman_mse: ¡?\n",
    "                -absolute_error (error absoluto)\n",
    "                -poisson: ¿?\n",
    "    - random_state: semilla \n",
    "    - splitter: best/random. Por defecto Best\n",
    "    - max_depth: profundidad (para no sobreparametrizar si hay muchas variables se puede poner 5 o 6)\n",
    "    - min_samples_split:minimo numero de muestras para crear cada una de las ramas. Por defecto 2. Puede ser 10 o 15.\n",
    "    - min_weight_fraction_leaf: minimo peso para constriur las ramas.\n",
    "    - max_features: maximo de caracteristicas si tenemos muchas variables. Ej 13 o 15\n",
    "    - max_leaf_nodes: maximo numero de nodos. Determinara tambien la profundidad."
   ]
  },
  {
   "cell_type": "code",
   "execution_count": 1,
   "id": "d135a8f0",
   "metadata": {},
   "outputs": [],
   "source": [
    "import pandas as pd\n",
    "import numpy as np\n",
    "import matplotlib.pyplot as plt"
   ]
  },
  {
   "cell_type": "code",
   "execution_count": 4,
   "id": "195698b7",
   "metadata": {},
   "outputs": [],
   "source": [
    "df=pd.read_csv(r'C:\\Users\\carolina\\Desktop\\FormDataAnalyst\\Modelos\\regresion_arboles.csv')"
   ]
  },
  {
   "cell_type": "code",
   "execution_count": 5,
   "id": "eed606cd",
   "metadata": {},
   "outputs": [
    {
     "data": {
      "text/html": [
       "<div>\n",
       "<style scoped>\n",
       "    .dataframe tbody tr th:only-of-type {\n",
       "        vertical-align: middle;\n",
       "    }\n",
       "\n",
       "    .dataframe tbody tr th {\n",
       "        vertical-align: top;\n",
       "    }\n",
       "\n",
       "    .dataframe thead th {\n",
       "        text-align: right;\n",
       "    }\n",
       "</style>\n",
       "<table border=\"1\" class=\"dataframe\">\n",
       "  <thead>\n",
       "    <tr style=\"text-align: right;\">\n",
       "      <th></th>\n",
       "      <th>Position</th>\n",
       "      <th>Level</th>\n",
       "      <th>Salary</th>\n",
       "    </tr>\n",
       "  </thead>\n",
       "  <tbody>\n",
       "    <tr>\n",
       "      <th>0</th>\n",
       "      <td>Business Analyst</td>\n",
       "      <td>1</td>\n",
       "      <td>45000</td>\n",
       "    </tr>\n",
       "    <tr>\n",
       "      <th>1</th>\n",
       "      <td>Junior Consultant</td>\n",
       "      <td>2</td>\n",
       "      <td>50000</td>\n",
       "    </tr>\n",
       "    <tr>\n",
       "      <th>2</th>\n",
       "      <td>Senior Consultant</td>\n",
       "      <td>3</td>\n",
       "      <td>60000</td>\n",
       "    </tr>\n",
       "  </tbody>\n",
       "</table>\n",
       "</div>"
      ],
      "text/plain": [
       "            Position  Level  Salary\n",
       "0   Business Analyst      1   45000\n",
       "1  Junior Consultant      2   50000\n",
       "2  Senior Consultant      3   60000"
      ]
     },
     "execution_count": 5,
     "metadata": {},
     "output_type": "execute_result"
    }
   ],
   "source": [
    "df.head(3)"
   ]
  },
  {
   "cell_type": "code",
   "execution_count": 8,
   "id": "79371bf4",
   "metadata": {
    "scrolled": true
   },
   "outputs": [
    {
     "data": {
      "text/plain": [
       "(10, 3)"
      ]
     },
     "execution_count": 8,
     "metadata": {},
     "output_type": "execute_result"
    }
   ],
   "source": [
    "df.shape"
   ]
  },
  {
   "cell_type": "markdown",
   "id": "abc4afe3",
   "metadata": {},
   "source": [
    "Es el df pequeñito. No separo testing/training. Paso directamente a division de variables y al modelo."
   ]
  },
  {
   "cell_type": "markdown",
   "id": "e4d5f40d",
   "metadata": {},
   "source": [
    "#### Separar variables dependiente/independiente"
   ]
  },
  {
   "cell_type": "code",
   "execution_count": 9,
   "id": "439b8698",
   "metadata": {},
   "outputs": [],
   "source": [
    "x=df.iloc[:,[1]].values # [[]] para que sea un array de arrays o sea matriz y luego no tenga que hacer el reshape en los modelos\n",
    "y=df.iloc[:,[2]].values  # x es el nivel, y es el salario"
   ]
  },
  {
   "cell_type": "markdown",
   "id": "4a4a2984",
   "metadata": {},
   "source": [
    "#### Dummys y Missing no hay"
   ]
  },
  {
   "cell_type": "code",
   "execution_count": 12,
   "id": "89e3eea7",
   "metadata": {
    "scrolled": true
   },
   "outputs": [
    {
     "data": {
      "text/plain": [
       "Position  Level  Salary\n",
       "False     False  False     10\n",
       "dtype: int64"
      ]
     },
     "execution_count": 12,
     "metadata": {},
     "output_type": "execute_result"
    }
   ],
   "source": [
    "df.isnull().value_counts()"
   ]
  },
  {
   "cell_type": "code",
   "execution_count": 15,
   "id": "e8ff571a",
   "metadata": {},
   "outputs": [
    {
     "data": {
      "text/html": [
       "<div>\n",
       "<style scoped>\n",
       "    .dataframe tbody tr th:only-of-type {\n",
       "        vertical-align: middle;\n",
       "    }\n",
       "\n",
       "    .dataframe tbody tr th {\n",
       "        vertical-align: top;\n",
       "    }\n",
       "\n",
       "    .dataframe thead th {\n",
       "        text-align: right;\n",
       "    }\n",
       "</style>\n",
       "<table border=\"1\" class=\"dataframe\">\n",
       "  <thead>\n",
       "    <tr style=\"text-align: right;\">\n",
       "      <th></th>\n",
       "      <th>Position</th>\n",
       "      <th>Level</th>\n",
       "      <th>Salary</th>\n",
       "    </tr>\n",
       "  </thead>\n",
       "  <tbody>\n",
       "    <tr>\n",
       "      <th>0</th>\n",
       "      <td>Business Analyst</td>\n",
       "      <td>1</td>\n",
       "      <td>45000</td>\n",
       "    </tr>\n",
       "    <tr>\n",
       "      <th>1</th>\n",
       "      <td>Junior Consultant</td>\n",
       "      <td>2</td>\n",
       "      <td>50000</td>\n",
       "    </tr>\n",
       "  </tbody>\n",
       "</table>\n",
       "</div>"
      ],
      "text/plain": [
       "            Position  Level  Salary\n",
       "0   Business Analyst      1   45000\n",
       "1  Junior Consultant      2   50000"
      ]
     },
     "execution_count": 15,
     "metadata": {},
     "output_type": "execute_result"
    }
   ],
   "source": [
    "df.head(2) "
   ]
  },
  {
   "cell_type": "code",
   "execution_count": 23,
   "id": "cdd803ed",
   "metadata": {},
   "outputs": [
    {
     "data": {
      "text/html": [
       "<div>\n",
       "<style scoped>\n",
       "    .dataframe tbody tr th:only-of-type {\n",
       "        vertical-align: middle;\n",
       "    }\n",
       "\n",
       "    .dataframe tbody tr th {\n",
       "        vertical-align: top;\n",
       "    }\n",
       "\n",
       "    .dataframe thead th {\n",
       "        text-align: right;\n",
       "    }\n",
       "</style>\n",
       "<table border=\"1\" class=\"dataframe\">\n",
       "  <thead>\n",
       "    <tr style=\"text-align: right;\">\n",
       "      <th></th>\n",
       "      <th></th>\n",
       "      <th>Salary</th>\n",
       "    </tr>\n",
       "    <tr>\n",
       "      <th>Level</th>\n",
       "      <th>Position</th>\n",
       "      <th></th>\n",
       "    </tr>\n",
       "  </thead>\n",
       "  <tbody>\n",
       "    <tr>\n",
       "      <th>10</th>\n",
       "      <th>CEO</th>\n",
       "      <td>1</td>\n",
       "    </tr>\n",
       "    <tr>\n",
       "      <th>9</th>\n",
       "      <th>C-level</th>\n",
       "      <td>1</td>\n",
       "    </tr>\n",
       "    <tr>\n",
       "      <th>8</th>\n",
       "      <th>Senior Partner</th>\n",
       "      <td>1</td>\n",
       "    </tr>\n",
       "    <tr>\n",
       "      <th>7</th>\n",
       "      <th>Partner</th>\n",
       "      <td>1</td>\n",
       "    </tr>\n",
       "    <tr>\n",
       "      <th>6</th>\n",
       "      <th>Region Manager</th>\n",
       "      <td>1</td>\n",
       "    </tr>\n",
       "    <tr>\n",
       "      <th>5</th>\n",
       "      <th>Country Manager</th>\n",
       "      <td>1</td>\n",
       "    </tr>\n",
       "    <tr>\n",
       "      <th>4</th>\n",
       "      <th>Manager</th>\n",
       "      <td>1</td>\n",
       "    </tr>\n",
       "    <tr>\n",
       "      <th>3</th>\n",
       "      <th>Senior Consultant</th>\n",
       "      <td>1</td>\n",
       "    </tr>\n",
       "    <tr>\n",
       "      <th>2</th>\n",
       "      <th>Junior Consultant</th>\n",
       "      <td>1</td>\n",
       "    </tr>\n",
       "    <tr>\n",
       "      <th>1</th>\n",
       "      <th>Business Analyst</th>\n",
       "      <td>1</td>\n",
       "    </tr>\n",
       "  </tbody>\n",
       "</table>\n",
       "</div>"
      ],
      "text/plain": [
       "                         Salary\n",
       "Level Position                 \n",
       "10    CEO                     1\n",
       "9     C-level                 1\n",
       "8     Senior Partner          1\n",
       "7     Partner                 1\n",
       "6     Region Manager          1\n",
       "5     Country Manager         1\n",
       "4     Manager                 1\n",
       "3     Senior Consultant       1\n",
       "2     Junior Consultant       1\n",
       "1     Business Analyst        1"
      ]
     },
     "execution_count": 23,
     "metadata": {},
     "output_type": "execute_result"
    }
   ],
   "source": [
    "# Level es la categorizacion de Position y salary es la variable a predecir y es cuantitativa. \n",
    "# Por tanto podemos prescindir de Position\n",
    "\n",
    "df.groupby(['Level','Position']).count().sort_values(by=\"Level\",  ascending=False)"
   ]
  },
  {
   "cell_type": "markdown",
   "id": "e9dfd798",
   "metadata": {},
   "source": [
    "#### Dividir Training/test no porque son muy pocos datos"
   ]
  },
  {
   "cell_type": "markdown",
   "id": "e3799ed0",
   "metadata": {},
   "source": [
    "#### Normalizacion/estandarizacion en este modelo SI que hay que hacerlo."
   ]
  },
  {
   "cell_type": "code",
   "execution_count": 24,
   "id": "0904fcb7",
   "metadata": {},
   "outputs": [],
   "source": [
    "from sklearn.preprocessing import StandardScaler"
   ]
  },
  {
   "cell_type": "code",
   "execution_count": 26,
   "id": "7a94007e",
   "metadata": {},
   "outputs": [],
   "source": [
    "sc_x=StandardScaler()\n",
    "x=sc_x.fit_transform(x)"
   ]
  },
  {
   "cell_type": "code",
   "execution_count": 27,
   "id": "5421b32b",
   "metadata": {},
   "outputs": [],
   "source": [
    "sc_y=StandardScaler()\n",
    "y=sc_y.fit_transform(y)"
   ]
  },
  {
   "cell_type": "markdown",
   "id": "ba1f2c0b",
   "metadata": {},
   "source": [
    "#### Seleccion de variables tampoco aplica porque solo trabajaremos en este caso con una"
   ]
  },
  {
   "cell_type": "markdown",
   "id": "c3284c4b",
   "metadata": {},
   "source": [
    "#### Crear modelo"
   ]
  },
  {
   "cell_type": "code",
   "execution_count": 30,
   "id": "062f9c0f",
   "metadata": {},
   "outputs": [],
   "source": [
    "from sklearn.tree import DecisionTreeRegressor"
   ]
  },
  {
   "cell_type": "code",
   "execution_count": 31,
   "id": "def438e2",
   "metadata": {},
   "outputs": [
    {
     "data": {
      "text/html": [
       "<style>#sk-container-id-1 {color: black;background-color: white;}#sk-container-id-1 pre{padding: 0;}#sk-container-id-1 div.sk-toggleable {background-color: white;}#sk-container-id-1 label.sk-toggleable__label {cursor: pointer;display: block;width: 100%;margin-bottom: 0;padding: 0.3em;box-sizing: border-box;text-align: center;}#sk-container-id-1 label.sk-toggleable__label-arrow:before {content: \"▸\";float: left;margin-right: 0.25em;color: #696969;}#sk-container-id-1 label.sk-toggleable__label-arrow:hover:before {color: black;}#sk-container-id-1 div.sk-estimator:hover label.sk-toggleable__label-arrow:before {color: black;}#sk-container-id-1 div.sk-toggleable__content {max-height: 0;max-width: 0;overflow: hidden;text-align: left;background-color: #f0f8ff;}#sk-container-id-1 div.sk-toggleable__content pre {margin: 0.2em;color: black;border-radius: 0.25em;background-color: #f0f8ff;}#sk-container-id-1 input.sk-toggleable__control:checked~div.sk-toggleable__content {max-height: 200px;max-width: 100%;overflow: auto;}#sk-container-id-1 input.sk-toggleable__control:checked~label.sk-toggleable__label-arrow:before {content: \"▾\";}#sk-container-id-1 div.sk-estimator input.sk-toggleable__control:checked~label.sk-toggleable__label {background-color: #d4ebff;}#sk-container-id-1 div.sk-label input.sk-toggleable__control:checked~label.sk-toggleable__label {background-color: #d4ebff;}#sk-container-id-1 input.sk-hidden--visually {border: 0;clip: rect(1px 1px 1px 1px);clip: rect(1px, 1px, 1px, 1px);height: 1px;margin: -1px;overflow: hidden;padding: 0;position: absolute;width: 1px;}#sk-container-id-1 div.sk-estimator {font-family: monospace;background-color: #f0f8ff;border: 1px dotted black;border-radius: 0.25em;box-sizing: border-box;margin-bottom: 0.5em;}#sk-container-id-1 div.sk-estimator:hover {background-color: #d4ebff;}#sk-container-id-1 div.sk-parallel-item::after {content: \"\";width: 100%;border-bottom: 1px solid gray;flex-grow: 1;}#sk-container-id-1 div.sk-label:hover label.sk-toggleable__label {background-color: #d4ebff;}#sk-container-id-1 div.sk-serial::before {content: \"\";position: absolute;border-left: 1px solid gray;box-sizing: border-box;top: 0;bottom: 0;left: 50%;z-index: 0;}#sk-container-id-1 div.sk-serial {display: flex;flex-direction: column;align-items: center;background-color: white;padding-right: 0.2em;padding-left: 0.2em;position: relative;}#sk-container-id-1 div.sk-item {position: relative;z-index: 1;}#sk-container-id-1 div.sk-parallel {display: flex;align-items: stretch;justify-content: center;background-color: white;position: relative;}#sk-container-id-1 div.sk-item::before, #sk-container-id-1 div.sk-parallel-item::before {content: \"\";position: absolute;border-left: 1px solid gray;box-sizing: border-box;top: 0;bottom: 0;left: 50%;z-index: -1;}#sk-container-id-1 div.sk-parallel-item {display: flex;flex-direction: column;z-index: 1;position: relative;background-color: white;}#sk-container-id-1 div.sk-parallel-item:first-child::after {align-self: flex-end;width: 50%;}#sk-container-id-1 div.sk-parallel-item:last-child::after {align-self: flex-start;width: 50%;}#sk-container-id-1 div.sk-parallel-item:only-child::after {width: 0;}#sk-container-id-1 div.sk-dashed-wrapped {border: 1px dashed gray;margin: 0 0.4em 0.5em 0.4em;box-sizing: border-box;padding-bottom: 0.4em;background-color: white;}#sk-container-id-1 div.sk-label label {font-family: monospace;font-weight: bold;display: inline-block;line-height: 1.2em;}#sk-container-id-1 div.sk-label-container {text-align: center;}#sk-container-id-1 div.sk-container {/* jupyter's `normalize.less` sets `[hidden] { display: none; }` but bootstrap.min.css set `[hidden] { display: none !important; }` so we also need the `!important` here to be able to override the default hidden behavior on the sphinx rendered scikit-learn.org. See: https://github.com/scikit-learn/scikit-learn/issues/21755 */display: inline-block !important;position: relative;}#sk-container-id-1 div.sk-text-repr-fallback {display: none;}</style><div id=\"sk-container-id-1\" class=\"sk-top-container\"><div class=\"sk-text-repr-fallback\"><pre>DecisionTreeRegressor(random_state=1987)</pre><b>In a Jupyter environment, please rerun this cell to show the HTML representation or trust the notebook. <br />On GitHub, the HTML representation is unable to render, please try loading this page with nbviewer.org.</b></div><div class=\"sk-container\" hidden><div class=\"sk-item\"><div class=\"sk-estimator sk-toggleable\"><input class=\"sk-toggleable__control sk-hidden--visually\" id=\"sk-estimator-id-1\" type=\"checkbox\" checked><label for=\"sk-estimator-id-1\" class=\"sk-toggleable__label sk-toggleable__label-arrow\">DecisionTreeRegressor</label><div class=\"sk-toggleable__content\"><pre>DecisionTreeRegressor(random_state=1987)</pre></div></div></div></div></div>"
      ],
      "text/plain": [
       "DecisionTreeRegressor(random_state=1987)"
      ]
     },
     "execution_count": 31,
     "metadata": {},
     "output_type": "execute_result"
    }
   ],
   "source": [
    "reg_arbol=DecisionTreeRegressor(criterion='squared_error', random_state=1987)\n",
    "reg_arbol.fit(x,y)"
   ]
  },
  {
   "cell_type": "markdown",
   "id": "e1059db0",
   "metadata": {},
   "source": [
    "#### Prediccion para 6,5"
   ]
  },
  {
   "cell_type": "code",
   "execution_count": 36,
   "id": "38da129a",
   "metadata": {},
   "outputs": [
    {
     "data": {
      "text/plain": [
       "array([[110000.]])"
      ]
     },
     "execution_count": 36,
     "metadata": {},
     "output_type": "execute_result"
    }
   ],
   "source": [
    "y_arbol=reg_arbol.predict(sc_x.fit_transform([[6.5]]))\n",
    "sc_y.inverse_transform([[y_arbol[0]]])"
   ]
  },
  {
   "cell_type": "markdown",
   "id": "136911fc",
   "metadata": {},
   "source": [
    "#### Evaluacion del modelo (r2, mae,mse)"
   ]
  },
  {
   "cell_type": "code",
   "execution_count": 37,
   "id": "1b8dd3c1",
   "metadata": {},
   "outputs": [],
   "source": [
    "from sklearn.metrics import r2_score, mean_absolute_error, mean_squared_error"
   ]
  },
  {
   "cell_type": "code",
   "execution_count": 39,
   "id": "23c3b56b",
   "metadata": {},
   "outputs": [
    {
     "name": "stdout",
     "output_type": "stream",
     "text": [
      "Estadisticos de la regresion por Arbol de Desicion\n",
      " r2: 1.00 \n",
      " mae: 0.00 \n",
      " mse: 0.00\n"
     ]
    }
   ],
   "source": [
    "r2_arbol=r2_score(y, reg_arbol.predict(x) ) \n",
    "mae_arbol=mean_absolute_error(y, reg_arbol.predict(x))\n",
    "mse_arbol=mean_squared_error(y, reg_arbol.predict(x))\n",
    "print(f'Estadisticos de la regresion por Arbol de Desicion\\n r2: {r2_arbol:.2f} \\n mae: {mae_arbol:.2f} \\n mse: {mse_arbol:.2f}')\n"
   ]
  },
  {
   "cell_type": "code",
   "execution_count": 40,
   "id": "639afc98",
   "metadata": {
    "scrolled": true
   },
   "outputs": [
    {
     "data": {
      "image/png": "[encoded data removed]",
      "text/plain": [
       "<Figure size 640x480 with 1 Axes>"
      ]
     },
     "metadata": {},
     "output_type": "display_data"
    }
   ],
   "source": [
    "plt.title('Regresion Arbol de Desicion')\n",
    "plt.xlabel('Años de experiencia')\n",
    "plt.ylabel('Salario en Dolares')\n",
    "plt.scatter(sc_x.inverse_transform(x), sc_y.inverse_transform(y), color='red')\n",
    "plt.plot(sc_x.inverse_transform(x), sc_y.inverse_transform(reg_arbol.predict(x).reshape(-1, 1)), color='blue')\n",
    "plt.show()"
   ]
  },
  {
   "cell_type": "markdown",
   "id": "104facdc",
   "metadata": {},
   "source": [
    "Se ve que esta demasiado ajustado. \n",
    "\n",
    "Esto es porque la grafica no esta del todo bien dibujada. Los arboles se ven escalonados.\n",
    "\n",
    "Una rama del arbol es lo que deberiamos ver.\n",
    "\n",
    "La probabilidad del arbol es discreta, no continua como se ve."
   ]
  },
  {
   "cell_type": "markdown",
   "id": "818e732f",
   "metadata": {},
   "source": [
    "##### Modificacion de la grafica para verla de manera mas correcta"
   ]
  },
  {
   "cell_type": "code",
   "execution_count": 50,
   "id": "159849a6",
   "metadata": {},
   "outputs": [
    {
     "data": {
      "text/plain": [
       "array([-1.5666989, -1.4666989, -1.3666989, -1.2666989, -1.1666989,\n",
       "       -1.0666989, -0.9666989, -0.8666989, -0.7666989, -0.6666989,\n",
       "       -0.5666989, -0.4666989, -0.3666989, -0.2666989, -0.1666989,\n",
       "       -0.0666989,  0.0333011,  0.1333011,  0.2333011,  0.3333011,\n",
       "        0.4333011,  0.5333011,  0.6333011,  0.7333011,  0.8333011,\n",
       "        0.9333011,  1.0333011,  1.1333011,  1.2333011,  1.3333011,\n",
       "        1.4333011,  1.5333011])"
      ]
     },
     "execution_count": 50,
     "metadata": {},
     "output_type": "execute_result"
    }
   ],
   "source": [
    "x_grid=np.arange(min(x),max(x), 0.1) # creamos unos valores de x para escalonar\n",
    "x_grid"
   ]
  },
  {
   "cell_type": "code",
   "execution_count": 52,
   "id": "351ece7a",
   "metadata": {},
   "outputs": [],
   "source": [
    "# x_grid.reshape(len(x_grid),1)"
   ]
  },
  {
   "cell_type": "code",
   "execution_count": 53,
   "id": "987a7715",
   "metadata": {
    "scrolled": true
   },
   "outputs": [
    {
     "data": {
      "image/png": "[encoded data removed]",
      "text/plain": [
       "<Figure size 640x480 with 1 Axes>"
      ]
     },
     "metadata": {},
     "output_type": "display_data"
    }
   ],
   "source": [
    "plt.title('Regresion Arbol de Desicion')\n",
    "plt.xlabel('Años de experiencia')\n",
    "plt.ylabel('Salario en Dolares')\n",
    "\n",
    "x_grid=np.arange(min(x),max(x), 0.1)\n",
    "x_grid=x_grid.reshape(len(x_grid),1)\n",
    "\n",
    "plt.scatter(sc_x.inverse_transform(x), sc_y.inverse_transform(y), color='red')\n",
    "plt.plot(sc_x.inverse_transform(x_grid), sc_y.inverse_transform(reg_arbol.predict(x_grid).reshape(-1, 1)), color='blue')\n",
    "plt.show()"
   ]
  },
  {
   "cell_type": "markdown",
   "id": "6b03f5d2",
   "metadata": {},
   "source": [
    "Este arbol esta sobreajustado. Lo que podemos hacer es pasar a un algoritmo de muchos arboles como el Random Forest."
   ]
  }
 ],
 "metadata": {
  "kernelspec": {
   "display_name": "Python 3 (ipykernel)",
   "language": "python",
   "name": "python3"
  },
  "language_info": {
   "codemirror_mode": {
    "name": "ipython",
    "version": 3
   },
   "file_extension": ".py",
   "mimetype": "text/x-python",
   "name": "python",
   "nbconvert_exporter": "python",
   "pygments_lexer": "ipython3",
   "version": "3.9.13"
  }
 },
 "nbformat": 4,
 "nbformat_minor": 5
}
